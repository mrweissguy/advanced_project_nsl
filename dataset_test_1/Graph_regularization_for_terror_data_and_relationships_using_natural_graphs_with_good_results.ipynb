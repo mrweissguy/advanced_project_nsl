{
 "cells": [
  {
   "cell_type": "markdown",
   "metadata": {},
   "source": [
    "### Preprocessing data"
   ]
  },
  {
   "cell_type": "markdown",
   "metadata": {
    "colab_type": "text",
    "id": "DADUIVuPIqYi"
   },
   "source": [
    "##### Copyright 2019 Google LLC"
   ]
  },
  {
   "cell_type": "code",
   "execution_count": 1,
   "metadata": {
    "cellView": "form",
    "colab": {},
    "colab_type": "code",
    "id": "Cu1zPez8Ip1S"
   },
   "outputs": [],
   "source": [
    "#@title Licensed under the Apache License, Version 2.0 (the \"License\");\n",
    "# you may not use this file except in compliance with the License.\n",
    "# You may obtain a copy of the License at\n",
    "#\n",
    "#     https://www.apache.org/licenses/LICENSE-2.0\n",
    "#\n",
    "# Unless required by applicable law or agreed to in writing, software\n",
    "# distributed under the License is distributed on an \"AS IS\" BASIS,\n",
    "# WITHOUT WARRANTIES OR CONDITIONS OF ANY KIND, either express or implied.\n",
    "# See the License for the specific language governing permissions and\n",
    "# limitations under the License."
   ]
  },
  {
   "cell_type": "markdown",
   "metadata": {},
   "source": [
    "On data \n",
    "*Terrorists are linked to each other if they contact each other, use the same facility, are members of the same family, or belong to the same terrorist organization.*"
   ]
  },
  {
   "cell_type": "markdown",
   "metadata": {
    "colab_type": "text",
    "id": "nlIh_TPLI54s"
   },
   "source": [
    "# Graph regularization for document classification using natural graphs"
   ]
  },
  {
   "cell_type": "markdown",
   "metadata": {
    "colab_type": "text",
    "id": "pL9fF9FWI-Q1"
   },
   "source": [
    "<table class=\"tfo-notebook-buttons\" align=\"left\">\n",
    "  <td>\n",
    "    <a target=\"_blank\" href=\"https://www.tensorflow.org/neural_structured_learning/tutorials/graph_keras_mlp_cora\"><img src=\"https://www.tensorflow.org/images/tf_logo_32px.png\" />View on TensorFlow.org</a>\n",
    "  </td>\n",
    "  <td>\n",
    "    <a target=\"_blank\" href=\"https://colab.research.google.com/github/tensorflow/neural-structured-learning/blob/master/g3doc/tutorials/graph_keras_mlp_cora.ipynb\"><img src=\"https://www.tensorflow.org/images/colab_logo_32px.png\" />Run in Google Colab</a>\n",
    "  </td>\n",
    "  <td>\n",
    "    <a target=\"_blank\" href=\"https://github.com/tensorflow/neural-structured-learning/blob/master/g3doc/tutorials/graph_keras_mlp_cora.ipynb\"><img src=\"https://www.tensorflow.org/images/GitHub-Mark-32px.png\" />View source on GitHub</a>\n",
    "  </td>\n",
    "</table>"
   ]
  },
  {
   "cell_type": "markdown",
   "metadata": {
    "colab_type": "text",
    "id": "jJlN8oxhNGto"
   },
   "source": [
    "## Overview\n",
    "\n",
    "Graph regularization is a specific technique under the broader paradigm of\n",
    "Neural Graph Learning\n",
    "([Bui et al., 2018](https://ai.google/research/pubs/pub46568.pdf)). The core\n",
    "idea is to train neural network models with a graph-regularized objective,\n",
    "harnessing both labeled and unlabeled data.\n",
    "\n",
    "In this tutorial, we will explore the use of graph regularization to classify\n",
    "documents that form a natural (organic) graph.\n",
    "\n",
    "The general recipe for creating a graph-regularized model using the Neural\n",
    "Structured Learning (NSL) framework is as follows:\n",
    "\n",
    "1.  Generate training data from the input graph and sample features. Nodes in\n",
    "    the graph correspond to samples and edges in the graph correspond to\n",
    "    similarity between pairs of samples. The resulting training data will\n",
    "    contain neighbor features in addition to the original node features.\n",
    "2.  Create a neural network as a base model using the `Keras` sequential,\n",
    "    functional, or subclass API.\n",
    "3.  Wrap the base model with the **`GraphRegularization`** wrapper class, which\n",
    "    is provided by the NSL framework, to create a new graph `Keras` model. This\n",
    "    new model will include a graph regularization loss as the regularization\n",
    "    term in its training objective.\n",
    "4.  Train and evaluate the graph `Keras` model."
   ]
  },
  {
   "cell_type": "markdown",
   "metadata": {},
   "source": [
    "## Overview\n",
    "\n",
    "Graph regularization is a specific technique under the broader paradigm of\n",
    "Neural Graph Learning\n",
    "([Bui et al., 2018](https://ai.google/research/pubs/pub46568.pdf)). The core\n",
    "idea is to train neural network models with a graph-regularized objective,\n",
    "harnessing both labeled and unlabeled data.\n",
    "\n",
    "We will explore the use of graph regularization to classify relationships between terrorists,\n",
    "that form a natural (organic) graph.\n",
    "\n",
    "The general recipe for creating a graph-regularized model using the Neural\n",
    "Structured Learning (NSL) framework is as follows:\n",
    "\n",
    "1.  Generate training data from the input graph and sample features. Nodes in\n",
    "    the graph correspond to samples and edges in the graph correspond to\n",
    "    similarity between pairs of samples. The resulting training data will\n",
    "    contain neighbor features in addition to the original node features.\n",
    "2.  Create a neural network as a base model using the `Keras` sequential,\n",
    "    functional, or subclass API.\n",
    "3.  Wrap the base model with the **`GraphRegularization`** wrapper class, which\n",
    "    is provided by the NSL framework, to create a new graph `Keras` model. This\n",
    "    new model will include a graph regularization loss as the regularization\n",
    "    term in its training objective.\n",
    "4.  Train and evaluate the graph `Keras` model."
   ]
  },
  {
   "cell_type": "markdown",
   "metadata": {
    "colab_type": "text",
    "id": "nDOFbB34KY1R"
   },
   "source": [
    "## Setup\n",
    "\n"
   ]
  },
  {
   "cell_type": "markdown",
   "metadata": {
    "colab_type": "text",
    "id": "hgSLDi0SyBuO"
   },
   "source": [
    "1.  Select TensorFlow 2.x to create an interactive development environment with eager execution.\n",
    "2.  Install the Neural Structured Learning package."
   ]
  },
  {
   "cell_type": "code",
   "execution_count": 2,
   "metadata": {
    "colab": {},
    "colab_type": "code",
    "id": "gh6K6Onyy5bd"
   },
   "outputs": [
    {
     "name": "stdout",
     "output_type": "stream",
     "text": [
      "\u001b[31mERROR: Could not find a version that satisfies the requirement tensorflow-gpu (from versions: none)\u001b[0m\r\n",
      "\u001b[31mERROR: No matching distribution found for tensorflow-gpu\u001b[0m\r\n"
     ]
    }
   ],
   "source": [
    "try:\n",
    "  # %tensorflow_version only exists in Colab.\n",
    "  %tensorflow_version 2.x\n",
    "except Exception:\n",
    "  !pip install tensorflow-gpu>=2.0.0"
   ]
  },
  {
   "cell_type": "code",
   "execution_count": 3,
   "metadata": {
    "colab": {},
    "colab_type": "code",
    "id": "uVnjPmOaQlnH"
   },
   "outputs": [],
   "source": [
    "!pip install --quiet neural-structured-learning"
   ]
  },
  {
   "cell_type": "markdown",
   "metadata": {
    "colab_type": "text",
    "id": "0AiNrPJaX_Lb"
   },
   "source": [
    "## Dependencies and imports"
   ]
  },
  {
   "cell_type": "code",
   "execution_count": 4,
   "metadata": {},
   "outputs": [],
   "source": [
    "from __future__ import absolute_import, division, print_function, unicode_literals\n",
    "\n",
    "import neural_structured_learning as nsl\n",
    "\n",
    "import tensorflow as tf"
   ]
  },
  {
   "cell_type": "code",
   "execution_count": null,
   "metadata": {},
   "outputs": [],
   "source": []
  },
  {
   "cell_type": "markdown",
   "metadata": {
    "colab_type": "text",
    "id": "RtbcGZ_N6Ll9"
   },
   "source": [
    "## Cora dataset\n",
    "\n",
    "The [Cora dataset](https://linqs.soe.ucsc.edu/data) is a citation graph where\n",
    "nodes represent machine learning papers and edges represent citations between\n",
    "pairs of papers. The task involved is document classification where the goal is\n",
    "to categorize each paper into one of 7 categories. In other words, this is a\n",
    "multi-class classification problem with 7 classes.\n",
    "\n",
    "### Graph\n",
    "\n",
    "The original graph is directed. However, for the purpose of this example, we\n",
    "consider the undirected version of this graph. So, if paper A cites paper B, we\n",
    "also consider paper B to have cited A. Although this is not necessarily true, in\n",
    "this example, we consider citations as a proxy for similarity, which is usually\n",
    "a commutative property.\n",
    "\n",
    "### Features\n",
    "\n",
    "Each paper in the input effectively contains 2 features:\n",
    "\n",
    "1.  **Words**: A dense, multi-hot bag-of-words representation of the text in the\n",
    "    paper. The vocabulary for the Cora dataset contains 1433 unique words. So,\n",
    "    the length of this feature is 1433, and the value at position 'i' is 0/1\n",
    "    indicating whether word 'i' in the vocabulary exists in the given paper or\n",
    "    not.\n",
    "\n",
    "2.  **Label**: A single integer representing the class ID (category) of the paper."
   ]
  },
  {
   "cell_type": "markdown",
   "metadata": {
    "colab_type": "text",
    "id": "p2-FVpVHEyIS"
   },
   "source": [
    "### Download the Cora dataset"
   ]
  },
  {
   "cell_type": "code",
   "execution_count": 5,
   "metadata": {
    "colab": {},
    "colab_type": "code",
    "id": "2nSZjKqwE6Rn"
   },
   "outputs": [
    {
     "name": "stdout",
     "output_type": "stream",
     "text": [
      "x CustomTerroristRel/\r\n",
      "x CustomTerroristRel/TerroristRel_Family.nodes\r\n",
      "x CustomTerroristRel/TerroristRel_Colleague.nodes\r\n",
      "x CustomTerroristRel/TerroristRel_Contact.nodes\r\n",
      "x CustomTerroristRel/.DS_Store\r\n",
      "x CustomTerroristRel/collected.nodes\r\n",
      "x CustomTerroristRel/README\r\n",
      "x CustomTerroristRel/TerroristRel.labels\r\n",
      "x CustomTerroristRel/TerroristRel_Congregate.nodes\r\n",
      "x CustomTerroristRel/TerroristRel.edges\r\n"
     ]
    }
   ],
   "source": [
    "# !wget --quiet -P /tmp https://linqs-data.soe.ucsc.edu/public/lbc/TerroristRel.tgz \n",
    "# !wget --quiet -P /tmp https://github.com/mrweissguy/nsl/tree/master/data/TerroristRel\n",
    "       \n",
    "# !tar -C /tmp -xvzf /tmp/cora.tgz\n",
    "# !tar -C /tmp -xvzf /tmp/TerroristRel.tgz\n",
    "!tar -C /tmp -xvzf /Users/johanweisshansen/Desktop/nsl-master/dataset_test_1/data/CustomTerroristRel.tgz"
   ]
  },
  {
   "cell_type": "markdown",
   "metadata": {
    "colab_type": "text",
    "id": "ylYP32_IoqZI"
   },
   "source": [
    "### Convert the Cora data to the NSL format\n",
    "\n",
    "In order to preprocess the Terrorist Relations dataset and convert it to the format required by\n",
    "Neural Structured Learning, we will run the **'preprocess_cora_dataset.py'**\n",
    "script, which is included in the NSL github repository. This script does the\n",
    "following:\n",
    "\n",
    "1.  Generate neighbor features using the original node features and the graph.\n",
    "2.  Generate train and test data splits containing `tf.train.Example` instances.\n",
    "3.  Persist the resulting train and test data in the `TFRecord` format."
   ]
  },
  {
   "cell_type": "code",
   "execution_count": 6,
   "metadata": {
    "colab": {},
    "colab_type": "code",
    "id": "Myz01LVZQ8Uh",
    "scrolled": true
   },
   "outputs": [
    {
     "name": "stdout",
     "output_type": "stream",
     "text": [
      "preprocessing_terror_dataset.py:138: DeprecationWarning: 'U' mode is deprecated\n",
      "  with open(in_file, 'rU') as cora_content:\n",
      "Reading graph file: /tmp/CustomTerroristRel/TerroristRel.edges...\n",
      "Done reading 8592 edges from: /tmp/CustomTerroristRel/TerroristRel.edges (0.01 seconds).\n",
      "Making all edges bi-directional...\n",
      "Done (0.01 seconds). Total graph nodes: 881\n",
      "Joining seed and neighbor tf.train.Examples with graph edges...\n",
      "W1127 10:55:49.359920 4522884544 preprocessing_terror_dataset.py:191] No tf.train.Example found for edge target ID: \"http://profilesinterror.mindswap.org/document/29#MohammedSchreim_http://profilesinterror.mindswap.org/document/29#NasserWatimi\"\n",
      "W1127 10:55:49.361066 4522884544 preprocessing_terror_dataset.py:191] No tf.train.Example found for edge target ID: \"http://profilesinterror.mindswap.org/document/2005/08/09/16:36:24#_http://profilesinterror.mindswap.org/document/2005/08/09/16:43:04#\"\n",
      "W1127 10:55:49.361141 4522884544 preprocessing_terror_dataset.py:191] No tf.train.Example found for edge target ID: \"http://counterterror.mindswap.org/2005/terrorists.owl#Djamel_Beghal_http://counterterror.mindswap.org/2005/terrorists.owl#Nizar_Trabelsi\"\n",
      "W1127 10:55:49.361757 4522884544 preprocessing_terror_dataset.py:191] No tf.train.Example found for edge target ID: \"http://profilesinterror.mindswap.org/document/2005/12/20/20:55:53#_http://profilesinterror.mindswap.org/document/2005/09/08/04:39:17#\"\n",
      "W1127 10:55:49.362865 4522884544 preprocessing_terror_dataset.py:191] No tf.train.Example found for edge target ID: \"http://counterterror.mindswap.org/2005/terrorists.owl#Richard_Colvin_Reid_http://profilesinterror.mindswap.org/document/2005/09/07/09:36:59#\"\n",
      "W1127 10:55:49.362928 4522884544 preprocessing_terror_dataset.py:191] No tf.train.Example found for edge target ID: \"http://counterterror.mindswap.org/2005/terrorists.owl#Nizar_Trabelsi_http://counterterror.mindswap.org/2005/terrorists.owl#Richard_Colvin_Reid\"\n",
      "W1127 10:55:49.366059 4522884544 preprocessing_terror_dataset.py:191] No tf.train.Example found for edge target ID: \"http://profilesinterror.mindswap.org/document/11#AhmedRessam_http://profilesinterror.mindswap.org/document/2005/06/17/00:42:19#Mourad_Ikhlef\"\n",
      "W1127 10:55:49.366122 4522884544 preprocessing_terror_dataset.py:191] No tf.train.Example found for edge target ID: \"http://profilesinterror.mindswap.org/document/11#AhmedRessam_http://counterterror.mindswap.org/2005/terrorists.owl#Abderraouf_Hannachi\"\n",
      "W1127 10:55:49.368170 4522884544 preprocessing_terror_dataset.py:191] No tf.train.Example found for edge target ID: \"http://profilesinterror.mindswap.org/document/2006/03/17/05:42:48#_http://profilesinterror.mindswap.org/document/2006/03/15/04:58:21#\"\n",
      "W1127 10:55:49.368232 4522884544 preprocessing_terror_dataset.py:191] No tf.train.Example found for edge target ID: \"http://profilesinterror.mindswap.org/document/2006/03/15/22:21:03#_http://profilesinterror.mindswap.org/document/2006/03/15/04:58:21#\"\n",
      "W1127 10:55:49.368280 4522884544 preprocessing_terror_dataset.py:191] No tf.train.Example found for edge target ID: \"http://profilesinterror.mindswap.org/document/2006/03/17/05:47:04#_http://profilesinterror.mindswap.org/document/2006/03/15/04:58:21#\"\n",
      "W1127 10:55:49.371517 4522884544 preprocessing_terror_dataset.py:191] No tf.train.Example found for edge target ID: \"http://profilesinterror.mindswap.org/document/4#Ramzi_Yousef_http://profilesinterror.mindswap.org/document/19#Nidal_Ayyad\"\n",
      "W1127 10:55:49.371587 4522884544 preprocessing_terror_dataset.py:191] No tf.train.Example found for edge target ID: \"http://profilesinterror.mindswap.org/document/19#EyadIsmoil_http://profilesinterror.mindswap.org/document/4#Ramzi_Yousef\"\n",
      "W1127 10:55:49.371637 4522884544 preprocessing_terror_dataset.py:191] No tf.train.Example found for edge target ID: \"http://profilesinterror.mindswap.org/document/19#AhmadAjaj_http://profilesinterror.mindswap.org/document/4#Ramzi_Yousef\"\n",
      "W1127 10:55:49.371682 4522884544 preprocessing_terror_dataset.py:191] No tf.train.Example found for edge target ID: \"http://profilesinterror.mindswap.org/document/19#MohammedSalameh_http://profilesinterror.mindswap.org/document/4#Ramzi_Yousef\"\n",
      "W1127 10:55:49.375658 4522884544 preprocessing_terror_dataset.py:191] No tf.train.Example found for edge target ID: \"http://profilesinterror.mindswap.org/document/4#Ramzi_Yousef_http://profilesinterror.mindswap.org/document/19#Nidal_Ayyad\"\n",
      "W1127 10:55:49.375766 4522884544 preprocessing_terror_dataset.py:191] No tf.train.Example found for edge target ID: \"http://profilesinterror.mindswap.org/document/19#EyadIsmoil_http://profilesinterror.mindswap.org/document/4#Ramzi_Yousef\"\n",
      "W1127 10:55:49.375821 4522884544 preprocessing_terror_dataset.py:191] No tf.train.Example found for edge target ID: \"http://profilesinterror.mindswap.org/document/19#AhmadAjaj_http://profilesinterror.mindswap.org/document/4#Ramzi_Yousef\"\n",
      "W1127 10:55:49.375866 4522884544 preprocessing_terror_dataset.py:191] No tf.train.Example found for edge target ID: \"http://profilesinterror.mindswap.org/document/19#MohammedSalameh_http://profilesinterror.mindswap.org/document/4#Ramzi_Yousef\"\n",
      "W1127 10:55:49.379185 4522884544 preprocessing_terror_dataset.py:191] No tf.train.Example found for edge target ID: \"http://profilesinterror.mindswap.org/document/2006/03/17/05:47:04#_http://profilesinterror.mindswap.org/document/2006/03/15/04:58:21#\"\n",
      "W1127 10:55:49.379278 4522884544 preprocessing_terror_dataset.py:191] No tf.train.Example found for edge target ID: \"http://profilesinterror.mindswap.org/document/2006/03/17/05:42:48#_http://profilesinterror.mindswap.org/document/2006/03/17/05:47:04#\"\n",
      "W1127 10:55:49.381601 4522884544 preprocessing_terror_dataset.py:191] No tf.train.Example found for edge target ID: \"http://profilesinterror.mindswap.org/document/27#FarouqQaddoumi_http://profilesinterror.mindswap.org/document/2005/05/24/18:26:22#Khaled_al-Fahoum\"\n",
      "W1127 10:55:49.383205 4522884544 preprocessing_terror_dataset.py:191] No tf.train.Example found for edge target ID: \"http://profilesinterror.mindswap.org/document/2005/12/20/20:55:53#_http://profilesinterror.mindswap.org/document/2005/09/08/04:39:17#\"\n",
      "W1127 10:55:49.387860 4522884544 preprocessing_terror_dataset.py:191] No tf.train.Example found for edge target ID: \"http://profilesinterror.mindswap.org/document/19#MohammedSalameh_http://profilesinterror.mindswap.org/document/19#AhmadAjaj\"\n",
      "W1127 10:55:49.388031 4522884544 preprocessing_terror_dataset.py:191] No tf.train.Example found for edge target ID: \"http://profilesinterror.mindswap.org/document/19#AhmadAjaj_http://profilesinterror.mindswap.org/document/19#Nidal_Ayyad\"\n",
      "W1127 10:55:49.388111 4522884544 preprocessing_terror_dataset.py:191] No tf.train.Example found for edge target ID: \"http://profilesinterror.mindswap.org/document/19#AhmadAjaj_http://profilesinterror.mindswap.org/document/4#Ramzi_Yousef\"\n",
      "W1127 10:55:49.388740 4522884544 preprocessing_terror_dataset.py:191] No tf.train.Example found for edge target ID: \"http://counterterror.mindswap.org/2005/terrorists.owl#Richard_Colvin_Reid_http://profilesinterror.mindswap.org/document/2005/09/07/09:36:59#\"\n",
      "W1127 10:55:49.388839 4522884544 preprocessing_terror_dataset.py:191] No tf.train.Example found for edge target ID: \"http://counterterror.mindswap.org/2005/terrorists.owl#Nizar_Trabelsi_http://profilesinterror.mindswap.org/document/2005/09/07/09:36:59#\"\n",
      "W1127 10:55:49.389471 4522884544 preprocessing_terror_dataset.py:191] No tf.train.Example found for edge target ID: \"http://profilesinterror.mindswap.org/document/2006/03/17/05:42:48#_http://profilesinterror.mindswap.org/document/2006/03/17/05:47:04#\"\n",
      "W1127 10:55:49.389573 4522884544 preprocessing_terror_dataset.py:191] No tf.train.Example found for edge target ID: \"http://profilesinterror.mindswap.org/document/2006/03/17/05:47:04#_http://profilesinterror.mindswap.org/document/2006/03/15/04:58:21#\"\n",
      "W1127 10:55:49.390769 4522884544 preprocessing_terror_dataset.py:191] No tf.train.Example found for edge target ID: \"http://profilesinterror.mindswap.org/document/29#MohammedSchreim_http://profilesinterror.mindswap.org/document/29#NasserWatimi\"\n",
      "W1127 10:55:49.391425 4522884544 preprocessing_terror_dataset.py:191] No tf.train.Example found for edge target ID: \"http://profilesinterror.mindswap.org/document/2005/12/20/20:55:53#_http://profilesinterror.mindswap.org/document/2005/09/08/04:39:17#\"\n",
      "W1127 10:55:49.393189 4522884544 preprocessing_terror_dataset.py:191] No tf.train.Example found for edge target ID: \"http://profilesinterror.mindswap.org/document/29#FathiKhatib_http://profilesinterror.mindswap.org/document/29#MuammarSheikh\"\n",
      "W1127 10:55:49.396120 4522884544 preprocessing_terror_dataset.py:191] No tf.train.Example found for edge target ID: \"http://profilesinterror.mindswap.org/document/11#AhmedRessam_http://counterterror.mindswap.org/2005/terrorists.owl#Abderraouf_Hannachi\"\n",
      "W1127 10:55:49.397491 4522884544 preprocessing_terror_dataset.py:191] No tf.train.Example found for edge target ID: \"http://profilesinterror.mindswap.org/document/2005/12/22/19:57:48#_http://counterterror.mindswap.org/2005/terrorists.owl#Lionel_Dumont\"\n",
      "W1127 10:55:49.401081 4522884544 preprocessing_terror_dataset.py:191] No tf.train.Example found for edge target ID: \"http://counterterror.mindswap.org/2005/terrorists.owl#Nizar_Trabelsi_http://profilesinterror.mindswap.org/document/2005/09/07/09:36:59#\"\n",
      "W1127 10:55:49.401210 4522884544 preprocessing_terror_dataset.py:191] No tf.train.Example found for edge target ID: \"http://counterterror.mindswap.org/2005/terrorists.owl#Nizar_Trabelsi_http://counterterror.mindswap.org/2005/terrorists.owl#Richard_Colvin_Reid\"\n",
      "W1127 10:55:49.401274 4522884544 preprocessing_terror_dataset.py:191] No tf.train.Example found for edge target ID: \"http://counterterror.mindswap.org/2005/terrorists.owl#Djamel_Beghal_http://counterterror.mindswap.org/2005/terrorists.owl#Nizar_Trabelsi\"\n",
      "W1127 10:55:49.402852 4522884544 preprocessing_terror_dataset.py:191] No tf.train.Example found for edge target ID: \"http://profilesinterror.mindswap.org/document/19#EyadIsmoil_http://profilesinterror.mindswap.org/document/19#Nidal_Ayyad\"\n",
      "W1127 10:55:49.402916 4522884544 preprocessing_terror_dataset.py:191] No tf.train.Example found for edge target ID: \"http://profilesinterror.mindswap.org/document/19#EyadIsmoil_http://profilesinterror.mindswap.org/document/4#Ramzi_Yousef\"\n",
      "W1127 10:55:49.402961 4522884544 preprocessing_terror_dataset.py:191] No tf.train.Example found for edge target ID: \"http://profilesinterror.mindswap.org/document/19#MohammedSalameh_http://profilesinterror.mindswap.org/document/19#EyadIsmoil\"\n",
      "W1127 10:55:49.403511 4522884544 preprocessing_terror_dataset.py:191] No tf.train.Example found for edge target ID: \"http://profilesinterror.mindswap.org/document/2005/07/28/16:02:44#Germaine_Lindsay_http://profilesinterror.mindswap.org/document/2005/07/28/15:59:18#Mohammad_Sidique_Khan\"\n",
      "W1127 10:55:49.405603 4522884544 preprocessing_terror_dataset.py:191] No tf.train.Example found for edge target ID: \"http://counterterror.mindswap.org/2005/terrorists.owl#Richard_Colvin_Reid_http://profilesinterror.mindswap.org/document/2005/09/07/09:36:59#\"\n",
      "W1127 10:55:49.405674 4522884544 preprocessing_terror_dataset.py:191] No tf.train.Example found for edge target ID: \"http://counterterror.mindswap.org/2005/terrorists.owl#Nizar_Trabelsi_http://profilesinterror.mindswap.org/document/2005/09/07/09:36:59#\"\n",
      "W1127 10:55:49.410681 4522884544 preprocessing_terror_dataset.py:191] No tf.train.Example found for edge target ID: \"http://profilesinterror.mindswap.org/document/2005/08/09/16:36:24#_http://profilesinterror.mindswap.org/document/2005/08/09/16:43:04#\"\n",
      "W1127 10:55:49.419921 4522884544 preprocessing_terror_dataset.py:191] No tf.train.Example found for edge target ID: \"http://counterterror.mindswap.org/2005/terrorists.owl#Nizar_Trabelsi_http://counterterror.mindswap.org/2005/terrorists.owl#Richard_Colvin_Reid\"\n",
      "W1127 10:55:49.420003 4522884544 preprocessing_terror_dataset.py:191] No tf.train.Example found for edge target ID: \"http://counterterror.mindswap.org/2005/terrorists.owl#Richard_Colvin_Reid_http://profilesinterror.mindswap.org/document/2005/09/07/09:36:59#\"\n"
     ]
    },
    {
     "name": "stdout",
     "output_type": "stream",
     "text": [
      "W1127 10:55:49.423077 4522884544 preprocessing_terror_dataset.py:191] No tf.train.Example found for edge target ID: \"http://counterterror.mindswap.org/2005/terrorists.owl#Richard_Colvin_Reid_http://profilesinterror.mindswap.org/document/2005/09/07/09:36:59#\"\r\n",
      "W1127 10:55:49.423145 4522884544 preprocessing_terror_dataset.py:191] No tf.train.Example found for edge target ID: \"http://profilesinterror.mindswap.org/document/2005/08/09/16:36:24#_http://profilesinterror.mindswap.org/document/2005/08/09/16:43:04#\"\r\n",
      "W1127 10:55:49.423194 4522884544 preprocessing_terror_dataset.py:191] No tf.train.Example found for edge target ID: \"http://counterterror.mindswap.org/2005/terrorists.owl#Nizar_Trabelsi_http://profilesinterror.mindswap.org/document/2005/09/07/09:36:59#\"\r\n",
      "W1127 10:55:49.424400 4522884544 preprocessing_terror_dataset.py:191] No tf.train.Example found for edge target ID: \"http://counterterror.mindswap.org/2005/terrorists.owl#Richard_Colvin_Reid_http://profilesinterror.mindswap.org/document/2005/09/07/09:36:59#\"\r\n",
      "W1127 10:55:49.424473 4522884544 preprocessing_terror_dataset.py:191] No tf.train.Example found for edge target ID: \"http://counterterror.mindswap.org/2005/terrorists.owl#Nizar_Trabelsi_http://profilesinterror.mindswap.org/document/2005/09/07/09:36:59#\"\r\n",
      "W1127 10:55:49.426246 4522884544 preprocessing_terror_dataset.py:191] No tf.train.Example found for edge target ID: \"http://profilesinterror.mindswap.org/document/2005/07/28/16:02:44#Germaine_Lindsay_http://profilesinterror.mindswap.org/document/2005/07/28/15:59:18#Mohammad_Sidique_Khan\"\r\n",
      "W1127 10:55:49.426840 4522884544 preprocessing_terror_dataset.py:191] No tf.train.Example found for edge target ID: \"http://counterterror.mindswap.org/2005/terrorists.owl#Richard_Colvin_Reid_http://profilesinterror.mindswap.org/document/2005/09/07/09:36:59#\"\r\n",
      "W1127 10:55:49.426905 4522884544 preprocessing_terror_dataset.py:191] No tf.train.Example found for edge target ID: \"http://counterterror.mindswap.org/2005/terrorists.owl#Nizar_Trabelsi_http://counterterror.mindswap.org/2005/terrorists.owl#Richard_Colvin_Reid\"\r\n",
      "W1127 10:55:49.432945 4522884544 preprocessing_terror_dataset.py:191] No tf.train.Example found for edge target ID: \"http://profilesinterror.mindswap.org/document/2005/07/28/16:02:44#Germaine_Lindsay_http://profilesinterror.mindswap.org/document/2005/07/28/15:59:18#Mohammad_Sidique_Khan\"\r\n",
      "W1127 10:55:49.435088 4522884544 preprocessing_terror_dataset.py:191] No tf.train.Example found for edge target ID: \"http://counterterror.mindswap.org/2005/terrorists.owl#Nizar_Trabelsi_http://profilesinterror.mindswap.org/document/2005/09/07/09:36:59#\"\r\n",
      "W1127 10:55:49.435158 4522884544 preprocessing_terror_dataset.py:191] No tf.train.Example found for edge target ID: \"http://counterterror.mindswap.org/2005/terrorists.owl#Nizar_Trabelsi_http://counterterror.mindswap.org/2005/terrorists.owl#Richard_Colvin_Reid\"\r\n",
      "W1127 10:55:49.435210 4522884544 preprocessing_terror_dataset.py:191] No tf.train.Example found for edge target ID: \"http://profilesinterror.mindswap.org/document/2005/08/09/16:36:24#_http://profilesinterror.mindswap.org/document/2005/08/09/16:43:04#\"\r\n",
      "W1127 10:55:49.435259 4522884544 preprocessing_terror_dataset.py:191] No tf.train.Example found for edge target ID: \"http://counterterror.mindswap.org/2005/terrorists.owl#Djamel_Beghal_http://counterterror.mindswap.org/2005/terrorists.owl#Nizar_Trabelsi\"\r\n",
      "W1127 10:55:49.440322 4522884544 preprocessing_terror_dataset.py:191] No tf.train.Example found for edge target ID: \"http://profilesinterror.mindswap.org/document/2006/03/17/05:42:48#_http://profilesinterror.mindswap.org/document/2006/03/15/04:58:21#\"\r\n",
      "W1127 10:55:49.440441 4522884544 preprocessing_terror_dataset.py:191] No tf.train.Example found for edge target ID: \"http://profilesinterror.mindswap.org/document/2006/03/17/05:42:48#_http://profilesinterror.mindswap.org/document/2006/03/15/22:21:03#\"\r\n",
      "W1127 10:55:49.440495 4522884544 preprocessing_terror_dataset.py:191] No tf.train.Example found for edge target ID: \"http://profilesinterror.mindswap.org/document/2006/03/17/05:42:48#_http://profilesinterror.mindswap.org/document/2006/03/17/05:47:04#\"\r\n",
      "W1127 10:55:49.442152 4522884544 preprocessing_terror_dataset.py:191] No tf.train.Example found for edge target ID: \"http://profilesinterror.mindswap.org/document/2005/08/09/16:36:24#_http://profilesinterror.mindswap.org/document/2005/08/09/16:43:04#\"\r\n",
      "W1127 10:55:49.442767 4522884544 preprocessing_terror_dataset.py:191] No tf.train.Example found for edge target ID: \"http://profilesinterror.mindswap.org/document/2005/07/28/16:02:44#Germaine_Lindsay_http://profilesinterror.mindswap.org/document/2005/07/28/15:59:18#Mohammad_Sidique_Khan\"\r\n",
      "W1127 10:55:49.443368 4522884544 preprocessing_terror_dataset.py:191] No tf.train.Example found for edge target ID: \"http://profilesinterror.mindswap.org/document/2005/08/09/16:36:24#_http://profilesinterror.mindswap.org/document/2005/08/09/16:43:04#\"\r\n",
      "W1127 10:55:49.446130 4522884544 preprocessing_terror_dataset.py:191] No tf.train.Example found for edge target ID: \"http://profilesinterror.mindswap.org/document/2005/07/28/16:02:44#Germaine_Lindsay_http://profilesinterror.mindswap.org/document/2005/07/28/15:59:18#Mohammad_Sidique_Khan\"\r\n",
      "W1127 10:55:49.446437 4522884544 preprocessing_terror_dataset.py:191] No tf.train.Example found for edge target ID: \"http://counterterror.mindswap.org/2005/terrorists.owl#Richard_Colvin_Reid_http://profilesinterror.mindswap.org/document/2005/09/07/09:36:59#\"\r\n",
      "W1127 10:55:49.446516 4522884544 preprocessing_terror_dataset.py:191] No tf.train.Example found for edge target ID: \"http://counterterror.mindswap.org/2005/terrorists.owl#Nizar_Trabelsi_http://profilesinterror.mindswap.org/document/2005/09/07/09:36:59#\"\r\n",
      "W1127 10:55:49.448227 4522884544 preprocessing_terror_dataset.py:191] No tf.train.Example found for edge target ID: \"http://counterterror.mindswap.org/2005/terrorists.owl#Richard_Colvin_Reid_http://profilesinterror.mindswap.org/document/2005/09/07/09:36:59#\"\r\n",
      "W1127 10:55:49.448332 4522884544 preprocessing_terror_dataset.py:191] No tf.train.Example found for edge target ID: \"http://counterterror.mindswap.org/2005/terrorists.owl#Nizar_Trabelsi_http://profilesinterror.mindswap.org/document/2005/09/07/09:36:59#\"\r\n",
      "W1127 10:55:49.448949 4522884544 preprocessing_terror_dataset.py:191] No tf.train.Example found for edge target ID: \"http://profilesinterror.mindswap.org/document/29#FathiKhatib_http://profilesinterror.mindswap.org/document/29#MuammarSheikh\"\r\n",
      "W1127 10:55:49.453480 4522884544 preprocessing_terror_dataset.py:191] No tf.train.Example found for edge target ID: \"http://profilesinterror.mindswap.org/document/27#FarouqQaddoumi_http://profilesinterror.mindswap.org/document/2005/05/24/18:26:22#Khaled_al-Fahoum\"\r\n",
      "W1127 10:55:49.454693 4522884544 preprocessing_terror_dataset.py:191] No tf.train.Example found for edge target ID: \"http://counterterror.mindswap.org/2005/terrorists.owl#Richard_Colvin_Reid_http://profilesinterror.mindswap.org/document/2005/09/07/09:36:59#\"\r\n",
      "W1127 10:55:49.454765 4522884544 preprocessing_terror_dataset.py:191] No tf.train.Example found for edge target ID: \"http://counterterror.mindswap.org/2005/terrorists.owl#Nizar_Trabelsi_http://profilesinterror.mindswap.org/document/2005/09/07/09:36:59#\"\r\n",
      "W1127 10:55:49.456335 4522884544 preprocessing_terror_dataset.py:191] No tf.train.Example found for edge target ID: \"http://profilesinterror.mindswap.org/document/27#FarouqQaddoumi_http://profilesinterror.mindswap.org/document/2005/05/24/18:26:22#Khaled_al-Fahoum\"\r\n",
      "W1127 10:55:49.457904 4522884544 preprocessing_terror_dataset.py:191] No tf.train.Example found for edge target ID: \"http://profilesinterror.mindswap.org/document/2005/12/22/19:57:48#_http://counterterror.mindswap.org/2005/terrorists.owl#Lionel_Dumont\"\r\n",
      "W1127 10:55:49.458482 4522884544 preprocessing_terror_dataset.py:191] No tf.train.Example found for edge target ID: \"http://profilesinterror.mindswap.org/document/2005/07/28/16:02:44#Germaine_Lindsay_http://profilesinterror.mindswap.org/document/2005/07/28/15:59:18#Mohammad_Sidique_Khan\"\r\n",
      "W1127 10:55:49.460930 4522884544 preprocessing_terror_dataset.py:191] No tf.train.Example found for edge target ID: \"http://counterterror.mindswap.org/2005/terrorists.owl#Djamel_Beghal_http://counterterror.mindswap.org/2005/terrorists.owl#Nizar_Trabelsi\"\r\n",
      "W1127 10:55:49.462933 4522884544 preprocessing_terror_dataset.py:191] No tf.train.Example found for edge target ID: \"http://profilesinterror.mindswap.org/document/2005/07/28/16:02:44#Germaine_Lindsay_http://profilesinterror.mindswap.org/document/2005/07/28/15:59:18#Mohammad_Sidique_Khan\"\r\n",
      "W1127 10:55:49.464516 4522884544 preprocessing_terror_dataset.py:191] No tf.train.Example found for edge target ID: \"http://profilesinterror.mindswap.org/document/2006/03/17/05:42:48#_http://profilesinterror.mindswap.org/document/2006/03/17/05:47:04#\"\r\n",
      "W1127 10:55:49.464579 4522884544 preprocessing_terror_dataset.py:191] No tf.train.Example found for edge target ID: \"http://profilesinterror.mindswap.org/document/2006/03/17/05:47:04#_http://profilesinterror.mindswap.org/document/2006/03/15/04:58:21#\"\r\n",
      "W1127 10:55:49.466250 4522884544 preprocessing_terror_dataset.py:191] No tf.train.Example found for edge target ID: \"http://profilesinterror.mindswap.org/document/2005/12/20/20:55:53#_http://profilesinterror.mindswap.org/document/2005/09/08/04:39:17#\"\r\n",
      "W1127 10:55:49.466875 4522884544 preprocessing_terror_dataset.py:191] No tf.train.Example found for edge target ID: \"http://profilesinterror.mindswap.org/document/4#Ramzi_Yousef_http://profilesinterror.mindswap.org/document/19#Nidal_Ayyad\"\r\n",
      "W1127 10:55:49.466936 4522884544 preprocessing_terror_dataset.py:191] No tf.train.Example found for edge target ID: \"http://profilesinterror.mindswap.org/document/19#EyadIsmoil_http://profilesinterror.mindswap.org/document/4#Ramzi_Yousef\"\r\n",
      "W1127 10:55:49.466984 4522884544 preprocessing_terror_dataset.py:191] No tf.train.Example found for edge target ID: \"http://profilesinterror.mindswap.org/document/19#AhmadAjaj_http://profilesinterror.mindswap.org/document/4#Ramzi_Yousef\"\r\n",
      "W1127 10:55:49.467026 4522884544 preprocessing_terror_dataset.py:191] No tf.train.Example found for edge target ID: \"http://profilesinterror.mindswap.org/document/19#MohammedSalameh_http://profilesinterror.mindswap.org/document/4#Ramzi_Yousef\"\r\n",
      "W1127 10:55:49.470057 4522884544 preprocessing_terror_dataset.py:191] No tf.train.Example found for edge target ID: \"http://profilesinterror.mindswap.org/document/2005/12/20/20:55:53#_http://profilesinterror.mindswap.org/document/2005/09/08/04:39:17#\"\r\n",
      "W1127 10:55:49.474104 4522884544 preprocessing_terror_dataset.py:191] No tf.train.Example found for edge target ID: \"http://profilesinterror.mindswap.org/document/2005/07/28/16:02:44#Germaine_Lindsay_http://profilesinterror.mindswap.org/document/2005/07/28/15:59:18#Mohammad_Sidique_Khan\"\r\n"
     ]
    },
    {
     "name": "stdout",
     "output_type": "stream",
     "text": [
      "W1127 10:55:49.478043 4522884544 preprocessing_terror_dataset.py:191] No tf.train.Example found for edge target ID: \"http://profilesinterror.mindswap.org/document/2005/12/22/19:57:48#_http://counterterror.mindswap.org/2005/terrorists.owl#Lionel_Dumont\"\n",
      "W1127 10:55:49.479056 4522884544 preprocessing_terror_dataset.py:191] No tf.train.Example found for edge target ID: \"http://profilesinterror.mindswap.org/document/19#MohammedSalameh_http://profilesinterror.mindswap.org/document/19#EyadIsmoil\"\n",
      "W1127 10:55:49.479128 4522884544 preprocessing_terror_dataset.py:191] No tf.train.Example found for edge target ID: \"http://profilesinterror.mindswap.org/document/19#EyadIsmoil_http://profilesinterror.mindswap.org/document/19#Nidal_Ayyad\"\n",
      "W1127 10:55:49.479176 4522884544 preprocessing_terror_dataset.py:191] No tf.train.Example found for edge target ID: \"http://profilesinterror.mindswap.org/document/19#EyadIsmoil_http://profilesinterror.mindswap.org/document/4#Ramzi_Yousef\"\n",
      "W1127 10:55:49.479722 4522884544 preprocessing_terror_dataset.py:191] No tf.train.Example found for edge target ID: \"http://profilesinterror.mindswap.org/document/2005/08/09/16:36:24#_http://profilesinterror.mindswap.org/document/2005/08/09/16:43:04#\"\n",
      "W1127 10:55:49.479784 4522884544 preprocessing_terror_dataset.py:191] No tf.train.Example found for edge target ID: \"http://counterterror.mindswap.org/2005/terrorists.owl#Djamel_Beghal_http://counterterror.mindswap.org/2005/terrorists.owl#Nizar_Trabelsi\"\n",
      "W1127 10:55:49.482266 4522884544 preprocessing_terror_dataset.py:191] No tf.train.Example found for edge target ID: \"http://profilesinterror.mindswap.org/document/2005/12/20/20:55:53#_http://profilesinterror.mindswap.org/document/2005/09/08/04:39:17#\"\n",
      "W1127 10:55:49.491466 4522884544 preprocessing_terror_dataset.py:191] No tf.train.Example found for edge target ID: \"http://profilesinterror.mindswap.org/document/29#MohammedSchreim_http://profilesinterror.mindswap.org/document/29#NasserWatimi\"\n",
      "W1127 10:55:49.492171 4522884544 preprocessing_terror_dataset.py:191] No tf.train.Example found for edge target ID: \"http://profilesinterror.mindswap.org/document/2005/07/28/16:02:44#Germaine_Lindsay_http://profilesinterror.mindswap.org/document/2005/07/28/15:59:18#Mohammad_Sidique_Khan\"\n",
      "W1127 10:55:49.492254 4522884544 preprocessing_terror_dataset.py:191] No tf.train.Example found for edge target ID: \"http://profilesinterror.mindswap.org/document/2005/08/09/16:36:24#_http://profilesinterror.mindswap.org/document/2005/08/09/16:43:04#\"\n",
      "W1127 10:55:49.493889 4522884544 preprocessing_terror_dataset.py:191] No tf.train.Example found for edge target ID: \"http://profilesinterror.mindswap.org/document/2005/12/22/19:57:48#_http://counterterror.mindswap.org/2005/terrorists.owl#Lionel_Dumont\"\n",
      "W1127 10:55:49.494519 4522884544 preprocessing_terror_dataset.py:191] No tf.train.Example found for edge target ID: \"http://profilesinterror.mindswap.org/document/2006/03/17/05:42:48#_http://profilesinterror.mindswap.org/document/2006/03/15/22:21:03#\"\n",
      "W1127 10:55:49.494594 4522884544 preprocessing_terror_dataset.py:191] No tf.train.Example found for edge target ID: \"http://profilesinterror.mindswap.org/document/2006/03/17/05:42:48#_http://profilesinterror.mindswap.org/document/2006/03/17/05:47:04#\"\n",
      "W1127 10:55:49.494642 4522884544 preprocessing_terror_dataset.py:191] No tf.train.Example found for edge target ID: \"http://profilesinterror.mindswap.org/document/2006/03/17/05:42:48#_http://profilesinterror.mindswap.org/document/2006/03/15/04:58:21#\"\n",
      "W1127 10:55:49.502426 4522884544 preprocessing_terror_dataset.py:191] No tf.train.Example found for edge target ID: \"http://profilesinterror.mindswap.org/document/2005/07/28/16:02:44#Germaine_Lindsay_http://profilesinterror.mindswap.org/document/2005/07/28/15:59:18#Mohammad_Sidique_Khan\"\n",
      "W1127 10:55:49.504694 4522884544 preprocessing_terror_dataset.py:191] No tf.train.Example found for edge target ID: \"http://profilesinterror.mindswap.org/document/2005/07/28/16:02:44#Germaine_Lindsay_http://profilesinterror.mindswap.org/document/2005/07/28/15:59:18#Mohammad_Sidique_Khan\"\n",
      "W1127 10:55:49.504783 4522884544 preprocessing_terror_dataset.py:191] No tf.train.Example found for edge target ID: \"http://counterterror.mindswap.org/2005/terrorists.owl#Djamel_Beghal_http://counterterror.mindswap.org/2005/terrorists.owl#Nizar_Trabelsi\"\n",
      "W1127 10:55:49.507983 4522884544 preprocessing_terror_dataset.py:191] No tf.train.Example found for edge target ID: \"http://profilesinterror.mindswap.org/document/2006/03/17/05:42:48#_http://profilesinterror.mindswap.org/document/2006/03/15/04:58:21#\"\n",
      "W1127 10:55:49.508047 4522884544 preprocessing_terror_dataset.py:191] No tf.train.Example found for edge target ID: \"http://profilesinterror.mindswap.org/document/2006/03/17/05:47:04#_http://profilesinterror.mindswap.org/document/2006/03/15/04:58:21#\"\n",
      "W1127 10:55:49.508095 4522884544 preprocessing_terror_dataset.py:191] No tf.train.Example found for edge target ID: \"http://profilesinterror.mindswap.org/document/2006/03/15/22:21:03#_http://profilesinterror.mindswap.org/document/2006/03/15/04:58:21#\"\n",
      "W1127 10:55:49.513719 4522884544 preprocessing_terror_dataset.py:191] No tf.train.Example found for edge target ID: \"http://counterterror.mindswap.org/2005/terrorists.owl#Nizar_Trabelsi_http://profilesinterror.mindswap.org/document/2005/09/07/09:36:59#\"\n",
      "W1127 10:55:49.513788 4522884544 preprocessing_terror_dataset.py:191] No tf.train.Example found for edge target ID: \"http://counterterror.mindswap.org/2005/terrorists.owl#Nizar_Trabelsi_http://counterterror.mindswap.org/2005/terrorists.owl#Richard_Colvin_Reid\"\n",
      "W1127 10:55:49.513841 4522884544 preprocessing_terror_dataset.py:191] No tf.train.Example found for edge target ID: \"http://counterterror.mindswap.org/2005/terrorists.owl#Djamel_Beghal_http://counterterror.mindswap.org/2005/terrorists.owl#Nizar_Trabelsi\"\n",
      "W1127 10:55:49.514906 4522884544 preprocessing_terror_dataset.py:191] No tf.train.Example found for edge target ID: \"http://profilesinterror.mindswap.org/document/11#AhmedRessam_http://profilesinterror.mindswap.org/document/2005/06/17/00:42:19#Mourad_Ikhlef\"\n",
      "W1127 10:55:49.514968 4522884544 preprocessing_terror_dataset.py:191] No tf.train.Example found for edge target ID: \"http://profilesinterror.mindswap.org/document/11#AhmedRessam_http://counterterror.mindswap.org/2005/terrorists.owl#Abderraouf_Hannachi\"\n",
      "W1127 10:55:49.525552 4522884544 preprocessing_terror_dataset.py:191] No tf.train.Example found for edge target ID: \"http://profilesinterror.mindswap.org/document/2005/08/09/16:36:24#_http://profilesinterror.mindswap.org/document/2005/08/09/16:43:04#\"\n",
      "W1127 10:55:49.528036 4522884544 preprocessing_terror_dataset.py:191] No tf.train.Example found for edge target ID: \"http://counterterror.mindswap.org/2005/terrorists.owl#Richard_Colvin_Reid_http://profilesinterror.mindswap.org/document/2005/09/07/09:36:59#\"\n",
      "W1127 10:55:49.528162 4522884544 preprocessing_terror_dataset.py:191] No tf.train.Example found for edge target ID: \"http://counterterror.mindswap.org/2005/terrorists.owl#Nizar_Trabelsi_http://counterterror.mindswap.org/2005/terrorists.owl#Richard_Colvin_Reid\"\n",
      "W1127 10:55:49.532449 4522884544 preprocessing_terror_dataset.py:191] No tf.train.Example found for edge target ID: \"http://profilesinterror.mindswap.org/document/19#AhmadAjaj_http://profilesinterror.mindswap.org/document/19#Nidal_Ayyad\"\n",
      "W1127 10:55:49.532588 4522884544 preprocessing_terror_dataset.py:191] No tf.train.Example found for edge target ID: \"http://profilesinterror.mindswap.org/document/19#MohammedSalameh_http://profilesinterror.mindswap.org/document/19#Nidal_Ayyad\"\n",
      "W1127 10:55:49.532663 4522884544 preprocessing_terror_dataset.py:191] No tf.train.Example found for edge target ID: \"http://profilesinterror.mindswap.org/document/4#Ramzi_Yousef_http://profilesinterror.mindswap.org/document/19#Nidal_Ayyad\"\n",
      "W1127 10:55:49.532739 4522884544 preprocessing_terror_dataset.py:191] No tf.train.Example found for edge target ID: \"http://profilesinterror.mindswap.org/document/19#EyadIsmoil_http://profilesinterror.mindswap.org/document/19#Nidal_Ayyad\"\n",
      "W1127 10:55:49.533463 4522884544 preprocessing_terror_dataset.py:191] No tf.train.Example found for edge target ID: \"http://profilesinterror.mindswap.org/document/11#AhmedRessam_http://profilesinterror.mindswap.org/document/2005/06/17/00:42:19#Mourad_Ikhlef\"\n",
      "W1127 10:55:49.533560 4522884544 preprocessing_terror_dataset.py:191] No tf.train.Example found for edge target ID: \"http://profilesinterror.mindswap.org/document/11#AhmedRessam_http://counterterror.mindswap.org/2005/terrorists.owl#Abderraouf_Hannachi\"\n",
      "W1127 10:55:49.535913 4522884544 preprocessing_terror_dataset.py:191] No tf.train.Example found for edge target ID: \"http://profilesinterror.mindswap.org/document/27#FarouqQaddoumi_http://profilesinterror.mindswap.org/document/2005/05/24/18:26:22#Khaled_al-Fahoum\"\n",
      "W1127 10:55:49.537082 4522884544 preprocessing_terror_dataset.py:191] No tf.train.Example found for edge target ID: \"http://profilesinterror.mindswap.org/document/19#MohammedSalameh_http://profilesinterror.mindswap.org/document/19#Nidal_Ayyad\"\n",
      "W1127 10:55:49.537157 4522884544 preprocessing_terror_dataset.py:191] No tf.train.Example found for edge target ID: \"http://profilesinterror.mindswap.org/document/19#MohammedSalameh_http://profilesinterror.mindswap.org/document/19#EyadIsmoil\"\n",
      "W1127 10:55:49.537209 4522884544 preprocessing_terror_dataset.py:191] No tf.train.Example found for edge target ID: \"http://profilesinterror.mindswap.org/document/19#MohammedSalameh_http://profilesinterror.mindswap.org/document/4#Ramzi_Yousef\"\n",
      "W1127 10:55:49.537256 4522884544 preprocessing_terror_dataset.py:191] No tf.train.Example found for edge target ID: \"http://profilesinterror.mindswap.org/document/19#MohammedSalameh_http://profilesinterror.mindswap.org/document/19#AhmadAjaj\"\n",
      "W1127 10:55:49.540884 4522884544 preprocessing_terror_dataset.py:191] No tf.train.Example found for edge target ID: \"http://profilesinterror.mindswap.org/document/27#FarouqQaddoumi_http://profilesinterror.mindswap.org/document/2005/05/24/18:26:22#Khaled_al-Fahoum\"\n",
      "W1127 10:55:49.541585 4522884544 preprocessing_terror_dataset.py:191] No tf.train.Example found for edge target ID: \"http://counterterror.mindswap.org/2005/terrorists.owl#Richard_Colvin_Reid_http://profilesinterror.mindswap.org/document/2005/09/07/09:36:59#\"\n",
      "W1127 10:55:49.541661 4522884544 preprocessing_terror_dataset.py:191] No tf.train.Example found for edge target ID: \"http://counterterror.mindswap.org/2005/terrorists.owl#Nizar_Trabelsi_http://counterterror.mindswap.org/2005/terrorists.owl#Richard_Colvin_Reid\"\n",
      "W1127 10:55:49.547389 4522884544 preprocessing_terror_dataset.py:191] No tf.train.Example found for edge target ID: \"http://profilesinterror.mindswap.org/document/2005/08/09/16:36:24#_http://profilesinterror.mindswap.org/document/2005/08/09/16:43:04#\"\n",
      "W1127 10:55:49.548624 4522884544 preprocessing_terror_dataset.py:191] No tf.train.Example found for edge target ID: \"http://profilesinterror.mindswap.org/document/2005/08/09/16:36:24#_http://profilesinterror.mindswap.org/document/2005/08/09/16:43:04#\"\n",
      "W1127 10:55:49.549286 4522884544 preprocessing_terror_dataset.py:191] No tf.train.Example found for edge target ID: \"http://profilesinterror.mindswap.org/document/29#MohammedSchreim_http://profilesinterror.mindswap.org/document/29#NasserWatimi\"\n",
      "W1127 10:55:49.550489 4522884544 preprocessing_terror_dataset.py:191] No tf.train.Example found for edge target ID: \"http://counterterror.mindswap.org/2005/terrorists.owl#Richard_Colvin_Reid_http://profilesinterror.mindswap.org/document/2005/09/07/09:36:59#\"\n",
      "W1127 10:55:49.550570 4522884544 preprocessing_terror_dataset.py:191] No tf.train.Example found for edge target ID: \"http://counterterror.mindswap.org/2005/terrorists.owl#Nizar_Trabelsi_http://counterterror.mindswap.org/2005/terrorists.owl#Richard_Colvin_Reid\"\n",
      "W1127 10:55:49.551189 4522884544 preprocessing_terror_dataset.py:191] No tf.train.Example found for edge target ID: \"http://profilesinterror.mindswap.org/document/2005/07/28/16:02:44#Germaine_Lindsay_http://profilesinterror.mindswap.org/document/2005/07/28/15:59:18#Mohammad_Sidique_Khan\"\n",
      "W1127 10:55:49.551826 4522884544 preprocessing_terror_dataset.py:191] No tf.train.Example found for edge target ID: \"http://profilesinterror.mindswap.org/document/2005/12/22/19:57:48#_http://counterterror.mindswap.org/2005/terrorists.owl#Lionel_Dumont\"\n",
      "W1127 10:55:49.555150 4522884544 preprocessing_terror_dataset.py:191] No tf.train.Example found for edge target ID: \"http://counterterror.mindswap.org/2005/terrorists.owl#Nizar_Trabelsi_http://counterterror.mindswap.org/2005/terrorists.owl#Richard_Colvin_Reid\"\n",
      "W1127 10:55:49.555233 4522884544 preprocessing_terror_dataset.py:191] No tf.train.Example found for edge target ID: \"http://counterterror.mindswap.org/2005/terrorists.owl#Djamel_Beghal_http://counterterror.mindswap.org/2005/terrorists.owl#Nizar_Trabelsi\"\n",
      "W1127 10:55:49.555287 4522884544 preprocessing_terror_dataset.py:191] No tf.train.Example found for edge target ID: \"http://profilesinterror.mindswap.org/document/2005/08/09/16:36:24#_http://profilesinterror.mindswap.org/document/2005/08/09/16:43:04#\"\n",
      "W1127 10:55:49.555333 4522884544 preprocessing_terror_dataset.py:191] No tf.train.Example found for edge target ID: \"http://counterterror.mindswap.org/2005/terrorists.owl#Nizar_Trabelsi_http://profilesinterror.mindswap.org/document/2005/09/07/09:36:59#\"\n",
      "W1127 10:55:49.560697 4522884544 preprocessing_terror_dataset.py:191] No tf.train.Example found for edge target ID: \"http://profilesinterror.mindswap.org/document/2005/12/22/19:57:48#_http://counterterror.mindswap.org/2005/terrorists.owl#Lionel_Dumont\"\n",
      "W1127 10:55:49.563071 4522884544 preprocessing_terror_dataset.py:191] No tf.train.Example found for edge target ID: \"http://profilesinterror.mindswap.org/document/2005/08/09/16:36:24#_http://profilesinterror.mindswap.org/document/2005/08/09/16:43:04#\"\n",
      "W1127 10:55:49.564337 4522884544 preprocessing_terror_dataset.py:191] No tf.train.Example found for edge target ID: \"http://profilesinterror.mindswap.org/document/2006/03/17/05:42:48#_http://profilesinterror.mindswap.org/document/2006/03/17/05:47:04#\"\n",
      "W1127 10:55:49.564450 4522884544 preprocessing_terror_dataset.py:191] No tf.train.Example found for edge target ID: \"http://profilesinterror.mindswap.org/document/2006/03/17/05:47:04#_http://profilesinterror.mindswap.org/document/2006/03/15/04:58:21#\"\n",
      "W1127 10:55:49.567672 4522884544 preprocessing_terror_dataset.py:191] No tf.train.Example found for edge target ID: \"http://counterterror.mindswap.org/2005/terrorists.owl#Richard_Colvin_Reid_http://profilesinterror.mindswap.org/document/2005/09/07/09:36:59#\"\n",
      "W1127 10:55:49.567807 4522884544 preprocessing_terror_dataset.py:191] No tf.train.Example found for edge target ID: \"http://counterterror.mindswap.org/2005/terrorists.owl#Nizar_Trabelsi_http://counterterror.mindswap.org/2005/terrorists.owl#Richard_Colvin_Reid\"\n",
      "W1127 10:55:49.567876 4522884544 preprocessing_terror_dataset.py:191] No tf.train.Example found for edge target ID: \"http://counterterror.mindswap.org/2005/terrorists.owl#Djamel_Beghal_http://counterterror.mindswap.org/2005/terrorists.owl#Nizar_Trabelsi\"\n",
      "W1127 10:55:49.570029 4522884544 preprocessing_terror_dataset.py:191] No tf.train.Example found for edge target ID: \"http://profilesinterror.mindswap.org/document/2005/12/20/20:55:53#_http://profilesinterror.mindswap.org/document/2005/09/08/04:39:17#\"\n",
      "W1127 10:55:49.574165 4522884544 preprocessing_terror_dataset.py:191] No tf.train.Example found for edge target ID: \"http://profilesinterror.mindswap.org/document/2005/07/28/16:02:44#Germaine_Lindsay_http://profilesinterror.mindswap.org/document/2005/07/28/15:59:18#Mohammad_Sidique_Khan\"\n",
      "W1127 10:55:49.575381 4522884544 preprocessing_terror_dataset.py:191] No tf.train.Example found for edge target ID: \"http://profilesinterror.mindswap.org/document/2005/07/28/16:02:44#Germaine_Lindsay_http://profilesinterror.mindswap.org/document/2005/07/28/15:59:18#Mohammad_Sidique_Khan\"\n",
      "W1127 10:55:49.575458 4522884544 preprocessing_terror_dataset.py:191] No tf.train.Example found for edge target ID: \"http://counterterror.mindswap.org/2005/terrorists.owl#Nizar_Trabelsi_http://counterterror.mindswap.org/2005/terrorists.owl#Richard_Colvin_Reid\"\n",
      "W1127 10:55:49.575514 4522884544 preprocessing_terror_dataset.py:191] No tf.train.Example found for edge target ID: \"http://counterterror.mindswap.org/2005/terrorists.owl#Djamel_Beghal_http://counterterror.mindswap.org/2005/terrorists.owl#Nizar_Trabelsi\"\n",
      "W1127 10:55:49.575564 4522884544 preprocessing_terror_dataset.py:191] No tf.train.Example found for edge target ID: \"http://counterterror.mindswap.org/2005/terrorists.owl#Nizar_Trabelsi_http://profilesinterror.mindswap.org/document/2005/09/07/09:36:59#\"\n"
     ]
    },
    {
     "name": "stdout",
     "output_type": "stream",
     "text": [
      "W1127 10:55:49.586144 4522884544 preprocessing_terror_dataset.py:191] No tf.train.Example found for edge target ID: \"http://profilesinterror.mindswap.org/document/19#MohammedSalameh_http://profilesinterror.mindswap.org/document/19#Nidal_Ayyad\"\n",
      "W1127 10:55:49.586374 4522884544 preprocessing_terror_dataset.py:191] No tf.train.Example found for edge target ID: \"http://profilesinterror.mindswap.org/document/19#MohammedSalameh_http://profilesinterror.mindswap.org/document/19#EyadIsmoil\"\n",
      "W1127 10:55:49.586480 4522884544 preprocessing_terror_dataset.py:191] No tf.train.Example found for edge target ID: \"http://profilesinterror.mindswap.org/document/19#MohammedSalameh_http://profilesinterror.mindswap.org/document/4#Ramzi_Yousef\"\n",
      "W1127 10:55:49.586569 4522884544 preprocessing_terror_dataset.py:191] No tf.train.Example found for edge target ID: \"http://profilesinterror.mindswap.org/document/19#MohammedSalameh_http://profilesinterror.mindswap.org/document/19#AhmadAjaj\"\n",
      "W1127 10:55:49.598551 4522884544 preprocessing_terror_dataset.py:191] No tf.train.Example found for edge target ID: \"http://counterterror.mindswap.org/2005/terrorists.owl#Djamel_Beghal_http://counterterror.mindswap.org/2005/terrorists.owl#Nizar_Trabelsi\"\n",
      "W1127 10:55:49.600133 4522884544 preprocessing_terror_dataset.py:191] No tf.train.Example found for edge target ID: \"http://profilesinterror.mindswap.org/document/2005/12/20/20:55:53#_http://profilesinterror.mindswap.org/document/2005/09/08/04:39:17#\"\n",
      "W1127 10:55:49.606125 4522884544 preprocessing_terror_dataset.py:191] No tf.train.Example found for edge target ID: \"http://profilesinterror.mindswap.org/document/2005/12/20/20:55:53#_http://profilesinterror.mindswap.org/document/2005/09/08/04:39:17#\"\n",
      "W1127 10:55:49.606881 4522884544 preprocessing_terror_dataset.py:191] No tf.train.Example found for edge target ID: \"http://counterterror.mindswap.org/2005/terrorists.owl#Richard_Colvin_Reid_http://profilesinterror.mindswap.org/document/2005/09/07/09:36:59#\"\n",
      "W1127 10:55:49.606969 4522884544 preprocessing_terror_dataset.py:191] No tf.train.Example found for edge target ID: \"http://counterterror.mindswap.org/2005/terrorists.owl#Nizar_Trabelsi_http://profilesinterror.mindswap.org/document/2005/09/07/09:36:59#\"\n",
      "W1127 10:55:49.607034 4522884544 preprocessing_terror_dataset.py:191] No tf.train.Example found for edge target ID: \"http://counterterror.mindswap.org/2005/terrorists.owl#Djamel_Beghal_http://counterterror.mindswap.org/2005/terrorists.owl#Nizar_Trabelsi\"\n",
      "W1127 10:55:49.611042 4522884544 preprocessing_terror_dataset.py:191] No tf.train.Example found for edge target ID: \"http://profilesinterror.mindswap.org/document/29#FathiKhatib_http://profilesinterror.mindswap.org/document/29#MuammarSheikh\"\n",
      "W1127 10:55:49.613276 4522884544 preprocessing_terror_dataset.py:191] No tf.train.Example found for edge target ID: \"http://profilesinterror.mindswap.org/document/11#AhmedRessam_http://profilesinterror.mindswap.org/document/2005/06/17/00:42:19#Mourad_Ikhlef\"\n",
      "W1127 10:55:49.613415 4522884544 preprocessing_terror_dataset.py:191] No tf.train.Example found for edge target ID: \"http://profilesinterror.mindswap.org/document/11#AhmedRessam_http://counterterror.mindswap.org/2005/terrorists.owl#Abderraouf_Hannachi\"\n",
      "W1127 10:55:49.613918 4522884544 preprocessing_terror_dataset.py:191] No tf.train.Example found for edge target ID: \"http://counterterror.mindswap.org/2005/terrorists.owl#Nizar_Trabelsi_http://counterterror.mindswap.org/2005/terrorists.owl#Richard_Colvin_Reid\"\n",
      "W1127 10:55:49.614016 4522884544 preprocessing_terror_dataset.py:191] No tf.train.Example found for edge target ID: \"http://counterterror.mindswap.org/2005/terrorists.owl#Djamel_Beghal_http://counterterror.mindswap.org/2005/terrorists.owl#Nizar_Trabelsi\"\n",
      "W1127 10:55:49.614078 4522884544 preprocessing_terror_dataset.py:191] No tf.train.Example found for edge target ID: \"http://counterterror.mindswap.org/2005/terrorists.owl#Nizar_Trabelsi_http://profilesinterror.mindswap.org/document/2005/09/07/09:36:59#\"\n",
      "W1127 10:55:49.616489 4522884544 preprocessing_terror_dataset.py:191] No tf.train.Example found for edge target ID: \"http://counterterror.mindswap.org/2005/terrorists.owl#Djamel_Beghal_http://counterterror.mindswap.org/2005/terrorists.owl#Nizar_Trabelsi\"\n",
      "W1127 10:55:49.618509 4522884544 preprocessing_terror_dataset.py:191] No tf.train.Example found for edge target ID: \"http://profilesinterror.mindswap.org/document/2005/07/28/16:02:44#Germaine_Lindsay_http://profilesinterror.mindswap.org/document/2005/07/28/15:59:18#Mohammad_Sidique_Khan\"\n",
      "W1127 10:55:49.618629 4522884544 preprocessing_terror_dataset.py:191] No tf.train.Example found for edge target ID: \"http://profilesinterror.mindswap.org/document/2005/08/09/16:36:24#_http://profilesinterror.mindswap.org/document/2005/08/09/16:43:04#\"\n",
      "W1127 10:55:49.621669 4522884544 preprocessing_terror_dataset.py:191] No tf.train.Example found for edge target ID: \"http://profilesinterror.mindswap.org/document/11#AhmedRessam_http://counterterror.mindswap.org/2005/terrorists.owl#Abderraouf_Hannachi\"\n",
      "W1127 10:55:49.621775 4522884544 preprocessing_terror_dataset.py:191] No tf.train.Example found for edge target ID: \"http://profilesinterror.mindswap.org/document/11#AhmedRessam_http://profilesinterror.mindswap.org/document/2005/06/17/00:42:19#Mourad_Ikhlef\"\n",
      "W1127 10:55:49.625719 4522884544 preprocessing_terror_dataset.py:191] No tf.train.Example found for edge target ID: \"http://profilesinterror.mindswap.org/document/2005/12/20/20:55:53#_http://profilesinterror.mindswap.org/document/2005/09/08/04:39:17#\"\n",
      "W1127 10:55:49.626635 4522884544 preprocessing_terror_dataset.py:191] No tf.train.Example found for edge target ID: \"http://counterterror.mindswap.org/2005/terrorists.owl#Nizar_Trabelsi_http://counterterror.mindswap.org/2005/terrorists.owl#Richard_Colvin_Reid\"\n",
      "W1127 10:55:49.626739 4522884544 preprocessing_terror_dataset.py:191] No tf.train.Example found for edge target ID: \"http://counterterror.mindswap.org/2005/terrorists.owl#Richard_Colvin_Reid_http://profilesinterror.mindswap.org/document/2005/09/07/09:36:59#\"\n",
      "W1127 10:55:49.626843 4522884544 preprocessing_terror_dataset.py:191] No tf.train.Example found for edge target ID: \"http://profilesinterror.mindswap.org/document/2005/07/28/16:02:44#Germaine_Lindsay_http://profilesinterror.mindswap.org/document/2005/07/28/15:59:18#Mohammad_Sidique_Khan\"\n",
      "W1127 10:55:49.629208 4522884544 preprocessing_terror_dataset.py:191] No tf.train.Example found for edge target ID: \"http://profilesinterror.mindswap.org/document/2005/07/28/16:02:44#Germaine_Lindsay_http://profilesinterror.mindswap.org/document/2005/07/28/15:59:18#Mohammad_Sidique_Khan\"\n",
      "W1127 10:55:49.632586 4522884544 preprocessing_terror_dataset.py:191] No tf.train.Example found for edge target ID: \"http://profilesinterror.mindswap.org/document/27#FarouqQaddoumi_http://profilesinterror.mindswap.org/document/2005/05/24/18:26:22#Khaled_al-Fahoum\"\n",
      "W1127 10:55:49.633520 4522884544 preprocessing_terror_dataset.py:191] No tf.train.Example found for edge target ID: \"http://profilesinterror.mindswap.org/document/2005/12/20/20:55:53#_http://profilesinterror.mindswap.org/document/2005/09/08/04:39:17#\"\n",
      "W1127 10:55:49.634331 4522884544 preprocessing_terror_dataset.py:191] No tf.train.Example found for edge target ID: \"http://profilesinterror.mindswap.org/document/2005/07/28/16:02:44#Germaine_Lindsay_http://profilesinterror.mindswap.org/document/2005/07/28/15:59:18#Mohammad_Sidique_Khan\"\n",
      "W1127 10:55:49.637744 4522884544 preprocessing_terror_dataset.py:191] No tf.train.Example found for edge target ID: \"http://counterterror.mindswap.org/2005/terrorists.owl#Nizar_Trabelsi_http://counterterror.mindswap.org/2005/terrorists.owl#Richard_Colvin_Reid\"\n",
      "W1127 10:55:49.637901 4522884544 preprocessing_terror_dataset.py:191] No tf.train.Example found for edge target ID: \"http://counterterror.mindswap.org/2005/terrorists.owl#Richard_Colvin_Reid_http://profilesinterror.mindswap.org/document/2005/09/07/09:36:59#\"\n",
      "W1127 10:55:49.637971 4522884544 preprocessing_terror_dataset.py:191] No tf.train.Example found for edge target ID: \"http://profilesinterror.mindswap.org/document/2005/07/28/16:02:44#Germaine_Lindsay_http://profilesinterror.mindswap.org/document/2005/07/28/15:59:18#Mohammad_Sidique_Khan\"\n",
      "W1127 10:55:49.638804 4522884544 preprocessing_terror_dataset.py:191] No tf.train.Example found for edge target ID: \"http://counterterror.mindswap.org/2005/terrorists.owl#Richard_Colvin_Reid_http://profilesinterror.mindswap.org/document/2005/09/07/09:36:59#\"\n",
      "W1127 10:55:49.638970 4522884544 preprocessing_terror_dataset.py:191] No tf.train.Example found for edge target ID: \"http://counterterror.mindswap.org/2005/terrorists.owl#Nizar_Trabelsi_http://counterterror.mindswap.org/2005/terrorists.owl#Richard_Colvin_Reid\"\n",
      "W1127 10:55:49.639117 4522884544 preprocessing_terror_dataset.py:191] No tf.train.Example found for edge target ID: \"http://profilesinterror.mindswap.org/document/2005/08/09/16:36:24#_http://profilesinterror.mindswap.org/document/2005/08/09/16:43:04#\"\n",
      "W1127 10:55:49.647937 4522884544 preprocessing_terror_dataset.py:191] No tf.train.Example found for edge target ID: \"http://profilesinterror.mindswap.org/document/2005/08/09/16:36:24#_http://profilesinterror.mindswap.org/document/2005/08/09/16:43:04#\"\n",
      "W1127 10:55:49.657691 4522884544 preprocessing_terror_dataset.py:191] No tf.train.Example found for edge target ID: \"http://profilesinterror.mindswap.org/document/2005/12/22/19:57:48#_http://counterterror.mindswap.org/2005/terrorists.owl#Lionel_Dumont\"\n",
      "W1127 10:55:49.658918 4522884544 preprocessing_terror_dataset.py:191] No tf.train.Example found for edge target ID: \"http://profilesinterror.mindswap.org/document/19#EyadIsmoil_http://profilesinterror.mindswap.org/document/19#Nidal_Ayyad\"\n",
      "W1127 10:55:49.659002 4522884544 preprocessing_terror_dataset.py:191] No tf.train.Example found for edge target ID: \"http://profilesinterror.mindswap.org/document/19#EyadIsmoil_http://profilesinterror.mindswap.org/document/4#Ramzi_Yousef\"\n",
      "W1127 10:55:49.659054 4522884544 preprocessing_terror_dataset.py:191] No tf.train.Example found for edge target ID: \"http://profilesinterror.mindswap.org/document/19#MohammedSalameh_http://profilesinterror.mindswap.org/document/19#EyadIsmoil\"\n",
      "W1127 10:55:49.661807 4522884544 preprocessing_terror_dataset.py:191] No tf.train.Example found for edge target ID: \"http://profilesinterror.mindswap.org/document/27#FarouqQaddoumi_http://profilesinterror.mindswap.org/document/2005/05/24/18:26:22#Khaled_al-Fahoum\"\n",
      "W1127 10:55:49.662410 4522884544 preprocessing_terror_dataset.py:191] No tf.train.Example found for edge target ID: \"http://counterterror.mindswap.org/2005/terrorists.owl#Richard_Colvin_Reid_http://profilesinterror.mindswap.org/document/2005/09/07/09:36:59#\"\n",
      "W1127 10:55:49.662494 4522884544 preprocessing_terror_dataset.py:191] No tf.train.Example found for edge target ID: \"http://counterterror.mindswap.org/2005/terrorists.owl#Nizar_Trabelsi_http://counterterror.mindswap.org/2005/terrorists.owl#Richard_Colvin_Reid\"\n",
      "W1127 10:55:49.663097 4522884544 preprocessing_terror_dataset.py:191] No tf.train.Example found for edge target ID: \"http://profilesinterror.mindswap.org/document/4#Ramzi_Yousef_http://profilesinterror.mindswap.org/document/19#Nidal_Ayyad\"\n",
      "W1127 10:55:49.663160 4522884544 preprocessing_terror_dataset.py:191] No tf.train.Example found for edge target ID: \"http://profilesinterror.mindswap.org/document/19#EyadIsmoil_http://profilesinterror.mindswap.org/document/19#Nidal_Ayyad\"\n",
      "W1127 10:55:49.663206 4522884544 preprocessing_terror_dataset.py:191] No tf.train.Example found for edge target ID: \"http://profilesinterror.mindswap.org/document/19#AhmadAjaj_http://profilesinterror.mindswap.org/document/19#Nidal_Ayyad\"\n",
      "W1127 10:55:49.663251 4522884544 preprocessing_terror_dataset.py:191] No tf.train.Example found for edge target ID: \"http://profilesinterror.mindswap.org/document/19#MohammedSalameh_http://profilesinterror.mindswap.org/document/19#Nidal_Ayyad\"\n",
      "W1127 10:55:49.668460 4522884544 preprocessing_terror_dataset.py:191] No tf.train.Example found for edge target ID: \"http://profilesinterror.mindswap.org/document/2005/12/22/19:57:48#_http://counterterror.mindswap.org/2005/terrorists.owl#Lionel_Dumont\"\n",
      "W1127 10:55:49.670597 4522884544 preprocessing_terror_dataset.py:191] No tf.train.Example found for edge target ID: \"http://profilesinterror.mindswap.org/document/2005/08/09/16:36:24#_http://profilesinterror.mindswap.org/document/2005/08/09/16:43:04#\"\n",
      "W1127 10:55:49.672819 4522884544 preprocessing_terror_dataset.py:191] No tf.train.Example found for edge target ID: \"http://profilesinterror.mindswap.org/document/27#FarouqQaddoumi_http://profilesinterror.mindswap.org/document/2005/05/24/18:26:22#Khaled_al-Fahoum\"\n",
      "W1127 10:55:49.673415 4522884544 preprocessing_terror_dataset.py:191] No tf.train.Example found for edge target ID: \"http://counterterror.mindswap.org/2005/terrorists.owl#Nizar_Trabelsi_http://profilesinterror.mindswap.org/document/2005/09/07/09:36:59#\"\n",
      "W1127 10:55:49.673480 4522884544 preprocessing_terror_dataset.py:191] No tf.train.Example found for edge target ID: \"http://counterterror.mindswap.org/2005/terrorists.owl#Nizar_Trabelsi_http://counterterror.mindswap.org/2005/terrorists.owl#Richard_Colvin_Reid\"\n",
      "W1127 10:55:49.673532 4522884544 preprocessing_terror_dataset.py:191] No tf.train.Example found for edge target ID: \"http://counterterror.mindswap.org/2005/terrorists.owl#Djamel_Beghal_http://counterterror.mindswap.org/2005/terrorists.owl#Nizar_Trabelsi\"\n",
      "W1127 10:55:49.674103 4522884544 preprocessing_terror_dataset.py:191] No tf.train.Example found for edge target ID: \"http://profilesinterror.mindswap.org/document/2005/12/22/19:57:48#_http://counterterror.mindswap.org/2005/terrorists.owl#Lionel_Dumont\"\n",
      "W1127 10:55:49.678102 4522884544 preprocessing_terror_dataset.py:191] No tf.train.Example found for edge target ID: \"http://counterterror.mindswap.org/2005/terrorists.owl#Nizar_Trabelsi_http://profilesinterror.mindswap.org/document/2005/09/07/09:36:59#\"\n"
     ]
    },
    {
     "name": "stdout",
     "output_type": "stream",
     "text": [
      "W1127 10:55:49.678184 4522884544 preprocessing_terror_dataset.py:191] No tf.train.Example found for edge target ID: \"http://counterterror.mindswap.org/2005/terrorists.owl#Nizar_Trabelsi_http://counterterror.mindswap.org/2005/terrorists.owl#Richard_Colvin_Reid\"\r\n",
      "W1127 10:55:49.678241 4522884544 preprocessing_terror_dataset.py:191] No tf.train.Example found for edge target ID: \"http://counterterror.mindswap.org/2005/terrorists.owl#Djamel_Beghal_http://counterterror.mindswap.org/2005/terrorists.owl#Nizar_Trabelsi\"\r\n",
      "W1127 10:55:49.679452 4522884544 preprocessing_terror_dataset.py:191] No tf.train.Example found for edge target ID: \"http://profilesinterror.mindswap.org/document/29#FathiKhatib_http://profilesinterror.mindswap.org/document/29#MuammarSheikh\"\r\n",
      "W1127 10:55:49.682338 4522884544 preprocessing_terror_dataset.py:191] No tf.train.Example found for edge target ID: \"http://profilesinterror.mindswap.org/document/2005/12/22/19:57:48#_http://counterterror.mindswap.org/2005/terrorists.owl#Lionel_Dumont\"\r\n",
      "W1127 10:55:49.683578 4522884544 preprocessing_terror_dataset.py:191] No tf.train.Example found for edge target ID: \"http://profilesinterror.mindswap.org/document/2006/03/17/05:42:48#_http://profilesinterror.mindswap.org/document/2006/03/17/05:47:04#\"\r\n",
      "W1127 10:55:49.683671 4522884544 preprocessing_terror_dataset.py:191] No tf.train.Example found for edge target ID: \"http://profilesinterror.mindswap.org/document/2006/03/17/05:42:48#_http://profilesinterror.mindswap.org/document/2006/03/15/04:58:21#\"\r\n",
      "W1127 10:55:49.683733 4522884544 preprocessing_terror_dataset.py:191] No tf.train.Example found for edge target ID: \"http://profilesinterror.mindswap.org/document/2006/03/17/05:42:48#_http://profilesinterror.mindswap.org/document/2006/03/15/22:21:03#\"\r\n",
      "W1127 10:55:49.685016 4522884544 preprocessing_terror_dataset.py:191] No tf.train.Example found for edge target ID: \"http://profilesinterror.mindswap.org/document/2005/08/09/16:36:24#_http://profilesinterror.mindswap.org/document/2005/08/09/16:43:04#\"\r\n",
      "W1127 10:55:49.685770 4522884544 preprocessing_terror_dataset.py:191] No tf.train.Example found for edge target ID: \"http://profilesinterror.mindswap.org/document/2005/08/09/16:36:24#_http://profilesinterror.mindswap.org/document/2005/08/09/16:43:04#\"\r\n",
      "W1127 10:55:49.686478 4522884544 preprocessing_terror_dataset.py:191] No tf.train.Example found for edge target ID: \"http://profilesinterror.mindswap.org/document/29#FathiKhatib_http://profilesinterror.mindswap.org/document/29#MuammarSheikh\"\r\n",
      "W1127 10:55:49.690753 4522884544 preprocessing_terror_dataset.py:191] No tf.train.Example found for edge target ID: \"http://profilesinterror.mindswap.org/document/2005/08/09/16:36:24#_http://profilesinterror.mindswap.org/document/2005/08/09/16:43:04#\"\r\n",
      "W1127 10:55:49.690899 4522884544 preprocessing_terror_dataset.py:191] No tf.train.Example found for edge target ID: \"http://counterterror.mindswap.org/2005/terrorists.owl#Nizar_Trabelsi_http://counterterror.mindswap.org/2005/terrorists.owl#Richard_Colvin_Reid\"\r\n",
      "W1127 10:55:49.690964 4522884544 preprocessing_terror_dataset.py:191] No tf.train.Example found for edge target ID: \"http://counterterror.mindswap.org/2005/terrorists.owl#Richard_Colvin_Reid_http://profilesinterror.mindswap.org/document/2005/09/07/09:36:59#\"\r\n",
      "W1127 10:55:49.691544 4522884544 preprocessing_terror_dataset.py:191] No tf.train.Example found for edge target ID: \"http://profilesinterror.mindswap.org/document/2006/03/17/05:42:48#_http://profilesinterror.mindswap.org/document/2006/03/15/22:21:03#\"\r\n",
      "W1127 10:55:49.691607 4522884544 preprocessing_terror_dataset.py:191] No tf.train.Example found for edge target ID: \"http://profilesinterror.mindswap.org/document/2006/03/15/22:21:03#_http://profilesinterror.mindswap.org/document/2006/03/15/04:58:21#\"\r\n",
      "W1127 10:55:49.692261 4522884544 preprocessing_terror_dataset.py:191] No tf.train.Example found for edge target ID: \"http://counterterror.mindswap.org/2005/terrorists.owl#Richard_Colvin_Reid_http://profilesinterror.mindswap.org/document/2005/09/07/09:36:59#\"\r\n",
      "W1127 10:55:49.692339 4522884544 preprocessing_terror_dataset.py:191] No tf.train.Example found for edge target ID: \"http://counterterror.mindswap.org/2005/terrorists.owl#Nizar_Trabelsi_http://counterterror.mindswap.org/2005/terrorists.owl#Richard_Colvin_Reid\"\r\n",
      "W1127 10:55:49.694728 4522884544 preprocessing_terror_dataset.py:191] No tf.train.Example found for edge target ID: \"http://profilesinterror.mindswap.org/document/2006/03/17/05:42:48#_http://profilesinterror.mindswap.org/document/2006/03/15/22:21:03#\"\r\n",
      "W1127 10:55:49.694810 4522884544 preprocessing_terror_dataset.py:191] No tf.train.Example found for edge target ID: \"http://profilesinterror.mindswap.org/document/2006/03/17/05:42:48#_http://profilesinterror.mindswap.org/document/2006/03/17/05:47:04#\"\r\n",
      "W1127 10:55:49.694863 4522884544 preprocessing_terror_dataset.py:191] No tf.train.Example found for edge target ID: \"http://profilesinterror.mindswap.org/document/2006/03/17/05:42:48#_http://profilesinterror.mindswap.org/document/2006/03/15/04:58:21#\"\r\n",
      "W1127 10:55:49.697467 4522884544 preprocessing_terror_dataset.py:191] No tf.train.Example found for edge target ID: \"http://profilesinterror.mindswap.org/document/2006/03/17/05:42:48#_http://profilesinterror.mindswap.org/document/2006/03/15/04:58:21#\"\r\n",
      "W1127 10:55:49.697569 4522884544 preprocessing_terror_dataset.py:191] No tf.train.Example found for edge target ID: \"http://profilesinterror.mindswap.org/document/2006/03/15/22:21:03#_http://profilesinterror.mindswap.org/document/2006/03/15/04:58:21#\"\r\n",
      "W1127 10:55:49.697622 4522884544 preprocessing_terror_dataset.py:191] No tf.train.Example found for edge target ID: \"http://profilesinterror.mindswap.org/document/2006/03/17/05:47:04#_http://profilesinterror.mindswap.org/document/2006/03/15/04:58:21#\"\r\n",
      "W1127 10:55:49.698212 4522884544 preprocessing_terror_dataset.py:191] No tf.train.Example found for edge target ID: \"http://profilesinterror.mindswap.org/document/2005/08/09/16:36:24#_http://profilesinterror.mindswap.org/document/2005/08/09/16:43:04#\"\r\n",
      "W1127 10:55:49.698281 4522884544 preprocessing_terror_dataset.py:191] No tf.train.Example found for edge target ID: \"http://profilesinterror.mindswap.org/document/2005/07/28/16:02:44#Germaine_Lindsay_http://profilesinterror.mindswap.org/document/2005/07/28/15:59:18#Mohammad_Sidique_Khan\"\r\n",
      "W1127 10:55:49.699578 4522884544 preprocessing_terror_dataset.py:191] No tf.train.Example found for edge target ID: \"http://profilesinterror.mindswap.org/document/2005/07/28/16:02:44#Germaine_Lindsay_http://profilesinterror.mindswap.org/document/2005/07/28/15:59:18#Mohammad_Sidique_Khan\"\r\n",
      "W1127 10:55:49.700799 4522884544 preprocessing_terror_dataset.py:191] No tf.train.Example found for edge target ID: \"http://profilesinterror.mindswap.org/document/2006/03/15/22:21:03#_http://profilesinterror.mindswap.org/document/2006/03/15/04:58:21#\"\r\n",
      "W1127 10:55:49.700928 4522884544 preprocessing_terror_dataset.py:191] No tf.train.Example found for edge target ID: \"http://profilesinterror.mindswap.org/document/2006/03/17/05:42:48#_http://profilesinterror.mindswap.org/document/2006/03/15/22:21:03#\"\r\n",
      "W1127 10:55:49.703334 4522884544 preprocessing_terror_dataset.py:191] No tf.train.Example found for edge target ID: \"http://profilesinterror.mindswap.org/document/29#MohammedSchreim_http://profilesinterror.mindswap.org/document/29#NasserWatimi\"\r\n",
      "W1127 10:55:49.704035 4522884544 preprocessing_terror_dataset.py:191] No tf.train.Example found for edge target ID: \"http://profilesinterror.mindswap.org/document/2005/12/20/20:55:53#_http://profilesinterror.mindswap.org/document/2005/09/08/04:39:17#\"\r\n",
      "W1127 10:55:49.708204 4522884544 preprocessing_terror_dataset.py:191] No tf.train.Example found for edge target ID: \"http://profilesinterror.mindswap.org/document/4#Ramzi_Yousef_http://profilesinterror.mindswap.org/document/19#Nidal_Ayyad\"\r\n",
      "W1127 10:55:49.708293 4522884544 preprocessing_terror_dataset.py:191] No tf.train.Example found for edge target ID: \"http://profilesinterror.mindswap.org/document/19#EyadIsmoil_http://profilesinterror.mindswap.org/document/19#Nidal_Ayyad\"\r\n",
      "W1127 10:55:49.708345 4522884544 preprocessing_terror_dataset.py:191] No tf.train.Example found for edge target ID: \"http://profilesinterror.mindswap.org/document/19#AhmadAjaj_http://profilesinterror.mindswap.org/document/19#Nidal_Ayyad\"\r\n",
      "W1127 10:55:49.708389 4522884544 preprocessing_terror_dataset.py:191] No tf.train.Example found for edge target ID: \"http://profilesinterror.mindswap.org/document/19#MohammedSalameh_http://profilesinterror.mindswap.org/document/19#Nidal_Ayyad\"\r\n",
      "W1127 10:55:49.709530 4522884544 preprocessing_terror_dataset.py:191] No tf.train.Example found for edge target ID: \"http://counterterror.mindswap.org/2005/terrorists.owl#Djamel_Beghal_http://counterterror.mindswap.org/2005/terrorists.owl#Nizar_Trabelsi\"\r\n",
      "W1127 10:55:49.710693 4522884544 preprocessing_terror_dataset.py:191] No tf.train.Example found for edge target ID: \"http://profilesinterror.mindswap.org/document/29#MohammedSchreim_http://profilesinterror.mindswap.org/document/29#NasserWatimi\"\r\n",
      "W1127 10:55:49.713143 4522884544 preprocessing_terror_dataset.py:191] No tf.train.Example found for edge target ID: \"http://profilesinterror.mindswap.org/document/19#MohammedSalameh_http://profilesinterror.mindswap.org/document/19#EyadIsmoil\"\r\n",
      "W1127 10:55:49.713247 4522884544 preprocessing_terror_dataset.py:191] No tf.train.Example found for edge target ID: \"http://profilesinterror.mindswap.org/document/19#EyadIsmoil_http://profilesinterror.mindswap.org/document/19#Nidal_Ayyad\"\r\n",
      "W1127 10:55:49.713306 4522884544 preprocessing_terror_dataset.py:191] No tf.train.Example found for edge target ID: \"http://profilesinterror.mindswap.org/document/19#EyadIsmoil_http://profilesinterror.mindswap.org/document/4#Ramzi_Yousef\"\r\n",
      "W1127 10:55:49.718551 4522884544 preprocessing_terror_dataset.py:191] No tf.train.Example found for edge target ID: \"http://profilesinterror.mindswap.org/document/2005/07/28/16:02:44#Germaine_Lindsay_http://profilesinterror.mindswap.org/document/2005/07/28/15:59:18#Mohammad_Sidique_Khan\"\r\n",
      "W1127 10:55:49.719864 4522884544 preprocessing_terror_dataset.py:191] No tf.train.Example found for edge target ID: \"http://profilesinterror.mindswap.org/document/2005/07/28/16:02:44#Germaine_Lindsay_http://profilesinterror.mindswap.org/document/2005/07/28/15:59:18#Mohammad_Sidique_Khan\"\r\n",
      "W1127 10:55:49.723960 4522884544 preprocessing_terror_dataset.py:191] No tf.train.Example found for edge target ID: \"http://profilesinterror.mindswap.org/document/2005/12/20/20:55:53#_http://profilesinterror.mindswap.org/document/2005/09/08/04:39:17#\"\r\n",
      "W1127 10:55:49.724660 4522884544 preprocessing_terror_dataset.py:191] No tf.train.Example found for edge target ID: \"http://profilesinterror.mindswap.org/document/2005/12/20/20:55:53#_http://profilesinterror.mindswap.org/document/2005/09/08/04:39:17#\"\r\n"
     ]
    },
    {
     "name": "stdout",
     "output_type": "stream",
     "text": [
      "W1127 10:55:49.731171 4522884544 preprocessing_terror_dataset.py:191] No tf.train.Example found for edge target ID: \"http://profilesinterror.mindswap.org/document/2006/03/17/05:42:48#_http://profilesinterror.mindswap.org/document/2006/03/15/04:58:21#\"\r\n",
      "W1127 10:55:49.731286 4522884544 preprocessing_terror_dataset.py:191] No tf.train.Example found for edge target ID: \"http://profilesinterror.mindswap.org/document/2006/03/15/22:21:03#_http://profilesinterror.mindswap.org/document/2006/03/15/04:58:21#\"\r\n",
      "W1127 10:55:49.731343 4522884544 preprocessing_terror_dataset.py:191] No tf.train.Example found for edge target ID: \"http://profilesinterror.mindswap.org/document/2006/03/17/05:47:04#_http://profilesinterror.mindswap.org/document/2006/03/15/04:58:21#\"\r\n",
      "W1127 10:55:49.732405 4522884544 preprocessing_terror_dataset.py:191] No tf.train.Example found for edge target ID: \"http://profilesinterror.mindswap.org/document/29#FathiKhatib_http://profilesinterror.mindswap.org/document/29#MuammarSheikh\"\r\n",
      "W1127 10:55:49.738433 4522884544 preprocessing_terror_dataset.py:191] No tf.train.Example found for edge target ID: \"http://profilesinterror.mindswap.org/document/19#AhmadAjaj_http://profilesinterror.mindswap.org/document/19#Nidal_Ayyad\"\r\n",
      "W1127 10:55:49.738587 4522884544 preprocessing_terror_dataset.py:191] No tf.train.Example found for edge target ID: \"http://profilesinterror.mindswap.org/document/19#AhmadAjaj_http://profilesinterror.mindswap.org/document/4#Ramzi_Yousef\"\r\n",
      "W1127 10:55:49.738649 4522884544 preprocessing_terror_dataset.py:191] No tf.train.Example found for edge target ID: \"http://profilesinterror.mindswap.org/document/19#MohammedSalameh_http://profilesinterror.mindswap.org/document/19#AhmadAjaj\"\r\n",
      "W1127 10:55:49.740132 4522884544 preprocessing_terror_dataset.py:191] No tf.train.Example found for edge target ID: \"http://profilesinterror.mindswap.org/document/2005/07/28/16:02:44#Germaine_Lindsay_http://profilesinterror.mindswap.org/document/2005/07/28/15:59:18#Mohammad_Sidique_Khan\"\r\n",
      "W1127 10:55:49.742587 4522884544 preprocessing_terror_dataset.py:191] No tf.train.Example found for edge target ID: \"http://counterterror.mindswap.org/2005/terrorists.owl#Nizar_Trabelsi_http://profilesinterror.mindswap.org/document/2005/09/07/09:36:59#\"\r\n",
      "W1127 10:55:49.742762 4522884544 preprocessing_terror_dataset.py:191] No tf.train.Example found for edge target ID: \"http://counterterror.mindswap.org/2005/terrorists.owl#Nizar_Trabelsi_http://counterterror.mindswap.org/2005/terrorists.owl#Richard_Colvin_Reid\"\r\n",
      "W1127 10:55:49.742832 4522884544 preprocessing_terror_dataset.py:191] No tf.train.Example found for edge target ID: \"http://counterterror.mindswap.org/2005/terrorists.owl#Djamel_Beghal_http://counterterror.mindswap.org/2005/terrorists.owl#Nizar_Trabelsi\"\r\n",
      "W1127 10:55:49.744152 4522884544 preprocessing_terror_dataset.py:191] No tf.train.Example found for edge target ID: \"http://profilesinterror.mindswap.org/document/27#FarouqQaddoumi_http://profilesinterror.mindswap.org/document/2005/05/24/18:26:22#Khaled_al-Fahoum\"\r\n",
      "W1127 10:55:49.744812 4522884544 preprocessing_terror_dataset.py:191] No tf.train.Example found for edge target ID: \"http://profilesinterror.mindswap.org/document/19#MohammedSalameh_http://profilesinterror.mindswap.org/document/19#AhmadAjaj\"\r\n",
      "W1127 10:55:49.744883 4522884544 preprocessing_terror_dataset.py:191] No tf.train.Example found for edge target ID: \"http://profilesinterror.mindswap.org/document/19#MohammedSalameh_http://profilesinterror.mindswap.org/document/19#Nidal_Ayyad\"\r\n",
      "W1127 10:55:49.744936 4522884544 preprocessing_terror_dataset.py:191] No tf.train.Example found for edge target ID: \"http://profilesinterror.mindswap.org/document/19#MohammedSalameh_http://profilesinterror.mindswap.org/document/19#EyadIsmoil\"\r\n",
      "W1127 10:55:49.744984 4522884544 preprocessing_terror_dataset.py:191] No tf.train.Example found for edge target ID: \"http://profilesinterror.mindswap.org/document/19#MohammedSalameh_http://profilesinterror.mindswap.org/document/4#Ramzi_Yousef\"\r\n",
      "W1127 10:55:49.749129 4522884544 preprocessing_terror_dataset.py:191] No tf.train.Example found for edge target ID: \"http://profilesinterror.mindswap.org/document/2005/07/28/16:02:44#Germaine_Lindsay_http://profilesinterror.mindswap.org/document/2005/07/28/15:59:18#Mohammad_Sidique_Khan\"\r\n",
      "W1127 10:55:49.751508 4522884544 preprocessing_terror_dataset.py:191] No tf.train.Example found for edge target ID: \"http://profilesinterror.mindswap.org/document/2005/07/28/16:02:44#Germaine_Lindsay_http://profilesinterror.mindswap.org/document/2005/07/28/15:59:18#Mohammad_Sidique_Khan\"\r\n",
      "W1127 10:55:49.751642 4522884544 preprocessing_terror_dataset.py:191] No tf.train.Example found for edge target ID: \"http://counterterror.mindswap.org/2005/terrorists.owl#Djamel_Beghal_http://counterterror.mindswap.org/2005/terrorists.owl#Nizar_Trabelsi\"\r\n",
      "W1127 10:55:49.752271 4522884544 preprocessing_terror_dataset.py:191] No tf.train.Example found for edge target ID: \"http://counterterror.mindswap.org/2005/terrorists.owl#Djamel_Beghal_http://counterterror.mindswap.org/2005/terrorists.owl#Nizar_Trabelsi\"\r\n",
      "W1127 10:55:49.752896 4522884544 preprocessing_terror_dataset.py:191] No tf.train.Example found for edge target ID: \"http://profilesinterror.mindswap.org/document/19#AhmadAjaj_http://profilesinterror.mindswap.org/document/4#Ramzi_Yousef\"\r\n",
      "W1127 10:55:49.752962 4522884544 preprocessing_terror_dataset.py:191] No tf.train.Example found for edge target ID: \"http://profilesinterror.mindswap.org/document/19#MohammedSalameh_http://profilesinterror.mindswap.org/document/19#AhmadAjaj\"\r\n",
      "W1127 10:55:49.753014 4522884544 preprocessing_terror_dataset.py:191] No tf.train.Example found for edge target ID: \"http://profilesinterror.mindswap.org/document/19#AhmadAjaj_http://profilesinterror.mindswap.org/document/19#Nidal_Ayyad\"\r\n",
      "W1127 10:55:49.754173 4522884544 preprocessing_terror_dataset.py:191] No tf.train.Example found for edge target ID: \"http://profilesinterror.mindswap.org/document/27#FarouqQaddoumi_http://profilesinterror.mindswap.org/document/2005/05/24/18:26:22#Khaled_al-Fahoum\"\r\n",
      "W1127 10:55:49.757435 4522884544 preprocessing_terror_dataset.py:191] No tf.train.Example found for edge target ID: \"http://profilesinterror.mindswap.org/document/2006/03/17/05:42:48#_http://profilesinterror.mindswap.org/document/2006/03/15/22:21:03#\"\r\n",
      "W1127 10:55:49.757503 4522884544 preprocessing_terror_dataset.py:191] No tf.train.Example found for edge target ID: \"http://profilesinterror.mindswap.org/document/2006/03/15/22:21:03#_http://profilesinterror.mindswap.org/document/2006/03/15/04:58:21#\"\r\n",
      "W1127 10:55:49.760666 4522884544 preprocessing_terror_dataset.py:191] No tf.train.Example found for edge target ID: \"http://profilesinterror.mindswap.org/document/2005/07/28/16:02:44#Germaine_Lindsay_http://profilesinterror.mindswap.org/document/2005/07/28/15:59:18#Mohammad_Sidique_Khan\"\r\n",
      "Done creating and writing 668 merged tf.train.Examples (0.40 seconds).\r\n",
      "Out-degree histogram: [(0, 1), (1, 4), (2, 18), (3, 645)]\r\n",
      "Output training data written to TFRecord file: /tmp/CustomTerroristRel/train_merged_examples.tfr.\r\n",
      "Output test data written to TFRecord file: /tmp/CustomTerroristRel/test_examples.tfr.\r\n",
      "Total running time: 0.01 minutes.\r\n"
     ]
    }
   ],
   "source": [
    "# !wget https://raw.githubusercontent.com/tensorflow/neural-structured-learning/master/neural_structured_learning/examples/preprocess/cora/preprocess_cora_dataset.py\n",
    "\n",
    "# !python preprocess_cora_dataset.py \\\n",
    "# --input_cora_content=/tmp/cora/cora.content \\\n",
    "# --input_cora_graph=/tmp/cora/cora.cites \\\n",
    "# --max_nbrs=5 \\\n",
    "# --output_train_data=/tmp/cora/train_merged_examples.tfr \\\n",
    "# --output_test_data=/tmp/cora/test_examples.tfr\n",
    "\n",
    "# !wget https://raw.githubusercontent.com/mrweissguy/nsl/master/preprocessing_terror_dataset.py?token=AKMVMPGQOLZCWR6HB2NCZQK5XGN6U\n",
    "# https://raw.githubusercontent.com/mrweissguy/nsl/master/preprocessing_terror_dataset.py?token=AKMVMPEPFXMPBD5SDWZSSOS5XF6NO\n",
    "# !wget https://raw.githubusercontent.com/mrweissguy/nsl/master/dataset_test_1/preprocessing_terror_dataset.py?token=AKMVMPBECTX7YBDS2EH3I5K5ZPDUE\n",
    "  \n",
    "!python preprocessing_terror_dataset.py \\\n",
    "--input_cora_content=/tmp/CustomTerroristRel/collected.nodes \\\n",
    "--input_cora_graph=/tmp/CustomTerroristRel/TerroristRel.edges \\\n",
    "--max_nbrs=3 \\\n",
    "--output_train_data=/tmp/CustomTerroristRel/train_merged_examples.tfr \\\n",
    "--output_test_data=/tmp/CustomTerroristRel/test_examples.tfr\n"
   ]
  },
  {
   "cell_type": "markdown",
   "metadata": {
    "colab_type": "text",
    "id": "DXoyHIdV5hEe"
   },
   "source": [
    "## Global variables\n",
    "\n",
    "The file paths to the train and test data are based on the command line flag\n",
    "values used to invoke the **'preprocess_cora_dataset.py'** script above."
   ]
  },
  {
   "cell_type": "code",
   "execution_count": 7,
   "metadata": {
    "colab": {},
    "colab_type": "code",
    "id": "kKAmzKIH6I9f"
   },
   "outputs": [],
   "source": [
    "# ### Experiment dataset\n",
    "# TRAIN_DATA_PATH = '/tmp/cora/train_merged_examples.tfr'\n",
    "# TEST_DATA_PATH = '/tmp/cora/test_examples.tfr'\n",
    "\n",
    "# ### Constants used to identify neighbor features in the input.\n",
    "# NBR_FEATURE_PREFIX = 'NL_nbr_'\n",
    "# NBR_WEIGHT_SUFFIX = '_weight'\n",
    "\n",
    "### Experiment dataset\n",
    "TRAIN_DATA_PATH = '/tmp/CustomTerroristRel/train_merged_examples.tfr'\n",
    "TEST_DATA_PATH = '/tmp/CustomTerroristRel/test_examples.tfr'\n",
    "\n",
    "### Constants used to identify neighbor features in the input.\n",
    "NBR_FEATURE_PREFIX = 'NL_nbr_'\n",
    "NBR_WEIGHT_SUFFIX = '_weight'"
   ]
  },
  {
   "cell_type": "code",
   "execution_count": null,
   "metadata": {},
   "outputs": [],
   "source": []
  },
  {
   "cell_type": "markdown",
   "metadata": {
    "colab_type": "text",
    "id": "2gYWAqJqZ76I"
   },
   "source": [
    "## Hyperparameters\n",
    "\n",
    "We will use an instance of `HParams` to inclue various hyperparameters and\n",
    "constants used for training and evaluation. We briefly describe each of them\n",
    "below:\n",
    "\n",
    "-   **num_classes**: There are a total 7 different classes\n",
    "\n",
    "-   **max_seq_length**: This is the size of the vocabulary and all instances in\n",
    "    the input have a dense multi-hot, bag-of-words representation. In other\n",
    "    words, a value of 1 for a word indicates that the word is present in the\n",
    "    input and a value of 0 indicates that it is not.\n",
    "\n",
    "-   **distance_type**: This is the distance metric used to regularize the sample\n",
    "    with its neighbors.\n",
    "\n",
    "-   **graph_regularization_multiplier**: This controls the relative weight of\n",
    "    the graph regularization term in the overall loss function.\n",
    "\n",
    "-   **num_neighbors**: The number of neighbors used for graph regularization.\n",
    "    This value has to be less than or equal to the `max_nbrs` command-line\n",
    "    argument used above when running `preprocess_cora_dataset.py`.\n",
    "\n",
    "-   **num_fc_units**: The number of fully connected layers in our neural\n",
    "    network.\n",
    "\n",
    "-   **train_epochs**: The number of training epochs.\n",
    "\n",
    "-   **batch_size**: Batch size used for training and evaluation.\n",
    "\n",
    "-   **dropout_rate**: Controls the rate of dropout following each fully\n",
    "    connected layer\n",
    "\n",
    "-   **eval_steps**: The number of batches to process before deeming evaluation\n",
    "    is complete. If set to `None`, all instances in the test set are evaluated."
   ]
  },
  {
   "cell_type": "code",
   "execution_count": 8,
   "metadata": {
    "colab": {},
    "colab_type": "code",
    "id": "N03EFEkcOBaJ"
   },
   "outputs": [],
   "source": [
    "class HParams(object):\n",
    "  \"\"\"Hyperparameters used for training.\"\"\"\n",
    "  def __init__(self):\n",
    "    ### dataset parameters\n",
    "    self.num_classes = 4\n",
    "#     self.num_classes = 2\n",
    "    self.max_seq_length = 1224 # distinct features\n",
    "    ### neural graph learning parameters\n",
    "    self.distance_type = nsl.configs.DistanceType.L2\n",
    "    self.graph_regularization_multiplier = 0.1\n",
    "    self.num_neighbors = 1\n",
    "    ### model architecture\n",
    "    self.num_fc_units = [50,50]\n",
    "    ### training parameters\n",
    "    self.train_epochs = 150\n",
    "    self.batch_size = 150\n",
    "    self.dropout_rate = 0.5\n",
    "    ### eval parameters\n",
    "    self.eval_steps = None  # All instances in the test set are evaluated.\n",
    "\n",
    "HPARAMS = HParams()"
   ]
  },
  {
   "cell_type": "markdown",
   "metadata": {
    "colab_type": "text",
    "id": "IMp34x0MfMMZ"
   },
   "source": [
    "## Load train and test data\n",
    "\n",
    "As described earlier in this notebook, the input training and test data have\n",
    "been created by the **'preprocess_cora_dataset.py'**. We will load them into two\n",
    "`tf.data.Dataset` objects -- one for train and one for test.\n",
    "\n",
    "In the input layer of our model, we will extract not just the 'words' and the\n",
    "'label' features from each sample, but also corresponding neighbor features\n",
    "based on the `hparams.num_neighbors`. Instances with fewer neighbors than\n",
    "`hparams.num_neighbors` will be assigned dummy values for those non-existent\n",
    "neighbor features."
   ]
  },
  {
   "cell_type": "code",
   "execution_count": 9,
   "metadata": {
    "colab": {},
    "colab_type": "code",
    "id": "LCKQVKGee1ST"
   },
   "outputs": [],
   "source": [
    "def parse_example(example_proto):\n",
    "  \"\"\"Extracts relevant fields from the `example_proto`.\n",
    "\n",
    "  Args:\n",
    "    example_proto: An instance of `tf.train.Example`.\n",
    "\n",
    "  Returns:\n",
    "    A pair whose first value is a dictionary containing relevant features\n",
    "    and whose second value contains the ground truth labels.\n",
    "  \"\"\"\n",
    "  # The 'words' feature is a multi-hot, bag-of-words representation of the\n",
    "  # original raw text. A default value is required for examples that don't\n",
    "  # have the feature.\n",
    "  feature_spec = {\n",
    "      'words':\n",
    "          tf.io.FixedLenFeature([HPARAMS.max_seq_length],\n",
    "                                tf.int64,\n",
    "                                default_value=tf.constant(\n",
    "                                    0,\n",
    "                                    dtype=tf.int64,\n",
    "                                    shape=[HPARAMS.max_seq_length])),\n",
    "      'label':\n",
    "          tf.io.FixedLenFeature((), tf.int64, default_value=-1),\n",
    "  }\n",
    "  # We also extract corresponding neighbor features in a similar manner to\n",
    "  # the features above.\n",
    "  for i in range(HPARAMS.num_neighbors):\n",
    "    nbr_feature_key = '{}{}_{}'.format(NBR_FEATURE_PREFIX, i, 'words')\n",
    "    nbr_weight_key = '{}{}{}'.format(NBR_FEATURE_PREFIX, i, NBR_WEIGHT_SUFFIX)\n",
    "    feature_spec[nbr_feature_key] = tf.io.FixedLenFeature(\n",
    "        [HPARAMS.max_seq_length],\n",
    "        tf.int64,\n",
    "        default_value=tf.constant(\n",
    "            0, dtype=tf.int64, shape=[HPARAMS.max_seq_length]))\n",
    "\n",
    "    # We assign a default value of 0.0 for the neighbor weight so that\n",
    "    # graph regularization is done on samples based on their exact number\n",
    "    # of neighbors. In other words, non-existent neighbors are discounted.\n",
    "    feature_spec[nbr_weight_key] = tf.io.FixedLenFeature(\n",
    "        [1], tf.float32, default_value=tf.constant([0.0]))\n",
    "\n",
    "  features = tf.io.parse_single_example(example_proto, feature_spec)\n",
    "\n",
    "  labels = features.pop('label')\n",
    "  return features, labels\n",
    "\n",
    "\n",
    "def make_dataset(file_path, training=False):\n",
    "  \"\"\"Creates a `tf.data.TFRecordDataset`.\n",
    "\n",
    "  Args:\n",
    "    file_path: Name of the file in the `.tfrecord` format containing\n",
    "      `tf.train.Example` objects.\n",
    "    training: Boolean indicating if we are in training mode.\n",
    "\n",
    "  Returns:\n",
    "    An instance of `tf.data.TFRecordDataset` containing the `tf.train.Example`\n",
    "    objects.\n",
    "  \"\"\"\n",
    "  dataset = tf.data.TFRecordDataset([file_path])\n",
    "  if training:\n",
    "    dataset = dataset.shuffle(10000)\n",
    "  dataset = dataset.map(parse_example)\n",
    "  dataset = dataset.batch(HPARAMS.batch_size)\n",
    "  return dataset\n",
    "\n",
    "\n",
    "train_dataset = make_dataset(TRAIN_DATA_PATH, training=True)\n",
    "test_dataset = make_dataset(TEST_DATA_PATH)"
   ]
  },
  {
   "cell_type": "markdown",
   "metadata": {
    "colab_type": "text",
    "id": "hEWEGhtVzI2p"
   },
   "source": [
    "Let's peek into the train dataset to look at its contents."
   ]
  },
  {
   "cell_type": "code",
   "execution_count": 10,
   "metadata": {
    "colab": {},
    "colab_type": "code",
    "id": "gx-YFaBoCOcl"
   },
   "outputs": [
    {
     "name": "stdout",
     "output_type": "stream",
     "text": [
      "Feature list: ['NL_nbr_0_weight', 'NL_nbr_0_words', 'words']\n",
      "Batch of inputs: tf.Tensor(\n",
      "[[0 0 0 ... 0 0 0]\n",
      " [0 0 0 ... 0 0 0]\n",
      " [0 0 0 ... 0 0 0]\n",
      " ...\n",
      " [0 0 0 ... 0 0 0]\n",
      " [0 0 0 ... 0 0 0]\n",
      " [0 0 0 ... 0 1 0]], shape=(150, 1224), dtype=int64)\n",
      "Batch of neighbor inputs: tf.Tensor(\n",
      "[[0 0 0 ... 0 0 0]\n",
      " [0 0 0 ... 0 0 0]\n",
      " [0 0 0 ... 0 0 0]\n",
      " ...\n",
      " [0 0 0 ... 0 0 0]\n",
      " [0 0 0 ... 0 0 0]\n",
      " [0 0 0 ... 0 1 0]], shape=(150, 1224), dtype=int64)\n",
      "Batch of neighbor weights: tf.Tensor(\n",
      "[1. 1. 1. 1. 1. 1. 1. 1. 1. 1. 1. 1. 1. 1. 1. 1. 1. 1. 1. 1. 1. 1. 1. 1.\n",
      " 1. 1. 1. 1. 1. 1. 1. 1. 1. 1. 1. 1. 1. 1. 1. 1. 1. 1. 1. 1. 1. 1. 1. 1.\n",
      " 1. 1. 1. 1. 1. 1. 1. 1. 1. 1. 1. 1. 1. 1. 1. 1. 1. 1. 1. 1. 1. 1. 1. 1.\n",
      " 1. 1. 1. 1. 1. 1. 1. 1. 1. 1. 1. 1. 1. 1. 1. 1. 1. 1. 1. 1. 1. 1. 1. 1.\n",
      " 1. 1. 1. 1. 1. 1. 1. 1. 1. 1. 1. 1. 1. 1. 1. 1. 1. 1. 1. 1. 1. 1. 1. 1.\n",
      " 1. 1. 1. 1. 1. 1. 1. 1. 1. 1. 1. 1. 1. 1. 1. 1. 1. 1. 1. 1. 1. 1. 1. 1.\n",
      " 1. 1. 1. 1. 1. 1.], shape=(150,), dtype=float32)\n",
      "Batch of labels: tf.Tensor(\n",
      "[2 2 2 2 2 1 2 0 0 1 1 1 2 2 3 3 2 2 2 3 2 0 1 1 2 2 3 2 3 2 2 2 2 3 2 2 0\n",
      " 0 1 0 2 3 1 1 2 2 2 2 3 2 0 2 2 3 2 3 0 3 2 2 0 3 2 2 0 0 2 2 1 2 1 1 1 3\n",
      " 3 2 2 2 1 2 2 2 2 2 2 1 0 2 3 0 0 2 2 2 1 3 3 2 0 1 1 2 2 1 0 1 1 2 2 0 2\n",
      " 3 2 1 2 3 2 2 2 3 0 3 0 1 2 1 2 2 1 2 0 3 2 2 1 0 0 1 0 2 1 2 2 2 2 2 1 2\n",
      " 2 2], shape=(150,), dtype=int64)\n"
     ]
    }
   ],
   "source": [
    "for feature_batch, label_batch in train_dataset.take(1):\n",
    "    print('Feature list:', list(feature_batch.keys()))\n",
    "    print('Batch of inputs:', feature_batch['words'])\n",
    "    nbr_feature_key = '{}{}_{}'.format(NBR_FEATURE_PREFIX, 0, 'words')\n",
    "    nbr_weight_key = '{}{}{}'.format(NBR_FEATURE_PREFIX, 0, NBR_WEIGHT_SUFFIX)\n",
    "    print('Batch of neighbor inputs:', feature_batch[nbr_feature_key])\n",
    "    print('Batch of neighbor weights:',\n",
    "        tf.reshape(feature_batch[nbr_weight_key], [-1]))\n",
    "    print('Batch of labels:', label_batch)"
   ]
  },
  {
   "cell_type": "markdown",
   "metadata": {
    "colab_type": "text",
    "id": "J7B30hRPzOBE"
   },
   "source": [
    "Let's peek into the test dataset to look at its contents."
   ]
  },
  {
   "cell_type": "code",
   "execution_count": 11,
   "metadata": {
    "colab": {},
    "colab_type": "code",
    "id": "kNJuM9yJiFtj"
   },
   "outputs": [
    {
     "name": "stdout",
     "output_type": "stream",
     "text": [
      "Feature list: ['NL_nbr_0_weight', 'NL_nbr_0_words', 'words']\n",
      "Batch of inputs: tf.Tensor(\n",
      "[[0 0 0 ... 0 0 0]\n",
      " [0 0 0 ... 0 0 0]\n",
      " [0 0 0 ... 0 0 0]\n",
      " ...\n",
      " [0 0 0 ... 0 0 0]\n",
      " [0 0 0 ... 0 0 0]\n",
      " [0 0 0 ... 0 0 0]], shape=(150, 1224), dtype=int64)\n",
      "Batch of neighbor inputs: tf.Tensor(\n",
      "[[0 0 0 ... 0 0 0]\n",
      " [0 0 0 ... 0 0 0]\n",
      " [0 0 0 ... 0 0 0]\n",
      " ...\n",
      " [0 0 0 ... 0 0 0]\n",
      " [0 0 0 ... 0 0 0]\n",
      " [0 0 0 ... 0 0 0]], shape=(150, 1224), dtype=int64)\n",
      "Batch of neighbor weights: tf.Tensor(\n",
      "[0. 0. 0. 0. 0. 0. 0. 0. 0. 0. 0. 0. 0. 0. 0. 0. 0. 0. 0. 0. 0. 0. 0. 0.\n",
      " 0. 0. 0. 0. 0. 0. 0. 0. 0. 0. 0. 0. 0. 0. 0. 0. 0. 0. 0. 0. 0. 0. 0. 0.\n",
      " 0. 0. 0. 0. 0. 0. 0. 0. 0. 0. 0. 0. 0. 0. 0. 0. 0. 0. 0. 0. 0. 0. 0. 0.\n",
      " 0. 0. 0. 0. 0. 0. 0. 0. 0. 0. 0. 0. 0. 0. 0. 0. 0. 0. 0. 0. 0. 0. 0. 0.\n",
      " 0. 0. 0. 0. 0. 0. 0. 0. 0. 0. 0. 0. 0. 0. 0. 0. 0. 0. 0. 0. 0. 0. 0. 0.\n",
      " 0. 0. 0. 0. 0. 0. 0. 0. 0. 0. 0. 0. 0. 0. 0. 0. 0. 0. 0. 0. 0. 0. 0. 0.\n",
      " 0. 0. 0. 0. 0. 0.], shape=(150,), dtype=float32)\n",
      "Batch of labels: tf.Tensor(\n",
      "[2 0 0 2 2 1 2 3 1 2 3 2 2 3 1 2 2 2 2 2 2 1 2 1 2 2 0 0 1 2 3 1 1 2 2 2 2\n",
      " 1 1 2 2 2 2 2 0 2 2 2 2 1 2 1 2 2 2 2 1 3 1 2 0 0 2 2 0 0 2 2 2 0 0 1 0 3\n",
      " 2 0 3 0 2 1 2 2 0 2 2 2 1 2 2 0 3 2 2 3 2 3 2 0 2 2 2 0 2 2 2 2 2 2 2 0 0\n",
      " 0 3 3 2 2 3 2 2 1 2 2 3 2 3 2 2 2 0 2 2 2 3 0 3 1 2 1 0 0 2 0 2 2 1 2 2 2\n",
      " 0 2], shape=(150,), dtype=int64)\n"
     ]
    }
   ],
   "source": [
    "for feature_batch, label_batch in test_dataset.take(1):\n",
    "    print('Feature list:', list(feature_batch.keys()))\n",
    "    print('Batch of inputs:', feature_batch['words'])\n",
    "    nbr_feature_key = '{}{}_{}'.format(NBR_FEATURE_PREFIX, 0, 'words')\n",
    "    nbr_weight_key = '{}{}{}'.format(NBR_FEATURE_PREFIX, 0, NBR_WEIGHT_SUFFIX)\n",
    "    print('Batch of neighbor inputs:', feature_batch[nbr_feature_key])\n",
    "    print('Batch of neighbor weights:',\n",
    "        tf.reshape(feature_batch[nbr_weight_key], [-1]))\n",
    "    print('Batch of labels:', label_batch)"
   ]
  },
  {
   "cell_type": "markdown",
   "metadata": {
    "colab_type": "text",
    "id": "OZhsTo8yio8i"
   },
   "source": [
    "## Model definition\n",
    "\n",
    "In order to demonstrate the use of graph regularization, we build a base model\n",
    "for this problem first. We will use a simple feed-forward neural network with 2\n",
    "hidden layers and dropout in between. We illustrate the creation of the base\n",
    "model using all model types supported by the `tf.Keras` framework -- sequential,\n",
    "functional, and subclass."
   ]
  },
  {
   "cell_type": "markdown",
   "metadata": {
    "colab_type": "text",
    "id": "z_kBDDfFiuyI"
   },
   "source": [
    "### Sequential base model"
   ]
  },
  {
   "cell_type": "code",
   "execution_count": 12,
   "metadata": {
    "colab": {},
    "colab_type": "code",
    "id": "pecJmegfWijx"
   },
   "outputs": [],
   "source": [
    "def make_mlp_sequential_model(hparams):\n",
    "  \"\"\"Creates a sequential multi-layer perceptron model.\"\"\"\n",
    "  model = tf.keras.Sequential()\n",
    "  model.add(\n",
    "      tf.keras.layers.InputLayer(\n",
    "          input_shape=(hparams.max_seq_length,), name='words'))\n",
    "  # Input is already one-hot encoded in the integer format. We cast it to\n",
    "  # floating point format here.\n",
    "  model.add(\n",
    "      tf.keras.layers.Lambda(lambda x: tf.keras.backend.cast(x, tf.float32)))\n",
    "  for num_units in hparams.num_fc_units:\n",
    "    model.add(tf.keras.layers.Dense(num_units, activation='relu'))\n",
    "    # For sequential models, by default, Keras ensures that the 'dropout' layer\n",
    "    # is invoked only during training.\n",
    "    model.add(tf.keras.layers.Dropout(hparams.dropout_rate))\n",
    "  model.add(tf.keras.layers.Dense(hparams.num_classes, activation='softmax'))\n",
    "  return model"
   ]
  },
  {
   "cell_type": "markdown",
   "metadata": {
    "colab_type": "text",
    "id": "FfZWxqVPiz_f"
   },
   "source": [
    "### Functional base model"
   ]
  },
  {
   "cell_type": "code",
   "execution_count": 13,
   "metadata": {
    "colab": {},
    "colab_type": "code",
    "id": "TU-YE4NXi7PK"
   },
   "outputs": [],
   "source": [
    "def make_mlp_functional_model(hparams):\n",
    "    \"\"\"Creates a functional API-based multi-layer perceptron model.\"\"\"\n",
    "    inputs = tf.keras.Input(shape=(hparams.max_seq_length,), dtype='int64', name='words')\n",
    "\n",
    "  # Input is already one-hot encoded in the integer format. We cast it to\n",
    "  # floating point format here.\n",
    "    cur_layer = tf.keras.layers.Lambda(\n",
    "      lambda x: tf.keras.backend.cast(x, tf.float32))(\n",
    "          inputs)\n",
    "\n",
    "    for num_units in hparams.num_fc_units:\n",
    "        cur_layer = tf.keras.layers.Dense(num_units, activation='relu')(cur_layer)\n",
    "        # For functional models, by default, Keras ensures that the 'dropout' layer\n",
    "        # is invoked only during training.\n",
    "        cur_layer = tf.keras.layers.Dropout(hparams.dropout_rate)(cur_layer)\n",
    "        cur_layer = tf.keras.layers.BatchNormalization()(cur_layer)\n",
    "\n",
    "    outputs = tf.keras.layers.Dense(\n",
    "      hparams.num_classes, activation='softmax')(\n",
    "          cur_layer)\n",
    "\n",
    "    model = tf.keras.Model(inputs, outputs=outputs)\n",
    "    return model"
   ]
  },
  {
   "cell_type": "code",
   "execution_count": 14,
   "metadata": {},
   "outputs": [],
   "source": [
    "# inputs = tf.keras.Input(\n",
    "#       shape=(1224,), dtype='int64', name='words')\n",
    "\n",
    "# cur_layer = tf.keras.layers.Lambda(\n",
    "#       lambda x: tf.keras.backend.cast(x, tf.float32))(\n",
    "#           inputs)\n",
    "\n",
    "# base_model = tf.keras.Sequential([\n",
    "#         tf.keras.layers.Dense(10, input_dim=inputs, activation=tf.nn.relu)(cur_layer),\n",
    "#         tf.keras.layers.BatchNormalization(),\n",
    "#         tf.keras.layers.Dropout(rate=0.5),\n",
    "#         tf.keras.layers.Dense(1, activation=tf.nn.softmax)\n",
    "#     ])"
   ]
  },
  {
   "cell_type": "markdown",
   "metadata": {
    "colab_type": "text",
    "id": "8LmAhITRi8M0"
   },
   "source": [
    "### Subclass base model"
   ]
  },
  {
   "cell_type": "code",
   "execution_count": 15,
   "metadata": {
    "colab": {},
    "colab_type": "code",
    "id": "4l1aK9b_jAw6"
   },
   "outputs": [],
   "source": [
    "def make_mlp_subclass_model(hparams):\n",
    "  \"\"\"Creates a multi-layer perceptron subclass model in Keras.\"\"\"\n",
    "\n",
    "  class MLP(tf.keras.Model):\n",
    "    \"\"\"Subclass model defining a multi-layer perceptron.\"\"\"\n",
    "\n",
    "    def __init__(self):\n",
    "      super(MLP, self).__init__()\n",
    "      # Input is already one-hot encoded in the integer format. We create a\n",
    "      # layer to cast it to floating point format here.\n",
    "      self.cast_to_float_layer = tf.keras.layers.Lambda(\n",
    "          lambda x: tf.keras.backend.cast(x, tf.float32))\n",
    "      self.dense_layers = [\n",
    "          tf.keras.layers.Dense(num_units, activation='relu')\n",
    "          for num_units in hparams.num_fc_units\n",
    "      ]\n",
    "      self.dropout_layer = tf.keras.layers.Dropout(hparams.dropout_rate)\n",
    "      self.output_layer = tf.keras.layers.Dense(\n",
    "          hparams.num_classes, activation='softmax')\n",
    "\n",
    "    def call(self, inputs, training=False):\n",
    "      cur_layer = self.cast_to_float_layer(inputs['words'])\n",
    "      for dense_layer in self.dense_layers:\n",
    "        cur_layer = dense_layer(cur_layer)\n",
    "        cur_layer = self.dropout_layer(cur_layer, training=training)\n",
    "\n",
    "      outputs = self.output_layer(cur_layer)\n",
    "\n",
    "      return outputs\n",
    "\n",
    "  return MLP()"
   ]
  },
  {
   "cell_type": "markdown",
   "metadata": {
    "colab_type": "text",
    "id": "BbGpIbscjIAo"
   },
   "source": [
    "## Create base model(s)"
   ]
  },
  {
   "cell_type": "code",
   "execution_count": 16,
   "metadata": {
    "colab": {},
    "colab_type": "code",
    "id": "fzMBxiMGjCO4"
   },
   "outputs": [
    {
     "name": "stdout",
     "output_type": "stream",
     "text": [
      "Model: \"model\"\n",
      "_________________________________________________________________\n",
      "Layer (type)                 Output Shape              Param #   \n",
      "=================================================================\n",
      "words (InputLayer)           [(None, 1224)]            0         \n",
      "_________________________________________________________________\n",
      "lambda (Lambda)              (None, 1224)              0         \n",
      "_________________________________________________________________\n",
      "dense (Dense)                (None, 50)                61250     \n",
      "_________________________________________________________________\n",
      "dropout (Dropout)            (None, 50)                0         \n",
      "_________________________________________________________________\n",
      "batch_normalization (BatchNo (None, 50)                200       \n",
      "_________________________________________________________________\n",
      "dense_1 (Dense)              (None, 50)                2550      \n",
      "_________________________________________________________________\n",
      "dropout_1 (Dropout)          (None, 50)                0         \n",
      "_________________________________________________________________\n",
      "batch_normalization_1 (Batch (None, 50)                200       \n",
      "_________________________________________________________________\n",
      "dense_2 (Dense)              (None, 4)                 204       \n",
      "=================================================================\n",
      "Total params: 64,404\n",
      "Trainable params: 64,204\n",
      "Non-trainable params: 200\n",
      "_________________________________________________________________\n"
     ]
    }
   ],
   "source": [
    "# Create a base MLP model using the functional API.\n",
    "# Alternatively, you can also create a sequential or subclass base model using\n",
    "# the make_mlp_sequential_model() or make_mlp_subclass_model() functions\n",
    "# respectively, defined above. Note that if a subclass model is used, its\n",
    "# summary cannot be generated until it is built.\n",
    "base_model_tag, base_model = 'FUNCTIONAL', make_mlp_functional_model(HPARAMS)\n",
    "base_model.summary()"
   ]
  },
  {
   "cell_type": "markdown",
   "metadata": {
    "colab_type": "text",
    "id": "T1uEboimjiW7"
   },
   "source": [
    "## Train base (Multilayer perceptron) MLP model"
   ]
  },
  {
   "cell_type": "code",
   "execution_count": 17,
   "metadata": {
    "colab": {},
    "colab_type": "code",
    "id": "JALapM4PoCvi",
    "scrolled": true
   },
   "outputs": [
    {
     "name": "stdout",
     "output_type": "stream",
     "text": [
      "Epoch 1/150\n",
      "5/5 [==============================] - 1s 223ms/step - loss: 1.8645 - accuracy: 0.3054 - val_loss: 0.0000e+00 - val_accuracy: 0.0000e+00\n",
      "Epoch 2/150\n",
      "5/5 [==============================] - 0s 22ms/step - loss: 1.5874 - accuracy: 0.3907 - val_loss: 1.3005 - val_accuracy: 0.6284\n",
      "Epoch 3/150\n",
      "5/5 [==============================] - 0s 22ms/step - loss: 1.4199 - accuracy: 0.4386 - val_loss: 1.2579 - val_accuracy: 0.6557\n",
      "Epoch 4/150\n",
      "5/5 [==============================] - 0s 22ms/step - loss: 1.2442 - accuracy: 0.5075 - val_loss: 1.2210 - val_accuracy: 0.6393\n",
      "Epoch 5/150\n",
      "5/5 [==============================] - 0s 21ms/step - loss: 1.1664 - accuracy: 0.5165 - val_loss: 1.1901 - val_accuracy: 0.6339\n",
      "Epoch 6/150\n",
      "5/5 [==============================] - 0s 20ms/step - loss: 1.1302 - accuracy: 0.5419 - val_loss: 1.1652 - val_accuracy: 0.6284\n",
      "Epoch 7/150\n",
      "5/5 [==============================] - 0s 20ms/step - loss: 1.0272 - accuracy: 0.5838 - val_loss: 1.1435 - val_accuracy: 0.6339\n",
      "Epoch 8/150\n",
      "5/5 [==============================] - 0s 20ms/step - loss: 0.9515 - accuracy: 0.6198 - val_loss: 1.1239 - val_accuracy: 0.6230\n",
      "Epoch 9/150\n",
      "5/5 [==============================] - 0s 21ms/step - loss: 0.9670 - accuracy: 0.6347 - val_loss: 1.1050 - val_accuracy: 0.6230\n",
      "Epoch 10/150\n",
      "5/5 [==============================] - 0s 22ms/step - loss: 0.9081 - accuracy: 0.6422 - val_loss: 1.0878 - val_accuracy: 0.6230\n",
      "Epoch 11/150\n",
      "5/5 [==============================] - 0s 21ms/step - loss: 0.8878 - accuracy: 0.6662 - val_loss: 1.0731 - val_accuracy: 0.6230\n",
      "Epoch 12/150\n",
      "5/5 [==============================] - 0s 22ms/step - loss: 0.8955 - accuracy: 0.6602 - val_loss: 1.0592 - val_accuracy: 0.6175\n",
      "Epoch 13/150\n",
      "5/5 [==============================] - 0s 22ms/step - loss: 0.8246 - accuracy: 0.6916 - val_loss: 1.0469 - val_accuracy: 0.6175\n",
      "Epoch 14/150\n",
      "5/5 [==============================] - 0s 25ms/step - loss: 0.7897 - accuracy: 0.7171 - val_loss: 1.0342 - val_accuracy: 0.6175\n",
      "Epoch 15/150\n",
      "5/5 [==============================] - 0s 21ms/step - loss: 0.7223 - accuracy: 0.7455 - val_loss: 1.0239 - val_accuracy: 0.6175\n",
      "Epoch 16/150\n",
      "5/5 [==============================] - 0s 21ms/step - loss: 0.7489 - accuracy: 0.7305 - val_loss: 1.0142 - val_accuracy: 0.6175\n",
      "Epoch 17/150\n",
      "5/5 [==============================] - 0s 21ms/step - loss: 0.7459 - accuracy: 0.7036 - val_loss: 1.0040 - val_accuracy: 0.6175\n",
      "Epoch 18/150\n",
      "5/5 [==============================] - 0s 21ms/step - loss: 0.7036 - accuracy: 0.7335 - val_loss: 0.9931 - val_accuracy: 0.6230\n",
      "Epoch 19/150\n",
      "5/5 [==============================] - 0s 22ms/step - loss: 0.6699 - accuracy: 0.7455 - val_loss: 0.9860 - val_accuracy: 0.6230\n",
      "Epoch 20/150\n",
      "5/5 [==============================] - 0s 21ms/step - loss: 0.6499 - accuracy: 0.7710 - val_loss: 0.9762 - val_accuracy: 0.6284\n",
      "Epoch 21/150\n",
      "5/5 [==============================] - 0s 22ms/step - loss: 0.6387 - accuracy: 0.7560 - val_loss: 0.9666 - val_accuracy: 0.6393\n",
      "Epoch 22/150\n",
      "5/5 [==============================] - 0s 23ms/step - loss: 0.6209 - accuracy: 0.7754 - val_loss: 0.9552 - val_accuracy: 0.6393\n",
      "Epoch 23/150\n",
      "5/5 [==============================] - 0s 22ms/step - loss: 0.6303 - accuracy: 0.7740 - val_loss: 0.9460 - val_accuracy: 0.6557\n",
      "Epoch 24/150\n",
      "5/5 [==============================] - 0s 21ms/step - loss: 0.6022 - accuracy: 0.7769 - val_loss: 0.9384 - val_accuracy: 0.6503\n",
      "Epoch 25/150\n",
      "5/5 [==============================] - 0s 20ms/step - loss: 0.5490 - accuracy: 0.7994 - val_loss: 0.9317 - val_accuracy: 0.6503\n",
      "Epoch 26/150\n",
      "5/5 [==============================] - 0s 21ms/step - loss: 0.5545 - accuracy: 0.7889 - val_loss: 0.9239 - val_accuracy: 0.6503\n",
      "Epoch 27/150\n",
      "5/5 [==============================] - 0s 21ms/step - loss: 0.5419 - accuracy: 0.7979 - val_loss: 0.9141 - val_accuracy: 0.6612\n",
      "Epoch 28/150\n",
      "5/5 [==============================] - 0s 23ms/step - loss: 0.5288 - accuracy: 0.7964 - val_loss: 0.9039 - val_accuracy: 0.6612\n",
      "Epoch 29/150\n",
      "5/5 [==============================] - 0s 21ms/step - loss: 0.5215 - accuracy: 0.7994 - val_loss: 0.8939 - val_accuracy: 0.6776\n",
      "Epoch 30/150\n",
      "5/5 [==============================] - 0s 21ms/step - loss: 0.5308 - accuracy: 0.8024 - val_loss: 0.8834 - val_accuracy: 0.6776\n",
      "Epoch 31/150\n",
      "5/5 [==============================] - 0s 22ms/step - loss: 0.5105 - accuracy: 0.8144 - val_loss: 0.8716 - val_accuracy: 0.6721\n",
      "Epoch 32/150\n",
      "5/5 [==============================] - 0s 22ms/step - loss: 0.5150 - accuracy: 0.8234 - val_loss: 0.8640 - val_accuracy: 0.6667\n",
      "Epoch 33/150\n",
      "5/5 [==============================] - 0s 23ms/step - loss: 0.4732 - accuracy: 0.8293 - val_loss: 0.8568 - val_accuracy: 0.6557\n",
      "Epoch 34/150\n",
      "5/5 [==============================] - 0s 23ms/step - loss: 0.4452 - accuracy: 0.8353 - val_loss: 0.8521 - val_accuracy: 0.6612\n",
      "Epoch 35/150\n",
      "5/5 [==============================] - 0s 23ms/step - loss: 0.4597 - accuracy: 0.8308 - val_loss: 0.8419 - val_accuracy: 0.6612\n",
      "Epoch 36/150\n",
      "5/5 [==============================] - 0s 20ms/step - loss: 0.4544 - accuracy: 0.8278 - val_loss: 0.8319 - val_accuracy: 0.6667\n",
      "Epoch 37/150\n",
      "5/5 [==============================] - 0s 20ms/step - loss: 0.4526 - accuracy: 0.8308 - val_loss: 0.8171 - val_accuracy: 0.6667\n",
      "Epoch 38/150\n",
      "5/5 [==============================] - 0s 25ms/step - loss: 0.4312 - accuracy: 0.8338 - val_loss: 0.8095 - val_accuracy: 0.6776\n",
      "Epoch 39/150\n",
      "5/5 [==============================] - 0s 21ms/step - loss: 0.4353 - accuracy: 0.8308 - val_loss: 0.7990 - val_accuracy: 0.6885\n",
      "Epoch 40/150\n",
      "5/5 [==============================] - 0s 21ms/step - loss: 0.3658 - accuracy: 0.8698 - val_loss: 0.7882 - val_accuracy: 0.7049\n",
      "Epoch 41/150\n",
      "5/5 [==============================] - 0s 22ms/step - loss: 0.4280 - accuracy: 0.8563 - val_loss: 0.7760 - val_accuracy: 0.7049\n",
      "Epoch 42/150\n",
      "5/5 [==============================] - 0s 22ms/step - loss: 0.3697 - accuracy: 0.8653 - val_loss: 0.7654 - val_accuracy: 0.7049\n",
      "Epoch 43/150\n",
      "5/5 [==============================] - 0s 23ms/step - loss: 0.3963 - accuracy: 0.8383 - val_loss: 0.7600 - val_accuracy: 0.7213\n",
      "Epoch 44/150\n",
      "5/5 [==============================] - 0s 20ms/step - loss: 0.3972 - accuracy: 0.8413 - val_loss: 0.7509 - val_accuracy: 0.7213\n",
      "Epoch 45/150\n",
      "5/5 [==============================] - 0s 20ms/step - loss: 0.3868 - accuracy: 0.8743 - val_loss: 0.7415 - val_accuracy: 0.7322\n",
      "Epoch 46/150\n",
      "5/5 [==============================] - 0s 21ms/step - loss: 0.3742 - accuracy: 0.8548 - val_loss: 0.7324 - val_accuracy: 0.7322\n",
      "Epoch 47/150\n",
      "5/5 [==============================] - 0s 20ms/step - loss: 0.3824 - accuracy: 0.8518 - val_loss: 0.7222 - val_accuracy: 0.7322\n",
      "Epoch 48/150\n",
      "5/5 [==============================] - 0s 21ms/step - loss: 0.3798 - accuracy: 0.8653 - val_loss: 0.7147 - val_accuracy: 0.7322\n",
      "Epoch 49/150\n",
      "5/5 [==============================] - 0s 22ms/step - loss: 0.3587 - accuracy: 0.8728 - val_loss: 0.7040 - val_accuracy: 0.7322\n",
      "Epoch 50/150\n",
      "5/5 [==============================] - 0s 25ms/step - loss: 0.3197 - accuracy: 0.8847 - val_loss: 0.6974 - val_accuracy: 0.7322\n",
      "Epoch 51/150\n",
      "5/5 [==============================] - 0s 22ms/step - loss: 0.3391 - accuracy: 0.8698 - val_loss: 0.6857 - val_accuracy: 0.7432\n",
      "Epoch 52/150\n",
      "5/5 [==============================] - 0s 31ms/step - loss: 0.3203 - accuracy: 0.8743 - val_loss: 0.6727 - val_accuracy: 0.7650\n",
      "Epoch 53/150\n",
      "5/5 [==============================] - 0s 23ms/step - loss: 0.3452 - accuracy: 0.8608 - val_loss: 0.6574 - val_accuracy: 0.7705\n",
      "Epoch 54/150\n",
      "5/5 [==============================] - 0s 21ms/step - loss: 0.3305 - accuracy: 0.8772 - val_loss: 0.6509 - val_accuracy: 0.7705\n",
      "Epoch 55/150\n",
      "5/5 [==============================] - 0s 25ms/step - loss: 0.3207 - accuracy: 0.8757 - val_loss: 0.6483 - val_accuracy: 0.7814\n",
      "Epoch 56/150\n",
      "5/5 [==============================] - 0s 22ms/step - loss: 0.3375 - accuracy: 0.8802 - val_loss: 0.6442 - val_accuracy: 0.7760\n",
      "Epoch 57/150\n",
      "5/5 [==============================] - 0s 21ms/step - loss: 0.3609 - accuracy: 0.8772 - val_loss: 0.6395 - val_accuracy: 0.7760\n",
      "Epoch 58/150\n",
      "5/5 [==============================] - 0s 22ms/step - loss: 0.3148 - accuracy: 0.8787 - val_loss: 0.6344 - val_accuracy: 0.7705\n",
      "Epoch 59/150\n",
      "5/5 [==============================] - 0s 24ms/step - loss: 0.3238 - accuracy: 0.8713 - val_loss: 0.6261 - val_accuracy: 0.7705\n",
      "Epoch 60/150\n",
      "5/5 [==============================] - 0s 23ms/step - loss: 0.3099 - accuracy: 0.8862 - val_loss: 0.6171 - val_accuracy: 0.7869\n",
      "Epoch 61/150\n",
      "5/5 [==============================] - 0s 24ms/step - loss: 0.3104 - accuracy: 0.9012 - val_loss: 0.6133 - val_accuracy: 0.7869\n",
      "Epoch 62/150\n",
      "5/5 [==============================] - 0s 21ms/step - loss: 0.2727 - accuracy: 0.8952 - val_loss: 0.6103 - val_accuracy: 0.7923\n",
      "Epoch 63/150\n",
      "5/5 [==============================] - 0s 20ms/step - loss: 0.2994 - accuracy: 0.8787 - val_loss: 0.6018 - val_accuracy: 0.7923\n",
      "Epoch 64/150\n",
      "5/5 [==============================] - 0s 21ms/step - loss: 0.3027 - accuracy: 0.8862 - val_loss: 0.5974 - val_accuracy: 0.7923\n",
      "Epoch 65/150\n",
      "5/5 [==============================] - 0s 21ms/step - loss: 0.3227 - accuracy: 0.8847 - val_loss: 0.5956 - val_accuracy: 0.7705\n",
      "Epoch 66/150\n",
      "5/5 [==============================] - 0s 22ms/step - loss: 0.2766 - accuracy: 0.8877 - val_loss: 0.5965 - val_accuracy: 0.7760\n",
      "Epoch 67/150\n",
      "5/5 [==============================] - 0s 22ms/step - loss: 0.3085 - accuracy: 0.8832 - val_loss: 0.5935 - val_accuracy: 0.7705\n",
      "Epoch 68/150\n",
      "5/5 [==============================] - 0s 22ms/step - loss: 0.3047 - accuracy: 0.8832 - val_loss: 0.5866 - val_accuracy: 0.7814\n",
      "Epoch 69/150\n",
      "5/5 [==============================] - 0s 20ms/step - loss: 0.3012 - accuracy: 0.8922 - val_loss: 0.5898 - val_accuracy: 0.7705\n",
      "Epoch 70/150\n",
      "5/5 [==============================] - 0s 21ms/step - loss: 0.2827 - accuracy: 0.8982 - val_loss: 0.5868 - val_accuracy: 0.7814\n",
      "Epoch 71/150\n",
      "5/5 [==============================] - 0s 21ms/step - loss: 0.3021 - accuracy: 0.8967 - val_loss: 0.5742 - val_accuracy: 0.8033\n",
      "Epoch 72/150\n",
      "5/5 [==============================] - 0s 20ms/step - loss: 0.2881 - accuracy: 0.8997 - val_loss: 0.5564 - val_accuracy: 0.8142\n",
      "Epoch 73/150\n",
      "5/5 [==============================] - 0s 22ms/step - loss: 0.2742 - accuracy: 0.9012 - val_loss: 0.5435 - val_accuracy: 0.8142\n",
      "Epoch 74/150\n",
      "5/5 [==============================] - 0s 22ms/step - loss: 0.2814 - accuracy: 0.8892 - val_loss: 0.5386 - val_accuracy: 0.8142\n",
      "Epoch 75/150\n",
      "5/5 [==============================] - 0s 22ms/step - loss: 0.2699 - accuracy: 0.9087 - val_loss: 0.5364 - val_accuracy: 0.8142\n",
      "Epoch 76/150\n",
      "5/5 [==============================] - 0s 23ms/step - loss: 0.2519 - accuracy: 0.9102 - val_loss: 0.5405 - val_accuracy: 0.8197\n",
      "Epoch 77/150\n",
      "5/5 [==============================] - 0s 22ms/step - loss: 0.2734 - accuracy: 0.8982 - val_loss: 0.5478 - val_accuracy: 0.8197\n",
      "Epoch 78/150\n",
      "5/5 [==============================] - 0s 21ms/step - loss: 0.2602 - accuracy: 0.9027 - val_loss: 0.5553 - val_accuracy: 0.8087\n",
      "Epoch 79/150\n",
      "5/5 [==============================] - 0s 20ms/step - loss: 0.2820 - accuracy: 0.8922 - val_loss: 0.5574 - val_accuracy: 0.8033\n",
      "Epoch 80/150\n",
      "5/5 [==============================] - 0s 22ms/step - loss: 0.2664 - accuracy: 0.9027 - val_loss: 0.5582 - val_accuracy: 0.7978\n",
      "Epoch 81/150\n",
      "5/5 [==============================] - 0s 21ms/step - loss: 0.2807 - accuracy: 0.8862 - val_loss: 0.5618 - val_accuracy: 0.7978\n",
      "Epoch 82/150\n",
      "5/5 [==============================] - 0s 25ms/step - loss: 0.2775 - accuracy: 0.8952 - val_loss: 0.5653 - val_accuracy: 0.7978\n",
      "Epoch 83/150\n",
      "5/5 [==============================] - 0s 24ms/step - loss: 0.2606 - accuracy: 0.8997 - val_loss: 0.5717 - val_accuracy: 0.8033\n",
      "Epoch 84/150\n",
      "5/5 [==============================] - 0s 22ms/step - loss: 0.2895 - accuracy: 0.8743 - val_loss: 0.5657 - val_accuracy: 0.8033\n",
      "Epoch 85/150\n",
      "5/5 [==============================] - 0s 23ms/step - loss: 0.2816 - accuracy: 0.8892 - val_loss: 0.5547 - val_accuracy: 0.8251\n",
      "Epoch 86/150\n",
      "5/5 [==============================] - 0s 24ms/step - loss: 0.2431 - accuracy: 0.9057 - val_loss: 0.5516 - val_accuracy: 0.8251\n",
      "Epoch 87/150\n",
      "5/5 [==============================] - 0s 21ms/step - loss: 0.2323 - accuracy: 0.9117 - val_loss: 0.5595 - val_accuracy: 0.8251\n",
      "Epoch 88/150\n",
      "5/5 [==============================] - 0s 25ms/step - loss: 0.2482 - accuracy: 0.9072 - val_loss: 0.5679 - val_accuracy: 0.8251\n",
      "Epoch 89/150\n",
      "5/5 [==============================] - 0s 23ms/step - loss: 0.2487 - accuracy: 0.9012 - val_loss: 0.5636 - val_accuracy: 0.8306\n",
      "Epoch 90/150\n",
      "5/5 [==============================] - 0s 22ms/step - loss: 0.2395 - accuracy: 0.9027 - val_loss: 0.5658 - val_accuracy: 0.8306\n",
      "Epoch 91/150\n",
      "5/5 [==============================] - 0s 20ms/step - loss: 0.2594 - accuracy: 0.9072 - val_loss: 0.5638 - val_accuracy: 0.8361\n",
      "Epoch 92/150\n",
      "5/5 [==============================] - 0s 21ms/step - loss: 0.2509 - accuracy: 0.9102 - val_loss: 0.5716 - val_accuracy: 0.8415\n",
      "Epoch 93/150\n",
      "5/5 [==============================] - 0s 28ms/step - loss: 0.2300 - accuracy: 0.9057 - val_loss: 0.5749 - val_accuracy: 0.8415\n",
      "Epoch 94/150\n",
      "5/5 [==============================] - 0s 29ms/step - loss: 0.2498 - accuracy: 0.9177 - val_loss: 0.5717 - val_accuracy: 0.8415\n",
      "Epoch 95/150\n",
      "5/5 [==============================] - 0s 28ms/step - loss: 0.2332 - accuracy: 0.9012 - val_loss: 0.5741 - val_accuracy: 0.8415\n",
      "Epoch 96/150\n",
      "5/5 [==============================] - 0s 25ms/step - loss: 0.2169 - accuracy: 0.9207 - val_loss: 0.5766 - val_accuracy: 0.8415\n",
      "Epoch 97/150\n",
      "5/5 [==============================] - 0s 23ms/step - loss: 0.2163 - accuracy: 0.9192 - val_loss: 0.5813 - val_accuracy: 0.8415\n",
      "Epoch 98/150\n",
      "5/5 [==============================] - 0s 21ms/step - loss: 0.2289 - accuracy: 0.9192 - val_loss: 0.5865 - val_accuracy: 0.8470\n",
      "Epoch 99/150\n",
      "5/5 [==============================] - 0s 24ms/step - loss: 0.2192 - accuracy: 0.9207 - val_loss: 0.5802 - val_accuracy: 0.8470\n",
      "Epoch 100/150\n",
      "5/5 [==============================] - 0s 27ms/step - loss: 0.1964 - accuracy: 0.9296 - val_loss: 0.5807 - val_accuracy: 0.8470\n",
      "Epoch 101/150\n",
      "5/5 [==============================] - 0s 22ms/step - loss: 0.2153 - accuracy: 0.9222 - val_loss: 0.5753 - val_accuracy: 0.8361\n",
      "Epoch 102/150\n",
      "5/5 [==============================] - 0s 23ms/step - loss: 0.2122 - accuracy: 0.9102 - val_loss: 0.5690 - val_accuracy: 0.8306\n",
      "Epoch 103/150\n",
      "5/5 [==============================] - 0s 23ms/step - loss: 0.2432 - accuracy: 0.9027 - val_loss: 0.5754 - val_accuracy: 0.8306\n",
      "Epoch 104/150\n",
      "5/5 [==============================] - 0s 21ms/step - loss: 0.2046 - accuracy: 0.9207 - val_loss: 0.5817 - val_accuracy: 0.8361\n",
      "Epoch 105/150\n",
      "5/5 [==============================] - 0s 23ms/step - loss: 0.2110 - accuracy: 0.9177 - val_loss: 0.5760 - val_accuracy: 0.8415\n",
      "Epoch 106/150\n",
      "5/5 [==============================] - 0s 24ms/step - loss: 0.2503 - accuracy: 0.9012 - val_loss: 0.5818 - val_accuracy: 0.8415\n",
      "Epoch 107/150\n",
      "5/5 [==============================] - 0s 22ms/step - loss: 0.2208 - accuracy: 0.9117 - val_loss: 0.5931 - val_accuracy: 0.8415\n",
      "Epoch 108/150\n",
      "5/5 [==============================] - 0s 22ms/step - loss: 0.2086 - accuracy: 0.9266 - val_loss: 0.5920 - val_accuracy: 0.8415\n",
      "Epoch 109/150\n",
      "5/5 [==============================] - 0s 23ms/step - loss: 0.2208 - accuracy: 0.9251 - val_loss: 0.5887 - val_accuracy: 0.8306\n",
      "Epoch 110/150\n",
      "5/5 [==============================] - 0s 26ms/step - loss: 0.2447 - accuracy: 0.9132 - val_loss: 0.5931 - val_accuracy: 0.8306\n",
      "Epoch 111/150\n",
      "5/5 [==============================] - 0s 23ms/step - loss: 0.2047 - accuracy: 0.9222 - val_loss: 0.5982 - val_accuracy: 0.8306\n",
      "Epoch 112/150\n",
      "5/5 [==============================] - 0s 23ms/step - loss: 0.2401 - accuracy: 0.9147 - val_loss: 0.5974 - val_accuracy: 0.8306\n",
      "Epoch 113/150\n",
      "5/5 [==============================] - 0s 23ms/step - loss: 0.2336 - accuracy: 0.9132 - val_loss: 0.5895 - val_accuracy: 0.8306\n",
      "Epoch 114/150\n",
      "5/5 [==============================] - 0s 23ms/step - loss: 0.2166 - accuracy: 0.9222 - val_loss: 0.5928 - val_accuracy: 0.8306\n",
      "Epoch 115/150\n",
      "5/5 [==============================] - 0s 22ms/step - loss: 0.2233 - accuracy: 0.9192 - val_loss: 0.6084 - val_accuracy: 0.8142\n",
      "Epoch 116/150\n",
      "5/5 [==============================] - 0s 24ms/step - loss: 0.2135 - accuracy: 0.9192 - val_loss: 0.6245 - val_accuracy: 0.8142\n",
      "Epoch 117/150\n"
     ]
    },
    {
     "name": "stdout",
     "output_type": "stream",
     "text": [
      "5/5 [==============================] - 0s 37ms/step - loss: 0.2076 - accuracy: 0.9296 - val_loss: 0.6389 - val_accuracy: 0.8142\n",
      "Epoch 118/150\n",
      "5/5 [==============================] - 0s 28ms/step - loss: 0.2215 - accuracy: 0.9162 - val_loss: 0.6530 - val_accuracy: 0.8142\n",
      "Epoch 119/150\n",
      "5/5 [==============================] - 0s 26ms/step - loss: 0.2162 - accuracy: 0.9192 - val_loss: 0.6623 - val_accuracy: 0.8197\n",
      "Epoch 120/150\n",
      "5/5 [==============================] - 0s 28ms/step - loss: 0.2035 - accuracy: 0.9162 - val_loss: 0.6565 - val_accuracy: 0.8142\n",
      "Epoch 121/150\n",
      "5/5 [==============================] - 0s 22ms/step - loss: 0.1990 - accuracy: 0.9222 - val_loss: 0.6514 - val_accuracy: 0.8087\n",
      "Epoch 122/150\n",
      "5/5 [==============================] - 0s 22ms/step - loss: 0.2510 - accuracy: 0.8982 - val_loss: 0.6449 - val_accuracy: 0.8251\n",
      "Epoch 123/150\n",
      "5/5 [==============================] - 0s 22ms/step - loss: 0.2171 - accuracy: 0.9192 - val_loss: 0.6416 - val_accuracy: 0.8251\n",
      "Epoch 124/150\n",
      "5/5 [==============================] - 0s 22ms/step - loss: 0.1937 - accuracy: 0.9237 - val_loss: 0.6436 - val_accuracy: 0.8251\n",
      "Epoch 125/150\n",
      "5/5 [==============================] - 0s 23ms/step - loss: 0.2226 - accuracy: 0.9072 - val_loss: 0.6509 - val_accuracy: 0.8251\n",
      "Epoch 126/150\n",
      "5/5 [==============================] - 0s 25ms/step - loss: 0.2352 - accuracy: 0.8967 - val_loss: 0.6645 - val_accuracy: 0.8251\n",
      "Epoch 127/150\n",
      "5/5 [==============================] - 0s 22ms/step - loss: 0.2053 - accuracy: 0.9207 - val_loss: 0.6729 - val_accuracy: 0.8197\n",
      "Epoch 128/150\n",
      "5/5 [==============================] - 0s 23ms/step - loss: 0.2136 - accuracy: 0.9222 - val_loss: 0.6724 - val_accuracy: 0.8197\n",
      "Epoch 129/150\n",
      "5/5 [==============================] - 0s 22ms/step - loss: 0.2194 - accuracy: 0.9147 - val_loss: 0.6741 - val_accuracy: 0.8197\n",
      "Epoch 130/150\n",
      "5/5 [==============================] - 0s 21ms/step - loss: 0.2332 - accuracy: 0.9162 - val_loss: 0.6747 - val_accuracy: 0.8197\n",
      "Epoch 131/150\n",
      "5/5 [==============================] - 0s 23ms/step - loss: 0.2067 - accuracy: 0.9117 - val_loss: 0.6764 - val_accuracy: 0.8251\n",
      "Epoch 132/150\n",
      "5/5 [==============================] - 0s 22ms/step - loss: 0.1998 - accuracy: 0.9251 - val_loss: 0.6897 - val_accuracy: 0.8306\n",
      "Epoch 133/150\n",
      "5/5 [==============================] - 0s 22ms/step - loss: 0.2106 - accuracy: 0.9222 - val_loss: 0.7016 - val_accuracy: 0.8251\n",
      "Epoch 134/150\n",
      "5/5 [==============================] - 0s 28ms/step - loss: 0.2162 - accuracy: 0.9177 - val_loss: 0.7096 - val_accuracy: 0.8251\n",
      "Epoch 135/150\n",
      "5/5 [==============================] - 0s 21ms/step - loss: 0.2130 - accuracy: 0.9147 - val_loss: 0.7034 - val_accuracy: 0.8251\n",
      "Epoch 136/150\n",
      "5/5 [==============================] - 0s 21ms/step - loss: 0.2091 - accuracy: 0.9177 - val_loss: 0.6927 - val_accuracy: 0.8251\n",
      "Epoch 137/150\n",
      "5/5 [==============================] - 0s 20ms/step - loss: 0.2347 - accuracy: 0.9192 - val_loss: 0.6885 - val_accuracy: 0.8306\n",
      "Epoch 138/150\n",
      "5/5 [==============================] - 0s 23ms/step - loss: 0.1761 - accuracy: 0.9356 - val_loss: 0.6846 - val_accuracy: 0.8306\n",
      "Epoch 139/150\n",
      "5/5 [==============================] - 0s 23ms/step - loss: 0.2161 - accuracy: 0.9222 - val_loss: 0.6875 - val_accuracy: 0.8306\n",
      "Epoch 140/150\n",
      "5/5 [==============================] - 0s 20ms/step - loss: 0.2190 - accuracy: 0.9087 - val_loss: 0.6903 - val_accuracy: 0.8306\n",
      "Epoch 141/150\n",
      "5/5 [==============================] - 0s 22ms/step - loss: 0.2141 - accuracy: 0.9177 - val_loss: 0.6968 - val_accuracy: 0.8306\n",
      "Epoch 142/150\n",
      "5/5 [==============================] - 0s 22ms/step - loss: 0.1882 - accuracy: 0.9281 - val_loss: 0.7076 - val_accuracy: 0.8197\n",
      "Epoch 143/150\n",
      "5/5 [==============================] - 0s 21ms/step - loss: 0.2129 - accuracy: 0.9162 - val_loss: 0.7085 - val_accuracy: 0.8251\n",
      "Epoch 144/150\n",
      "5/5 [==============================] - 0s 22ms/step - loss: 0.1901 - accuracy: 0.9311 - val_loss: 0.7103 - val_accuracy: 0.8306\n",
      "Epoch 145/150\n",
      "5/5 [==============================] - 0s 27ms/step - loss: 0.1915 - accuracy: 0.9237 - val_loss: 0.7129 - val_accuracy: 0.8361\n",
      "Epoch 146/150\n",
      "5/5 [==============================] - 0s 22ms/step - loss: 0.2228 - accuracy: 0.9162 - val_loss: 0.7172 - val_accuracy: 0.8361\n",
      "Epoch 147/150\n",
      "5/5 [==============================] - 0s 22ms/step - loss: 0.2035 - accuracy: 0.9237 - val_loss: 0.7232 - val_accuracy: 0.8361\n",
      "Epoch 148/150\n",
      "5/5 [==============================] - 0s 21ms/step - loss: 0.2055 - accuracy: 0.9222 - val_loss: 0.7272 - val_accuracy: 0.8361\n",
      "Epoch 149/150\n",
      "5/5 [==============================] - 0s 21ms/step - loss: 0.2308 - accuracy: 0.9057 - val_loss: 0.7371 - val_accuracy: 0.8361\n",
      "Epoch 150/150\n",
      "5/5 [==============================] - 0s 22ms/step - loss: 0.2114 - accuracy: 0.9207 - val_loss: 0.7376 - val_accuracy: 0.8361\n"
     ]
    }
   ],
   "source": [
    "# Compile and train the base MLP model\n",
    "base_model.compile(\n",
    "    optimizer='adam',\n",
    "    #sparse_categorical_crossentropy\n",
    "    #categorical_crossentropy\n",
    "    loss='sparse_categorical_crossentropy',\n",
    "    metrics=['accuracy'],\n",
    "    lr=0.01, clipnorm=1.)\n",
    "base_model_history = base_model.fit(train_dataset, epochs=HPARAMS.train_epochs, verbose=1, validation_data=test_dataset) \n",
    "# history = base_model.fit(X, Y, validation_split=0.33, epochs=150, batch_size=10, verbose=1)\n",
    "# history = base_model.fit(train_dataset, test_dataset, validation_split=0.33, epochs=50)"
   ]
  },
  {
   "cell_type": "code",
   "execution_count": 27,
   "metadata": {},
   "outputs": [
    {
     "data": {
      "image/png": "[encoded data removed]",
      "text/plain": [
       "<Figure size 432x288 with 1 Axes>"
      ]
     },
     "metadata": {
      "needs_background": "light"
     },
     "output_type": "display_data"
    },
    {
     "data": {
      "image/png": "[encoded data removed]",
      "text/plain": [
       "<Figure size 432x288 with 1 Axes>"
      ]
     },
     "metadata": {
      "needs_background": "light"
     },
     "output_type": "display_data"
    }
   ],
   "source": [
    "# base_model.history.history['accuracy']\n",
    "\n",
    "import matplotlib.pyplot as plt\n",
    "# summarize history for accuracy\n",
    "plt.plot(base_model_history.history['accuracy'])\n",
    "plt.plot(base_model_history.history['val_accuracy'])\n",
    "\n",
    "plt.title('model accuracy')\n",
    "plt.ylabel('accuracy')\n",
    "plt.xlabel('epoch')\n",
    "plt.legend(['accuracy', 'loss'], loc='upper left')\n",
    "plt.show()\n",
    "\n",
    "plt.plot(base_model.history.history['loss'])\n",
    "plt.plot(base_model_history.history['val_loss'])\n",
    "plt.title('loss')\n",
    "plt.ylabel('accuracy')\n",
    "plt.xlabel('epoch')\n",
    "plt.legend(['loss'], loc='upper left')\n",
    "plt.show()"
   ]
  },
  {
   "cell_type": "markdown",
   "metadata": {
    "colab_type": "text",
    "id": "gPRioqydQD_8"
   },
   "source": [
    "## Evaluate base MLP model"
   ]
  },
  {
   "cell_type": "code",
   "execution_count": 19,
   "metadata": {
    "colab": {},
    "colab_type": "code",
    "id": "2NcsJVt6FSmZ"
   },
   "outputs": [],
   "source": [
    "# Helper function to print evaluation metrics.\n",
    "def print_metrics(model_desc, eval_metrics):\n",
    "  \"\"\"Prints evaluation metrics.\n",
    "\n",
    "  Args:\n",
    "    model_desc: A description of the model.\n",
    "    eval_metrics: A dictionary mapping metric names to corresponding values. It\n",
    "      must contain the loss and accuracy metrics.\n",
    "  \"\"\"\n",
    "  print('\\n')\n",
    "  print('Eval accuracy for ', model_desc, ': ', eval_metrics['accuracy'])\n",
    "  print('Eval loss for ', model_desc, ': ', eval_metrics['loss'])\n",
    "  if 'graph_loss' in eval_metrics:\n",
    "    print('Eval graph loss for ', model_desc, ': ', eval_metrics['graph_loss'])"
   ]
  },
  {
   "cell_type": "code",
   "execution_count": 20,
   "metadata": {
    "colab": {},
    "colab_type": "code",
    "id": "-myfttwIQAwc"
   },
   "outputs": [
    {
     "name": "stdout",
     "output_type": "stream",
     "text": [
      "2/2 [==============================] - 0s 14ms/step - loss: 0.7376 - accuracy: 0.8361\n",
      "\n",
      "\n",
      "Eval accuracy for  Base MLP model :  0.8360656\n",
      "Eval loss for  Base MLP model :  0.7376169115304947\n"
     ]
    }
   ],
   "source": [
    "eval_results = dict(\n",
    "    zip(base_model.metrics_names,\n",
    "        base_model.evaluate(test_dataset, steps=HPARAMS.eval_steps)))\n",
    "print_metrics('Base MLP model', eval_results)"
   ]
  },
  {
   "cell_type": "markdown",
   "metadata": {
    "colab_type": "text",
    "id": "bGwSzS9Spaiu"
   },
   "source": [
    "## Train MLP model with graph regularization\n",
    "\n",
    "Incorporating graph regularization into the loss term of an existing\n",
    "`tf.Keras.Model` requires just a few lines of code. The base model is wrapped to\n",
    "create a new `tf.Keras` subclass model, whose loss includes graph\n",
    "regularization."
   ]
  },
  {
   "cell_type": "markdown",
   "metadata": {
    "colab_type": "text",
    "id": "vuIGN8KQH0jR"
   },
   "source": [
    "To assess the incremental benefit of graph regularization, we will create a new\n",
    "base model instance. This is because `base_model` has already been trained for a\n",
    "few iterations, and reusing this trained model to create a graph-regularized\n",
    "model will not be a fair comparison for `base_model`."
   ]
  },
  {
   "cell_type": "code",
   "execution_count": 21,
   "metadata": {
    "colab": {},
    "colab_type": "code",
    "id": "6fvLei9dLCH0"
   },
   "outputs": [],
   "source": [
    "# Build a new base MLP model.\n",
    "base_reg_model_tag, base_reg_model = 'FUNCTIONAL', make_mlp_functional_model(\n",
    "    HPARAMS)"
   ]
  },
  {
   "cell_type": "code",
   "execution_count": 22,
   "metadata": {
    "colab": {},
    "colab_type": "code",
    "id": "HT3mpC8Lo1UZ",
    "scrolled": true
   },
   "outputs": [
    {
     "name": "stdout",
     "output_type": "stream",
     "text": [
      "Epoch 1/150\n"
     ]
    },
    {
     "name": "stderr",
     "output_type": "stream",
     "text": [
      "/Users/johanweisshansen/anaconda3/lib/python3.7/site-packages/tensorflow_core/python/framework/indexed_slices.py:424: UserWarning: Converting sparse IndexedSlices to a dense Tensor of unknown shape. This may consume a large amount of memory.\n",
      "  \"Converting sparse IndexedSlices to a dense Tensor of unknown shape. \"\n",
      "/Users/johanweisshansen/anaconda3/lib/python3.7/site-packages/tensorflow_core/python/framework/indexed_slices.py:424: UserWarning: Converting sparse IndexedSlices to a dense Tensor of unknown shape. This may consume a large amount of memory.\n",
      "  \"Converting sparse IndexedSlices to a dense Tensor of unknown shape. \"\n"
     ]
    },
    {
     "name": "stdout",
     "output_type": "stream",
     "text": [
      "5/5 [==============================] - 4s 757ms/step - loss: 1.8225 - accuracy: 0.2710 - graph_loss: 0.2986 - val_loss: 0.0000e+00 - val_accuracy: 0.0000e+00 - val_graph_loss: 0.0000e+00\n",
      "Epoch 2/150\n",
      "5/5 [==============================] - 0s 24ms/step - loss: 1.6438 - accuracy: 0.2964 - graph_loss: 0.2886 - val_loss: 1.3205 - val_accuracy: 0.5191 - val_graph_loss: 0.0000e+00\n",
      "Epoch 3/150\n",
      "5/5 [==============================] - 0s 27ms/step - loss: 1.4386 - accuracy: 0.4117 - graph_loss: 0.2752 - val_loss: 1.2916 - val_accuracy: 0.5847 - val_graph_loss: 0.0000e+00\n",
      "Epoch 4/150\n",
      "5/5 [==============================] - 0s 28ms/step - loss: 1.4196 - accuracy: 0.4117 - graph_loss: 0.2534 - val_loss: 1.2635 - val_accuracy: 0.6612 - val_graph_loss: 0.0000e+00\n",
      "Epoch 5/150\n",
      "5/5 [==============================] - 0s 24ms/step - loss: 1.3572 - accuracy: 0.4446 - graph_loss: 0.2686 - val_loss: 1.2353 - val_accuracy: 0.6885 - val_graph_loss: 0.0000e+00\n",
      "Epoch 6/150\n",
      "5/5 [==============================] - 0s 26ms/step - loss: 1.2411 - accuracy: 0.4790 - graph_loss: 0.2326 - val_loss: 1.2056 - val_accuracy: 0.6995 - val_graph_loss: 0.0000e+00\n",
      "Epoch 7/150\n",
      "5/5 [==============================] - 0s 24ms/step - loss: 1.1887 - accuracy: 0.5374 - graph_loss: 0.2203 - val_loss: 1.1793 - val_accuracy: 0.7104 - val_graph_loss: 0.0000e+00\n",
      "Epoch 8/150\n",
      "5/5 [==============================] - 0s 26ms/step - loss: 1.1141 - accuracy: 0.5269 - graph_loss: 0.2300 - val_loss: 1.1521 - val_accuracy: 0.7104 - val_graph_loss: 0.0000e+00\n",
      "Epoch 9/150\n",
      "5/5 [==============================] - 0s 25ms/step - loss: 1.1111 - accuracy: 0.5599 - graph_loss: 0.2471 - val_loss: 1.1252 - val_accuracy: 0.7158 - val_graph_loss: 0.0000e+00\n",
      "Epoch 10/150\n",
      "5/5 [==============================] - 0s 24ms/step - loss: 1.0493 - accuracy: 0.6033 - graph_loss: 0.2304 - val_loss: 1.0988 - val_accuracy: 0.7268 - val_graph_loss: 0.0000e+00\n",
      "Epoch 11/150\n",
      "5/5 [==============================] - 0s 24ms/step - loss: 1.0332 - accuracy: 0.6093 - graph_loss: 0.2269 - val_loss: 1.0698 - val_accuracy: 0.7213 - val_graph_loss: 0.0000e+00\n",
      "Epoch 12/150\n",
      "5/5 [==============================] - 0s 24ms/step - loss: 0.9035 - accuracy: 0.6617 - graph_loss: 0.2245 - val_loss: 1.0420 - val_accuracy: 0.7213 - val_graph_loss: 0.0000e+00\n",
      "Epoch 13/150\n",
      "5/5 [==============================] - 0s 24ms/step - loss: 0.9037 - accuracy: 0.6722 - graph_loss: 0.2298 - val_loss: 1.0125 - val_accuracy: 0.7213 - val_graph_loss: 0.0000e+00\n",
      "Epoch 14/150\n",
      "5/5 [==============================] - 0s 25ms/step - loss: 0.8716 - accuracy: 0.6811 - graph_loss: 0.2346 - val_loss: 0.9820 - val_accuracy: 0.7213 - val_graph_loss: 0.0000e+00\n",
      "Epoch 15/150\n",
      "5/5 [==============================] - 0s 24ms/step - loss: 0.8391 - accuracy: 0.7156 - graph_loss: 0.2216 - val_loss: 0.9552 - val_accuracy: 0.7213 - val_graph_loss: 0.0000e+00\n",
      "Epoch 16/150\n",
      "5/5 [==============================] - 0s 25ms/step - loss: 0.8366 - accuracy: 0.6961 - graph_loss: 0.2258 - val_loss: 0.9280 - val_accuracy: 0.7268 - val_graph_loss: 0.0000e+00\n",
      "Epoch 17/150\n",
      "5/5 [==============================] - 0s 26ms/step - loss: 0.7964 - accuracy: 0.7350 - graph_loss: 0.2197 - val_loss: 0.9022 - val_accuracy: 0.7322 - val_graph_loss: 0.0000e+00\n",
      "Epoch 18/150\n",
      "5/5 [==============================] - 0s 33ms/step - loss: 0.7499 - accuracy: 0.7186 - graph_loss: 0.2225 - val_loss: 0.8786 - val_accuracy: 0.7322 - val_graph_loss: 0.0000e+00\n",
      "Epoch 19/150\n",
      "5/5 [==============================] - 0s 29ms/step - loss: 0.7212 - accuracy: 0.7695 - graph_loss: 0.2206 - val_loss: 0.8563 - val_accuracy: 0.7432 - val_graph_loss: 0.0000e+00\n",
      "Epoch 20/150\n",
      "5/5 [==============================] - 0s 29ms/step - loss: 0.6815 - accuracy: 0.7695 - graph_loss: 0.2185 - val_loss: 0.8370 - val_accuracy: 0.7486 - val_graph_loss: 0.0000e+00\n",
      "Epoch 21/150\n",
      "5/5 [==============================] - 0s 29ms/step - loss: 0.6187 - accuracy: 0.7859 - graph_loss: 0.2313 - val_loss: 0.8189 - val_accuracy: 0.7432 - val_graph_loss: 0.0000e+00\n",
      "Epoch 22/150\n",
      "5/5 [==============================] - 0s 28ms/step - loss: 0.6538 - accuracy: 0.7695 - graph_loss: 0.1988 - val_loss: 0.8029 - val_accuracy: 0.7377 - val_graph_loss: 0.0000e+00\n",
      "Epoch 23/150\n",
      "5/5 [==============================] - 0s 27ms/step - loss: 0.6136 - accuracy: 0.7919 - graph_loss: 0.2142 - val_loss: 0.7854 - val_accuracy: 0.7377 - val_graph_loss: 0.0000e+00\n",
      "Epoch 24/150\n",
      "5/5 [==============================] - 0s 26ms/step - loss: 0.6203 - accuracy: 0.7979 - graph_loss: 0.2225 - val_loss: 0.7659 - val_accuracy: 0.7541 - val_graph_loss: 0.0000e+00\n",
      "Epoch 25/150\n",
      "5/5 [==============================] - 0s 24ms/step - loss: 0.5550 - accuracy: 0.8159 - graph_loss: 0.2295 - val_loss: 0.7467 - val_accuracy: 0.7650 - val_graph_loss: 0.0000e+00\n",
      "Epoch 26/150\n",
      "5/5 [==============================] - 0s 24ms/step - loss: 0.5757 - accuracy: 0.8114 - graph_loss: 0.2120 - val_loss: 0.7272 - val_accuracy: 0.7705 - val_graph_loss: 0.0000e+00\n",
      "Epoch 27/150\n",
      "5/5 [==============================] - 0s 25ms/step - loss: 0.5702 - accuracy: 0.8084 - graph_loss: 0.2300 - val_loss: 0.7049 - val_accuracy: 0.7705 - val_graph_loss: 0.0000e+00\n",
      "Epoch 28/150\n",
      "5/5 [==============================] - 0s 25ms/step - loss: 0.5403 - accuracy: 0.8189 - graph_loss: 0.2081 - val_loss: 0.6847 - val_accuracy: 0.7760 - val_graph_loss: 0.0000e+00\n",
      "Epoch 29/150\n",
      "5/5 [==============================] - 0s 26ms/step - loss: 0.5564 - accuracy: 0.8204 - graph_loss: 0.2078 - val_loss: 0.6703 - val_accuracy: 0.7760 - val_graph_loss: 0.0000e+00\n",
      "Epoch 30/150\n",
      "5/5 [==============================] - 0s 24ms/step - loss: 0.5149 - accuracy: 0.8249 - graph_loss: 0.2031 - val_loss: 0.6571 - val_accuracy: 0.7814 - val_graph_loss: 0.0000e+00\n",
      "Epoch 31/150\n",
      "5/5 [==============================] - 0s 24ms/step - loss: 0.5443 - accuracy: 0.8204 - graph_loss: 0.2169 - val_loss: 0.6436 - val_accuracy: 0.7923 - val_graph_loss: 0.0000e+00\n",
      "Epoch 32/150\n",
      "5/5 [==============================] - 0s 25ms/step - loss: 0.5102 - accuracy: 0.8263 - graph_loss: 0.2227 - val_loss: 0.6362 - val_accuracy: 0.8033 - val_graph_loss: 0.0000e+00\n",
      "Epoch 33/150\n",
      "5/5 [==============================] - 0s 25ms/step - loss: 0.4890 - accuracy: 0.8458 - graph_loss: 0.2187 - val_loss: 0.6271 - val_accuracy: 0.8033 - val_graph_loss: 0.0000e+00\n",
      "Epoch 34/150\n",
      "5/5 [==============================] - 0s 27ms/step - loss: 0.4751 - accuracy: 0.8263 - graph_loss: 0.2285 - val_loss: 0.6139 - val_accuracy: 0.8142 - val_graph_loss: 0.0000e+00\n",
      "Epoch 35/150\n",
      "5/5 [==============================] - 0s 24ms/step - loss: 0.4655 - accuracy: 0.8443 - graph_loss: 0.2277 - val_loss: 0.6032 - val_accuracy: 0.8142 - val_graph_loss: 0.0000e+00\n",
      "Epoch 36/150\n",
      "5/5 [==============================] - 0s 24ms/step - loss: 0.4523 - accuracy: 0.8443 - graph_loss: 0.2271 - val_loss: 0.5930 - val_accuracy: 0.8087 - val_graph_loss: 0.0000e+00\n",
      "Epoch 37/150\n",
      "5/5 [==============================] - 0s 24ms/step - loss: 0.4445 - accuracy: 0.8638 - graph_loss: 0.2368 - val_loss: 0.5781 - val_accuracy: 0.8033 - val_graph_loss: 0.0000e+00\n",
      "Epoch 38/150\n",
      "5/5 [==============================] - 0s 24ms/step - loss: 0.4215 - accuracy: 0.8533 - graph_loss: 0.1984 - val_loss: 0.5683 - val_accuracy: 0.7978 - val_graph_loss: 0.0000e+00\n",
      "Epoch 39/150\n",
      "5/5 [==============================] - 0s 24ms/step - loss: 0.4666 - accuracy: 0.8518 - graph_loss: 0.2203 - val_loss: 0.5588 - val_accuracy: 0.7978 - val_graph_loss: 0.0000e+00\n",
      "Epoch 40/150\n",
      "5/5 [==============================] - 0s 24ms/step - loss: 0.4189 - accuracy: 0.8668 - graph_loss: 0.2005 - val_loss: 0.5532 - val_accuracy: 0.8033 - val_graph_loss: 0.0000e+00\n",
      "Epoch 41/150\n",
      "5/5 [==============================] - 0s 24ms/step - loss: 0.3910 - accuracy: 0.8713 - graph_loss: 0.2193 - val_loss: 0.5477 - val_accuracy: 0.8087 - val_graph_loss: 0.0000e+00\n",
      "Epoch 42/150\n",
      "5/5 [==============================] - 0s 25ms/step - loss: 0.4558 - accuracy: 0.8548 - graph_loss: 0.2392 - val_loss: 0.5368 - val_accuracy: 0.8033 - val_graph_loss: 0.0000e+00\n",
      "Epoch 43/150\n",
      "5/5 [==============================] - 0s 24ms/step - loss: 0.4156 - accuracy: 0.8548 - graph_loss: 0.2178 - val_loss: 0.5269 - val_accuracy: 0.8087 - val_graph_loss: 0.0000e+00\n"
     ]
    },
    {
     "name": "stdout",
     "output_type": "stream",
     "text": [
      "Epoch 44/150\n",
      "5/5 [==============================] - 0s 25ms/step - loss: 0.3903 - accuracy: 0.8713 - graph_loss: 0.2201 - val_loss: 0.5222 - val_accuracy: 0.8142 - val_graph_loss: 0.0000e+00\n",
      "Epoch 45/150\n",
      "5/5 [==============================] - 0s 24ms/step - loss: 0.4016 - accuracy: 0.8698 - graph_loss: 0.2006 - val_loss: 0.5215 - val_accuracy: 0.8142 - val_graph_loss: 0.0000e+00\n",
      "Epoch 46/150\n",
      "5/5 [==============================] - 0s 24ms/step - loss: 0.4188 - accuracy: 0.8548 - graph_loss: 0.2296 - val_loss: 0.5187 - val_accuracy: 0.8197 - val_graph_loss: 0.0000e+00\n",
      "Epoch 47/150\n",
      "5/5 [==============================] - 0s 24ms/step - loss: 0.3946 - accuracy: 0.8802 - graph_loss: 0.2321 - val_loss: 0.5160 - val_accuracy: 0.8306 - val_graph_loss: 0.0000e+00\n",
      "Epoch 48/150\n",
      "5/5 [==============================] - 0s 24ms/step - loss: 0.3843 - accuracy: 0.8728 - graph_loss: 0.2330 - val_loss: 0.5110 - val_accuracy: 0.8306 - val_graph_loss: 0.0000e+00\n",
      "Epoch 49/150\n",
      "5/5 [==============================] - 0s 23ms/step - loss: 0.3782 - accuracy: 0.8683 - graph_loss: 0.2217 - val_loss: 0.5120 - val_accuracy: 0.8415 - val_graph_loss: 0.0000e+00\n",
      "Epoch 50/150\n",
      "5/5 [==============================] - 0s 24ms/step - loss: 0.3663 - accuracy: 0.8832 - graph_loss: 0.2468 - val_loss: 0.5149 - val_accuracy: 0.8415 - val_graph_loss: 0.0000e+00\n",
      "Epoch 51/150\n",
      "5/5 [==============================] - 0s 23ms/step - loss: 0.3900 - accuracy: 0.8668 - graph_loss: 0.2388 - val_loss: 0.5119 - val_accuracy: 0.8415 - val_graph_loss: 0.0000e+00\n",
      "Epoch 52/150\n",
      "5/5 [==============================] - 0s 24ms/step - loss: 0.3473 - accuracy: 0.8772 - graph_loss: 0.2258 - val_loss: 0.5133 - val_accuracy: 0.8361 - val_graph_loss: 0.0000e+00\n",
      "Epoch 53/150\n",
      "5/5 [==============================] - 0s 24ms/step - loss: 0.3283 - accuracy: 0.8847 - graph_loss: 0.2339 - val_loss: 0.5077 - val_accuracy: 0.8306 - val_graph_loss: 0.0000e+00\n",
      "Epoch 54/150\n",
      "5/5 [==============================] - 0s 25ms/step - loss: 0.3274 - accuracy: 0.9027 - graph_loss: 0.2269 - val_loss: 0.5036 - val_accuracy: 0.8306 - val_graph_loss: 0.0000e+00\n",
      "Epoch 55/150\n",
      "5/5 [==============================] - 0s 24ms/step - loss: 0.3735 - accuracy: 0.8832 - graph_loss: 0.2329 - val_loss: 0.5006 - val_accuracy: 0.8306 - val_graph_loss: 0.0000e+00\n",
      "Epoch 56/150\n",
      "5/5 [==============================] - 0s 24ms/step - loss: 0.3637 - accuracy: 0.8982 - graph_loss: 0.2362 - val_loss: 0.5031 - val_accuracy: 0.8306 - val_graph_loss: 0.0000e+00\n",
      "Epoch 57/150\n",
      "5/5 [==============================] - 0s 24ms/step - loss: 0.3489 - accuracy: 0.8802 - graph_loss: 0.2458 - val_loss: 0.5008 - val_accuracy: 0.8415 - val_graph_loss: 0.0000e+00\n",
      "Epoch 58/150\n",
      "5/5 [==============================] - 0s 24ms/step - loss: 0.3790 - accuracy: 0.8772 - graph_loss: 0.2452 - val_loss: 0.5061 - val_accuracy: 0.8415 - val_graph_loss: 0.0000e+00\n",
      "Epoch 59/150\n",
      "5/5 [==============================] - 0s 22ms/step - loss: 0.3384 - accuracy: 0.8952 - graph_loss: 0.2264 - val_loss: 0.5164 - val_accuracy: 0.8470 - val_graph_loss: 0.0000e+00\n",
      "Epoch 60/150\n",
      "5/5 [==============================] - 0s 24ms/step - loss: 0.3279 - accuracy: 0.8862 - graph_loss: 0.2351 - val_loss: 0.5240 - val_accuracy: 0.8470 - val_graph_loss: 0.0000e+00\n",
      "Epoch 61/150\n",
      "5/5 [==============================] - 0s 25ms/step - loss: 0.3307 - accuracy: 0.8862 - graph_loss: 0.2613 - val_loss: 0.5279 - val_accuracy: 0.8415 - val_graph_loss: 0.0000e+00\n",
      "Epoch 62/150\n",
      "5/5 [==============================] - 0s 24ms/step - loss: 0.3686 - accuracy: 0.8728 - graph_loss: 0.2391 - val_loss: 0.5323 - val_accuracy: 0.8415 - val_graph_loss: 0.0000e+00\n",
      "Epoch 63/150\n",
      "5/5 [==============================] - 0s 23ms/step - loss: 0.3219 - accuracy: 0.8952 - graph_loss: 0.2361 - val_loss: 0.5389 - val_accuracy: 0.8415 - val_graph_loss: 0.0000e+00\n",
      "Epoch 64/150\n",
      "5/5 [==============================] - 0s 24ms/step - loss: 0.3308 - accuracy: 0.8832 - graph_loss: 0.2517 - val_loss: 0.5427 - val_accuracy: 0.8415 - val_graph_loss: 0.0000e+00\n",
      "Epoch 65/150\n",
      "5/5 [==============================] - 0s 23ms/step - loss: 0.3741 - accuracy: 0.8877 - graph_loss: 0.2277 - val_loss: 0.5409 - val_accuracy: 0.8470 - val_graph_loss: 0.0000e+00\n",
      "Epoch 66/150\n",
      "5/5 [==============================] - 0s 24ms/step - loss: 0.3571 - accuracy: 0.8907 - graph_loss: 0.2480 - val_loss: 0.5382 - val_accuracy: 0.8525 - val_graph_loss: 0.0000e+00\n",
      "Epoch 67/150\n",
      "5/5 [==============================] - 0s 22ms/step - loss: 0.3449 - accuracy: 0.8832 - graph_loss: 0.2273 - val_loss: 0.5349 - val_accuracy: 0.8470 - val_graph_loss: 0.0000e+00\n",
      "Epoch 68/150\n",
      "5/5 [==============================] - 0s 23ms/step - loss: 0.3253 - accuracy: 0.8877 - graph_loss: 0.2541 - val_loss: 0.5344 - val_accuracy: 0.8525 - val_graph_loss: 0.0000e+00\n",
      "Epoch 69/150\n",
      "5/5 [==============================] - 0s 24ms/step - loss: 0.3184 - accuracy: 0.8952 - graph_loss: 0.2365 - val_loss: 0.5350 - val_accuracy: 0.8525 - val_graph_loss: 0.0000e+00\n",
      "Epoch 70/150\n",
      "5/5 [==============================] - 0s 24ms/step - loss: 0.3117 - accuracy: 0.9042 - graph_loss: 0.2461 - val_loss: 0.5425 - val_accuracy: 0.8470 - val_graph_loss: 0.0000e+00\n",
      "Epoch 71/150\n",
      "5/5 [==============================] - 0s 23ms/step - loss: 0.3409 - accuracy: 0.8892 - graph_loss: 0.2501 - val_loss: 0.5551 - val_accuracy: 0.8470 - val_graph_loss: 0.0000e+00\n",
      "Epoch 72/150\n",
      "5/5 [==============================] - 0s 23ms/step - loss: 0.3113 - accuracy: 0.8952 - graph_loss: 0.2292 - val_loss: 0.5644 - val_accuracy: 0.8525 - val_graph_loss: 0.0000e+00\n",
      "Epoch 73/150\n",
      "5/5 [==============================] - 0s 24ms/step - loss: 0.3072 - accuracy: 0.8997 - graph_loss: 0.2507 - val_loss: 0.5654 - val_accuracy: 0.8525 - val_graph_loss: 0.0000e+00\n",
      "Epoch 74/150\n",
      "5/5 [==============================] - 0s 24ms/step - loss: 0.2971 - accuracy: 0.8952 - graph_loss: 0.2352 - val_loss: 0.5605 - val_accuracy: 0.8525 - val_graph_loss: 0.0000e+00\n",
      "Epoch 75/150\n",
      "5/5 [==============================] - 0s 24ms/step - loss: 0.2953 - accuracy: 0.8997 - graph_loss: 0.2478 - val_loss: 0.5603 - val_accuracy: 0.8525 - val_graph_loss: 0.0000e+00\n",
      "Epoch 76/150\n",
      "5/5 [==============================] - 0s 24ms/step - loss: 0.2820 - accuracy: 0.9117 - graph_loss: 0.2533 - val_loss: 0.5615 - val_accuracy: 0.8525 - val_graph_loss: 0.0000e+00\n",
      "Epoch 77/150\n",
      "5/5 [==============================] - 0s 24ms/step - loss: 0.3293 - accuracy: 0.8967 - graph_loss: 0.2575 - val_loss: 0.5556 - val_accuracy: 0.8525 - val_graph_loss: 0.0000e+00\n",
      "Epoch 78/150\n",
      "5/5 [==============================] - 0s 23ms/step - loss: 0.3197 - accuracy: 0.8937 - graph_loss: 0.2451 - val_loss: 0.5544 - val_accuracy: 0.8525 - val_graph_loss: 0.0000e+00\n",
      "Epoch 79/150\n",
      "5/5 [==============================] - 0s 25ms/step - loss: 0.2860 - accuracy: 0.9057 - graph_loss: 0.2451 - val_loss: 0.5520 - val_accuracy: 0.8525 - val_graph_loss: 0.0000e+00\n",
      "Epoch 80/150\n",
      "5/5 [==============================] - 0s 22ms/step - loss: 0.3193 - accuracy: 0.9027 - graph_loss: 0.2611 - val_loss: 0.5548 - val_accuracy: 0.8525 - val_graph_loss: 0.0000e+00\n",
      "Epoch 81/150\n",
      "5/5 [==============================] - 0s 24ms/step - loss: 0.2904 - accuracy: 0.8997 - graph_loss: 0.2579 - val_loss: 0.5684 - val_accuracy: 0.8525 - val_graph_loss: 0.0000e+00\n",
      "Epoch 82/150\n",
      "5/5 [==============================] - 0s 24ms/step - loss: 0.2926 - accuracy: 0.9147 - graph_loss: 0.2596 - val_loss: 0.5817 - val_accuracy: 0.8525 - val_graph_loss: 0.0000e+00\n",
      "Epoch 83/150\n",
      "5/5 [==============================] - 0s 23ms/step - loss: 0.2982 - accuracy: 0.8922 - graph_loss: 0.2502 - val_loss: 0.5785 - val_accuracy: 0.8470 - val_graph_loss: 0.0000e+00\n",
      "Epoch 84/150\n",
      "5/5 [==============================] - 0s 24ms/step - loss: 0.3006 - accuracy: 0.9057 - graph_loss: 0.2590 - val_loss: 0.5798 - val_accuracy: 0.8470 - val_graph_loss: 0.0000e+00\n",
      "Epoch 85/150\n",
      "5/5 [==============================] - 0s 22ms/step - loss: 0.3047 - accuracy: 0.9042 - graph_loss: 0.2584 - val_loss: 0.5780 - val_accuracy: 0.8470 - val_graph_loss: 0.0000e+00\n",
      "Epoch 86/150\n",
      "5/5 [==============================] - 0s 23ms/step - loss: 0.2786 - accuracy: 0.9162 - graph_loss: 0.2406 - val_loss: 0.5800 - val_accuracy: 0.8470 - val_graph_loss: 0.0000e+00\n"
     ]
    },
    {
     "name": "stdout",
     "output_type": "stream",
     "text": [
      "Epoch 87/150\n",
      "5/5 [==============================] - 0s 22ms/step - loss: 0.2749 - accuracy: 0.9057 - graph_loss: 0.2379 - val_loss: 0.5821 - val_accuracy: 0.8470 - val_graph_loss: 0.0000e+00\n",
      "Epoch 88/150\n",
      "5/5 [==============================] - 0s 23ms/step - loss: 0.2913 - accuracy: 0.8982 - graph_loss: 0.2460 - val_loss: 0.5841 - val_accuracy: 0.8525 - val_graph_loss: 0.0000e+00\n",
      "Epoch 89/150\n",
      "5/5 [==============================] - 0s 24ms/step - loss: 0.2867 - accuracy: 0.9087 - graph_loss: 0.2539 - val_loss: 0.5803 - val_accuracy: 0.8525 - val_graph_loss: 0.0000e+00\n",
      "Epoch 90/150\n",
      "5/5 [==============================] - 0s 22ms/step - loss: 0.2690 - accuracy: 0.9042 - graph_loss: 0.2317 - val_loss: 0.5711 - val_accuracy: 0.8579 - val_graph_loss: 0.0000e+00\n",
      "Epoch 91/150\n",
      "5/5 [==============================] - 0s 23ms/step - loss: 0.2677 - accuracy: 0.9147 - graph_loss: 0.2732 - val_loss: 0.5742 - val_accuracy: 0.8579 - val_graph_loss: 0.0000e+00\n",
      "Epoch 92/150\n",
      "5/5 [==============================] - 0s 22ms/step - loss: 0.2972 - accuracy: 0.9102 - graph_loss: 0.2590 - val_loss: 0.5778 - val_accuracy: 0.8579 - val_graph_loss: 0.0000e+00\n",
      "Epoch 93/150\n",
      "5/5 [==============================] - 0s 24ms/step - loss: 0.2649 - accuracy: 0.9042 - graph_loss: 0.2640 - val_loss: 0.5780 - val_accuracy: 0.8525 - val_graph_loss: 0.0000e+00\n",
      "Epoch 94/150\n",
      "5/5 [==============================] - 0s 25ms/step - loss: 0.2726 - accuracy: 0.9072 - graph_loss: 0.2429 - val_loss: 0.5748 - val_accuracy: 0.8470 - val_graph_loss: 0.0000e+00\n",
      "Epoch 95/150\n",
      "5/5 [==============================] - 0s 24ms/step - loss: 0.2931 - accuracy: 0.9027 - graph_loss: 0.2784 - val_loss: 0.5755 - val_accuracy: 0.8470 - val_graph_loss: 0.0000e+00\n",
      "Epoch 96/150\n",
      "5/5 [==============================] - 0s 23ms/step - loss: 0.2780 - accuracy: 0.9251 - graph_loss: 0.2661 - val_loss: 0.5781 - val_accuracy: 0.8470 - val_graph_loss: 0.0000e+00\n",
      "Epoch 97/150\n",
      "5/5 [==============================] - 0s 24ms/step - loss: 0.2765 - accuracy: 0.9117 - graph_loss: 0.2619 - val_loss: 0.5800 - val_accuracy: 0.8525 - val_graph_loss: 0.0000e+00\n",
      "Epoch 98/150\n",
      "5/5 [==============================] - 0s 24ms/step - loss: 0.2786 - accuracy: 0.9147 - graph_loss: 0.2571 - val_loss: 0.5823 - val_accuracy: 0.8525 - val_graph_loss: 0.0000e+00\n",
      "Epoch 99/150\n",
      "5/5 [==============================] - 0s 24ms/step - loss: 0.2718 - accuracy: 0.9012 - graph_loss: 0.2526 - val_loss: 0.5853 - val_accuracy: 0.8525 - val_graph_loss: 0.0000e+00\n",
      "Epoch 100/150\n",
      "5/5 [==============================] - 0s 22ms/step - loss: 0.2764 - accuracy: 0.9117 - graph_loss: 0.2383 - val_loss: 0.5873 - val_accuracy: 0.8525 - val_graph_loss: 0.0000e+00\n",
      "Epoch 101/150\n",
      "5/5 [==============================] - 0s 24ms/step - loss: 0.2783 - accuracy: 0.9072 - graph_loss: 0.2723 - val_loss: 0.5902 - val_accuracy: 0.8525 - val_graph_loss: 0.0000e+00\n",
      "Epoch 102/150\n",
      "5/5 [==============================] - 0s 23ms/step - loss: 0.2708 - accuracy: 0.9177 - graph_loss: 0.2642 - val_loss: 0.5962 - val_accuracy: 0.8579 - val_graph_loss: 0.0000e+00\n",
      "Epoch 103/150\n",
      "5/5 [==============================] - 0s 24ms/step - loss: 0.3001 - accuracy: 0.8982 - graph_loss: 0.2477 - val_loss: 0.5995 - val_accuracy: 0.8579 - val_graph_loss: 0.0000e+00\n",
      "Epoch 104/150\n",
      "5/5 [==============================] - 0s 24ms/step - loss: 0.2653 - accuracy: 0.9102 - graph_loss: 0.2569 - val_loss: 0.6040 - val_accuracy: 0.8579 - val_graph_loss: 0.0000e+00\n",
      "Epoch 105/150\n",
      "5/5 [==============================] - 0s 24ms/step - loss: 0.2551 - accuracy: 0.8952 - graph_loss: 0.2487 - val_loss: 0.6079 - val_accuracy: 0.8579 - val_graph_loss: 0.0000e+00\n",
      "Epoch 106/150\n",
      "5/5 [==============================] - 0s 24ms/step - loss: 0.2550 - accuracy: 0.9162 - graph_loss: 0.2687 - val_loss: 0.6073 - val_accuracy: 0.8579 - val_graph_loss: 0.0000e+00\n",
      "Epoch 107/150\n",
      "5/5 [==============================] - 0s 23ms/step - loss: 0.2768 - accuracy: 0.9042 - graph_loss: 0.2479 - val_loss: 0.6121 - val_accuracy: 0.8579 - val_graph_loss: 0.0000e+00\n",
      "Epoch 108/150\n",
      "5/5 [==============================] - 0s 24ms/step - loss: 0.2700 - accuracy: 0.9102 - graph_loss: 0.2532 - val_loss: 0.6121 - val_accuracy: 0.8525 - val_graph_loss: 0.0000e+00\n",
      "Epoch 109/150\n",
      "5/5 [==============================] - 0s 24ms/step - loss: 0.2400 - accuracy: 0.9207 - graph_loss: 0.2553 - val_loss: 0.6044 - val_accuracy: 0.8525 - val_graph_loss: 0.0000e+00\n",
      "Epoch 110/150\n",
      "5/5 [==============================] - 0s 23ms/step - loss: 0.2255 - accuracy: 0.9192 - graph_loss: 0.2596 - val_loss: 0.6045 - val_accuracy: 0.8525 - val_graph_loss: 0.0000e+00\n",
      "Epoch 111/150\n",
      "5/5 [==============================] - 0s 24ms/step - loss: 0.2295 - accuracy: 0.9192 - graph_loss: 0.2534 - val_loss: 0.6063 - val_accuracy: 0.8470 - val_graph_loss: 0.0000e+00\n",
      "Epoch 112/150\n",
      "5/5 [==============================] - 0s 22ms/step - loss: 0.2648 - accuracy: 0.9102 - graph_loss: 0.2487 - val_loss: 0.6062 - val_accuracy: 0.8525 - val_graph_loss: 0.0000e+00\n",
      "Epoch 113/150\n",
      "5/5 [==============================] - 0s 24ms/step - loss: 0.2566 - accuracy: 0.9072 - graph_loss: 0.2583 - val_loss: 0.6054 - val_accuracy: 0.8525 - val_graph_loss: 0.0000e+00\n",
      "Epoch 114/150\n",
      "5/5 [==============================] - 0s 24ms/step - loss: 0.2708 - accuracy: 0.9057 - graph_loss: 0.2641 - val_loss: 0.6013 - val_accuracy: 0.8525 - val_graph_loss: 0.0000e+00\n",
      "Epoch 115/150\n",
      "5/5 [==============================] - 0s 23ms/step - loss: 0.2624 - accuracy: 0.9087 - graph_loss: 0.2342 - val_loss: 0.6031 - val_accuracy: 0.8525 - val_graph_loss: 0.0000e+00\n",
      "Epoch 116/150\n",
      "5/5 [==============================] - 0s 23ms/step - loss: 0.2306 - accuracy: 0.9177 - graph_loss: 0.2579 - val_loss: 0.6070 - val_accuracy: 0.8525 - val_graph_loss: 0.0000e+00\n",
      "Epoch 117/150\n",
      "5/5 [==============================] - 0s 21ms/step - loss: 0.2447 - accuracy: 0.9087 - graph_loss: 0.2839 - val_loss: 0.6140 - val_accuracy: 0.8579 - val_graph_loss: 0.0000e+00\n",
      "Epoch 118/150\n",
      "5/5 [==============================] - 0s 22ms/step - loss: 0.2490 - accuracy: 0.9132 - graph_loss: 0.2669 - val_loss: 0.6236 - val_accuracy: 0.8525 - val_graph_loss: 0.0000e+00\n",
      "Epoch 119/150\n",
      "5/5 [==============================] - 0s 28ms/step - loss: 0.2667 - accuracy: 0.9207 - graph_loss: 0.2609 - val_loss: 0.6293 - val_accuracy: 0.8525 - val_graph_loss: 0.0000e+00\n",
      "Epoch 120/150\n",
      "5/5 [==============================] - 0s 31ms/step - loss: 0.2367 - accuracy: 0.9222 - graph_loss: 0.2300 - val_loss: 0.6333 - val_accuracy: 0.8525 - val_graph_loss: 0.0000e+00\n",
      "Epoch 121/150\n",
      "5/5 [==============================] - 0s 30ms/step - loss: 0.2467 - accuracy: 0.9311 - graph_loss: 0.2701 - val_loss: 0.6354 - val_accuracy: 0.8525 - val_graph_loss: 0.0000e+00\n",
      "Epoch 122/150\n",
      "5/5 [==============================] - 0s 31ms/step - loss: 0.2306 - accuracy: 0.9207 - graph_loss: 0.2555 - val_loss: 0.6381 - val_accuracy: 0.8525 - val_graph_loss: 0.0000e+00\n",
      "Epoch 123/150\n",
      "5/5 [==============================] - 0s 31ms/step - loss: 0.2473 - accuracy: 0.9072 - graph_loss: 0.2668 - val_loss: 0.6344 - val_accuracy: 0.8525 - val_graph_loss: 0.0000e+00\n",
      "Epoch 124/150\n",
      "5/5 [==============================] - 0s 26ms/step - loss: 0.2514 - accuracy: 0.9117 - graph_loss: 0.2488 - val_loss: 0.6348 - val_accuracy: 0.8525 - val_graph_loss: 0.0000e+00\n",
      "Epoch 125/150\n",
      "5/5 [==============================] - 0s 25ms/step - loss: 0.2555 - accuracy: 0.8952 - graph_loss: 0.2868 - val_loss: 0.6292 - val_accuracy: 0.8579 - val_graph_loss: 0.0000e+00\n",
      "Epoch 126/150\n",
      "5/5 [==============================] - 0s 30ms/step - loss: 0.2310 - accuracy: 0.9102 - graph_loss: 0.2830 - val_loss: 0.6278 - val_accuracy: 0.8579 - val_graph_loss: 0.0000e+00\n",
      "Epoch 127/150\n",
      "5/5 [==============================] - 0s 27ms/step - loss: 0.2637 - accuracy: 0.9117 - graph_loss: 0.2749 - val_loss: 0.6239 - val_accuracy: 0.8579 - val_graph_loss: 0.0000e+00\n",
      "Epoch 128/150\n",
      "5/5 [==============================] - 0s 25ms/step - loss: 0.2404 - accuracy: 0.9132 - graph_loss: 0.2734 - val_loss: 0.6299 - val_accuracy: 0.8579 - val_graph_loss: 0.0000e+00\n",
      "Epoch 129/150\n",
      "5/5 [==============================] - 0s 24ms/step - loss: 0.2324 - accuracy: 0.9207 - graph_loss: 0.2730 - val_loss: 0.6299 - val_accuracy: 0.8579 - val_graph_loss: 0.0000e+00\n"
     ]
    },
    {
     "name": "stdout",
     "output_type": "stream",
     "text": [
      "Epoch 130/150\n",
      "5/5 [==============================] - 0s 25ms/step - loss: 0.2479 - accuracy: 0.9341 - graph_loss: 0.2624 - val_loss: 0.6302 - val_accuracy: 0.8579 - val_graph_loss: 0.0000e+00\n",
      "Epoch 131/150\n",
      "5/5 [==============================] - 0s 35ms/step - loss: 0.2211 - accuracy: 0.9237 - graph_loss: 0.2397 - val_loss: 0.6325 - val_accuracy: 0.8579 - val_graph_loss: 0.0000e+00\n",
      "Epoch 132/150\n",
      "5/5 [==============================] - 0s 31ms/step - loss: 0.2452 - accuracy: 0.9162 - graph_loss: 0.2815 - val_loss: 0.6400 - val_accuracy: 0.8579 - val_graph_loss: 0.0000e+00\n",
      "Epoch 133/150\n",
      "5/5 [==============================] - 0s 24ms/step - loss: 0.2435 - accuracy: 0.8967 - graph_loss: 0.2746 - val_loss: 0.6418 - val_accuracy: 0.8579 - val_graph_loss: 0.0000e+00\n",
      "Epoch 134/150\n",
      "5/5 [==============================] - 0s 25ms/step - loss: 0.2556 - accuracy: 0.9281 - graph_loss: 0.2934 - val_loss: 0.6407 - val_accuracy: 0.8634 - val_graph_loss: 0.0000e+00\n",
      "Epoch 135/150\n",
      "5/5 [==============================] - 0s 24ms/step - loss: 0.2626 - accuracy: 0.9251 - graph_loss: 0.2822 - val_loss: 0.6397 - val_accuracy: 0.8634 - val_graph_loss: 0.0000e+00\n",
      "Epoch 136/150\n",
      "5/5 [==============================] - 0s 24ms/step - loss: 0.2637 - accuracy: 0.9207 - graph_loss: 0.2796 - val_loss: 0.6392 - val_accuracy: 0.8634 - val_graph_loss: 0.0000e+00\n",
      "Epoch 137/150\n",
      "5/5 [==============================] - 0s 25ms/step - loss: 0.2465 - accuracy: 0.9207 - graph_loss: 0.2706 - val_loss: 0.6375 - val_accuracy: 0.8634 - val_graph_loss: 0.0000e+00\n",
      "Epoch 138/150\n",
      "5/5 [==============================] - 0s 24ms/step - loss: 0.2413 - accuracy: 0.9117 - graph_loss: 0.2630 - val_loss: 0.6357 - val_accuracy: 0.8579 - val_graph_loss: 0.0000e+00\n",
      "Epoch 139/150\n",
      "5/5 [==============================] - 0s 24ms/step - loss: 0.2268 - accuracy: 0.9192 - graph_loss: 0.2506 - val_loss: 0.6339 - val_accuracy: 0.8634 - val_graph_loss: 0.0000e+00\n",
      "Epoch 140/150\n",
      "5/5 [==============================] - 0s 24ms/step - loss: 0.2010 - accuracy: 0.9326 - graph_loss: 0.2646 - val_loss: 0.6264 - val_accuracy: 0.8689 - val_graph_loss: 0.0000e+00\n",
      "Epoch 141/150\n",
      "5/5 [==============================] - 0s 22ms/step - loss: 0.2137 - accuracy: 0.9222 - graph_loss: 0.2823 - val_loss: 0.6237 - val_accuracy: 0.8689 - val_graph_loss: 0.0000e+00\n",
      "Epoch 142/150\n",
      "5/5 [==============================] - 0s 22ms/step - loss: 0.2168 - accuracy: 0.9177 - graph_loss: 0.2606 - val_loss: 0.6189 - val_accuracy: 0.8634 - val_graph_loss: 0.0000e+00\n",
      "Epoch 143/150\n",
      "5/5 [==============================] - 0s 24ms/step - loss: 0.2635 - accuracy: 0.9117 - graph_loss: 0.2604 - val_loss: 0.6240 - val_accuracy: 0.8579 - val_graph_loss: 0.0000e+00\n",
      "Epoch 144/150\n",
      "5/5 [==============================] - 0s 25ms/step - loss: 0.2232 - accuracy: 0.9147 - graph_loss: 0.2482 - val_loss: 0.6276 - val_accuracy: 0.8743 - val_graph_loss: 0.0000e+00\n",
      "Epoch 145/150\n",
      "5/5 [==============================] - 0s 24ms/step - loss: 0.2287 - accuracy: 0.9117 - graph_loss: 0.2617 - val_loss: 0.6381 - val_accuracy: 0.8689 - val_graph_loss: 0.0000e+00\n",
      "Epoch 146/150\n",
      "5/5 [==============================] - 0s 24ms/step - loss: 0.2026 - accuracy: 0.9341 - graph_loss: 0.2510 - val_loss: 0.6535 - val_accuracy: 0.8743 - val_graph_loss: 0.0000e+00\n",
      "Epoch 147/150\n",
      "5/5 [==============================] - 0s 23ms/step - loss: 0.2376 - accuracy: 0.9207 - graph_loss: 0.2764 - val_loss: 0.6599 - val_accuracy: 0.8634 - val_graph_loss: 0.0000e+00\n",
      "Epoch 148/150\n",
      "5/5 [==============================] - 0s 22ms/step - loss: 0.2326 - accuracy: 0.9251 - graph_loss: 0.2783 - val_loss: 0.6584 - val_accuracy: 0.8634 - val_graph_loss: 0.0000e+00\n",
      "Epoch 149/150\n",
      "5/5 [==============================] - 0s 24ms/step - loss: 0.2269 - accuracy: 0.9192 - graph_loss: 0.2816 - val_loss: 0.6667 - val_accuracy: 0.8743 - val_graph_loss: 0.0000e+00\n",
      "Epoch 150/150\n",
      "5/5 [==============================] - 0s 24ms/step - loss: 0.2300 - accuracy: 0.9207 - graph_loss: 0.2612 - val_loss: 0.6648 - val_accuracy: 0.8743 - val_graph_loss: 0.0000e+00\n"
     ]
    }
   ],
   "source": [
    "# Wrap the base MLP model with graph regularization.\n",
    "graph_reg_config = nsl.configs.make_graph_reg_config(\n",
    "    max_neighbors=HPARAMS.num_neighbors,\n",
    "    multiplier=HPARAMS.graph_regularization_multiplier,\n",
    "    distance_type=HPARAMS.distance_type,\n",
    "    sum_over_axis=-1)\n",
    "\n",
    "graph_reg_model = nsl.keras.GraphRegularization(base_reg_model,\n",
    "                                                graph_reg_config)\n",
    "graph_reg_model.compile(\n",
    "    optimizer='adam',\n",
    "    loss='sparse_categorical_crossentropy',\n",
    "    metrics=['accuracy'])\n",
    "graph_reg_model_history = graph_reg_model.fit(train_dataset, epochs=HPARAMS.train_epochs, verbose=1, validation_data=test_dataset)"
   ]
  },
  {
   "cell_type": "code",
   "execution_count": 23,
   "metadata": {},
   "outputs": [
    {
     "data": {
      "text/plain": [
       "dict_keys(['loss', 'accuracy', 'graph_loss', 'val_loss', 'val_accuracy', 'val_graph_loss'])"
      ]
     },
     "execution_count": 23,
     "metadata": {},
     "output_type": "execute_result"
    }
   ],
   "source": [
    "graph_reg_model.history.history.keys()"
   ]
  },
  {
   "cell_type": "code",
   "execution_count": 24,
   "metadata": {},
   "outputs": [
    {
     "data": {
      "image/png": "[encoded data removed]",
      "text/plain": [
       "<Figure size 432x288 with 1 Axes>"
      ]
     },
     "metadata": {
      "needs_background": "light"
     },
     "output_type": "display_data"
    },
    {
     "data": {
      "image/png": "[encoded data removed]",
      "text/plain": [
       "<Figure size 432x288 with 1 Axes>"
      ]
     },
     "metadata": {
      "needs_background": "light"
     },
     "output_type": "display_data"
    }
   ],
   "source": [
    "# base_model.history.history['accuracy']\n",
    "\n",
    "import matplotlib.pyplot as plt\n",
    "# summarize history for accuracy\n",
    "plt.plot(graph_reg_model_history.history['accuracy'])\n",
    "plt.plot(graph_reg_model_history.history['val_accuracy'])\n",
    "plt.title('model accuracy')\n",
    "plt.ylabel('accuracy')\n",
    "plt.xlabel('epoch')\n",
    "plt.legend(['accuracy', 'loss'], loc='upper left')\n",
    "plt.show()\n",
    "\n",
    "plt.plot(graph_reg_model.history.history['loss'])\n",
    "plt.plot(graph_reg_model.history.history['val_loss'])\n",
    "plt.plot(graph_reg_model.history.history['graph_loss'])\n",
    "plt.title('loss')\n",
    "plt.ylabel('accuracy')\n",
    "plt.xlabel('epoch')\n",
    "plt.legend(['loss'], loc='upper left')\n",
    "plt.show()"
   ]
  },
  {
   "cell_type": "markdown",
   "metadata": {
    "colab_type": "text",
    "id": "6409ylRVQS7q"
   },
   "source": [
    "## Evaluate MLP model with graph regularization"
   ]
  },
  {
   "cell_type": "code",
   "execution_count": 25,
   "metadata": {
    "colab": {},
    "colab_type": "code",
    "id": "1TsOE1bAQTqD"
   },
   "outputs": [
    {
     "name": "stdout",
     "output_type": "stream",
     "text": [
      "2/2 [==============================] - 0s 12ms/step - loss: 0.6648 - accuracy: 0.8743 - graph_loss: 0.0000e+00\n",
      "\n",
      "\n",
      "Eval accuracy for  MLP + graph regularization :  0.87431693\n",
      "Eval loss for  MLP + graph regularization :  0.6648462563753128\n",
      "Eval graph loss for  MLP + graph regularization :  0.0\n"
     ]
    }
   ],
   "source": [
    "eval_results = dict(\n",
    "    zip(graph_reg_model.metrics_names,\n",
    "        graph_reg_model.evaluate(test_dataset, steps=HPARAMS.eval_steps)))\n",
    "print_metrics('MLP + graph regularization', eval_results)"
   ]
  },
  {
   "cell_type": "markdown",
   "metadata": {
    "colab_type": "text",
    "id": "Adc-r84EOSQi"
   },
   "source": [
    "The graph-regularized model's accuracy is about 2-3% higher than that of the\n",
    "base model (`base_model`)."
   ]
  },
  {
   "cell_type": "markdown",
   "metadata": {
    "colab_type": "text",
    "id": "OEXQHFNvJQJe"
   },
   "source": [
    "## Conclusion\n",
    "\n",
    "We have demonstrated the use of graph regularization for document classification\n",
    "on a natural citation graph (Cora) using the Neural Structured Learning (NSL)\n",
    "framework. Our [advanced tutorial](graph_keras_lstm_imdb.ipynb) involves\n",
    "synthesizing graphs based on sample embeddings before training a neural network\n",
    "with graph regularization. This approach is useful if the input does not contain\n",
    "an explicit graph.\n",
    "\n",
    "We encourage users to experiment further by varying the amount of supervision as\n",
    "well as trying different neural architectures for graph regularization."
   ]
  },
  {
   "cell_type": "code",
   "execution_count": 30,
   "metadata": {},
   "outputs": [
    {
     "data": {
      "image/png": "[encoded data removed]",
      "text/plain": [
       "<Figure size 432x288 with 1 Axes>"
      ]
     },
     "metadata": {
      "needs_background": "light"
     },
     "output_type": "display_data"
    }
   ],
   "source": [
    "# base_model.history.history['accuracy']\n",
    "\n",
    "import matplotlib.pyplot as plt\n",
    "# summarize history for accuracy\n",
    "plt.plot(base_model_history.history['val_accuracy'])\n",
    "plt.plot(graph_reg_model_history.history['val_accuracy'])\n",
    "plt.title('model accuracy')\n",
    "plt.ylabel('accuracy')\n",
    "plt.xlabel('epoch')\n",
    "plt.legend(['base model', 'greph reg model'], loc='upper left')\n",
    "plt.show()"
   ]
  },
  {
   "cell_type": "code",
   "execution_count": 38,
   "metadata": {},
   "outputs": [
    {
     "data": {
      "image/png": "[encoded data removed]",
      "text/plain": [
       "<Figure size 720x720 with 1 Axes>"
      ]
     },
     "metadata": {
      "needs_background": "light"
     },
     "output_type": "display_data"
    }
   ],
   "source": [
    "import pandas as pd\n",
    "import seaborn as sns\n",
    "df = pd.DataFrame({\n",
    "    'Model': ['Base model', 'Graph reugulated model'],\n",
    "    'Val. accuracy': [base_model_history.history['val_accuracy'][-1]*100, graph_reg_model_history.history['val_accuracy'][-1]*100],\n",
    "    'Val. loss': [base_model_history.history['loss'][-1]*100, graph_reg_model_history.history['loss'][-1]*100]\n",
    "    })\n",
    "fig, ax1 = plt.subplots(figsize=(10, 10))\n",
    "plt.title(\"Comparing model preformance\")\n",
    "tidy = df.melt(id_vars='Model').rename(columns=str.title)\n",
    "sns.barplot(x='Model', y='Value', hue='Variable', data=tidy, ax=ax1,  palette=\"Set1\")\n",
    "sns.despine(fig)"
   ]
  },
  {
   "cell_type": "code",
   "execution_count": 35,
   "metadata": {},
   "outputs": [
    {
     "data": {
      "text/plain": [
       "0.87431693"
      ]
     },
     "execution_count": 35,
     "metadata": {},
     "output_type": "execute_result"
    }
   ],
   "source": []
  },
  {
   "cell_type": "code",
   "execution_count": null,
   "metadata": {},
   "outputs": [],
   "source": []
  }
 ],
 "metadata": {
  "accelerator": "GPU",
  "colab": {
   "collapsed_sections": [],
   "name": "Graph regularization for terror data and relationships using natural graphs",
   "private_outputs": true,
   "provenance": [],
   "toc_visible": true
  },
  "kernelspec": {
   "display_name": "Python 3",
   "language": "python",
   "name": "python3"
  },
  "language_info": {
   "codemirror_mode": {
    "name": "ipython",
    "version": 3
   },
   "file_extension": ".py",
   "mimetype": "text/x-python",
   "name": "python",
   "nbconvert_exporter": "python",
   "pygments_lexer": "ipython3",
   "version": "3.7.3"
  }
 },
 "nbformat": 4,
 "nbformat_minor": 1
}
