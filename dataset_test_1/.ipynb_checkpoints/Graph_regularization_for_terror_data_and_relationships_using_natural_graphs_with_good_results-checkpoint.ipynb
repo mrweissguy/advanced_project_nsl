{
 "cells": [
  {
   "cell_type": "markdown",
   "metadata": {},
   "source": [
    "### Preprocessing data"
   ]
  },
  {
   "cell_type": "markdown",
   "metadata": {
    "colab_type": "text",
    "id": "DADUIVuPIqYi"
   },
   "source": [
    "##### Copyright 2019 Google LLC"
   ]
  },
  {
   "cell_type": "code",
   "execution_count": null,
   "metadata": {
    "cellView": "form",
    "colab": {},
    "colab_type": "code",
    "id": "Cu1zPez8Ip1S"
   },
   "outputs": [],
   "source": [
    "#@title Licensed under the Apache License, Version 2.0 (the \"License\");\n",
    "# you may not use this file except in compliance with the License.\n",
    "# You may obtain a copy of the License at\n",
    "#\n",
    "#     https://www.apache.org/licenses/LICENSE-2.0\n",
    "#\n",
    "# Unless required by applicable law or agreed to in writing, software\n",
    "# distributed under the License is distributed on an \"AS IS\" BASIS,\n",
    "# WITHOUT WARRANTIES OR CONDITIONS OF ANY KIND, either express or implied.\n",
    "# See the License for the specific language governing permissions and\n",
    "# limitations under the License."
   ]
  },
  {
   "cell_type": "markdown",
   "metadata": {},
   "source": [
    "On data \n",
    "*Terrorists are linked to each other if they contact each other, use the same facility, are members of the same family, or belong to the same terrorist organization.*"
   ]
  },
  {
   "cell_type": "markdown",
   "metadata": {
    "colab_type": "text",
    "id": "nlIh_TPLI54s"
   },
   "source": [
    "# Graph regularization for document classification using natural graphs"
   ]
  },
  {
   "cell_type": "markdown",
   "metadata": {
    "colab_type": "text",
    "id": "pL9fF9FWI-Q1"
   },
   "source": [
    "<table class=\"tfo-notebook-buttons\" align=\"left\">\n",
    "  <td>\n",
    "    <a target=\"_blank\" href=\"https://www.tensorflow.org/neural_structured_learning/tutorials/graph_keras_mlp_cora\"><img src=\"https://www.tensorflow.org/images/tf_logo_32px.png\" />View on TensorFlow.org</a>\n",
    "  </td>\n",
    "  <td>\n",
    "    <a target=\"_blank\" href=\"https://colab.research.google.com/github/tensorflow/neural-structured-learning/blob/master/g3doc/tutorials/graph_keras_mlp_cora.ipynb\"><img src=\"https://www.tensorflow.org/images/colab_logo_32px.png\" />Run in Google Colab</a>\n",
    "  </td>\n",
    "  <td>\n",
    "    <a target=\"_blank\" href=\"https://github.com/tensorflow/neural-structured-learning/blob/master/g3doc/tutorials/graph_keras_mlp_cora.ipynb\"><img src=\"https://www.tensorflow.org/images/GitHub-Mark-32px.png\" />View source on GitHub</a>\n",
    "  </td>\n",
    "</table>"
   ]
  },
  {
   "cell_type": "markdown",
   "metadata": {
    "colab_type": "text",
    "id": "jJlN8oxhNGto"
   },
   "source": [
    "## Overview\n",
    "\n",
    "Graph regularization is a specific technique under the broader paradigm of\n",
    "Neural Graph Learning\n",
    "([Bui et al., 2018](https://ai.google/research/pubs/pub46568.pdf)). The core\n",
    "idea is to train neural network models with a graph-regularized objective,\n",
    "harnessing both labeled and unlabeled data.\n",
    "\n",
    "In this tutorial, we will explore the use of graph regularization to classify\n",
    "documents that form a natural (organic) graph.\n",
    "\n",
    "The general recipe for creating a graph-regularized model using the Neural\n",
    "Structured Learning (NSL) framework is as follows:\n",
    "\n",
    "1.  Generate training data from the input graph and sample features. Nodes in\n",
    "    the graph correspond to samples and edges in the graph correspond to\n",
    "    similarity between pairs of samples. The resulting training data will\n",
    "    contain neighbor features in addition to the original node features.\n",
    "2.  Create a neural network as a base model using the `Keras` sequential,\n",
    "    functional, or subclass API.\n",
    "3.  Wrap the base model with the **`GraphRegularization`** wrapper class, which\n",
    "    is provided by the NSL framework, to create a new graph `Keras` model. This\n",
    "    new model will include a graph regularization loss as the regularization\n",
    "    term in its training objective.\n",
    "4.  Train and evaluate the graph `Keras` model."
   ]
  },
  {
   "cell_type": "markdown",
   "metadata": {},
   "source": [
    "## Overview\n",
    "\n",
    "Graph regularization is a specific technique under the broader paradigm of\n",
    "Neural Graph Learning\n",
    "([Bui et al., 2018](https://ai.google/research/pubs/pub46568.pdf)). The core\n",
    "idea is to train neural network models with a graph-regularized objective,\n",
    "harnessing both labeled and unlabeled data.\n",
    "\n",
    "We will explore the use of graph regularization to classify relationships between terrorists,\n",
    "that form a natural (organic) graph.\n",
    "\n",
    "The general recipe for creating a graph-regularized model using the Neural\n",
    "Structured Learning (NSL) framework is as follows:\n",
    "\n",
    "1.  Generate training data from the input graph and sample features. Nodes in\n",
    "    the graph correspond to samples and edges in the graph correspond to\n",
    "    similarity between pairs of samples. The resulting training data will\n",
    "    contain neighbor features in addition to the original node features.\n",
    "2.  Create a neural network as a base model using the `Keras` sequential,\n",
    "    functional, or subclass API.\n",
    "3.  Wrap the base model with the **`GraphRegularization`** wrapper class, which\n",
    "    is provided by the NSL framework, to create a new graph `Keras` model. This\n",
    "    new model will include a graph regularization loss as the regularization\n",
    "    term in its training objective.\n",
    "4.  Train and evaluate the graph `Keras` model."
   ]
  },
  {
   "cell_type": "markdown",
   "metadata": {
    "colab_type": "text",
    "id": "nDOFbB34KY1R"
   },
   "source": [
    "## Setup\n",
    "\n"
   ]
  },
  {
   "cell_type": "markdown",
   "metadata": {
    "colab_type": "text",
    "id": "hgSLDi0SyBuO"
   },
   "source": [
    "1.  Select TensorFlow 2.x to create an interactive development environment with eager execution.\n",
    "2.  Install the Neural Structured Learning package."
   ]
  },
  {
   "cell_type": "code",
   "execution_count": 1,
   "metadata": {
    "colab": {},
    "colab_type": "code",
    "id": "gh6K6Onyy5bd"
   },
   "outputs": [
    {
     "name": "stdout",
     "output_type": "stream",
     "text": [
      "\u001b[31mERROR: Could not find a version that satisfies the requirement tensorflow-gpu (from versions: none)\u001b[0m\n",
      "\u001b[31mERROR: No matching distribution found for tensorflow-gpu\u001b[0m\n"
     ]
    }
   ],
   "source": [
    "try:\n",
    "  # %tensorflow_version only exists in Colab.\n",
    "  %tensorflow_version 2.x\n",
    "except Exception:\n",
    "  !pip install tensorflow-gpu>=2.0.0"
   ]
  },
  {
   "cell_type": "code",
   "execution_count": 2,
   "metadata": {
    "colab": {},
    "colab_type": "code",
    "id": "uVnjPmOaQlnH"
   },
   "outputs": [],
   "source": [
    "!pip install --quiet neural-structured-learning"
   ]
  },
  {
   "cell_type": "markdown",
   "metadata": {
    "colab_type": "text",
    "id": "0AiNrPJaX_Lb"
   },
   "source": [
    "## Dependencies and imports"
   ]
  },
  {
   "cell_type": "code",
   "execution_count": 3,
   "metadata": {
    "colab": {},
    "colab_type": "code",
    "id": "5sEamf-wZJkX"
   },
   "outputs": [
    {
     "name": "stdout",
     "output_type": "stream",
     "text": [
      "Version:  2.0.0-rc1\n",
      "Eager mode:  True\n",
      "GPU is NOT AVAILABLE\n"
     ]
    }
   ],
   "source": [
    "from __future__ import absolute_import, division, print_function, unicode_literals\n",
    "\n",
    "import neural_structured_learning as nsl\n",
    "\n",
    "import tensorflow as tf\n",
    "\n",
    "# Resets notebook state\n",
    "tf.keras.backend.clear_session()\n",
    "\n",
    "print(\"Version: \", tf.__version__)\n",
    "print(\"Eager mode: \", tf.executing_eagerly())\n",
    "print(\"GPU is\", \"available\" if tf.test.is_gpu_available() else \"NOT AVAILABLE\")"
   ]
  },
  {
   "cell_type": "markdown",
   "metadata": {
    "colab_type": "text",
    "id": "RtbcGZ_N6Ll9"
   },
   "source": [
    "## Cora dataset\n",
    "\n",
    "The [Cora dataset](https://linqs.soe.ucsc.edu/data) is a citation graph where\n",
    "nodes represent machine learning papers and edges represent citations between\n",
    "pairs of papers. The task involved is document classification where the goal is\n",
    "to categorize each paper into one of 7 categories. In other words, this is a\n",
    "multi-class classification problem with 7 classes.\n",
    "\n",
    "### Graph\n",
    "\n",
    "The original graph is directed. However, for the purpose of this example, we\n",
    "consider the undirected version of this graph. So, if paper A cites paper B, we\n",
    "also consider paper B to have cited A. Although this is not necessarily true, in\n",
    "this example, we consider citations as a proxy for similarity, which is usually\n",
    "a commutative property.\n",
    "\n",
    "### Features\n",
    "\n",
    "Each paper in the input effectively contains 2 features:\n",
    "\n",
    "1.  **Words**: A dense, multi-hot bag-of-words representation of the text in the\n",
    "    paper. The vocabulary for the Cora dataset contains 1433 unique words. So,\n",
    "    the length of this feature is 1433, and the value at position 'i' is 0/1\n",
    "    indicating whether word 'i' in the vocabulary exists in the given paper or\n",
    "    not.\n",
    "\n",
    "2.  **Label**: A single integer representing the class ID (category) of the paper."
   ]
  },
  {
   "cell_type": "markdown",
   "metadata": {
    "colab_type": "text",
    "id": "p2-FVpVHEyIS"
   },
   "source": [
    "### Download the Cora dataset"
   ]
  },
  {
   "cell_type": "code",
   "execution_count": 5,
   "metadata": {
    "colab": {},
    "colab_type": "code",
    "id": "2nSZjKqwE6Rn"
   },
   "outputs": [
    {
     "name": "stdout",
     "output_type": "stream",
     "text": [
      "x CustomTerroristRel/\n",
      "x CustomTerroristRel/TerroristRel_Family.nodes\n",
      "x CustomTerroristRel/TerroristRel_Colleague.nodes\n",
      "x CustomTerroristRel/TerroristRel_Contact.nodes\n",
      "x CustomTerroristRel/collected_nodes.nodes\n",
      "x CustomTerroristRel/collected.nodes\n",
      "x CustomTerroristRel/README\n",
      "x CustomTerroristRel/TerroristRel.labels\n",
      "x CustomTerroristRel/TerroristRel_Congregate.nodes\n",
      "x CustomTerroristRel/collected_nodes.csv\n",
      "x CustomTerroristRel/TerroristRel.edges\n"
     ]
    }
   ],
   "source": [
    "# !wget --quiet -P /tmp https://linqs-data.soe.ucsc.edu/public/lbc/TerroristRel.tgz \n",
    "# !wget --quiet -P /tmp https://github.com/mrweissguy/nsl/tree/master/data/TerroristRel\n",
    "       \n",
    "# !tar -C /tmp -xvzf /tmp/cora.tgz\n",
    "# !tar -C /tmp -xvzf /tmp/TerroristRel.tgz\n",
    "!tar -C /tmp -xvzf /Users/johanweisshansen/Documents/DTU/3.semester/advanced_project/oticon_project/terror_data/dataset_test_1/data/CustomTerroristRel.tgz"
   ]
  },
  {
   "cell_type": "markdown",
   "metadata": {
    "colab_type": "text",
    "id": "ylYP32_IoqZI"
   },
   "source": [
    "### Convert the Cora data to the NSL format\n",
    "\n",
    "In order to preprocess the Terrorist Relations dataset and convert it to the format required by\n",
    "Neural Structured Learning, we will run the **'preprocess_cora_dataset.py'**\n",
    "script, which is included in the NSL github repository. This script does the\n",
    "following:\n",
    "\n",
    "1.  Generate neighbor features using the original node features and the graph.\n",
    "2.  Generate train and test data splits containing `tf.train.Example` instances.\n",
    "3.  Persist the resulting train and test data in the `TFRecord` format."
   ]
  },
  {
   "cell_type": "code",
   "execution_count": 6,
   "metadata": {
    "colab": {},
    "colab_type": "code",
    "id": "Myz01LVZQ8Uh",
    "scrolled": true
   },
   "outputs": [
    {
     "name": "stdout",
     "output_type": "stream",
     "text": [
      "preprocessing_terror_dataset.py:131: DeprecationWarning: 'U' mode is deprecated\n",
      "  with open(in_file, 'rU') as cora_content:\n",
      "Reading graph file: /tmp/CustomTerroristRel/TerroristRel.edges...\n",
      "Done reading 8592 edges from: /tmp/CustomTerroristRel/TerroristRel.edges (0.01 seconds).\n",
      "Making all edges bi-directional...\n",
      "Done (0.01 seconds). Total graph nodes: 881\n",
      "Joining seed and neighbor tf.train.Examples with graph edges...\n",
      "W1120 15:13:39.019021 4625169856 preprocessing_terror_dataset.py:184] No tf.train.Example found for edge target ID: \"http://profilesinterror.mindswap.org/document/4#Ramzi_Yousef_http://profilesinterror.mindswap.org/document/19#Nidal_Ayyad\"\n",
      "W1120 15:13:39.019222 4625169856 preprocessing_terror_dataset.py:184] No tf.train.Example found for edge target ID: \"http://profilesinterror.mindswap.org/document/19#EyadIsmoil_http://profilesinterror.mindswap.org/document/19#Nidal_Ayyad\"\n",
      "W1120 15:13:39.019301 4625169856 preprocessing_terror_dataset.py:184] No tf.train.Example found for edge target ID: \"http://profilesinterror.mindswap.org/document/19#AhmadAjaj_http://profilesinterror.mindswap.org/document/19#Nidal_Ayyad\"\n",
      "W1120 15:13:39.019361 4625169856 preprocessing_terror_dataset.py:184] No tf.train.Example found for edge target ID: \"http://profilesinterror.mindswap.org/document/19#MohammedSalameh_http://profilesinterror.mindswap.org/document/19#Nidal_Ayyad\"\n",
      "W1120 15:13:39.022753 4625169856 preprocessing_terror_dataset.py:184] No tf.train.Example found for edge target ID: \"http://profilesinterror.mindswap.org/document/27#FarouqQaddoumi_http://profilesinterror.mindswap.org/document/2005/05/24/18:26:22#Khaled_al-Fahoum\"\n",
      "W1120 15:13:39.023909 4625169856 preprocessing_terror_dataset.py:184] No tf.train.Example found for edge target ID: \"http://profilesinterror.mindswap.org/document/27#FarouqQaddoumi_http://profilesinterror.mindswap.org/document/2005/05/24/18:26:22#Khaled_al-Fahoum\"\n",
      "W1120 15:13:39.024978 4625169856 preprocessing_terror_dataset.py:184] No tf.train.Example found for edge target ID: \"http://profilesinterror.mindswap.org/document/27#FarouqQaddoumi_http://profilesinterror.mindswap.org/document/2005/05/24/18:26:22#Khaled_al-Fahoum\"\n",
      "W1120 15:13:39.026072 4625169856 preprocessing_terror_dataset.py:184] No tf.train.Example found for edge target ID: \"http://profilesinterror.mindswap.org/document/27#FarouqQaddoumi_http://profilesinterror.mindswap.org/document/2005/05/24/18:26:22#Khaled_al-Fahoum\"\n",
      "W1120 15:13:39.030601 4625169856 preprocessing_terror_dataset.py:184] No tf.train.Example found for edge target ID: \"http://profilesinterror.mindswap.org/document/2005/07/28/16:02:44#Germaine_Lindsay_http://profilesinterror.mindswap.org/document/2005/07/28/15:59:18#Mohammad_Sidique_Khan\"\n",
      "W1120 15:13:39.035740 4625169856 preprocessing_terror_dataset.py:184] No tf.train.Example found for edge target ID: \"http://profilesinterror.mindswap.org/document/19#AhmadAjaj_http://profilesinterror.mindswap.org/document/4#Ramzi_Yousef\"\n",
      "W1120 15:13:39.035864 4625169856 preprocessing_terror_dataset.py:184] No tf.train.Example found for edge target ID: \"http://profilesinterror.mindswap.org/document/19#MohammedSalameh_http://profilesinterror.mindswap.org/document/4#Ramzi_Yousef\"\n",
      "W1120 15:13:39.035933 4625169856 preprocessing_terror_dataset.py:184] No tf.train.Example found for edge target ID: \"http://profilesinterror.mindswap.org/document/4#Ramzi_Yousef_http://profilesinterror.mindswap.org/document/19#Nidal_Ayyad\"\n",
      "W1120 15:13:39.035994 4625169856 preprocessing_terror_dataset.py:184] No tf.train.Example found for edge target ID: \"http://profilesinterror.mindswap.org/document/19#EyadIsmoil_http://profilesinterror.mindswap.org/document/4#Ramzi_Yousef\"\n",
      "W1120 15:13:39.039850 4625169856 preprocessing_terror_dataset.py:184] No tf.train.Example found for edge target ID: \"http://counterterror.mindswap.org/2005/terrorists.owl#Richard_Colvin_Reid_http://profilesinterror.mindswap.org/document/2005/09/07/09:36:59#\"\n",
      "W1120 15:13:39.040024 4625169856 preprocessing_terror_dataset.py:184] No tf.train.Example found for edge target ID: \"http://counterterror.mindswap.org/2005/terrorists.owl#Nizar_Trabelsi_http://counterterror.mindswap.org/2005/terrorists.owl#Richard_Colvin_Reid\"\n",
      "W1120 15:13:39.041349 4625169856 preprocessing_terror_dataset.py:184] No tf.train.Example found for edge target ID: \"http://profilesinterror.mindswap.org/document/2005/12/20/20:55:53#_http://profilesinterror.mindswap.org/document/2005/09/08/04:39:17#\"\n",
      "W1120 15:13:39.047428 4625169856 preprocessing_terror_dataset.py:184] No tf.train.Example found for edge target ID: \"http://profilesinterror.mindswap.org/document/29#MohammedSchreim_http://profilesinterror.mindswap.org/document/29#NasserWatimi\"\n",
      "W1120 15:13:39.048762 4625169856 preprocessing_terror_dataset.py:184] No tf.train.Example found for edge target ID: \"http://profilesinterror.mindswap.org/document/2006/03/17/05:42:48#_http://profilesinterror.mindswap.org/document/2006/03/15/04:58:21#\"\n",
      "W1120 15:13:39.048875 4625169856 preprocessing_terror_dataset.py:184] No tf.train.Example found for edge target ID: \"http://profilesinterror.mindswap.org/document/2006/03/17/05:47:04#_http://profilesinterror.mindswap.org/document/2006/03/15/04:58:21#\"\n",
      "W1120 15:13:39.048938 4625169856 preprocessing_terror_dataset.py:184] No tf.train.Example found for edge target ID: \"http://profilesinterror.mindswap.org/document/2006/03/15/22:21:03#_http://profilesinterror.mindswap.org/document/2006/03/15/04:58:21#\"\n",
      "W1120 15:13:39.049977 4625169856 preprocessing_terror_dataset.py:184] No tf.train.Example found for edge target ID: \"http://profilesinterror.mindswap.org/document/2006/03/15/22:21:03#_http://profilesinterror.mindswap.org/document/2006/03/15/04:58:21#\"\n",
      "W1120 15:13:39.050056 4625169856 preprocessing_terror_dataset.py:184] No tf.train.Example found for edge target ID: \"http://profilesinterror.mindswap.org/document/2006/03/17/05:42:48#_http://profilesinterror.mindswap.org/document/2006/03/15/22:21:03#\"\n",
      "W1120 15:13:39.050925 4625169856 preprocessing_terror_dataset.py:184] No tf.train.Example found for edge target ID: \"http://profilesinterror.mindswap.org/document/2006/03/17/05:42:48#_http://profilesinterror.mindswap.org/document/2006/03/15/22:21:03#\"\n",
      "W1120 15:13:39.051002 4625169856 preprocessing_terror_dataset.py:184] No tf.train.Example found for edge target ID: \"http://profilesinterror.mindswap.org/document/2006/03/15/22:21:03#_http://profilesinterror.mindswap.org/document/2006/03/15/04:58:21#\"\n",
      "W1120 15:13:39.052024 4625169856 preprocessing_terror_dataset.py:184] No tf.train.Example found for edge target ID: \"http://profilesinterror.mindswap.org/document/2005/08/09/16:36:24#_http://profilesinterror.mindswap.org/document/2005/08/09/16:43:04#\"\n",
      "W1120 15:13:39.054028 4625169856 preprocessing_terror_dataset.py:184] No tf.train.Example found for edge target ID: \"http://profilesinterror.mindswap.org/document/11#AhmedRessam_http://profilesinterror.mindswap.org/document/2005/06/17/00:42:19#Mourad_Ikhlef\"\n",
      "W1120 15:13:39.054112 4625169856 preprocessing_terror_dataset.py:184] No tf.train.Example found for edge target ID: \"http://profilesinterror.mindswap.org/document/11#AhmedRessam_http://counterterror.mindswap.org/2005/terrorists.owl#Abderraouf_Hannachi\"\n",
      "W1120 15:13:39.055294 4625169856 preprocessing_terror_dataset.py:184] No tf.train.Example found for edge target ID: \"http://profilesinterror.mindswap.org/document/19#MohammedSalameh_http://profilesinterror.mindswap.org/document/19#AhmadAjaj\"\n",
      "W1120 15:13:39.055386 4625169856 preprocessing_terror_dataset.py:184] No tf.train.Example found for edge target ID: \"http://profilesinterror.mindswap.org/document/19#AhmadAjaj_http://profilesinterror.mindswap.org/document/19#Nidal_Ayyad\"\n",
      "W1120 15:13:39.055461 4625169856 preprocessing_terror_dataset.py:184] No tf.train.Example found for edge target ID: \"http://profilesinterror.mindswap.org/document/19#AhmadAjaj_http://profilesinterror.mindswap.org/document/4#Ramzi_Yousef\"\n",
      "W1120 15:13:39.056496 4625169856 preprocessing_terror_dataset.py:184] No tf.train.Example found for edge target ID: \"http://profilesinterror.mindswap.org/document/11#AhmedRessam_http://counterterror.mindswap.org/2005/terrorists.owl#Abderraouf_Hannachi\"\n",
      "W1120 15:13:39.059449 4625169856 preprocessing_terror_dataset.py:184] No tf.train.Example found for edge target ID: \"http://profilesinterror.mindswap.org/document/29#FathiKhatib_http://profilesinterror.mindswap.org/document/29#MuammarSheikh\"\n",
      "W1120 15:13:39.061558 4625169856 preprocessing_terror_dataset.py:184] No tf.train.Example found for edge target ID: \"http://profilesinterror.mindswap.org/document/2006/03/17/05:42:48#_http://profilesinterror.mindswap.org/document/2006/03/17/05:47:04#\"\n",
      "W1120 15:13:39.061700 4625169856 preprocessing_terror_dataset.py:184] No tf.train.Example found for edge target ID: \"http://profilesinterror.mindswap.org/document/2006/03/17/05:47:04#_http://profilesinterror.mindswap.org/document/2006/03/15/04:58:21#\"\n"
     ]
    },
    {
     "name": "stdout",
     "output_type": "stream",
     "text": [
      "W1120 15:13:39.062721 4625169856 preprocessing_terror_dataset.py:184] No tf.train.Example found for edge target ID: \"http://profilesinterror.mindswap.org/document/11#AhmedRessam_http://profilesinterror.mindswap.org/document/2005/06/17/00:42:19#Mourad_Ikhlef\"\n",
      "W1120 15:13:39.062800 4625169856 preprocessing_terror_dataset.py:184] No tf.train.Example found for edge target ID: \"http://profilesinterror.mindswap.org/document/11#AhmedRessam_http://counterterror.mindswap.org/2005/terrorists.owl#Abderraouf_Hannachi\"\n",
      "W1120 15:13:39.063907 4625169856 preprocessing_terror_dataset.py:184] No tf.train.Example found for edge target ID: \"http://profilesinterror.mindswap.org/document/11#AhmedRessam_http://counterterror.mindswap.org/2005/terrorists.owl#Abderraouf_Hannachi\"\n",
      "W1120 15:13:39.064001 4625169856 preprocessing_terror_dataset.py:184] No tf.train.Example found for edge target ID: \"http://profilesinterror.mindswap.org/document/11#AhmedRessam_http://profilesinterror.mindswap.org/document/2005/06/17/00:42:19#Mourad_Ikhlef\"\n",
      "W1120 15:13:39.065044 4625169856 preprocessing_terror_dataset.py:184] No tf.train.Example found for edge target ID: \"http://profilesinterror.mindswap.org/document/2006/03/17/05:42:48#_http://profilesinterror.mindswap.org/document/2006/03/15/22:21:03#\"\n",
      "W1120 15:13:39.065123 4625169856 preprocessing_terror_dataset.py:184] No tf.train.Example found for edge target ID: \"http://profilesinterror.mindswap.org/document/2006/03/17/05:42:48#_http://profilesinterror.mindswap.org/document/2006/03/17/05:47:04#\"\n",
      "W1120 15:13:39.065185 4625169856 preprocessing_terror_dataset.py:184] No tf.train.Example found for edge target ID: \"http://profilesinterror.mindswap.org/document/2006/03/17/05:42:48#_http://profilesinterror.mindswap.org/document/2006/03/15/04:58:21#\"\n",
      "W1120 15:13:39.069918 4625169856 preprocessing_terror_dataset.py:184] No tf.train.Example found for edge target ID: \"http://profilesinterror.mindswap.org/document/29#FathiKhatib_http://profilesinterror.mindswap.org/document/29#MuammarSheikh\"\n",
      "W1120 15:13:39.071025 4625169856 preprocessing_terror_dataset.py:184] No tf.train.Example found for edge target ID: \"http://profilesinterror.mindswap.org/document/29#FathiKhatib_http://profilesinterror.mindswap.org/document/29#MuammarSheikh\"\n",
      "W1120 15:13:39.072520 4625169856 preprocessing_terror_dataset.py:184] No tf.train.Example found for edge target ID: \"http://profilesinterror.mindswap.org/document/2005/07/28/16:02:44#Germaine_Lindsay_http://profilesinterror.mindswap.org/document/2005/07/28/15:59:18#Mohammad_Sidique_Khan\"\n",
      "W1120 15:13:39.073643 4625169856 preprocessing_terror_dataset.py:184] No tf.train.Example found for edge target ID: \"http://profilesinterror.mindswap.org/document/2005/07/28/16:02:44#Germaine_Lindsay_http://profilesinterror.mindswap.org/document/2005/07/28/15:59:18#Mohammad_Sidique_Khan\"\n",
      "W1120 15:13:39.074703 4625169856 preprocessing_terror_dataset.py:184] No tf.train.Example found for edge target ID: \"http://profilesinterror.mindswap.org/document/29#MohammedSchreim_http://profilesinterror.mindswap.org/document/29#NasserWatimi\"\n",
      "W1120 15:13:39.082309 4625169856 preprocessing_terror_dataset.py:184] No tf.train.Example found for edge target ID: \"http://profilesinterror.mindswap.org/document/29#MohammedSchreim_http://profilesinterror.mindswap.org/document/29#NasserWatimi\"\n",
      "W1120 15:13:39.108666 4625169856 preprocessing_terror_dataset.py:184] No tf.train.Example found for edge target ID: \"http://profilesinterror.mindswap.org/document/2005/12/20/20:55:53#_http://profilesinterror.mindswap.org/document/2005/09/08/04:39:17#\"\n",
      "W1120 15:13:39.118061 4625169856 preprocessing_terror_dataset.py:184] No tf.train.Example found for edge target ID: \"http://profilesinterror.mindswap.org/document/2006/03/17/05:42:48#_http://profilesinterror.mindswap.org/document/2006/03/15/04:58:21#\"\n",
      "W1120 15:13:39.118207 4625169856 preprocessing_terror_dataset.py:184] No tf.train.Example found for edge target ID: \"http://profilesinterror.mindswap.org/document/2006/03/15/22:21:03#_http://profilesinterror.mindswap.org/document/2006/03/15/04:58:21#\"\n",
      "W1120 15:13:39.118276 4625169856 preprocessing_terror_dataset.py:184] No tf.train.Example found for edge target ID: \"http://profilesinterror.mindswap.org/document/2006/03/17/05:47:04#_http://profilesinterror.mindswap.org/document/2006/03/15/04:58:21#\"\n",
      "W1120 15:13:39.119213 4625169856 preprocessing_terror_dataset.py:184] No tf.train.Example found for edge target ID: \"http://profilesinterror.mindswap.org/document/2006/03/17/05:42:48#_http://profilesinterror.mindswap.org/document/2006/03/15/04:58:21#\"\n",
      "W1120 15:13:39.119282 4625169856 preprocessing_terror_dataset.py:184] No tf.train.Example found for edge target ID: \"http://profilesinterror.mindswap.org/document/2006/03/17/05:42:48#_http://profilesinterror.mindswap.org/document/2006/03/15/22:21:03#\"\n",
      "W1120 15:13:39.119335 4625169856 preprocessing_terror_dataset.py:184] No tf.train.Example found for edge target ID: \"http://profilesinterror.mindswap.org/document/2006/03/17/05:42:48#_http://profilesinterror.mindswap.org/document/2006/03/17/05:47:04#\"\n",
      "W1120 15:13:39.135338 4625169856 preprocessing_terror_dataset.py:184] No tf.train.Example found for edge target ID: \"http://profilesinterror.mindswap.org/document/27#FarouqQaddoumi_http://profilesinterror.mindswap.org/document/2005/05/24/18:26:22#Khaled_al-Fahoum\"\n",
      "W1120 15:13:39.136439 4625169856 preprocessing_terror_dataset.py:184] No tf.train.Example found for edge target ID: \"http://profilesinterror.mindswap.org/document/27#FarouqQaddoumi_http://profilesinterror.mindswap.org/document/2005/05/24/18:26:22#Khaled_al-Fahoum\"\n",
      "W1120 15:13:39.137403 4625169856 preprocessing_terror_dataset.py:184] No tf.train.Example found for edge target ID: \"http://profilesinterror.mindswap.org/document/27#FarouqQaddoumi_http://profilesinterror.mindswap.org/document/2005/05/24/18:26:22#Khaled_al-Fahoum\"\n",
      "W1120 15:13:39.138612 4625169856 preprocessing_terror_dataset.py:184] No tf.train.Example found for edge target ID: \"http://profilesinterror.mindswap.org/document/2005/12/20/20:55:53#_http://profilesinterror.mindswap.org/document/2005/09/08/04:39:17#\"\n",
      "W1120 15:13:39.139775 4625169856 preprocessing_terror_dataset.py:184] No tf.train.Example found for edge target ID: \"http://profilesinterror.mindswap.org/document/4#Ramzi_Yousef_http://profilesinterror.mindswap.org/document/19#Nidal_Ayyad\"\n",
      "W1120 15:13:39.139896 4625169856 preprocessing_terror_dataset.py:184] No tf.train.Example found for edge target ID: \"http://profilesinterror.mindswap.org/document/19#EyadIsmoil_http://profilesinterror.mindswap.org/document/4#Ramzi_Yousef\"\n",
      "W1120 15:13:39.139957 4625169856 preprocessing_terror_dataset.py:184] No tf.train.Example found for edge target ID: \"http://profilesinterror.mindswap.org/document/19#AhmadAjaj_http://profilesinterror.mindswap.org/document/4#Ramzi_Yousef\"\n",
      "W1120 15:13:39.140012 4625169856 preprocessing_terror_dataset.py:184] No tf.train.Example found for edge target ID: \"http://profilesinterror.mindswap.org/document/19#MohammedSalameh_http://profilesinterror.mindswap.org/document/4#Ramzi_Yousef\"\n",
      "W1120 15:13:39.163615 4625169856 preprocessing_terror_dataset.py:184] No tf.train.Example found for edge target ID: \"http://profilesinterror.mindswap.org/document/11#AhmedRessam_http://profilesinterror.mindswap.org/document/2005/06/17/00:42:19#Mourad_Ikhlef\"\n",
      "W1120 15:13:39.163758 4625169856 preprocessing_terror_dataset.py:184] No tf.train.Example found for edge target ID: \"http://profilesinterror.mindswap.org/document/11#AhmedRessam_http://counterterror.mindswap.org/2005/terrorists.owl#Abderraouf_Hannachi\"\n",
      "W1120 15:13:39.165447 4625169856 preprocessing_terror_dataset.py:184] No tf.train.Example found for edge target ID: \"http://profilesinterror.mindswap.org/document/2005/12/20/20:55:53#_http://profilesinterror.mindswap.org/document/2005/09/08/04:39:17#\"\n",
      "W1120 15:13:39.167531 4625169856 preprocessing_terror_dataset.py:184] No tf.train.Example found for edge target ID: \"http://profilesinterror.mindswap.org/document/2005/12/22/19:57:48#_http://counterterror.mindswap.org/2005/terrorists.owl#Lionel_Dumont\"\n",
      "W1120 15:13:39.185608 4625169856 preprocessing_terror_dataset.py:184] No tf.train.Example found for edge target ID: \"http://profilesinterror.mindswap.org/document/2005/12/20/20:55:53#_http://profilesinterror.mindswap.org/document/2005/09/08/04:39:17#\"\n",
      "W1120 15:13:39.192693 4625169856 preprocessing_terror_dataset.py:184] No tf.train.Example found for edge target ID: \"http://profilesinterror.mindswap.org/document/2005/12/22/19:57:48#_http://counterterror.mindswap.org/2005/terrorists.owl#Lionel_Dumont\"\n",
      "W1120 15:13:39.193902 4625169856 preprocessing_terror_dataset.py:184] No tf.train.Example found for edge target ID: \"http://profilesinterror.mindswap.org/document/2005/12/22/19:57:48#_http://counterterror.mindswap.org/2005/terrorists.owl#Lionel_Dumont\"\n",
      "W1120 15:13:39.194895 4625169856 preprocessing_terror_dataset.py:184] No tf.train.Example found for edge target ID: \"http://profilesinterror.mindswap.org/document/2005/12/22/19:57:48#_http://counterterror.mindswap.org/2005/terrorists.owl#Lionel_Dumont\"\n",
      "W1120 15:13:39.209589 4625169856 preprocessing_terror_dataset.py:184] No tf.train.Example found for edge target ID: \"http://profilesinterror.mindswap.org/document/11#AhmedRessam_http://profilesinterror.mindswap.org/document/2005/06/17/00:42:19#Mourad_Ikhlef\"\n",
      "W1120 15:13:39.209725 4625169856 preprocessing_terror_dataset.py:184] No tf.train.Example found for edge target ID: \"http://profilesinterror.mindswap.org/document/11#AhmedRessam_http://counterterror.mindswap.org/2005/terrorists.owl#Abderraouf_Hannachi\"\n"
     ]
    },
    {
     "name": "stdout",
     "output_type": "stream",
     "text": [
      "W1120 15:13:39.226373 4625169856 preprocessing_terror_dataset.py:184] No tf.train.Example found for edge target ID: \"http://profilesinterror.mindswap.org/document/2005/12/22/19:57:48#_http://counterterror.mindswap.org/2005/terrorists.owl#Lionel_Dumont\"\r\n",
      "W1120 15:13:39.227600 4625169856 preprocessing_terror_dataset.py:184] No tf.train.Example found for edge target ID: \"http://profilesinterror.mindswap.org/document/2005/12/22/19:57:48#_http://counterterror.mindswap.org/2005/terrorists.owl#Lionel_Dumont\"\r\n",
      "W1120 15:13:39.231183 4625169856 preprocessing_terror_dataset.py:184] No tf.train.Example found for edge target ID: \"http://profilesinterror.mindswap.org/document/29#MohammedSchreim_http://profilesinterror.mindswap.org/document/29#NasserWatimi\"\r\n",
      "W1120 15:13:39.236625 4625169856 preprocessing_terror_dataset.py:184] No tf.train.Example found for edge target ID: \"http://profilesinterror.mindswap.org/document/19#MohammedSalameh_http://profilesinterror.mindswap.org/document/19#Nidal_Ayyad\"\r\n",
      "W1120 15:13:39.236857 4625169856 preprocessing_terror_dataset.py:184] No tf.train.Example found for edge target ID: \"http://profilesinterror.mindswap.org/document/19#MohammedSalameh_http://profilesinterror.mindswap.org/document/19#EyadIsmoil\"\r\n",
      "W1120 15:13:39.236974 4625169856 preprocessing_terror_dataset.py:184] No tf.train.Example found for edge target ID: \"http://profilesinterror.mindswap.org/document/19#MohammedSalameh_http://profilesinterror.mindswap.org/document/4#Ramzi_Yousef\"\r\n",
      "W1120 15:13:39.237050 4625169856 preprocessing_terror_dataset.py:184] No tf.train.Example found for edge target ID: \"http://profilesinterror.mindswap.org/document/19#MohammedSalameh_http://profilesinterror.mindswap.org/document/19#AhmadAjaj\"\r\n",
      "W1120 15:13:39.243257 4625169856 preprocessing_terror_dataset.py:184] No tf.train.Example found for edge target ID: \"http://profilesinterror.mindswap.org/document/2005/07/28/16:02:44#Germaine_Lindsay_http://profilesinterror.mindswap.org/document/2005/07/28/15:59:18#Mohammad_Sidique_Khan\"\r\n",
      "W1120 15:13:39.244457 4625169856 preprocessing_terror_dataset.py:184] No tf.train.Example found for edge target ID: \"http://counterterror.mindswap.org/2005/terrorists.owl#Nizar_Trabelsi_http://profilesinterror.mindswap.org/document/2005/09/07/09:36:59#\"\r\n",
      "W1120 15:13:39.244551 4625169856 preprocessing_terror_dataset.py:184] No tf.train.Example found for edge target ID: \"http://counterterror.mindswap.org/2005/terrorists.owl#Nizar_Trabelsi_http://counterterror.mindswap.org/2005/terrorists.owl#Richard_Colvin_Reid\"\r\n",
      "W1120 15:13:39.244621 4625169856 preprocessing_terror_dataset.py:184] No tf.train.Example found for edge target ID: \"http://counterterror.mindswap.org/2005/terrorists.owl#Djamel_Beghal_http://counterterror.mindswap.org/2005/terrorists.owl#Nizar_Trabelsi\"\r\n",
      "W1120 15:13:39.245746 4625169856 preprocessing_terror_dataset.py:184] No tf.train.Example found for edge target ID: \"http://profilesinterror.mindswap.org/document/2005/08/09/16:36:24#_http://profilesinterror.mindswap.org/document/2005/08/09/16:43:04#\"\r\n",
      "W1120 15:13:39.251040 4625169856 preprocessing_terror_dataset.py:184] No tf.train.Example found for edge target ID: \"http://profilesinterror.mindswap.org/document/2005/07/28/16:02:44#Germaine_Lindsay_http://profilesinterror.mindswap.org/document/2005/07/28/15:59:18#Mohammad_Sidique_Khan\"\r\n",
      "W1120 15:13:39.251195 4625169856 preprocessing_terror_dataset.py:184] No tf.train.Example found for edge target ID: \"http://counterterror.mindswap.org/2005/terrorists.owl#Nizar_Trabelsi_http://counterterror.mindswap.org/2005/terrorists.owl#Richard_Colvin_Reid\"\r\n",
      "W1120 15:13:39.251272 4625169856 preprocessing_terror_dataset.py:184] No tf.train.Example found for edge target ID: \"http://counterterror.mindswap.org/2005/terrorists.owl#Djamel_Beghal_http://counterterror.mindswap.org/2005/terrorists.owl#Nizar_Trabelsi\"\r\n",
      "W1120 15:13:39.251334 4625169856 preprocessing_terror_dataset.py:184] No tf.train.Example found for edge target ID: \"http://counterterror.mindswap.org/2005/terrorists.owl#Nizar_Trabelsi_http://profilesinterror.mindswap.org/document/2005/09/07/09:36:59#\"\r\n",
      "W1120 15:13:39.252367 4625169856 preprocessing_terror_dataset.py:184] No tf.train.Example found for edge target ID: \"http://profilesinterror.mindswap.org/document/2005/07/28/16:02:44#Germaine_Lindsay_http://profilesinterror.mindswap.org/document/2005/07/28/15:59:18#Mohammad_Sidique_Khan\"\r\n",
      "W1120 15:13:39.252453 4625169856 preprocessing_terror_dataset.py:184] No tf.train.Example found for edge target ID: \"http://profilesinterror.mindswap.org/document/2005/08/09/16:36:24#_http://profilesinterror.mindswap.org/document/2005/08/09/16:43:04#\"\r\n",
      "W1120 15:13:39.253473 4625169856 preprocessing_terror_dataset.py:184] No tf.train.Example found for edge target ID: \"http://profilesinterror.mindswap.org/document/2005/07/28/16:02:44#Germaine_Lindsay_http://profilesinterror.mindswap.org/document/2005/07/28/15:59:18#Mohammad_Sidique_Khan\"\r\n",
      "W1120 15:13:39.254480 4625169856 preprocessing_terror_dataset.py:184] No tf.train.Example found for edge target ID: \"http://profilesinterror.mindswap.org/document/2005/07/28/16:02:44#Germaine_Lindsay_http://profilesinterror.mindswap.org/document/2005/07/28/15:59:18#Mohammad_Sidique_Khan\"\r\n",
      "W1120 15:13:39.255508 4625169856 preprocessing_terror_dataset.py:184] No tf.train.Example found for edge target ID: \"http://counterterror.mindswap.org/2005/terrorists.owl#Nizar_Trabelsi_http://counterterror.mindswap.org/2005/terrorists.owl#Richard_Colvin_Reid\"\r\n",
      "W1120 15:13:39.255584 4625169856 preprocessing_terror_dataset.py:184] No tf.train.Example found for edge target ID: \"http://counterterror.mindswap.org/2005/terrorists.owl#Richard_Colvin_Reid_http://profilesinterror.mindswap.org/document/2005/09/07/09:36:59#\"\r\n",
      "W1120 15:13:39.255640 4625169856 preprocessing_terror_dataset.py:184] No tf.train.Example found for edge target ID: \"http://profilesinterror.mindswap.org/document/2005/07/28/16:02:44#Germaine_Lindsay_http://profilesinterror.mindswap.org/document/2005/07/28/15:59:18#Mohammad_Sidique_Khan\"\r\n",
      "W1120 15:13:39.256639 4625169856 preprocessing_terror_dataset.py:184] No tf.train.Example found for edge target ID: \"http://profilesinterror.mindswap.org/document/2005/07/28/16:02:44#Germaine_Lindsay_http://profilesinterror.mindswap.org/document/2005/07/28/15:59:18#Mohammad_Sidique_Khan\"\r\n",
      "W1120 15:13:39.258562 4625169856 preprocessing_terror_dataset.py:184] No tf.train.Example found for edge target ID: \"http://profilesinterror.mindswap.org/document/2005/08/09/16:36:24#_http://profilesinterror.mindswap.org/document/2005/08/09/16:43:04#\"\r\n",
      "W1120 15:13:39.259546 4625169856 preprocessing_terror_dataset.py:184] No tf.train.Example found for edge target ID: \"http://counterterror.mindswap.org/2005/terrorists.owl#Richard_Colvin_Reid_http://profilesinterror.mindswap.org/document/2005/09/07/09:36:59#\"\r\n",
      "W1120 15:13:39.259625 4625169856 preprocessing_terror_dataset.py:184] No tf.train.Example found for edge target ID: \"http://counterterror.mindswap.org/2005/terrorists.owl#Nizar_Trabelsi_http://profilesinterror.mindswap.org/document/2005/09/07/09:36:59#\"\r\n",
      "W1120 15:13:39.260596 4625169856 preprocessing_terror_dataset.py:184] No tf.train.Example found for edge target ID: \"http://counterterror.mindswap.org/2005/terrorists.owl#Djamel_Beghal_http://counterterror.mindswap.org/2005/terrorists.owl#Nizar_Trabelsi\"\r\n",
      "W1120 15:13:39.261580 4625169856 preprocessing_terror_dataset.py:184] No tf.train.Example found for edge target ID: \"http://counterterror.mindswap.org/2005/terrorists.owl#Richard_Colvin_Reid_http://profilesinterror.mindswap.org/document/2005/09/07/09:36:59#\"\r\n",
      "W1120 15:13:39.261655 4625169856 preprocessing_terror_dataset.py:184] No tf.train.Example found for edge target ID: \"http://counterterror.mindswap.org/2005/terrorists.owl#Nizar_Trabelsi_http://counterterror.mindswap.org/2005/terrorists.owl#Richard_Colvin_Reid\"\r\n",
      "W1120 15:13:39.262682 4625169856 preprocessing_terror_dataset.py:184] No tf.train.Example found for edge target ID: \"http://profilesinterror.mindswap.org/document/11#AhmedRessam_http://profilesinterror.mindswap.org/document/2005/06/17/00:42:19#Mourad_Ikhlef\"\r\n",
      "W1120 15:13:39.262763 4625169856 preprocessing_terror_dataset.py:184] No tf.train.Example found for edge target ID: \"http://profilesinterror.mindswap.org/document/11#AhmedRessam_http://counterterror.mindswap.org/2005/terrorists.owl#Abderraouf_Hannachi\"\r\n",
      "W1120 15:13:39.263176 4625169856 preprocessing_terror_dataset.py:184] No tf.train.Example found for edge target ID: \"http://counterterror.mindswap.org/2005/terrorists.owl#Nizar_Trabelsi_http://counterterror.mindswap.org/2005/terrorists.owl#Richard_Colvin_Reid\"\r\n",
      "W1120 15:13:39.263247 4625169856 preprocessing_terror_dataset.py:184] No tf.train.Example found for edge target ID: \"http://counterterror.mindswap.org/2005/terrorists.owl#Djamel_Beghal_http://counterterror.mindswap.org/2005/terrorists.owl#Nizar_Trabelsi\"\r\n",
      "W1120 15:13:39.263302 4625169856 preprocessing_terror_dataset.py:184] No tf.train.Example found for edge target ID: \"http://counterterror.mindswap.org/2005/terrorists.owl#Nizar_Trabelsi_http://profilesinterror.mindswap.org/document/2005/09/07/09:36:59#\"\r\n",
      "W1120 15:13:39.264219 4625169856 preprocessing_terror_dataset.py:184] No tf.train.Example found for edge target ID: \"http://profilesinterror.mindswap.org/document/2005/08/09/16:36:24#_http://profilesinterror.mindswap.org/document/2005/08/09/16:43:04#\"\r\n",
      "W1120 15:13:39.265162 4625169856 preprocessing_terror_dataset.py:184] No tf.train.Example found for edge target ID: \"http://counterterror.mindswap.org/2005/terrorists.owl#Richard_Colvin_Reid_http://profilesinterror.mindswap.org/document/2005/09/07/09:36:59#\"\r\n",
      "W1120 15:13:39.265235 4625169856 preprocessing_terror_dataset.py:184] No tf.train.Example found for edge target ID: \"http://counterterror.mindswap.org/2005/terrorists.owl#Nizar_Trabelsi_http://profilesinterror.mindswap.org/document/2005/09/07/09:36:59#\"\r\n",
      "W1120 15:13:39.266158 4625169856 preprocessing_terror_dataset.py:184] No tf.train.Example found for edge target ID: \"http://counterterror.mindswap.org/2005/terrorists.owl#Djamel_Beghal_http://counterterror.mindswap.org/2005/terrorists.owl#Nizar_Trabelsi\"\r\n",
      "W1120 15:13:39.267071 4625169856 preprocessing_terror_dataset.py:184] No tf.train.Example found for edge target ID: \"http://counterterror.mindswap.org/2005/terrorists.owl#Nizar_Trabelsi_http://counterterror.mindswap.org/2005/terrorists.owl#Richard_Colvin_Reid\"\r\n",
      "W1120 15:13:39.267141 4625169856 preprocessing_terror_dataset.py:184] No tf.train.Example found for edge target ID: \"http://counterterror.mindswap.org/2005/terrorists.owl#Richard_Colvin_Reid_http://profilesinterror.mindswap.org/document/2005/09/07/09:36:59#\"\r\n"
     ]
    },
    {
     "name": "stdout",
     "output_type": "stream",
     "text": [
      "W1120 15:13:39.268038 4625169856 preprocessing_terror_dataset.py:184] No tf.train.Example found for edge target ID: \"http://profilesinterror.mindswap.org/document/2005/07/28/16:02:44#Germaine_Lindsay_http://profilesinterror.mindswap.org/document/2005/07/28/15:59:18#Mohammad_Sidique_Khan\"\n",
      "W1120 15:13:39.269782 4625169856 preprocessing_terror_dataset.py:184] No tf.train.Example found for edge target ID: \"http://profilesinterror.mindswap.org/document/2005/08/09/16:36:24#_http://profilesinterror.mindswap.org/document/2005/08/09/16:43:04#\"\n",
      "W1120 15:13:39.270831 4625169856 preprocessing_terror_dataset.py:184] No tf.train.Example found for edge target ID: \"http://counterterror.mindswap.org/2005/terrorists.owl#Djamel_Beghal_http://counterterror.mindswap.org/2005/terrorists.owl#Nizar_Trabelsi\"\n",
      "W1120 15:13:39.272688 4625169856 preprocessing_terror_dataset.py:184] No tf.train.Example found for edge target ID: \"http://counterterror.mindswap.org/2005/terrorists.owl#Nizar_Trabelsi_http://profilesinterror.mindswap.org/document/2005/09/07/09:36:59#\"\n",
      "W1120 15:13:39.272785 4625169856 preprocessing_terror_dataset.py:184] No tf.train.Example found for edge target ID: \"http://counterterror.mindswap.org/2005/terrorists.owl#Nizar_Trabelsi_http://counterterror.mindswap.org/2005/terrorists.owl#Richard_Colvin_Reid\"\n",
      "W1120 15:13:39.272848 4625169856 preprocessing_terror_dataset.py:184] No tf.train.Example found for edge target ID: \"http://counterterror.mindswap.org/2005/terrorists.owl#Djamel_Beghal_http://counterterror.mindswap.org/2005/terrorists.owl#Nizar_Trabelsi\"\n",
      "W1120 15:13:39.273795 4625169856 preprocessing_terror_dataset.py:184] No tf.train.Example found for edge target ID: \"http://profilesinterror.mindswap.org/document/2005/08/09/16:36:24#_http://profilesinterror.mindswap.org/document/2005/08/09/16:43:04#\"\n",
      "W1120 15:13:39.274735 4625169856 preprocessing_terror_dataset.py:184] No tf.train.Example found for edge target ID: \"http://counterterror.mindswap.org/2005/terrorists.owl#Djamel_Beghal_http://counterterror.mindswap.org/2005/terrorists.owl#Nizar_Trabelsi\"\n",
      "W1120 15:13:39.275655 4625169856 preprocessing_terror_dataset.py:184] No tf.train.Example found for edge target ID: \"http://counterterror.mindswap.org/2005/terrorists.owl#Richard_Colvin_Reid_http://profilesinterror.mindswap.org/document/2005/09/07/09:36:59#\"\n",
      "W1120 15:13:39.275733 4625169856 preprocessing_terror_dataset.py:184] No tf.train.Example found for edge target ID: \"http://counterterror.mindswap.org/2005/terrorists.owl#Nizar_Trabelsi_http://counterterror.mindswap.org/2005/terrorists.owl#Richard_Colvin_Reid\"\n",
      "W1120 15:13:39.276656 4625169856 preprocessing_terror_dataset.py:184] No tf.train.Example found for edge target ID: \"http://counterterror.mindswap.org/2005/terrorists.owl#Richard_Colvin_Reid_http://profilesinterror.mindswap.org/document/2005/09/07/09:36:59#\"\n",
      "W1120 15:13:39.276729 4625169856 preprocessing_terror_dataset.py:184] No tf.train.Example found for edge target ID: \"http://profilesinterror.mindswap.org/document/2005/08/09/16:36:24#_http://profilesinterror.mindswap.org/document/2005/08/09/16:43:04#\"\n",
      "W1120 15:13:39.276784 4625169856 preprocessing_terror_dataset.py:184] No tf.train.Example found for edge target ID: \"http://counterterror.mindswap.org/2005/terrorists.owl#Nizar_Trabelsi_http://profilesinterror.mindswap.org/document/2005/09/07/09:36:59#\"\n",
      "W1120 15:13:39.277693 4625169856 preprocessing_terror_dataset.py:184] No tf.train.Example found for edge target ID: \"http://profilesinterror.mindswap.org/document/2005/08/09/16:36:24#_http://profilesinterror.mindswap.org/document/2005/08/09/16:43:04#\"\n",
      "W1120 15:13:39.278617 4625169856 preprocessing_terror_dataset.py:184] No tf.train.Example found for edge target ID: \"http://counterterror.mindswap.org/2005/terrorists.owl#Richard_Colvin_Reid_http://profilesinterror.mindswap.org/document/2005/09/07/09:36:59#\"\n",
      "W1120 15:13:39.278686 4625169856 preprocessing_terror_dataset.py:184] No tf.train.Example found for edge target ID: \"http://counterterror.mindswap.org/2005/terrorists.owl#Nizar_Trabelsi_http://profilesinterror.mindswap.org/document/2005/09/07/09:36:59#\"\n",
      "W1120 15:13:39.278742 4625169856 preprocessing_terror_dataset.py:184] No tf.train.Example found for edge target ID: \"http://profilesinterror.mindswap.org/document/2005/08/09/16:36:24#_http://profilesinterror.mindswap.org/document/2005/08/09/16:43:04#\"\n",
      "W1120 15:13:39.279649 4625169856 preprocessing_terror_dataset.py:184] No tf.train.Example found for edge target ID: \"http://counterterror.mindswap.org/2005/terrorists.owl#Richard_Colvin_Reid_http://profilesinterror.mindswap.org/document/2005/09/07/09:36:59#\"\n",
      "W1120 15:13:39.279717 4625169856 preprocessing_terror_dataset.py:184] No tf.train.Example found for edge target ID: \"http://counterterror.mindswap.org/2005/terrorists.owl#Nizar_Trabelsi_http://profilesinterror.mindswap.org/document/2005/09/07/09:36:59#\"\n",
      "W1120 15:13:39.280661 4625169856 preprocessing_terror_dataset.py:184] No tf.train.Example found for edge target ID: \"http://profilesinterror.mindswap.org/document/2005/08/09/16:36:24#_http://profilesinterror.mindswap.org/document/2005/08/09/16:43:04#\"\n",
      "W1120 15:13:39.281904 4625169856 preprocessing_terror_dataset.py:184] No tf.train.Example found for edge target ID: \"http://counterterror.mindswap.org/2005/terrorists.owl#Richard_Colvin_Reid_http://profilesinterror.mindswap.org/document/2005/09/07/09:36:59#\"\n",
      "W1120 15:13:39.282130 4625169856 preprocessing_terror_dataset.py:184] No tf.train.Example found for edge target ID: \"http://counterterror.mindswap.org/2005/terrorists.owl#Nizar_Trabelsi_http://counterterror.mindswap.org/2005/terrorists.owl#Richard_Colvin_Reid\"\n",
      "W1120 15:13:39.285192 4625169856 preprocessing_terror_dataset.py:184] No tf.train.Example found for edge target ID: \"http://profilesinterror.mindswap.org/document/2005/07/28/16:02:44#Germaine_Lindsay_http://profilesinterror.mindswap.org/document/2005/07/28/15:59:18#Mohammad_Sidique_Khan\"\n",
      "W1120 15:13:39.285320 4625169856 preprocessing_terror_dataset.py:184] No tf.train.Example found for edge target ID: \"http://profilesinterror.mindswap.org/document/2005/08/09/16:36:24#_http://profilesinterror.mindswap.org/document/2005/08/09/16:43:04#\"\n",
      "W1120 15:13:39.286314 4625169856 preprocessing_terror_dataset.py:184] No tf.train.Example found for edge target ID: \"http://profilesinterror.mindswap.org/document/2005/07/28/16:02:44#Germaine_Lindsay_http://profilesinterror.mindswap.org/document/2005/07/28/15:59:18#Mohammad_Sidique_Khan\"\n",
      "W1120 15:13:39.287292 4625169856 preprocessing_terror_dataset.py:184] No tf.train.Example found for edge target ID: \"http://counterterror.mindswap.org/2005/terrorists.owl#Djamel_Beghal_http://counterterror.mindswap.org/2005/terrorists.owl#Nizar_Trabelsi\"\n",
      "W1120 15:13:39.332653 4625169856 preprocessing_terror_dataset.py:184] No tf.train.Example found for edge target ID: \"http://profilesinterror.mindswap.org/document/19#AhmadAjaj_http://profilesinterror.mindswap.org/document/19#Nidal_Ayyad\"\n",
      "W1120 15:13:39.332792 4625169856 preprocessing_terror_dataset.py:184] No tf.train.Example found for edge target ID: \"http://profilesinterror.mindswap.org/document/19#MohammedSalameh_http://profilesinterror.mindswap.org/document/19#Nidal_Ayyad\"\n",
      "W1120 15:13:39.332854 4625169856 preprocessing_terror_dataset.py:184] No tf.train.Example found for edge target ID: \"http://profilesinterror.mindswap.org/document/4#Ramzi_Yousef_http://profilesinterror.mindswap.org/document/19#Nidal_Ayyad\"\n",
      "W1120 15:13:39.332905 4625169856 preprocessing_terror_dataset.py:184] No tf.train.Example found for edge target ID: \"http://profilesinterror.mindswap.org/document/19#EyadIsmoil_http://profilesinterror.mindswap.org/document/19#Nidal_Ayyad\"\n",
      "W1120 15:13:39.334276 4625169856 preprocessing_terror_dataset.py:184] No tf.train.Example found for edge target ID: \"http://profilesinterror.mindswap.org/document/27#FarouqQaddoumi_http://profilesinterror.mindswap.org/document/2005/05/24/18:26:22#Khaled_al-Fahoum\"\n",
      "W1120 15:13:39.335173 4625169856 preprocessing_terror_dataset.py:184] No tf.train.Example found for edge target ID: \"http://profilesinterror.mindswap.org/document/27#FarouqQaddoumi_http://profilesinterror.mindswap.org/document/2005/05/24/18:26:22#Khaled_al-Fahoum\"\n",
      "W1120 15:13:39.336177 4625169856 preprocessing_terror_dataset.py:184] No tf.train.Example found for edge target ID: \"http://profilesinterror.mindswap.org/document/27#FarouqQaddoumi_http://profilesinterror.mindswap.org/document/2005/05/24/18:26:22#Khaled_al-Fahoum\"\n",
      "W1120 15:13:39.347234 4625169856 preprocessing_terror_dataset.py:184] No tf.train.Example found for edge target ID: \"http://profilesinterror.mindswap.org/document/4#Ramzi_Yousef_http://profilesinterror.mindswap.org/document/19#Nidal_Ayyad\"\n",
      "W1120 15:13:39.347338 4625169856 preprocessing_terror_dataset.py:184] No tf.train.Example found for edge target ID: \"http://profilesinterror.mindswap.org/document/19#EyadIsmoil_http://profilesinterror.mindswap.org/document/4#Ramzi_Yousef\"\n",
      "W1120 15:13:39.347396 4625169856 preprocessing_terror_dataset.py:184] No tf.train.Example found for edge target ID: \"http://profilesinterror.mindswap.org/document/19#AhmadAjaj_http://profilesinterror.mindswap.org/document/4#Ramzi_Yousef\"\n",
      "W1120 15:13:39.347445 4625169856 preprocessing_terror_dataset.py:184] No tf.train.Example found for edge target ID: \"http://profilesinterror.mindswap.org/document/19#MohammedSalameh_http://profilesinterror.mindswap.org/document/4#Ramzi_Yousef\"\n",
      "W1120 15:13:39.350597 4625169856 preprocessing_terror_dataset.py:184] No tf.train.Example found for edge target ID: \"http://profilesinterror.mindswap.org/document/2005/12/20/20:55:53#_http://profilesinterror.mindswap.org/document/2005/09/08/04:39:17#\"\n",
      "W1120 15:13:39.352198 4625169856 preprocessing_terror_dataset.py:184] No tf.train.Example found for edge target ID: \"http://profilesinterror.mindswap.org/document/29#FathiKhatib_http://profilesinterror.mindswap.org/document/29#MuammarSheikh\"\n",
      "W1120 15:13:39.354535 4625169856 preprocessing_terror_dataset.py:184] No tf.train.Example found for edge target ID: \"http://profilesinterror.mindswap.org/document/29#FathiKhatib_http://profilesinterror.mindswap.org/document/29#MuammarSheikh\"\n",
      "W1120 15:13:39.355365 4625169856 preprocessing_terror_dataset.py:184] No tf.train.Example found for edge target ID: \"http://profilesinterror.mindswap.org/document/2006/03/17/05:42:48#_http://profilesinterror.mindswap.org/document/2006/03/15/04:58:21#\"\n",
      "W1120 15:13:39.355427 4625169856 preprocessing_terror_dataset.py:184] No tf.train.Example found for edge target ID: \"http://profilesinterror.mindswap.org/document/2006/03/15/22:21:03#_http://profilesinterror.mindswap.org/document/2006/03/15/04:58:21#\"\n",
      "W1120 15:13:39.355474 4625169856 preprocessing_terror_dataset.py:184] No tf.train.Example found for edge target ID: \"http://profilesinterror.mindswap.org/document/2006/03/17/05:47:04#_http://profilesinterror.mindswap.org/document/2006/03/15/04:58:21#\"\n",
      "W1120 15:13:39.356336 4625169856 preprocessing_terror_dataset.py:184] No tf.train.Example found for edge target ID: \"http://profilesinterror.mindswap.org/document/2006/03/17/05:42:48#_http://profilesinterror.mindswap.org/document/2006/03/15/22:21:03#\"\n",
      "W1120 15:13:39.356418 4625169856 preprocessing_terror_dataset.py:184] No tf.train.Example found for edge target ID: \"http://profilesinterror.mindswap.org/document/2006/03/15/22:21:03#_http://profilesinterror.mindswap.org/document/2006/03/15/04:58:21#\"\n",
      "W1120 15:13:39.357249 4625169856 preprocessing_terror_dataset.py:184] No tf.train.Example found for edge target ID: \"http://profilesinterror.mindswap.org/document/2005/08/09/16:36:24#_http://profilesinterror.mindswap.org/document/2005/08/09/16:43:04#\"\n",
      "W1120 15:13:39.358856 4625169856 preprocessing_terror_dataset.py:184] No tf.train.Example found for edge target ID: \"http://profilesinterror.mindswap.org/document/19#AhmadAjaj_http://profilesinterror.mindswap.org/document/4#Ramzi_Yousef\"\n",
      "W1120 15:13:39.358922 4625169856 preprocessing_terror_dataset.py:184] No tf.train.Example found for edge target ID: \"http://profilesinterror.mindswap.org/document/19#MohammedSalameh_http://profilesinterror.mindswap.org/document/19#AhmadAjaj\"\n",
      "W1120 15:13:39.358973 4625169856 preprocessing_terror_dataset.py:184] No tf.train.Example found for edge target ID: \"http://profilesinterror.mindswap.org/document/19#AhmadAjaj_http://profilesinterror.mindswap.org/document/19#Nidal_Ayyad\"\n",
      "W1120 15:13:39.359560 4625169856 preprocessing_terror_dataset.py:184] No tf.train.Example found for edge target ID: \"http://profilesinterror.mindswap.org/document/19#AhmadAjaj_http://profilesinterror.mindswap.org/document/19#Nidal_Ayyad\"\n",
      "W1120 15:13:39.359622 4625169856 preprocessing_terror_dataset.py:184] No tf.train.Example found for edge target ID: \"http://profilesinterror.mindswap.org/document/19#AhmadAjaj_http://profilesinterror.mindswap.org/document/4#Ramzi_Yousef\"\n",
      "W1120 15:13:39.359669 4625169856 preprocessing_terror_dataset.py:184] No tf.train.Example found for edge target ID: \"http://profilesinterror.mindswap.org/document/19#MohammedSalameh_http://profilesinterror.mindswap.org/document/19#AhmadAjaj\"\n",
      "W1120 15:13:39.360463 4625169856 preprocessing_terror_dataset.py:184] No tf.train.Example found for edge target ID: \"http://counterterror.mindswap.org/2005/terrorists.owl#Djamel_Beghal_http://counterterror.mindswap.org/2005/terrorists.owl#Nizar_Trabelsi\"\n",
      "W1120 15:13:39.361310 4625169856 preprocessing_terror_dataset.py:184] No tf.train.Example found for edge target ID: \"http://profilesinterror.mindswap.org/document/19#MohammedSalameh_http://profilesinterror.mindswap.org/document/19#EyadIsmoil\"\n",
      "W1120 15:13:39.361370 4625169856 preprocessing_terror_dataset.py:184] No tf.train.Example found for edge target ID: \"http://profilesinterror.mindswap.org/document/19#EyadIsmoil_http://profilesinterror.mindswap.org/document/19#Nidal_Ayyad\"\n",
      "W1120 15:13:39.361421 4625169856 preprocessing_terror_dataset.py:184] No tf.train.Example found for edge target ID: \"http://profilesinterror.mindswap.org/document/19#EyadIsmoil_http://profilesinterror.mindswap.org/document/4#Ramzi_Yousef\"\n",
      "W1120 15:13:39.362243 4625169856 preprocessing_terror_dataset.py:184] No tf.train.Example found for edge target ID: \"http://profilesinterror.mindswap.org/document/29#FathiKhatib_http://profilesinterror.mindswap.org/document/29#MuammarSheikh\"\n",
      "W1120 15:13:39.362893 4625169856 preprocessing_terror_dataset.py:184] No tf.train.Example found for edge target ID: \"http://profilesinterror.mindswap.org/document/29#FathiKhatib_http://profilesinterror.mindswap.org/document/29#MuammarSheikh\"\n",
      "W1120 15:13:39.363497 4625169856 preprocessing_terror_dataset.py:184] No tf.train.Example found for edge target ID: \"http://profilesinterror.mindswap.org/document/2006/03/17/05:42:48#_http://profilesinterror.mindswap.org/document/2006/03/17/05:47:04#\"\n",
      "W1120 15:13:39.363563 4625169856 preprocessing_terror_dataset.py:184] No tf.train.Example found for edge target ID: \"http://profilesinterror.mindswap.org/document/2006/03/17/05:47:04#_http://profilesinterror.mindswap.org/document/2006/03/15/04:58:21#\"\n",
      "W1120 15:13:39.367802 4625169856 preprocessing_terror_dataset.py:184] No tf.train.Example found for edge target ID: \"http://profilesinterror.mindswap.org/document/2006/03/17/05:42:48#_http://profilesinterror.mindswap.org/document/2006/03/17/05:47:04#\"\n",
      "W1120 15:13:39.367868 4625169856 preprocessing_terror_dataset.py:184] No tf.train.Example found for edge target ID: \"http://profilesinterror.mindswap.org/document/2006/03/17/05:42:48#_http://profilesinterror.mindswap.org/document/2006/03/15/04:58:21#\"\n",
      "W1120 15:13:39.367920 4625169856 preprocessing_terror_dataset.py:184] No tf.train.Example found for edge target ID: \"http://profilesinterror.mindswap.org/document/2006/03/17/05:42:48#_http://profilesinterror.mindswap.org/document/2006/03/15/22:21:03#\"\n",
      "W1120 15:13:39.368735 4625169856 preprocessing_terror_dataset.py:184] No tf.train.Example found for edge target ID: \"http://profilesinterror.mindswap.org/document/2005/08/09/16:36:24#_http://profilesinterror.mindswap.org/document/2005/08/09/16:43:04#\"\n",
      "W1120 15:13:39.371142 4625169856 preprocessing_terror_dataset.py:184] No tf.train.Example found for edge target ID: \"http://profilesinterror.mindswap.org/document/19#EyadIsmoil_http://profilesinterror.mindswap.org/document/19#Nidal_Ayyad\"\n"
     ]
    },
    {
     "name": "stdout",
     "output_type": "stream",
     "text": [
      "W1120 15:13:39.371215 4625169856 preprocessing_terror_dataset.py:184] No tf.train.Example found for edge target ID: \"http://profilesinterror.mindswap.org/document/19#EyadIsmoil_http://profilesinterror.mindswap.org/document/4#Ramzi_Yousef\"\n",
      "W1120 15:13:39.371268 4625169856 preprocessing_terror_dataset.py:184] No tf.train.Example found for edge target ID: \"http://profilesinterror.mindswap.org/document/19#MohammedSalameh_http://profilesinterror.mindswap.org/document/19#EyadIsmoil\"\n",
      "W1120 15:13:39.372090 4625169856 preprocessing_terror_dataset.py:184] No tf.train.Example found for edge target ID: \"http://profilesinterror.mindswap.org/document/29#FathiKhatib_http://profilesinterror.mindswap.org/document/29#MuammarSheikh\"\n",
      "W1120 15:13:39.372802 4625169856 preprocessing_terror_dataset.py:184] No tf.train.Example found for edge target ID: \"http://profilesinterror.mindswap.org/document/19#MohammedSalameh_http://profilesinterror.mindswap.org/document/19#Nidal_Ayyad\"\n",
      "W1120 15:13:39.372864 4625169856 preprocessing_terror_dataset.py:184] No tf.train.Example found for edge target ID: \"http://profilesinterror.mindswap.org/document/19#MohammedSalameh_http://profilesinterror.mindswap.org/document/19#EyadIsmoil\"\n",
      "W1120 15:13:39.372912 4625169856 preprocessing_terror_dataset.py:184] No tf.train.Example found for edge target ID: \"http://profilesinterror.mindswap.org/document/19#MohammedSalameh_http://profilesinterror.mindswap.org/document/4#Ramzi_Yousef\"\n",
      "W1120 15:13:39.372957 4625169856 preprocessing_terror_dataset.py:184] No tf.train.Example found for edge target ID: \"http://profilesinterror.mindswap.org/document/19#MohammedSalameh_http://profilesinterror.mindswap.org/document/19#AhmadAjaj\"\n",
      "W1120 15:13:39.373808 4625169856 preprocessing_terror_dataset.py:184] No tf.train.Example found for edge target ID: \"http://profilesinterror.mindswap.org/document/2005/07/28/16:02:44#Germaine_Lindsay_http://profilesinterror.mindswap.org/document/2005/07/28/15:59:18#Mohammad_Sidique_Khan\"\n",
      "W1120 15:13:39.394526 4625169856 preprocessing_terror_dataset.py:184] No tf.train.Example found for edge target ID: \"http://profilesinterror.mindswap.org/document/4#Ramzi_Yousef_http://profilesinterror.mindswap.org/document/19#Nidal_Ayyad\"\n",
      "W1120 15:13:39.394654 4625169856 preprocessing_terror_dataset.py:184] No tf.train.Example found for edge target ID: \"http://profilesinterror.mindswap.org/document/19#EyadIsmoil_http://profilesinterror.mindswap.org/document/19#Nidal_Ayyad\"\n",
      "W1120 15:13:39.394710 4625169856 preprocessing_terror_dataset.py:184] No tf.train.Example found for edge target ID: \"http://profilesinterror.mindswap.org/document/19#AhmadAjaj_http://profilesinterror.mindswap.org/document/19#Nidal_Ayyad\"\n",
      "W1120 15:13:39.394756 4625169856 preprocessing_terror_dataset.py:184] No tf.train.Example found for edge target ID: \"http://profilesinterror.mindswap.org/document/19#MohammedSalameh_http://profilesinterror.mindswap.org/document/19#Nidal_Ayyad\"\n",
      "W1120 15:13:39.411098 4625169856 preprocessing_terror_dataset.py:184] No tf.train.Example found for edge target ID: \"http://profilesinterror.mindswap.org/document/2006/03/17/05:47:04#_http://profilesinterror.mindswap.org/document/2006/03/15/04:58:21#\"\n",
      "W1120 15:13:39.411201 4625169856 preprocessing_terror_dataset.py:184] No tf.train.Example found for edge target ID: \"http://profilesinterror.mindswap.org/document/2006/03/17/05:42:48#_http://profilesinterror.mindswap.org/document/2006/03/17/05:47:04#\"\n",
      "W1120 15:13:39.428137 4625169856 preprocessing_terror_dataset.py:184] No tf.train.Example found for edge target ID: \"http://profilesinterror.mindswap.org/document/2006/03/17/05:42:48#_http://profilesinterror.mindswap.org/document/2006/03/15/22:21:03#\"\n",
      "W1120 15:13:39.428285 4625169856 preprocessing_terror_dataset.py:184] No tf.train.Example found for edge target ID: \"http://profilesinterror.mindswap.org/document/2006/03/15/22:21:03#_http://profilesinterror.mindswap.org/document/2006/03/15/04:58:21#\"\n",
      "W1120 15:13:39.429411 4625169856 preprocessing_terror_dataset.py:184] No tf.train.Example found for edge target ID: \"http://profilesinterror.mindswap.org/document/27#FarouqQaddoumi_http://profilesinterror.mindswap.org/document/2005/05/24/18:26:22#Khaled_al-Fahoum\"\n",
      "W1120 15:13:39.430338 4625169856 preprocessing_terror_dataset.py:184] No tf.train.Example found for edge target ID: \"http://profilesinterror.mindswap.org/document/27#FarouqQaddoumi_http://profilesinterror.mindswap.org/document/2005/05/24/18:26:22#Khaled_al-Fahoum\"\n",
      "W1120 15:13:39.431274 4625169856 preprocessing_terror_dataset.py:184] No tf.train.Example found for edge target ID: \"http://profilesinterror.mindswap.org/document/2005/12/20/20:55:53#_http://profilesinterror.mindswap.org/document/2005/09/08/04:39:17#\"\n",
      "W1120 15:13:39.432214 4625169856 preprocessing_terror_dataset.py:184] No tf.train.Example found for edge target ID: \"http://profilesinterror.mindswap.org/document/2005/12/20/20:55:53#_http://profilesinterror.mindswap.org/document/2005/09/08/04:39:17#\"\n",
      "W1120 15:13:39.433134 4625169856 preprocessing_terror_dataset.py:184] No tf.train.Example found for edge target ID: \"http://profilesinterror.mindswap.org/document/2005/12/20/20:55:53#_http://profilesinterror.mindswap.org/document/2005/09/08/04:39:17#\"\n",
      "W1120 15:13:39.488504 4625169856 preprocessing_terror_dataset.py:184] No tf.train.Example found for edge target ID: \"http://profilesinterror.mindswap.org/document/2005/12/22/19:57:48#_http://counterterror.mindswap.org/2005/terrorists.owl#Lionel_Dumont\"\n",
      "W1120 15:13:39.489425 4625169856 preprocessing_terror_dataset.py:184] No tf.train.Example found for edge target ID: \"http://profilesinterror.mindswap.org/document/19#MohammedSalameh_http://profilesinterror.mindswap.org/document/19#EyadIsmoil\"\n",
      "W1120 15:13:39.489511 4625169856 preprocessing_terror_dataset.py:184] No tf.train.Example found for edge target ID: \"http://profilesinterror.mindswap.org/document/19#EyadIsmoil_http://profilesinterror.mindswap.org/document/19#Nidal_Ayyad\"\n",
      "W1120 15:13:39.489562 4625169856 preprocessing_terror_dataset.py:184] No tf.train.Example found for edge target ID: \"http://profilesinterror.mindswap.org/document/19#EyadIsmoil_http://profilesinterror.mindswap.org/document/4#Ramzi_Yousef\"\n",
      "W1120 15:13:39.492486 4625169856 preprocessing_terror_dataset.py:184] No tf.train.Example found for edge target ID: \"http://profilesinterror.mindswap.org/document/29#MohammedSchreim_http://profilesinterror.mindswap.org/document/29#NasserWatimi\"\n",
      "W1120 15:13:39.493087 4625169856 preprocessing_terror_dataset.py:184] No tf.train.Example found for edge target ID: \"http://profilesinterror.mindswap.org/document/11#AhmedRessam_http://profilesinterror.mindswap.org/document/2005/06/17/00:42:19#Mourad_Ikhlef\"\n",
      "W1120 15:13:39.493150 4625169856 preprocessing_terror_dataset.py:184] No tf.train.Example found for edge target ID: \"http://profilesinterror.mindswap.org/document/11#AhmedRessam_http://counterterror.mindswap.org/2005/terrorists.owl#Abderraouf_Hannachi\"\n",
      "W1120 15:13:39.503998 4625169856 preprocessing_terror_dataset.py:184] No tf.train.Example found for edge target ID: \"http://profilesinterror.mindswap.org/document/11#AhmedRessam_http://profilesinterror.mindswap.org/document/2005/06/17/00:42:19#Mourad_Ikhlef\"\n",
      "W1120 15:13:39.504133 4625169856 preprocessing_terror_dataset.py:184] No tf.train.Example found for edge target ID: \"http://profilesinterror.mindswap.org/document/11#AhmedRessam_http://counterterror.mindswap.org/2005/terrorists.owl#Abderraouf_Hannachi\"\n",
      "W1120 15:13:39.520207 4625169856 preprocessing_terror_dataset.py:184] No tf.train.Example found for edge target ID: \"http://profilesinterror.mindswap.org/document/2005/12/22/19:57:48#_http://counterterror.mindswap.org/2005/terrorists.owl#Lionel_Dumont\"\n",
      "W1120 15:13:39.525817 4625169856 preprocessing_terror_dataset.py:184] No tf.train.Example found for edge target ID: \"http://profilesinterror.mindswap.org/document/29#MohammedSchreim_http://profilesinterror.mindswap.org/document/29#NasserWatimi\"\n",
      "W1120 15:13:39.528762 4625169856 preprocessing_terror_dataset.py:184] No tf.train.Example found for edge target ID: \"http://profilesinterror.mindswap.org/document/19#AhmadAjaj_http://profilesinterror.mindswap.org/document/19#Nidal_Ayyad\"\n",
      "W1120 15:13:39.528851 4625169856 preprocessing_terror_dataset.py:184] No tf.train.Example found for edge target ID: \"http://profilesinterror.mindswap.org/document/19#AhmadAjaj_http://profilesinterror.mindswap.org/document/4#Ramzi_Yousef\"\n",
      "W1120 15:13:39.528915 4625169856 preprocessing_terror_dataset.py:184] No tf.train.Example found for edge target ID: \"http://profilesinterror.mindswap.org/document/19#MohammedSalameh_http://profilesinterror.mindswap.org/document/19#AhmadAjaj\"\n",
      "W1120 15:13:39.531548 4625169856 preprocessing_terror_dataset.py:184] No tf.train.Example found for edge target ID: \"http://profilesinterror.mindswap.org/document/2005/08/09/16:36:24#_http://profilesinterror.mindswap.org/document/2005/08/09/16:43:04#\"\n",
      "W1120 15:13:39.532475 4625169856 preprocessing_terror_dataset.py:184] No tf.train.Example found for edge target ID: \"http://counterterror.mindswap.org/2005/terrorists.owl#Richard_Colvin_Reid_http://profilesinterror.mindswap.org/document/2005/09/07/09:36:59#\"\n",
      "W1120 15:13:39.532567 4625169856 preprocessing_terror_dataset.py:184] No tf.train.Example found for edge target ID: \"http://counterterror.mindswap.org/2005/terrorists.owl#Nizar_Trabelsi_http://profilesinterror.mindswap.org/document/2005/09/07/09:36:59#\"\n",
      "W1120 15:13:39.533421 4625169856 preprocessing_terror_dataset.py:184] No tf.train.Example found for edge target ID: \"http://counterterror.mindswap.org/2005/terrorists.owl#Djamel_Beghal_http://counterterror.mindswap.org/2005/terrorists.owl#Nizar_Trabelsi\"\n",
      "W1120 15:13:39.534263 4625169856 preprocessing_terror_dataset.py:184] No tf.train.Example found for edge target ID: \"http://counterterror.mindswap.org/2005/terrorists.owl#Richard_Colvin_Reid_http://profilesinterror.mindswap.org/document/2005/09/07/09:36:59#\"\n",
      "W1120 15:13:39.534334 4625169856 preprocessing_terror_dataset.py:184] No tf.train.Example found for edge target ID: \"http://counterterror.mindswap.org/2005/terrorists.owl#Nizar_Trabelsi_http://counterterror.mindswap.org/2005/terrorists.owl#Richard_Colvin_Reid\"\n",
      "W1120 15:13:39.535171 4625169856 preprocessing_terror_dataset.py:184] No tf.train.Example found for edge target ID: \"http://profilesinterror.mindswap.org/document/2005/07/28/16:02:44#Germaine_Lindsay_http://profilesinterror.mindswap.org/document/2005/07/28/15:59:18#Mohammad_Sidique_Khan\"\n",
      "W1120 15:13:39.536058 4625169856 preprocessing_terror_dataset.py:184] No tf.train.Example found for edge target ID: \"http://profilesinterror.mindswap.org/document/2005/08/09/16:36:24#_http://profilesinterror.mindswap.org/document/2005/08/09/16:43:04#\"\n",
      "W1120 15:13:39.536128 4625169856 preprocessing_terror_dataset.py:184] No tf.train.Example found for edge target ID: \"http://profilesinterror.mindswap.org/document/2005/07/28/16:02:44#Germaine_Lindsay_http://profilesinterror.mindswap.org/document/2005/07/28/15:59:18#Mohammad_Sidique_Khan\"\n",
      "W1120 15:13:39.536983 4625169856 preprocessing_terror_dataset.py:184] No tf.train.Example found for edge target ID: \"http://profilesinterror.mindswap.org/document/2005/07/28/16:02:44#Germaine_Lindsay_http://profilesinterror.mindswap.org/document/2005/07/28/15:59:18#Mohammad_Sidique_Khan\"\n",
      "W1120 15:13:39.537050 4625169856 preprocessing_terror_dataset.py:184] No tf.train.Example found for edge target ID: \"http://counterterror.mindswap.org/2005/terrorists.owl#Richard_Colvin_Reid_http://profilesinterror.mindswap.org/document/2005/09/07/09:36:59#\"\n",
      "W1120 15:13:39.537103 4625169856 preprocessing_terror_dataset.py:184] No tf.train.Example found for edge target ID: \"http://counterterror.mindswap.org/2005/terrorists.owl#Nizar_Trabelsi_http://profilesinterror.mindswap.org/document/2005/09/07/09:36:59#\"\n",
      "W1120 15:13:39.538006 4625169856 preprocessing_terror_dataset.py:184] No tf.train.Example found for edge target ID: \"http://profilesinterror.mindswap.org/document/2005/07/28/16:02:44#Germaine_Lindsay_http://profilesinterror.mindswap.org/document/2005/07/28/15:59:18#Mohammad_Sidique_Khan\"\n",
      "W1120 15:13:39.538918 4625169856 preprocessing_terror_dataset.py:184] No tf.train.Example found for edge target ID: \"http://profilesinterror.mindswap.org/document/2005/07/28/16:02:44#Germaine_Lindsay_http://profilesinterror.mindswap.org/document/2005/07/28/15:59:18#Mohammad_Sidique_Khan\"\n",
      "W1120 15:13:39.539801 4625169856 preprocessing_terror_dataset.py:184] No tf.train.Example found for edge target ID: \"http://counterterror.mindswap.org/2005/terrorists.owl#Nizar_Trabelsi_http://profilesinterror.mindswap.org/document/2005/09/07/09:36:59#\"\n",
      "W1120 15:13:39.539867 4625169856 preprocessing_terror_dataset.py:184] No tf.train.Example found for edge target ID: \"http://counterterror.mindswap.org/2005/terrorists.owl#Nizar_Trabelsi_http://counterterror.mindswap.org/2005/terrorists.owl#Richard_Colvin_Reid\"\n",
      "W1120 15:13:39.539921 4625169856 preprocessing_terror_dataset.py:184] No tf.train.Example found for edge target ID: \"http://counterterror.mindswap.org/2005/terrorists.owl#Djamel_Beghal_http://counterterror.mindswap.org/2005/terrorists.owl#Nizar_Trabelsi\"\n",
      "W1120 15:13:39.544216 4625169856 preprocessing_terror_dataset.py:184] No tf.train.Example found for edge target ID: \"http://profilesinterror.mindswap.org/document/2005/07/28/16:02:44#Germaine_Lindsay_http://profilesinterror.mindswap.org/document/2005/07/28/15:59:18#Mohammad_Sidique_Khan\"\n",
      "W1120 15:13:39.545150 4625169856 preprocessing_terror_dataset.py:184] No tf.train.Example found for edge target ID: \"http://profilesinterror.mindswap.org/document/2005/08/09/16:36:24#_http://profilesinterror.mindswap.org/document/2005/08/09/16:43:04#\"\n",
      "W1120 15:13:39.548924 4625169856 preprocessing_terror_dataset.py:184] No tf.train.Example found for edge target ID: \"http://counterterror.mindswap.org/2005/terrorists.owl#Nizar_Trabelsi_http://profilesinterror.mindswap.org/document/2005/09/07/09:36:59#\"\n",
      "W1120 15:13:39.549063 4625169856 preprocessing_terror_dataset.py:184] No tf.train.Example found for edge target ID: \"http://counterterror.mindswap.org/2005/terrorists.owl#Nizar_Trabelsi_http://counterterror.mindswap.org/2005/terrorists.owl#Richard_Colvin_Reid\"\n",
      "W1120 15:13:39.549119 4625169856 preprocessing_terror_dataset.py:184] No tf.train.Example found for edge target ID: \"http://counterterror.mindswap.org/2005/terrorists.owl#Djamel_Beghal_http://counterterror.mindswap.org/2005/terrorists.owl#Nizar_Trabelsi\"\n",
      "W1120 15:13:39.550071 4625169856 preprocessing_terror_dataset.py:184] No tf.train.Example found for edge target ID: \"http://profilesinterror.mindswap.org/document/2005/08/09/16:36:24#_http://profilesinterror.mindswap.org/document/2005/08/09/16:43:04#\"\n",
      "W1120 15:13:39.550966 4625169856 preprocessing_terror_dataset.py:184] No tf.train.Example found for edge target ID: \"http://counterterror.mindswap.org/2005/terrorists.owl#Richard_Colvin_Reid_http://profilesinterror.mindswap.org/document/2005/09/07/09:36:59#\"\n",
      "W1120 15:13:39.551032 4625169856 preprocessing_terror_dataset.py:184] No tf.train.Example found for edge target ID: \"http://counterterror.mindswap.org/2005/terrorists.owl#Nizar_Trabelsi_http://profilesinterror.mindswap.org/document/2005/09/07/09:36:59#\"\n",
      "W1120 15:13:39.554178 4625169856 preprocessing_terror_dataset.py:184] No tf.train.Example found for edge target ID: \"http://profilesinterror.mindswap.org/document/2005/07/28/16:02:44#Germaine_Lindsay_http://profilesinterror.mindswap.org/document/2005/07/28/15:59:18#Mohammad_Sidique_Khan\"\n",
      "W1120 15:13:39.555045 4625169856 preprocessing_terror_dataset.py:184] No tf.train.Example found for edge target ID: \"http://profilesinterror.mindswap.org/document/2005/08/09/16:36:24#_http://profilesinterror.mindswap.org/document/2005/08/09/16:43:04#\"\n",
      "W1120 15:13:39.555903 4625169856 preprocessing_terror_dataset.py:184] No tf.train.Example found for edge target ID: \"http://counterterror.mindswap.org/2005/terrorists.owl#Richard_Colvin_Reid_http://profilesinterror.mindswap.org/document/2005/09/07/09:36:59#\"\n",
      "W1120 15:13:39.555974 4625169856 preprocessing_terror_dataset.py:184] No tf.train.Example found for edge target ID: \"http://counterterror.mindswap.org/2005/terrorists.owl#Nizar_Trabelsi_http://profilesinterror.mindswap.org/document/2005/09/07/09:36:59#\"\n",
      "W1120 15:13:39.558308 4625169856 preprocessing_terror_dataset.py:184] No tf.train.Example found for edge target ID: \"http://counterterror.mindswap.org/2005/terrorists.owl#Nizar_Trabelsi_http://counterterror.mindswap.org/2005/terrorists.owl#Richard_Colvin_Reid\"\n",
      "W1120 15:13:39.558404 4625169856 preprocessing_terror_dataset.py:184] No tf.train.Example found for edge target ID: \"http://counterterror.mindswap.org/2005/terrorists.owl#Djamel_Beghal_http://counterterror.mindswap.org/2005/terrorists.owl#Nizar_Trabelsi\"\n",
      "W1120 15:13:39.558458 4625169856 preprocessing_terror_dataset.py:184] No tf.train.Example found for edge target ID: \"http://profilesinterror.mindswap.org/document/2005/08/09/16:36:24#_http://profilesinterror.mindswap.org/document/2005/08/09/16:43:04#\"\n",
      "W1120 15:13:39.558506 4625169856 preprocessing_terror_dataset.py:184] No tf.train.Example found for edge target ID: \"http://counterterror.mindswap.org/2005/terrorists.owl#Nizar_Trabelsi_http://profilesinterror.mindswap.org/document/2005/09/07/09:36:59#\"\n",
      "W1120 15:13:39.559380 4625169856 preprocessing_terror_dataset.py:184] No tf.train.Example found for edge target ID: \"http://profilesinterror.mindswap.org/document/2005/08/09/16:36:24#_http://profilesinterror.mindswap.org/document/2005/08/09/16:43:04#\"\n",
      "W1120 15:13:39.559446 4625169856 preprocessing_terror_dataset.py:184] No tf.train.Example found for edge target ID: \"http://counterterror.mindswap.org/2005/terrorists.owl#Nizar_Trabelsi_http://counterterror.mindswap.org/2005/terrorists.owl#Richard_Colvin_Reid\"\n",
      "W1120 15:13:39.559499 4625169856 preprocessing_terror_dataset.py:184] No tf.train.Example found for edge target ID: \"http://counterterror.mindswap.org/2005/terrorists.owl#Richard_Colvin_Reid_http://profilesinterror.mindswap.org/document/2005/09/07/09:36:59#\"\n",
      "W1120 15:13:39.560346 4625169856 preprocessing_terror_dataset.py:184] No tf.train.Example found for edge target ID: \"http://profilesinterror.mindswap.org/document/2005/07/28/16:02:44#Germaine_Lindsay_http://profilesinterror.mindswap.org/document/2005/07/28/15:59:18#Mohammad_Sidique_Khan\"\n",
      "W1120 15:13:39.560410 4625169856 preprocessing_terror_dataset.py:184] No tf.train.Example found for edge target ID: \"http://counterterror.mindswap.org/2005/terrorists.owl#Richard_Colvin_Reid_http://profilesinterror.mindswap.org/document/2005/09/07/09:36:59#\"\n",
      "W1120 15:13:39.560464 4625169856 preprocessing_terror_dataset.py:184] No tf.train.Example found for edge target ID: \"http://counterterror.mindswap.org/2005/terrorists.owl#Nizar_Trabelsi_http://profilesinterror.mindswap.org/document/2005/09/07/09:36:59#\"\n",
      "W1120 15:13:39.561312 4625169856 preprocessing_terror_dataset.py:184] No tf.train.Example found for edge target ID: \"http://counterterror.mindswap.org/2005/terrorists.owl#Richard_Colvin_Reid_http://profilesinterror.mindswap.org/document/2005/09/07/09:36:59#\"\n",
      "W1120 15:13:39.561374 4625169856 preprocessing_terror_dataset.py:184] No tf.train.Example found for edge target ID: \"http://counterterror.mindswap.org/2005/terrorists.owl#Nizar_Trabelsi_http://profilesinterror.mindswap.org/document/2005/09/07/09:36:59#\"\n",
      "W1120 15:13:39.562227 4625169856 preprocessing_terror_dataset.py:184] No tf.train.Example found for edge target ID: \"http://counterterror.mindswap.org/2005/terrorists.owl#Nizar_Trabelsi_http://profilesinterror.mindswap.org/document/2005/09/07/09:36:59#\"\n",
      "W1120 15:13:39.562289 4625169856 preprocessing_terror_dataset.py:184] No tf.train.Example found for edge target ID: \"http://counterterror.mindswap.org/2005/terrorists.owl#Nizar_Trabelsi_http://counterterror.mindswap.org/2005/terrorists.owl#Richard_Colvin_Reid\"\n",
      "W1120 15:13:39.562343 4625169856 preprocessing_terror_dataset.py:184] No tf.train.Example found for edge target ID: \"http://counterterror.mindswap.org/2005/terrorists.owl#Djamel_Beghal_http://counterterror.mindswap.org/2005/terrorists.owl#Nizar_Trabelsi\"\n",
      "W1120 15:13:39.563952 4625169856 preprocessing_terror_dataset.py:184] No tf.train.Example found for edge target ID: \"http://counterterror.mindswap.org/2005/terrorists.owl#Richard_Colvin_Reid_http://profilesinterror.mindswap.org/document/2005/09/07/09:36:59#\"\n",
      "W1120 15:13:39.564014 4625169856 preprocessing_terror_dataset.py:184] No tf.train.Example found for edge target ID: \"http://counterterror.mindswap.org/2005/terrorists.owl#Nizar_Trabelsi_http://counterterror.mindswap.org/2005/terrorists.owl#Richard_Colvin_Reid\"\n",
      "W1120 15:13:39.564067 4625169856 preprocessing_terror_dataset.py:184] No tf.train.Example found for edge target ID: \"http://counterterror.mindswap.org/2005/terrorists.owl#Djamel_Beghal_http://counterterror.mindswap.org/2005/terrorists.owl#Nizar_Trabelsi\"\n",
      "W1120 15:13:39.564894 4625169856 preprocessing_terror_dataset.py:184] No tf.train.Example found for edge target ID: \"http://profilesinterror.mindswap.org/document/2005/07/28/16:02:44#Germaine_Lindsay_http://profilesinterror.mindswap.org/document/2005/07/28/15:59:18#Mohammad_Sidique_Khan\"\n",
      "W1120 15:13:39.564957 4625169856 preprocessing_terror_dataset.py:184] No tf.train.Example found for edge target ID: \"http://counterterror.mindswap.org/2005/terrorists.owl#Nizar_Trabelsi_http://counterterror.mindswap.org/2005/terrorists.owl#Richard_Colvin_Reid\"\n",
      "W1120 15:13:39.565007 4625169856 preprocessing_terror_dataset.py:184] No tf.train.Example found for edge target ID: \"http://counterterror.mindswap.org/2005/terrorists.owl#Djamel_Beghal_http://counterterror.mindswap.org/2005/terrorists.owl#Nizar_Trabelsi\"\n",
      "W1120 15:13:39.565050 4625169856 preprocessing_terror_dataset.py:184] No tf.train.Example found for edge target ID: \"http://counterterror.mindswap.org/2005/terrorists.owl#Nizar_Trabelsi_http://profilesinterror.mindswap.org/document/2005/09/07/09:36:59#\"\n",
      "W1120 15:13:39.565858 4625169856 preprocessing_terror_dataset.py:184] No tf.train.Example found for edge target ID: \"http://counterterror.mindswap.org/2005/terrorists.owl#Nizar_Trabelsi_http://profilesinterror.mindswap.org/document/2005/09/07/09:36:59#\"\n",
      "W1120 15:13:39.565915 4625169856 preprocessing_terror_dataset.py:184] No tf.train.Example found for edge target ID: \"http://counterterror.mindswap.org/2005/terrorists.owl#Nizar_Trabelsi_http://counterterror.mindswap.org/2005/terrorists.owl#Richard_Colvin_Reid\"\n",
      "W1120 15:13:39.565962 4625169856 preprocessing_terror_dataset.py:184] No tf.train.Example found for edge target ID: \"http://counterterror.mindswap.org/2005/terrorists.owl#Djamel_Beghal_http://counterterror.mindswap.org/2005/terrorists.owl#Nizar_Trabelsi\"\n",
      "W1120 15:13:39.566778 4625169856 preprocessing_terror_dataset.py:184] No tf.train.Example found for edge target ID: \"http://profilesinterror.mindswap.org/document/2005/08/09/16:36:24#_http://profilesinterror.mindswap.org/document/2005/08/09/16:43:04#\"\n",
      "W1120 15:13:39.566841 4625169856 preprocessing_terror_dataset.py:184] No tf.train.Example found for edge target ID: \"http://counterterror.mindswap.org/2005/terrorists.owl#Djamel_Beghal_http://counterterror.mindswap.org/2005/terrorists.owl#Nizar_Trabelsi\"\n",
      "W1120 15:13:39.567662 4625169856 preprocessing_terror_dataset.py:184] No tf.train.Example found for edge target ID: \"http://profilesinterror.mindswap.org/document/2005/08/09/16:36:24#_http://profilesinterror.mindswap.org/document/2005/08/09/16:43:04#\"\n",
      "W1120 15:13:39.572314 4625169856 preprocessing_terror_dataset.py:184] No tf.train.Example found for edge target ID: \"http://profilesinterror.mindswap.org/document/27#FarouqQaddoumi_http://profilesinterror.mindswap.org/document/2005/05/24/18:26:22#Khaled_al-Fahoum\"\n",
      "W1120 15:13:39.575698 4625169856 preprocessing_terror_dataset.py:184] No tf.train.Example found for edge target ID: \"http://profilesinterror.mindswap.org/document/2006/03/17/05:42:48#_http://profilesinterror.mindswap.org/document/2006/03/15/04:58:21#\"\n",
      "W1120 15:13:39.575764 4625169856 preprocessing_terror_dataset.py:184] No tf.train.Example found for edge target ID: \"http://profilesinterror.mindswap.org/document/2006/03/15/22:21:03#_http://profilesinterror.mindswap.org/document/2006/03/15/04:58:21#\"\n",
      "W1120 15:13:39.575814 4625169856 preprocessing_terror_dataset.py:184] No tf.train.Example found for edge target ID: \"http://profilesinterror.mindswap.org/document/2006/03/17/05:47:04#_http://profilesinterror.mindswap.org/document/2006/03/15/04:58:21#\"\n",
      "W1120 15:13:39.576617 4625169856 preprocessing_terror_dataset.py:184] No tf.train.Example found for edge target ID: \"http://profilesinterror.mindswap.org/document/2006/03/17/05:42:48#_http://profilesinterror.mindswap.org/document/2006/03/15/22:21:03#\"\n",
      "W1120 15:13:39.576677 4625169856 preprocessing_terror_dataset.py:184] No tf.train.Example found for edge target ID: \"http://profilesinterror.mindswap.org/document/2006/03/17/05:42:48#_http://profilesinterror.mindswap.org/document/2006/03/17/05:47:04#\"\n",
      "W1120 15:13:39.576725 4625169856 preprocessing_terror_dataset.py:184] No tf.train.Example found for edge target ID: \"http://profilesinterror.mindswap.org/document/2006/03/17/05:42:48#_http://profilesinterror.mindswap.org/document/2006/03/15/04:58:21#\"\n",
      "W1120 15:13:39.577541 4625169856 preprocessing_terror_dataset.py:184] No tf.train.Example found for edge target ID: \"http://profilesinterror.mindswap.org/document/27#FarouqQaddoumi_http://profilesinterror.mindswap.org/document/2005/05/24/18:26:22#Khaled_al-Fahoum\"\n",
      "W1120 15:13:39.578383 4625169856 preprocessing_terror_dataset.py:184] No tf.train.Example found for edge target ID: \"http://profilesinterror.mindswap.org/document/2005/12/20/20:55:53#_http://profilesinterror.mindswap.org/document/2005/09/08/04:39:17#\"\n"
     ]
    },
    {
     "name": "stdout",
     "output_type": "stream",
     "text": [
      "W1120 15:13:39.590787 4625169856 preprocessing_terror_dataset.py:184] No tf.train.Example found for edge target ID: \"http://profilesinterror.mindswap.org/document/19#EyadIsmoil_http://profilesinterror.mindswap.org/document/19#Nidal_Ayyad\"\n",
      "W1120 15:13:39.590913 4625169856 preprocessing_terror_dataset.py:184] No tf.train.Example found for edge target ID: \"http://profilesinterror.mindswap.org/document/19#EyadIsmoil_http://profilesinterror.mindswap.org/document/4#Ramzi_Yousef\"\n",
      "W1120 15:13:39.590976 4625169856 preprocessing_terror_dataset.py:184] No tf.train.Example found for edge target ID: \"http://profilesinterror.mindswap.org/document/19#MohammedSalameh_http://profilesinterror.mindswap.org/document/19#EyadIsmoil\"\n",
      "W1120 15:13:39.591805 4625169856 preprocessing_terror_dataset.py:184] No tf.train.Example found for edge target ID: \"http://profilesinterror.mindswap.org/document/29#MohammedSchreim_http://profilesinterror.mindswap.org/document/29#NasserWatimi\"\n",
      "W1120 15:13:39.598321 4625169856 preprocessing_terror_dataset.py:184] No tf.train.Example found for edge target ID: \"http://profilesinterror.mindswap.org/document/2005/12/22/19:57:48#_http://counterterror.mindswap.org/2005/terrorists.owl#Lionel_Dumont\"\n",
      "W1120 15:13:39.611566 4625169856 preprocessing_terror_dataset.py:184] No tf.train.Example found for edge target ID: \"http://profilesinterror.mindswap.org/document/27#FarouqQaddoumi_http://profilesinterror.mindswap.org/document/2005/05/24/18:26:22#Khaled_al-Fahoum\"\n",
      "W1120 15:13:39.613226 4625169856 preprocessing_terror_dataset.py:184] No tf.train.Example found for edge target ID: \"http://profilesinterror.mindswap.org/document/29#MohammedSchreim_http://profilesinterror.mindswap.org/document/29#NasserWatimi\"\n",
      "W1120 15:13:39.614075 4625169856 preprocessing_terror_dataset.py:184] No tf.train.Example found for edge target ID: \"http://profilesinterror.mindswap.org/document/19#MohammedSalameh_http://profilesinterror.mindswap.org/document/19#AhmadAjaj\"\n",
      "W1120 15:13:39.614140 4625169856 preprocessing_terror_dataset.py:184] No tf.train.Example found for edge target ID: \"http://profilesinterror.mindswap.org/document/19#MohammedSalameh_http://profilesinterror.mindswap.org/document/19#Nidal_Ayyad\"\n",
      "W1120 15:13:39.614192 4625169856 preprocessing_terror_dataset.py:184] No tf.train.Example found for edge target ID: \"http://profilesinterror.mindswap.org/document/19#MohammedSalameh_http://profilesinterror.mindswap.org/document/19#EyadIsmoil\"\n",
      "W1120 15:13:39.614235 4625169856 preprocessing_terror_dataset.py:184] No tf.train.Example found for edge target ID: \"http://profilesinterror.mindswap.org/document/19#MohammedSalameh_http://profilesinterror.mindswap.org/document/4#Ramzi_Yousef\"\n",
      "W1120 15:13:39.616583 4625169856 preprocessing_terror_dataset.py:184] No tf.train.Example found for edge target ID: \"http://profilesinterror.mindswap.org/document/2005/07/28/16:02:44#Germaine_Lindsay_http://profilesinterror.mindswap.org/document/2005/07/28/15:59:18#Mohammad_Sidique_Khan\"\n",
      "W1120 15:13:39.617402 4625169856 preprocessing_terror_dataset.py:184] No tf.train.Example found for edge target ID: \"http://profilesinterror.mindswap.org/document/2005/07/28/16:02:44#Germaine_Lindsay_http://profilesinterror.mindswap.org/document/2005/07/28/15:59:18#Mohammad_Sidique_Khan\"\n",
      "W1120 15:13:39.618246 4625169856 preprocessing_terror_dataset.py:184] No tf.train.Example found for edge target ID: \"http://counterterror.mindswap.org/2005/terrorists.owl#Richard_Colvin_Reid_http://profilesinterror.mindswap.org/document/2005/09/07/09:36:59#\"\n",
      "W1120 15:13:39.618309 4625169856 preprocessing_terror_dataset.py:184] No tf.train.Example found for edge target ID: \"http://counterterror.mindswap.org/2005/terrorists.owl#Nizar_Trabelsi_http://counterterror.mindswap.org/2005/terrorists.owl#Richard_Colvin_Reid\"\n",
      "W1120 15:13:39.619888 4625169856 preprocessing_terror_dataset.py:184] No tf.train.Example found for edge target ID: \"http://profilesinterror.mindswap.org/document/2005/07/28/16:02:44#Germaine_Lindsay_http://profilesinterror.mindswap.org/document/2005/07/28/15:59:18#Mohammad_Sidique_Khan\"\n",
      "W1120 15:13:39.619955 4625169856 preprocessing_terror_dataset.py:184] No tf.train.Example found for edge target ID: \"http://profilesinterror.mindswap.org/document/2005/08/09/16:36:24#_http://profilesinterror.mindswap.org/document/2005/08/09/16:43:04#\"\n",
      "W1120 15:13:39.620769 4625169856 preprocessing_terror_dataset.py:184] No tf.train.Example found for edge target ID: \"http://profilesinterror.mindswap.org/document/2005/08/09/16:36:24#_http://profilesinterror.mindswap.org/document/2005/08/09/16:43:04#\"\n",
      "W1120 15:13:39.621605 4625169856 preprocessing_terror_dataset.py:184] No tf.train.Example found for edge target ID: \"http://profilesinterror.mindswap.org/document/2005/07/28/16:02:44#Germaine_Lindsay_http://profilesinterror.mindswap.org/document/2005/07/28/15:59:18#Mohammad_Sidique_Khan\"\n",
      "W1120 15:13:39.622438 4625169856 preprocessing_terror_dataset.py:184] No tf.train.Example found for edge target ID: \"http://counterterror.mindswap.org/2005/terrorists.owl#Richard_Colvin_Reid_http://profilesinterror.mindswap.org/document/2005/09/07/09:36:59#\"\n",
      "W1120 15:13:39.622500 4625169856 preprocessing_terror_dataset.py:184] No tf.train.Example found for edge target ID: \"http://counterterror.mindswap.org/2005/terrorists.owl#Nizar_Trabelsi_http://counterterror.mindswap.org/2005/terrorists.owl#Richard_Colvin_Reid\"\n",
      "W1120 15:13:39.623354 4625169856 preprocessing_terror_dataset.py:184] No tf.train.Example found for edge target ID: \"http://counterterror.mindswap.org/2005/terrorists.owl#Nizar_Trabelsi_http://profilesinterror.mindswap.org/document/2005/09/07/09:36:59#\"\n",
      "W1120 15:13:39.623427 4625169856 preprocessing_terror_dataset.py:184] No tf.train.Example found for edge target ID: \"http://counterterror.mindswap.org/2005/terrorists.owl#Nizar_Trabelsi_http://counterterror.mindswap.org/2005/terrorists.owl#Richard_Colvin_Reid\"\n",
      "W1120 15:13:39.623482 4625169856 preprocessing_terror_dataset.py:184] No tf.train.Example found for edge target ID: \"http://profilesinterror.mindswap.org/document/2005/08/09/16:36:24#_http://profilesinterror.mindswap.org/document/2005/08/09/16:43:04#\"\n",
      "W1120 15:13:39.623533 4625169856 preprocessing_terror_dataset.py:184] No tf.train.Example found for edge target ID: \"http://counterterror.mindswap.org/2005/terrorists.owl#Djamel_Beghal_http://counterterror.mindswap.org/2005/terrorists.owl#Nizar_Trabelsi\"\n",
      "W1120 15:13:39.627829 4625169856 preprocessing_terror_dataset.py:184] No tf.train.Example found for edge target ID: \"http://profilesinterror.mindswap.org/document/2005/12/20/20:55:53#_http://profilesinterror.mindswap.org/document/2005/09/08/04:39:17#\"\n",
      "W1120 15:13:39.630193 4625169856 preprocessing_terror_dataset.py:184] No tf.train.Example found for edge target ID: \"http://profilesinterror.mindswap.org/document/2005/12/20/20:55:53#_http://profilesinterror.mindswap.org/document/2005/09/08/04:39:17#\"\n",
      "W1120 15:13:39.632703 4625169856 preprocessing_terror_dataset.py:184] No tf.train.Example found for edge target ID: \"http://profilesinterror.mindswap.org/document/2006/03/17/05:42:48#_http://profilesinterror.mindswap.org/document/2006/03/17/05:47:04#\"\n",
      "W1120 15:13:39.632805 4625169856 preprocessing_terror_dataset.py:184] No tf.train.Example found for edge target ID: \"http://profilesinterror.mindswap.org/document/2006/03/17/05:47:04#_http://profilesinterror.mindswap.org/document/2006/03/15/04:58:21#\"\n",
      "W1120 15:13:39.637349 4625169856 preprocessing_terror_dataset.py:184] No tf.train.Example found for edge target ID: \"http://profilesinterror.mindswap.org/document/2005/12/20/20:55:53#_http://profilesinterror.mindswap.org/document/2005/09/08/04:39:17#\"\n",
      "W1120 15:13:39.639845 4625169856 preprocessing_terror_dataset.py:184] No tf.train.Example found for edge target ID: \"http://profilesinterror.mindswap.org/document/2006/03/17/05:42:48#_http://profilesinterror.mindswap.org/document/2006/03/17/05:47:04#\"\n",
      "W1120 15:13:39.639942 4625169856 preprocessing_terror_dataset.py:184] No tf.train.Example found for edge target ID: \"http://profilesinterror.mindswap.org/document/2006/03/17/05:47:04#_http://profilesinterror.mindswap.org/document/2006/03/15/04:58:21#\"\n",
      "W1120 15:13:39.648141 4625169856 preprocessing_terror_dataset.py:184] No tf.train.Example found for edge target ID: \"http://profilesinterror.mindswap.org/document/2005/12/22/19:57:48#_http://counterterror.mindswap.org/2005/terrorists.owl#Lionel_Dumont\"\n",
      "W1120 15:13:39.650873 4625169856 preprocessing_terror_dataset.py:184] No tf.train.Example found for edge target ID: \"http://profilesinterror.mindswap.org/document/2005/12/20/20:55:53#_http://profilesinterror.mindswap.org/document/2005/09/08/04:39:17#\"\n",
      "W1120 15:13:39.653394 4625169856 preprocessing_terror_dataset.py:184] No tf.train.Example found for edge target ID: \"http://profilesinterror.mindswap.org/document/2005/12/22/19:57:48#_http://counterterror.mindswap.org/2005/terrorists.owl#Lionel_Dumont\"\n",
      "W1120 15:13:39.669276 4625169856 preprocessing_terror_dataset.py:184] No tf.train.Example found for edge target ID: \"http://profilesinterror.mindswap.org/document/2005/12/20/20:55:53#_http://profilesinterror.mindswap.org/document/2005/09/08/04:39:17#\"\n",
      "W1120 15:13:39.670190 4625169856 preprocessing_terror_dataset.py:184] No tf.train.Example found for edge target ID: \"http://profilesinterror.mindswap.org/document/2005/12/20/20:55:53#_http://profilesinterror.mindswap.org/document/2005/09/08/04:39:17#\"\n",
      "W1120 15:13:39.672568 4625169856 preprocessing_terror_dataset.py:184] No tf.train.Example found for edge target ID: \"http://profilesinterror.mindswap.org/document/29#FathiKhatib_http://profilesinterror.mindswap.org/document/29#MuammarSheikh\"\n",
      "W1120 15:13:39.676345 4625169856 preprocessing_terror_dataset.py:184] No tf.train.Example found for edge target ID: \"http://profilesinterror.mindswap.org/document/2005/08/09/16:36:24#_http://profilesinterror.mindswap.org/document/2005/08/09/16:43:04#\"\n",
      "W1120 15:13:39.678725 4625169856 preprocessing_terror_dataset.py:184] No tf.train.Example found for edge target ID: \"http://profilesinterror.mindswap.org/document/2005/07/28/16:02:44#Germaine_Lindsay_http://profilesinterror.mindswap.org/document/2005/07/28/15:59:18#Mohammad_Sidique_Khan\"\n",
      "W1120 15:13:39.678800 4625169856 preprocessing_terror_dataset.py:184] No tf.train.Example found for edge target ID: \"http://counterterror.mindswap.org/2005/terrorists.owl#Djamel_Beghal_http://counterterror.mindswap.org/2005/terrorists.owl#Nizar_Trabelsi\"\n",
      "W1120 15:13:39.679642 4625169856 preprocessing_terror_dataset.py:184] No tf.train.Example found for edge target ID: \"http://profilesinterror.mindswap.org/document/2005/08/09/16:36:24#_http://profilesinterror.mindswap.org/document/2005/08/09/16:43:04#\"\n"
     ]
    },
    {
     "name": "stdout",
     "output_type": "stream",
     "text": [
      "W1120 15:13:39.681236 4625169856 preprocessing_terror_dataset.py:184] No tf.train.Example found for edge target ID: \"http://profilesinterror.mindswap.org/document/2005/08/09/16:36:24#_http://profilesinterror.mindswap.org/document/2005/08/09/16:43:04#\"\n",
      "W1120 15:13:39.681306 4625169856 preprocessing_terror_dataset.py:184] No tf.train.Example found for edge target ID: \"http://counterterror.mindswap.org/2005/terrorists.owl#Djamel_Beghal_http://counterterror.mindswap.org/2005/terrorists.owl#Nizar_Trabelsi\"\n",
      "W1120 15:13:39.682136 4625169856 preprocessing_terror_dataset.py:184] No tf.train.Example found for edge target ID: \"http://counterterror.mindswap.org/2005/terrorists.owl#Richard_Colvin_Reid_http://profilesinterror.mindswap.org/document/2005/09/07/09:36:59#\"\n",
      "W1120 15:13:39.682198 4625169856 preprocessing_terror_dataset.py:184] No tf.train.Example found for edge target ID: \"http://counterterror.mindswap.org/2005/terrorists.owl#Nizar_Trabelsi_http://profilesinterror.mindswap.org/document/2005/09/07/09:36:59#\"\n",
      "W1120 15:13:39.682251 4625169856 preprocessing_terror_dataset.py:184] No tf.train.Example found for edge target ID: \"http://counterterror.mindswap.org/2005/terrorists.owl#Djamel_Beghal_http://counterterror.mindswap.org/2005/terrorists.owl#Nizar_Trabelsi\"\n",
      "W1120 15:13:39.683218 4625169856 preprocessing_terror_dataset.py:184] No tf.train.Example found for edge target ID: \"http://counterterror.mindswap.org/2005/terrorists.owl#Djamel_Beghal_http://counterterror.mindswap.org/2005/terrorists.owl#Nizar_Trabelsi\"\n",
      "W1120 15:13:39.684943 4625169856 preprocessing_terror_dataset.py:184] No tf.train.Example found for edge target ID: \"http://counterterror.mindswap.org/2005/terrorists.owl#Nizar_Trabelsi_http://counterterror.mindswap.org/2005/terrorists.owl#Richard_Colvin_Reid\"\n",
      "W1120 15:13:39.685039 4625169856 preprocessing_terror_dataset.py:184] No tf.train.Example found for edge target ID: \"http://counterterror.mindswap.org/2005/terrorists.owl#Richard_Colvin_Reid_http://profilesinterror.mindswap.org/document/2005/09/07/09:36:59#\"\n",
      "W1120 15:13:39.685093 4625169856 preprocessing_terror_dataset.py:184] No tf.train.Example found for edge target ID: \"http://profilesinterror.mindswap.org/document/2005/07/28/16:02:44#Germaine_Lindsay_http://profilesinterror.mindswap.org/document/2005/07/28/15:59:18#Mohammad_Sidique_Khan\"\n",
      "W1120 15:13:39.685946 4625169856 preprocessing_terror_dataset.py:184] No tf.train.Example found for edge target ID: \"http://profilesinterror.mindswap.org/document/2005/07/28/16:02:44#Germaine_Lindsay_http://profilesinterror.mindswap.org/document/2005/07/28/15:59:18#Mohammad_Sidique_Khan\"\n",
      "W1120 15:13:39.686017 4625169856 preprocessing_terror_dataset.py:184] No tf.train.Example found for edge target ID: \"http://counterterror.mindswap.org/2005/terrorists.owl#Djamel_Beghal_http://counterterror.mindswap.org/2005/terrorists.owl#Nizar_Trabelsi\"\n",
      "W1120 15:13:39.687635 4625169856 preprocessing_terror_dataset.py:184] No tf.train.Example found for edge target ID: \"http://counterterror.mindswap.org/2005/terrorists.owl#Richard_Colvin_Reid_http://profilesinterror.mindswap.org/document/2005/09/07/09:36:59#\"\n",
      "W1120 15:13:39.687704 4625169856 preprocessing_terror_dataset.py:184] No tf.train.Example found for edge target ID: \"http://counterterror.mindswap.org/2005/terrorists.owl#Nizar_Trabelsi_http://counterterror.mindswap.org/2005/terrorists.owl#Richard_Colvin_Reid\"\n",
      "W1120 15:13:39.687759 4625169856 preprocessing_terror_dataset.py:184] No tf.train.Example found for edge target ID: \"http://profilesinterror.mindswap.org/document/2005/08/09/16:36:24#_http://profilesinterror.mindswap.org/document/2005/08/09/16:43:04#\"\n",
      "W1120 15:13:39.696331 4625169856 preprocessing_terror_dataset.py:184] No tf.train.Example found for edge target ID: \"http://profilesinterror.mindswap.org/document/4#Ramzi_Yousef_http://profilesinterror.mindswap.org/document/19#Nidal_Ayyad\"\n",
      "W1120 15:13:39.696414 4625169856 preprocessing_terror_dataset.py:184] No tf.train.Example found for edge target ID: \"http://profilesinterror.mindswap.org/document/19#EyadIsmoil_http://profilesinterror.mindswap.org/document/4#Ramzi_Yousef\"\n",
      "W1120 15:13:39.696466 4625169856 preprocessing_terror_dataset.py:184] No tf.train.Example found for edge target ID: \"http://profilesinterror.mindswap.org/document/19#AhmadAjaj_http://profilesinterror.mindswap.org/document/4#Ramzi_Yousef\"\n",
      "W1120 15:13:39.696514 4625169856 preprocessing_terror_dataset.py:184] No tf.train.Example found for edge target ID: \"http://profilesinterror.mindswap.org/document/19#MohammedSalameh_http://profilesinterror.mindswap.org/document/4#Ramzi_Yousef\"\n",
      "W1120 15:13:39.697386 4625169856 preprocessing_terror_dataset.py:184] No tf.train.Example found for edge target ID: \"http://profilesinterror.mindswap.org/document/2005/12/20/20:55:53#_http://profilesinterror.mindswap.org/document/2005/09/08/04:39:17#\"\n",
      "W1120 15:13:39.702258 4625169856 preprocessing_terror_dataset.py:184] No tf.train.Example found for edge target ID: \"http://profilesinterror.mindswap.org/document/2006/03/15/22:21:03#_http://profilesinterror.mindswap.org/document/2006/03/15/04:58:21#\"\n",
      "W1120 15:13:39.702372 4625169856 preprocessing_terror_dataset.py:184] No tf.train.Example found for edge target ID: \"http://profilesinterror.mindswap.org/document/2006/03/17/05:42:48#_http://profilesinterror.mindswap.org/document/2006/03/15/22:21:03#\"\n",
      "W1120 15:13:39.706260 4625169856 preprocessing_terror_dataset.py:184] No tf.train.Example found for edge target ID: \"http://profilesinterror.mindswap.org/document/27#FarouqQaddoumi_http://profilesinterror.mindswap.org/document/2005/05/24/18:26:22#Khaled_al-Fahoum\"\n",
      "W1120 15:13:39.707095 4625169856 preprocessing_terror_dataset.py:184] No tf.train.Example found for edge target ID: \"http://profilesinterror.mindswap.org/document/2005/12/22/19:57:48#_http://counterterror.mindswap.org/2005/terrorists.owl#Lionel_Dumont\"\n",
      "W1120 15:13:39.709720 4625169856 preprocessing_terror_dataset.py:184] No tf.train.Example found for edge target ID: \"http://profilesinterror.mindswap.org/document/27#FarouqQaddoumi_http://profilesinterror.mindswap.org/document/2005/05/24/18:26:22#Khaled_al-Fahoum\"\n",
      "W1120 15:13:39.711839 4625169856 preprocessing_terror_dataset.py:184] No tf.train.Example found for edge target ID: \"http://profilesinterror.mindswap.org/document/2005/07/28/16:02:44#Germaine_Lindsay_http://profilesinterror.mindswap.org/document/2005/07/28/15:59:18#Mohammad_Sidique_Khan\"\n",
      "Done creating and writing 848 merged tf.train.Examples (0.75 seconds).\n",
      "Out-degree histogram: [(0, 3), (1, 5), (2, 22), (3, 13), (4, 22), (5, 783)]\n",
      "Output training data written to TFRecord file: /tmp/CustomTerroristRel/train_merged_examples.tfr.\n",
      "Output test data written to TFRecord file: /tmp/CustomTerroristRel/test_examples.tfr.\n",
      "Total running time: 0.03 minutes.\n"
     ]
    }
   ],
   "source": [
    "# !wget https://raw.githubusercontent.com/tensorflow/neural-structured-learning/master/neural_structured_learning/examples/preprocess/cora/preprocess_cora_dataset.py\n",
    "\n",
    "# !python preprocess_cora_dataset.py \\\n",
    "# --input_cora_content=/tmp/cora/cora.content \\\n",
    "# --input_cora_graph=/tmp/cora/cora.cites \\\n",
    "# --max_nbrs=5 \\\n",
    "# --output_train_data=/tmp/cora/train_merged_examples.tfr \\\n",
    "# --output_test_data=/tmp/cora/test_examples.tfr\n",
    "\n",
    "# !wget https://raw.githubusercontent.com/mrweissguy/nsl/master/preprocessing_terror_dataset.py?token=AKMVMPGQOLZCWR6HB2NCZQK5XGN6U\n",
    "# https://raw.githubusercontent.com/mrweissguy/nsl/master/preprocessing_terror_dataset.py?token=AKMVMPEPFXMPBD5SDWZSSOS5XF6NO\n",
    "# !wget https://raw.githubusercontent.com/mrweissguy/nsl/master/dataset_test_1/preprocessing_terror_dataset.py?token=AKMVMPBECTX7YBDS2EH3I5K5ZPDUE\n",
    "  \n",
    "!python preprocessing_terror_dataset.py \\\n",
    "--input_cora_content=/tmp/CustomTerroristRel/collected.nodes \\\n",
    "--input_cora_graph=/tmp/CustomTerroristRel/TerroristRel.edges \\\n",
    "--max_nbrs=5 \\\n",
    "--output_train_data=/tmp/CustomTerroristRel/train_merged_examples.tfr \\\n",
    "--output_test_data=/tmp/CustomTerroristRel/test_examples.tfr\n"
   ]
  },
  {
   "cell_type": "markdown",
   "metadata": {
    "colab_type": "text",
    "id": "DXoyHIdV5hEe"
   },
   "source": [
    "## Global variables\n",
    "\n",
    "The file paths to the train and test data are based on the command line flag\n",
    "values used to invoke the **'preprocess_cora_dataset.py'** script above."
   ]
  },
  {
   "cell_type": "code",
   "execution_count": 7,
   "metadata": {
    "colab": {},
    "colab_type": "code",
    "id": "kKAmzKIH6I9f"
   },
   "outputs": [],
   "source": [
    "# ### Experiment dataset\n",
    "# TRAIN_DATA_PATH = '/tmp/cora/train_merged_examples.tfr'\n",
    "# TEST_DATA_PATH = '/tmp/cora/test_examples.tfr'\n",
    "\n",
    "# ### Constants used to identify neighbor features in the input.\n",
    "# NBR_FEATURE_PREFIX = 'NL_nbr_'\n",
    "# NBR_WEIGHT_SUFFIX = '_weight'\n",
    "\n",
    "### Experiment dataset\n",
    "TRAIN_DATA_PATH = '/tmp/CustomTerroristRel/train_merged_examples.tfr'\n",
    "TEST_DATA_PATH = '/tmp/CustomTerroristRel/test_examples.tfr'\n",
    "\n",
    "### Constants used to identify neighbor features in the input.\n",
    "NBR_FEATURE_PREFIX = 'NL_nbr_'\n",
    "NBR_WEIGHT_SUFFIX = '_weight'"
   ]
  },
  {
   "cell_type": "code",
   "execution_count": 33,
   "metadata": {},
   "outputs": [
    {
     "data": {
      "text/plain": [
       "'/tmp/CustomTerroristRel/train_merged_examples.tfr'"
      ]
     },
     "execution_count": 33,
     "metadata": {},
     "output_type": "execute_result"
    }
   ],
   "source": []
  },
  {
   "cell_type": "markdown",
   "metadata": {
    "colab_type": "text",
    "id": "2gYWAqJqZ76I"
   },
   "source": [
    "## Hyperparameters\n",
    "\n",
    "We will use an instance of `HParams` to inclue various hyperparameters and\n",
    "constants used for training and evaluation. We briefly describe each of them\n",
    "below:\n",
    "\n",
    "-   **num_classes**: There are a total 7 different classes\n",
    "\n",
    "-   **max_seq_length**: This is the size of the vocabulary and all instances in\n",
    "    the input have a dense multi-hot, bag-of-words representation. In other\n",
    "    words, a value of 1 for a word indicates that the word is present in the\n",
    "    input and a value of 0 indicates that it is not.\n",
    "\n",
    "-   **distance_type**: This is the distance metric used to regularize the sample\n",
    "    with its neighbors.\n",
    "\n",
    "-   **graph_regularization_multiplier**: This controls the relative weight of\n",
    "    the graph regularization term in the overall loss function.\n",
    "\n",
    "-   **num_neighbors**: The number of neighbors used for graph regularization.\n",
    "    This value has to be less than or equal to the `max_nbrs` command-line\n",
    "    argument used above when running `preprocess_cora_dataset.py`.\n",
    "\n",
    "-   **num_fc_units**: The number of fully connected layers in our neural\n",
    "    network.\n",
    "\n",
    "-   **train_epochs**: The number of training epochs.\n",
    "\n",
    "-   **batch_size**: Batch size used for training and evaluation.\n",
    "\n",
    "-   **dropout_rate**: Controls the rate of dropout following each fully\n",
    "    connected layer\n",
    "\n",
    "-   **eval_steps**: The number of batches to process before deeming evaluation\n",
    "    is complete. If set to `None`, all instances in the test set are evaluated."
   ]
  },
  {
   "cell_type": "code",
   "execution_count": 8,
   "metadata": {
    "colab": {},
    "colab_type": "code",
    "id": "N03EFEkcOBaJ"
   },
   "outputs": [],
   "source": [
    "class HParams(object):\n",
    "  \"\"\"Hyperparameters used for training.\"\"\"\n",
    "  def __init__(self):\n",
    "    ### dataset parameters\n",
    "    self.num_classes = 8\n",
    "#     self.num_classes = 2\n",
    "    self.max_seq_length = 1224 # distinct features\n",
    "    ### neural graph learning parameters\n",
    "    self.distance_type = nsl.configs.DistanceType.L2\n",
    "    self.graph_regularization_multiplier = 0.1\n",
    "    self.num_neighbors = 1\n",
    "    ### model architecture\n",
    "    self.num_fc_units = [50,50]\n",
    "    ### training parameters\n",
    "    self.train_epochs = 100\n",
    "    self.batch_size = 10\n",
    "    self.dropout_rate = 0.5\n",
    "    ### eval parameters\n",
    "    self.eval_steps = None  # All instances in the test set are evaluated.\n",
    "\n",
    "HPARAMS = HParams()"
   ]
  },
  {
   "cell_type": "markdown",
   "metadata": {
    "colab_type": "text",
    "id": "IMp34x0MfMMZ"
   },
   "source": [
    "## Load train and test data\n",
    "\n",
    "As described earlier in this notebook, the input training and test data have\n",
    "been created by the **'preprocess_cora_dataset.py'**. We will load them into two\n",
    "`tf.data.Dataset` objects -- one for train and one for test.\n",
    "\n",
    "In the input layer of our model, we will extract not just the 'words' and the\n",
    "'label' features from each sample, but also corresponding neighbor features\n",
    "based on the `hparams.num_neighbors`. Instances with fewer neighbors than\n",
    "`hparams.num_neighbors` will be assigned dummy values for those non-existent\n",
    "neighbor features."
   ]
  },
  {
   "cell_type": "code",
   "execution_count": 9,
   "metadata": {
    "colab": {},
    "colab_type": "code",
    "id": "LCKQVKGee1ST"
   },
   "outputs": [
    {
     "name": "stdout",
     "output_type": "stream",
     "text": [
      "WARNING:tensorflow:Entity <function parse_example at 0x10c4e9bf8> could not be transformed and will be executed as-is. Please report this to the AutoGraph team. When filing the bug, set the verbosity to 10 (on Linux, `export AUTOGRAPH_VERBOSITY=10`) and attach the full output. Cause: module 'gast' has no attribute 'Num'\n",
      "WARNING: Entity <function parse_example at 0x10c4e9bf8> could not be transformed and will be executed as-is. Please report this to the AutoGraph team. When filing the bug, set the verbosity to 10 (on Linux, `export AUTOGRAPH_VERBOSITY=10`) and attach the full output. Cause: module 'gast' has no attribute 'Num'\n"
     ]
    }
   ],
   "source": [
    "def parse_example(example_proto):\n",
    "  \"\"\"Extracts relevant fields from the `example_proto`.\n",
    "\n",
    "  Args:\n",
    "    example_proto: An instance of `tf.train.Example`.\n",
    "\n",
    "  Returns:\n",
    "    A pair whose first value is a dictionary containing relevant features\n",
    "    and whose second value contains the ground truth labels.\n",
    "  \"\"\"\n",
    "  # The 'words' feature is a multi-hot, bag-of-words representation of the\n",
    "  # original raw text. A default value is required for examples that don't\n",
    "  # have the feature.\n",
    "  feature_spec = {\n",
    "      'words':\n",
    "          tf.io.FixedLenFeature([HPARAMS.max_seq_length],\n",
    "                                tf.int64,\n",
    "                                default_value=tf.constant(\n",
    "                                    0,\n",
    "                                    dtype=tf.int64,\n",
    "                                    shape=[HPARAMS.max_seq_length])),\n",
    "      'label':\n",
    "          tf.io.FixedLenFeature((), tf.int64, default_value=-1),\n",
    "  }\n",
    "  # We also extract corresponding neighbor features in a similar manner to\n",
    "  # the features above.\n",
    "  for i in range(HPARAMS.num_neighbors):\n",
    "    nbr_feature_key = '{}{}_{}'.format(NBR_FEATURE_PREFIX, i, 'words')\n",
    "    nbr_weight_key = '{}{}{}'.format(NBR_FEATURE_PREFIX, i, NBR_WEIGHT_SUFFIX)\n",
    "    feature_spec[nbr_feature_key] = tf.io.FixedLenFeature(\n",
    "        [HPARAMS.max_seq_length],\n",
    "        tf.int64,\n",
    "        default_value=tf.constant(\n",
    "            0, dtype=tf.int64, shape=[HPARAMS.max_seq_length]))\n",
    "\n",
    "    # We assign a default value of 0.0 for the neighbor weight so that\n",
    "    # graph regularization is done on samples based on their exact number\n",
    "    # of neighbors. In other words, non-existent neighbors are discounted.\n",
    "    feature_spec[nbr_weight_key] = tf.io.FixedLenFeature(\n",
    "        [1], tf.float32, default_value=tf.constant([0.0]))\n",
    "\n",
    "  features = tf.io.parse_single_example(example_proto, feature_spec)\n",
    "\n",
    "  labels = features.pop('label')\n",
    "  return features, labels\n",
    "\n",
    "\n",
    "def make_dataset(file_path, training=False):\n",
    "  \"\"\"Creates a `tf.data.TFRecordDataset`.\n",
    "\n",
    "  Args:\n",
    "    file_path: Name of the file in the `.tfrecord` format containing\n",
    "      `tf.train.Example` objects.\n",
    "    training: Boolean indicating if we are in training mode.\n",
    "\n",
    "  Returns:\n",
    "    An instance of `tf.data.TFRecordDataset` containing the `tf.train.Example`\n",
    "    objects.\n",
    "  \"\"\"\n",
    "  dataset = tf.data.TFRecordDataset([file_path])\n",
    "  if training:\n",
    "    dataset = dataset.shuffle(10000)\n",
    "  dataset = dataset.map(parse_example)\n",
    "  dataset = dataset.batch(HPARAMS.batch_size)\n",
    "  return dataset\n",
    "\n",
    "\n",
    "train_dataset = make_dataset(TRAIN_DATA_PATH, training=True)\n",
    "test_dataset = make_dataset(TEST_DATA_PATH)"
   ]
  },
  {
   "cell_type": "markdown",
   "metadata": {
    "colab_type": "text",
    "id": "hEWEGhtVzI2p"
   },
   "source": [
    "Let's peek into the train dataset to look at its contents."
   ]
  },
  {
   "cell_type": "code",
   "execution_count": 40,
   "metadata": {
    "colab": {},
    "colab_type": "code",
    "id": "gx-YFaBoCOcl"
   },
   "outputs": [
    {
     "name": "stdout",
     "output_type": "stream",
     "text": [
      "Feature list: ['NL_nbr_0_weight', 'NL_nbr_0_words', 'words']\n",
      "Batch of inputs: tf.Tensor(\n",
      "[[0 0 0 ... 0 0 0]\n",
      " [0 0 0 ... 0 0 1]\n",
      " [0 0 0 ... 0 0 0]\n",
      " ...\n",
      " [0 0 0 ... 0 0 0]\n",
      " [0 0 0 ... 0 0 0]\n",
      " [0 0 0 ... 0 0 0]], shape=(10, 1224), dtype=int64)\n",
      "Batch of neighbor inputs: tf.Tensor(\n",
      "[[0 0 0 ... 0 0 0]\n",
      " [0 0 0 ... 0 0 0]\n",
      " [0 0 0 ... 0 0 0]\n",
      " ...\n",
      " [0 0 0 ... 0 0 0]\n",
      " [0 0 0 ... 0 0 0]\n",
      " [0 0 0 ... 0 0 0]], shape=(10, 1224), dtype=int64)\n",
      "Batch of neighbor weights: tf.Tensor([1. 1. 1. 1. 1. 1. 1. 1. 1. 1.], shape=(10,), dtype=float32)\n",
      "Batch of labels: tf.Tensor([4 1 1 0 1 0 5 1 0 1], shape=(10,), dtype=int64)\n"
     ]
    }
   ],
   "source": [
    "for feature_batch, label_batch in train_dataset.take(1):\n",
    "    print('Feature list:', list(feature_batch.keys()))\n",
    "    print('Batch of inputs:', feature_batch['words'])\n",
    "    nbr_feature_key = '{}{}_{}'.format(NBR_FEATURE_PREFIX, 0, 'words')\n",
    "    nbr_weight_key = '{}{}{}'.format(NBR_FEATURE_PREFIX, 0, NBR_WEIGHT_SUFFIX)\n",
    "    print('Batch of neighbor inputs:', feature_batch[nbr_feature_key])\n",
    "    print('Batch of neighbor weights:',\n",
    "        tf.reshape(feature_batch[nbr_weight_key], [-1]))\n",
    "    print('Batch of labels:', label_batch)"
   ]
  },
  {
   "cell_type": "markdown",
   "metadata": {
    "colab_type": "text",
    "id": "J7B30hRPzOBE"
   },
   "source": [
    "Let's peek into the test dataset to look at its contents."
   ]
  },
  {
   "cell_type": "code",
   "execution_count": 41,
   "metadata": {
    "colab": {},
    "colab_type": "code",
    "id": "kNJuM9yJiFtj"
   },
   "outputs": [
    {
     "name": "stdout",
     "output_type": "stream",
     "text": [
      "Feature list: ['NL_nbr_0_weight', 'NL_nbr_0_words', 'words']\n",
      "Batch of inputs: tf.Tensor(\n",
      "[[0 0 0 ... 0 0 0]\n",
      " [0 0 0 ... 0 0 0]\n",
      " [0 0 0 ... 0 0 0]\n",
      " ...\n",
      " [0 0 0 ... 0 0 0]\n",
      " [0 0 0 ... 0 0 0]\n",
      " [0 0 0 ... 0 0 0]], shape=(10, 1224), dtype=int64)\n",
      "Batch of neighbor inputs: tf.Tensor(\n",
      "[[0 0 0 ... 0 0 0]\n",
      " [0 0 0 ... 0 0 0]\n",
      " [0 0 0 ... 0 0 0]\n",
      " ...\n",
      " [0 0 0 ... 0 0 0]\n",
      " [0 0 0 ... 0 0 0]\n",
      " [0 0 0 ... 0 0 0]], shape=(10, 1224), dtype=int64)\n",
      "Batch of neighbor weights: tf.Tensor([0. 0. 0. 0. 0. 0. 0. 0. 0. 0.], shape=(10,), dtype=float32)\n",
      "Batch of labels: tf.Tensor([2 7 1 2 2 2 2 2 7 2], shape=(10,), dtype=int64)\n"
     ]
    }
   ],
   "source": [
    "for feature_batch, label_batch in test_dataset.take(1):\n",
    "    print('Feature list:', list(feature_batch.keys()))\n",
    "    print('Batch of inputs:', feature_batch['words'])\n",
    "    nbr_feature_key = '{}{}_{}'.format(NBR_FEATURE_PREFIX, 0, 'words')\n",
    "    nbr_weight_key = '{}{}{}'.format(NBR_FEATURE_PREFIX, 0, NBR_WEIGHT_SUFFIX)\n",
    "    print('Batch of neighbor inputs:', feature_batch[nbr_feature_key])\n",
    "    print('Batch of neighbor weights:',\n",
    "        tf.reshape(feature_batch[nbr_weight_key], [-1]))\n",
    "    print('Batch of labels:', label_batch)"
   ]
  },
  {
   "cell_type": "markdown",
   "metadata": {
    "colab_type": "text",
    "id": "OZhsTo8yio8i"
   },
   "source": [
    "## Model definition\n",
    "\n",
    "In order to demonstrate the use of graph regularization, we build a base model\n",
    "for this problem first. We will use a simple feed-forward neural network with 2\n",
    "hidden layers and dropout in between. We illustrate the creation of the base\n",
    "model using all model types supported by the `tf.Keras` framework -- sequential,\n",
    "functional, and subclass."
   ]
  },
  {
   "cell_type": "markdown",
   "metadata": {
    "colab_type": "text",
    "id": "z_kBDDfFiuyI"
   },
   "source": [
    "### Sequential base model"
   ]
  },
  {
   "cell_type": "code",
   "execution_count": 13,
   "metadata": {
    "colab": {},
    "colab_type": "code",
    "id": "pecJmegfWijx"
   },
   "outputs": [],
   "source": [
    "def make_mlp_sequential_model(hparams):\n",
    "  \"\"\"Creates a sequential multi-layer perceptron model.\"\"\"\n",
    "  model = tf.keras.Sequential()\n",
    "  model.add(\n",
    "      tf.keras.layers.InputLayer(\n",
    "          input_shape=(hparams.max_seq_length,), name='words'))\n",
    "  # Input is already one-hot encoded in the integer format. We cast it to\n",
    "  # floating point format here.\n",
    "  model.add(\n",
    "      tf.keras.layers.Lambda(lambda x: tf.keras.backend.cast(x, tf.float32)))\n",
    "  for num_units in hparams.num_fc_units:\n",
    "    model.add(tf.keras.layers.Dense(num_units, activation='relu'))\n",
    "    # For sequential models, by default, Keras ensures that the 'dropout' layer\n",
    "    # is invoked only during training.\n",
    "    model.add(tf.keras.layers.Dropout(hparams.dropout_rate))\n",
    "  model.add(tf.keras.layers.Dense(hparams.num_classes, activation='softmax'))\n",
    "  return model"
   ]
  },
  {
   "cell_type": "markdown",
   "metadata": {
    "colab_type": "text",
    "id": "FfZWxqVPiz_f"
   },
   "source": [
    "### Functional base model"
   ]
  },
  {
   "cell_type": "code",
   "execution_count": 14,
   "metadata": {
    "colab": {},
    "colab_type": "code",
    "id": "TU-YE4NXi7PK"
   },
   "outputs": [],
   "source": [
    "def make_mlp_functional_model(hparams):\n",
    "    \"\"\"Creates a functional API-based multi-layer perceptron model.\"\"\"\n",
    "    inputs = tf.keras.Input(shape=(hparams.max_seq_length,), dtype='int64', name='words')\n",
    "\n",
    "  # Input is already one-hot encoded in the integer format. We cast it to\n",
    "  # floating point format here.\n",
    "    cur_layer = tf.keras.layers.Lambda(\n",
    "      lambda x: tf.keras.backend.cast(x, tf.float32))(\n",
    "          inputs)\n",
    "\n",
    "    for num_units in hparams.num_fc_units:\n",
    "        cur_layer = tf.keras.layers.Dense(num_units, activation='relu')(cur_layer)\n",
    "        # For functional models, by default, Keras ensures that the 'dropout' layer\n",
    "        # is invoked only during training.\n",
    "        cur_layer = tf.keras.layers.Dropout(hparams.dropout_rate)(cur_layer)\n",
    "        cur_layer = tf.keras.layers.BatchNormalization()(cur_layer)\n",
    "\n",
    "    outputs = tf.keras.layers.Dense(\n",
    "      hparams.num_classes, activation='softmax')(\n",
    "          cur_layer)\n",
    "\n",
    "    model = tf.keras.Model(inputs, outputs=outputs)\n",
    "    return model"
   ]
  },
  {
   "cell_type": "code",
   "execution_count": 15,
   "metadata": {},
   "outputs": [],
   "source": [
    "# inputs = tf.keras.Input(\n",
    "#       shape=(1224,), dtype='int64', name='words')\n",
    "\n",
    "# cur_layer = tf.keras.layers.Lambda(\n",
    "#       lambda x: tf.keras.backend.cast(x, tf.float32))(\n",
    "#           inputs)\n",
    "\n",
    "# base_model = tf.keras.Sequential([\n",
    "#         tf.keras.layers.Dense(10, input_dim=inputs, activation=tf.nn.relu)(cur_layer),\n",
    "#         tf.keras.layers.BatchNormalization(),\n",
    "#         tf.keras.layers.Dropout(rate=0.5),\n",
    "#         tf.keras.layers.Dense(1, activation=tf.nn.softmax)\n",
    "#     ])"
   ]
  },
  {
   "cell_type": "markdown",
   "metadata": {
    "colab_type": "text",
    "id": "8LmAhITRi8M0"
   },
   "source": [
    "### Subclass base model"
   ]
  },
  {
   "cell_type": "code",
   "execution_count": 16,
   "metadata": {
    "colab": {},
    "colab_type": "code",
    "id": "4l1aK9b_jAw6"
   },
   "outputs": [],
   "source": [
    "def make_mlp_subclass_model(hparams):\n",
    "  \"\"\"Creates a multi-layer perceptron subclass model in Keras.\"\"\"\n",
    "\n",
    "  class MLP(tf.keras.Model):\n",
    "    \"\"\"Subclass model defining a multi-layer perceptron.\"\"\"\n",
    "\n",
    "    def __init__(self):\n",
    "      super(MLP, self).__init__()\n",
    "      # Input is already one-hot encoded in the integer format. We create a\n",
    "      # layer to cast it to floating point format here.\n",
    "      self.cast_to_float_layer = tf.keras.layers.Lambda(\n",
    "          lambda x: tf.keras.backend.cast(x, tf.float32))\n",
    "      self.dense_layers = [\n",
    "          tf.keras.layers.Dense(num_units, activation='relu')\n",
    "          for num_units in hparams.num_fc_units\n",
    "      ]\n",
    "      self.dropout_layer = tf.keras.layers.Dropout(hparams.dropout_rate)\n",
    "      self.output_layer = tf.keras.layers.Dense(\n",
    "          hparams.num_classes, activation='softmax')\n",
    "\n",
    "    def call(self, inputs, training=False):\n",
    "      cur_layer = self.cast_to_float_layer(inputs['words'])\n",
    "      for dense_layer in self.dense_layers:\n",
    "        cur_layer = dense_layer(cur_layer)\n",
    "        cur_layer = self.dropout_layer(cur_layer, training=training)\n",
    "\n",
    "      outputs = self.output_layer(cur_layer)\n",
    "\n",
    "      return outputs\n",
    "\n",
    "  return MLP()"
   ]
  },
  {
   "cell_type": "markdown",
   "metadata": {
    "colab_type": "text",
    "id": "BbGpIbscjIAo"
   },
   "source": [
    "## Create base model(s)"
   ]
  },
  {
   "cell_type": "code",
   "execution_count": 17,
   "metadata": {
    "colab": {},
    "colab_type": "code",
    "id": "fzMBxiMGjCO4"
   },
   "outputs": [
    {
     "name": "stdout",
     "output_type": "stream",
     "text": [
      "Model: \"model\"\n",
      "_________________________________________________________________\n",
      "Layer (type)                 Output Shape              Param #   \n",
      "=================================================================\n",
      "words (InputLayer)           [(None, 1224)]            0         \n",
      "_________________________________________________________________\n",
      "lambda (Lambda)              (None, 1224)              0         \n",
      "_________________________________________________________________\n",
      "dense (Dense)                (None, 50)                61250     \n",
      "_________________________________________________________________\n",
      "dropout (Dropout)            (None, 50)                0         \n",
      "_________________________________________________________________\n",
      "batch_normalization (BatchNo (None, 50)                200       \n",
      "_________________________________________________________________\n",
      "dense_1 (Dense)              (None, 50)                2550      \n",
      "_________________________________________________________________\n",
      "dropout_1 (Dropout)          (None, 50)                0         \n",
      "_________________________________________________________________\n",
      "batch_normalization_1 (Batch (None, 50)                200       \n",
      "_________________________________________________________________\n",
      "dense_2 (Dense)              (None, 8)                 408       \n",
      "=================================================================\n",
      "Total params: 64,608\n",
      "Trainable params: 64,408\n",
      "Non-trainable params: 200\n",
      "_________________________________________________________________\n"
     ]
    }
   ],
   "source": [
    "# Create a base MLP model using the functional API.\n",
    "# Alternatively, you can also create a sequential or subclass base model using\n",
    "# the make_mlp_sequential_model() or make_mlp_subclass_model() functions\n",
    "# respectively, defined above. Note that if a subclass model is used, its\n",
    "# summary cannot be generated until it is built.\n",
    "base_model_tag, base_model = 'FUNCTIONAL', make_mlp_functional_model(HPARAMS)\n",
    "base_model.summary()"
   ]
  },
  {
   "cell_type": "markdown",
   "metadata": {
    "colab_type": "text",
    "id": "T1uEboimjiW7"
   },
   "source": [
    "## Train base (Multilayer perceptron) MLP model"
   ]
  },
  {
   "cell_type": "code",
   "execution_count": 18,
   "metadata": {
    "colab": {},
    "colab_type": "code",
    "id": "JALapM4PoCvi",
    "scrolled": true
   },
   "outputs": [
    {
     "name": "stdout",
     "output_type": "stream",
     "text": [
      "Epoch 1/100\n",
      "WARNING:tensorflow:Entity <function Function._initialize_uninitialized_variables.<locals>.initialize_variables at 0x636533158> could not be transformed and will be executed as-is. Please report this to the AutoGraph team. When filing the bug, set the verbosity to 10 (on Linux, `export AUTOGRAPH_VERBOSITY=10`) and attach the full output. Cause: module 'gast' has no attribute 'Num'\n",
      "WARNING: Entity <function Function._initialize_uninitialized_variables.<locals>.initialize_variables at 0x636533158> could not be transformed and will be executed as-is. Please report this to the AutoGraph team. When filing the bug, set the verbosity to 10 (on Linux, `export AUTOGRAPH_VERBOSITY=10`) and attach the full output. Cause: module 'gast' has no attribute 'Num'\n",
      "85/85 [==============================] - 1s 15ms/step - loss: 2.5156 - accuracy: 0.1592\n",
      "Epoch 2/100\n",
      "85/85 [==============================] - 0s 3ms/step - loss: 1.9574 - accuracy: 0.3479\n",
      "Epoch 3/100\n",
      "85/85 [==============================] - 0s 3ms/step - loss: 1.6255 - accuracy: 0.5000\n",
      "Epoch 4/100\n",
      "85/85 [==============================] - 0s 3ms/step - loss: 1.4642 - accuracy: 0.5425\n",
      "Epoch 5/100\n",
      "85/85 [==============================] - 0s 3ms/step - loss: 1.3134 - accuracy: 0.5979\n",
      "Epoch 6/100\n",
      "85/85 [==============================] - 0s 3ms/step - loss: 1.3483 - accuracy: 0.6097\n",
      "Epoch 7/100\n",
      "85/85 [==============================] - 0s 3ms/step - loss: 1.2458 - accuracy: 0.6097\n",
      "Epoch 8/100\n",
      "85/85 [==============================] - 0s 3ms/step - loss: 1.2243 - accuracy: 0.6215\n",
      "Epoch 9/100\n",
      "85/85 [==============================] - 0s 3ms/step - loss: 1.1702 - accuracy: 0.6285\n",
      "Epoch 10/100\n",
      "85/85 [==============================] - 0s 3ms/step - loss: 1.1565 - accuracy: 0.6191\n",
      "Epoch 11/100\n",
      "85/85 [==============================] - 0s 3ms/step - loss: 1.1341 - accuracy: 0.6498\n",
      "Epoch 12/100\n",
      "85/85 [==============================] - 0s 4ms/step - loss: 1.1055 - accuracy: 0.6333\n",
      "Epoch 13/100\n",
      "85/85 [==============================] - 0s 3ms/step - loss: 1.0895 - accuracy: 0.6639\n",
      "Epoch 14/100\n",
      "85/85 [==============================] - 0s 3ms/step - loss: 1.1090 - accuracy: 0.6486\n",
      "Epoch 15/100\n",
      "85/85 [==============================] - 0s 3ms/step - loss: 1.0988 - accuracy: 0.6580\n",
      "Epoch 16/100\n",
      "85/85 [==============================] - 0s 3ms/step - loss: 1.0282 - accuracy: 0.6698\n",
      "Epoch 17/100\n",
      "85/85 [==============================] - 0s 3ms/step - loss: 1.0755 - accuracy: 0.6616\n",
      "Epoch 18/100\n",
      "85/85 [==============================] - 0s 3ms/step - loss: 1.0598 - accuracy: 0.6604\n",
      "Epoch 19/100\n",
      "85/85 [==============================] - 0s 3ms/step - loss: 1.0486 - accuracy: 0.6627\n",
      "Epoch 20/100\n",
      "85/85 [==============================] - 0s 3ms/step - loss: 1.0624 - accuracy: 0.6592\n",
      "Epoch 21/100\n",
      "85/85 [==============================] - 0s 3ms/step - loss: 1.0658 - accuracy: 0.6651\n",
      "Epoch 22/100\n",
      "85/85 [==============================] - 0s 3ms/step - loss: 1.0377 - accuracy: 0.6568\n",
      "Epoch 23/100\n",
      "85/85 [==============================] - 0s 3ms/step - loss: 1.0527 - accuracy: 0.6663\n",
      "Epoch 24/100\n",
      "85/85 [==============================] - 0s 4ms/step - loss: 1.0056 - accuracy: 0.6675\n",
      "Epoch 25/100\n",
      "85/85 [==============================] - 0s 4ms/step - loss: 1.0142 - accuracy: 0.6710\n",
      "Epoch 26/100\n",
      "85/85 [==============================] - 0s 3ms/step - loss: 0.9889 - accuracy: 0.6769\n",
      "Epoch 27/100\n",
      "85/85 [==============================] - 0s 4ms/step - loss: 1.0017 - accuracy: 0.6781\n",
      "Epoch 28/100\n",
      "85/85 [==============================] - 0s 3ms/step - loss: 1.0136 - accuracy: 0.6804\n",
      "Epoch 29/100\n",
      "85/85 [==============================] - 0s 3ms/step - loss: 0.9959 - accuracy: 0.6722\n",
      "Epoch 30/100\n",
      "85/85 [==============================] - 0s 4ms/step - loss: 0.9668 - accuracy: 0.6710\n",
      "Epoch 31/100\n",
      "85/85 [==============================] - 0s 3ms/step - loss: 1.0009 - accuracy: 0.6663\n",
      "Epoch 32/100\n",
      "85/85 [==============================] - 0s 4ms/step - loss: 1.0009 - accuracy: 0.6733\n",
      "Epoch 33/100\n",
      "85/85 [==============================] - 0s 4ms/step - loss: 1.0077 - accuracy: 0.6698\n",
      "Epoch 34/100\n",
      "85/85 [==============================] - 0s 3ms/step - loss: 0.9811 - accuracy: 0.6934\n",
      "Epoch 35/100\n",
      "85/85 [==============================] - 0s 4ms/step - loss: 0.9714 - accuracy: 0.6733\n",
      "Epoch 36/100\n",
      "85/85 [==============================] - 0s 3ms/step - loss: 0.9647 - accuracy: 0.6875\n",
      "Epoch 37/100\n",
      "85/85 [==============================] - 0s 3ms/step - loss: 0.9824 - accuracy: 0.6698\n",
      "Epoch 38/100\n",
      "85/85 [==============================] - 0s 4ms/step - loss: 0.9609 - accuracy: 0.6769\n",
      "Epoch 39/100\n",
      "85/85 [==============================] - 0s 3ms/step - loss: 0.9487 - accuracy: 0.6828\n",
      "Epoch 40/100\n",
      "85/85 [==============================] - 0s 3ms/step - loss: 0.9792 - accuracy: 0.6745\n",
      "Epoch 41/100\n",
      "85/85 [==============================] - 0s 3ms/step - loss: 0.9636 - accuracy: 0.6863\n",
      "Epoch 42/100\n",
      "85/85 [==============================] - 0s 4ms/step - loss: 0.9537 - accuracy: 0.6851\n",
      "Epoch 43/100\n",
      "85/85 [==============================] - 0s 4ms/step - loss: 0.9218 - accuracy: 0.6899\n",
      "Epoch 44/100\n",
      "85/85 [==============================] - 0s 3ms/step - loss: 0.9674 - accuracy: 0.6816\n",
      "Epoch 45/100\n",
      "85/85 [==============================] - 0s 3ms/step - loss: 0.9469 - accuracy: 0.6851\n",
      "Epoch 46/100\n",
      "85/85 [==============================] - 0s 3ms/step - loss: 0.9755 - accuracy: 0.6804\n",
      "Epoch 47/100\n",
      "85/85 [==============================] - 0s 3ms/step - loss: 0.9657 - accuracy: 0.6757\n",
      "Epoch 48/100\n",
      "85/85 [==============================] - 0s 3ms/step - loss: 0.9418 - accuracy: 0.6887\n",
      "Epoch 49/100\n",
      "85/85 [==============================] - 0s 3ms/step - loss: 0.9482 - accuracy: 0.6910\n",
      "Epoch 50/100\n",
      "85/85 [==============================] - 0s 3ms/step - loss: 0.9472 - accuracy: 0.6840\n",
      "Epoch 51/100\n",
      "85/85 [==============================] - 0s 3ms/step - loss: 0.9380 - accuracy: 0.6875\n",
      "Epoch 52/100\n",
      "85/85 [==============================] - 0s 3ms/step - loss: 0.9299 - accuracy: 0.6910\n",
      "Epoch 53/100\n",
      "85/85 [==============================] - 0s 3ms/step - loss: 0.9175 - accuracy: 0.6910\n",
      "Epoch 54/100\n",
      "85/85 [==============================] - 0s 3ms/step - loss: 0.8957 - accuracy: 0.7028\n",
      "Epoch 55/100\n",
      "85/85 [==============================] - 0s 3ms/step - loss: 0.9405 - accuracy: 0.6934\n",
      "Epoch 56/100\n",
      "85/85 [==============================] - 0s 3ms/step - loss: 0.9081 - accuracy: 0.6946\n",
      "Epoch 57/100\n",
      "85/85 [==============================] - 0s 3ms/step - loss: 0.8988 - accuracy: 0.6993\n",
      "Epoch 58/100\n",
      "85/85 [==============================] - 0s 3ms/step - loss: 0.9023 - accuracy: 0.6993\n",
      "Epoch 59/100\n",
      "85/85 [==============================] - 0s 3ms/step - loss: 0.9090 - accuracy: 0.7017\n",
      "Epoch 60/100\n",
      "85/85 [==============================] - 0s 3ms/step - loss: 0.9152 - accuracy: 0.7028\n",
      "Epoch 61/100\n",
      "85/85 [==============================] - 0s 3ms/step - loss: 0.8980 - accuracy: 0.7028\n",
      "Epoch 62/100\n",
      "85/85 [==============================] - 0s 3ms/step - loss: 0.9001 - accuracy: 0.6958\n",
      "Epoch 63/100\n",
      "85/85 [==============================] - 0s 3ms/step - loss: 0.9138 - accuracy: 0.6910\n",
      "Epoch 64/100\n",
      "85/85 [==============================] - 0s 4ms/step - loss: 0.8911 - accuracy: 0.6981\n",
      "Epoch 65/100\n",
      "85/85 [==============================] - 0s 3ms/step - loss: 0.8858 - accuracy: 0.6981\n",
      "Epoch 66/100\n",
      "85/85 [==============================] - 0s 3ms/step - loss: 0.9119 - accuracy: 0.6969\n",
      "Epoch 67/100\n",
      "85/85 [==============================] - 0s 4ms/step - loss: 0.9026 - accuracy: 0.7017\n",
      "Epoch 68/100\n",
      "85/85 [==============================] - 0s 4ms/step - loss: 0.8971 - accuracy: 0.7052\n",
      "Epoch 69/100\n",
      "85/85 [==============================] - 0s 4ms/step - loss: 0.8953 - accuracy: 0.6910\n",
      "Epoch 70/100\n",
      "85/85 [==============================] - 0s 4ms/step - loss: 0.9021 - accuracy: 0.6981\n",
      "Epoch 71/100\n",
      "85/85 [==============================] - 0s 4ms/step - loss: 0.9168 - accuracy: 0.7040\n",
      "Epoch 72/100\n",
      "85/85 [==============================] - 0s 3ms/step - loss: 0.8683 - accuracy: 0.7193\n",
      "Epoch 73/100\n",
      "85/85 [==============================] - 0s 4ms/step - loss: 0.8679 - accuracy: 0.6993\n",
      "Epoch 74/100\n",
      "85/85 [==============================] - 0s 4ms/step - loss: 0.8698 - accuracy: 0.6934\n",
      "Epoch 75/100\n"
     ]
    },
    {
     "name": "stdout",
     "output_type": "stream",
     "text": [
      "85/85 [==============================] - 0s 4ms/step - loss: 0.8574 - accuracy: 0.7170\n",
      "Epoch 76/100\n",
      "85/85 [==============================] - 0s 4ms/step - loss: 0.9214 - accuracy: 0.6722\n",
      "Epoch 77/100\n",
      "85/85 [==============================] - 0s 4ms/step - loss: 0.8827 - accuracy: 0.7170\n",
      "Epoch 78/100\n",
      "85/85 [==============================] - 0s 4ms/step - loss: 0.8964 - accuracy: 0.7040\n",
      "Epoch 79/100\n",
      "85/85 [==============================] - 0s 4ms/step - loss: 0.8783 - accuracy: 0.7087\n",
      "Epoch 80/100\n",
      "85/85 [==============================] - 0s 3ms/step - loss: 0.8604 - accuracy: 0.7170\n",
      "Epoch 81/100\n",
      "85/85 [==============================] - 0s 3ms/step - loss: 0.8615 - accuracy: 0.7064\n",
      "Epoch 82/100\n",
      "85/85 [==============================] - 0s 3ms/step - loss: 0.8969 - accuracy: 0.7170\n",
      "Epoch 83/100\n",
      "85/85 [==============================] - 0s 3ms/step - loss: 0.8591 - accuracy: 0.7205\n",
      "Epoch 84/100\n",
      "85/85 [==============================] - 0s 3ms/step - loss: 0.8668 - accuracy: 0.7064\n",
      "Epoch 85/100\n",
      "85/85 [==============================] - 0s 3ms/step - loss: 0.8321 - accuracy: 0.7276\n",
      "Epoch 86/100\n",
      "85/85 [==============================] - 0s 3ms/step - loss: 0.8787 - accuracy: 0.6993\n",
      "Epoch 87/100\n",
      "85/85 [==============================] - 0s 4ms/step - loss: 0.8759 - accuracy: 0.6993\n",
      "Epoch 88/100\n",
      "85/85 [==============================] - 0s 3ms/step - loss: 0.8810 - accuracy: 0.7028\n",
      "Epoch 89/100\n",
      "85/85 [==============================] - 0s 3ms/step - loss: 0.8664 - accuracy: 0.7075\n",
      "Epoch 90/100\n",
      "85/85 [==============================] - 0s 4ms/step - loss: 0.8877 - accuracy: 0.7064\n",
      "Epoch 91/100\n",
      "85/85 [==============================] - 0s 4ms/step - loss: 0.8743 - accuracy: 0.6993\n",
      "Epoch 92/100\n",
      "85/85 [==============================] - 0s 4ms/step - loss: 0.8566 - accuracy: 0.7134\n",
      "Epoch 93/100\n",
      "85/85 [==============================] - 0s 3ms/step - loss: 0.8569 - accuracy: 0.7005\n",
      "Epoch 94/100\n",
      "85/85 [==============================] - 0s 4ms/step - loss: 0.8111 - accuracy: 0.7288\n",
      "Epoch 95/100\n",
      "85/85 [==============================] - 0s 4ms/step - loss: 0.8438 - accuracy: 0.7064\n",
      "Epoch 96/100\n",
      "85/85 [==============================] - 0s 3ms/step - loss: 0.8840 - accuracy: 0.7064\n",
      "Epoch 97/100\n",
      "85/85 [==============================] - 0s 2ms/step - loss: 0.8427 - accuracy: 0.7087\n",
      "Epoch 98/100\n",
      "85/85 [==============================] - 0s 3ms/step - loss: 0.8578 - accuracy: 0.7028\n",
      "Epoch 99/100\n",
      "85/85 [==============================] - 0s 3ms/step - loss: 0.8591 - accuracy: 0.7005\n",
      "Epoch 100/100\n",
      "85/85 [==============================] - 0s 3ms/step - loss: 0.8586 - accuracy: 0.7170\n"
     ]
    },
    {
     "data": {
      "text/plain": [
       "<tensorflow.python.keras.callbacks.History at 0x63647c240>"
      ]
     },
     "execution_count": 18,
     "metadata": {},
     "output_type": "execute_result"
    }
   ],
   "source": [
    "# Compile and train the base MLP model\n",
    "base_model.compile(\n",
    "    optimizer='adam',\n",
    "    #sparse_categorical_crossentropy\n",
    "    #categorical_crossentropy\n",
    "    loss='sparse_categorical_crossentropy',\n",
    "    metrics=['accuracy'])\n",
    "base_model.fit(train_dataset, epochs=HPARAMS.train_epochs, verbose=1) \n",
    "# history = base_model.fit(X, Y, validation_split=0.33, epochs=150, batch_size=10, verbose=1)\n",
    "# history = base_model.fit(train_dataset, test_dataset, validation_split=0.33, epochs=50)"
   ]
  },
  {
   "cell_type": "code",
   "execution_count": 19,
   "metadata": {},
   "outputs": [
    {
     "data": {
      "text/plain": [
       "<Figure size 640x480 with 1 Axes>"
      ]
     },
     "metadata": {},
     "output_type": "display_data"
    },
    {
     "data": {
      "text/plain": [
       "<Figure size 640x480 with 1 Axes>"
      ]
     },
     "metadata": {},
     "output_type": "display_data"
    }
   ],
   "source": [
    "# base_model.history.history['accuracy']\n",
    "\n",
    "import matplotlib.pyplot as plt\n",
    "# summarize history for accuracy\n",
    "plt.plot(base_model.history.history['accuracy'])\n",
    "\n",
    "plt.title('model accuracy')\n",
    "plt.ylabel('accuracy')\n",
    "plt.xlabel('epoch')\n",
    "plt.legend(['accuracy', 'loss'], loc='upper left')\n",
    "plt.show()\n",
    "\n",
    "plt.plot(base_model.history.history['loss'])\n",
    "plt.title('loss')\n",
    "plt.ylabel('accuracy')\n",
    "plt.xlabel('epoch')\n",
    "plt.legend(['loss'], loc='upper left')\n",
    "plt.show()"
   ]
  },
  {
   "cell_type": "markdown",
   "metadata": {
    "colab_type": "text",
    "id": "gPRioqydQD_8"
   },
   "source": [
    "## Evaluate base MLP model"
   ]
  },
  {
   "cell_type": "code",
   "execution_count": 20,
   "metadata": {
    "colab": {},
    "colab_type": "code",
    "id": "2NcsJVt6FSmZ"
   },
   "outputs": [],
   "source": [
    "# Helper function to print evaluation metrics.\n",
    "def print_metrics(model_desc, eval_metrics):\n",
    "  \"\"\"Prints evaluation metrics.\n",
    "\n",
    "  Args:\n",
    "    model_desc: A description of the model.\n",
    "    eval_metrics: A dictionary mapping metric names to corresponding values. It\n",
    "      must contain the loss and accuracy metrics.\n",
    "  \"\"\"\n",
    "  print('\\n')\n",
    "  print('Eval accuracy for ', model_desc, ': ', eval_metrics['accuracy'])\n",
    "  print('Eval loss for ', model_desc, ': ', eval_metrics['loss'])\n",
    "  if 'graph_loss' in eval_metrics:\n",
    "    print('Eval graph loss for ', model_desc, ': ', eval_metrics['graph_loss'])"
   ]
  },
  {
   "cell_type": "code",
   "execution_count": 21,
   "metadata": {
    "colab": {},
    "colab_type": "code",
    "id": "-myfttwIQAwc"
   },
   "outputs": [
    {
     "name": "stdout",
     "output_type": "stream",
     "text": [
      "51/51 [==============================] - 0s 5ms/step - loss: 3.0454 - accuracy: 0.2436\n",
      "\n",
      "\n",
      "Eval accuracy for  Base MLP model :  0.24356435\n",
      "Eval loss for  Base MLP model :  3.0454278845413056\n"
     ]
    }
   ],
   "source": [
    "eval_results = dict(\n",
    "    zip(base_model.metrics_names,\n",
    "        base_model.evaluate(test_dataset, steps=HPARAMS.eval_steps)))\n",
    "print_metrics('Base MLP model', eval_results)"
   ]
  },
  {
   "cell_type": "code",
   "execution_count": 22,
   "metadata": {},
   "outputs": [
    {
     "data": {
      "text/plain": [
       "0.24356435"
      ]
     },
     "execution_count": 22,
     "metadata": {},
     "output_type": "execute_result"
    }
   ],
   "source": [
    "eval_results['accuracy']"
   ]
  },
  {
   "cell_type": "code",
   "execution_count": 23,
   "metadata": {},
   "outputs": [
    {
     "name": "stdout",
     "output_type": "stream",
     "text": [
      "3/3 [==============================] - 0s 3ms/step - loss: 3.9653 - accuracy: 0.1000\n"
     ]
    },
    {
     "data": {
      "text/plain": [
       "[3.9653123219807944, 0.1]"
      ]
     },
     "execution_count": 23,
     "metadata": {},
     "output_type": "execute_result"
    }
   ],
   "source": [
    "base_model.evaluate(test_dataset, steps=3)"
   ]
  },
  {
   "cell_type": "code",
   "execution_count": 24,
   "metadata": {},
   "outputs": [
    {
     "data": {
      "image/png": "[encoded data removed]",
      "text/plain": [
       "<Figure size 432x288 with 1 Axes>"
      ]
     },
     "metadata": {
      "needs_background": "light"
     },
     "output_type": "display_data"
    },
    {
     "data": {
      "image/png": "[encoded data removed]",
      "text/plain": [
       "<Figure size 432x288 with 1 Axes>"
      ]
     },
     "metadata": {
      "needs_background": "light"
     },
     "output_type": "display_data"
    }
   ],
   "source": [
    "import matplotlib.pyplot as plt\n",
    "# summarize history for accuracy\n",
    "plt.plot(base_model.history.history['accuracy'])\n",
    "\n",
    "plt.title('model accuracy')\n",
    "plt.ylabel('accuracy')\n",
    "plt.xlabel('epoch')\n",
    "plt.legend(['accuracy', 'loss'], loc='upper left')\n",
    "plt.show()\n",
    "\n",
    "plt.plot(base_model.history.history['loss'])\n",
    "plt.title('loss')\n",
    "plt.ylabel('accuracy')\n",
    "plt.xlabel('epoch')\n",
    "plt.legend(['loss'], loc='upper left')\n",
    "plt.show()"
   ]
  },
  {
   "cell_type": "markdown",
   "metadata": {
    "colab_type": "text",
    "id": "bGwSzS9Spaiu"
   },
   "source": [
    "## Train MLP model with graph regularization\n",
    "\n",
    "Incorporating graph regularization into the loss term of an existing\n",
    "`tf.Keras.Model` requires just a few lines of code. The base model is wrapped to\n",
    "create a new `tf.Keras` subclass model, whose loss includes graph\n",
    "regularization."
   ]
  },
  {
   "cell_type": "markdown",
   "metadata": {
    "colab_type": "text",
    "id": "vuIGN8KQH0jR"
   },
   "source": [
    "To assess the incremental benefit of graph regularization, we will create a new\n",
    "base model instance. This is because `base_model` has already been trained for a\n",
    "few iterations, and reusing this trained model to create a graph-regularized\n",
    "model will not be a fair comparison for `base_model`."
   ]
  },
  {
   "cell_type": "code",
   "execution_count": 25,
   "metadata": {
    "colab": {},
    "colab_type": "code",
    "id": "6fvLei9dLCH0"
   },
   "outputs": [],
   "source": [
    "# Build a new base MLP model.\n",
    "base_reg_model_tag, base_reg_model = 'FUNCTIONAL', make_mlp_functional_model(\n",
    "    HPARAMS)"
   ]
  },
  {
   "cell_type": "code",
   "execution_count": 26,
   "metadata": {
    "colab": {},
    "colab_type": "code",
    "id": "HT3mpC8Lo1UZ",
    "scrolled": true
   },
   "outputs": [
    {
     "name": "stdout",
     "output_type": "stream",
     "text": [
      "WARNING:tensorflow:Entity <bound method GraphRegularization.call of <neural_structured_learning.keras.graph_regularization.GraphRegularization object at 0x63859c4e0>> could not be transformed and will be executed as-is. Please report this to the AutoGraph team. When filing the bug, set the verbosity to 10 (on Linux, `export AUTOGRAPH_VERBOSITY=10`) and attach the full output. Cause: Bad argument number for Name: 3, expecting 4\n",
      "WARNING: Entity <bound method GraphRegularization.call of <neural_structured_learning.keras.graph_regularization.GraphRegularization object at 0x63859c4e0>> could not be transformed and will be executed as-is. Please report this to the AutoGraph team. When filing the bug, set the verbosity to 10 (on Linux, `export AUTOGRAPH_VERBOSITY=10`) and attach the full output. Cause: Bad argument number for Name: 3, expecting 4\n",
      "WARNING:tensorflow:From /Users/johanweisshansen/anaconda3/lib/python3.7/site-packages/tensorflow_core/python/ops/losses/losses_impl.py:121: where (from tensorflow.python.ops.array_ops) is deprecated and will be removed in a future version.\n",
      "Instructions for updating:\n",
      "Use tf.where in 2.0, which has the same broadcast rule as np.where\n",
      "Epoch 1/100\n"
     ]
    },
    {
     "name": "stderr",
     "output_type": "stream",
     "text": [
      "/Users/johanweisshansen/anaconda3/lib/python3.7/site-packages/tensorflow_core/python/framework/indexed_slices.py:424: UserWarning: Converting sparse IndexedSlices to a dense Tensor of unknown shape. This may consume a large amount of memory.\n",
      "  \"Converting sparse IndexedSlices to a dense Tensor of unknown shape. \"\n"
     ]
    },
    {
     "name": "stdout",
     "output_type": "stream",
     "text": [
      "WARNING:tensorflow:Entity <function Function._initialize_uninitialized_variables.<locals>.initialize_variables at 0x63890db70> could not be transformed and will be executed as-is. Please report this to the AutoGraph team. When filing the bug, set the verbosity to 10 (on Linux, `export AUTOGRAPH_VERBOSITY=10`) and attach the full output. Cause: module 'gast' has no attribute 'Num'\n",
      "WARNING: Entity <function Function._initialize_uninitialized_variables.<locals>.initialize_variables at 0x63890db70> could not be transformed and will be executed as-is. Please report this to the AutoGraph team. When filing the bug, set the verbosity to 10 (on Linux, `export AUTOGRAPH_VERBOSITY=10`) and attach the full output. Cause: module 'gast' has no attribute 'Num'\n"
     ]
    },
    {
     "name": "stderr",
     "output_type": "stream",
     "text": [
      "/Users/johanweisshansen/anaconda3/lib/python3.7/site-packages/tensorflow_core/python/framework/indexed_slices.py:424: UserWarning: Converting sparse IndexedSlices to a dense Tensor of unknown shape. This may consume a large amount of memory.\n",
      "  \"Converting sparse IndexedSlices to a dense Tensor of unknown shape. \"\n"
     ]
    },
    {
     "name": "stdout",
     "output_type": "stream",
     "text": [
      "85/85 [==============================] - 4s 42ms/step - loss: 2.3727 - accuracy: 0.2064 - graph_loss: 0.2689\n",
      "Epoch 2/100\n",
      "85/85 [==============================] - 0s 4ms/step - loss: 1.8879 - accuracy: 0.3526 - graph_loss: 0.2359\n",
      "Epoch 3/100\n",
      "85/85 [==============================] - 0s 4ms/step - loss: 1.5708 - accuracy: 0.5165 - graph_loss: 0.2160\n",
      "Epoch 4/100\n",
      "85/85 [==============================] - 0s 4ms/step - loss: 1.3688 - accuracy: 0.5719 - graph_loss: 0.1944\n",
      "Epoch 5/100\n",
      "85/85 [==============================] - 0s 4ms/step - loss: 1.3323 - accuracy: 0.6038 - graph_loss: 0.1655\n",
      "Epoch 6/100\n",
      "85/85 [==============================] - 0s 5ms/step - loss: 1.2470 - accuracy: 0.6250 - graph_loss: 0.1504\n",
      "Epoch 7/100\n",
      "85/85 [==============================] - 0s 5ms/step - loss: 1.2133 - accuracy: 0.6274 - graph_loss: 0.1338\n",
      "Epoch 8/100\n",
      "85/85 [==============================] - 0s 5ms/step - loss: 1.1802 - accuracy: 0.6392 - graph_loss: 0.1166\n",
      "Epoch 9/100\n",
      "85/85 [==============================] - 0s 5ms/step - loss: 1.1689 - accuracy: 0.6380 - graph_loss: 0.1009\n",
      "Epoch 10/100\n",
      "85/85 [==============================] - 0s 6ms/step - loss: 1.1238 - accuracy: 0.6604 - graph_loss: 0.0953\n",
      "Epoch 11/100\n",
      "85/85 [==============================] - 0s 5ms/step - loss: 1.1210 - accuracy: 0.6533 - graph_loss: 0.0978\n",
      "Epoch 12/100\n",
      "85/85 [==============================] - 0s 5ms/step - loss: 1.1171 - accuracy: 0.6604 - graph_loss: 0.0879\n",
      "Epoch 13/100\n",
      "85/85 [==============================] - 0s 4ms/step - loss: 1.1025 - accuracy: 0.6568 - graph_loss: 0.0773\n",
      "Epoch 14/100\n",
      "85/85 [==============================] - 0s 5ms/step - loss: 1.1004 - accuracy: 0.6580 - graph_loss: 0.0776\n",
      "Epoch 15/100\n",
      "85/85 [==============================] - 0s 6ms/step - loss: 1.0624 - accuracy: 0.6568 - graph_loss: 0.0766\n",
      "Epoch 16/100\n",
      "85/85 [==============================] - 0s 6ms/step - loss: 1.0193 - accuracy: 0.6592 - graph_loss: 0.0694\n",
      "Epoch 17/100\n",
      "85/85 [==============================] - 0s 5ms/step - loss: 1.0329 - accuracy: 0.6616 - graph_loss: 0.0664\n",
      "Epoch 18/100\n",
      "85/85 [==============================] - 0s 4ms/step - loss: 1.0616 - accuracy: 0.6580 - graph_loss: 0.0720\n",
      "Epoch 19/100\n",
      "85/85 [==============================] - 0s 4ms/step - loss: 1.0487 - accuracy: 0.6663 - graph_loss: 0.0658\n",
      "Epoch 20/100\n",
      "85/85 [==============================] - 0s 4ms/step - loss: 1.0268 - accuracy: 0.6663 - graph_loss: 0.0697\n",
      "Epoch 21/100\n",
      "85/85 [==============================] - 0s 4ms/step - loss: 1.0357 - accuracy: 0.6592 - graph_loss: 0.0674\n",
      "Epoch 22/100\n",
      "85/85 [==============================] - 0s 4ms/step - loss: 0.9997 - accuracy: 0.6899 - graph_loss: 0.0743\n",
      "Epoch 23/100\n",
      "85/85 [==============================] - 0s 4ms/step - loss: 1.0133 - accuracy: 0.6722 - graph_loss: 0.0716\n",
      "Epoch 24/100\n",
      "85/85 [==============================] - 0s 4ms/step - loss: 1.0192 - accuracy: 0.6675 - graph_loss: 0.0720\n",
      "Epoch 25/100\n",
      "85/85 [==============================] - 0s 4ms/step - loss: 1.0178 - accuracy: 0.6710 - graph_loss: 0.0683\n",
      "Epoch 26/100\n",
      "85/85 [==============================] - 0s 4ms/step - loss: 1.0223 - accuracy: 0.6698 - graph_loss: 0.0681\n",
      "Epoch 27/100\n",
      "85/85 [==============================] - 0s 4ms/step - loss: 1.0107 - accuracy: 0.6675 - graph_loss: 0.0617\n",
      "Epoch 28/100\n",
      "85/85 [==============================] - 0s 4ms/step - loss: 1.0160 - accuracy: 0.6828 - graph_loss: 0.0677\n",
      "Epoch 29/100\n",
      "85/85 [==============================] - 0s 4ms/step - loss: 1.0292 - accuracy: 0.6627 - graph_loss: 0.0701\n",
      "Epoch 30/100\n",
      "85/85 [==============================] - 0s 4ms/step - loss: 1.0198 - accuracy: 0.6781 - graph_loss: 0.0639\n",
      "Epoch 31/100\n",
      "85/85 [==============================] - 0s 4ms/step - loss: 1.0019 - accuracy: 0.6686 - graph_loss: 0.0693\n",
      "Epoch 32/100\n",
      "85/85 [==============================] - 0s 4ms/step - loss: 0.9872 - accuracy: 0.6757 - graph_loss: 0.0650\n",
      "Epoch 33/100\n",
      "85/85 [==============================] - 0s 4ms/step - loss: 0.9759 - accuracy: 0.6840 - graph_loss: 0.0741\n",
      "Epoch 34/100\n",
      "85/85 [==============================] - 0s 4ms/step - loss: 0.9720 - accuracy: 0.6816 - graph_loss: 0.0708\n",
      "Epoch 35/100\n",
      "85/85 [==============================] - 0s 4ms/step - loss: 0.9653 - accuracy: 0.6745 - graph_loss: 0.0749\n",
      "Epoch 36/100\n",
      "85/85 [==============================] - 0s 4ms/step - loss: 1.0036 - accuracy: 0.6828 - graph_loss: 0.0757\n",
      "Epoch 37/100\n",
      "85/85 [==============================] - 0s 4ms/step - loss: 0.9488 - accuracy: 0.6910 - graph_loss: 0.0852\n",
      "Epoch 38/100\n",
      "85/85 [==============================] - 0s 4ms/step - loss: 0.9527 - accuracy: 0.6875 - graph_loss: 0.0852\n",
      "Epoch 39/100\n",
      "85/85 [==============================] - 0s 4ms/step - loss: 0.9574 - accuracy: 0.6969 - graph_loss: 0.0796\n",
      "Epoch 40/100\n",
      "85/85 [==============================] - 0s 4ms/step - loss: 0.9624 - accuracy: 0.6922 - graph_loss: 0.0872\n",
      "Epoch 41/100\n",
      "85/85 [==============================] - 0s 4ms/step - loss: 0.9494 - accuracy: 0.6804 - graph_loss: 0.0845\n",
      "Epoch 42/100\n",
      "85/85 [==============================] - 0s 4ms/step - loss: 0.9577 - accuracy: 0.6851 - graph_loss: 0.0782\n",
      "Epoch 43/100\n",
      "85/85 [==============================] - 0s 4ms/step - loss: 0.9353 - accuracy: 0.6922 - graph_loss: 0.0852\n",
      "Epoch 44/100\n",
      "85/85 [==============================] - 0s 4ms/step - loss: 0.9385 - accuracy: 0.6910 - graph_loss: 0.0868\n",
      "Epoch 45/100\n",
      "85/85 [==============================] - 0s 4ms/step - loss: 0.9322 - accuracy: 0.6934 - graph_loss: 0.0943\n",
      "Epoch 46/100\n",
      "85/85 [==============================] - 0s 4ms/step - loss: 0.9056 - accuracy: 0.6993 - graph_loss: 0.0906\n",
      "Epoch 47/100\n",
      "85/85 [==============================] - 0s 4ms/step - loss: 0.9431 - accuracy: 0.6840 - graph_loss: 0.0918\n",
      "Epoch 48/100\n",
      "85/85 [==============================] - 0s 4ms/step - loss: 0.9332 - accuracy: 0.6922 - graph_loss: 0.0927\n",
      "Epoch 49/100\n",
      "85/85 [==============================] - 0s 4ms/step - loss: 0.9245 - accuracy: 0.6922 - graph_loss: 0.0913\n",
      "Epoch 50/100\n",
      "85/85 [==============================] - 0s 5ms/step - loss: 0.9205 - accuracy: 0.7028 - graph_loss: 0.0904\n",
      "Epoch 51/100\n",
      "85/85 [==============================] - 0s 5ms/step - loss: 0.9105 - accuracy: 0.6934 - graph_loss: 0.0996\n",
      "Epoch 52/100\n",
      "85/85 [==============================] - 0s 4ms/step - loss: 0.9226 - accuracy: 0.6840 - graph_loss: 0.0933\n",
      "Epoch 53/100\n",
      "85/85 [==============================] - 0s 4ms/step - loss: 0.9240 - accuracy: 0.6899 - graph_loss: 0.0922\n",
      "Epoch 54/100\n",
      "85/85 [==============================] - 0s 4ms/step - loss: 0.9400 - accuracy: 0.6969 - graph_loss: 0.1006\n",
      "Epoch 55/100\n",
      "85/85 [==============================] - 0s 5ms/step - loss: 0.9049 - accuracy: 0.6993 - graph_loss: 0.0966\n",
      "Epoch 56/100\n",
      "85/85 [==============================] - 0s 4ms/step - loss: 0.8989 - accuracy: 0.7087 - graph_loss: 0.1064\n",
      "Epoch 57/100\n",
      "85/85 [==============================] - 0s 4ms/step - loss: 0.9185 - accuracy: 0.7005 - graph_loss: 0.1085\n",
      "Epoch 58/100\n",
      "85/85 [==============================] - 0s 4ms/step - loss: 0.9064 - accuracy: 0.7040 - graph_loss: 0.0947\n",
      "Epoch 59/100\n",
      "85/85 [==============================] - 0s 4ms/step - loss: 0.8919 - accuracy: 0.6899 - graph_loss: 0.1048\n",
      "Epoch 60/100\n",
      "85/85 [==============================] - 0s 4ms/step - loss: 0.9179 - accuracy: 0.7040 - graph_loss: 0.1156\n",
      "Epoch 61/100\n",
      "85/85 [==============================] - 0s 4ms/step - loss: 0.8982 - accuracy: 0.7064 - graph_loss: 0.1056\n",
      "Epoch 62/100\n",
      "85/85 [==============================] - 0s 3ms/step - loss: 0.8809 - accuracy: 0.7052 - graph_loss: 0.1038\n",
      "Epoch 63/100\n",
      "85/85 [==============================] - 0s 5ms/step - loss: 0.9009 - accuracy: 0.7111 - graph_loss: 0.1136\n",
      "Epoch 64/100\n",
      "85/85 [==============================] - 0s 5ms/step - loss: 0.8876 - accuracy: 0.7193 - graph_loss: 0.1171\n",
      "Epoch 65/100\n",
      "85/85 [==============================] - 0s 5ms/step - loss: 0.8878 - accuracy: 0.6993 - graph_loss: 0.1067\n",
      "Epoch 66/100\n",
      "85/85 [==============================] - 0s 4ms/step - loss: 0.8915 - accuracy: 0.6969 - graph_loss: 0.1112\n",
      "Epoch 67/100\n",
      "85/85 [==============================] - 0s 5ms/step - loss: 0.8782 - accuracy: 0.7146 - graph_loss: 0.1142\n",
      "Epoch 68/100\n"
     ]
    },
    {
     "name": "stdout",
     "output_type": "stream",
     "text": [
      "85/85 [==============================] - 0s 4ms/step - loss: 0.8953 - accuracy: 0.6899 - graph_loss: 0.1114\n",
      "Epoch 69/100\n",
      "85/85 [==============================] - 0s 3ms/step - loss: 0.9022 - accuracy: 0.6910 - graph_loss: 0.1032\n",
      "Epoch 70/100\n",
      "85/85 [==============================] - 0s 4ms/step - loss: 0.8756 - accuracy: 0.7111 - graph_loss: 0.1171\n",
      "Epoch 71/100\n",
      "85/85 [==============================] - 0s 4ms/step - loss: 0.8968 - accuracy: 0.7099 - graph_loss: 0.1118\n",
      "Epoch 72/100\n",
      "85/85 [==============================] - 0s 4ms/step - loss: 0.8749 - accuracy: 0.7123 - graph_loss: 0.1100\n",
      "Epoch 73/100\n",
      "85/85 [==============================] - 0s 4ms/step - loss: 0.8752 - accuracy: 0.7146 - graph_loss: 0.1282\n",
      "Epoch 74/100\n",
      "85/85 [==============================] - 0s 4ms/step - loss: 0.8994 - accuracy: 0.7099 - graph_loss: 0.1219\n",
      "Epoch 75/100\n",
      "85/85 [==============================] - 0s 4ms/step - loss: 0.8855 - accuracy: 0.7182 - graph_loss: 0.1178\n",
      "Epoch 76/100\n",
      "85/85 [==============================] - 0s 4ms/step - loss: 0.8770 - accuracy: 0.7052 - graph_loss: 0.1169\n",
      "Epoch 77/100\n",
      "85/85 [==============================] - 0s 4ms/step - loss: 0.8622 - accuracy: 0.7193 - graph_loss: 0.1226\n",
      "Epoch 78/100\n",
      "85/85 [==============================] - 0s 4ms/step - loss: 0.8838 - accuracy: 0.7158 - graph_loss: 0.1261\n",
      "Epoch 79/100\n",
      "85/85 [==============================] - 1s 6ms/step - loss: 0.8779 - accuracy: 0.7075 - graph_loss: 0.1229\n",
      "Epoch 80/100\n",
      "85/85 [==============================] - 0s 5ms/step - loss: 0.8784 - accuracy: 0.7158 - graph_loss: 0.1284\n",
      "Epoch 81/100\n",
      "85/85 [==============================] - 0s 4ms/step - loss: 0.8633 - accuracy: 0.7205 - graph_loss: 0.1255\n",
      "Epoch 82/100\n",
      "85/85 [==============================] - 0s 4ms/step - loss: 0.8660 - accuracy: 0.7158 - graph_loss: 0.1178\n",
      "Epoch 83/100\n",
      "85/85 [==============================] - 0s 4ms/step - loss: 0.8890 - accuracy: 0.7075 - graph_loss: 0.1204\n",
      "Epoch 84/100\n",
      "85/85 [==============================] - 0s 4ms/step - loss: 0.8827 - accuracy: 0.7087 - graph_loss: 0.1259\n",
      "Epoch 85/100\n",
      "85/85 [==============================] - 0s 4ms/step - loss: 0.8716 - accuracy: 0.7028 - graph_loss: 0.1260\n",
      "Epoch 86/100\n",
      "85/85 [==============================] - 0s 3ms/step - loss: 0.8361 - accuracy: 0.7205 - graph_loss: 0.1266\n",
      "Epoch 87/100\n",
      "85/85 [==============================] - 0s 3ms/step - loss: 0.8912 - accuracy: 0.6993 - graph_loss: 0.1269\n",
      "Epoch 88/100\n",
      "85/85 [==============================] - 0s 4ms/step - loss: 0.8493 - accuracy: 0.7205 - graph_loss: 0.1131\n",
      "Epoch 89/100\n",
      "85/85 [==============================] - 0s 4ms/step - loss: 0.8820 - accuracy: 0.7158 - graph_loss: 0.1185\n",
      "Epoch 90/100\n",
      "85/85 [==============================] - 0s 4ms/step - loss: 0.8797 - accuracy: 0.7146 - graph_loss: 0.1271\n",
      "Epoch 91/100\n",
      "85/85 [==============================] - 0s 4ms/step - loss: 0.8818 - accuracy: 0.7182 - graph_loss: 0.1189\n",
      "Epoch 92/100\n",
      "85/85 [==============================] - 0s 3ms/step - loss: 0.8491 - accuracy: 0.7134 - graph_loss: 0.1304\n",
      "Epoch 93/100\n",
      "85/85 [==============================] - 0s 3ms/step - loss: 0.8415 - accuracy: 0.7170 - graph_loss: 0.1252\n",
      "Epoch 94/100\n",
      "85/85 [==============================] - 0s 4ms/step - loss: 0.8723 - accuracy: 0.7217 - graph_loss: 0.1296\n",
      "Epoch 95/100\n",
      "85/85 [==============================] - 0s 4ms/step - loss: 0.8683 - accuracy: 0.7040 - graph_loss: 0.1352\n",
      "Epoch 96/100\n",
      "85/85 [==============================] - 0s 3ms/step - loss: 0.8608 - accuracy: 0.7158 - graph_loss: 0.1343\n",
      "Epoch 97/100\n",
      "85/85 [==============================] - 0s 3ms/step - loss: 0.8527 - accuracy: 0.7241 - graph_loss: 0.1252\n",
      "Epoch 98/100\n",
      "85/85 [==============================] - 0s 4ms/step - loss: 0.8388 - accuracy: 0.7205 - graph_loss: 0.1315\n",
      "Epoch 99/100\n",
      "85/85 [==============================] - 0s 4ms/step - loss: 0.8828 - accuracy: 0.7123 - graph_loss: 0.1359\n",
      "Epoch 100/100\n",
      "85/85 [==============================] - 0s 4ms/step - loss: 0.8737 - accuracy: 0.7123 - graph_loss: 0.1317\n"
     ]
    },
    {
     "data": {
      "text/plain": [
       "<tensorflow.python.keras.callbacks.History at 0x638618f28>"
      ]
     },
     "execution_count": 26,
     "metadata": {},
     "output_type": "execute_result"
    }
   ],
   "source": [
    "# Wrap the base MLP model with graph regularization.\n",
    "graph_reg_config = nsl.configs.make_graph_reg_config(\n",
    "    max_neighbors=HPARAMS.num_neighbors,\n",
    "    multiplier=HPARAMS.graph_regularization_multiplier,\n",
    "    distance_type=HPARAMS.distance_type,\n",
    "    sum_over_axis=-1)\n",
    "\n",
    "graph_reg_model = nsl.keras.GraphRegularization(base_reg_model,\n",
    "                                                graph_reg_config)\n",
    "graph_reg_model.compile(\n",
    "    optimizer='adam',\n",
    "    loss='sparse_categorical_crossentropy',\n",
    "    metrics=['accuracy'])\n",
    "graph_reg_model.fit(train_dataset, epochs=HPARAMS.train_epochs, verbose=1)"
   ]
  },
  {
   "cell_type": "code",
   "execution_count": 27,
   "metadata": {},
   "outputs": [
    {
     "data": {
      "text/plain": [
       "dict_keys(['loss', 'accuracy', 'graph_loss'])"
      ]
     },
     "execution_count": 27,
     "metadata": {},
     "output_type": "execute_result"
    }
   ],
   "source": [
    "graph_reg_model.history.history.keys()"
   ]
  },
  {
   "cell_type": "code",
   "execution_count": 28,
   "metadata": {},
   "outputs": [
    {
     "data": {
      "image/png": "[encoded data removed]",
      "text/plain": [
       "<Figure size 432x288 with 1 Axes>"
      ]
     },
     "metadata": {
      "needs_background": "light"
     },
     "output_type": "display_data"
    },
    {
     "data": {
      "image/png": "[encoded data removed]",
      "text/plain": [
       "<Figure size 432x288 with 1 Axes>"
      ]
     },
     "metadata": {
      "needs_background": "light"
     },
     "output_type": "display_data"
    }
   ],
   "source": [
    "# base_model.history.history['accuracy']\n",
    "\n",
    "import matplotlib.pyplot as plt\n",
    "# summarize history for accuracy\n",
    "plt.plot(graph_reg_model.history.history['accuracy'])\n",
    "plt.title('model accuracy')\n",
    "plt.ylabel('accuracy')\n",
    "plt.xlabel('epoch')\n",
    "plt.legend(['accuracy', 'loss'], loc='upper left')\n",
    "plt.show()\n",
    "\n",
    "plt.plot(graph_reg_model.history.history['loss'])\n",
    "plt.plot(graph_reg_model.history.history['graph_loss'])\n",
    "plt.title('loss')\n",
    "plt.ylabel('accuracy')\n",
    "plt.xlabel('epoch')\n",
    "plt.legend(['loss'], loc='upper left')\n",
    "plt.show()"
   ]
  },
  {
   "cell_type": "markdown",
   "metadata": {
    "colab_type": "text",
    "id": "6409ylRVQS7q"
   },
   "source": [
    "## Evaluate MLP model with graph regularization"
   ]
  },
  {
   "cell_type": "code",
   "execution_count": 29,
   "metadata": {
    "colab": {},
    "colab_type": "code",
    "id": "1TsOE1bAQTqD"
   },
   "outputs": [
    {
     "name": "stdout",
     "output_type": "stream",
     "text": [
      "51/51 [==============================] - 0s 9ms/step - loss: 3.2888 - accuracy: 0.2554 - graph_loss: 0.0000e+00\n",
      "\n",
      "\n",
      "Eval accuracy for  MLP + graph regularization :  0.25544554\n",
      "Eval loss for  MLP + graph regularization :  3.2887630836636412\n",
      "Eval graph loss for  MLP + graph regularization :  0.0\n"
     ]
    }
   ],
   "source": [
    "eval_results = dict(\n",
    "    zip(graph_reg_model.metrics_names,\n",
    "        graph_reg_model.evaluate(test_dataset, steps=HPARAMS.eval_steps)))\n",
    "print_metrics('MLP + graph regularization', eval_results)"
   ]
  },
  {
   "cell_type": "markdown",
   "metadata": {
    "colab_type": "text",
    "id": "Adc-r84EOSQi"
   },
   "source": [
    "The graph-regularized model's accuracy is about 2-3% higher than that of the\n",
    "base model (`base_model`)."
   ]
  },
  {
   "cell_type": "code",
   "execution_count": 155,
   "metadata": {},
   "outputs": [
    {
     "ename": "NameError",
     "evalue": "name 'X_test' is not defined",
     "output_type": "error",
     "traceback": [
      "\u001b[0;31m---------------------------------------------------------------------------\u001b[0m",
      "\u001b[0;31mNameError\u001b[0m                                 Traceback (most recent call last)",
      "\u001b[0;32m<ipython-input-155-9f22973162e6>\u001b[0m in \u001b[0;36m<module>\u001b[0;34m\u001b[0m\n\u001b[0;32m----> 1\u001b[0;31m \u001b[0mbase_model\u001b[0m\u001b[0;34m.\u001b[0m\u001b[0mpredict\u001b[0m\u001b[0;34m(\u001b[0m\u001b[0mX_test\u001b[0m\u001b[0;34m)\u001b[0m\u001b[0;34m\u001b[0m\u001b[0;34m\u001b[0m\u001b[0m\n\u001b[0m",
      "\u001b[0;31mNameError\u001b[0m: name 'X_test' is not defined"
     ]
    }
   ],
   "source": [
    "base_model.predict(X_test)"
   ]
  },
  {
   "cell_type": "markdown",
   "metadata": {
    "colab_type": "text",
    "id": "OEXQHFNvJQJe"
   },
   "source": [
    "## Conclusion\n",
    "\n",
    "We have demonstrated the use of graph regularization for document classification\n",
    "on a natural citation graph (Cora) using the Neural Structured Learning (NSL)\n",
    "framework. Our [advanced tutorial](graph_keras_lstm_imdb.ipynb) involves\n",
    "synthesizing graphs based on sample embeddings before training a neural network\n",
    "with graph regularization. This approach is useful if the input does not contain\n",
    "an explicit graph.\n",
    "\n",
    "We encourage users to experiment further by varying the amount of supervision as\n",
    "well as trying different neural architectures for graph regularization."
   ]
  }
 ],
 "metadata": {
  "accelerator": "GPU",
  "colab": {
   "collapsed_sections": [],
   "name": "Graph regularization for terror data and relationships using natural graphs",
   "private_outputs": true,
   "provenance": [],
   "toc_visible": true
  },
  "kernelspec": {
   "display_name": "Python 3",
   "language": "python",
   "name": "python3"
  },
  "language_info": {
   "codemirror_mode": {
    "name": "ipython",
    "version": 3
   },
   "file_extension": ".py",
   "mimetype": "text/x-python",
   "name": "python",
   "nbconvert_exporter": "python",
   "pygments_lexer": "ipython3",
   "version": "3.7.3"
  }
 },
 "nbformat": 4,
 "nbformat_minor": 1
}
