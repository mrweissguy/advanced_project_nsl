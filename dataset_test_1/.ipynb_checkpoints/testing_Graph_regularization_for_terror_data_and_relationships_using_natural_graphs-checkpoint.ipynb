{
 "cells": [
  {
   "cell_type": "markdown",
   "metadata": {},
   "source": [
    "### Preprocessing data"
   ]
  },
  {
   "cell_type": "markdown",
   "metadata": {
    "colab_type": "text",
    "id": "DADUIVuPIqYi"
   },
   "source": [
    "##### Copyright 2019 Google LLC"
   ]
  },
  {
   "cell_type": "code",
   "execution_count": 1,
   "metadata": {
    "cellView": "form",
    "colab": {},
    "colab_type": "code",
    "id": "Cu1zPez8Ip1S"
   },
   "outputs": [],
   "source": [
    "#@title Licensed under the Apache License, Version 2.0 (the \"License\");\n",
    "# you may not use this file except in compliance with the License.\n",
    "# You may obtain a copy of the License at\n",
    "#\n",
    "#     https://www.apache.org/licenses/LICENSE-2.0\n",
    "#\n",
    "# Unless required by applicable law or agreed to in writing, software\n",
    "# distributed under the License is distributed on an \"AS IS\" BASIS,\n",
    "# WITHOUT WARRANTIES OR CONDITIONS OF ANY KIND, either express or implied.\n",
    "# See the License for the specific language governing permissions and\n",
    "# limitations under the License."
   ]
  },
  {
   "cell_type": "markdown",
   "metadata": {},
   "source": [
    "On data \n",
    "*Terrorists are linked to each other if they contact each other, use the same facility, are members of the same family, or belong to the same terrorist organization.*"
   ]
  },
  {
   "cell_type": "markdown",
   "metadata": {
    "colab_type": "text",
    "id": "nlIh_TPLI54s"
   },
   "source": [
    "# Graph regularization for document classification using natural graphs"
   ]
  },
  {
   "cell_type": "markdown",
   "metadata": {
    "colab_type": "text",
    "id": "pL9fF9FWI-Q1"
   },
   "source": [
    "<table class=\"tfo-notebook-buttons\" align=\"left\">\n",
    "  <td>\n",
    "    <a target=\"_blank\" href=\"https://www.tensorflow.org/neural_structured_learning/tutorials/graph_keras_mlp_cora\"><img src=\"https://www.tensorflow.org/images/tf_logo_32px.png\" />View on TensorFlow.org</a>\n",
    "  </td>\n",
    "  <td>\n",
    "    <a target=\"_blank\" href=\"https://colab.research.google.com/github/tensorflow/neural-structured-learning/blob/master/g3doc/tutorials/graph_keras_mlp_cora.ipynb\"><img src=\"https://www.tensorflow.org/images/colab_logo_32px.png\" />Run in Google Colab</a>\n",
    "  </td>\n",
    "  <td>\n",
    "    <a target=\"_blank\" href=\"https://github.com/tensorflow/neural-structured-learning/blob/master/g3doc/tutorials/graph_keras_mlp_cora.ipynb\"><img src=\"https://www.tensorflow.org/images/GitHub-Mark-32px.png\" />View source on GitHub</a>\n",
    "  </td>\n",
    "</table>"
   ]
  },
  {
   "cell_type": "markdown",
   "metadata": {
    "colab_type": "text",
    "id": "jJlN8oxhNGto"
   },
   "source": [
    "## Overview\n",
    "\n",
    "Graph regularization is a specific technique under the broader paradigm of\n",
    "Neural Graph Learning\n",
    "([Bui et al., 2018](https://ai.google/research/pubs/pub46568.pdf)). The core\n",
    "idea is to train neural network models with a graph-regularized objective,\n",
    "harnessing both labeled and unlabeled data.\n",
    "\n",
    "In this tutorial, we will explore the use of graph regularization to classify\n",
    "documents that form a natural (organic) graph.\n",
    "\n",
    "The general recipe for creating a graph-regularized model using the Neural\n",
    "Structured Learning (NSL) framework is as follows:\n",
    "\n",
    "1.  Generate training data from the input graph and sample features. Nodes in\n",
    "    the graph correspond to samples and edges in the graph correspond to\n",
    "    similarity between pairs of samples. The resulting training data will\n",
    "    contain neighbor features in addition to the original node features.\n",
    "2.  Create a neural network as a base model using the `Keras` sequential,\n",
    "    functional, or subclass API.\n",
    "3.  Wrap the base model with the **`GraphRegularization`** wrapper class, which\n",
    "    is provided by the NSL framework, to create a new graph `Keras` model. This\n",
    "    new model will include a graph regularization loss as the regularization\n",
    "    term in its training objective.\n",
    "4.  Train and evaluate the graph `Keras` model."
   ]
  },
  {
   "cell_type": "markdown",
   "metadata": {},
   "source": [
    "## Overview\n",
    "\n",
    "Graph regularization is a specific technique under the broader paradigm of\n",
    "Neural Graph Learning\n",
    "([Bui et al., 2018](https://ai.google/research/pubs/pub46568.pdf)). The core\n",
    "idea is to train neural network models with a graph-regularized objective,\n",
    "harnessing both labeled and unlabeled data.\n",
    "\n",
    "We will explore the use of graph regularization to classify relationships between terrorists,\n",
    "that form a natural (organic) graph.\n",
    "\n",
    "The general recipe for creating a graph-regularized model using the Neural\n",
    "Structured Learning (NSL) framework is as follows:\n",
    "\n",
    "1.  Generate training data from the input graph and sample features. Nodes in\n",
    "    the graph correspond to samples and edges in the graph correspond to\n",
    "    similarity between pairs of samples. The resulting training data will\n",
    "    contain neighbor features in addition to the original node features.\n",
    "2.  Create a neural network as a base model using the `Keras` sequential,\n",
    "    functional, or subclass API.\n",
    "3.  Wrap the base model with the **`GraphRegularization`** wrapper class, which\n",
    "    is provided by the NSL framework, to create a new graph `Keras` model. This\n",
    "    new model will include a graph regularization loss as the regularization\n",
    "    term in its training objective.\n",
    "4.  Train and evaluate the graph `Keras` model."
   ]
  },
  {
   "cell_type": "markdown",
   "metadata": {
    "colab_type": "text",
    "id": "nDOFbB34KY1R"
   },
   "source": [
    "## Setup\n",
    "\n"
   ]
  },
  {
   "cell_type": "markdown",
   "metadata": {
    "colab_type": "text",
    "id": "hgSLDi0SyBuO"
   },
   "source": [
    "1.  Select TensorFlow 2.x to create an interactive development environment with eager execution.\n",
    "2.  Install the Neural Structured Learning package."
   ]
  },
  {
   "cell_type": "code",
   "execution_count": 8,
   "metadata": {
    "colab": {},
    "colab_type": "code",
    "id": "gh6K6Onyy5bd"
   },
   "outputs": [
    {
     "name": "stdout",
     "output_type": "stream",
     "text": [
      "\u001b[31mERROR: Could not find a version that satisfies the requirement tensorflow-gpu (from versions: none)\u001b[0m\r\n",
      "\u001b[31mERROR: No matching distribution found for tensorflow-gpu\u001b[0m\r\n"
     ]
    }
   ],
   "source": [
    "try:\n",
    "  # %tensorflow_version only exists in Colab.\n",
    "  %tensorflow_version 2.x\n",
    "except Exception:\n",
    "  !pip install tensorflow-gpu>=2.0.0"
   ]
  },
  {
   "cell_type": "code",
   "execution_count": 9,
   "metadata": {
    "colab": {},
    "colab_type": "code",
    "id": "uVnjPmOaQlnH"
   },
   "outputs": [],
   "source": [
    "!pip install --quiet neural-structured-learning"
   ]
  },
  {
   "cell_type": "markdown",
   "metadata": {
    "colab_type": "text",
    "id": "0AiNrPJaX_Lb"
   },
   "source": [
    "## Dependencies and imports"
   ]
  },
  {
   "cell_type": "code",
   "execution_count": 10,
   "metadata": {},
   "outputs": [],
   "source": [
    "from __future__ import absolute_import, division, print_function, unicode_literals\n",
    "\n",
    "import neural_structured_learning as nsl\n",
    "\n",
    "import tensorflow as tf"
   ]
  },
  {
   "cell_type": "code",
   "execution_count": null,
   "metadata": {},
   "outputs": [],
   "source": []
  },
  {
   "cell_type": "markdown",
   "metadata": {
    "colab_type": "text",
    "id": "RtbcGZ_N6Ll9"
   },
   "source": [
    "## Cora dataset\n",
    "\n",
    "The [Cora dataset](https://linqs.soe.ucsc.edu/data) is a citation graph where\n",
    "nodes represent machine learning papers and edges represent citations between\n",
    "pairs of papers. The task involved is document classification where the goal is\n",
    "to categorize each paper into one of 7 categories. In other words, this is a\n",
    "multi-class classification problem with 7 classes.\n",
    "\n",
    "### Graph\n",
    "\n",
    "The original graph is directed. However, for the purpose of this example, we\n",
    "consider the undirected version of this graph. So, if paper A cites paper B, we\n",
    "also consider paper B to have cited A. Although this is not necessarily true, in\n",
    "this example, we consider citations as a proxy for similarity, which is usually\n",
    "a commutative property.\n",
    "\n",
    "### Features\n",
    "\n",
    "Each paper in the input effectively contains 2 features:\n",
    "\n",
    "1.  **Words**: A dense, multi-hot bag-of-words representation of the text in the\n",
    "    paper. The vocabulary for the Cora dataset contains 1433 unique words. So,\n",
    "    the length of this feature is 1433, and the value at position 'i' is 0/1\n",
    "    indicating whether word 'i' in the vocabulary exists in the given paper or\n",
    "    not.\n",
    "\n",
    "2.  **Label**: A single integer representing the class ID (category) of the paper."
   ]
  },
  {
   "cell_type": "markdown",
   "metadata": {
    "colab_type": "text",
    "id": "p2-FVpVHEyIS"
   },
   "source": [
    "### Download the Cora dataset"
   ]
  },
  {
   "cell_type": "code",
   "execution_count": 11,
   "metadata": {
    "colab": {},
    "colab_type": "code",
    "id": "2nSZjKqwE6Rn"
   },
   "outputs": [
    {
     "name": "stdout",
     "output_type": "stream",
     "text": [
      "x CustomTerroristRel/\r\n",
      "x CustomTerroristRel/TerroristRel_Family.nodes\r\n",
      "x CustomTerroristRel/TerroristRel_Colleague.nodes\r\n",
      "x CustomTerroristRel/TerroristRel_Contact.nodes\r\n",
      "x CustomTerroristRel/.DS_Store\r\n",
      "x CustomTerroristRel/collected.nodes\r\n",
      "x CustomTerroristRel/README\r\n",
      "x CustomTerroristRel/TerroristRel.labels\r\n",
      "x CustomTerroristRel/TerroristRel_Congregate.nodes\r\n",
      "x CustomTerroristRel/TerroristRel.edges\r\n"
     ]
    }
   ],
   "source": [
    "# !wget --quiet -P /tmp https://linqs-data.soe.ucsc.edu/public/lbc/TerroristRel.tgz \n",
    "# !wget --quiet -P /tmp https://github.com/mrweissguy/nsl/tree/master/data/TerroristRel\n",
    "       \n",
    "# !tar -C /tmp -xvzf /tmp/cora.tgz\n",
    "# !tar -C /tmp -xvzf /tmp/TerroristRel.tgz\n",
    "!tar -C /tmp -xvzf /Users/johanweisshansen/Desktop/nsl-master/dataset_test_1/data/CustomTerroristRel.tgz"
   ]
  },
  {
   "cell_type": "markdown",
   "metadata": {
    "colab_type": "text",
    "id": "ylYP32_IoqZI"
   },
   "source": [
    "### Convert the Cora data to the NSL format\n",
    "\n",
    "In order to preprocess the Terrorist Relations dataset and convert it to the format required by\n",
    "Neural Structured Learning, we will run the **'preprocess_cora_dataset.py'**\n",
    "script, which is included in the NSL github repository. This script does the\n",
    "following:\n",
    "\n",
    "1.  Generate neighbor features using the original node features and the graph.\n",
    "2.  Generate train and test data splits containing `tf.train.Example` instances.\n",
    "3.  Persist the resulting train and test data in the `TFRecord` format."
   ]
  },
  {
   "cell_type": "code",
   "execution_count": 12,
   "metadata": {
    "colab": {},
    "colab_type": "code",
    "id": "Myz01LVZQ8Uh",
    "scrolled": true
   },
   "outputs": [
    {
     "name": "stdout",
     "output_type": "stream",
     "text": [
      "preprocessing_terror_dataset.py:138: DeprecationWarning: 'U' mode is deprecated\n",
      "  with open(in_file, 'rU') as cora_content:\n",
      "Reading graph file: /tmp/CustomTerroristRel/TerroristRel.edges...\n",
      "Done reading 8592 edges from: /tmp/CustomTerroristRel/TerroristRel.edges (0.01 seconds).\n",
      "Making all edges bi-directional...\n",
      "Done (0.01 seconds). Total graph nodes: 881\n",
      "Joining seed and neighbor tf.train.Examples with graph edges...\n",
      "W1127 11:13:00.485717 4754099648 preprocessing_terror_dataset.py:191] No tf.train.Example found for edge target ID: \"http://profilesinterror.mindswap.org/document/29#MohammedSchreim_http://profilesinterror.mindswap.org/document/29#NasserWatimi\"\n",
      "W1127 11:13:00.487741 4754099648 preprocessing_terror_dataset.py:191] No tf.train.Example found for edge target ID: \"http://counterterror.mindswap.org/2005/terrorists.owl#Richard_Colvin_Reid_http://profilesinterror.mindswap.org/document/2005/09/07/09:36:59#\"\n",
      "W1127 11:13:00.487876 4754099648 preprocessing_terror_dataset.py:191] No tf.train.Example found for edge target ID: \"http://counterterror.mindswap.org/2005/terrorists.owl#Nizar_Trabelsi_http://counterterror.mindswap.org/2005/terrorists.owl#Richard_Colvin_Reid\"\n",
      "W1127 11:13:00.490553 4754099648 preprocessing_terror_dataset.py:191] No tf.train.Example found for edge target ID: \"http://profilesinterror.mindswap.org/document/11#AhmedRessam_http://profilesinterror.mindswap.org/document/2005/06/17/00:42:19#Mourad_Ikhlef\"\n",
      "W1127 11:13:00.490709 4754099648 preprocessing_terror_dataset.py:191] No tf.train.Example found for edge target ID: \"http://profilesinterror.mindswap.org/document/11#AhmedRessam_http://counterterror.mindswap.org/2005/terrorists.owl#Abderraouf_Hannachi\"\n",
      "W1127 11:13:00.492611 4754099648 preprocessing_terror_dataset.py:191] No tf.train.Example found for edge target ID: \"http://profilesinterror.mindswap.org/document/2006/03/17/05:42:48#_http://profilesinterror.mindswap.org/document/2006/03/15/04:58:21#\"\n",
      "W1127 11:13:00.492743 4754099648 preprocessing_terror_dataset.py:191] No tf.train.Example found for edge target ID: \"http://profilesinterror.mindswap.org/document/2006/03/15/22:21:03#_http://profilesinterror.mindswap.org/document/2006/03/15/04:58:21#\"\n",
      "W1127 11:13:00.492805 4754099648 preprocessing_terror_dataset.py:191] No tf.train.Example found for edge target ID: \"http://profilesinterror.mindswap.org/document/2006/03/17/05:47:04#_http://profilesinterror.mindswap.org/document/2006/03/15/04:58:21#\"\n",
      "W1127 11:13:00.496954 4754099648 preprocessing_terror_dataset.py:191] No tf.train.Example found for edge target ID: \"http://profilesinterror.mindswap.org/document/4#Ramzi_Yousef_http://profilesinterror.mindswap.org/document/19#Nidal_Ayyad\"\n",
      "W1127 11:13:00.497125 4754099648 preprocessing_terror_dataset.py:191] No tf.train.Example found for edge target ID: \"http://profilesinterror.mindswap.org/document/19#EyadIsmoil_http://profilesinterror.mindswap.org/document/4#Ramzi_Yousef\"\n",
      "W1127 11:13:00.497191 4754099648 preprocessing_terror_dataset.py:191] No tf.train.Example found for edge target ID: \"http://profilesinterror.mindswap.org/document/19#AhmadAjaj_http://profilesinterror.mindswap.org/document/4#Ramzi_Yousef\"\n",
      "W1127 11:13:00.497246 4754099648 preprocessing_terror_dataset.py:191] No tf.train.Example found for edge target ID: \"http://profilesinterror.mindswap.org/document/19#MohammedSalameh_http://profilesinterror.mindswap.org/document/4#Ramzi_Yousef\"\n",
      "W1127 11:13:00.505409 4754099648 preprocessing_terror_dataset.py:191] No tf.train.Example found for edge target ID: \"http://profilesinterror.mindswap.org/document/2005/12/20/20:55:53#_http://profilesinterror.mindswap.org/document/2005/09/08/04:39:17#\"\n",
      "W1127 11:13:00.508901 4754099648 preprocessing_terror_dataset.py:191] No tf.train.Example found for edge target ID: \"http://profilesinterror.mindswap.org/document/19#MohammedSalameh_http://profilesinterror.mindswap.org/document/19#AhmadAjaj\"\n",
      "W1127 11:13:00.509051 4754099648 preprocessing_terror_dataset.py:191] No tf.train.Example found for edge target ID: \"http://profilesinterror.mindswap.org/document/19#AhmadAjaj_http://profilesinterror.mindswap.org/document/19#Nidal_Ayyad\"\n",
      "W1127 11:13:00.509120 4754099648 preprocessing_terror_dataset.py:191] No tf.train.Example found for edge target ID: \"http://profilesinterror.mindswap.org/document/19#AhmadAjaj_http://profilesinterror.mindswap.org/document/4#Ramzi_Yousef\"\n",
      "W1127 11:13:00.509844 4754099648 preprocessing_terror_dataset.py:191] No tf.train.Example found for edge target ID: \"http://profilesinterror.mindswap.org/document/29#MohammedSchreim_http://profilesinterror.mindswap.org/document/29#NasserWatimi\"\n",
      "W1127 11:13:00.510605 4754099648 preprocessing_terror_dataset.py:191] No tf.train.Example found for edge target ID: \"http://profilesinterror.mindswap.org/document/2005/12/20/20:55:53#_http://profilesinterror.mindswap.org/document/2005/09/08/04:39:17#\"\n",
      "W1127 11:13:00.514021 4754099648 preprocessing_terror_dataset.py:191] No tf.train.Example found for edge target ID: \"http://profilesinterror.mindswap.org/document/2005/12/22/19:57:48#_http://counterterror.mindswap.org/2005/terrorists.owl#Lionel_Dumont\"\n",
      "W1127 11:13:00.516239 4754099648 preprocessing_terror_dataset.py:191] No tf.train.Example found for edge target ID: \"http://counterterror.mindswap.org/2005/terrorists.owl#Nizar_Trabelsi_http://profilesinterror.mindswap.org/document/2005/09/07/09:36:59#\"\n",
      "W1127 11:13:00.516351 4754099648 preprocessing_terror_dataset.py:191] No tf.train.Example found for edge target ID: \"http://counterterror.mindswap.org/2005/terrorists.owl#Nizar_Trabelsi_http://counterterror.mindswap.org/2005/terrorists.owl#Richard_Colvin_Reid\"\n",
      "W1127 11:13:00.516428 4754099648 preprocessing_terror_dataset.py:191] No tf.train.Example found for edge target ID: \"http://counterterror.mindswap.org/2005/terrorists.owl#Djamel_Beghal_http://counterterror.mindswap.org/2005/terrorists.owl#Nizar_Trabelsi\"\n",
      "W1127 11:13:00.518469 4754099648 preprocessing_terror_dataset.py:191] No tf.train.Example found for edge target ID: \"http://counterterror.mindswap.org/2005/terrorists.owl#Richard_Colvin_Reid_http://profilesinterror.mindswap.org/document/2005/09/07/09:36:59#\"\n",
      "W1127 11:13:00.518576 4754099648 preprocessing_terror_dataset.py:191] No tf.train.Example found for edge target ID: \"http://counterterror.mindswap.org/2005/terrorists.owl#Nizar_Trabelsi_http://profilesinterror.mindswap.org/document/2005/09/07/09:36:59#\"\n",
      "W1127 11:13:00.522589 4754099648 preprocessing_terror_dataset.py:191] No tf.train.Example found for edge target ID: \"http://profilesinterror.mindswap.org/document/2005/08/09/16:36:24#_http://profilesinterror.mindswap.org/document/2005/08/09/16:43:04#\"\n",
      "W1127 11:13:00.529574 4754099648 preprocessing_terror_dataset.py:191] No tf.train.Example found for edge target ID: \"http://counterterror.mindswap.org/2005/terrorists.owl#Nizar_Trabelsi_http://counterterror.mindswap.org/2005/terrorists.owl#Richard_Colvin_Reid\"\n",
      "W1127 11:13:00.529705 4754099648 preprocessing_terror_dataset.py:191] No tf.train.Example found for edge target ID: \"http://counterterror.mindswap.org/2005/terrorists.owl#Richard_Colvin_Reid_http://profilesinterror.mindswap.org/document/2005/09/07/09:36:59#\"\n",
      "W1127 11:13:00.533001 4754099648 preprocessing_terror_dataset.py:191] No tf.train.Example found for edge target ID: \"http://counterterror.mindswap.org/2005/terrorists.owl#Richard_Colvin_Reid_http://profilesinterror.mindswap.org/document/2005/09/07/09:36:59#\"\n",
      "W1127 11:13:00.533156 4754099648 preprocessing_terror_dataset.py:191] No tf.train.Example found for edge target ID: \"http://profilesinterror.mindswap.org/document/2005/08/09/16:36:24#_http://profilesinterror.mindswap.org/document/2005/08/09/16:43:04#\"\n",
      "W1127 11:13:00.533223 4754099648 preprocessing_terror_dataset.py:191] No tf.train.Example found for edge target ID: \"http://counterterror.mindswap.org/2005/terrorists.owl#Nizar_Trabelsi_http://profilesinterror.mindswap.org/document/2005/09/07/09:36:59#\"\n",
      "W1127 11:13:00.534595 4754099648 preprocessing_terror_dataset.py:191] No tf.train.Example found for edge target ID: \"http://counterterror.mindswap.org/2005/terrorists.owl#Richard_Colvin_Reid_http://profilesinterror.mindswap.org/document/2005/09/07/09:36:59#\"\n",
      "W1127 11:13:00.534706 4754099648 preprocessing_terror_dataset.py:191] No tf.train.Example found for edge target ID: \"http://counterterror.mindswap.org/2005/terrorists.owl#Nizar_Trabelsi_http://profilesinterror.mindswap.org/document/2005/09/07/09:36:59#\"\n",
      "W1127 11:13:00.536688 4754099648 preprocessing_terror_dataset.py:191] No tf.train.Example found for edge target ID: \"http://counterterror.mindswap.org/2005/terrorists.owl#Richard_Colvin_Reid_http://profilesinterror.mindswap.org/document/2005/09/07/09:36:59#\"\n",
      "W1127 11:13:00.536787 4754099648 preprocessing_terror_dataset.py:191] No tf.train.Example found for edge target ID: \"http://counterterror.mindswap.org/2005/terrorists.owl#Nizar_Trabelsi_http://counterterror.mindswap.org/2005/terrorists.owl#Richard_Colvin_Reid\"\n",
      "W1127 11:13:00.545658 4754099648 preprocessing_terror_dataset.py:191] No tf.train.Example found for edge target ID: \"http://profilesinterror.mindswap.org/document/2006/03/17/05:42:48#_http://profilesinterror.mindswap.org/document/2006/03/15/04:58:21#\"\n"
     ]
    },
    {
     "name": "stdout",
     "output_type": "stream",
     "text": [
      "W1127 11:13:00.545855 4754099648 preprocessing_terror_dataset.py:191] No tf.train.Example found for edge target ID: \"http://profilesinterror.mindswap.org/document/2006/03/17/05:42:48#_http://profilesinterror.mindswap.org/document/2006/03/15/22:21:03#\"\n",
      "W1127 11:13:00.545943 4754099648 preprocessing_terror_dataset.py:191] No tf.train.Example found for edge target ID: \"http://profilesinterror.mindswap.org/document/2006/03/17/05:42:48#_http://profilesinterror.mindswap.org/document/2006/03/17/05:47:04#\"\n",
      "W1127 11:13:00.548304 4754099648 preprocessing_terror_dataset.py:191] No tf.train.Example found for edge target ID: \"http://profilesinterror.mindswap.org/document/2005/07/28/16:02:44#Germaine_Lindsay_http://profilesinterror.mindswap.org/document/2005/07/28/15:59:18#Mohammad_Sidique_Khan\"\n",
      "W1127 11:13:00.552623 4754099648 preprocessing_terror_dataset.py:191] No tf.train.Example found for edge target ID: \"http://counterterror.mindswap.org/2005/terrorists.owl#Richard_Colvin_Reid_http://profilesinterror.mindswap.org/document/2005/09/07/09:36:59#\"\n",
      "W1127 11:13:00.552763 4754099648 preprocessing_terror_dataset.py:191] No tf.train.Example found for edge target ID: \"http://counterterror.mindswap.org/2005/terrorists.owl#Nizar_Trabelsi_http://profilesinterror.mindswap.org/document/2005/09/07/09:36:59#\"\n",
      "W1127 11:13:00.557552 4754099648 preprocessing_terror_dataset.py:191] No tf.train.Example found for edge target ID: \"http://profilesinterror.mindswap.org/document/27#FarouqQaddoumi_http://profilesinterror.mindswap.org/document/2005/05/24/18:26:22#Khaled_al-Fahoum\"\n",
      "W1127 11:13:00.558426 4754099648 preprocessing_terror_dataset.py:191] No tf.train.Example found for edge target ID: \"http://counterterror.mindswap.org/2005/terrorists.owl#Richard_Colvin_Reid_http://profilesinterror.mindswap.org/document/2005/09/07/09:36:59#\"\n",
      "W1127 11:13:00.558533 4754099648 preprocessing_terror_dataset.py:191] No tf.train.Example found for edge target ID: \"http://counterterror.mindswap.org/2005/terrorists.owl#Nizar_Trabelsi_http://profilesinterror.mindswap.org/document/2005/09/07/09:36:59#\"\n",
      "W1127 11:13:00.559897 4754099648 preprocessing_terror_dataset.py:191] No tf.train.Example found for edge target ID: \"http://profilesinterror.mindswap.org/document/27#FarouqQaddoumi_http://profilesinterror.mindswap.org/document/2005/05/24/18:26:22#Khaled_al-Fahoum\"\n",
      "W1127 11:13:00.561349 4754099648 preprocessing_terror_dataset.py:191] No tf.train.Example found for edge target ID: \"http://profilesinterror.mindswap.org/document/2005/12/22/19:57:48#_http://counterterror.mindswap.org/2005/terrorists.owl#Lionel_Dumont\"\n",
      "W1127 11:13:00.562124 4754099648 preprocessing_terror_dataset.py:191] No tf.train.Example found for edge target ID: \"http://profilesinterror.mindswap.org/document/2005/07/28/16:02:44#Germaine_Lindsay_http://profilesinterror.mindswap.org/document/2005/07/28/15:59:18#Mohammad_Sidique_Khan\"\n",
      "W1127 11:13:00.564030 4754099648 preprocessing_terror_dataset.py:191] No tf.train.Example found for edge target ID: \"http://counterterror.mindswap.org/2005/terrorists.owl#Djamel_Beghal_http://counterterror.mindswap.org/2005/terrorists.owl#Nizar_Trabelsi\"\n",
      "W1127 11:13:00.565521 4754099648 preprocessing_terror_dataset.py:191] No tf.train.Example found for edge target ID: \"http://profilesinterror.mindswap.org/document/2005/07/28/16:02:44#Germaine_Lindsay_http://profilesinterror.mindswap.org/document/2005/07/28/15:59:18#Mohammad_Sidique_Khan\"\n",
      "W1127 11:13:00.568259 4754099648 preprocessing_terror_dataset.py:191] No tf.train.Example found for edge target ID: \"http://profilesinterror.mindswap.org/document/4#Ramzi_Yousef_http://profilesinterror.mindswap.org/document/19#Nidal_Ayyad\"\n",
      "W1127 11:13:00.568357 4754099648 preprocessing_terror_dataset.py:191] No tf.train.Example found for edge target ID: \"http://profilesinterror.mindswap.org/document/19#EyadIsmoil_http://profilesinterror.mindswap.org/document/4#Ramzi_Yousef\"\n",
      "W1127 11:13:00.568421 4754099648 preprocessing_terror_dataset.py:191] No tf.train.Example found for edge target ID: \"http://profilesinterror.mindswap.org/document/19#AhmadAjaj_http://profilesinterror.mindswap.org/document/4#Ramzi_Yousef\"\n",
      "W1127 11:13:00.568477 4754099648 preprocessing_terror_dataset.py:191] No tf.train.Example found for edge target ID: \"http://profilesinterror.mindswap.org/document/19#MohammedSalameh_http://profilesinterror.mindswap.org/document/4#Ramzi_Yousef\"\n",
      "W1127 11:13:00.571125 4754099648 preprocessing_terror_dataset.py:191] No tf.train.Example found for edge target ID: \"http://profilesinterror.mindswap.org/document/2005/12/20/20:55:53#_http://profilesinterror.mindswap.org/document/2005/09/08/04:39:17#\"\n",
      "W1127 11:13:00.575044 4754099648 preprocessing_terror_dataset.py:191] No tf.train.Example found for edge target ID: \"http://profilesinterror.mindswap.org/document/2005/07/28/16:02:44#Germaine_Lindsay_http://profilesinterror.mindswap.org/document/2005/07/28/15:59:18#Mohammad_Sidique_Khan\"\n",
      "W1127 11:13:00.578948 4754099648 preprocessing_terror_dataset.py:191] No tf.train.Example found for edge target ID: \"http://profilesinterror.mindswap.org/document/2005/12/22/19:57:48#_http://counterterror.mindswap.org/2005/terrorists.owl#Lionel_Dumont\"\n",
      "W1127 11:13:00.580168 4754099648 preprocessing_terror_dataset.py:191] No tf.train.Example found for edge target ID: \"http://profilesinterror.mindswap.org/document/19#MohammedSalameh_http://profilesinterror.mindswap.org/document/19#EyadIsmoil\"\n",
      "W1127 11:13:00.580256 4754099648 preprocessing_terror_dataset.py:191] No tf.train.Example found for edge target ID: \"http://profilesinterror.mindswap.org/document/19#EyadIsmoil_http://profilesinterror.mindswap.org/document/19#Nidal_Ayyad\"\n",
      "W1127 11:13:00.580317 4754099648 preprocessing_terror_dataset.py:191] No tf.train.Example found for edge target ID: \"http://profilesinterror.mindswap.org/document/19#EyadIsmoil_http://profilesinterror.mindswap.org/document/4#Ramzi_Yousef\"\n",
      "W1127 11:13:00.581001 4754099648 preprocessing_terror_dataset.py:191] No tf.train.Example found for edge target ID: \"http://profilesinterror.mindswap.org/document/2005/08/09/16:36:24#_http://profilesinterror.mindswap.org/document/2005/08/09/16:43:04#\"\n",
      "W1127 11:13:00.581082 4754099648 preprocessing_terror_dataset.py:191] No tf.train.Example found for edge target ID: \"http://counterterror.mindswap.org/2005/terrorists.owl#Djamel_Beghal_http://counterterror.mindswap.org/2005/terrorists.owl#Nizar_Trabelsi\"\n",
      "W1127 11:13:00.583699 4754099648 preprocessing_terror_dataset.py:191] No tf.train.Example found for edge target ID: \"http://profilesinterror.mindswap.org/document/2005/12/20/20:55:53#_http://profilesinterror.mindswap.org/document/2005/09/08/04:39:17#\"\n",
      "W1127 11:13:00.591243 4754099648 preprocessing_terror_dataset.py:191] No tf.train.Example found for edge target ID: \"http://profilesinterror.mindswap.org/document/29#MohammedSchreim_http://profilesinterror.mindswap.org/document/29#NasserWatimi\"\n",
      "W1127 11:13:00.592750 4754099648 preprocessing_terror_dataset.py:191] No tf.train.Example found for edge target ID: \"http://profilesinterror.mindswap.org/document/2005/12/22/19:57:48#_http://counterterror.mindswap.org/2005/terrorists.owl#Lionel_Dumont\"\n",
      "W1127 11:13:00.593517 4754099648 preprocessing_terror_dataset.py:191] No tf.train.Example found for edge target ID: \"http://profilesinterror.mindswap.org/document/2006/03/17/05:42:48#_http://profilesinterror.mindswap.org/document/2006/03/15/22:21:03#\"\n",
      "W1127 11:13:00.593635 4754099648 preprocessing_terror_dataset.py:191] No tf.train.Example found for edge target ID: \"http://profilesinterror.mindswap.org/document/2006/03/17/05:42:48#_http://profilesinterror.mindswap.org/document/2006/03/17/05:47:04#\"\n",
      "W1127 11:13:00.593733 4754099648 preprocessing_terror_dataset.py:191] No tf.train.Example found for edge target ID: \"http://profilesinterror.mindswap.org/document/2006/03/17/05:42:48#_http://profilesinterror.mindswap.org/document/2006/03/15/04:58:21#\"\n",
      "W1127 11:13:00.601936 4754099648 preprocessing_terror_dataset.py:191] No tf.train.Example found for edge target ID: \"http://profilesinterror.mindswap.org/document/2005/07/28/16:02:44#Germaine_Lindsay_http://profilesinterror.mindswap.org/document/2005/07/28/15:59:18#Mohammad_Sidique_Khan\"\n",
      "W1127 11:13:00.603909 4754099648 preprocessing_terror_dataset.py:191] No tf.train.Example found for edge target ID: \"http://profilesinterror.mindswap.org/document/2005/07/28/16:02:44#Germaine_Lindsay_http://profilesinterror.mindswap.org/document/2005/07/28/15:59:18#Mohammad_Sidique_Khan\"\n",
      "W1127 11:13:00.604127 4754099648 preprocessing_terror_dataset.py:191] No tf.train.Example found for edge target ID: \"http://counterterror.mindswap.org/2005/terrorists.owl#Djamel_Beghal_http://counterterror.mindswap.org/2005/terrorists.owl#Nizar_Trabelsi\"\n",
      "W1127 11:13:00.612736 4754099648 preprocessing_terror_dataset.py:191] No tf.train.Example found for edge target ID: \"http://counterterror.mindswap.org/2005/terrorists.owl#Nizar_Trabelsi_http://profilesinterror.mindswap.org/document/2005/09/07/09:36:59#\"\n",
      "W1127 11:13:00.612887 4754099648 preprocessing_terror_dataset.py:191] No tf.train.Example found for edge target ID: \"http://counterterror.mindswap.org/2005/terrorists.owl#Nizar_Trabelsi_http://counterterror.mindswap.org/2005/terrorists.owl#Richard_Colvin_Reid\"\n",
      "W1127 11:13:00.612965 4754099648 preprocessing_terror_dataset.py:191] No tf.train.Example found for edge target ID: \"http://counterterror.mindswap.org/2005/terrorists.owl#Djamel_Beghal_http://counterterror.mindswap.org/2005/terrorists.owl#Nizar_Trabelsi\"\n",
      "W1127 11:13:00.627251 4754099648 preprocessing_terror_dataset.py:191] No tf.train.Example found for edge target ID: \"http://profilesinterror.mindswap.org/document/19#AhmadAjaj_http://profilesinterror.mindswap.org/document/19#Nidal_Ayyad\"\n",
      "W1127 11:13:00.627397 4754099648 preprocessing_terror_dataset.py:191] No tf.train.Example found for edge target ID: \"http://profilesinterror.mindswap.org/document/19#MohammedSalameh_http://profilesinterror.mindswap.org/document/19#Nidal_Ayyad\"\n",
      "W1127 11:13:00.627466 4754099648 preprocessing_terror_dataset.py:191] No tf.train.Example found for edge target ID: \"http://profilesinterror.mindswap.org/document/4#Ramzi_Yousef_http://profilesinterror.mindswap.org/document/19#Nidal_Ayyad\"\n",
      "W1127 11:13:00.627524 4754099648 preprocessing_terror_dataset.py:191] No tf.train.Example found for edge target ID: \"http://profilesinterror.mindswap.org/document/19#EyadIsmoil_http://profilesinterror.mindswap.org/document/19#Nidal_Ayyad\"\n",
      "W1127 11:13:00.628377 4754099648 preprocessing_terror_dataset.py:191] No tf.train.Example found for edge target ID: \"http://profilesinterror.mindswap.org/document/11#AhmedRessam_http://profilesinterror.mindswap.org/document/2005/06/17/00:42:19#Mourad_Ikhlef\"\n",
      "W1127 11:13:00.628472 4754099648 preprocessing_terror_dataset.py:191] No tf.train.Example found for edge target ID: \"http://profilesinterror.mindswap.org/document/11#AhmedRessam_http://counterterror.mindswap.org/2005/terrorists.owl#Abderraouf_Hannachi\"\n",
      "W1127 11:13:00.630742 4754099648 preprocessing_terror_dataset.py:191] No tf.train.Example found for edge target ID: \"http://profilesinterror.mindswap.org/document/27#FarouqQaddoumi_http://profilesinterror.mindswap.org/document/2005/05/24/18:26:22#Khaled_al-Fahoum\"\n",
      "W1127 11:13:00.631519 4754099648 preprocessing_terror_dataset.py:191] No tf.train.Example found for edge target ID: \"http://profilesinterror.mindswap.org/document/19#MohammedSalameh_http://profilesinterror.mindswap.org/document/19#Nidal_Ayyad\"\n",
      "W1127 11:13:00.631603 4754099648 preprocessing_terror_dataset.py:191] No tf.train.Example found for edge target ID: \"http://profilesinterror.mindswap.org/document/19#MohammedSalameh_http://profilesinterror.mindswap.org/document/19#EyadIsmoil\"\n",
      "W1127 11:13:00.631664 4754099648 preprocessing_terror_dataset.py:191] No tf.train.Example found for edge target ID: \"http://profilesinterror.mindswap.org/document/19#MohammedSalameh_http://profilesinterror.mindswap.org/document/4#Ramzi_Yousef\"\n",
      "W1127 11:13:00.631721 4754099648 preprocessing_terror_dataset.py:191] No tf.train.Example found for edge target ID: \"http://profilesinterror.mindswap.org/document/19#MohammedSalameh_http://profilesinterror.mindswap.org/document/19#AhmadAjaj\"\n",
      "W1127 11:13:00.634496 4754099648 preprocessing_terror_dataset.py:191] No tf.train.Example found for edge target ID: \"http://counterterror.mindswap.org/2005/terrorists.owl#Richard_Colvin_Reid_http://profilesinterror.mindswap.org/document/2005/09/07/09:36:59#\"\n",
      "W1127 11:13:00.634598 4754099648 preprocessing_terror_dataset.py:191] No tf.train.Example found for edge target ID: \"http://counterterror.mindswap.org/2005/terrorists.owl#Nizar_Trabelsi_http://counterterror.mindswap.org/2005/terrorists.owl#Richard_Colvin_Reid\"\n",
      "W1127 11:13:00.637471 4754099648 preprocessing_terror_dataset.py:191] No tf.train.Example found for edge target ID: \"http://profilesinterror.mindswap.org/document/2005/08/09/16:36:24#_http://profilesinterror.mindswap.org/document/2005/08/09/16:43:04#\"\n",
      "W1127 11:13:00.638328 4754099648 preprocessing_terror_dataset.py:191] No tf.train.Example found for edge target ID: \"http://profilesinterror.mindswap.org/document/29#MohammedSchreim_http://profilesinterror.mindswap.org/document/29#NasserWatimi\"\n",
      "W1127 11:13:00.639126 4754099648 preprocessing_terror_dataset.py:191] No tf.train.Example found for edge target ID: \"http://counterterror.mindswap.org/2005/terrorists.owl#Richard_Colvin_Reid_http://profilesinterror.mindswap.org/document/2005/09/07/09:36:59#\"\n",
      "W1127 11:13:00.639212 4754099648 preprocessing_terror_dataset.py:191] No tf.train.Example found for edge target ID: \"http://counterterror.mindswap.org/2005/terrorists.owl#Nizar_Trabelsi_http://counterterror.mindswap.org/2005/terrorists.owl#Richard_Colvin_Reid\"\n",
      "W1127 11:13:00.640038 4754099648 preprocessing_terror_dataset.py:191] No tf.train.Example found for edge target ID: \"http://profilesinterror.mindswap.org/document/2005/12/22/19:57:48#_http://counterterror.mindswap.org/2005/terrorists.owl#Lionel_Dumont\"\n"
     ]
    },
    {
     "name": "stdout",
     "output_type": "stream",
     "text": [
      "W1127 11:13:00.649276 4754099648 preprocessing_terror_dataset.py:191] No tf.train.Example found for edge target ID: \"http://profilesinterror.mindswap.org/document/2005/12/22/19:57:48#_http://counterterror.mindswap.org/2005/terrorists.owl#Lionel_Dumont\"\n",
      "W1127 11:13:00.652937 4754099648 preprocessing_terror_dataset.py:191] No tf.train.Example found for edge target ID: \"http://profilesinterror.mindswap.org/document/2005/08/09/16:36:24#_http://profilesinterror.mindswap.org/document/2005/08/09/16:43:04#\"\n",
      "W1127 11:13:00.655081 4754099648 preprocessing_terror_dataset.py:191] No tf.train.Example found for edge target ID: \"http://profilesinterror.mindswap.org/document/2006/03/17/05:42:48#_http://profilesinterror.mindswap.org/document/2006/03/17/05:47:04#\"\n",
      "W1127 11:13:00.655297 4754099648 preprocessing_terror_dataset.py:191] No tf.train.Example found for edge target ID: \"http://profilesinterror.mindswap.org/document/2006/03/17/05:47:04#_http://profilesinterror.mindswap.org/document/2006/03/15/04:58:21#\"\n",
      "W1127 11:13:00.658932 4754099648 preprocessing_terror_dataset.py:191] No tf.train.Example found for edge target ID: \"http://counterterror.mindswap.org/2005/terrorists.owl#Richard_Colvin_Reid_http://profilesinterror.mindswap.org/document/2005/09/07/09:36:59#\"\n",
      "W1127 11:13:00.659136 4754099648 preprocessing_terror_dataset.py:191] No tf.train.Example found for edge target ID: \"http://counterterror.mindswap.org/2005/terrorists.owl#Nizar_Trabelsi_http://counterterror.mindswap.org/2005/terrorists.owl#Richard_Colvin_Reid\"\n",
      "W1127 11:13:00.659257 4754099648 preprocessing_terror_dataset.py:191] No tf.train.Example found for edge target ID: \"http://counterterror.mindswap.org/2005/terrorists.owl#Djamel_Beghal_http://counterterror.mindswap.org/2005/terrorists.owl#Nizar_Trabelsi\"\n",
      "W1127 11:13:00.660845 4754099648 preprocessing_terror_dataset.py:191] No tf.train.Example found for edge target ID: \"http://profilesinterror.mindswap.org/document/2005/12/20/20:55:53#_http://profilesinterror.mindswap.org/document/2005/09/08/04:39:17#\"\n",
      "W1127 11:13:00.662425 4754099648 preprocessing_terror_dataset.py:191] No tf.train.Example found for edge target ID: \"http://profilesinterror.mindswap.org/document/2005/07/28/16:02:44#Germaine_Lindsay_http://profilesinterror.mindswap.org/document/2005/07/28/15:59:18#Mohammad_Sidique_Khan\"\n",
      "W1127 11:13:00.664052 4754099648 preprocessing_terror_dataset.py:191] No tf.train.Example found for edge target ID: \"http://profilesinterror.mindswap.org/document/2005/07/28/16:02:44#Germaine_Lindsay_http://profilesinterror.mindswap.org/document/2005/07/28/15:59:18#Mohammad_Sidique_Khan\"\n",
      "W1127 11:13:00.664176 4754099648 preprocessing_terror_dataset.py:191] No tf.train.Example found for edge target ID: \"http://counterterror.mindswap.org/2005/terrorists.owl#Nizar_Trabelsi_http://counterterror.mindswap.org/2005/terrorists.owl#Richard_Colvin_Reid\"\n",
      "W1127 11:13:00.664250 4754099648 preprocessing_terror_dataset.py:191] No tf.train.Example found for edge target ID: \"http://counterterror.mindswap.org/2005/terrorists.owl#Djamel_Beghal_http://counterterror.mindswap.org/2005/terrorists.owl#Nizar_Trabelsi\"\n",
      "W1127 11:13:00.664312 4754099648 preprocessing_terror_dataset.py:191] No tf.train.Example found for edge target ID: \"http://counterterror.mindswap.org/2005/terrorists.owl#Nizar_Trabelsi_http://profilesinterror.mindswap.org/document/2005/09/07/09:36:59#\"\n",
      "W1127 11:13:00.675862 4754099648 preprocessing_terror_dataset.py:191] No tf.train.Example found for edge target ID: \"http://counterterror.mindswap.org/2005/terrorists.owl#Djamel_Beghal_http://counterterror.mindswap.org/2005/terrorists.owl#Nizar_Trabelsi\"\n",
      "W1127 11:13:00.680783 4754099648 preprocessing_terror_dataset.py:191] No tf.train.Example found for edge target ID: \"http://counterterror.mindswap.org/2005/terrorists.owl#Richard_Colvin_Reid_http://profilesinterror.mindswap.org/document/2005/09/07/09:36:59#\"\n",
      "W1127 11:13:00.680907 4754099648 preprocessing_terror_dataset.py:191] No tf.train.Example found for edge target ID: \"http://counterterror.mindswap.org/2005/terrorists.owl#Nizar_Trabelsi_http://profilesinterror.mindswap.org/document/2005/09/07/09:36:59#\"\n",
      "W1127 11:13:00.680983 4754099648 preprocessing_terror_dataset.py:191] No tf.train.Example found for edge target ID: \"http://counterterror.mindswap.org/2005/terrorists.owl#Djamel_Beghal_http://counterterror.mindswap.org/2005/terrorists.owl#Nizar_Trabelsi\"\n",
      "W1127 11:13:00.684583 4754099648 preprocessing_terror_dataset.py:191] No tf.train.Example found for edge target ID: \"http://profilesinterror.mindswap.org/document/2005/07/28/16:02:44#Germaine_Lindsay_http://profilesinterror.mindswap.org/document/2005/07/28/15:59:18#Mohammad_Sidique_Khan\"\n",
      "W1127 11:13:00.684733 4754099648 preprocessing_terror_dataset.py:191] No tf.train.Example found for edge target ID: \"http://profilesinterror.mindswap.org/document/2005/08/09/16:36:24#_http://profilesinterror.mindswap.org/document/2005/08/09/16:43:04#\"\n",
      "W1127 11:13:00.687235 4754099648 preprocessing_terror_dataset.py:191] No tf.train.Example found for edge target ID: \"http://profilesinterror.mindswap.org/document/11#AhmedRessam_http://counterterror.mindswap.org/2005/terrorists.owl#Abderraouf_Hannachi\"\n",
      "W1127 11:13:00.687402 4754099648 preprocessing_terror_dataset.py:191] No tf.train.Example found for edge target ID: \"http://profilesinterror.mindswap.org/document/11#AhmedRessam_http://profilesinterror.mindswap.org/document/2005/06/17/00:42:19#Mourad_Ikhlef\"\n",
      "W1127 11:13:00.690119 4754099648 preprocessing_terror_dataset.py:191] No tf.train.Example found for edge target ID: \"http://profilesinterror.mindswap.org/document/2005/12/20/20:55:53#_http://profilesinterror.mindswap.org/document/2005/09/08/04:39:17#\"\n",
      "W1127 11:13:00.692100 4754099648 preprocessing_terror_dataset.py:191] No tf.train.Example found for edge target ID: \"http://profilesinterror.mindswap.org/document/2005/07/28/16:02:44#Germaine_Lindsay_http://profilesinterror.mindswap.org/document/2005/07/28/15:59:18#Mohammad_Sidique_Khan\"\n",
      "W1127 11:13:00.694273 4754099648 preprocessing_terror_dataset.py:191] No tf.train.Example found for edge target ID: \"http://profilesinterror.mindswap.org/document/2005/07/28/16:02:44#Germaine_Lindsay_http://profilesinterror.mindswap.org/document/2005/07/28/15:59:18#Mohammad_Sidique_Khan\"\n",
      "W1127 11:13:00.695765 4754099648 preprocessing_terror_dataset.py:191] No tf.train.Example found for edge target ID: \"http://counterterror.mindswap.org/2005/terrorists.owl#Richard_Colvin_Reid_http://profilesinterror.mindswap.org/document/2005/09/07/09:36:59#\"\n",
      "W1127 11:13:00.695894 4754099648 preprocessing_terror_dataset.py:191] No tf.train.Example found for edge target ID: \"http://counterterror.mindswap.org/2005/terrorists.owl#Nizar_Trabelsi_http://counterterror.mindswap.org/2005/terrorists.owl#Richard_Colvin_Reid\"\n",
      "W1127 11:13:00.695971 4754099648 preprocessing_terror_dataset.py:191] No tf.train.Example found for edge target ID: \"http://profilesinterror.mindswap.org/document/2005/08/09/16:36:24#_http://profilesinterror.mindswap.org/document/2005/08/09/16:43:04#\"\n",
      "W1127 11:13:00.700834 4754099648 preprocessing_terror_dataset.py:191] No tf.train.Example found for edge target ID: \"http://profilesinterror.mindswap.org/document/2005/08/09/16:36:24#_http://profilesinterror.mindswap.org/document/2005/08/09/16:43:04#\"\n",
      "W1127 11:13:00.707653 4754099648 preprocessing_terror_dataset.py:191] No tf.train.Example found for edge target ID: \"http://profilesinterror.mindswap.org/document/2005/12/22/19:57:48#_http://counterterror.mindswap.org/2005/terrorists.owl#Lionel_Dumont\"\n",
      "W1127 11:13:00.709248 4754099648 preprocessing_terror_dataset.py:191] No tf.train.Example found for edge target ID: \"http://profilesinterror.mindswap.org/document/19#EyadIsmoil_http://profilesinterror.mindswap.org/document/19#Nidal_Ayyad\"\n",
      "W1127 11:13:00.709381 4754099648 preprocessing_terror_dataset.py:191] No tf.train.Example found for edge target ID: \"http://profilesinterror.mindswap.org/document/19#EyadIsmoil_http://profilesinterror.mindswap.org/document/4#Ramzi_Yousef\"\n",
      "W1127 11:13:00.709449 4754099648 preprocessing_terror_dataset.py:191] No tf.train.Example found for edge target ID: \"http://profilesinterror.mindswap.org/document/19#MohammedSalameh_http://profilesinterror.mindswap.org/document/19#EyadIsmoil\"\n",
      "W1127 11:13:00.712332 4754099648 preprocessing_terror_dataset.py:191] No tf.train.Example found for edge target ID: \"http://profilesinterror.mindswap.org/document/27#FarouqQaddoumi_http://profilesinterror.mindswap.org/document/2005/05/24/18:26:22#Khaled_al-Fahoum\"\n",
      "W1127 11:13:00.713196 4754099648 preprocessing_terror_dataset.py:191] No tf.train.Example found for edge target ID: \"http://counterterror.mindswap.org/2005/terrorists.owl#Richard_Colvin_Reid_http://profilesinterror.mindswap.org/document/2005/09/07/09:36:59#\"\n",
      "W1127 11:13:00.713306 4754099648 preprocessing_terror_dataset.py:191] No tf.train.Example found for edge target ID: \"http://counterterror.mindswap.org/2005/terrorists.owl#Nizar_Trabelsi_http://counterterror.mindswap.org/2005/terrorists.owl#Richard_Colvin_Reid\"\n",
      "W1127 11:13:00.718744 4754099648 preprocessing_terror_dataset.py:191] No tf.train.Example found for edge target ID: \"http://profilesinterror.mindswap.org/document/2005/12/22/19:57:48#_http://counterterror.mindswap.org/2005/terrorists.owl#Lionel_Dumont\"\n",
      "W1127 11:13:00.722718 4754099648 preprocessing_terror_dataset.py:191] No tf.train.Example found for edge target ID: \"http://counterterror.mindswap.org/2005/terrorists.owl#Nizar_Trabelsi_http://profilesinterror.mindswap.org/document/2005/09/07/09:36:59#\"\n",
      "W1127 11:13:00.722862 4754099648 preprocessing_terror_dataset.py:191] No tf.train.Example found for edge target ID: \"http://counterterror.mindswap.org/2005/terrorists.owl#Nizar_Trabelsi_http://counterterror.mindswap.org/2005/terrorists.owl#Richard_Colvin_Reid\"\n",
      "W1127 11:13:00.722936 4754099648 preprocessing_terror_dataset.py:191] No tf.train.Example found for edge target ID: \"http://counterterror.mindswap.org/2005/terrorists.owl#Djamel_Beghal_http://counterterror.mindswap.org/2005/terrorists.owl#Nizar_Trabelsi\"\n",
      "W1127 11:13:00.723690 4754099648 preprocessing_terror_dataset.py:191] No tf.train.Example found for edge target ID: \"http://profilesinterror.mindswap.org/document/2005/12/22/19:57:48#_http://counterterror.mindswap.org/2005/terrorists.owl#Lionel_Dumont\"\n",
      "W1127 11:13:00.726850 4754099648 preprocessing_terror_dataset.py:191] No tf.train.Example found for edge target ID: \"http://counterterror.mindswap.org/2005/terrorists.owl#Nizar_Trabelsi_http://profilesinterror.mindswap.org/document/2005/09/07/09:36:59#\"\n",
      "W1127 11:13:00.726939 4754099648 preprocessing_terror_dataset.py:191] No tf.train.Example found for edge target ID: \"http://counterterror.mindswap.org/2005/terrorists.owl#Nizar_Trabelsi_http://counterterror.mindswap.org/2005/terrorists.owl#Richard_Colvin_Reid\"\n",
      "W1127 11:13:00.727008 4754099648 preprocessing_terror_dataset.py:191] No tf.train.Example found for edge target ID: \"http://counterterror.mindswap.org/2005/terrorists.owl#Djamel_Beghal_http://counterterror.mindswap.org/2005/terrorists.owl#Nizar_Trabelsi\"\n",
      "W1127 11:13:00.728384 4754099648 preprocessing_terror_dataset.py:191] No tf.train.Example found for edge target ID: \"http://profilesinterror.mindswap.org/document/29#FathiKhatib_http://profilesinterror.mindswap.org/document/29#MuammarSheikh\"\n",
      "W1127 11:13:00.731543 4754099648 preprocessing_terror_dataset.py:191] No tf.train.Example found for edge target ID: \"http://profilesinterror.mindswap.org/document/2005/12/22/19:57:48#_http://counterterror.mindswap.org/2005/terrorists.owl#Lionel_Dumont\"\n",
      "W1127 11:13:00.733029 4754099648 preprocessing_terror_dataset.py:191] No tf.train.Example found for edge target ID: \"http://profilesinterror.mindswap.org/document/2006/03/17/05:42:48#_http://profilesinterror.mindswap.org/document/2006/03/17/05:47:04#\"\n",
      "W1127 11:13:00.733151 4754099648 preprocessing_terror_dataset.py:191] No tf.train.Example found for edge target ID: \"http://profilesinterror.mindswap.org/document/2006/03/17/05:42:48#_http://profilesinterror.mindswap.org/document/2006/03/15/04:58:21#\"\n",
      "W1127 11:13:00.733224 4754099648 preprocessing_terror_dataset.py:191] No tf.train.Example found for edge target ID: \"http://profilesinterror.mindswap.org/document/2006/03/17/05:42:48#_http://profilesinterror.mindswap.org/document/2006/03/15/22:21:03#\"\n",
      "W1127 11:13:00.737066 4754099648 preprocessing_terror_dataset.py:191] No tf.train.Example found for edge target ID: \"http://profilesinterror.mindswap.org/document/2006/03/17/05:42:48#_http://profilesinterror.mindswap.org/document/2006/03/15/22:21:03#\"\n",
      "W1127 11:13:00.737223 4754099648 preprocessing_terror_dataset.py:191] No tf.train.Example found for edge target ID: \"http://profilesinterror.mindswap.org/document/2006/03/15/22:21:03#_http://profilesinterror.mindswap.org/document/2006/03/15/04:58:21#\"\n",
      "W1127 11:13:00.738648 4754099648 preprocessing_terror_dataset.py:191] No tf.train.Example found for edge target ID: \"http://profilesinterror.mindswap.org/document/2006/03/17/05:42:48#_http://profilesinterror.mindswap.org/document/2006/03/15/22:21:03#\"\n",
      "W1127 11:13:00.738789 4754099648 preprocessing_terror_dataset.py:191] No tf.train.Example found for edge target ID: \"http://profilesinterror.mindswap.org/document/2006/03/17/05:42:48#_http://profilesinterror.mindswap.org/document/2006/03/17/05:47:04#\"\n",
      "W1127 11:13:00.738867 4754099648 preprocessing_terror_dataset.py:191] No tf.train.Example found for edge target ID: \"http://profilesinterror.mindswap.org/document/2006/03/17/05:42:48#_http://profilesinterror.mindswap.org/document/2006/03/15/04:58:21#\"\n",
      "W1127 11:13:00.741888 4754099648 preprocessing_terror_dataset.py:191] No tf.train.Example found for edge target ID: \"http://profilesinterror.mindswap.org/document/2006/03/15/22:21:03#_http://profilesinterror.mindswap.org/document/2006/03/15/04:58:21#\"\n",
      "W1127 11:13:00.742034 4754099648 preprocessing_terror_dataset.py:191] No tf.train.Example found for edge target ID: \"http://profilesinterror.mindswap.org/document/2006/03/17/05:42:48#_http://profilesinterror.mindswap.org/document/2006/03/15/22:21:03#\"\n",
      "W1127 11:13:00.744793 4754099648 preprocessing_terror_dataset.py:191] No tf.train.Example found for edge target ID: \"http://profilesinterror.mindswap.org/document/29#MohammedSchreim_http://profilesinterror.mindswap.org/document/29#NasserWatimi\"\n",
      "W1127 11:13:00.745582 4754099648 preprocessing_terror_dataset.py:191] No tf.train.Example found for edge target ID: \"http://profilesinterror.mindswap.org/document/2005/12/20/20:55:53#_http://profilesinterror.mindswap.org/document/2005/09/08/04:39:17#\"\n",
      "W1127 11:13:00.749016 4754099648 preprocessing_terror_dataset.py:191] No tf.train.Example found for edge target ID: \"http://profilesinterror.mindswap.org/document/4#Ramzi_Yousef_http://profilesinterror.mindswap.org/document/19#Nidal_Ayyad\"\n",
      "W1127 11:13:00.749175 4754099648 preprocessing_terror_dataset.py:191] No tf.train.Example found for edge target ID: \"http://profilesinterror.mindswap.org/document/19#EyadIsmoil_http://profilesinterror.mindswap.org/document/19#Nidal_Ayyad\"\n",
      "W1127 11:13:00.749248 4754099648 preprocessing_terror_dataset.py:191] No tf.train.Example found for edge target ID: \"http://profilesinterror.mindswap.org/document/19#AhmadAjaj_http://profilesinterror.mindswap.org/document/19#Nidal_Ayyad\"\n",
      "W1127 11:13:00.749306 4754099648 preprocessing_terror_dataset.py:191] No tf.train.Example found for edge target ID: \"http://profilesinterror.mindswap.org/document/19#MohammedSalameh_http://profilesinterror.mindswap.org/document/19#Nidal_Ayyad\"\n",
      "W1127 11:13:00.750095 4754099648 preprocessing_terror_dataset.py:191] No tf.train.Example found for edge target ID: \"http://counterterror.mindswap.org/2005/terrorists.owl#Djamel_Beghal_http://counterterror.mindswap.org/2005/terrorists.owl#Nizar_Trabelsi\"\n"
     ]
    },
    {
     "name": "stdout",
     "output_type": "stream",
     "text": [
      "W1127 11:13:00.751518 4754099648 preprocessing_terror_dataset.py:191] No tf.train.Example found for edge target ID: \"http://profilesinterror.mindswap.org/document/29#MohammedSchreim_http://profilesinterror.mindswap.org/document/29#NasserWatimi\"\n",
      "W1127 11:13:00.754310 4754099648 preprocessing_terror_dataset.py:191] No tf.train.Example found for edge target ID: \"http://profilesinterror.mindswap.org/document/19#MohammedSalameh_http://profilesinterror.mindswap.org/document/19#EyadIsmoil\"\n",
      "W1127 11:13:00.754609 4754099648 preprocessing_terror_dataset.py:191] No tf.train.Example found for edge target ID: \"http://profilesinterror.mindswap.org/document/19#EyadIsmoil_http://profilesinterror.mindswap.org/document/19#Nidal_Ayyad\"\n",
      "W1127 11:13:00.754822 4754099648 preprocessing_terror_dataset.py:191] No tf.train.Example found for edge target ID: \"http://profilesinterror.mindswap.org/document/19#EyadIsmoil_http://profilesinterror.mindswap.org/document/4#Ramzi_Yousef\"\n",
      "W1127 11:13:00.762478 4754099648 preprocessing_terror_dataset.py:191] No tf.train.Example found for edge target ID: \"http://profilesinterror.mindswap.org/document/2005/12/20/20:55:53#_http://profilesinterror.mindswap.org/document/2005/09/08/04:39:17#\"\n",
      "W1127 11:13:00.772961 4754099648 preprocessing_terror_dataset.py:191] No tf.train.Example found for edge target ID: \"http://counterterror.mindswap.org/2005/terrorists.owl#Nizar_Trabelsi_http://profilesinterror.mindswap.org/document/2005/09/07/09:36:59#\"\n",
      "W1127 11:13:00.773107 4754099648 preprocessing_terror_dataset.py:191] No tf.train.Example found for edge target ID: \"http://counterterror.mindswap.org/2005/terrorists.owl#Nizar_Trabelsi_http://counterterror.mindswap.org/2005/terrorists.owl#Richard_Colvin_Reid\"\n",
      "W1127 11:13:00.773177 4754099648 preprocessing_terror_dataset.py:191] No tf.train.Example found for edge target ID: \"http://counterterror.mindswap.org/2005/terrorists.owl#Djamel_Beghal_http://counterterror.mindswap.org/2005/terrorists.owl#Nizar_Trabelsi\"\n",
      "W1127 11:13:00.773913 4754099648 preprocessing_terror_dataset.py:191] No tf.train.Example found for edge target ID: \"http://profilesinterror.mindswap.org/document/27#FarouqQaddoumi_http://profilesinterror.mindswap.org/document/2005/05/24/18:26:22#Khaled_al-Fahoum\"\n",
      "W1127 11:13:00.774799 4754099648 preprocessing_terror_dataset.py:191] No tf.train.Example found for edge target ID: \"http://profilesinterror.mindswap.org/document/19#MohammedSalameh_http://profilesinterror.mindswap.org/document/19#AhmadAjaj\"\n",
      "W1127 11:13:00.774899 4754099648 preprocessing_terror_dataset.py:191] No tf.train.Example found for edge target ID: \"http://profilesinterror.mindswap.org/document/19#MohammedSalameh_http://profilesinterror.mindswap.org/document/19#Nidal_Ayyad\"\n",
      "W1127 11:13:00.774968 4754099648 preprocessing_terror_dataset.py:191] No tf.train.Example found for edge target ID: \"http://profilesinterror.mindswap.org/document/19#MohammedSalameh_http://profilesinterror.mindswap.org/document/19#EyadIsmoil\"\n",
      "W1127 11:13:00.775068 4754099648 preprocessing_terror_dataset.py:191] No tf.train.Example found for edge target ID: \"http://profilesinterror.mindswap.org/document/19#MohammedSalameh_http://profilesinterror.mindswap.org/document/4#Ramzi_Yousef\"\n",
      "W1127 11:13:00.778148 4754099648 preprocessing_terror_dataset.py:191] No tf.train.Example found for edge target ID: \"http://profilesinterror.mindswap.org/document/2005/07/28/16:02:44#Germaine_Lindsay_http://profilesinterror.mindswap.org/document/2005/07/28/15:59:18#Mohammad_Sidique_Khan\"\n",
      "W1127 11:13:00.780364 4754099648 preprocessing_terror_dataset.py:191] No tf.train.Example found for edge target ID: \"http://profilesinterror.mindswap.org/document/2005/07/28/16:02:44#Germaine_Lindsay_http://profilesinterror.mindswap.org/document/2005/07/28/15:59:18#Mohammad_Sidique_Khan\"\n",
      "W1127 11:13:00.780467 4754099648 preprocessing_terror_dataset.py:191] No tf.train.Example found for edge target ID: \"http://counterterror.mindswap.org/2005/terrorists.owl#Djamel_Beghal_http://counterterror.mindswap.org/2005/terrorists.owl#Nizar_Trabelsi\"\n",
      "W1127 11:13:00.781912 4754099648 preprocessing_terror_dataset.py:191] No tf.train.Example found for edge target ID: \"http://profilesinterror.mindswap.org/document/27#FarouqQaddoumi_http://profilesinterror.mindswap.org/document/2005/05/24/18:26:22#Khaled_al-Fahoum\"\n",
      "W1127 11:13:00.784614 4754099648 preprocessing_terror_dataset.py:191] No tf.train.Example found for edge target ID: \"http://profilesinterror.mindswap.org/document/2006/03/17/05:42:48#_http://profilesinterror.mindswap.org/document/2006/03/15/22:21:03#\"\n",
      "W1127 11:13:00.784716 4754099648 preprocessing_terror_dataset.py:191] No tf.train.Example found for edge target ID: \"http://profilesinterror.mindswap.org/document/2006/03/15/22:21:03#_http://profilesinterror.mindswap.org/document/2006/03/15/04:58:21#\"\n",
      "Done creating and writing 406 merged tf.train.Examples (0.30 seconds).\n",
      "Out-degree histogram: [(0, 1), (1, 2), (2, 12), (3, 391)]\n",
      "Output training data written to TFRecord file: /tmp/CustomTerroristRel/train_merged_examples.tfr.\n",
      "Output test data written to TFRecord file: /tmp/CustomTerroristRel/test_examples.tfr.\n",
      "Total running time: 0.01 minutes.\n"
     ]
    }
   ],
   "source": [
    "# !wget https://raw.githubusercontent.com/tensorflow/neural-structured-learning/master/neural_structured_learning/examples/preprocess/cora/preprocess_cora_dataset.py\n",
    "\n",
    "# !python preprocess_cora_dataset.py \\\n",
    "# --input_cora_content=/tmp/cora/cora.content \\\n",
    "# --input_cora_graph=/tmp/cora/cora.cites \\\n",
    "# --max_nbrs=5 \\\n",
    "# --output_train_data=/tmp/cora/train_merged_examples.tfr \\\n",
    "# --output_test_data=/tmp/cora/test_examples.tfr\n",
    "\n",
    "# !wget https://raw.githubusercontent.com/mrweissguy/nsl/master/preprocessing_terror_dataset.py?token=AKMVMPGQOLZCWR6HB2NCZQK5XGN6U\n",
    "# https://raw.githubusercontent.com/mrweissguy/nsl/master/preprocessing_terror_dataset.py?token=AKMVMPEPFXMPBD5SDWZSSOS5XF6NO\n",
    "# !wget https://raw.githubusercontent.com/mrweissguy/nsl/master/dataset_test_1/preprocessing_terror_dataset.py?token=AKMVMPBECTX7YBDS2EH3I5K5ZPDUE\n",
    "  \n",
    "!python preprocessing_terror_dataset.py \\\n",
    "--input_cora_content=/tmp/CustomTerroristRel/collected.nodes \\\n",
    "--input_cora_graph=/tmp/CustomTerroristRel/TerroristRel.edges \\\n",
    "--max_nbrs=3 \\\n",
    "--output_train_data=/tmp/CustomTerroristRel/train_merged_examples.tfr \\\n",
    "--output_test_data=/tmp/CustomTerroristRel/test_examples.tfr\n"
   ]
  },
  {
   "cell_type": "markdown",
   "metadata": {
    "colab_type": "text",
    "id": "DXoyHIdV5hEe"
   },
   "source": [
    "## Global variables\n",
    "\n",
    "The file paths to the train and test data are based on the command line flag\n",
    "values used to invoke the **'preprocess_cora_dataset.py'** script above."
   ]
  },
  {
   "cell_type": "code",
   "execution_count": 13,
   "metadata": {
    "colab": {},
    "colab_type": "code",
    "id": "kKAmzKIH6I9f"
   },
   "outputs": [],
   "source": [
    "# ### Experiment dataset\n",
    "# TRAIN_DATA_PATH = '/tmp/cora/train_merged_examples.tfr'\n",
    "# TEST_DATA_PATH = '/tmp/cora/test_examples.tfr'\n",
    "\n",
    "# ### Constants used to identify neighbor features in the input.\n",
    "# NBR_FEATURE_PREFIX = 'NL_nbr_'\n",
    "# NBR_WEIGHT_SUFFIX = '_weight'\n",
    "\n",
    "### Experiment dataset\n",
    "TRAIN_DATA_PATH = '/tmp/CustomTerroristRel/train_merged_examples.tfr'\n",
    "TEST_DATA_PATH = '/tmp/CustomTerroristRel/test_examples.tfr'\n",
    "\n",
    "### Constants used to identify neighbor features in the input.\n",
    "NBR_FEATURE_PREFIX = 'NL_nbr_'\n",
    "NBR_WEIGHT_SUFFIX = '_weight'"
   ]
  },
  {
   "cell_type": "code",
   "execution_count": null,
   "metadata": {},
   "outputs": [],
   "source": []
  },
  {
   "cell_type": "markdown",
   "metadata": {
    "colab_type": "text",
    "id": "2gYWAqJqZ76I"
   },
   "source": [
    "## Hyperparameters\n",
    "\n",
    "We will use an instance of `HParams` to inclue various hyperparameters and\n",
    "constants used for training and evaluation. We briefly describe each of them\n",
    "below:\n",
    "\n",
    "-   **num_classes**: There are a total 7 different classes\n",
    "\n",
    "-   **max_seq_length**: This is the size of the vocabulary and all instances in\n",
    "    the input have a dense multi-hot, bag-of-words representation. In other\n",
    "    words, a value of 1 for a word indicates that the word is present in the\n",
    "    input and a value of 0 indicates that it is not.\n",
    "\n",
    "-   **distance_type**: This is the distance metric used to regularize the sample\n",
    "    with its neighbors.\n",
    "\n",
    "-   **graph_regularization_multiplier**: This controls the relative weight of\n",
    "    the graph regularization term in the overall loss function.\n",
    "\n",
    "-   **num_neighbors**: The number of neighbors used for graph regularization.\n",
    "    This value has to be less than or equal to the `max_nbrs` command-line\n",
    "    argument used above when running `preprocess_cora_dataset.py`.\n",
    "\n",
    "-   **num_fc_units**: The number of fully connected layers in our neural\n",
    "    network.\n",
    "\n",
    "-   **train_epochs**: The number of training epochs.\n",
    "\n",
    "-   **batch_size**: Batch size used for training and evaluation.\n",
    "\n",
    "-   **dropout_rate**: Controls the rate of dropout following each fully\n",
    "    connected layer\n",
    "\n",
    "-   **eval_steps**: The number of batches to process before deeming evaluation\n",
    "    is complete. If set to `None`, all instances in the test set are evaluated."
   ]
  },
  {
   "cell_type": "code",
   "execution_count": 14,
   "metadata": {
    "colab": {},
    "colab_type": "code",
    "id": "N03EFEkcOBaJ"
   },
   "outputs": [],
   "source": [
    "class HParams(object):\n",
    "  \"\"\"Hyperparameters used for training.\"\"\"\n",
    "  def __init__(self):\n",
    "    ### dataset parameters\n",
    "    self.num_classes = 4\n",
    "#     self.num_classes = 2\n",
    "    self.max_seq_length = 1224 # distinct features\n",
    "    ### neural graph learning parameters\n",
    "    self.distance_type = nsl.configs.DistanceType.L2\n",
    "    self.graph_regularization_multiplier = 0.1\n",
    "    self.num_neighbors = 1\n",
    "    ### model architecture\n",
    "    self.num_fc_units = [50,50]\n",
    "    ### training parameters\n",
    "    self.train_epochs = 150\n",
    "    self.batch_size = 150\n",
    "    self.dropout_rate = 0.5\n",
    "    ### eval parameters\n",
    "    self.eval_steps = None  # All instances in the test set are evaluated.\n",
    "\n",
    "HPARAMS = HParams()"
   ]
  },
  {
   "cell_type": "markdown",
   "metadata": {
    "colab_type": "text",
    "id": "IMp34x0MfMMZ"
   },
   "source": [
    "## Load train and test data\n",
    "\n",
    "As described earlier in this notebook, the input training and test data have\n",
    "been created by the **'preprocess_cora_dataset.py'**. We will load them into two\n",
    "`tf.data.Dataset` objects -- one for train and one for test.\n",
    "\n",
    "In the input layer of our model, we will extract not just the 'words' and the\n",
    "'label' features from each sample, but also corresponding neighbor features\n",
    "based on the `hparams.num_neighbors`. Instances with fewer neighbors than\n",
    "`hparams.num_neighbors` will be assigned dummy values for those non-existent\n",
    "neighbor features."
   ]
  },
  {
   "cell_type": "code",
   "execution_count": 15,
   "metadata": {
    "colab": {},
    "colab_type": "code",
    "id": "LCKQVKGee1ST"
   },
   "outputs": [],
   "source": [
    "def parse_example(example_proto):\n",
    "  \"\"\"Extracts relevant fields from the `example_proto`.\n",
    "\n",
    "  Args:\n",
    "    example_proto: An instance of `tf.train.Example`.\n",
    "\n",
    "  Returns:\n",
    "    A pair whose first value is a dictionary containing relevant features\n",
    "    and whose second value contains the ground truth labels.\n",
    "  \"\"\"\n",
    "  # The 'words' feature is a multi-hot, bag-of-words representation of the\n",
    "  # original raw text. A default value is required for examples that don't\n",
    "  # have the feature.\n",
    "  feature_spec = {\n",
    "      'words':\n",
    "          tf.io.FixedLenFeature([HPARAMS.max_seq_length],\n",
    "                                tf.int64,\n",
    "                                default_value=tf.constant(\n",
    "                                    0,\n",
    "                                    dtype=tf.int64,\n",
    "                                    shape=[HPARAMS.max_seq_length])),\n",
    "      'label':\n",
    "          tf.io.FixedLenFeature((), tf.int64, default_value=-1),\n",
    "  }\n",
    "  # We also extract corresponding neighbor features in a similar manner to\n",
    "  # the features above.\n",
    "  for i in range(HPARAMS.num_neighbors):\n",
    "    nbr_feature_key = '{}{}_{}'.format(NBR_FEATURE_PREFIX, i, 'words')\n",
    "    nbr_weight_key = '{}{}{}'.format(NBR_FEATURE_PREFIX, i, NBR_WEIGHT_SUFFIX)\n",
    "    feature_spec[nbr_feature_key] = tf.io.FixedLenFeature(\n",
    "        [HPARAMS.max_seq_length],\n",
    "        tf.int64,\n",
    "        default_value=tf.constant(\n",
    "            0, dtype=tf.int64, shape=[HPARAMS.max_seq_length]))\n",
    "\n",
    "    # We assign a default value of 0.0 for the neighbor weight so that\n",
    "    # graph regularization is done on samples based on their exact number\n",
    "    # of neighbors. In other words, non-existent neighbors are discounted.\n",
    "    feature_spec[nbr_weight_key] = tf.io.FixedLenFeature(\n",
    "        [1], tf.float32, default_value=tf.constant([0.0]))\n",
    "\n",
    "  features = tf.io.parse_single_example(example_proto, feature_spec)\n",
    "\n",
    "  labels = features.pop('label')\n",
    "  return features, labels\n",
    "\n",
    "\n",
    "def make_dataset(file_path, training=False):\n",
    "  \"\"\"Creates a `tf.data.TFRecordDataset`.\n",
    "\n",
    "  Args:\n",
    "    file_path: Name of the file in the `.tfrecord` format containing\n",
    "      `tf.train.Example` objects.\n",
    "    training: Boolean indicating if we are in training mode.\n",
    "\n",
    "  Returns:\n",
    "    An instance of `tf.data.TFRecordDataset` containing the `tf.train.Example`\n",
    "    objects.\n",
    "  \"\"\"\n",
    "  dataset = tf.data.TFRecordDataset([file_path])\n",
    "  if training:\n",
    "    dataset = dataset.shuffle(10000)\n",
    "  dataset = dataset.map(parse_example)\n",
    "  dataset = dataset.batch(HPARAMS.batch_size)\n",
    "  return dataset\n",
    "\n",
    "\n",
    "train_dataset = make_dataset(TRAIN_DATA_PATH, training=True)\n",
    "test_dataset = make_dataset(TEST_DATA_PATH)"
   ]
  },
  {
   "cell_type": "markdown",
   "metadata": {
    "colab_type": "text",
    "id": "hEWEGhtVzI2p"
   },
   "source": [
    "Let's peek into the train dataset to look at its contents."
   ]
  },
  {
   "cell_type": "code",
   "execution_count": 16,
   "metadata": {
    "colab": {},
    "colab_type": "code",
    "id": "gx-YFaBoCOcl"
   },
   "outputs": [
    {
     "name": "stdout",
     "output_type": "stream",
     "text": [
      "Feature list: ['NL_nbr_0_weight', 'NL_nbr_0_words', 'words']\n",
      "Batch of inputs: tf.Tensor(\n",
      "[[0 0 0 ... 0 0 0]\n",
      " [0 0 0 ... 0 0 0]\n",
      " [0 0 0 ... 0 0 0]\n",
      " ...\n",
      " [0 0 0 ... 0 1 0]\n",
      " [0 0 0 ... 0 0 0]\n",
      " [0 0 0 ... 0 0 0]], shape=(150, 1224), dtype=int64)\n",
      "Batch of neighbor inputs: tf.Tensor(\n",
      "[[0 0 0 ... 0 0 0]\n",
      " [0 0 0 ... 0 0 0]\n",
      " [0 0 0 ... 0 0 0]\n",
      " ...\n",
      " [0 0 0 ... 0 1 0]\n",
      " [0 0 0 ... 0 0 0]\n",
      " [0 0 0 ... 0 0 0]], shape=(150, 1224), dtype=int64)\n",
      "Batch of neighbor weights: tf.Tensor(\n",
      "[1. 1. 1. 1. 1. 1. 1. 1. 1. 1. 1. 1. 1. 1. 1. 1. 1. 1. 1. 1. 1. 1. 1. 1.\n",
      " 1. 1. 1. 1. 1. 1. 1. 1. 1. 1. 1. 1. 1. 1. 1. 1. 1. 1. 1. 1. 1. 1. 1. 1.\n",
      " 1. 1. 1. 1. 1. 1. 1. 1. 1. 1. 1. 1. 1. 1. 1. 1. 1. 1. 1. 1. 1. 1. 1. 1.\n",
      " 1. 1. 1. 1. 1. 1. 1. 1. 1. 1. 1. 1. 1. 1. 1. 1. 1. 1. 1. 1. 1. 1. 1. 1.\n",
      " 1. 1. 1. 1. 1. 1. 1. 1. 1. 1. 1. 1. 1. 1. 1. 1. 1. 1. 1. 1. 1. 1. 1. 1.\n",
      " 1. 1. 1. 1. 1. 1. 1. 1. 1. 1. 1. 1. 1. 1. 1. 1. 1. 1. 1. 1. 1. 1. 1. 1.\n",
      " 1. 1. 1. 1. 1. 1.], shape=(150,), dtype=float32)\n",
      "Batch of labels: tf.Tensor(\n",
      "[2 2 1 1 1 0 1 2 0 2 2 1 1 3 2 3 0 2 3 1 2 2 3 2 2 2 0 2 3 0 1 2 3 1 0 2 0\n",
      " 2 2 2 0 2 2 3 0 2 1 0 1 2 1 0 3 3 2 3 0 2 2 2 2 0 2 1 2 2 2 3 2 2 0 0 3 1\n",
      " 0 2 2 2 2 2 2 2 2 2 0 1 1 3 2 0 2 2 2 2 2 2 2 2 2 0 2 1 1 1 1 1 2 1 1 3 3\n",
      " 1 2 2 0 1 1 2 2 3 0 2 3 3 3 2 3 3 2 2 1 1 2 2 2 2 2 2 2 2 2 1 2 2 0 0 2 2\n",
      " 3 3], shape=(150,), dtype=int64)\n"
     ]
    }
   ],
   "source": [
    "for feature_batch, label_batch in train_dataset.take(1):\n",
    "    print('Feature list:', list(feature_batch.keys()))\n",
    "    print('Batch of inputs:', feature_batch['words'])\n",
    "    nbr_feature_key = '{}{}_{}'.format(NBR_FEATURE_PREFIX, 0, 'words')\n",
    "    nbr_weight_key = '{}{}{}'.format(NBR_FEATURE_PREFIX, 0, NBR_WEIGHT_SUFFIX)\n",
    "    print('Batch of neighbor inputs:', feature_batch[nbr_feature_key])\n",
    "    print('Batch of neighbor weights:',\n",
    "        tf.reshape(feature_batch[nbr_weight_key], [-1]))\n",
    "    print('Batch of labels:', label_batch)"
   ]
  },
  {
   "cell_type": "markdown",
   "metadata": {
    "colab_type": "text",
    "id": "J7B30hRPzOBE"
   },
   "source": [
    "Let's peek into the test dataset to look at its contents."
   ]
  },
  {
   "cell_type": "code",
   "execution_count": 17,
   "metadata": {
    "colab": {},
    "colab_type": "code",
    "id": "kNJuM9yJiFtj"
   },
   "outputs": [
    {
     "name": "stdout",
     "output_type": "stream",
     "text": [
      "Feature list: ['NL_nbr_0_weight', 'NL_nbr_0_words', 'words']\n",
      "Batch of inputs: tf.Tensor(\n",
      "[[0 0 0 ... 0 0 0]\n",
      " [0 0 0 ... 0 0 0]\n",
      " [0 0 0 ... 0 0 0]\n",
      " ...\n",
      " [0 0 0 ... 0 0 0]\n",
      " [0 0 0 ... 0 0 0]\n",
      " [0 0 0 ... 0 1 0]], shape=(150, 1224), dtype=int64)\n",
      "Batch of neighbor inputs: tf.Tensor(\n",
      "[[0 0 0 ... 0 0 0]\n",
      " [0 0 0 ... 0 0 0]\n",
      " [0 0 0 ... 0 0 0]\n",
      " ...\n",
      " [0 0 0 ... 0 0 0]\n",
      " [0 0 0 ... 0 0 0]\n",
      " [0 0 0 ... 0 0 0]], shape=(150, 1224), dtype=int64)\n",
      "Batch of neighbor weights: tf.Tensor(\n",
      "[0. 0. 0. 0. 0. 0. 0. 0. 0. 0. 0. 0. 0. 0. 0. 0. 0. 0. 0. 0. 0. 0. 0. 0.\n",
      " 0. 0. 0. 0. 0. 0. 0. 0. 0. 0. 0. 0. 0. 0. 0. 0. 0. 0. 0. 0. 0. 0. 0. 0.\n",
      " 0. 0. 0. 0. 0. 0. 0. 0. 0. 0. 0. 0. 0. 0. 0. 0. 0. 0. 0. 0. 0. 0. 0. 0.\n",
      " 0. 0. 0. 0. 0. 0. 0. 0. 0. 0. 0. 0. 0. 0. 0. 0. 0. 0. 0. 0. 0. 0. 0. 0.\n",
      " 0. 0. 0. 0. 0. 0. 0. 0. 0. 0. 0. 0. 0. 0. 0. 0. 0. 0. 0. 0. 0. 0. 0. 0.\n",
      " 0. 0. 0. 0. 0. 0. 0. 0. 0. 0. 0. 0. 0. 0. 0. 0. 0. 0. 0. 0. 0. 0. 0. 0.\n",
      " 0. 0. 0. 0. 0. 0.], shape=(150,), dtype=float32)\n",
      "Batch of labels: tf.Tensor(\n",
      "[2 2 3 2 0 2 0 0 2 2 2 1 0 1 2 3 2 2 1 2 1 2 3 2 2 2 2 1 2 2 3 2 2 0 2 2 2\n",
      " 3 0 1 1 2 2 1 2 2 2 2 2 2 2 0 0 2 2 2 2 2 2 1 1 2 1 2 1 1 0 2 2 0 2 3 2 2\n",
      " 0 1 0 1 0 2 3 2 3 3 0 1 2 3 2 1 1 2 3 2 2 3 2 3 0 2 1 1 2 1 2 2 2 2 2 2 2\n",
      " 1 3 0 2 0 2 2 2 2 0 1 2 0 0 2 0 1 2 2 2 2 2 1 2 1 3 0 1 1 2 0 0 2 2 2 2 1\n",
      " 1 2], shape=(150,), dtype=int64)\n"
     ]
    }
   ],
   "source": [
    "for feature_batch, label_batch in test_dataset.take(1):\n",
    "    print('Feature list:', list(feature_batch.keys()))\n",
    "    print('Batch of inputs:', feature_batch['words'])\n",
    "    nbr_feature_key = '{}{}_{}'.format(NBR_FEATURE_PREFIX, 0, 'words')\n",
    "    nbr_weight_key = '{}{}{}'.format(NBR_FEATURE_PREFIX, 0, NBR_WEIGHT_SUFFIX)\n",
    "    print('Batch of neighbor inputs:', feature_batch[nbr_feature_key])\n",
    "    print('Batch of neighbor weights:',\n",
    "        tf.reshape(feature_batch[nbr_weight_key], [-1]))\n",
    "    print('Batch of labels:', label_batch)"
   ]
  },
  {
   "cell_type": "markdown",
   "metadata": {
    "colab_type": "text",
    "id": "OZhsTo8yio8i"
   },
   "source": [
    "## Model definition\n",
    "\n",
    "In order to demonstrate the use of graph regularization, we build a base model\n",
    "for this problem first. We will use a simple feed-forward neural network with 2\n",
    "hidden layers and dropout in between. We illustrate the creation of the base\n",
    "model using all model types supported by the `tf.Keras` framework -- sequential,\n",
    "functional, and subclass."
   ]
  },
  {
   "cell_type": "markdown",
   "metadata": {
    "colab_type": "text",
    "id": "z_kBDDfFiuyI"
   },
   "source": [
    "### Sequential base model"
   ]
  },
  {
   "cell_type": "code",
   "execution_count": 18,
   "metadata": {
    "colab": {},
    "colab_type": "code",
    "id": "pecJmegfWijx"
   },
   "outputs": [],
   "source": [
    "def make_mlp_sequential_model(hparams):\n",
    "  \"\"\"Creates a sequential multi-layer perceptron model.\"\"\"\n",
    "  model = tf.keras.Sequential()\n",
    "  model.add(\n",
    "      tf.keras.layers.InputLayer(\n",
    "          input_shape=(hparams.max_seq_length,), name='words'))\n",
    "  # Input is already one-hot encoded in the integer format. We cast it to\n",
    "  # floating point format here.\n",
    "  model.add(\n",
    "      tf.keras.layers.Lambda(lambda x: tf.keras.backend.cast(x, tf.float32)))\n",
    "  for num_units in hparams.num_fc_units:\n",
    "    model.add(tf.keras.layers.Dense(num_units, activation='relu'))\n",
    "    # For sequential models, by default, Keras ensures that the 'dropout' layer\n",
    "    # is invoked only during training.\n",
    "    model.add(tf.keras.layers.Dropout(hparams.dropout_rate))\n",
    "  model.add(tf.keras.layers.Dense(hparams.num_classes, activation='softmax'))\n",
    "  return model"
   ]
  },
  {
   "cell_type": "markdown",
   "metadata": {
    "colab_type": "text",
    "id": "FfZWxqVPiz_f"
   },
   "source": [
    "### Functional base model"
   ]
  },
  {
   "cell_type": "code",
   "execution_count": 19,
   "metadata": {
    "colab": {},
    "colab_type": "code",
    "id": "TU-YE4NXi7PK"
   },
   "outputs": [],
   "source": [
    "def make_mlp_functional_model(hparams):\n",
    "    \"\"\"Creates a functional API-based multi-layer perceptron model.\"\"\"\n",
    "    inputs = tf.keras.Input(shape=(hparams.max_seq_length,), dtype='int64', name='words')\n",
    "\n",
    "  # Input is already one-hot encoded in the integer format. We cast it to\n",
    "  # floating point format here.\n",
    "    cur_layer = tf.keras.layers.Lambda(\n",
    "      lambda x: tf.keras.backend.cast(x, tf.float32))(\n",
    "          inputs)\n",
    "\n",
    "    for num_units in hparams.num_fc_units:\n",
    "        cur_layer = tf.keras.layers.Dense(num_units, activation='relu')(cur_layer)\n",
    "        # For functional models, by default, Keras ensures that the 'dropout' layer\n",
    "        # is invoked only during training.\n",
    "        cur_layer = tf.keras.layers.Dropout(hparams.dropout_rate)(cur_layer)\n",
    "        cur_layer = tf.keras.layers.BatchNormalization()(cur_layer)\n",
    "\n",
    "    outputs = tf.keras.layers.Dense(\n",
    "      hparams.num_classes, activation='softmax')(\n",
    "          cur_layer)\n",
    "\n",
    "    model = tf.keras.Model(inputs, outputs=outputs)\n",
    "    return model"
   ]
  },
  {
   "cell_type": "code",
   "execution_count": 20,
   "metadata": {},
   "outputs": [],
   "source": [
    "# inputs = tf.keras.Input(\n",
    "#       shape=(1224,), dtype='int64', name='words')\n",
    "\n",
    "# cur_layer = tf.keras.layers.Lambda(\n",
    "#       lambda x: tf.keras.backend.cast(x, tf.float32))(\n",
    "#           inputs)\n",
    "\n",
    "# base_model = tf.keras.Sequential([\n",
    "#         tf.keras.layers.Dense(10, input_dim=inputs, activation=tf.nn.relu)(cur_layer),\n",
    "#         tf.keras.layers.BatchNormalization(),\n",
    "#         tf.keras.layers.Dropout(rate=0.5),\n",
    "#         tf.keras.layers.Dense(1, activation=tf.nn.softmax)\n",
    "#     ])"
   ]
  },
  {
   "cell_type": "markdown",
   "metadata": {
    "colab_type": "text",
    "id": "8LmAhITRi8M0"
   },
   "source": [
    "### Subclass base model"
   ]
  },
  {
   "cell_type": "code",
   "execution_count": 21,
   "metadata": {
    "colab": {},
    "colab_type": "code",
    "id": "4l1aK9b_jAw6"
   },
   "outputs": [],
   "source": [
    "def make_mlp_subclass_model(hparams):\n",
    "  \"\"\"Creates a multi-layer perceptron subclass model in Keras.\"\"\"\n",
    "\n",
    "  class MLP(tf.keras.Model):\n",
    "    \"\"\"Subclass model defining a multi-layer perceptron.\"\"\"\n",
    "\n",
    "    def __init__(self):\n",
    "      super(MLP, self).__init__()\n",
    "      # Input is already one-hot encoded in the integer format. We create a\n",
    "      # layer to cast it to floating point format here.\n",
    "      self.cast_to_float_layer = tf.keras.layers.Lambda(\n",
    "          lambda x: tf.keras.backend.cast(x, tf.float32))\n",
    "      self.dense_layers = [\n",
    "          tf.keras.layers.Dense(num_units, activation='relu')\n",
    "          for num_units in hparams.num_fc_units\n",
    "      ]\n",
    "      self.dropout_layer = tf.keras.layers.Dropout(hparams.dropout_rate)\n",
    "      self.output_layer = tf.keras.layers.Dense(\n",
    "          hparams.num_classes, activation='softmax')\n",
    "\n",
    "    def call(self, inputs, training=False):\n",
    "      cur_layer = self.cast_to_float_layer(inputs['words'])\n",
    "      for dense_layer in self.dense_layers:\n",
    "        cur_layer = dense_layer(cur_layer)\n",
    "        cur_layer = self.dropout_layer(cur_layer, training=training)\n",
    "\n",
    "      outputs = self.output_layer(cur_layer)\n",
    "\n",
    "      return outputs\n",
    "\n",
    "  return MLP()"
   ]
  },
  {
   "cell_type": "markdown",
   "metadata": {
    "colab_type": "text",
    "id": "BbGpIbscjIAo"
   },
   "source": [
    "## Create base model(s)"
   ]
  },
  {
   "cell_type": "code",
   "execution_count": 22,
   "metadata": {
    "colab": {},
    "colab_type": "code",
    "id": "fzMBxiMGjCO4"
   },
   "outputs": [
    {
     "name": "stdout",
     "output_type": "stream",
     "text": [
      "Model: \"model\"\n",
      "_________________________________________________________________\n",
      "Layer (type)                 Output Shape              Param #   \n",
      "=================================================================\n",
      "words (InputLayer)           [(None, 1224)]            0         \n",
      "_________________________________________________________________\n",
      "lambda (Lambda)              (None, 1224)              0         \n",
      "_________________________________________________________________\n",
      "dense (Dense)                (None, 50)                61250     \n",
      "_________________________________________________________________\n",
      "dropout (Dropout)            (None, 50)                0         \n",
      "_________________________________________________________________\n",
      "batch_normalization (BatchNo (None, 50)                200       \n",
      "_________________________________________________________________\n",
      "dense_1 (Dense)              (None, 50)                2550      \n",
      "_________________________________________________________________\n",
      "dropout_1 (Dropout)          (None, 50)                0         \n",
      "_________________________________________________________________\n",
      "batch_normalization_1 (Batch (None, 50)                200       \n",
      "_________________________________________________________________\n",
      "dense_2 (Dense)              (None, 4)                 204       \n",
      "=================================================================\n",
      "Total params: 64,404\n",
      "Trainable params: 64,204\n",
      "Non-trainable params: 200\n",
      "_________________________________________________________________\n"
     ]
    }
   ],
   "source": [
    "# Create a base MLP model using the functional API.\n",
    "# Alternatively, you can also create a sequential or subclass base model using\n",
    "# the make_mlp_sequential_model() or make_mlp_subclass_model() functions\n",
    "# respectively, defined above. Note that if a subclass model is used, its\n",
    "# summary cannot be generated until it is built.\n",
    "base_model_tag, base_model = 'FUNCTIONAL', make_mlp_functional_model(HPARAMS)\n",
    "base_model.summary()"
   ]
  },
  {
   "cell_type": "markdown",
   "metadata": {
    "colab_type": "text",
    "id": "T1uEboimjiW7"
   },
   "source": [
    "## Train base (Multilayer perceptron) MLP model"
   ]
  },
  {
   "cell_type": "code",
   "execution_count": 23,
   "metadata": {
    "colab": {},
    "colab_type": "code",
    "id": "JALapM4PoCvi",
    "scrolled": true
   },
   "outputs": [
    {
     "name": "stdout",
     "output_type": "stream",
     "text": [
      "Epoch 1/150\n",
      "3/3 [==============================] - 1s 431ms/step - loss: 1.9688 - accuracy: 0.3005 - val_loss: 0.0000e+00 - val_accuracy: 0.0000e+00\n",
      "Epoch 2/150\n",
      "3/3 [==============================] - 0s 46ms/step - loss: 1.7531 - accuracy: 0.3350 - val_loss: 1.3401 - val_accuracy: 0.5775\n",
      "Epoch 3/150\n",
      "3/3 [==============================] - 0s 42ms/step - loss: 1.5899 - accuracy: 0.3916 - val_loss: 1.3088 - val_accuracy: 0.5955\n",
      "Epoch 4/150\n",
      "3/3 [==============================] - 0s 41ms/step - loss: 1.5294 - accuracy: 0.3966 - val_loss: 1.2805 - val_accuracy: 0.6112\n",
      "Epoch 5/150\n",
      "3/3 [==============================] - 0s 39ms/step - loss: 1.4366 - accuracy: 0.4507 - val_loss: 1.2536 - val_accuracy: 0.6202\n",
      "Epoch 6/150\n",
      "3/3 [==============================] - 0s 34ms/step - loss: 1.3565 - accuracy: 0.4754 - val_loss: 1.2285 - val_accuracy: 0.6157\n",
      "Epoch 7/150\n",
      "3/3 [==============================] - 0s 34ms/step - loss: 1.2820 - accuracy: 0.5025 - val_loss: 1.2060 - val_accuracy: 0.6180\n",
      "Epoch 8/150\n",
      "3/3 [==============================] - 0s 42ms/step - loss: 1.1818 - accuracy: 0.5690 - val_loss: 1.1856 - val_accuracy: 0.6180\n",
      "Epoch 9/150\n",
      "3/3 [==============================] - 0s 42ms/step - loss: 1.1461 - accuracy: 0.5739 - val_loss: 1.1667 - val_accuracy: 0.6180\n",
      "Epoch 10/150\n",
      "3/3 [==============================] - 0s 44ms/step - loss: 0.9599 - accuracy: 0.6355 - val_loss: 1.1496 - val_accuracy: 0.6202\n",
      "Epoch 11/150\n",
      "3/3 [==============================] - 0s 46ms/step - loss: 0.9823 - accuracy: 0.6404 - val_loss: 1.1332 - val_accuracy: 0.6180\n",
      "Epoch 12/150\n",
      "3/3 [==============================] - 0s 44ms/step - loss: 0.9311 - accuracy: 0.6798 - val_loss: 1.1167 - val_accuracy: 0.6180\n",
      "Epoch 13/150\n",
      "3/3 [==============================] - 0s 61ms/step - loss: 0.9258 - accuracy: 0.6675 - val_loss: 1.1012 - val_accuracy: 0.6202\n",
      "Epoch 14/150\n",
      "3/3 [==============================] - 0s 38ms/step - loss: 0.9565 - accuracy: 0.6502 - val_loss: 1.0867 - val_accuracy: 0.6247\n",
      "Epoch 15/150\n",
      "3/3 [==============================] - 0s 45ms/step - loss: 0.9138 - accuracy: 0.6872 - val_loss: 1.0724 - val_accuracy: 0.6247\n",
      "Epoch 16/150\n",
      "3/3 [==============================] - 0s 39ms/step - loss: 0.9627 - accuracy: 0.6897 - val_loss: 1.0586 - val_accuracy: 0.6247\n",
      "Epoch 17/150\n",
      "3/3 [==============================] - 0s 47ms/step - loss: 0.9305 - accuracy: 0.6995 - val_loss: 1.0463 - val_accuracy: 0.6247\n",
      "Epoch 18/150\n",
      "3/3 [==============================] - 0s 46ms/step - loss: 0.8441 - accuracy: 0.7020 - val_loss: 1.0339 - val_accuracy: 0.6247\n",
      "Epoch 19/150\n",
      "3/3 [==============================] - 0s 46ms/step - loss: 0.7852 - accuracy: 0.7241 - val_loss: 1.0226 - val_accuracy: 0.6247\n",
      "Epoch 20/150\n",
      "3/3 [==============================] - 0s 47ms/step - loss: 0.7804 - accuracy: 0.7291 - val_loss: 1.0125 - val_accuracy: 0.6247\n",
      "Epoch 21/150\n",
      "3/3 [==============================] - 0s 46ms/step - loss: 0.6944 - accuracy: 0.7685 - val_loss: 1.0034 - val_accuracy: 0.6247\n",
      "Epoch 22/150\n",
      "3/3 [==============================] - 0s 47ms/step - loss: 0.7369 - accuracy: 0.7365 - val_loss: 0.9953 - val_accuracy: 0.6247\n",
      "Epoch 23/150\n",
      "3/3 [==============================] - 0s 47ms/step - loss: 0.7341 - accuracy: 0.7438 - val_loss: 0.9879 - val_accuracy: 0.6247\n",
      "Epoch 24/150\n",
      "3/3 [==============================] - 0s 47ms/step - loss: 0.6801 - accuracy: 0.7709 - val_loss: 0.9817 - val_accuracy: 0.6180\n",
      "Epoch 25/150\n",
      "3/3 [==============================] - 0s 47ms/step - loss: 0.6563 - accuracy: 0.7808 - val_loss: 0.9753 - val_accuracy: 0.6202\n",
      "Epoch 26/150\n",
      "3/3 [==============================] - 0s 47ms/step - loss: 0.6661 - accuracy: 0.7709 - val_loss: 0.9688 - val_accuracy: 0.6202\n",
      "Epoch 27/150\n",
      "3/3 [==============================] - 0s 41ms/step - loss: 0.7133 - accuracy: 0.7660 - val_loss: 0.9633 - val_accuracy: 0.6202\n",
      "Epoch 28/150\n",
      "3/3 [==============================] - 0s 39ms/step - loss: 0.6130 - accuracy: 0.7783 - val_loss: 0.9574 - val_accuracy: 0.6202\n",
      "Epoch 29/150\n",
      "3/3 [==============================] - 0s 38ms/step - loss: 0.6533 - accuracy: 0.7833 - val_loss: 0.9514 - val_accuracy: 0.6202\n",
      "Epoch 30/150\n",
      "3/3 [==============================] - 0s 41ms/step - loss: 0.5545 - accuracy: 0.7956 - val_loss: 0.9459 - val_accuracy: 0.6202\n",
      "Epoch 31/150\n",
      "3/3 [==============================] - 0s 47ms/step - loss: 0.5772 - accuracy: 0.7833 - val_loss: 0.9409 - val_accuracy: 0.6202\n",
      "Epoch 32/150\n",
      "3/3 [==============================] - 0s 47ms/step - loss: 0.6280 - accuracy: 0.7882 - val_loss: 0.9357 - val_accuracy: 0.6292\n",
      "Epoch 33/150\n",
      "3/3 [==============================] - 0s 42ms/step - loss: 0.5038 - accuracy: 0.8300 - val_loss: 0.9308 - val_accuracy: 0.6292\n",
      "Epoch 34/150\n",
      "3/3 [==============================] - 0s 45ms/step - loss: 0.4837 - accuracy: 0.8522 - val_loss: 0.9261 - val_accuracy: 0.6292\n",
      "Epoch 35/150\n",
      "3/3 [==============================] - 0s 44ms/step - loss: 0.5493 - accuracy: 0.8079 - val_loss: 0.9209 - val_accuracy: 0.6247\n",
      "Epoch 36/150\n",
      "3/3 [==============================] - 0s 47ms/step - loss: 0.5070 - accuracy: 0.8227 - val_loss: 0.9159 - val_accuracy: 0.6225\n",
      "Epoch 37/150\n",
      "3/3 [==============================] - 0s 48ms/step - loss: 0.4904 - accuracy: 0.8030 - val_loss: 0.9117 - val_accuracy: 0.6180\n",
      "Epoch 38/150\n",
      "3/3 [==============================] - 0s 47ms/step - loss: 0.5244 - accuracy: 0.8374 - val_loss: 0.9085 - val_accuracy: 0.6180\n",
      "Epoch 39/150\n",
      "3/3 [==============================] - 0s 44ms/step - loss: 0.4976 - accuracy: 0.8325 - val_loss: 0.9056 - val_accuracy: 0.6180\n",
      "Epoch 40/150\n",
      "3/3 [==============================] - 0s 42ms/step - loss: 0.5090 - accuracy: 0.8374 - val_loss: 0.9017 - val_accuracy: 0.6180\n",
      "Epoch 41/150\n",
      "3/3 [==============================] - 0s 42ms/step - loss: 0.4599 - accuracy: 0.8251 - val_loss: 0.9000 - val_accuracy: 0.6157\n",
      "Epoch 42/150\n",
      "3/3 [==============================] - 0s 43ms/step - loss: 0.4346 - accuracy: 0.8621 - val_loss: 0.8969 - val_accuracy: 0.6157\n",
      "Epoch 43/150\n",
      "3/3 [==============================] - 0s 43ms/step - loss: 0.4274 - accuracy: 0.8448 - val_loss: 0.8952 - val_accuracy: 0.6180\n",
      "Epoch 44/150\n",
      "3/3 [==============================] - 0s 46ms/step - loss: 0.4516 - accuracy: 0.8473 - val_loss: 0.8912 - val_accuracy: 0.6292\n",
      "Epoch 45/150\n",
      "3/3 [==============================] - 0s 44ms/step - loss: 0.3999 - accuracy: 0.8424 - val_loss: 0.8873 - val_accuracy: 0.6382\n",
      "Epoch 46/150\n",
      "3/3 [==============================] - 0s 42ms/step - loss: 0.4116 - accuracy: 0.8645 - val_loss: 0.8818 - val_accuracy: 0.6382\n",
      "Epoch 47/150\n",
      "3/3 [==============================] - 0s 43ms/step - loss: 0.4721 - accuracy: 0.8350 - val_loss: 0.8759 - val_accuracy: 0.6449\n",
      "Epoch 48/150\n",
      "3/3 [==============================] - 0s 42ms/step - loss: 0.4586 - accuracy: 0.8522 - val_loss: 0.8721 - val_accuracy: 0.6562\n",
      "Epoch 49/150\n",
      "3/3 [==============================] - 0s 37ms/step - loss: 0.4354 - accuracy: 0.8498 - val_loss: 0.8680 - val_accuracy: 0.6607\n",
      "Epoch 50/150\n",
      "3/3 [==============================] - 0s 35ms/step - loss: 0.4380 - accuracy: 0.8571 - val_loss: 0.8649 - val_accuracy: 0.6607\n",
      "Epoch 51/150\n",
      "3/3 [==============================] - 0s 38ms/step - loss: 0.4323 - accuracy: 0.8448 - val_loss: 0.8617 - val_accuracy: 0.6539\n",
      "Epoch 52/150\n",
      "3/3 [==============================] - 0s 39ms/step - loss: 0.3988 - accuracy: 0.8547 - val_loss: 0.8594 - val_accuracy: 0.6539\n",
      "Epoch 53/150\n",
      "3/3 [==============================] - 0s 38ms/step - loss: 0.3999 - accuracy: 0.8645 - val_loss: 0.8567 - val_accuracy: 0.6517\n",
      "Epoch 54/150\n",
      "3/3 [==============================] - 0s 38ms/step - loss: 0.3738 - accuracy: 0.8818 - val_loss: 0.8509 - val_accuracy: 0.6539\n",
      "Epoch 55/150\n",
      "3/3 [==============================] - 0s 40ms/step - loss: 0.4000 - accuracy: 0.8571 - val_loss: 0.8450 - val_accuracy: 0.6562\n",
      "Epoch 56/150\n",
      "3/3 [==============================] - 0s 39ms/step - loss: 0.3651 - accuracy: 0.8744 - val_loss: 0.8381 - val_accuracy: 0.6562\n",
      "Epoch 57/150\n",
      "3/3 [==============================] - 0s 41ms/step - loss: 0.4135 - accuracy: 0.8670 - val_loss: 0.8300 - val_accuracy: 0.6584\n",
      "Epoch 58/150\n",
      "3/3 [==============================] - 0s 44ms/step - loss: 0.4071 - accuracy: 0.8892 - val_loss: 0.8252 - val_accuracy: 0.6584\n",
      "Epoch 59/150\n"
     ]
    },
    {
     "name": "stdout",
     "output_type": "stream",
     "text": [
      "3/3 [==============================] - 0s 44ms/step - loss: 0.3515 - accuracy: 0.8768 - val_loss: 0.8197 - val_accuracy: 0.6584\n",
      "Epoch 60/150\n",
      "3/3 [==============================] - 0s 44ms/step - loss: 0.3815 - accuracy: 0.8571 - val_loss: 0.8128 - val_accuracy: 0.6584\n",
      "Epoch 61/150\n",
      "3/3 [==============================] - 0s 44ms/step - loss: 0.3839 - accuracy: 0.8768 - val_loss: 0.8062 - val_accuracy: 0.6607\n",
      "Epoch 62/150\n",
      "3/3 [==============================] - 0s 43ms/step - loss: 0.3657 - accuracy: 0.8793 - val_loss: 0.7991 - val_accuracy: 0.6629\n",
      "Epoch 63/150\n",
      "3/3 [==============================] - 0s 46ms/step - loss: 0.3476 - accuracy: 0.8719 - val_loss: 0.7938 - val_accuracy: 0.6764\n",
      "Epoch 64/150\n",
      "3/3 [==============================] - 0s 44ms/step - loss: 0.3711 - accuracy: 0.8768 - val_loss: 0.7893 - val_accuracy: 0.6764\n",
      "Epoch 65/150\n",
      "3/3 [==============================] - 0s 43ms/step - loss: 0.3583 - accuracy: 0.9015 - val_loss: 0.7838 - val_accuracy: 0.6764\n",
      "Epoch 66/150\n",
      "3/3 [==============================] - 0s 44ms/step - loss: 0.3649 - accuracy: 0.8744 - val_loss: 0.7804 - val_accuracy: 0.6809\n",
      "Epoch 67/150\n",
      "3/3 [==============================] - 0s 47ms/step - loss: 0.3644 - accuracy: 0.8448 - val_loss: 0.7779 - val_accuracy: 0.6809\n",
      "Epoch 68/150\n",
      "3/3 [==============================] - 0s 47ms/step - loss: 0.3769 - accuracy: 0.8768 - val_loss: 0.7730 - val_accuracy: 0.6809\n",
      "Epoch 69/150\n",
      "3/3 [==============================] - 0s 46ms/step - loss: 0.3187 - accuracy: 0.8842 - val_loss: 0.7664 - val_accuracy: 0.6809\n",
      "Epoch 70/150\n",
      "3/3 [==============================] - 0s 44ms/step - loss: 0.3174 - accuracy: 0.8695 - val_loss: 0.7612 - val_accuracy: 0.6854\n",
      "Epoch 71/150\n",
      "3/3 [==============================] - 0s 44ms/step - loss: 0.3145 - accuracy: 0.9064 - val_loss: 0.7564 - val_accuracy: 0.6854\n",
      "Epoch 72/150\n",
      "3/3 [==============================] - 0s 44ms/step - loss: 0.3185 - accuracy: 0.8768 - val_loss: 0.7547 - val_accuracy: 0.6854\n",
      "Epoch 73/150\n",
      "3/3 [==============================] - 0s 46ms/step - loss: 0.3000 - accuracy: 0.9039 - val_loss: 0.7498 - val_accuracy: 0.6854\n",
      "Epoch 74/150\n",
      "3/3 [==============================] - 0s 47ms/step - loss: 0.3320 - accuracy: 0.8867 - val_loss: 0.7442 - val_accuracy: 0.6921\n",
      "Epoch 75/150\n",
      "3/3 [==============================] - 0s 42ms/step - loss: 0.3159 - accuracy: 0.8768 - val_loss: 0.7390 - val_accuracy: 0.6921\n",
      "Epoch 76/150\n",
      "3/3 [==============================] - 0s 43ms/step - loss: 0.2764 - accuracy: 0.8916 - val_loss: 0.7362 - val_accuracy: 0.6921\n",
      "Epoch 77/150\n",
      "3/3 [==============================] - 0s 42ms/step - loss: 0.3315 - accuracy: 0.8793 - val_loss: 0.7305 - val_accuracy: 0.6966\n",
      "Epoch 78/150\n",
      "3/3 [==============================] - 0s 44ms/step - loss: 0.3243 - accuracy: 0.8670 - val_loss: 0.7284 - val_accuracy: 0.7011\n",
      "Epoch 79/150\n",
      "3/3 [==============================] - 0s 44ms/step - loss: 0.3341 - accuracy: 0.8842 - val_loss: 0.7257 - val_accuracy: 0.7011\n",
      "Epoch 80/150\n",
      "3/3 [==============================] - 0s 44ms/step - loss: 0.3022 - accuracy: 0.8818 - val_loss: 0.7206 - val_accuracy: 0.7056\n",
      "Epoch 81/150\n",
      "3/3 [==============================] - 0s 47ms/step - loss: 0.2917 - accuracy: 0.8941 - val_loss: 0.7141 - val_accuracy: 0.7079\n",
      "Epoch 82/150\n",
      "3/3 [==============================] - 0s 48ms/step - loss: 0.2956 - accuracy: 0.8892 - val_loss: 0.7092 - val_accuracy: 0.7079\n",
      "Epoch 83/150\n",
      "3/3 [==============================] - 0s 49ms/step - loss: 0.3220 - accuracy: 0.8719 - val_loss: 0.7029 - val_accuracy: 0.7079\n",
      "Epoch 84/150\n",
      "3/3 [==============================] - 0s 45ms/step - loss: 0.2751 - accuracy: 0.9039 - val_loss: 0.6962 - val_accuracy: 0.7146\n",
      "Epoch 85/150\n",
      "3/3 [==============================] - 0s 44ms/step - loss: 0.2904 - accuracy: 0.9064 - val_loss: 0.6913 - val_accuracy: 0.7169\n",
      "Epoch 86/150\n",
      "3/3 [==============================] - 0s 45ms/step - loss: 0.2748 - accuracy: 0.9089 - val_loss: 0.6856 - val_accuracy: 0.7191\n",
      "Epoch 87/150\n",
      "3/3 [==============================] - 0s 38ms/step - loss: 0.2895 - accuracy: 0.9163 - val_loss: 0.6804 - val_accuracy: 0.7236\n",
      "Epoch 88/150\n",
      "3/3 [==============================] - 0s 38ms/step - loss: 0.3141 - accuracy: 0.8867 - val_loss: 0.6781 - val_accuracy: 0.7191\n",
      "Epoch 89/150\n",
      "3/3 [==============================] - 0s 38ms/step - loss: 0.2772 - accuracy: 0.8966 - val_loss: 0.6743 - val_accuracy: 0.7169\n",
      "Epoch 90/150\n",
      "3/3 [==============================] - 0s 38ms/step - loss: 0.2922 - accuracy: 0.8941 - val_loss: 0.6712 - val_accuracy: 0.7213\n",
      "Epoch 91/150\n",
      "3/3 [==============================] - 0s 45ms/step - loss: 0.2682 - accuracy: 0.8966 - val_loss: 0.6719 - val_accuracy: 0.7213\n",
      "Epoch 92/150\n",
      "3/3 [==============================] - 0s 44ms/step - loss: 0.2700 - accuracy: 0.8867 - val_loss: 0.6698 - val_accuracy: 0.7236\n",
      "Epoch 93/150\n",
      "3/3 [==============================] - 0s 42ms/step - loss: 0.3277 - accuracy: 0.8941 - val_loss: 0.6667 - val_accuracy: 0.7236\n",
      "Epoch 94/150\n",
      "3/3 [==============================] - 0s 43ms/step - loss: 0.2809 - accuracy: 0.8793 - val_loss: 0.6648 - val_accuracy: 0.7236\n",
      "Epoch 95/150\n",
      "3/3 [==============================] - 0s 44ms/step - loss: 0.2195 - accuracy: 0.9163 - val_loss: 0.6675 - val_accuracy: 0.7258\n",
      "Epoch 96/150\n",
      "3/3 [==============================] - 0s 44ms/step - loss: 0.2754 - accuracy: 0.9015 - val_loss: 0.6651 - val_accuracy: 0.7258\n",
      "Epoch 97/150\n",
      "3/3 [==============================] - 0s 48ms/step - loss: 0.2340 - accuracy: 0.9064 - val_loss: 0.6606 - val_accuracy: 0.7393\n",
      "Epoch 98/150\n",
      "3/3 [==============================] - 0s 47ms/step - loss: 0.3159 - accuracy: 0.8916 - val_loss: 0.6562 - val_accuracy: 0.7371\n",
      "Epoch 99/150\n",
      "3/3 [==============================] - 0s 41ms/step - loss: 0.3132 - accuracy: 0.8867 - val_loss: 0.6507 - val_accuracy: 0.7393\n",
      "Epoch 100/150\n",
      "3/3 [==============================] - 0s 40ms/step - loss: 0.2430 - accuracy: 0.9138 - val_loss: 0.6453 - val_accuracy: 0.7483\n",
      "Epoch 101/150\n",
      "3/3 [==============================] - 0s 42ms/step - loss: 0.3175 - accuracy: 0.8941 - val_loss: 0.6431 - val_accuracy: 0.7528\n",
      "Epoch 102/150\n",
      "3/3 [==============================] - 0s 40ms/step - loss: 0.2751 - accuracy: 0.8941 - val_loss: 0.6431 - val_accuracy: 0.7551\n",
      "Epoch 103/150\n",
      "3/3 [==============================] - 0s 43ms/step - loss: 0.2778 - accuracy: 0.8966 - val_loss: 0.6408 - val_accuracy: 0.7573\n",
      "Epoch 104/150\n",
      "3/3 [==============================] - 0s 45ms/step - loss: 0.2709 - accuracy: 0.8990 - val_loss: 0.6367 - val_accuracy: 0.7573\n",
      "Epoch 105/150\n",
      "3/3 [==============================] - 0s 46ms/step - loss: 0.2443 - accuracy: 0.9187 - val_loss: 0.6293 - val_accuracy: 0.7573\n",
      "Epoch 106/150\n",
      "3/3 [==============================] - 0s 46ms/step - loss: 0.2297 - accuracy: 0.9212 - val_loss: 0.6238 - val_accuracy: 0.7596\n",
      "Epoch 107/150\n",
      "3/3 [==============================] - 0s 46ms/step - loss: 0.2556 - accuracy: 0.9212 - val_loss: 0.6197 - val_accuracy: 0.7596\n",
      "Epoch 108/150\n",
      "3/3 [==============================] - 0s 48ms/step - loss: 0.2728 - accuracy: 0.9138 - val_loss: 0.6153 - val_accuracy: 0.7663\n",
      "Epoch 109/150\n",
      "3/3 [==============================] - 0s 47ms/step - loss: 0.2242 - accuracy: 0.9261 - val_loss: 0.6119 - val_accuracy: 0.7663\n",
      "Epoch 110/150\n",
      "3/3 [==============================] - 0s 47ms/step - loss: 0.2414 - accuracy: 0.9113 - val_loss: 0.6048 - val_accuracy: 0.7730\n",
      "Epoch 111/150\n",
      "3/3 [==============================] - 0s 46ms/step - loss: 0.2409 - accuracy: 0.9039 - val_loss: 0.5969 - val_accuracy: 0.7753\n",
      "Epoch 112/150\n",
      "3/3 [==============================] - 0s 41ms/step - loss: 0.2438 - accuracy: 0.9064 - val_loss: 0.5882 - val_accuracy: 0.7798\n",
      "Epoch 113/150\n",
      "3/3 [==============================] - 0s 38ms/step - loss: 0.2361 - accuracy: 0.9015 - val_loss: 0.5822 - val_accuracy: 0.7820\n",
      "Epoch 114/150\n",
      "3/3 [==============================] - 0s 40ms/step - loss: 0.2643 - accuracy: 0.9015 - val_loss: 0.5784 - val_accuracy: 0.7820\n",
      "Epoch 115/150\n",
      "3/3 [==============================] - 0s 39ms/step - loss: 0.2392 - accuracy: 0.9187 - val_loss: 0.5783 - val_accuracy: 0.7820\n",
      "Epoch 116/150\n",
      "3/3 [==============================] - 0s 41ms/step - loss: 0.2032 - accuracy: 0.9335 - val_loss: 0.5802 - val_accuracy: 0.7798\n",
      "Epoch 117/150\n"
     ]
    },
    {
     "name": "stdout",
     "output_type": "stream",
     "text": [
      "3/3 [==============================] - 0s 42ms/step - loss: 0.2522 - accuracy: 0.9064 - val_loss: 0.5842 - val_accuracy: 0.7775\n",
      "Epoch 118/150\n",
      "3/3 [==============================] - 0s 42ms/step - loss: 0.2204 - accuracy: 0.9064 - val_loss: 0.5882 - val_accuracy: 0.7753\n",
      "Epoch 119/150\n",
      "3/3 [==============================] - 0s 39ms/step - loss: 0.2453 - accuracy: 0.9113 - val_loss: 0.5896 - val_accuracy: 0.7685\n",
      "Epoch 120/150\n",
      "3/3 [==============================] - 0s 38ms/step - loss: 0.2930 - accuracy: 0.9015 - val_loss: 0.5880 - val_accuracy: 0.7775\n",
      "Epoch 121/150\n",
      "3/3 [==============================] - 0s 40ms/step - loss: 0.2591 - accuracy: 0.9039 - val_loss: 0.5867 - val_accuracy: 0.7820\n",
      "Epoch 122/150\n",
      "3/3 [==============================] - 0s 38ms/step - loss: 0.2570 - accuracy: 0.9064 - val_loss: 0.5864 - val_accuracy: 0.7820\n",
      "Epoch 123/150\n",
      "3/3 [==============================] - 0s 41ms/step - loss: 0.2825 - accuracy: 0.9015 - val_loss: 0.5886 - val_accuracy: 0.7865\n",
      "Epoch 124/150\n",
      "3/3 [==============================] - 0s 46ms/step - loss: 0.2318 - accuracy: 0.9138 - val_loss: 0.5893 - val_accuracy: 0.7865\n",
      "Epoch 125/150\n",
      "3/3 [==============================] - 0s 44ms/step - loss: 0.2451 - accuracy: 0.8966 - val_loss: 0.5873 - val_accuracy: 0.7933\n",
      "Epoch 126/150\n",
      "3/3 [==============================] - 0s 40ms/step - loss: 0.2385 - accuracy: 0.8990 - val_loss: 0.5871 - val_accuracy: 0.7955\n",
      "Epoch 127/150\n",
      "3/3 [==============================] - 0s 47ms/step - loss: 0.2378 - accuracy: 0.9138 - val_loss: 0.5877 - val_accuracy: 0.7978\n",
      "Epoch 128/150\n",
      "3/3 [==============================] - 0s 40ms/step - loss: 0.2138 - accuracy: 0.9236 - val_loss: 0.5897 - val_accuracy: 0.7978\n",
      "Epoch 129/150\n",
      "3/3 [==============================] - 0s 41ms/step - loss: 0.2128 - accuracy: 0.9064 - val_loss: 0.5916 - val_accuracy: 0.7955\n",
      "Epoch 130/150\n",
      "3/3 [==============================] - 0s 44ms/step - loss: 0.2387 - accuracy: 0.9163 - val_loss: 0.5878 - val_accuracy: 0.8022\n",
      "Epoch 131/150\n",
      "3/3 [==============================] - 0s 44ms/step - loss: 0.2296 - accuracy: 0.9113 - val_loss: 0.5840 - val_accuracy: 0.8045\n",
      "Epoch 132/150\n",
      "3/3 [==============================] - 0s 44ms/step - loss: 0.2122 - accuracy: 0.9335 - val_loss: 0.5839 - val_accuracy: 0.8045\n",
      "Epoch 133/150\n",
      "3/3 [==============================] - 0s 45ms/step - loss: 0.2108 - accuracy: 0.9261 - val_loss: 0.5821 - val_accuracy: 0.8067\n",
      "Epoch 134/150\n",
      "3/3 [==============================] - 0s 46ms/step - loss: 0.2342 - accuracy: 0.9212 - val_loss: 0.5827 - val_accuracy: 0.8067\n",
      "Epoch 135/150\n",
      "3/3 [==============================] - 0s 47ms/step - loss: 0.2218 - accuracy: 0.9187 - val_loss: 0.5800 - val_accuracy: 0.8090\n",
      "Epoch 136/150\n",
      "3/3 [==============================] - 0s 43ms/step - loss: 0.2258 - accuracy: 0.9286 - val_loss: 0.5822 - val_accuracy: 0.8135\n",
      "Epoch 137/150\n",
      "3/3 [==============================] - 0s 44ms/step - loss: 0.2448 - accuracy: 0.9113 - val_loss: 0.5857 - val_accuracy: 0.8157\n",
      "Epoch 138/150\n",
      "3/3 [==============================] - 0s 45ms/step - loss: 0.2514 - accuracy: 0.9113 - val_loss: 0.5812 - val_accuracy: 0.8135\n",
      "Epoch 139/150\n",
      "3/3 [==============================] - 0s 46ms/step - loss: 0.2356 - accuracy: 0.9113 - val_loss: 0.5784 - val_accuracy: 0.8180\n",
      "Epoch 140/150\n",
      "3/3 [==============================] - 0s 46ms/step - loss: 0.2462 - accuracy: 0.8966 - val_loss: 0.5775 - val_accuracy: 0.8180\n",
      "Epoch 141/150\n",
      "3/3 [==============================] - 0s 49ms/step - loss: 0.2576 - accuracy: 0.9039 - val_loss: 0.5746 - val_accuracy: 0.8202\n",
      "Epoch 142/150\n",
      "3/3 [==============================] - 0s 47ms/step - loss: 0.2133 - accuracy: 0.9261 - val_loss: 0.5722 - val_accuracy: 0.8270\n",
      "Epoch 143/150\n",
      "3/3 [==============================] - 0s 47ms/step - loss: 0.2292 - accuracy: 0.9163 - val_loss: 0.5691 - val_accuracy: 0.8270\n",
      "Epoch 144/150\n",
      "3/3 [==============================] - 0s 45ms/step - loss: 0.2572 - accuracy: 0.9138 - val_loss: 0.5652 - val_accuracy: 0.8292\n",
      "Epoch 145/150\n",
      "3/3 [==============================] - 0s 47ms/step - loss: 0.2300 - accuracy: 0.9113 - val_loss: 0.5577 - val_accuracy: 0.8315\n",
      "Epoch 146/150\n",
      "3/3 [==============================] - 0s 46ms/step - loss: 0.2573 - accuracy: 0.9039 - val_loss: 0.5551 - val_accuracy: 0.8292\n",
      "Epoch 147/150\n",
      "3/3 [==============================] - 0s 45ms/step - loss: 0.2132 - accuracy: 0.9261 - val_loss: 0.5508 - val_accuracy: 0.8292\n",
      "Epoch 148/150\n",
      "3/3 [==============================] - 0s 45ms/step - loss: 0.2384 - accuracy: 0.9089 - val_loss: 0.5500 - val_accuracy: 0.8270\n",
      "Epoch 149/150\n",
      "3/3 [==============================] - 0s 46ms/step - loss: 0.2092 - accuracy: 0.9261 - val_loss: 0.5538 - val_accuracy: 0.8225\n",
      "Epoch 150/150\n",
      "3/3 [==============================] - 0s 44ms/step - loss: 0.2124 - accuracy: 0.9039 - val_loss: 0.5583 - val_accuracy: 0.8225\n"
     ]
    }
   ],
   "source": [
    "# Compile and train the base MLP model\n",
    "base_model.compile(\n",
    "    optimizer='adam',\n",
    "    #sparse_categorical_crossentropy\n",
    "    #categorical_crossentropy\n",
    "    loss='sparse_categorical_crossentropy',\n",
    "    metrics=['accuracy'],\n",
    "    lr=0.01, clipnorm=1.)\n",
    "base_model_history = base_model.fit(train_dataset, epochs=HPARAMS.train_epochs, verbose=1, validation_data=test_dataset) \n",
    "# history = base_model.fit(X, Y, validation_split=0.33, epochs=150, batch_size=10, verbose=1)\n",
    "# history = base_model.fit(train_dataset, test_dataset, validation_split=0.33, epochs=50)"
   ]
  },
  {
   "cell_type": "code",
   "execution_count": 24,
   "metadata": {},
   "outputs": [
    {
     "data": {
      "image/png": "[encoded data removed]",
      "text/plain": [
       "<Figure size 432x288 with 1 Axes>"
      ]
     },
     "metadata": {
      "needs_background": "light"
     },
     "output_type": "display_data"
    },
    {
     "data": {
      "image/png": "[encoded data removed]",
      "text/plain": [
       "<Figure size 432x288 with 1 Axes>"
      ]
     },
     "metadata": {
      "needs_background": "light"
     },
     "output_type": "display_data"
    }
   ],
   "source": [
    "# base_model.history.history['accuracy']\n",
    "\n",
    "import matplotlib.pyplot as plt\n",
    "# summarize history for accuracy\n",
    "plt.plot(base_model_history.history['accuracy'])\n",
    "plt.plot(base_model_history.history['val_accuracy'])\n",
    "\n",
    "plt.title('model accuracy')\n",
    "plt.ylabel('accuracy')\n",
    "plt.xlabel('epoch')\n",
    "plt.legend(['accuracy', 'loss'], loc='upper left')\n",
    "plt.show()\n",
    "\n",
    "plt.plot(base_model.history.history['loss'])\n",
    "plt.plot(base_model_history.history['val_loss'])\n",
    "plt.title('loss')\n",
    "plt.ylabel('accuracy')\n",
    "plt.xlabel('epoch')\n",
    "plt.legend(['loss'], loc='upper left')\n",
    "plt.show()"
   ]
  },
  {
   "cell_type": "markdown",
   "metadata": {
    "colab_type": "text",
    "id": "gPRioqydQD_8"
   },
   "source": [
    "## Evaluate base MLP model"
   ]
  },
  {
   "cell_type": "code",
   "execution_count": 25,
   "metadata": {
    "colab": {},
    "colab_type": "code",
    "id": "2NcsJVt6FSmZ"
   },
   "outputs": [],
   "source": [
    "# Helper function to print evaluation metrics.\n",
    "def print_metrics(model_desc, eval_metrics):\n",
    "  \"\"\"Prints evaluation metrics.\n",
    "\n",
    "  Args:\n",
    "    model_desc: A description of the model.\n",
    "    eval_metrics: A dictionary mapping metric names to corresponding values. It\n",
    "      must contain the loss and accuracy metrics.\n",
    "  \"\"\"\n",
    "  print('\\n')\n",
    "  print('Eval accuracy for ', model_desc, ': ', eval_metrics['accuracy'])\n",
    "  print('Eval loss for ', model_desc, ': ', eval_metrics['loss'])\n",
    "  if 'graph_loss' in eval_metrics:\n",
    "    print('Eval graph loss for ', model_desc, ': ', eval_metrics['graph_loss'])"
   ]
  },
  {
   "cell_type": "code",
   "execution_count": 26,
   "metadata": {
    "colab": {},
    "colab_type": "code",
    "id": "-myfttwIQAwc"
   },
   "outputs": [
    {
     "name": "stdout",
     "output_type": "stream",
     "text": [
      "3/3 [==============================] - 0s 17ms/step - loss: 0.5583 - accuracy: 0.8225\n",
      "\n",
      "\n",
      "Eval accuracy for  Base MLP model :  0.8224719\n",
      "Eval loss for  Base MLP model :  0.5583457748095194\n"
     ]
    }
   ],
   "source": [
    "eval_results = dict(\n",
    "    zip(base_model.metrics_names,\n",
    "        base_model.evaluate(test_dataset, steps=HPARAMS.eval_steps)))\n",
    "print_metrics('Base MLP model', eval_results)"
   ]
  },
  {
   "cell_type": "markdown",
   "metadata": {
    "colab_type": "text",
    "id": "bGwSzS9Spaiu"
   },
   "source": [
    "## Train MLP model with graph regularization\n",
    "\n",
    "Incorporating graph regularization into the loss term of an existing\n",
    "`tf.Keras.Model` requires just a few lines of code. The base model is wrapped to\n",
    "create a new `tf.Keras` subclass model, whose loss includes graph\n",
    "regularization."
   ]
  },
  {
   "cell_type": "markdown",
   "metadata": {
    "colab_type": "text",
    "id": "vuIGN8KQH0jR"
   },
   "source": [
    "To assess the incremental benefit of graph regularization, we will create a new\n",
    "base model instance. This is because `base_model` has already been trained for a\n",
    "few iterations, and reusing this trained model to create a graph-regularized\n",
    "model will not be a fair comparison for `base_model`."
   ]
  },
  {
   "cell_type": "code",
   "execution_count": 27,
   "metadata": {
    "colab": {},
    "colab_type": "code",
    "id": "6fvLei9dLCH0"
   },
   "outputs": [],
   "source": [
    "# Build a new base MLP model.\n",
    "base_reg_model_tag, base_reg_model = 'FUNCTIONAL', make_mlp_functional_model(\n",
    "    HPARAMS)"
   ]
  },
  {
   "cell_type": "code",
   "execution_count": 28,
   "metadata": {
    "colab": {},
    "colab_type": "code",
    "id": "HT3mpC8Lo1UZ",
    "scrolled": true
   },
   "outputs": [
    {
     "name": "stdout",
     "output_type": "stream",
     "text": [
      "Epoch 1/150\n"
     ]
    },
    {
     "name": "stderr",
     "output_type": "stream",
     "text": [
      "/Users/johanweisshansen/anaconda3/lib/python3.7/site-packages/tensorflow_core/python/framework/indexed_slices.py:424: UserWarning: Converting sparse IndexedSlices to a dense Tensor of unknown shape. This may consume a large amount of memory.\n",
      "  \"Converting sparse IndexedSlices to a dense Tensor of unknown shape. \"\n",
      "/Users/johanweisshansen/anaconda3/lib/python3.7/site-packages/tensorflow_core/python/framework/indexed_slices.py:424: UserWarning: Converting sparse IndexedSlices to a dense Tensor of unknown shape. This may consume a large amount of memory.\n",
      "  \"Converting sparse IndexedSlices to a dense Tensor of unknown shape. \"\n"
     ]
    },
    {
     "name": "stdout",
     "output_type": "stream",
     "text": [
      "3/3 [==============================] - 4s 1s/step - loss: 1.8547 - accuracy: 0.2512 - graph_loss: 0.2940 - val_loss: 0.0000e+00 - val_accuracy: 0.0000e+00 - val_graph_loss: 0.0000e+00\n",
      "Epoch 2/150\n",
      "3/3 [==============================] - 0s 41ms/step - loss: 1.7035 - accuracy: 0.3202 - graph_loss: 0.2527 - val_loss: 1.3383 - val_accuracy: 0.4944 - val_graph_loss: 0.0000e+00\n",
      "Epoch 3/150\n",
      "3/3 [==============================] - 0s 49ms/step - loss: 1.6686 - accuracy: 0.3153 - graph_loss: 0.2530 - val_loss: 1.3147 - val_accuracy: 0.5303 - val_graph_loss: 0.0000e+00\n",
      "Epoch 4/150\n",
      "3/3 [==============================] - 0s 47ms/step - loss: 1.5395 - accuracy: 0.4113 - graph_loss: 0.2507 - val_loss: 1.2919 - val_accuracy: 0.5506 - val_graph_loss: 0.0000e+00\n",
      "Epoch 5/150\n",
      "3/3 [==============================] - 0s 43ms/step - loss: 1.4563 - accuracy: 0.4335 - graph_loss: 0.2506 - val_loss: 1.2721 - val_accuracy: 0.5708 - val_graph_loss: 0.0000e+00\n",
      "Epoch 6/150\n",
      "3/3 [==============================] - 0s 40ms/step - loss: 1.3248 - accuracy: 0.4557 - graph_loss: 0.2480 - val_loss: 1.2514 - val_accuracy: 0.6022 - val_graph_loss: 0.0000e+00\n",
      "Epoch 7/150\n",
      "3/3 [==============================] - 0s 42ms/step - loss: 1.3077 - accuracy: 0.4729 - graph_loss: 0.2436 - val_loss: 1.2318 - val_accuracy: 0.6135 - val_graph_loss: 0.0000e+00\n",
      "Epoch 8/150\n",
      "3/3 [==============================] - 0s 42ms/step - loss: 1.3555 - accuracy: 0.4778 - graph_loss: 0.2321 - val_loss: 1.2144 - val_accuracy: 0.6247 - val_graph_loss: 0.0000e+00\n",
      "Epoch 9/150\n",
      "3/3 [==============================] - 0s 44ms/step - loss: 1.2927 - accuracy: 0.5296 - graph_loss: 0.2406 - val_loss: 1.1969 - val_accuracy: 0.6337 - val_graph_loss: 0.0000e+00\n",
      "Epoch 10/150\n",
      "3/3 [==============================] - 0s 43ms/step - loss: 1.2319 - accuracy: 0.4828 - graph_loss: 0.2517 - val_loss: 1.1807 - val_accuracy: 0.6315 - val_graph_loss: 0.0000e+00\n",
      "Epoch 11/150\n",
      "3/3 [==============================] - 0s 42ms/step - loss: 1.1791 - accuracy: 0.5394 - graph_loss: 0.2250 - val_loss: 1.1663 - val_accuracy: 0.6562 - val_graph_loss: 0.0000e+00\n",
      "Epoch 12/150\n",
      "3/3 [==============================] - 0s 42ms/step - loss: 1.0983 - accuracy: 0.5911 - graph_loss: 0.2268 - val_loss: 1.1517 - val_accuracy: 0.6494 - val_graph_loss: 0.0000e+00\n",
      "Epoch 13/150\n",
      "3/3 [==============================] - 0s 39ms/step - loss: 1.0597 - accuracy: 0.6158 - graph_loss: 0.2230 - val_loss: 1.1376 - val_accuracy: 0.6539 - val_graph_loss: 0.0000e+00\n",
      "Epoch 14/150\n",
      "3/3 [==============================] - 0s 39ms/step - loss: 1.0741 - accuracy: 0.6379 - graph_loss: 0.2464 - val_loss: 1.1235 - val_accuracy: 0.6562 - val_graph_loss: 0.0000e+00\n",
      "Epoch 15/150\n",
      "3/3 [==============================] - 0s 39ms/step - loss: 1.0591 - accuracy: 0.6182 - graph_loss: 0.2167 - val_loss: 1.1090 - val_accuracy: 0.6494 - val_graph_loss: 0.0000e+00\n",
      "Epoch 16/150\n",
      "3/3 [==============================] - 0s 40ms/step - loss: 0.9700 - accuracy: 0.6773 - graph_loss: 0.2101 - val_loss: 1.0951 - val_accuracy: 0.6494 - val_graph_loss: 0.0000e+00\n",
      "Epoch 17/150\n",
      "3/3 [==============================] - 0s 42ms/step - loss: 0.9491 - accuracy: 0.6675 - graph_loss: 0.2166 - val_loss: 1.0813 - val_accuracy: 0.6494 - val_graph_loss: 0.0000e+00\n",
      "Epoch 18/150\n",
      "3/3 [==============================] - 0s 41ms/step - loss: 0.9618 - accuracy: 0.6798 - graph_loss: 0.2218 - val_loss: 1.0682 - val_accuracy: 0.6517 - val_graph_loss: 0.0000e+00\n",
      "Epoch 19/150\n",
      "3/3 [==============================] - 0s 42ms/step - loss: 0.8931 - accuracy: 0.7094 - graph_loss: 0.2002 - val_loss: 1.0544 - val_accuracy: 0.6562 - val_graph_loss: 0.0000e+00\n",
      "Epoch 20/150\n",
      "3/3 [==============================] - 0s 40ms/step - loss: 0.9010 - accuracy: 0.6946 - graph_loss: 0.2086 - val_loss: 1.0419 - val_accuracy: 0.6562 - val_graph_loss: 0.0000e+00\n",
      "Epoch 21/150\n",
      "3/3 [==============================] - 0s 36ms/step - loss: 0.9147 - accuracy: 0.7192 - graph_loss: 0.2170 - val_loss: 1.0298 - val_accuracy: 0.6629 - val_graph_loss: 0.0000e+00\n",
      "Epoch 22/150\n",
      "3/3 [==============================] - 0s 36ms/step - loss: 0.8598 - accuracy: 0.7118 - graph_loss: 0.2117 - val_loss: 1.0180 - val_accuracy: 0.6629 - val_graph_loss: 0.0000e+00\n",
      "Epoch 23/150\n",
      "3/3 [==============================] - 0s 36ms/step - loss: 0.7722 - accuracy: 0.7512 - graph_loss: 0.1995 - val_loss: 1.0062 - val_accuracy: 0.6629 - val_graph_loss: 0.0000e+00\n",
      "Epoch 24/150\n",
      "3/3 [==============================] - 0s 39ms/step - loss: 0.8039 - accuracy: 0.7365 - graph_loss: 0.1981 - val_loss: 0.9953 - val_accuracy: 0.6629 - val_graph_loss: 0.0000e+00\n",
      "Epoch 25/150\n",
      "3/3 [==============================] - 0s 41ms/step - loss: 0.7858 - accuracy: 0.7611 - graph_loss: 0.2209 - val_loss: 0.9842 - val_accuracy: 0.6629 - val_graph_loss: 0.0000e+00\n",
      "Epoch 26/150\n",
      "3/3 [==============================] - 0s 41ms/step - loss: 0.7977 - accuracy: 0.7414 - graph_loss: 0.2256 - val_loss: 0.9726 - val_accuracy: 0.6629 - val_graph_loss: 0.0000e+00\n",
      "Epoch 27/150\n",
      "3/3 [==============================] - 0s 41ms/step - loss: 0.7322 - accuracy: 0.7783 - graph_loss: 0.2123 - val_loss: 0.9616 - val_accuracy: 0.6674 - val_graph_loss: 0.0000e+00\n",
      "Epoch 28/150\n",
      "3/3 [==============================] - 0s 42ms/step - loss: 0.7151 - accuracy: 0.7808 - graph_loss: 0.1952 - val_loss: 0.9508 - val_accuracy: 0.6697 - val_graph_loss: 0.0000e+00\n",
      "Epoch 29/150\n",
      "3/3 [==============================] - 0s 41ms/step - loss: 0.7021 - accuracy: 0.7660 - graph_loss: 0.2126 - val_loss: 0.9398 - val_accuracy: 0.6719 - val_graph_loss: 0.0000e+00\n",
      "Epoch 30/150\n",
      "3/3 [==============================] - 0s 42ms/step - loss: 0.6910 - accuracy: 0.7980 - graph_loss: 0.1970 - val_loss: 0.9290 - val_accuracy: 0.6719 - val_graph_loss: 0.0000e+00\n",
      "Epoch 31/150\n",
      "3/3 [==============================] - 0s 41ms/step - loss: 0.6851 - accuracy: 0.7808 - graph_loss: 0.1990 - val_loss: 0.9192 - val_accuracy: 0.6787 - val_graph_loss: 0.0000e+00\n",
      "Epoch 32/150\n",
      "3/3 [==============================] - 0s 42ms/step - loss: 0.6210 - accuracy: 0.7882 - graph_loss: 0.2125 - val_loss: 0.9096 - val_accuracy: 0.6787 - val_graph_loss: 0.0000e+00\n",
      "Epoch 33/150\n",
      "3/3 [==============================] - 0s 39ms/step - loss: 0.6319 - accuracy: 0.7980 - graph_loss: 0.1993 - val_loss: 0.9006 - val_accuracy: 0.6652 - val_graph_loss: 0.0000e+00\n",
      "Epoch 34/150\n",
      "3/3 [==============================] - 0s 36ms/step - loss: 0.6308 - accuracy: 0.8079 - graph_loss: 0.1851 - val_loss: 0.8933 - val_accuracy: 0.6652 - val_graph_loss: 0.0000e+00\n",
      "Epoch 35/150\n",
      "3/3 [==============================] - 0s 40ms/step - loss: 0.6271 - accuracy: 0.7734 - graph_loss: 0.1744 - val_loss: 0.8848 - val_accuracy: 0.6719 - val_graph_loss: 0.0000e+00\n",
      "Epoch 36/150\n",
      "3/3 [==============================] - 0s 40ms/step - loss: 0.5900 - accuracy: 0.8103 - graph_loss: 0.1987 - val_loss: 0.8775 - val_accuracy: 0.6697 - val_graph_loss: 0.0000e+00\n",
      "Epoch 37/150\n",
      "3/3 [==============================] - 0s 41ms/step - loss: 0.6113 - accuracy: 0.8251 - graph_loss: 0.2080 - val_loss: 0.8692 - val_accuracy: 0.6787 - val_graph_loss: 0.0000e+00\n",
      "Epoch 38/150\n",
      "3/3 [==============================] - 0s 41ms/step - loss: 0.6071 - accuracy: 0.7882 - graph_loss: 0.1881 - val_loss: 0.8601 - val_accuracy: 0.6944 - val_graph_loss: 0.0000e+00\n",
      "Epoch 39/150\n",
      "3/3 [==============================] - 0s 42ms/step - loss: 0.5508 - accuracy: 0.8177 - graph_loss: 0.1831 - val_loss: 0.8511 - val_accuracy: 0.7011 - val_graph_loss: 0.0000e+00\n",
      "Epoch 40/150\n",
      "3/3 [==============================] - 0s 41ms/step - loss: 0.5694 - accuracy: 0.8103 - graph_loss: 0.1972 - val_loss: 0.8408 - val_accuracy: 0.7056 - val_graph_loss: 0.0000e+00\n",
      "Epoch 41/150\n",
      "3/3 [==============================] - 0s 42ms/step - loss: 0.5194 - accuracy: 0.8177 - graph_loss: 0.1981 - val_loss: 0.8306 - val_accuracy: 0.7079 - val_graph_loss: 0.0000e+00\n",
      "Epoch 42/150\n",
      "3/3 [==============================] - 0s 40ms/step - loss: 0.5488 - accuracy: 0.8227 - graph_loss: 0.1992 - val_loss: 0.8212 - val_accuracy: 0.7101 - val_graph_loss: 0.0000e+00\n",
      "Epoch 43/150\n",
      "3/3 [==============================] - 0s 42ms/step - loss: 0.5421 - accuracy: 0.8325 - graph_loss: 0.1756 - val_loss: 0.8102 - val_accuracy: 0.7191 - val_graph_loss: 0.0000e+00\n"
     ]
    },
    {
     "name": "stdout",
     "output_type": "stream",
     "text": [
      "Epoch 44/150\n",
      "3/3 [==============================] - 0s 40ms/step - loss: 0.5402 - accuracy: 0.8300 - graph_loss: 0.1910 - val_loss: 0.8009 - val_accuracy: 0.7213 - val_graph_loss: 0.0000e+00\n",
      "Epoch 45/150\n",
      "3/3 [==============================] - 0s 42ms/step - loss: 0.4762 - accuracy: 0.8498 - graph_loss: 0.1940 - val_loss: 0.7918 - val_accuracy: 0.7281 - val_graph_loss: 0.0000e+00\n",
      "Epoch 46/150\n",
      "3/3 [==============================] - 0s 40ms/step - loss: 0.5291 - accuracy: 0.8177 - graph_loss: 0.1842 - val_loss: 0.7843 - val_accuracy: 0.7303 - val_graph_loss: 0.0000e+00\n",
      "Epoch 47/150\n",
      "3/3 [==============================] - 0s 42ms/step - loss: 0.4907 - accuracy: 0.8374 - graph_loss: 0.2005 - val_loss: 0.7765 - val_accuracy: 0.7326 - val_graph_loss: 0.0000e+00\n",
      "Epoch 48/150\n",
      "3/3 [==============================] - 0s 40ms/step - loss: 0.4749 - accuracy: 0.8547 - graph_loss: 0.2028 - val_loss: 0.7680 - val_accuracy: 0.7348 - val_graph_loss: 0.0000e+00\n",
      "Epoch 49/150\n",
      "3/3 [==============================] - 0s 41ms/step - loss: 0.4827 - accuracy: 0.8276 - graph_loss: 0.1957 - val_loss: 0.7615 - val_accuracy: 0.7348 - val_graph_loss: 0.0000e+00\n",
      "Epoch 50/150\n",
      "3/3 [==============================] - 0s 40ms/step - loss: 0.4541 - accuracy: 0.8350 - graph_loss: 0.2199 - val_loss: 0.7553 - val_accuracy: 0.7348 - val_graph_loss: 0.0000e+00\n",
      "Epoch 51/150\n",
      "3/3 [==============================] - 0s 41ms/step - loss: 0.4599 - accuracy: 0.8571 - graph_loss: 0.1867 - val_loss: 0.7495 - val_accuracy: 0.7393 - val_graph_loss: 0.0000e+00\n",
      "Epoch 52/150\n",
      "3/3 [==============================] - 0s 41ms/step - loss: 0.4832 - accuracy: 0.8325 - graph_loss: 0.2253 - val_loss: 0.7420 - val_accuracy: 0.7371 - val_graph_loss: 0.0000e+00\n",
      "Epoch 53/150\n",
      "3/3 [==============================] - 0s 40ms/step - loss: 0.4797 - accuracy: 0.8350 - graph_loss: 0.2046 - val_loss: 0.7337 - val_accuracy: 0.7393 - val_graph_loss: 0.0000e+00\n",
      "Epoch 54/150\n",
      "3/3 [==============================] - 0s 41ms/step - loss: 0.4321 - accuracy: 0.8325 - graph_loss: 0.1776 - val_loss: 0.7282 - val_accuracy: 0.7371 - val_graph_loss: 0.0000e+00\n",
      "Epoch 55/150\n",
      "3/3 [==============================] - 0s 40ms/step - loss: 0.4551 - accuracy: 0.8374 - graph_loss: 0.2015 - val_loss: 0.7231 - val_accuracy: 0.7371 - val_graph_loss: 0.0000e+00\n",
      "Epoch 56/150\n",
      "3/3 [==============================] - 0s 41ms/step - loss: 0.4382 - accuracy: 0.8571 - graph_loss: 0.2028 - val_loss: 0.7164 - val_accuracy: 0.7461 - val_graph_loss: 0.0000e+00\n",
      "Epoch 57/150\n",
      "3/3 [==============================] - 0s 40ms/step - loss: 0.4605 - accuracy: 0.8448 - graph_loss: 0.2126 - val_loss: 0.7111 - val_accuracy: 0.7483 - val_graph_loss: 0.0000e+00\n",
      "Epoch 58/150\n",
      "3/3 [==============================] - 0s 41ms/step - loss: 0.4388 - accuracy: 0.8596 - graph_loss: 0.1850 - val_loss: 0.7061 - val_accuracy: 0.7483 - val_graph_loss: 0.0000e+00\n",
      "Epoch 59/150\n",
      "3/3 [==============================] - 0s 40ms/step - loss: 0.4377 - accuracy: 0.8448 - graph_loss: 0.1878 - val_loss: 0.7016 - val_accuracy: 0.7506 - val_graph_loss: 0.0000e+00\n",
      "Epoch 60/150\n",
      "3/3 [==============================] - 0s 40ms/step - loss: 0.4873 - accuracy: 0.8448 - graph_loss: 0.1943 - val_loss: 0.6986 - val_accuracy: 0.7506 - val_graph_loss: 0.0000e+00\n",
      "Epoch 61/150\n",
      "3/3 [==============================] - 0s 40ms/step - loss: 0.4197 - accuracy: 0.8571 - graph_loss: 0.1956 - val_loss: 0.6937 - val_accuracy: 0.7528 - val_graph_loss: 0.0000e+00\n",
      "Epoch 62/150\n",
      "3/3 [==============================] - 0s 41ms/step - loss: 0.4545 - accuracy: 0.8547 - graph_loss: 0.2265 - val_loss: 0.6879 - val_accuracy: 0.7506 - val_graph_loss: 0.0000e+00\n",
      "Epoch 63/150\n",
      "3/3 [==============================] - 0s 42ms/step - loss: 0.4608 - accuracy: 0.8399 - graph_loss: 0.2407 - val_loss: 0.6847 - val_accuracy: 0.7528 - val_graph_loss: 0.0000e+00\n",
      "Epoch 64/150\n",
      "3/3 [==============================] - 0s 41ms/step - loss: 0.3961 - accuracy: 0.8645 - graph_loss: 0.2022 - val_loss: 0.6791 - val_accuracy: 0.7528 - val_graph_loss: 0.0000e+00\n",
      "Epoch 65/150\n",
      "3/3 [==============================] - 0s 41ms/step - loss: 0.4405 - accuracy: 0.8571 - graph_loss: 0.1976 - val_loss: 0.6720 - val_accuracy: 0.7551 - val_graph_loss: 0.0000e+00\n",
      "Epoch 66/150\n",
      "3/3 [==============================] - 0s 40ms/step - loss: 0.4298 - accuracy: 0.8719 - graph_loss: 0.1842 - val_loss: 0.6650 - val_accuracy: 0.7573 - val_graph_loss: 0.0000e+00\n",
      "Epoch 67/150\n",
      "3/3 [==============================] - 0s 42ms/step - loss: 0.4044 - accuracy: 0.8768 - graph_loss: 0.2059 - val_loss: 0.6561 - val_accuracy: 0.7573 - val_graph_loss: 0.0000e+00\n",
      "Epoch 68/150\n",
      "3/3 [==============================] - 0s 40ms/step - loss: 0.3721 - accuracy: 0.8719 - graph_loss: 0.2171 - val_loss: 0.6490 - val_accuracy: 0.7551 - val_graph_loss: 0.0000e+00\n",
      "Epoch 69/150\n",
      "3/3 [==============================] - 0s 42ms/step - loss: 0.4155 - accuracy: 0.8473 - graph_loss: 0.2144 - val_loss: 0.6423 - val_accuracy: 0.7596 - val_graph_loss: 0.0000e+00\n",
      "Epoch 70/150\n",
      "3/3 [==============================] - 0s 40ms/step - loss: 0.3934 - accuracy: 0.8744 - graph_loss: 0.1868 - val_loss: 0.6354 - val_accuracy: 0.7640 - val_graph_loss: 0.0000e+00\n",
      "Epoch 71/150\n",
      "3/3 [==============================] - 0s 41ms/step - loss: 0.3815 - accuracy: 0.8571 - graph_loss: 0.2040 - val_loss: 0.6286 - val_accuracy: 0.7640 - val_graph_loss: 0.0000e+00\n",
      "Epoch 72/150\n",
      "3/3 [==============================] - 0s 40ms/step - loss: 0.4336 - accuracy: 0.8621 - graph_loss: 0.2044 - val_loss: 0.6274 - val_accuracy: 0.7753 - val_graph_loss: 0.0000e+00\n",
      "Epoch 73/150\n",
      "3/3 [==============================] - 0s 41ms/step - loss: 0.4117 - accuracy: 0.8621 - graph_loss: 0.1761 - val_loss: 0.6239 - val_accuracy: 0.7843 - val_graph_loss: 0.0000e+00\n",
      "Epoch 74/150\n",
      "3/3 [==============================] - 0s 40ms/step - loss: 0.3833 - accuracy: 0.8768 - graph_loss: 0.2192 - val_loss: 0.6198 - val_accuracy: 0.7865 - val_graph_loss: 0.0000e+00\n",
      "Epoch 75/150\n",
      "3/3 [==============================] - 0s 41ms/step - loss: 0.3703 - accuracy: 0.8645 - graph_loss: 0.1924 - val_loss: 0.6148 - val_accuracy: 0.7865 - val_graph_loss: 0.0000e+00\n",
      "Epoch 76/150\n",
      "3/3 [==============================] - 0s 41ms/step - loss: 0.3951 - accuracy: 0.8842 - graph_loss: 0.2238 - val_loss: 0.6093 - val_accuracy: 0.7888 - val_graph_loss: 0.0000e+00\n",
      "Epoch 77/150\n",
      "3/3 [==============================] - 0s 40ms/step - loss: 0.3797 - accuracy: 0.8645 - graph_loss: 0.2102 - val_loss: 0.6077 - val_accuracy: 0.7888 - val_graph_loss: 0.0000e+00\n",
      "Epoch 78/150\n",
      "3/3 [==============================] - 0s 41ms/step - loss: 0.3573 - accuracy: 0.8867 - graph_loss: 0.2177 - val_loss: 0.6085 - val_accuracy: 0.7933 - val_graph_loss: 0.0000e+00\n",
      "Epoch 79/150\n",
      "3/3 [==============================] - 0s 40ms/step - loss: 0.3357 - accuracy: 0.8793 - graph_loss: 0.1925 - val_loss: 0.6094 - val_accuracy: 0.7933 - val_graph_loss: 0.0000e+00\n",
      "Epoch 80/150\n",
      "3/3 [==============================] - 0s 41ms/step - loss: 0.3457 - accuracy: 0.8867 - graph_loss: 0.2075 - val_loss: 0.6085 - val_accuracy: 0.7955 - val_graph_loss: 0.0000e+00\n",
      "Epoch 81/150\n",
      "3/3 [==============================] - 0s 39ms/step - loss: 0.3361 - accuracy: 0.8842 - graph_loss: 0.2294 - val_loss: 0.6063 - val_accuracy: 0.8022 - val_graph_loss: 0.0000e+00\n",
      "Epoch 82/150\n",
      "3/3 [==============================] - 0s 42ms/step - loss: 0.3650 - accuracy: 0.8867 - graph_loss: 0.2292 - val_loss: 0.6023 - val_accuracy: 0.8022 - val_graph_loss: 0.0000e+00\n",
      "Epoch 83/150\n",
      "3/3 [==============================] - 0s 40ms/step - loss: 0.3584 - accuracy: 0.8842 - graph_loss: 0.2209 - val_loss: 0.5971 - val_accuracy: 0.8000 - val_graph_loss: 0.0000e+00\n",
      "Epoch 84/150\n",
      "3/3 [==============================] - 0s 41ms/step - loss: 0.3354 - accuracy: 0.8916 - graph_loss: 0.2133 - val_loss: 0.5935 - val_accuracy: 0.8022 - val_graph_loss: 0.0000e+00\n",
      "Epoch 85/150\n",
      "3/3 [==============================] - 0s 40ms/step - loss: 0.3597 - accuracy: 0.8744 - graph_loss: 0.2046 - val_loss: 0.5894 - val_accuracy: 0.8045 - val_graph_loss: 0.0000e+00\n",
      "Epoch 86/150\n",
      "3/3 [==============================] - 0s 42ms/step - loss: 0.3551 - accuracy: 0.8818 - graph_loss: 0.2308 - val_loss: 0.5868 - val_accuracy: 0.8045 - val_graph_loss: 0.0000e+00\n"
     ]
    },
    {
     "name": "stdout",
     "output_type": "stream",
     "text": [
      "Epoch 87/150\n",
      "3/3 [==============================] - 0s 41ms/step - loss: 0.3167 - accuracy: 0.8892 - graph_loss: 0.2085 - val_loss: 0.5828 - val_accuracy: 0.8045 - val_graph_loss: 0.0000e+00\n",
      "Epoch 88/150\n",
      "3/3 [==============================] - 0s 41ms/step - loss: 0.3423 - accuracy: 0.8966 - graph_loss: 0.2149 - val_loss: 0.5774 - val_accuracy: 0.8022 - val_graph_loss: 0.0000e+00\n",
      "Epoch 89/150\n",
      "3/3 [==============================] - 0s 39ms/step - loss: 0.3401 - accuracy: 0.9015 - graph_loss: 0.2013 - val_loss: 0.5752 - val_accuracy: 0.8000 - val_graph_loss: 0.0000e+00\n",
      "Epoch 90/150\n",
      "3/3 [==============================] - 0s 40ms/step - loss: 0.3190 - accuracy: 0.8867 - graph_loss: 0.2422 - val_loss: 0.5737 - val_accuracy: 0.8000 - val_graph_loss: 0.0000e+00\n",
      "Epoch 91/150\n",
      "3/3 [==============================] - 0s 41ms/step - loss: 0.3589 - accuracy: 0.8941 - graph_loss: 0.2358 - val_loss: 0.5707 - val_accuracy: 0.8022 - val_graph_loss: 0.0000e+00\n",
      "Epoch 92/150\n",
      "3/3 [==============================] - 0s 39ms/step - loss: 0.3122 - accuracy: 0.9039 - graph_loss: 0.2312 - val_loss: 0.5688 - val_accuracy: 0.8022 - val_graph_loss: 0.0000e+00\n",
      "Epoch 93/150\n",
      "3/3 [==============================] - 0s 41ms/step - loss: 0.3147 - accuracy: 0.8867 - graph_loss: 0.2261 - val_loss: 0.5684 - val_accuracy: 0.8022 - val_graph_loss: 0.0000e+00\n",
      "Epoch 94/150\n",
      "3/3 [==============================] - 0s 40ms/step - loss: 0.3005 - accuracy: 0.9039 - graph_loss: 0.2054 - val_loss: 0.5689 - val_accuracy: 0.8045 - val_graph_loss: 0.0000e+00\n",
      "Epoch 95/150\n",
      "3/3 [==============================] - 0s 41ms/step - loss: 0.3264 - accuracy: 0.9015 - graph_loss: 0.2200 - val_loss: 0.5671 - val_accuracy: 0.8045 - val_graph_loss: 0.0000e+00\n",
      "Epoch 96/150\n",
      "3/3 [==============================] - 0s 40ms/step - loss: 0.3250 - accuracy: 0.8916 - graph_loss: 0.2028 - val_loss: 0.5646 - val_accuracy: 0.8135 - val_graph_loss: 0.0000e+00\n",
      "Epoch 97/150\n",
      "3/3 [==============================] - 0s 40ms/step - loss: 0.3674 - accuracy: 0.8941 - graph_loss: 0.2222 - val_loss: 0.5635 - val_accuracy: 0.8157 - val_graph_loss: 0.0000e+00\n",
      "Epoch 98/150\n",
      "3/3 [==============================] - 0s 40ms/step - loss: 0.3215 - accuracy: 0.8916 - graph_loss: 0.2288 - val_loss: 0.5632 - val_accuracy: 0.8180 - val_graph_loss: 0.0000e+00\n",
      "Epoch 99/150\n",
      "3/3 [==============================] - 0s 40ms/step - loss: 0.2938 - accuracy: 0.9064 - graph_loss: 0.2061 - val_loss: 0.5604 - val_accuracy: 0.8270 - val_graph_loss: 0.0000e+00\n",
      "Epoch 100/150\n",
      "3/3 [==============================] - 0s 42ms/step - loss: 0.3310 - accuracy: 0.8867 - graph_loss: 0.2583 - val_loss: 0.5598 - val_accuracy: 0.8225 - val_graph_loss: 0.0000e+00\n",
      "Epoch 101/150\n",
      "3/3 [==============================] - 0s 36ms/step - loss: 0.3238 - accuracy: 0.8892 - graph_loss: 0.2228 - val_loss: 0.5600 - val_accuracy: 0.8067 - val_graph_loss: 0.0000e+00\n",
      "Epoch 102/150\n",
      "3/3 [==============================] - 0s 37ms/step - loss: 0.2900 - accuracy: 0.9163 - graph_loss: 0.2402 - val_loss: 0.5577 - val_accuracy: 0.8090 - val_graph_loss: 0.0000e+00\n",
      "Epoch 103/150\n",
      "3/3 [==============================] - 0s 35ms/step - loss: 0.2949 - accuracy: 0.9039 - graph_loss: 0.2338 - val_loss: 0.5569 - val_accuracy: 0.8157 - val_graph_loss: 0.0000e+00\n",
      "Epoch 104/150\n",
      "3/3 [==============================] - 0s 38ms/step - loss: 0.3005 - accuracy: 0.9015 - graph_loss: 0.2176 - val_loss: 0.5544 - val_accuracy: 0.8202 - val_graph_loss: 0.0000e+00\n",
      "Epoch 105/150\n",
      "3/3 [==============================] - 0s 40ms/step - loss: 0.3345 - accuracy: 0.8867 - graph_loss: 0.2504 - val_loss: 0.5495 - val_accuracy: 0.8382 - val_graph_loss: 0.0000e+00\n",
      "Epoch 106/150\n",
      "3/3 [==============================] - 0s 41ms/step - loss: 0.3346 - accuracy: 0.8892 - graph_loss: 0.2284 - val_loss: 0.5482 - val_accuracy: 0.8382 - val_graph_loss: 0.0000e+00\n",
      "Epoch 107/150\n",
      "3/3 [==============================] - 0s 41ms/step - loss: 0.2879 - accuracy: 0.9089 - graph_loss: 0.2458 - val_loss: 0.5481 - val_accuracy: 0.8360 - val_graph_loss: 0.0000e+00\n",
      "Epoch 108/150\n",
      "3/3 [==============================] - 0s 40ms/step - loss: 0.3384 - accuracy: 0.8719 - graph_loss: 0.2255 - val_loss: 0.5486 - val_accuracy: 0.8382 - val_graph_loss: 0.0000e+00\n",
      "Epoch 109/150\n",
      "3/3 [==============================] - 0s 41ms/step - loss: 0.3058 - accuracy: 0.9187 - graph_loss: 0.2190 - val_loss: 0.5527 - val_accuracy: 0.8360 - val_graph_loss: 0.0000e+00\n",
      "Epoch 110/150\n",
      "3/3 [==============================] - 0s 40ms/step - loss: 0.3067 - accuracy: 0.8941 - graph_loss: 0.2293 - val_loss: 0.5550 - val_accuracy: 0.8360 - val_graph_loss: 0.0000e+00\n",
      "Epoch 111/150\n",
      "3/3 [==============================] - 0s 41ms/step - loss: 0.3073 - accuracy: 0.9064 - graph_loss: 0.2186 - val_loss: 0.5575 - val_accuracy: 0.8360 - val_graph_loss: 0.0000e+00\n",
      "Epoch 112/150\n",
      "3/3 [==============================] - 0s 40ms/step - loss: 0.2738 - accuracy: 0.9236 - graph_loss: 0.2314 - val_loss: 0.5602 - val_accuracy: 0.8382 - val_graph_loss: 0.0000e+00\n",
      "Epoch 113/150\n",
      "3/3 [==============================] - 0s 41ms/step - loss: 0.3033 - accuracy: 0.9039 - graph_loss: 0.2462 - val_loss: 0.5608 - val_accuracy: 0.8382 - val_graph_loss: 0.0000e+00\n",
      "Epoch 114/150\n",
      "3/3 [==============================] - 0s 38ms/step - loss: 0.2835 - accuracy: 0.9089 - graph_loss: 0.2386 - val_loss: 0.5619 - val_accuracy: 0.8360 - val_graph_loss: 0.0000e+00\n",
      "Epoch 115/150\n",
      "3/3 [==============================] - 0s 36ms/step - loss: 0.2696 - accuracy: 0.9187 - graph_loss: 0.2305 - val_loss: 0.5628 - val_accuracy: 0.8404 - val_graph_loss: 0.0000e+00\n",
      "Epoch 116/150\n",
      "3/3 [==============================] - 0s 37ms/step - loss: 0.3150 - accuracy: 0.9138 - graph_loss: 0.2232 - val_loss: 0.5644 - val_accuracy: 0.8382 - val_graph_loss: 0.0000e+00\n",
      "Epoch 117/150\n",
      "3/3 [==============================] - 0s 38ms/step - loss: 0.3426 - accuracy: 0.8941 - graph_loss: 0.2636 - val_loss: 0.5652 - val_accuracy: 0.8404 - val_graph_loss: 0.0000e+00\n",
      "Epoch 118/150\n",
      "3/3 [==============================] - 0s 37ms/step - loss: 0.3050 - accuracy: 0.9113 - graph_loss: 0.2267 - val_loss: 0.5692 - val_accuracy: 0.8382 - val_graph_loss: 0.0000e+00\n",
      "Epoch 119/150\n",
      "3/3 [==============================] - 0s 37ms/step - loss: 0.2716 - accuracy: 0.9138 - graph_loss: 0.2617 - val_loss: 0.5738 - val_accuracy: 0.8382 - val_graph_loss: 0.0000e+00\n",
      "Epoch 120/150\n",
      "3/3 [==============================] - 0s 37ms/step - loss: 0.2630 - accuracy: 0.9113 - graph_loss: 0.2389 - val_loss: 0.5745 - val_accuracy: 0.8360 - val_graph_loss: 0.0000e+00\n",
      "Epoch 121/150\n",
      "3/3 [==============================] - 0s 38ms/step - loss: 0.2791 - accuracy: 0.9138 - graph_loss: 0.2563 - val_loss: 0.5731 - val_accuracy: 0.8360 - val_graph_loss: 0.0000e+00\n",
      "Epoch 122/150\n",
      "3/3 [==============================] - 0s 37ms/step - loss: 0.2560 - accuracy: 0.9187 - graph_loss: 0.2563 - val_loss: 0.5742 - val_accuracy: 0.8360 - val_graph_loss: 0.0000e+00\n",
      "Epoch 123/150\n",
      "3/3 [==============================] - 0s 37ms/step - loss: 0.3067 - accuracy: 0.9015 - graph_loss: 0.2598 - val_loss: 0.5726 - val_accuracy: 0.8360 - val_graph_loss: 0.0000e+00\n",
      "Epoch 124/150\n",
      "3/3 [==============================] - 0s 37ms/step - loss: 0.3064 - accuracy: 0.9015 - graph_loss: 0.2484 - val_loss: 0.5705 - val_accuracy: 0.8360 - val_graph_loss: 0.0000e+00\n",
      "Epoch 125/150\n",
      "3/3 [==============================] - 0s 38ms/step - loss: 0.2558 - accuracy: 0.9163 - graph_loss: 0.2489 - val_loss: 0.5672 - val_accuracy: 0.8337 - val_graph_loss: 0.0000e+00\n",
      "Epoch 126/150\n",
      "3/3 [==============================] - 0s 37ms/step - loss: 0.2824 - accuracy: 0.8990 - graph_loss: 0.2588 - val_loss: 0.5642 - val_accuracy: 0.8337 - val_graph_loss: 0.0000e+00\n",
      "Epoch 127/150\n",
      "3/3 [==============================] - 0s 37ms/step - loss: 0.2452 - accuracy: 0.9089 - graph_loss: 0.2501 - val_loss: 0.5629 - val_accuracy: 0.8360 - val_graph_loss: 0.0000e+00\n",
      "Epoch 128/150\n",
      "3/3 [==============================] - 0s 38ms/step - loss: 0.2536 - accuracy: 0.9286 - graph_loss: 0.2445 - val_loss: 0.5666 - val_accuracy: 0.8382 - val_graph_loss: 0.0000e+00\n",
      "Epoch 129/150\n",
      "3/3 [==============================] - 0s 38ms/step - loss: 0.2759 - accuracy: 0.9089 - graph_loss: 0.2456 - val_loss: 0.5727 - val_accuracy: 0.8360 - val_graph_loss: 0.0000e+00\n"
     ]
    },
    {
     "name": "stdout",
     "output_type": "stream",
     "text": [
      "Epoch 130/150\n",
      "3/3 [==============================] - 0s 38ms/step - loss: 0.2777 - accuracy: 0.9138 - graph_loss: 0.2344 - val_loss: 0.5783 - val_accuracy: 0.8360 - val_graph_loss: 0.0000e+00\n",
      "Epoch 131/150\n",
      "3/3 [==============================] - 0s 37ms/step - loss: 0.2545 - accuracy: 0.9163 - graph_loss: 0.2545 - val_loss: 0.5827 - val_accuracy: 0.8360 - val_graph_loss: 0.0000e+00\n",
      "Epoch 132/150\n",
      "3/3 [==============================] - 0s 35ms/step - loss: 0.2142 - accuracy: 0.9458 - graph_loss: 0.2429 - val_loss: 0.5844 - val_accuracy: 0.8360 - val_graph_loss: 0.0000e+00\n",
      "Epoch 133/150\n",
      "3/3 [==============================] - 0s 41ms/step - loss: 0.2415 - accuracy: 0.9286 - graph_loss: 0.2404 - val_loss: 0.5817 - val_accuracy: 0.8360 - val_graph_loss: 0.0000e+00\n",
      "Epoch 134/150\n",
      "3/3 [==============================] - 0s 37ms/step - loss: 0.2565 - accuracy: 0.9163 - graph_loss: 0.2426 - val_loss: 0.5807 - val_accuracy: 0.8404 - val_graph_loss: 0.0000e+00\n",
      "Epoch 135/150\n",
      "3/3 [==============================] - 0s 36ms/step - loss: 0.2654 - accuracy: 0.9261 - graph_loss: 0.2576 - val_loss: 0.5848 - val_accuracy: 0.8427 - val_graph_loss: 0.0000e+00\n",
      "Epoch 136/150\n",
      "3/3 [==============================] - 0s 37ms/step - loss: 0.2480 - accuracy: 0.9163 - graph_loss: 0.2643 - val_loss: 0.5911 - val_accuracy: 0.8427 - val_graph_loss: 0.0000e+00\n",
      "Epoch 137/150\n",
      "3/3 [==============================] - 0s 35ms/step - loss: 0.2518 - accuracy: 0.9261 - graph_loss: 0.2444 - val_loss: 0.5959 - val_accuracy: 0.8427 - val_graph_loss: 0.0000e+00\n",
      "Epoch 138/150\n",
      "3/3 [==============================] - 0s 36ms/step - loss: 0.2298 - accuracy: 0.9310 - graph_loss: 0.2499 - val_loss: 0.6040 - val_accuracy: 0.8427 - val_graph_loss: 0.0000e+00\n",
      "Epoch 139/150\n",
      "3/3 [==============================] - 0s 38ms/step - loss: 0.2625 - accuracy: 0.9236 - graph_loss: 0.2458 - val_loss: 0.6091 - val_accuracy: 0.8404 - val_graph_loss: 0.0000e+00\n",
      "Epoch 140/150\n",
      "3/3 [==============================] - 0s 37ms/step - loss: 0.2537 - accuracy: 0.9089 - graph_loss: 0.2383 - val_loss: 0.6110 - val_accuracy: 0.8404 - val_graph_loss: 0.0000e+00\n",
      "Epoch 141/150\n",
      "3/3 [==============================] - 0s 38ms/step - loss: 0.2577 - accuracy: 0.9113 - graph_loss: 0.2387 - val_loss: 0.6113 - val_accuracy: 0.8404 - val_graph_loss: 0.0000e+00\n",
      "Epoch 142/150\n",
      "3/3 [==============================] - 0s 38ms/step - loss: 0.2385 - accuracy: 0.9212 - graph_loss: 0.2397 - val_loss: 0.6099 - val_accuracy: 0.8404 - val_graph_loss: 0.0000e+00\n",
      "Epoch 143/150\n",
      "3/3 [==============================] - 0s 37ms/step - loss: 0.2711 - accuracy: 0.9089 - graph_loss: 0.2470 - val_loss: 0.6064 - val_accuracy: 0.8404 - val_graph_loss: 0.0000e+00\n",
      "Epoch 144/150\n",
      "3/3 [==============================] - 0s 37ms/step - loss: 0.2398 - accuracy: 0.9236 - graph_loss: 0.2410 - val_loss: 0.6043 - val_accuracy: 0.8427 - val_graph_loss: 0.0000e+00\n",
      "Epoch 145/150\n",
      "3/3 [==============================] - 0s 37ms/step - loss: 0.2679 - accuracy: 0.9113 - graph_loss: 0.2208 - val_loss: 0.6039 - val_accuracy: 0.8427 - val_graph_loss: 0.0000e+00\n",
      "Epoch 146/150\n",
      "3/3 [==============================] - 0s 38ms/step - loss: 0.2312 - accuracy: 0.9310 - graph_loss: 0.2440 - val_loss: 0.6015 - val_accuracy: 0.8427 - val_graph_loss: 0.0000e+00\n",
      "Epoch 147/150\n",
      "3/3 [==============================] - 0s 37ms/step - loss: 0.2468 - accuracy: 0.9458 - graph_loss: 0.2338 - val_loss: 0.5979 - val_accuracy: 0.8404 - val_graph_loss: 0.0000e+00\n",
      "Epoch 148/150\n",
      "3/3 [==============================] - 0s 37ms/step - loss: 0.2515 - accuracy: 0.9236 - graph_loss: 0.2581 - val_loss: 0.5987 - val_accuracy: 0.8404 - val_graph_loss: 0.0000e+00\n",
      "Epoch 149/150\n",
      "3/3 [==============================] - 0s 38ms/step - loss: 0.2508 - accuracy: 0.9261 - graph_loss: 0.2361 - val_loss: 0.6025 - val_accuracy: 0.8404 - val_graph_loss: 0.0000e+00\n",
      "Epoch 150/150\n",
      "3/3 [==============================] - 0s 38ms/step - loss: 0.2186 - accuracy: 0.9236 - graph_loss: 0.2644 - val_loss: 0.6072 - val_accuracy: 0.8404 - val_graph_loss: 0.0000e+00\n"
     ]
    }
   ],
   "source": [
    "# Wrap the base MLP model with graph regularization.\n",
    "graph_reg_config = nsl.configs.make_graph_reg_config(\n",
    "    max_neighbors=HPARAMS.num_neighbors,\n",
    "    multiplier=HPARAMS.graph_regularization_multiplier,\n",
    "    distance_type=HPARAMS.distance_type,\n",
    "    sum_over_axis=-1)\n",
    "\n",
    "graph_reg_model = nsl.keras.GraphRegularization(base_reg_model,\n",
    "                                                graph_reg_config)\n",
    "graph_reg_model.compile(\n",
    "    optimizer='adam',\n",
    "    loss='sparse_categorical_crossentropy',\n",
    "    metrics=['accuracy'])\n",
    "graph_reg_model_history = graph_reg_model.fit(train_dataset, epochs=HPARAMS.train_epochs, verbose=1, validation_data=test_dataset)"
   ]
  },
  {
   "cell_type": "code",
   "execution_count": 29,
   "metadata": {},
   "outputs": [
    {
     "data": {
      "text/plain": [
       "dict_keys(['loss', 'accuracy', 'graph_loss', 'val_loss', 'val_accuracy', 'val_graph_loss'])"
      ]
     },
     "execution_count": 29,
     "metadata": {},
     "output_type": "execute_result"
    }
   ],
   "source": [
    "graph_reg_model.history.history.keys()"
   ]
  },
  {
   "cell_type": "code",
   "execution_count": 30,
   "metadata": {},
   "outputs": [
    {
     "data": {
      "image/png": "[encoded data removed]",
      "text/plain": [
       "<Figure size 432x288 with 1 Axes>"
      ]
     },
     "metadata": {
      "needs_background": "light"
     },
     "output_type": "display_data"
    },
    {
     "data": {
      "image/png": "[encoded data removed]",
      "text/plain": [
       "<Figure size 432x288 with 1 Axes>"
      ]
     },
     "metadata": {
      "needs_background": "light"
     },
     "output_type": "display_data"
    }
   ],
   "source": [
    "# base_model.history.history['accuracy']\n",
    "\n",
    "import matplotlib.pyplot as plt\n",
    "# summarize history for accuracy\n",
    "plt.plot(graph_reg_model_history.history['accuracy'])\n",
    "plt.plot(graph_reg_model_history.history['val_accuracy'])\n",
    "plt.title('model accuracy')\n",
    "plt.ylabel('accuracy')\n",
    "plt.xlabel('epoch')\n",
    "plt.legend(['accuracy', 'loss'], loc='upper left')\n",
    "plt.show()\n",
    "\n",
    "plt.plot(graph_reg_model.history.history['loss'])\n",
    "plt.plot(graph_reg_model.history.history['val_loss'])\n",
    "plt.plot(graph_reg_model.history.history['graph_loss'])\n",
    "plt.title('loss')\n",
    "plt.ylabel('accuracy')\n",
    "plt.xlabel('epoch')\n",
    "plt.legend(['loss'], loc='upper left')\n",
    "plt.show()"
   ]
  },
  {
   "cell_type": "markdown",
   "metadata": {
    "colab_type": "text",
    "id": "6409ylRVQS7q"
   },
   "source": [
    "## Evaluate MLP model with graph regularization"
   ]
  },
  {
   "cell_type": "code",
   "execution_count": 31,
   "metadata": {
    "colab": {},
    "colab_type": "code",
    "id": "1TsOE1bAQTqD"
   },
   "outputs": [
    {
     "name": "stdout",
     "output_type": "stream",
     "text": [
      "3/3 [==============================] - 0s 14ms/step - loss: 0.6072 - accuracy: 0.8404 - graph_loss: 0.0000e+00\n",
      "\n",
      "\n",
      "Eval accuracy for  MLP + graph regularization :  0.84044945\n",
      "Eval loss for  MLP + graph regularization :  0.6072123547395071\n",
      "Eval graph loss for  MLP + graph regularization :  0.0\n"
     ]
    }
   ],
   "source": [
    "eval_results = dict(\n",
    "    zip(graph_reg_model.metrics_names,\n",
    "        graph_reg_model.evaluate(test_dataset, steps=HPARAMS.eval_steps)))\n",
    "print_metrics('MLP + graph regularization', eval_results)"
   ]
  },
  {
   "cell_type": "markdown",
   "metadata": {
    "colab_type": "text",
    "id": "Adc-r84EOSQi"
   },
   "source": [
    "The graph-regularized model's accuracy is about 2-3% higher than that of the\n",
    "base model (`base_model`)."
   ]
  },
  {
   "cell_type": "markdown",
   "metadata": {
    "colab_type": "text",
    "id": "OEXQHFNvJQJe"
   },
   "source": [
    "## Conclusion\n",
    "\n",
    "We have demonstrated the use of graph regularization for document classification\n",
    "on a natural citation graph (Cora) using the Neural Structured Learning (NSL)\n",
    "framework. Our [advanced tutorial](graph_keras_lstm_imdb.ipynb) involves\n",
    "synthesizing graphs based on sample embeddings before training a neural network\n",
    "with graph regularization. This approach is useful if the input does not contain\n",
    "an explicit graph.\n",
    "\n",
    "We encourage users to experiment further by varying the amount of supervision as\n",
    "well as trying different neural architectures for graph regularization."
   ]
  },
  {
   "cell_type": "code",
   "execution_count": 32,
   "metadata": {},
   "outputs": [
    {
     "data": {
      "image/png": "[encoded data removed]",
      "text/plain": [
       "<Figure size 432x288 with 1 Axes>"
      ]
     },
     "metadata": {
      "needs_background": "light"
     },
     "output_type": "display_data"
    },
    {
     "data": {
      "image/png": "[encoded data removed]",
      "text/plain": [
       "<Figure size 432x288 with 1 Axes>"
      ]
     },
     "metadata": {
      "needs_background": "light"
     },
     "output_type": "display_data"
    }
   ],
   "source": [
    "# base_model.history.history['accuracy']\n",
    "\n",
    "import matplotlib.pyplot as plt\n",
    "# summarize history for accuracy\n",
    "plt.plot(graph_reg_model_history.history['accuracy'])\n",
    "plt.plot(graph_reg_model_history.history['val_accuracy'])\n",
    "plt.title('model accuracy')\n",
    "plt.ylabel('accuracy')\n",
    "plt.xlabel('epoch')\n",
    "plt.legend(['accuracy', 'loss'], loc='upper left')\n",
    "plt.show()\n",
    "\n",
    "plt.plot(graph_reg_model.history.history['loss'])\n",
    "plt.plot(graph_reg_model.history.history['val_loss'])\n",
    "plt.plot(graph_reg_model.history.history['graph_loss'])\n",
    "plt.title('loss')\n",
    "plt.ylabel('accuracy')\n",
    "plt.xlabel('epoch')\n",
    "plt.legend(['loss'], loc='upper left')\n",
    "plt.show()"
   ]
  },
  {
   "cell_type": "code",
   "execution_count": null,
   "metadata": {},
   "outputs": [],
   "source": []
  },
  {
   "cell_type": "code",
   "execution_count": null,
   "metadata": {},
   "outputs": [],
   "source": []
  },
  {
   "cell_type": "code",
   "execution_count": null,
   "metadata": {},
   "outputs": [],
   "source": []
  },
  {
   "cell_type": "code",
   "execution_count": null,
   "metadata": {},
   "outputs": [],
   "source": []
  }
 ],
 "metadata": {
  "accelerator": "GPU",
  "colab": {
   "collapsed_sections": [],
   "name": "Graph regularization for terror data and relationships using natural graphs",
   "private_outputs": true,
   "provenance": [],
   "toc_visible": true
  },
  "kernelspec": {
   "display_name": "Python 3",
   "language": "python",
   "name": "python3"
  },
  "language_info": {
   "codemirror_mode": {
    "name": "ipython",
    "version": 3
   },
   "file_extension": ".py",
   "mimetype": "text/x-python",
   "name": "python",
   "nbconvert_exporter": "python",
   "pygments_lexer": "ipython3",
   "version": "3.7.3"
  }
 },
 "nbformat": 4,
 "nbformat_minor": 1
}
