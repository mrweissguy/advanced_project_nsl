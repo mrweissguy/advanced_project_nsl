{
 "cells": [
  {
   "cell_type": "markdown",
   "metadata": {},
   "source": [
    "# Graph regularization for terrorist relationships using natural graphs\n",
    "\n",
    "On data \n",
    "*Terrorists are linked to each other if they contact each other, use the same facility, are members of the same family, or belong to the same terrorist organization.*\n",
    "\n",
    "This notebook is closely inspired by this [Tensorflow](https://www.tensorflow.org/neural_structured_learning/tutorials/graph_keras_mlp_cora) notebook demonstrating the functionality of neural structures learning."
   ]
  },
  {
   "cell_type": "markdown",
   "metadata": {},
   "source": [
    "### Preprocessing data"
   ]
  },
  {
   "cell_type": "code",
   "execution_count": 30,
   "metadata": {},
   "outputs": [],
   "source": [
    "import csv\n",
    "import pandas as pd\n",
    "import matplotlib.pyplot as plt\n",
    "pd.set_option('display.expand_frame_repr', False)"
   ]
  },
  {
   "cell_type": "code",
   "execution_count": null,
   "metadata": {},
   "outputs": [],
   "source": [
    "family = pd.read_csv('data/TerroristRel/TerroristRel_Family.nodes', header = None, delim_whitespace = True, engine='python')\n",
    "colleague = pd.read_csv('data/TerroristRel/TerroristRel_Colleague.nodes', header = None, delim_whitespace = True, engine='python')\n",
    "congregate = pd.read_csv('data/TerroristRel/TerroristRel_Congregate.nodes', header = None, delim_whitespace = True, engine='python')\n",
    "contact = pd.read_csv('data/TerroristRel/TerroristRel_Contact.nodes', header = None, delim_whitespace = True, engine='python')"
   ]
  },
  {
   "cell_type": "code",
   "execution_count": null,
   "metadata": {},
   "outputs": [],
   "source": [
    "new_df = pd.concat([family, colleague, congregate, contact], ignore_index=True)"
   ]
  },
  {
   "cell_type": "code",
   "execution_count": 31,
   "metadata": {},
   "outputs": [
    {
     "ename": "NameError",
     "evalue": "name 'new_df' is not defined",
     "output_type": "error",
     "traceback": [
      "\u001b[0;31m---------------------------------------------------------------------------\u001b[0m",
      "\u001b[0;31mNameError\u001b[0m                                 Traceback (most recent call last)",
      "\u001b[0;32m<ipython-input-31-ca8a506967b1>\u001b[0m in \u001b[0;36m<module>\u001b[0;34m\u001b[0m\n\u001b[1;32m      1\u001b[0m \u001b[0;31m# removing non-values from the dataset..\u001b[0m\u001b[0;34m\u001b[0m\u001b[0;34m\u001b[0m\u001b[0;34m\u001b[0m\u001b[0m\n\u001b[0;32m----> 2\u001b[0;31m \u001b[0mnew_df\u001b[0m \u001b[0;34m=\u001b[0m \u001b[0mnew_df\u001b[0m\u001b[0;34m[\u001b[0m\u001b[0mnew_df\u001b[0m\u001b[0;34m[\u001b[0m\u001b[0;36m1225\u001b[0m\u001b[0;34m]\u001b[0m \u001b[0;34m!=\u001b[0m \u001b[0;34m'non-congregate'\u001b[0m\u001b[0;34m]\u001b[0m\u001b[0;34m\u001b[0m\u001b[0;34m\u001b[0m\u001b[0m\n\u001b[0m\u001b[1;32m      3\u001b[0m \u001b[0mnew_df\u001b[0m \u001b[0;34m=\u001b[0m \u001b[0mnew_df\u001b[0m\u001b[0;34m[\u001b[0m\u001b[0mnew_df\u001b[0m\u001b[0;34m[\u001b[0m\u001b[0;36m1225\u001b[0m\u001b[0;34m]\u001b[0m \u001b[0;34m!=\u001b[0m \u001b[0;34m'non-family'\u001b[0m\u001b[0;34m]\u001b[0m\u001b[0;34m\u001b[0m\u001b[0;34m\u001b[0m\u001b[0m\n\u001b[1;32m      4\u001b[0m \u001b[0mnew_df\u001b[0m \u001b[0;34m=\u001b[0m \u001b[0mnew_df\u001b[0m\u001b[0;34m[\u001b[0m\u001b[0mnew_df\u001b[0m\u001b[0;34m[\u001b[0m\u001b[0;36m1225\u001b[0m\u001b[0;34m]\u001b[0m \u001b[0;34m!=\u001b[0m \u001b[0;34m'non-contact'\u001b[0m\u001b[0;34m]\u001b[0m\u001b[0;34m\u001b[0m\u001b[0;34m\u001b[0m\u001b[0m\n\u001b[1;32m      5\u001b[0m \u001b[0mnew_df\u001b[0m \u001b[0;34m=\u001b[0m \u001b[0mnew_df\u001b[0m\u001b[0;34m[\u001b[0m\u001b[0mnew_df\u001b[0m\u001b[0;34m[\u001b[0m\u001b[0;36m1225\u001b[0m\u001b[0;34m]\u001b[0m \u001b[0;34m!=\u001b[0m \u001b[0;34m'non-colleague'\u001b[0m\u001b[0;34m]\u001b[0m\u001b[0;34m\u001b[0m\u001b[0;34m\u001b[0m\u001b[0m\n",
      "\u001b[0;31mNameError\u001b[0m: name 'new_df' is not defined"
     ]
    }
   ],
   "source": [
    "# removing non-values from the dataset..\n",
    "new_df = new_df[new_df[1225] != 'non-congregate']\n",
    "new_df = new_df[new_df[1225] != 'non-family']\n",
    "new_df = new_df[new_df[1225] != 'non-contact']\n",
    "new_df = new_df[new_df[1225] != 'non-colleague']\n",
    "new_df.head()"
   ]
  },
  {
   "cell_type": "code",
   "execution_count": null,
   "metadata": {},
   "outputs": [],
   "source": [
    "new_df[1225].value_counts()"
   ]
  },
  {
   "cell_type": "code",
   "execution_count": null,
   "metadata": {},
   "outputs": [],
   "source": [
    "# make sure that the data is shuffeled\n",
    "new_df = new_df.sample(frac=1)"
   ]
  },
  {
   "cell_type": "code",
   "execution_count": null,
   "metadata": {},
   "outputs": [],
   "source": [
    "new_df.to_csv('data/CustomTerroristRel/collected.nodes', sep=\"\\t\", header = False,index=False)"
   ]
  },
  {
   "cell_type": "markdown",
   "metadata": {
    "colab_type": "text",
    "id": "nDOFbB34KY1R"
   },
   "source": [
    "## Setup\n",
    "\n"
   ]
  },
  {
   "cell_type": "markdown",
   "metadata": {
    "colab_type": "text",
    "id": "hgSLDi0SyBuO"
   },
   "source": [
    "1.  Select TensorFlow 2.x to create an interactive development environment with eager execution.\n",
    "2.  Install the Neural Structured Learning package."
   ]
  },
  {
   "cell_type": "code",
   "execution_count": 2,
   "metadata": {
    "colab": {},
    "colab_type": "code",
    "id": "gh6K6Onyy5bd"
   },
   "outputs": [
    {
     "name": "stdout",
     "output_type": "stream",
     "text": [
      "\u001b[31mERROR: Could not find a version that satisfies the requirement tensorflow-gpu (from versions: none)\u001b[0m\r\n",
      "\u001b[31mERROR: No matching distribution found for tensorflow-gpu\u001b[0m\r\n"
     ]
    }
   ],
   "source": [
    "try:\n",
    "  # %tensorflow_version only exists in Colab.\n",
    "  %tensorflow_version 2.x\n",
    "except Exception:\n",
    "  !pip install tensorflow-gpu>=2.0.0"
   ]
  },
  {
   "cell_type": "code",
   "execution_count": 3,
   "metadata": {
    "colab": {},
    "colab_type": "code",
    "id": "uVnjPmOaQlnH"
   },
   "outputs": [],
   "source": [
    "!pip install --quiet neural-structured-learning"
   ]
  },
  {
   "cell_type": "markdown",
   "metadata": {
    "colab_type": "text",
    "id": "0AiNrPJaX_Lb"
   },
   "source": [
    "## Dependencies and imports"
   ]
  },
  {
   "cell_type": "code",
   "execution_count": 4,
   "metadata": {},
   "outputs": [],
   "source": [
    "from __future__ import absolute_import, division, print_function, unicode_literals\n",
    "\n",
    "import neural_structured_learning as nsl\n",
    "\n",
    "import tensorflow as tf"
   ]
  },
  {
   "cell_type": "markdown",
   "metadata": {
    "colab_type": "text",
    "id": "RtbcGZ_N6Ll9"
   },
   "source": [
    "## Terror Relationsship dataset\n",
    "\n",
    "The [Terror Relationship dataset](https://linqs.soe.ucsc.edu/data) is a graph created terrorist relationship between each other. \n",
    "Nodes represent terrorist and edges represent a relationship between two terrorists. Trough this notebook we will try to solve the classification problem of categorizing the relationship between terrorists in on of 4 categories. \n",
    "\n",
    "\n",
    "\n",
    "### Graph\n",
    "\n",
    "The graph is undirected as this makes sense :) \n",
    "\n",
    "\n",
    "### Features\n",
    "\n",
    "* The dataset contains 1224 distinct biniarized features indicated by 0/1 values. 0 indicated that a features is not present while 1 indicates that a features i present.\n",
    "\n",
    "* Each feature vector has a url as a specific id, and a label as the last postion classifying the relationship"
   ]
  },
  {
   "cell_type": "markdown",
   "metadata": {
    "colab_type": "text",
    "id": "p2-FVpVHEyIS"
   },
   "source": [
    "### Download the terrorist relations dataset"
   ]
  },
  {
   "cell_type": "code",
   "execution_count": 49,
   "metadata": {
    "colab": {},
    "colab_type": "code",
    "id": "2nSZjKqwE6Rn"
   },
   "outputs": [
    {
     "name": "stdout",
     "output_type": "stream",
     "text": [
      "x CustomTerroristRel/\r\n",
      "x CustomTerroristRel/TerroristRel_Family.nodes\r\n",
      "x CustomTerroristRel/TerroristRel_Colleague.nodes\r\n",
      "x CustomTerroristRel/TerroristRel_Contact.nodes\r\n",
      "x CustomTerroristRel/.DS_Store\r\n",
      "x CustomTerroristRel/collected.nodes\r\n",
      "x CustomTerroristRel/README\r\n",
      "x CustomTerroristRel/TerroristRel.labels\r\n",
      "x CustomTerroristRel/TerroristRel_Congregate.nodes\r\n",
      "x CustomTerroristRel/TerroristRel.edges\r\n"
     ]
    }
   ],
   "source": [
    "!tar -C /tmp -xvzf /Users/johanweisshansen/Desktop/nsl-master/dataset_test_1/data/CustomTerroristRel.tgz"
   ]
  },
  {
   "cell_type": "markdown",
   "metadata": {
    "colab_type": "text",
    "id": "ylYP32_IoqZI"
   },
   "source": [
    "### Convert the Cora data to the NSL format\n",
    "\n",
    "In order to preprocess the Terrorist Relations dataset and convert it to the format required by\n",
    "Neural Structured Learning, we will run the **'preprocess_cora_dataset.py'**\n",
    "script, which is included in the NSL github repository. This script does the\n",
    "following:\n",
    "\n",
    "1.  Generate neighbor features using the original node features and the graph.\n",
    "2.  Generate train and test data splits containing `tf.train.Example` instances.\n",
    "3.  Persist the resulting train and test data in the `TFRecord` format."
   ]
  },
  {
   "cell_type": "code",
   "execution_count": 50,
   "metadata": {
    "colab": {},
    "colab_type": "code",
    "id": "Myz01LVZQ8Uh",
    "scrolled": true
   },
   "outputs": [
    {
     "name": "stdout",
     "output_type": "stream",
     "text": [
      "preprocessing_terror_dataset_test.py:138: DeprecationWarning: 'U' mode is deprecated\n",
      "  with open(in_file, 'rU') as cora_content:\n",
      "Reading graph file: /tmp/CustomTerroristRel/TerroristRel.edges...\n",
      "Done reading 8592 edges from: /tmp/CustomTerroristRel/TerroristRel.edges (0.02 seconds).\n",
      "Making all edges bi-directional...\n",
      "Done (0.01 seconds). Total graph nodes: 881\n",
      "Joining seed and neighbor tf.train.Examples with graph edges...\n",
      "W1127 12:49:36.979162 4458966464 preprocessing_terror_dataset_test.py:191] No tf.train.Example found for edge target ID: \"http://counterterror.mindswap.org/2005/terrorists.owl#Richard_Colvin_Reid_http://profilesinterror.mindswap.org/document/2005/09/07/09:36:59#\"\n",
      "W1127 12:49:36.979267 4458966464 preprocessing_terror_dataset_test.py:191] No tf.train.Example found for edge target ID: \"http://counterterror.mindswap.org/2005/terrorists.owl#Nizar_Trabelsi_http://counterterror.mindswap.org/2005/terrorists.owl#Richard_Colvin_Reid\"\n",
      "W1127 12:49:36.983722 4458966464 preprocessing_terror_dataset_test.py:191] No tf.train.Example found for edge target ID: \"http://profilesinterror.mindswap.org/document/2005/12/20/20:55:53#_http://profilesinterror.mindswap.org/document/2005/09/08/04:39:17#\"\n",
      "W1127 12:49:36.986506 4458966464 preprocessing_terror_dataset_test.py:191] No tf.train.Example found for edge target ID: \"http://counterterror.mindswap.org/2005/terrorists.owl#Nizar_Trabelsi_http://profilesinterror.mindswap.org/document/2005/09/07/09:36:59#\"\n",
      "W1127 12:49:36.986577 4458966464 preprocessing_terror_dataset_test.py:191] No tf.train.Example found for edge target ID: \"http://counterterror.mindswap.org/2005/terrorists.owl#Nizar_Trabelsi_http://counterterror.mindswap.org/2005/terrorists.owl#Richard_Colvin_Reid\"\n",
      "W1127 12:49:36.986641 4458966464 preprocessing_terror_dataset_test.py:191] No tf.train.Example found for edge target ID: \"http://counterterror.mindswap.org/2005/terrorists.owl#Djamel_Beghal_http://counterterror.mindswap.org/2005/terrorists.owl#Nizar_Trabelsi\"\n",
      "W1127 12:49:36.987821 4458966464 preprocessing_terror_dataset_test.py:191] No tf.train.Example found for edge target ID: \"http://counterterror.mindswap.org/2005/terrorists.owl#Richard_Colvin_Reid_http://profilesinterror.mindswap.org/document/2005/09/07/09:36:59#\"\n",
      "W1127 12:49:36.987894 4458966464 preprocessing_terror_dataset_test.py:191] No tf.train.Example found for edge target ID: \"http://counterterror.mindswap.org/2005/terrorists.owl#Nizar_Trabelsi_http://profilesinterror.mindswap.org/document/2005/09/07/09:36:59#\"\n",
      "W1127 12:49:36.992782 4458966464 preprocessing_terror_dataset_test.py:191] No tf.train.Example found for edge target ID: \"http://counterterror.mindswap.org/2005/terrorists.owl#Nizar_Trabelsi_http://counterterror.mindswap.org/2005/terrorists.owl#Richard_Colvin_Reid\"\n",
      "W1127 12:49:36.992866 4458966464 preprocessing_terror_dataset_test.py:191] No tf.train.Example found for edge target ID: \"http://counterterror.mindswap.org/2005/terrorists.owl#Richard_Colvin_Reid_http://profilesinterror.mindswap.org/document/2005/09/07/09:36:59#\"\n",
      "W1127 12:49:36.993463 4458966464 preprocessing_terror_dataset_test.py:191] No tf.train.Example found for edge target ID: \"http://counterterror.mindswap.org/2005/terrorists.owl#Richard_Colvin_Reid_http://profilesinterror.mindswap.org/document/2005/09/07/09:36:59#\"\n",
      "W1127 12:49:36.993529 4458966464 preprocessing_terror_dataset_test.py:191] No tf.train.Example found for edge target ID: \"http://profilesinterror.mindswap.org/document/2005/08/09/16:36:24#_http://profilesinterror.mindswap.org/document/2005/08/09/16:43:04#\"\n",
      "W1127 12:49:36.993578 4458966464 preprocessing_terror_dataset_test.py:191] No tf.train.Example found for edge target ID: \"http://counterterror.mindswap.org/2005/terrorists.owl#Nizar_Trabelsi_http://profilesinterror.mindswap.org/document/2005/09/07/09:36:59#\"\n",
      "W1127 12:49:36.998682 4458966464 preprocessing_terror_dataset_test.py:191] No tf.train.Example found for edge target ID: \"http://profilesinterror.mindswap.org/document/2005/07/28/16:02:44#Germaine_Lindsay_http://profilesinterror.mindswap.org/document/2005/07/28/15:59:18#Mohammad_Sidique_Khan\"\n",
      "W1127 12:49:36.999808 4458966464 preprocessing_terror_dataset_test.py:191] No tf.train.Example found for edge target ID: \"http://counterterror.mindswap.org/2005/terrorists.owl#Richard_Colvin_Reid_http://profilesinterror.mindswap.org/document/2005/09/07/09:36:59#\"\n",
      "W1127 12:49:36.999875 4458966464 preprocessing_terror_dataset_test.py:191] No tf.train.Example found for edge target ID: \"http://counterterror.mindswap.org/2005/terrorists.owl#Nizar_Trabelsi_http://profilesinterror.mindswap.org/document/2005/09/07/09:36:59#\"\n",
      "W1127 12:49:37.001136 4458966464 preprocessing_terror_dataset_test.py:191] No tf.train.Example found for edge target ID: \"http://profilesinterror.mindswap.org/document/2005/12/22/19:57:48#_http://counterterror.mindswap.org/2005/terrorists.owl#Lionel_Dumont\"\n",
      "W1127 12:49:37.002381 4458966464 preprocessing_terror_dataset_test.py:191] No tf.train.Example found for edge target ID: \"http://profilesinterror.mindswap.org/document/2005/07/28/16:02:44#Germaine_Lindsay_http://profilesinterror.mindswap.org/document/2005/07/28/15:59:18#Mohammad_Sidique_Khan\"\n",
      "W1127 12:49:37.012758 4458966464 preprocessing_terror_dataset_test.py:191] No tf.train.Example found for edge target ID: \"http://profilesinterror.mindswap.org/document/2005/07/28/16:02:44#Germaine_Lindsay_http://profilesinterror.mindswap.org/document/2005/07/28/15:59:18#Mohammad_Sidique_Khan\"\n",
      "W1127 12:49:37.020909 4458966464 preprocessing_terror_dataset_test.py:191] No tf.train.Example found for edge target ID: \"http://profilesinterror.mindswap.org/document/19#MohammedSalameh_http://profilesinterror.mindswap.org/document/19#Nidal_Ayyad\"\n",
      "W1127 12:49:37.021037 4458966464 preprocessing_terror_dataset_test.py:191] No tf.train.Example found for edge target ID: \"http://profilesinterror.mindswap.org/document/19#MohammedSalameh_http://profilesinterror.mindswap.org/document/19#EyadIsmoil\"\n",
      "W1127 12:49:37.021090 4458966464 preprocessing_terror_dataset_test.py:191] No tf.train.Example found for edge target ID: \"http://profilesinterror.mindswap.org/document/19#MohammedSalameh_http://profilesinterror.mindswap.org/document/4#Ramzi_Yousef\"\n",
      "W1127 12:49:37.021137 4458966464 preprocessing_terror_dataset_test.py:191] No tf.train.Example found for edge target ID: \"http://profilesinterror.mindswap.org/document/19#MohammedSalameh_http://profilesinterror.mindswap.org/document/19#AhmadAjaj\"\n",
      "W1127 12:49:37.023529 4458966464 preprocessing_terror_dataset_test.py:191] No tf.train.Example found for edge target ID: \"http://profilesinterror.mindswap.org/document/2005/08/09/16:36:24#_http://profilesinterror.mindswap.org/document/2005/08/09/16:43:04#\"\n",
      "W1127 12:49:37.024172 4458966464 preprocessing_terror_dataset_test.py:191] No tf.train.Example found for edge target ID: \"http://counterterror.mindswap.org/2005/terrorists.owl#Richard_Colvin_Reid_http://profilesinterror.mindswap.org/document/2005/09/07/09:36:59#\"\n",
      "W1127 12:49:37.024241 4458966464 preprocessing_terror_dataset_test.py:191] No tf.train.Example found for edge target ID: \"http://counterterror.mindswap.org/2005/terrorists.owl#Nizar_Trabelsi_http://counterterror.mindswap.org/2005/terrorists.owl#Richard_Colvin_Reid\"\n",
      "W1127 12:49:37.024828 4458966464 preprocessing_terror_dataset_test.py:191] No tf.train.Example found for edge target ID: \"http://profilesinterror.mindswap.org/document/2005/12/22/19:57:48#_http://counterterror.mindswap.org/2005/terrorists.owl#Lionel_Dumont\"\n",
      "W1127 12:49:37.027744 4458966464 preprocessing_terror_dataset_test.py:191] No tf.train.Example found for edge target ID: \"http://profilesinterror.mindswap.org/document/2005/12/22/19:57:48#_http://counterterror.mindswap.org/2005/terrorists.owl#Lionel_Dumont\"\n",
      "W1127 12:49:37.028389 4458966464 preprocessing_terror_dataset_test.py:191] No tf.train.Example found for edge target ID: \"http://profilesinterror.mindswap.org/document/2005/08/09/16:36:24#_http://profilesinterror.mindswap.org/document/2005/08/09/16:43:04#\"\n",
      "W1127 12:49:37.030088 4458966464 preprocessing_terror_dataset_test.py:191] No tf.train.Example found for edge target ID: \"http://profilesinterror.mindswap.org/document/2005/07/28/16:02:44#Germaine_Lindsay_http://profilesinterror.mindswap.org/document/2005/07/28/15:59:18#Mohammad_Sidique_Khan\"\n",
      "W1127 12:49:37.030164 4458966464 preprocessing_terror_dataset_test.py:191] No tf.train.Example found for edge target ID: \"http://counterterror.mindswap.org/2005/terrorists.owl#Nizar_Trabelsi_http://counterterror.mindswap.org/2005/terrorists.owl#Richard_Colvin_Reid\"\n",
      "W1127 12:49:37.030219 4458966464 preprocessing_terror_dataset_test.py:191] No tf.train.Example found for edge target ID: \"http://counterterror.mindswap.org/2005/terrorists.owl#Djamel_Beghal_http://counterterror.mindswap.org/2005/terrorists.owl#Nizar_Trabelsi\"\n",
      "W1127 12:49:37.030267 4458966464 preprocessing_terror_dataset_test.py:191] No tf.train.Example found for edge target ID: \"http://counterterror.mindswap.org/2005/terrorists.owl#Nizar_Trabelsi_http://profilesinterror.mindswap.org/document/2005/09/07/09:36:59#\"\n",
      "W1127 12:49:37.035986 4458966464 preprocessing_terror_dataset_test.py:191] No tf.train.Example found for edge target ID: \"http://profilesinterror.mindswap.org/document/2005/07/28/16:02:44#Germaine_Lindsay_http://profilesinterror.mindswap.org/document/2005/07/28/15:59:18#Mohammad_Sidique_Khan\"\n",
      "W1127 12:49:37.037600 4458966464 preprocessing_terror_dataset_test.py:191] No tf.train.Example found for edge target ID: \"http://profilesinterror.mindswap.org/document/2005/08/09/16:36:24#_http://profilesinterror.mindswap.org/document/2005/08/09/16:43:04#\"\n",
      "W1127 12:49:37.039717 4458966464 preprocessing_terror_dataset_test.py:191] No tf.train.Example found for edge target ID: \"http://profilesinterror.mindswap.org/document/2005/12/22/19:57:48#_http://counterterror.mindswap.org/2005/terrorists.owl#Lionel_Dumont\"\n",
      "W1127 12:49:37.041953 4458966464 preprocessing_terror_dataset_test.py:191] No tf.train.Example found for edge target ID: \"http://counterterror.mindswap.org/2005/terrorists.owl#Richard_Colvin_Reid_http://profilesinterror.mindswap.org/document/2005/09/07/09:36:59#\"\n",
      "W1127 12:49:37.042032 4458966464 preprocessing_terror_dataset_test.py:191] No tf.train.Example found for edge target ID: \"http://counterterror.mindswap.org/2005/terrorists.owl#Nizar_Trabelsi_http://counterterror.mindswap.org/2005/terrorists.owl#Richard_Colvin_Reid\"\n",
      "W1127 12:49:37.046403 4458966464 preprocessing_terror_dataset_test.py:191] No tf.train.Example found for edge target ID: \"http://counterterror.mindswap.org/2005/terrorists.owl#Nizar_Trabelsi_http://profilesinterror.mindswap.org/document/2005/09/07/09:36:59#\"\n",
      "W1127 12:49:37.046477 4458966464 preprocessing_terror_dataset_test.py:191] No tf.train.Example found for edge target ID: \"http://counterterror.mindswap.org/2005/terrorists.owl#Nizar_Trabelsi_http://counterterror.mindswap.org/2005/terrorists.owl#Richard_Colvin_Reid\"\n",
      "W1127 12:49:37.046532 4458966464 preprocessing_terror_dataset_test.py:191] No tf.train.Example found for edge target ID: \"http://counterterror.mindswap.org/2005/terrorists.owl#Djamel_Beghal_http://counterterror.mindswap.org/2005/terrorists.owl#Nizar_Trabelsi\"\n",
      "W1127 12:49:37.047115 4458966464 preprocessing_terror_dataset_test.py:191] No tf.train.Example found for edge target ID: \"http://profilesinterror.mindswap.org/document/29#FathiKhatib_http://profilesinterror.mindswap.org/document/29#MuammarSheikh\"\n",
      "W1127 12:49:37.049614 4458966464 preprocessing_terror_dataset_test.py:191] No tf.train.Example found for edge target ID: \"http://profilesinterror.mindswap.org/document/2006/03/17/05:42:48#_http://profilesinterror.mindswap.org/document/2006/03/17/05:47:04#\"\n",
      "W1127 12:49:37.049679 4458966464 preprocessing_terror_dataset_test.py:191] No tf.train.Example found for edge target ID: \"http://profilesinterror.mindswap.org/document/2006/03/17/05:42:48#_http://profilesinterror.mindswap.org/document/2006/03/15/04:58:21#\"\n",
      "W1127 12:49:37.049732 4458966464 preprocessing_terror_dataset_test.py:191] No tf.train.Example found for edge target ID: \"http://profilesinterror.mindswap.org/document/2006/03/17/05:42:48#_http://profilesinterror.mindswap.org/document/2006/03/15/22:21:03#\"\n",
      "W1127 12:49:37.054972 4458966464 preprocessing_terror_dataset_test.py:191] No tf.train.Example found for edge target ID: \"http://profilesinterror.mindswap.org/document/4#Ramzi_Yousef_http://profilesinterror.mindswap.org/document/19#Nidal_Ayyad\"\n",
      "W1127 12:49:37.055044 4458966464 preprocessing_terror_dataset_test.py:191] No tf.train.Example found for edge target ID: \"http://profilesinterror.mindswap.org/document/19#EyadIsmoil_http://profilesinterror.mindswap.org/document/19#Nidal_Ayyad\"\n",
      "W1127 12:49:37.055094 4458966464 preprocessing_terror_dataset_test.py:191] No tf.train.Example found for edge target ID: \"http://profilesinterror.mindswap.org/document/19#AhmadAjaj_http://profilesinterror.mindswap.org/document/19#Nidal_Ayyad\"\n",
      "W1127 12:49:37.055140 4458966464 preprocessing_terror_dataset_test.py:191] No tf.train.Example found for edge target ID: \"http://profilesinterror.mindswap.org/document/19#MohammedSalameh_http://profilesinterror.mindswap.org/document/19#Nidal_Ayyad\"\n",
      "W1127 12:49:37.055801 4458966464 preprocessing_terror_dataset_test.py:191] No tf.train.Example found for edge target ID: \"http://counterterror.mindswap.org/2005/terrorists.owl#Djamel_Beghal_http://counterterror.mindswap.org/2005/terrorists.owl#Nizar_Trabelsi\"\n",
      "W1127 12:49:37.056894 4458966464 preprocessing_terror_dataset_test.py:191] No tf.train.Example found for edge target ID: \"http://profilesinterror.mindswap.org/document/29#MohammedSchreim_http://profilesinterror.mindswap.org/document/29#NasserWatimi\"\n",
      "W1127 12:49:37.057477 4458966464 preprocessing_terror_dataset_test.py:191] No tf.train.Example found for edge target ID: \"http://profilesinterror.mindswap.org/document/19#MohammedSalameh_http://profilesinterror.mindswap.org/document/19#EyadIsmoil\"\n",
      "W1127 12:49:37.057541 4458966464 preprocessing_terror_dataset_test.py:191] No tf.train.Example found for edge target ID: \"http://profilesinterror.mindswap.org/document/19#EyadIsmoil_http://profilesinterror.mindswap.org/document/19#Nidal_Ayyad\"\n",
      "W1127 12:49:37.057589 4458966464 preprocessing_terror_dataset_test.py:191] No tf.train.Example found for edge target ID: \"http://profilesinterror.mindswap.org/document/19#EyadIsmoil_http://profilesinterror.mindswap.org/document/4#Ramzi_Yousef\"\n"
     ]
    },
    {
     "name": "stdout",
     "output_type": "stream",
     "text": [
      "W1127 12:49:37.061996 4458966464 preprocessing_terror_dataset_test.py:191] No tf.train.Example found for edge target ID: \"http://profilesinterror.mindswap.org/document/27#FarouqQaddoumi_http://profilesinterror.mindswap.org/document/2005/05/24/18:26:22#Khaled_al-Fahoum\"\n",
      "W1127 12:49:37.062648 4458966464 preprocessing_terror_dataset_test.py:191] No tf.train.Example found for edge target ID: \"http://profilesinterror.mindswap.org/document/19#MohammedSalameh_http://profilesinterror.mindswap.org/document/19#AhmadAjaj\"\n",
      "W1127 12:49:37.062724 4458966464 preprocessing_terror_dataset_test.py:191] No tf.train.Example found for edge target ID: \"http://profilesinterror.mindswap.org/document/19#MohammedSalameh_http://profilesinterror.mindswap.org/document/19#Nidal_Ayyad\"\n",
      "W1127 12:49:37.062776 4458966464 preprocessing_terror_dataset_test.py:191] No tf.train.Example found for edge target ID: \"http://profilesinterror.mindswap.org/document/19#MohammedSalameh_http://profilesinterror.mindswap.org/document/19#EyadIsmoil\"\n",
      "W1127 12:49:37.062821 4458966464 preprocessing_terror_dataset_test.py:191] No tf.train.Example found for edge target ID: \"http://profilesinterror.mindswap.org/document/19#MohammedSalameh_http://profilesinterror.mindswap.org/document/4#Ramzi_Yousef\"\n",
      "W1127 12:49:37.064560 4458966464 preprocessing_terror_dataset_test.py:191] No tf.train.Example found for edge target ID: \"http://profilesinterror.mindswap.org/document/2005/07/28/16:02:44#Germaine_Lindsay_http://profilesinterror.mindswap.org/document/2005/07/28/15:59:18#Mohammad_Sidique_Khan\"\n",
      "W1127 12:49:37.066195 4458966464 preprocessing_terror_dataset_test.py:191] No tf.train.Example found for edge target ID: \"http://profilesinterror.mindswap.org/document/27#FarouqQaddoumi_http://profilesinterror.mindswap.org/document/2005/05/24/18:26:22#Khaled_al-Fahoum\"\n",
      "Done creating and writing 162 merged tf.train.Examples (0.09 seconds).\n",
      "Out-degree histogram: [(0, 1), (2, 6), (3, 155)]\n",
      "Output training data written to TFRecord file: /tmp/CustomTerroristRel/train_merged_examples.tfr.\n",
      "Output test data written to TFRecord file: /tmp/CustomTerroristRel/test_examples.tfr.\n",
      "Total running time: 0.01 minutes.\n"
     ]
    }
   ],
   "source": [
    "!python preprocessing_terror_dataset_test.py \\\n",
    "--input_cora_content=/tmp/CustomTerroristRel/collected.nodes \\\n",
    "--input_cora_graph=/tmp/CustomTerroristRel/TerroristRel.edges \\\n",
    "--max_nbrs=3 \\\n",
    "--train_percentage=0.2\\\n",
    "--output_train_data=/tmp/CustomTerroristRel/train_merged_examples.tfr \\\n",
    "--output_test_data=/tmp/CustomTerroristRel/test_examples.tfr\n"
   ]
  },
  {
   "cell_type": "markdown",
   "metadata": {
    "colab_type": "text",
    "id": "DXoyHIdV5hEe"
   },
   "source": [
    "## Global variables\n",
    "\n",
    "The file paths to the train and test data are based on the command line flag\n",
    "values used to invoke the **'preprocess_cora_dataset.py'** script above."
   ]
  },
  {
   "cell_type": "code",
   "execution_count": 34,
   "metadata": {
    "colab": {},
    "colab_type": "code",
    "id": "kKAmzKIH6I9f"
   },
   "outputs": [],
   "source": [
    "### Experiment dataset\n",
    "TRAIN_DATA_PATH = '/tmp/CustomTerroristRel/train_merged_examples.tfr'\n",
    "TEST_DATA_PATH = '/tmp/CustomTerroristRel/test_examples.tfr'\n",
    "\n",
    "### Constants used to identify neighbor features in the input.\n",
    "NBR_FEATURE_PREFIX = 'NL_nbr_'\n",
    "NBR_WEIGHT_SUFFIX = '_weight'"
   ]
  },
  {
   "cell_type": "code",
   "execution_count": null,
   "metadata": {},
   "outputs": [],
   "source": []
  },
  {
   "cell_type": "markdown",
   "metadata": {
    "colab_type": "text",
    "id": "2gYWAqJqZ76I"
   },
   "source": [
    "## Hyperparameters\n",
    "\n",
    "We will use an instance of `HParams` to inclue various hyperparameters and\n",
    "constants used for training and evaluation. We briefly describe each of them\n",
    "below:\n",
    "\n",
    "-   **num_classes**: There are a total 7 different classes\n",
    "\n",
    "-   **max_seq_length**: This is the size of the vocabulary and all instances in\n",
    "    the input have a dense multi-hot, bag-of-words representation. In other\n",
    "    words, a value of 1 for a word indicates that the word is present in the\n",
    "    input and a value of 0 indicates that it is not.\n",
    "\n",
    "-   **distance_type**: This is the distance metric used to regularize the sample\n",
    "    with its neighbors.\n",
    "\n",
    "-   **graph_regularization_multiplier**: This controls the relative weight of\n",
    "    the graph regularization term in the overall loss function.\n",
    "\n",
    "-   **num_neighbors**: The number of neighbors used for graph regularization.\n",
    "    This value has to be less than or equal to the `max_nbrs` command-line\n",
    "    argument used above when running `preprocess_cora_dataset.py`.\n",
    "\n",
    "-   **num_fc_units**: The number of fully connected layers in our neural\n",
    "    network.\n",
    "\n",
    "-   **train_epochs**: The number of training epochs.\n",
    "\n",
    "-   **batch_size**: Batch size used for training and evaluation.\n",
    "\n",
    "-   **dropout_rate**: Controls the rate of dropout following each fully\n",
    "    connected layer\n",
    "\n",
    "-   **eval_steps**: The number of batches to process before deeming evaluation\n",
    "    is complete. If set to `None`, all instances in the test set are evaluated."
   ]
  },
  {
   "cell_type": "code",
   "execution_count": 35,
   "metadata": {
    "colab": {},
    "colab_type": "code",
    "id": "N03EFEkcOBaJ"
   },
   "outputs": [],
   "source": [
    "class HParams(object):\n",
    "  \"\"\"Hyperparameters used for training.\"\"\"\n",
    "  def __init__(self):\n",
    "    ### dataset parameters\n",
    "    self.num_classes = 4\n",
    "    self.max_seq_length = 1224 # distinct features\n",
    "    ### neural graph learning parameters\n",
    "    self.distance_type = nsl.configs.DistanceType.L2\n",
    "    self.graph_regularization_multiplier = 0.1\n",
    "    self.num_neighbors = 1\n",
    "    ### model architecture\n",
    "    self.num_fc_units = [50,50]\n",
    "    ### training parameters\n",
    "    self.train_epochs = 150\n",
    "    self.batch_size = 150\n",
    "    self.dropout_rate = 0.5\n",
    "    ### eval parameters\n",
    "    self.eval_steps = None  # All instances in the test set are evaluated.\n",
    "\n",
    "HPARAMS = HParams()"
   ]
  },
  {
   "cell_type": "markdown",
   "metadata": {
    "colab_type": "text",
    "id": "IMp34x0MfMMZ"
   },
   "source": [
    "## Load train and test data\n",
    "\n",
    "As described earlier in this notebook, the input training and test data have\n",
    "been created by the **'preprocess_cora_dataset.py'**. We will load them into two\n",
    "`tf.data.Dataset` objects -- one for train and one for test.\n",
    "\n",
    "In the input layer of our model, we will extract not just the 'words' and the\n",
    "'label' features from each sample, but also corresponding neighbor features\n",
    "based on the `hparams.num_neighbors`. Instances with fewer neighbors than\n",
    "`hparams.num_neighbors` will be assigned dummy values for those non-existent\n",
    "neighbor features."
   ]
  },
  {
   "cell_type": "code",
   "execution_count": 36,
   "metadata": {
    "colab": {},
    "colab_type": "code",
    "id": "LCKQVKGee1ST"
   },
   "outputs": [],
   "source": [
    "def parse_example(example_proto):\n",
    "  \"\"\"Extracts relevant fields from the `example_proto`.\n",
    "\n",
    "  Args:\n",
    "    example_proto: An instance of `tf.train.Example`.\n",
    "\n",
    "  Returns:\n",
    "    A pair whose first value is a dictionary containing relevant features\n",
    "    and whose second value contains the ground truth labels.\n",
    "  \"\"\"\n",
    "  # The 'words' feature is a multi-hot, bag-of-words representation of the\n",
    "  # original raw text. A default value is required for examples that don't\n",
    "  # have the feature.\n",
    "  feature_spec = {\n",
    "      'words':\n",
    "          tf.io.FixedLenFeature([HPARAMS.max_seq_length],\n",
    "                                tf.int64,\n",
    "                                default_value=tf.constant(\n",
    "                                    0,\n",
    "                                    dtype=tf.int64,\n",
    "                                    shape=[HPARAMS.max_seq_length])),\n",
    "      'label':\n",
    "          tf.io.FixedLenFeature((), tf.int64, default_value=-1),\n",
    "  }\n",
    "  # We also extract corresponding neighbor features in a similar manner to\n",
    "  # the features above.\n",
    "  for i in range(HPARAMS.num_neighbors):\n",
    "    nbr_feature_key = '{}{}_{}'.format(NBR_FEATURE_PREFIX, i, 'words')\n",
    "    nbr_weight_key = '{}{}{}'.format(NBR_FEATURE_PREFIX, i, NBR_WEIGHT_SUFFIX)\n",
    "    feature_spec[nbr_feature_key] = tf.io.FixedLenFeature(\n",
    "        [HPARAMS.max_seq_length],\n",
    "        tf.int64,\n",
    "        default_value=tf.constant(\n",
    "            0, dtype=tf.int64, shape=[HPARAMS.max_seq_length]))\n",
    "\n",
    "    # We assign a default value of 0.0 for the neighbor weight so that\n",
    "    # graph regularization is done on samples based on their exact number\n",
    "    # of neighbors. In other words, non-existent neighbors are discounted.\n",
    "    feature_spec[nbr_weight_key] = tf.io.FixedLenFeature(\n",
    "        [1], tf.float32, default_value=tf.constant([0.0]))\n",
    "\n",
    "  features = tf.io.parse_single_example(example_proto, feature_spec)\n",
    "\n",
    "  labels = features.pop('label')\n",
    "  return features, labels\n",
    "\n",
    "\n",
    "def make_dataset(file_path, training=False):\n",
    "  \"\"\"Creates a `tf.data.TFRecordDataset`.\n",
    "\n",
    "  Args:\n",
    "    file_path: Name of the file in the `.tfrecord` format containing\n",
    "      `tf.train.Example` objects.\n",
    "    training: Boolean indicating if we are in training mode.\n",
    "\n",
    "  Returns:\n",
    "    An instance of `tf.data.TFRecordDataset` containing the `tf.train.Example`\n",
    "    objects.\n",
    "  \"\"\"\n",
    "  dataset = tf.data.TFRecordDataset([file_path])\n",
    "  if training:\n",
    "    dataset = dataset.shuffle(10000)\n",
    "  dataset = dataset.map(parse_example)\n",
    "  dataset = dataset.batch(HPARAMS.batch_size)\n",
    "  return dataset\n",
    "\n",
    "\n",
    "train_dataset = make_dataset(TRAIN_DATA_PATH, training=True)\n",
    "test_dataset = make_dataset(TEST_DATA_PATH)"
   ]
  },
  {
   "cell_type": "markdown",
   "metadata": {
    "colab_type": "text",
    "id": "OZhsTo8yio8i"
   },
   "source": [
    "## Model definition\n",
    "\n",
    "We use a simple functional model in keras as basemodel for our predictions.\n",
    "\n",
    "something about the model:\n",
    "* layers\n",
    "* neurons ..\n",
    "* why we do it this way.."
   ]
  },
  {
   "cell_type": "markdown",
   "metadata": {
    "colab_type": "text",
    "id": "FfZWxqVPiz_f"
   },
   "source": [
    "### Functional base model"
   ]
  },
  {
   "cell_type": "code",
   "execution_count": 37,
   "metadata": {
    "colab": {},
    "colab_type": "code",
    "id": "TU-YE4NXi7PK"
   },
   "outputs": [],
   "source": [
    "def make_mlp_functional_model(hparams):\n",
    "    \"\"\"Creates a functional API-based multi-layer perceptron model.\"\"\"\n",
    "    inputs = tf.keras.Input(shape=(hparams.max_seq_length,), dtype='int64', name='words')\n",
    "\n",
    "  # Input is already one-hot encoded in the integer format. We cast it to\n",
    "  # floating point format here.\n",
    "    cur_layer = tf.keras.layers.Lambda(\n",
    "      lambda x: tf.keras.backend.cast(x, tf.float32))(\n",
    "          inputs)\n",
    "\n",
    "    for num_units in hparams.num_fc_units:\n",
    "        cur_layer = tf.keras.layers.Dense(num_units, activation='relu')(cur_layer)\n",
    "        # For functional models, by default, Keras ensures that the 'dropout' layer\n",
    "        # is invoked only during training.\n",
    "        cur_layer = tf.keras.layers.Dropout(hparams.dropout_rate)(cur_layer)\n",
    "        cur_layer = tf.keras.layers.BatchNormalization()(cur_layer)\n",
    "\n",
    "    outputs = tf.keras.layers.Dense(\n",
    "      hparams.num_classes, activation='softmax')(\n",
    "          cur_layer)\n",
    "\n",
    "    model = tf.keras.Model(inputs, outputs=outputs)\n",
    "    return model"
   ]
  },
  {
   "cell_type": "markdown",
   "metadata": {
    "colab_type": "text",
    "id": "BbGpIbscjIAo"
   },
   "source": [
    "## Create base model(s)"
   ]
  },
  {
   "cell_type": "code",
   "execution_count": 38,
   "metadata": {
    "colab": {},
    "colab_type": "code",
    "id": "fzMBxiMGjCO4"
   },
   "outputs": [
    {
     "name": "stdout",
     "output_type": "stream",
     "text": [
      "Model: \"model_2\"\n",
      "_________________________________________________________________\n",
      "Layer (type)                 Output Shape              Param #   \n",
      "=================================================================\n",
      "words (InputLayer)           [(None, 1224)]            0         \n",
      "_________________________________________________________________\n",
      "lambda_2 (Lambda)            (None, 1224)              0         \n",
      "_________________________________________________________________\n",
      "dense_6 (Dense)              (None, 50)                61250     \n",
      "_________________________________________________________________\n",
      "dropout_4 (Dropout)          (None, 50)                0         \n",
      "_________________________________________________________________\n",
      "batch_normalization_4 (Batch (None, 50)                200       \n",
      "_________________________________________________________________\n",
      "dense_7 (Dense)              (None, 50)                2550      \n",
      "_________________________________________________________________\n",
      "dropout_5 (Dropout)          (None, 50)                0         \n",
      "_________________________________________________________________\n",
      "batch_normalization_5 (Batch (None, 50)                200       \n",
      "_________________________________________________________________\n",
      "dense_8 (Dense)              (None, 4)                 204       \n",
      "=================================================================\n",
      "Total params: 64,404\n",
      "Trainable params: 64,204\n",
      "Non-trainable params: 200\n",
      "_________________________________________________________________\n"
     ]
    }
   ],
   "source": [
    "# Create a base MLP model using the functional API.\n",
    "base_model_tag, base_model = 'FUNCTIONAL', make_mlp_functional_model(HPARAMS)\n",
    "base_model.summary()"
   ]
  },
  {
   "cell_type": "markdown",
   "metadata": {
    "colab_type": "text",
    "id": "T1uEboimjiW7"
   },
   "source": [
    "## Train base (Multilayer perceptron) MLP model"
   ]
  },
  {
   "cell_type": "code",
   "execution_count": 39,
   "metadata": {
    "colab": {},
    "colab_type": "code",
    "id": "JALapM4PoCvi",
    "scrolled": true
   },
   "outputs": [
    {
     "name": "stdout",
     "output_type": "stream",
     "text": [
      "Epoch 1/150\n",
      "2/2 [==============================] - 1s 481ms/step - loss: 2.2343 - accuracy: 0.2716 - val_loss: 0.0000e+00 - val_accuracy: 0.0000e+00\n",
      "Epoch 2/150\n",
      "2/2 [==============================] - 0s 57ms/step - loss: 1.7989 - accuracy: 0.3457 - val_loss: 0.0000e+00 - val_accuracy: 0.0000e+00\n",
      "Epoch 3/150\n",
      "2/2 [==============================] - 0s 54ms/step - loss: 1.9690 - accuracy: 0.2593 - val_loss: 0.0000e+00 - val_accuracy: 0.0000e+00\n",
      "Epoch 4/150\n",
      "2/2 [==============================] - 0s 56ms/step - loss: 1.5472 - accuracy: 0.3086 - val_loss: 0.0000e+00 - val_accuracy: 0.0000e+00\n",
      "Epoch 5/150\n",
      "2/2 [==============================] - 0s 56ms/step - loss: 1.8232 - accuracy: 0.3272 - val_loss: 0.0000e+00 - val_accuracy: 0.0000e+00\n",
      "Epoch 6/150\n",
      "2/2 [==============================] - 0s 52ms/step - loss: 1.6707 - accuracy: 0.3333 - val_loss: 0.0000e+00 - val_accuracy: 0.0000e+00\n",
      "Epoch 7/150\n",
      "2/2 [==============================] - 0s 60ms/step - loss: 1.8857 - accuracy: 0.3272 - val_loss: 0.0000e+00 - val_accuracy: 0.0000e+00\n",
      "Epoch 8/150\n",
      "2/2 [==============================] - 0s 57ms/step - loss: 1.4930 - accuracy: 0.4259 - val_loss: 0.0000e+00 - val_accuracy: 0.0000e+00\n",
      "Epoch 9/150\n",
      "2/2 [==============================] - 0s 54ms/step - loss: 1.4111 - accuracy: 0.4568 - val_loss: 0.0000e+00 - val_accuracy: 0.0000e+00\n",
      "Epoch 10/150\n",
      "2/2 [==============================] - 0s 53ms/step - loss: 1.3240 - accuracy: 0.4259 - val_loss: 0.0000e+00 - val_accuracy: 0.0000e+00\n",
      "Epoch 11/150\n",
      "2/2 [==============================] - 0s 51ms/step - loss: 1.5255 - accuracy: 0.3457 - val_loss: 0.0000e+00 - val_accuracy: 0.0000e+00\n",
      "Epoch 12/150\n",
      "2/2 [==============================] - 0s 50ms/step - loss: 1.5666 - accuracy: 0.4568 - val_loss: 0.0000e+00 - val_accuracy: 0.0000e+00\n",
      "Epoch 13/150\n",
      "2/2 [==============================] - 0s 54ms/step - loss: 1.2287 - accuracy: 0.4506 - val_loss: 0.0000e+00 - val_accuracy: 0.0000e+00\n",
      "Epoch 14/150\n",
      "2/2 [==============================] - 0s 56ms/step - loss: 1.5414 - accuracy: 0.4321 - val_loss: 0.0000e+00 - val_accuracy: 0.0000e+00\n",
      "Epoch 15/150\n",
      "2/2 [==============================] - 0s 54ms/step - loss: 1.3876 - accuracy: 0.5062 - val_loss: 0.0000e+00 - val_accuracy: 0.0000e+00\n",
      "Epoch 16/150\n",
      "2/2 [==============================] - 0s 52ms/step - loss: 1.4869 - accuracy: 0.4815 - val_loss: 0.0000e+00 - val_accuracy: 0.0000e+00\n",
      "Epoch 17/150\n",
      "2/2 [==============================] - 0s 51ms/step - loss: 1.2659 - accuracy: 0.5370 - val_loss: 0.0000e+00 - val_accuracy: 0.0000e+00\n",
      "Epoch 18/150\n",
      "2/2 [==============================] - 0s 49ms/step - loss: 1.2505 - accuracy: 0.4815 - val_loss: 0.0000e+00 - val_accuracy: 0.0000e+00\n",
      "Epoch 19/150\n",
      "2/2 [==============================] - 0s 52ms/step - loss: 1.2975 - accuracy: 0.4691 - val_loss: 0.0000e+00 - val_accuracy: 0.0000e+00\n",
      "Epoch 20/150\n",
      "2/2 [==============================] - 0s 50ms/step - loss: 1.2905 - accuracy: 0.5556 - val_loss: 0.0000e+00 - val_accuracy: 0.0000e+00\n",
      "Epoch 21/150\n",
      "2/2 [==============================] - 0s 53ms/step - loss: 1.1180 - accuracy: 0.5432 - val_loss: 0.0000e+00 - val_accuracy: 0.0000e+00\n",
      "Epoch 22/150\n",
      "2/2 [==============================] - 0s 51ms/step - loss: 1.1703 - accuracy: 0.5432 - val_loss: 0.0000e+00 - val_accuracy: 0.0000e+00\n",
      "Epoch 23/150\n",
      "2/2 [==============================] - 0s 51ms/step - loss: 1.2463 - accuracy: 0.5123 - val_loss: 0.0000e+00 - val_accuracy: 0.0000e+00\n",
      "Epoch 24/150\n",
      "2/2 [==============================] - 0s 50ms/step - loss: 1.2871 - accuracy: 0.5494 - val_loss: 0.0000e+00 - val_accuracy: 0.0000e+00\n",
      "Epoch 25/150\n",
      "2/2 [==============================] - 0s 59ms/step - loss: 1.0950 - accuracy: 0.5494 - val_loss: 0.0000e+00 - val_accuracy: 0.0000e+00\n",
      "Epoch 26/150\n",
      "2/2 [==============================] - 0s 56ms/step - loss: 1.1833 - accuracy: 0.5926 - val_loss: 0.0000e+00 - val_accuracy: 0.0000e+00\n",
      "Epoch 27/150\n",
      "2/2 [==============================] - 0s 51ms/step - loss: 1.0643 - accuracy: 0.6111 - val_loss: 0.0000e+00 - val_accuracy: 0.0000e+00\n",
      "Epoch 28/150\n",
      "2/2 [==============================] - 0s 51ms/step - loss: 1.0348 - accuracy: 0.5679 - val_loss: 0.0000e+00 - val_accuracy: 0.0000e+00\n",
      "Epoch 29/150\n",
      "2/2 [==============================] - 0s 50ms/step - loss: 1.1456 - accuracy: 0.5988 - val_loss: 0.0000e+00 - val_accuracy: 0.0000e+00\n",
      "Epoch 30/150\n",
      "2/2 [==============================] - 0s 53ms/step - loss: 1.0504 - accuracy: 0.6420 - val_loss: 0.0000e+00 - val_accuracy: 0.0000e+00\n",
      "Epoch 31/150\n",
      "2/2 [==============================] - 0s 52ms/step - loss: 1.1163 - accuracy: 0.6728 - val_loss: 0.0000e+00 - val_accuracy: 0.0000e+00\n",
      "Epoch 32/150\n",
      "2/2 [==============================] - 0s 53ms/step - loss: 1.2776 - accuracy: 0.6111 - val_loss: 0.0000e+00 - val_accuracy: 0.0000e+00\n",
      "Epoch 33/150\n",
      "2/2 [==============================] - 0s 54ms/step - loss: 1.1145 - accuracy: 0.6667 - val_loss: 0.0000e+00 - val_accuracy: 0.0000e+00\n",
      "Epoch 34/150\n",
      "2/2 [==============================] - 0s 49ms/step - loss: 0.8800 - accuracy: 0.6358 - val_loss: 0.0000e+00 - val_accuracy: 0.0000e+00\n",
      "Epoch 35/150\n",
      "2/2 [==============================] - 0s 53ms/step - loss: 1.0140 - accuracy: 0.6914 - val_loss: 0.0000e+00 - val_accuracy: 0.0000e+00\n",
      "Epoch 36/150\n",
      "2/2 [==============================] - 0s 53ms/step - loss: 1.1450 - accuracy: 0.6852 - val_loss: 0.0000e+00 - val_accuracy: 0.0000e+00\n",
      "Epoch 37/150\n",
      "2/2 [==============================] - 0s 52ms/step - loss: 0.9173 - accuracy: 0.6605 - val_loss: 0.0000e+00 - val_accuracy: 0.0000e+00\n",
      "Epoch 38/150\n",
      "2/2 [==============================] - 0s 51ms/step - loss: 0.7715 - accuracy: 0.7284 - val_loss: 0.0000e+00 - val_accuracy: 0.0000e+00\n",
      "Epoch 39/150\n",
      "2/2 [==============================] - 0s 55ms/step - loss: 0.6723 - accuracy: 0.7222 - val_loss: 0.0000e+00 - val_accuracy: 0.0000e+00\n",
      "Epoch 40/150\n",
      "2/2 [==============================] - 0s 51ms/step - loss: 0.7797 - accuracy: 0.7284 - val_loss: 0.0000e+00 - val_accuracy: 0.0000e+00\n",
      "Epoch 41/150\n",
      "2/2 [==============================] - 0s 51ms/step - loss: 1.0337 - accuracy: 0.7160 - val_loss: 0.0000e+00 - val_accuracy: 0.0000e+00\n",
      "Epoch 42/150\n",
      "2/2 [==============================] - 0s 49ms/step - loss: 1.0108 - accuracy: 0.6543 - val_loss: 0.0000e+00 - val_accuracy: 0.0000e+00\n",
      "Epoch 43/150\n",
      "2/2 [==============================] - 0s 50ms/step - loss: 1.0338 - accuracy: 0.6358 - val_loss: 0.0000e+00 - val_accuracy: 0.0000e+00\n",
      "Epoch 44/150\n",
      "2/2 [==============================] - 0s 49ms/step - loss: 0.8685 - accuracy: 0.7099 - val_loss: 0.0000e+00 - val_accuracy: 0.0000e+00\n",
      "Epoch 45/150\n",
      "2/2 [==============================] - 0s 53ms/step - loss: 0.8536 - accuracy: 0.7407 - val_loss: 0.0000e+00 - val_accuracy: 0.0000e+00\n",
      "Epoch 46/150\n",
      "2/2 [==============================] - 0s 57ms/step - loss: 0.9761 - accuracy: 0.7160 - val_loss: 0.0000e+00 - val_accuracy: 0.0000e+00\n",
      "Epoch 47/150\n",
      "2/2 [==============================] - 0s 54ms/step - loss: 1.1800 - accuracy: 0.7160 - val_loss: 0.0000e+00 - val_accuracy: 0.0000e+00\n",
      "Epoch 48/150\n",
      "2/2 [==============================] - 0s 55ms/step - loss: 0.9470 - accuracy: 0.7654 - val_loss: 0.0000e+00 - val_accuracy: 0.0000e+00\n",
      "Epoch 49/150\n",
      "2/2 [==============================] - 0s 53ms/step - loss: 0.9317 - accuracy: 0.7099 - val_loss: 0.0000e+00 - val_accuracy: 0.0000e+00\n",
      "Epoch 50/150\n",
      "2/2 [==============================] - 0s 54ms/step - loss: 0.7892 - accuracy: 0.7963 - val_loss: 0.0000e+00 - val_accuracy: 0.0000e+00\n",
      "Epoch 51/150\n",
      "2/2 [==============================] - 0s 55ms/step - loss: 0.9365 - accuracy: 0.7778 - val_loss: 0.0000e+00 - val_accuracy: 0.0000e+00\n",
      "Epoch 52/150\n",
      "2/2 [==============================] - 0s 58ms/step - loss: 0.6709 - accuracy: 0.7531 - val_loss: 0.0000e+00 - val_accuracy: 0.0000e+00\n",
      "Epoch 53/150\n",
      "2/2 [==============================] - 0s 56ms/step - loss: 0.7127 - accuracy: 0.8025 - val_loss: 0.0000e+00 - val_accuracy: 0.0000e+00\n",
      "Epoch 54/150\n",
      "2/2 [==============================] - 0s 61ms/step - loss: 0.6345 - accuracy: 0.7840 - val_loss: 0.0000e+00 - val_accuracy: 0.0000e+00\n",
      "Epoch 55/150\n",
      "2/2 [==============================] - 0s 56ms/step - loss: 0.6536 - accuracy: 0.7778 - val_loss: 0.0000e+00 - val_accuracy: 0.0000e+00\n",
      "Epoch 56/150\n"
     ]
    },
    {
     "name": "stdout",
     "output_type": "stream",
     "text": [
      "2/2 [==============================] - 0s 60ms/step - loss: 0.6207 - accuracy: 0.7469 - val_loss: 0.0000e+00 - val_accuracy: 0.0000e+00\n",
      "Epoch 57/150\n",
      "2/2 [==============================] - 0s 61ms/step - loss: 0.6320 - accuracy: 0.7778 - val_loss: 0.0000e+00 - val_accuracy: 0.0000e+00\n",
      "Epoch 58/150\n",
      "2/2 [==============================] - 0s 61ms/step - loss: 0.6954 - accuracy: 0.8025 - val_loss: 0.0000e+00 - val_accuracy: 0.0000e+00\n",
      "Epoch 59/150\n",
      "2/2 [==============================] - 0s 60ms/step - loss: 0.8577 - accuracy: 0.7531 - val_loss: 0.0000e+00 - val_accuracy: 0.0000e+00\n",
      "Epoch 60/150\n",
      "2/2 [==============================] - 0s 57ms/step - loss: 0.7491 - accuracy: 0.7840 - val_loss: 0.0000e+00 - val_accuracy: 0.0000e+00\n",
      "Epoch 61/150\n",
      "2/2 [==============================] - 0s 54ms/step - loss: 0.5989 - accuracy: 0.7654 - val_loss: 0.0000e+00 - val_accuracy: 0.0000e+00\n",
      "Epoch 62/150\n",
      "2/2 [==============================] - 0s 55ms/step - loss: 0.7073 - accuracy: 0.7346 - val_loss: 0.0000e+00 - val_accuracy: 0.0000e+00\n",
      "Epoch 63/150\n",
      "2/2 [==============================] - 0s 59ms/step - loss: 0.6254 - accuracy: 0.7840 - val_loss: 0.0000e+00 - val_accuracy: 0.0000e+00\n",
      "Epoch 64/150\n",
      "2/2 [==============================] - 0s 58ms/step - loss: 0.8737 - accuracy: 0.7778 - val_loss: 0.0000e+00 - val_accuracy: 0.0000e+00\n",
      "Epoch 65/150\n",
      "2/2 [==============================] - 0s 57ms/step - loss: 0.9143 - accuracy: 0.8086 - val_loss: 0.0000e+00 - val_accuracy: 0.0000e+00\n",
      "Epoch 66/150\n",
      "2/2 [==============================] - 0s 58ms/step - loss: 0.8566 - accuracy: 0.7654 - val_loss: 0.0000e+00 - val_accuracy: 0.0000e+00\n",
      "Epoch 67/150\n",
      "2/2 [==============================] - 0s 59ms/step - loss: 0.8040 - accuracy: 0.8333 - val_loss: 0.0000e+00 - val_accuracy: 0.0000e+00\n",
      "Epoch 68/150\n",
      "2/2 [==============================] - 0s 59ms/step - loss: 0.5803 - accuracy: 0.7840 - val_loss: 0.0000e+00 - val_accuracy: 0.0000e+00\n",
      "Epoch 69/150\n",
      "2/2 [==============================] - 0s 58ms/step - loss: 0.7294 - accuracy: 0.7963 - val_loss: 0.0000e+00 - val_accuracy: 0.0000e+00\n",
      "Epoch 70/150\n",
      "2/2 [==============================] - 0s 59ms/step - loss: 0.6787 - accuracy: 0.8333 - val_loss: 0.0000e+00 - val_accuracy: 0.0000e+00\n",
      "Epoch 71/150\n",
      "2/2 [==============================] - 0s 56ms/step - loss: 0.4040 - accuracy: 0.8333 - val_loss: 0.0000e+00 - val_accuracy: 0.0000e+00\n",
      "Epoch 72/150\n",
      "2/2 [==============================] - 0s 57ms/step - loss: 0.5589 - accuracy: 0.8395 - val_loss: 0.0000e+00 - val_accuracy: 0.0000e+00\n",
      "Epoch 73/150\n",
      "2/2 [==============================] - 0s 62ms/step - loss: 0.6094 - accuracy: 0.8333 - val_loss: 0.0000e+00 - val_accuracy: 0.0000e+00\n",
      "Epoch 74/150\n",
      "2/2 [==============================] - 0s 54ms/step - loss: 0.8063 - accuracy: 0.8210 - val_loss: 0.0000e+00 - val_accuracy: 0.0000e+00\n",
      "Epoch 75/150\n",
      "2/2 [==============================] - 0s 50ms/step - loss: 0.5161 - accuracy: 0.8519 - val_loss: 0.0000e+00 - val_accuracy: 0.0000e+00\n",
      "Epoch 76/150\n",
      "2/2 [==============================] - 0s 50ms/step - loss: 0.6080 - accuracy: 0.8086 - val_loss: 0.0000e+00 - val_accuracy: 0.0000e+00\n",
      "Epoch 77/150\n",
      "2/2 [==============================] - 0s 49ms/step - loss: 0.8393 - accuracy: 0.8333 - val_loss: 0.0000e+00 - val_accuracy: 0.0000e+00\n",
      "Epoch 78/150\n",
      "2/2 [==============================] - 0s 47ms/step - loss: 0.5881 - accuracy: 0.8210 - val_loss: 0.0000e+00 - val_accuracy: 0.0000e+00\n",
      "Epoch 79/150\n",
      "2/2 [==============================] - 0s 54ms/step - loss: 0.7582 - accuracy: 0.7840 - val_loss: 0.0000e+00 - val_accuracy: 0.0000e+00\n",
      "Epoch 80/150\n",
      "2/2 [==============================] - 0s 59ms/step - loss: 0.7517 - accuracy: 0.7778 - val_loss: 0.0000e+00 - val_accuracy: 0.0000e+00\n",
      "Epoch 81/150\n",
      "2/2 [==============================] - 0s 59ms/step - loss: 0.7404 - accuracy: 0.8086 - val_loss: 0.0000e+00 - val_accuracy: 0.0000e+00\n",
      "Epoch 82/150\n",
      "2/2 [==============================] - 0s 53ms/step - loss: 0.4959 - accuracy: 0.8395 - val_loss: 0.0000e+00 - val_accuracy: 0.0000e+00\n",
      "Epoch 83/150\n",
      "2/2 [==============================] - 0s 55ms/step - loss: 0.5106 - accuracy: 0.8519 - val_loss: 0.0000e+00 - val_accuracy: 0.0000e+00\n",
      "Epoch 84/150\n",
      "2/2 [==============================] - 0s 56ms/step - loss: 0.6139 - accuracy: 0.8580 - val_loss: 0.0000e+00 - val_accuracy: 0.0000e+00\n",
      "Epoch 85/150\n",
      "2/2 [==============================] - 0s 56ms/step - loss: 0.5413 - accuracy: 0.7901 - val_loss: 0.0000e+00 - val_accuracy: 0.0000e+00\n",
      "Epoch 86/150\n",
      "2/2 [==============================] - 0s 56ms/step - loss: 0.7988 - accuracy: 0.8148 - val_loss: 0.0000e+00 - val_accuracy: 0.0000e+00\n",
      "Epoch 87/150\n",
      "2/2 [==============================] - 0s 54ms/step - loss: 0.5604 - accuracy: 0.7963 - val_loss: 0.0000e+00 - val_accuracy: 0.0000e+00\n",
      "Epoch 88/150\n",
      "2/2 [==============================] - 0s 54ms/step - loss: 0.4409 - accuracy: 0.8642 - val_loss: 0.0000e+00 - val_accuracy: 0.0000e+00\n",
      "Epoch 89/150\n",
      "2/2 [==============================] - 0s 54ms/step - loss: 0.5041 - accuracy: 0.8457 - val_loss: 0.0000e+00 - val_accuracy: 0.0000e+00\n",
      "Epoch 90/150\n",
      "2/2 [==============================] - 0s 55ms/step - loss: 0.5500 - accuracy: 0.8333 - val_loss: 0.0000e+00 - val_accuracy: 0.0000e+00\n",
      "Epoch 91/150\n",
      "2/2 [==============================] - 0s 54ms/step - loss: 0.5304 - accuracy: 0.8272 - val_loss: 0.0000e+00 - val_accuracy: 0.0000e+00\n",
      "Epoch 92/150\n",
      "2/2 [==============================] - 0s 55ms/step - loss: 0.5237 - accuracy: 0.8519 - val_loss: 0.0000e+00 - val_accuracy: 0.0000e+00\n",
      "Epoch 93/150\n",
      "2/2 [==============================] - 0s 54ms/step - loss: 0.7389 - accuracy: 0.7716 - val_loss: 0.0000e+00 - val_accuracy: 0.0000e+00\n",
      "Epoch 94/150\n",
      "2/2 [==============================] - 0s 53ms/step - loss: 0.4089 - accuracy: 0.8519 - val_loss: 0.0000e+00 - val_accuracy: 0.0000e+00\n",
      "Epoch 95/150\n",
      "2/2 [==============================] - 0s 55ms/step - loss: 0.5749 - accuracy: 0.8025 - val_loss: 0.0000e+00 - val_accuracy: 0.0000e+00\n",
      "Epoch 96/150\n",
      "2/2 [==============================] - 0s 53ms/step - loss: 0.6733 - accuracy: 0.8210 - val_loss: 0.0000e+00 - val_accuracy: 0.0000e+00\n",
      "Epoch 97/150\n",
      "2/2 [==============================] - 0s 54ms/step - loss: 0.5649 - accuracy: 0.8025 - val_loss: 0.0000e+00 - val_accuracy: 0.0000e+00\n",
      "Epoch 98/150\n",
      "2/2 [==============================] - 0s 57ms/step - loss: 0.5591 - accuracy: 0.8580 - val_loss: 0.0000e+00 - val_accuracy: 0.0000e+00\n",
      "Epoch 99/150\n",
      "2/2 [==============================] - 0s 60ms/step - loss: 0.4599 - accuracy: 0.8333 - val_loss: 0.0000e+00 - val_accuracy: 0.0000e+00\n",
      "Epoch 100/150\n",
      "2/2 [==============================] - 0s 55ms/step - loss: 0.5234 - accuracy: 0.8642 - val_loss: 0.0000e+00 - val_accuracy: 0.0000e+00\n",
      "Epoch 101/150\n",
      "2/2 [==============================] - 0s 59ms/step - loss: 0.5384 - accuracy: 0.8086 - val_loss: 0.0000e+00 - val_accuracy: 0.0000e+00\n",
      "Epoch 102/150\n",
      "2/2 [==============================] - 0s 58ms/step - loss: 0.4331 - accuracy: 0.8519 - val_loss: 0.0000e+00 - val_accuracy: 0.0000e+00\n",
      "Epoch 103/150\n",
      "2/2 [==============================] - 0s 61ms/step - loss: 0.8718 - accuracy: 0.8025 - val_loss: 0.0000e+00 - val_accuracy: 0.0000e+00\n",
      "Epoch 104/150\n",
      "2/2 [==============================] - 0s 59ms/step - loss: 0.4296 - accuracy: 0.8519 - val_loss: 0.0000e+00 - val_accuracy: 0.0000e+00\n",
      "Epoch 105/150\n",
      "2/2 [==============================] - 0s 62ms/step - loss: 0.5462 - accuracy: 0.8457 - val_loss: 0.0000e+00 - val_accuracy: 0.0000e+00\n",
      "Epoch 106/150\n",
      "2/2 [==============================] - 0s 61ms/step - loss: 0.3838 - accuracy: 0.8827 - val_loss: 0.0000e+00 - val_accuracy: 0.0000e+00\n",
      "Epoch 107/150\n",
      "2/2 [==============================] - 0s 59ms/step - loss: 0.5973 - accuracy: 0.8272 - val_loss: 0.0000e+00 - val_accuracy: 0.0000e+00\n",
      "Epoch 108/150\n",
      "2/2 [==============================] - 0s 64ms/step - loss: 0.4895 - accuracy: 0.8395 - val_loss: 0.0000e+00 - val_accuracy: 0.0000e+00\n",
      "Epoch 109/150\n",
      "2/2 [==============================] - 0s 55ms/step - loss: 0.5825 - accuracy: 0.8519 - val_loss: 0.0000e+00 - val_accuracy: 0.0000e+00\n",
      "Epoch 110/150\n",
      "2/2 [==============================] - 0s 55ms/step - loss: 0.3954 - accuracy: 0.8642 - val_loss: 0.0000e+00 - val_accuracy: 0.0000e+00\n"
     ]
    },
    {
     "name": "stdout",
     "output_type": "stream",
     "text": [
      "Epoch 111/150\n",
      "2/2 [==============================] - 0s 50ms/step - loss: 0.5224 - accuracy: 0.8580 - val_loss: 0.0000e+00 - val_accuracy: 0.0000e+00\n",
      "Epoch 112/150\n",
      "2/2 [==============================] - 0s 50ms/step - loss: 0.3377 - accuracy: 0.8765 - val_loss: 0.0000e+00 - val_accuracy: 0.0000e+00\n",
      "Epoch 113/150\n",
      "2/2 [==============================] - 0s 55ms/step - loss: 0.7799 - accuracy: 0.8457 - val_loss: 0.0000e+00 - val_accuracy: 0.0000e+00\n",
      "Epoch 114/150\n",
      "2/2 [==============================] - 0s 62ms/step - loss: 0.3867 - accuracy: 0.8642 - val_loss: 0.0000e+00 - val_accuracy: 0.0000e+00\n",
      "Epoch 115/150\n",
      "2/2 [==============================] - 0s 56ms/step - loss: 0.3385 - accuracy: 0.8704 - val_loss: 0.0000e+00 - val_accuracy: 0.0000e+00\n",
      "Epoch 116/150\n",
      "2/2 [==============================] - 0s 57ms/step - loss: 0.4266 - accuracy: 0.8580 - val_loss: 0.0000e+00 - val_accuracy: 0.0000e+00\n",
      "Epoch 117/150\n",
      "2/2 [==============================] - 0s 50ms/step - loss: 0.4437 - accuracy: 0.8642 - val_loss: 0.0000e+00 - val_accuracy: 0.0000e+00\n",
      "Epoch 118/150\n",
      "2/2 [==============================] - 0s 50ms/step - loss: 0.7164 - accuracy: 0.8333 - val_loss: 0.0000e+00 - val_accuracy: 0.0000e+00\n",
      "Epoch 119/150\n",
      "2/2 [==============================] - 0s 51ms/step - loss: 0.5875 - accuracy: 0.8519 - val_loss: 0.0000e+00 - val_accuracy: 0.0000e+00\n",
      "Epoch 120/150\n",
      "2/2 [==============================] - 0s 53ms/step - loss: 0.4923 - accuracy: 0.8580 - val_loss: 0.0000e+00 - val_accuracy: 0.0000e+00\n",
      "Epoch 121/150\n",
      "2/2 [==============================] - 0s 54ms/step - loss: 0.6173 - accuracy: 0.8457 - val_loss: 0.0000e+00 - val_accuracy: 0.0000e+00\n",
      "Epoch 122/150\n",
      "2/2 [==============================] - 0s 53ms/step - loss: 0.4254 - accuracy: 0.8765 - val_loss: 0.0000e+00 - val_accuracy: 0.0000e+00\n",
      "Epoch 123/150\n",
      "2/2 [==============================] - 0s 55ms/step - loss: 0.7196 - accuracy: 0.8148 - val_loss: 0.0000e+00 - val_accuracy: 0.0000e+00\n",
      "Epoch 124/150\n",
      "2/2 [==============================] - 0s 51ms/step - loss: 0.6544 - accuracy: 0.8519 - val_loss: 0.0000e+00 - val_accuracy: 0.0000e+00\n",
      "Epoch 125/150\n",
      "2/2 [==============================] - 0s 53ms/step - loss: 0.2949 - accuracy: 0.8642 - val_loss: 0.0000e+00 - val_accuracy: 0.0000e+00\n",
      "Epoch 126/150\n",
      "2/2 [==============================] - 0s 50ms/step - loss: 0.6445 - accuracy: 0.8642 - val_loss: 0.0000e+00 - val_accuracy: 0.0000e+00\n",
      "Epoch 127/150\n",
      "2/2 [==============================] - 0s 51ms/step - loss: 0.3982 - accuracy: 0.8272 - val_loss: 0.0000e+00 - val_accuracy: 0.0000e+00\n",
      "Epoch 128/150\n",
      "2/2 [==============================] - 0s 50ms/step - loss: 0.3049 - accuracy: 0.8827 - val_loss: 0.0000e+00 - val_accuracy: 0.0000e+00\n",
      "Epoch 129/150\n",
      "2/2 [==============================] - 0s 50ms/step - loss: 0.6339 - accuracy: 0.8765 - val_loss: 0.0000e+00 - val_accuracy: 0.0000e+00\n",
      "Epoch 130/150\n",
      "2/2 [==============================] - 0s 51ms/step - loss: 0.3688 - accuracy: 0.8272 - val_loss: 0.0000e+00 - val_accuracy: 0.0000e+00\n",
      "Epoch 131/150\n",
      "2/2 [==============================] - 0s 50ms/step - loss: 0.4863 - accuracy: 0.8457 - val_loss: 0.0000e+00 - val_accuracy: 0.0000e+00\n",
      "Epoch 132/150\n",
      "2/2 [==============================] - 0s 51ms/step - loss: 0.8125 - accuracy: 0.8519 - val_loss: 0.0000e+00 - val_accuracy: 0.0000e+00\n",
      "Epoch 133/150\n",
      "2/2 [==============================] - 0s 51ms/step - loss: 0.3568 - accuracy: 0.8827 - val_loss: 0.0000e+00 - val_accuracy: 0.0000e+00\n",
      "Epoch 134/150\n",
      "2/2 [==============================] - 0s 51ms/step - loss: 0.8437 - accuracy: 0.8272 - val_loss: 0.0000e+00 - val_accuracy: 0.0000e+00\n",
      "Epoch 135/150\n",
      "2/2 [==============================] - 0s 51ms/step - loss: 0.5096 - accuracy: 0.8148 - val_loss: 0.0000e+00 - val_accuracy: 0.0000e+00\n",
      "Epoch 136/150\n",
      "2/2 [==============================] - 0s 51ms/step - loss: 0.5459 - accuracy: 0.8765 - val_loss: 0.0000e+00 - val_accuracy: 0.0000e+00\n",
      "Epoch 137/150\n",
      "2/2 [==============================] - 0s 51ms/step - loss: 0.6083 - accuracy: 0.8210 - val_loss: 0.0000e+00 - val_accuracy: 0.0000e+00\n",
      "Epoch 138/150\n",
      "2/2 [==============================] - 0s 49ms/step - loss: 0.4414 - accuracy: 0.8395 - val_loss: 0.0000e+00 - val_accuracy: 0.0000e+00\n",
      "Epoch 139/150\n",
      "2/2 [==============================] - 0s 50ms/step - loss: 0.3239 - accuracy: 0.8580 - val_loss: 0.0000e+00 - val_accuracy: 0.0000e+00\n",
      "Epoch 140/150\n",
      "2/2 [==============================] - 0s 52ms/step - loss: 0.5911 - accuracy: 0.8148 - val_loss: 0.0000e+00 - val_accuracy: 0.0000e+00\n",
      "Epoch 141/150\n",
      "2/2 [==============================] - 0s 51ms/step - loss: 0.6073 - accuracy: 0.8765 - val_loss: 0.0000e+00 - val_accuracy: 0.0000e+00\n",
      "Epoch 142/150\n",
      "2/2 [==============================] - 0s 50ms/step - loss: 0.5371 - accuracy: 0.8889 - val_loss: 0.0000e+00 - val_accuracy: 0.0000e+00\n",
      "Epoch 143/150\n",
      "2/2 [==============================] - 0s 51ms/step - loss: 0.5919 - accuracy: 0.8704 - val_loss: 0.0000e+00 - val_accuracy: 0.0000e+00\n",
      "Epoch 144/150\n",
      "2/2 [==============================] - 0s 50ms/step - loss: 0.4690 - accuracy: 0.8519 - val_loss: 0.0000e+00 - val_accuracy: 0.0000e+00\n",
      "Epoch 145/150\n",
      "2/2 [==============================] - 0s 51ms/step - loss: 0.5428 - accuracy: 0.8519 - val_loss: 0.0000e+00 - val_accuracy: 0.0000e+00\n",
      "Epoch 146/150\n",
      "2/2 [==============================] - 0s 50ms/step - loss: 0.6716 - accuracy: 0.8580 - val_loss: 0.0000e+00 - val_accuracy: 0.0000e+00\n",
      "Epoch 147/150\n",
      "2/2 [==============================] - 0s 50ms/step - loss: 0.6106 - accuracy: 0.8704 - val_loss: 0.0000e+00 - val_accuracy: 0.0000e+00\n",
      "Epoch 148/150\n",
      "2/2 [==============================] - 0s 50ms/step - loss: 0.3945 - accuracy: 0.8765 - val_loss: 0.0000e+00 - val_accuracy: 0.0000e+00\n",
      "Epoch 149/150\n",
      "2/2 [==============================] - 0s 50ms/step - loss: 0.2956 - accuracy: 0.8951 - val_loss: 0.0000e+00 - val_accuracy: 0.0000e+00\n",
      "Epoch 150/150\n",
      "2/2 [==============================] - 0s 50ms/step - loss: 0.3463 - accuracy: 0.8704 - val_loss: 0.0000e+00 - val_accuracy: 0.0000e+00\n"
     ]
    }
   ],
   "source": [
    "# Compile and train the base MLP model\n",
    "base_model.compile(\n",
    "    optimizer='adam',\n",
    "    #sparse_categorical_crossentropy\n",
    "    #categorical_crossentropy\n",
    "    loss='sparse_categorical_crossentropy',\n",
    "    metrics=['accuracy'],\n",
    "    lr=0.01, clipnorm=1.)\n",
    "base_model_history = base_model.fit(train_dataset, epochs=HPARAMS.train_epochs, verbose=1, validation_data=test_dataset) "
   ]
  },
  {
   "cell_type": "code",
   "execution_count": 40,
   "metadata": {},
   "outputs": [
    {
     "data": {
      "image/png": "[encoded data removed]",
      "text/plain": [
       "<Figure size 432x288 with 1 Axes>"
      ]
     },
     "metadata": {
      "needs_background": "light"
     },
     "output_type": "display_data"
    },
    {
     "data": {
      "image/png": "[encoded data removed]",
      "text/plain": [
       "<Figure size 432x288 with 1 Axes>"
      ]
     },
     "metadata": {
      "needs_background": "light"
     },
     "output_type": "display_data"
    }
   ],
   "source": [
    "# base_model.history.history['accuracy']\n",
    "\n",
    "\n",
    "# summarize history for accuracy\n",
    "plt.plot(base_model_history.history['accuracy'])\n",
    "plt.plot(base_model_history.history['val_accuracy'])\n",
    "\n",
    "plt.title('model accuracy')\n",
    "plt.ylabel('accuracy')\n",
    "plt.xlabel('epoch')\n",
    "plt.legend(['accuracy', 'loss'], loc='upper left')\n",
    "plt.show()\n",
    "\n",
    "plt.plot(base_model.history.history['loss'])\n",
    "plt.plot(base_model_history.history['val_loss'])\n",
    "plt.title('loss')\n",
    "plt.ylabel('accuracy')\n",
    "plt.xlabel('epoch')\n",
    "plt.legend(['loss'], loc='upper left')\n",
    "plt.show()"
   ]
  },
  {
   "cell_type": "markdown",
   "metadata": {
    "colab_type": "text",
    "id": "gPRioqydQD_8"
   },
   "source": [
    "## Evaluate base MLP model"
   ]
  },
  {
   "cell_type": "code",
   "execution_count": 41,
   "metadata": {
    "colab": {},
    "colab_type": "code",
    "id": "2NcsJVt6FSmZ"
   },
   "outputs": [],
   "source": [
    "# Helper function to print evaluation metrics.\n",
    "def print_metrics(model_desc, eval_metrics):\n",
    "  \"\"\"Prints evaluation metrics.\n",
    "\n",
    "  Args:\n",
    "    model_desc: A description of the model.\n",
    "    eval_metrics: A dictionary mapping metric names to corresponding values. It\n",
    "      must contain the loss and accuracy metrics.\n",
    "  \"\"\"\n",
    "  print('\\n')\n",
    "  print('Eval accuracy for ', model_desc, ': ', eval_metrics['accuracy'])\n",
    "  print('Eval loss for ', model_desc, ': ', eval_metrics['loss'])\n",
    "  if 'graph_loss' in eval_metrics:\n",
    "    print('Eval graph loss for ', model_desc, ': ', eval_metrics['graph_loss'])"
   ]
  },
  {
   "cell_type": "code",
   "execution_count": 42,
   "metadata": {
    "colab": {},
    "colab_type": "code",
    "id": "-myfttwIQAwc"
   },
   "outputs": [
    {
     "name": "stdout",
     "output_type": "stream",
     "text": [
      "5/5 [==============================] - 0s 12ms/step - loss: 0.8007 - accuracy: 0.7054\n",
      "\n",
      "\n",
      "Eval accuracy for  Base MLP model :  0.7053701\n",
      "Eval loss for  Base MLP model :  0.8007137775421143\n"
     ]
    }
   ],
   "source": [
    "eval_results = dict(\n",
    "    zip(base_model.metrics_names,\n",
    "        base_model.evaluate(test_dataset, steps=HPARAMS.eval_steps)))\n",
    "print_metrics('Base MLP model', eval_results)"
   ]
  },
  {
   "cell_type": "markdown",
   "metadata": {
    "colab_type": "text",
    "id": "bGwSzS9Spaiu"
   },
   "source": [
    "## Train MLP model with graph regularization\n",
    "\n",
    "Incorporating graph regularization into the loss term of an existing\n",
    "`tf.Keras.Model` requires just a few lines of code. The base model is wrapped to\n",
    "create a new `tf.Keras` subclass model, whose loss includes graph\n",
    "regularization."
   ]
  },
  {
   "cell_type": "markdown",
   "metadata": {
    "colab_type": "text",
    "id": "vuIGN8KQH0jR"
   },
   "source": [
    "To assess the incremental benefit of graph regularization, we will create a new\n",
    "base model instance. This is because `base_model` has already been trained for a\n",
    "few iterations, and reusing this trained model to create a graph-regularized\n",
    "model will not be a fair comparison for `base_model`."
   ]
  },
  {
   "cell_type": "code",
   "execution_count": 43,
   "metadata": {
    "colab": {},
    "colab_type": "code",
    "id": "6fvLei9dLCH0"
   },
   "outputs": [],
   "source": [
    "# Build a new base MLP model.\n",
    "base_reg_model_tag, base_reg_model = 'FUNCTIONAL', make_mlp_functional_model(\n",
    "    HPARAMS)"
   ]
  },
  {
   "cell_type": "code",
   "execution_count": 44,
   "metadata": {
    "colab": {},
    "colab_type": "code",
    "id": "HT3mpC8Lo1UZ",
    "scrolled": true
   },
   "outputs": [
    {
     "name": "stdout",
     "output_type": "stream",
     "text": [
      "Epoch 1/150\n"
     ]
    },
    {
     "name": "stderr",
     "output_type": "stream",
     "text": [
      "/Users/johanweisshansen/anaconda3/lib/python3.7/site-packages/tensorflow_core/python/framework/indexed_slices.py:424: UserWarning: Converting sparse IndexedSlices to a dense Tensor of unknown shape. This may consume a large amount of memory.\n",
      "  \"Converting sparse IndexedSlices to a dense Tensor of unknown shape. \"\n",
      "/Users/johanweisshansen/anaconda3/lib/python3.7/site-packages/tensorflow_core/python/framework/indexed_slices.py:424: UserWarning: Converting sparse IndexedSlices to a dense Tensor of unknown shape. This may consume a large amount of memory.\n",
      "  \"Converting sparse IndexedSlices to a dense Tensor of unknown shape. \"\n"
     ]
    },
    {
     "name": "stdout",
     "output_type": "stream",
     "text": [
      "2/2 [==============================] - 3s 2s/step - loss: 1.9027 - accuracy: 0.2778 - graph_loss: 0.2123 - val_loss: 0.0000e+00 - val_accuracy: 0.0000e+00 - val_graph_loss: 0.0000e+00\n",
      "Epoch 2/150\n",
      "2/2 [==============================] - 0s 55ms/step - loss: 1.5063 - accuracy: 0.2654 - graph_loss: 0.3168 - val_loss: 0.0000e+00 - val_accuracy: 0.0000e+00 - val_graph_loss: 0.0000e+00\n",
      "Epoch 3/150\n",
      "2/2 [==============================] - 0s 57ms/step - loss: 2.0448 - accuracy: 0.3086 - graph_loss: 0.2836 - val_loss: 0.0000e+00 - val_accuracy: 0.0000e+00 - val_graph_loss: 0.0000e+00\n",
      "Epoch 4/150\n",
      "2/2 [==============================] - 0s 59ms/step - loss: 1.7648 - accuracy: 0.2593 - graph_loss: 0.3288 - val_loss: 0.0000e+00 - val_accuracy: 0.0000e+00 - val_graph_loss: 0.0000e+00\n",
      "Epoch 5/150\n",
      "2/2 [==============================] - 0s 58ms/step - loss: 1.6973 - accuracy: 0.3457 - graph_loss: 0.4264 - val_loss: 0.0000e+00 - val_accuracy: 0.0000e+00 - val_graph_loss: 0.0000e+00\n",
      "Epoch 6/150\n",
      "2/2 [==============================] - 0s 58ms/step - loss: 1.5069 - accuracy: 0.3704 - graph_loss: 0.3220 - val_loss: 0.0000e+00 - val_accuracy: 0.0000e+00 - val_graph_loss: 0.0000e+00\n",
      "Epoch 7/150\n",
      "2/2 [==============================] - 0s 53ms/step - loss: 1.2803 - accuracy: 0.3580 - graph_loss: 0.3018 - val_loss: 0.0000e+00 - val_accuracy: 0.0000e+00 - val_graph_loss: 0.0000e+00\n",
      "Epoch 8/150\n",
      "2/2 [==============================] - 0s 53ms/step - loss: 1.4775 - accuracy: 0.3580 - graph_loss: 0.2686 - val_loss: 0.0000e+00 - val_accuracy: 0.0000e+00 - val_graph_loss: 0.0000e+00\n",
      "Epoch 9/150\n",
      "2/2 [==============================] - 0s 55ms/step - loss: 1.3926 - accuracy: 0.4259 - graph_loss: 0.3193 - val_loss: 0.0000e+00 - val_accuracy: 0.0000e+00 - val_graph_loss: 0.0000e+00\n",
      "Epoch 10/150\n",
      "2/2 [==============================] - 0s 54ms/step - loss: 1.7262 - accuracy: 0.4074 - graph_loss: 0.4213 - val_loss: 0.0000e+00 - val_accuracy: 0.0000e+00 - val_graph_loss: 0.0000e+00\n",
      "Epoch 11/150\n",
      "2/2 [==============================] - 0s 60ms/step - loss: 1.5429 - accuracy: 0.4506 - graph_loss: 0.3146 - val_loss: 0.0000e+00 - val_accuracy: 0.0000e+00 - val_graph_loss: 0.0000e+00\n",
      "Epoch 12/150\n",
      "2/2 [==============================] - 0s 58ms/step - loss: 1.3878 - accuracy: 0.4259 - graph_loss: 0.2506 - val_loss: 0.0000e+00 - val_accuracy: 0.0000e+00 - val_graph_loss: 0.0000e+00\n",
      "Epoch 13/150\n",
      "2/2 [==============================] - 0s 63ms/step - loss: 1.4121 - accuracy: 0.4691 - graph_loss: 0.2594 - val_loss: 0.0000e+00 - val_accuracy: 0.0000e+00 - val_graph_loss: 0.0000e+00\n",
      "Epoch 14/150\n",
      "2/2 [==============================] - 0s 57ms/step - loss: 1.3390 - accuracy: 0.4074 - graph_loss: 0.3754 - val_loss: 0.0000e+00 - val_accuracy: 0.0000e+00 - val_graph_loss: 0.0000e+00\n",
      "Epoch 15/150\n",
      "2/2 [==============================] - 0s 58ms/step - loss: 1.1497 - accuracy: 0.5000 - graph_loss: 0.3027 - val_loss: 0.0000e+00 - val_accuracy: 0.0000e+00 - val_graph_loss: 0.0000e+00\n",
      "Epoch 16/150\n",
      "2/2 [==============================] - 0s 60ms/step - loss: 1.4118 - accuracy: 0.5988 - graph_loss: 0.3274 - val_loss: 0.0000e+00 - val_accuracy: 0.0000e+00 - val_graph_loss: 0.0000e+00\n",
      "Epoch 17/150\n",
      "2/2 [==============================] - 0s 62ms/step - loss: 1.2270 - accuracy: 0.4506 - graph_loss: 0.2017 - val_loss: 0.0000e+00 - val_accuracy: 0.0000e+00 - val_graph_loss: 0.0000e+00\n",
      "Epoch 18/150\n",
      "2/2 [==============================] - 0s 65ms/step - loss: 1.1901 - accuracy: 0.4815 - graph_loss: 0.2734 - val_loss: 0.0000e+00 - val_accuracy: 0.0000e+00 - val_graph_loss: 0.0000e+00\n",
      "Epoch 19/150\n",
      "2/2 [==============================] - 0s 69ms/step - loss: 1.1490 - accuracy: 0.4815 - graph_loss: 0.2964 - val_loss: 0.0000e+00 - val_accuracy: 0.0000e+00 - val_graph_loss: 0.0000e+00\n",
      "Epoch 20/150\n",
      "2/2 [==============================] - 0s 65ms/step - loss: 1.3811 - accuracy: 0.5494 - graph_loss: 0.2631 - val_loss: 0.0000e+00 - val_accuracy: 0.0000e+00 - val_graph_loss: 0.0000e+00\n",
      "Epoch 21/150\n",
      "2/2 [==============================] - 0s 65ms/step - loss: 1.2439 - accuracy: 0.5617 - graph_loss: 0.3102 - val_loss: 0.0000e+00 - val_accuracy: 0.0000e+00 - val_graph_loss: 0.0000e+00\n",
      "Epoch 22/150\n",
      "2/2 [==============================] - 0s 67ms/step - loss: 1.4943 - accuracy: 0.5309 - graph_loss: 0.3213 - val_loss: 0.0000e+00 - val_accuracy: 0.0000e+00 - val_graph_loss: 0.0000e+00\n",
      "Epoch 23/150\n",
      "2/2 [==============================] - 0s 68ms/step - loss: 1.1387 - accuracy: 0.5864 - graph_loss: 0.2786 - val_loss: 0.0000e+00 - val_accuracy: 0.0000e+00 - val_graph_loss: 0.0000e+00\n",
      "Epoch 24/150\n",
      "2/2 [==============================] - 0s 65ms/step - loss: 1.0596 - accuracy: 0.5802 - graph_loss: 0.2621 - val_loss: 0.0000e+00 - val_accuracy: 0.0000e+00 - val_graph_loss: 0.0000e+00\n",
      "Epoch 25/150\n",
      "2/2 [==============================] - 0s 63ms/step - loss: 1.3520 - accuracy: 0.5309 - graph_loss: 0.2849 - val_loss: 0.0000e+00 - val_accuracy: 0.0000e+00 - val_graph_loss: 0.0000e+00\n",
      "Epoch 26/150\n",
      "2/2 [==============================] - 0s 62ms/step - loss: 1.3512 - accuracy: 0.5556 - graph_loss: 0.3289 - val_loss: 0.0000e+00 - val_accuracy: 0.0000e+00 - val_graph_loss: 0.0000e+00\n",
      "Epoch 27/150\n",
      "2/2 [==============================] - 0s 66ms/step - loss: 1.0453 - accuracy: 0.5741 - graph_loss: 0.3019 - val_loss: 0.0000e+00 - val_accuracy: 0.0000e+00 - val_graph_loss: 0.0000e+00\n",
      "Epoch 28/150\n",
      "2/2 [==============================] - 0s 66ms/step - loss: 1.0671 - accuracy: 0.6543 - graph_loss: 0.3327 - val_loss: 0.0000e+00 - val_accuracy: 0.0000e+00 - val_graph_loss: 0.0000e+00\n",
      "Epoch 29/150\n",
      "2/2 [==============================] - 0s 66ms/step - loss: 0.8949 - accuracy: 0.6481 - graph_loss: 0.3019 - val_loss: 0.0000e+00 - val_accuracy: 0.0000e+00 - val_graph_loss: 0.0000e+00\n",
      "Epoch 30/150\n",
      "2/2 [==============================] - 0s 59ms/step - loss: 0.9834 - accuracy: 0.6173 - graph_loss: 0.3163 - val_loss: 0.0000e+00 - val_accuracy: 0.0000e+00 - val_graph_loss: 0.0000e+00\n",
      "Epoch 31/150\n",
      "2/2 [==============================] - 0s 66ms/step - loss: 1.1424 - accuracy: 0.5679 - graph_loss: 0.2923 - val_loss: 0.0000e+00 - val_accuracy: 0.0000e+00 - val_graph_loss: 0.0000e+00\n",
      "Epoch 32/150\n",
      "2/2 [==============================] - 0s 66ms/step - loss: 1.0806 - accuracy: 0.5988 - graph_loss: 0.2845 - val_loss: 0.0000e+00 - val_accuracy: 0.0000e+00 - val_graph_loss: 0.0000e+00\n",
      "Epoch 33/150\n",
      "2/2 [==============================] - 0s 67ms/step - loss: 0.9169 - accuracy: 0.6914 - graph_loss: 0.3488 - val_loss: 0.0000e+00 - val_accuracy: 0.0000e+00 - val_graph_loss: 0.0000e+00\n",
      "Epoch 34/150\n",
      "2/2 [==============================] - 0s 67ms/step - loss: 1.4000 - accuracy: 0.6296 - graph_loss: 0.2642 - val_loss: 0.0000e+00 - val_accuracy: 0.0000e+00 - val_graph_loss: 0.0000e+00\n",
      "Epoch 35/150\n",
      "2/2 [==============================] - 0s 64ms/step - loss: 1.0397 - accuracy: 0.6790 - graph_loss: 0.2831 - val_loss: 0.0000e+00 - val_accuracy: 0.0000e+00 - val_graph_loss: 0.0000e+00\n",
      "Epoch 36/150\n",
      "2/2 [==============================] - 0s 68ms/step - loss: 1.0538 - accuracy: 0.6296 - graph_loss: 0.2324 - val_loss: 0.0000e+00 - val_accuracy: 0.0000e+00 - val_graph_loss: 0.0000e+00\n",
      "Epoch 37/150\n",
      "2/2 [==============================] - 0s 68ms/step - loss: 1.0000 - accuracy: 0.6481 - graph_loss: 0.2490 - val_loss: 0.0000e+00 - val_accuracy: 0.0000e+00 - val_graph_loss: 0.0000e+00\n",
      "Epoch 38/150\n",
      "2/2 [==============================] - 0s 66ms/step - loss: 0.8350 - accuracy: 0.6543 - graph_loss: 0.2705 - val_loss: 0.0000e+00 - val_accuracy: 0.0000e+00 - val_graph_loss: 0.0000e+00\n",
      "Epoch 39/150\n",
      "2/2 [==============================] - 0s 59ms/step - loss: 0.8127 - accuracy: 0.6111 - graph_loss: 0.2419 - val_loss: 0.0000e+00 - val_accuracy: 0.0000e+00 - val_graph_loss: 0.0000e+00\n",
      "Epoch 40/150\n",
      "2/2 [==============================] - 0s 53ms/step - loss: 0.9676 - accuracy: 0.6049 - graph_loss: 0.2460 - val_loss: 0.0000e+00 - val_accuracy: 0.0000e+00 - val_graph_loss: 0.0000e+00\n",
      "Epoch 41/150\n",
      "2/2 [==============================] - 0s 60ms/step - loss: 0.8945 - accuracy: 0.6975 - graph_loss: 0.2329 - val_loss: 0.0000e+00 - val_accuracy: 0.0000e+00 - val_graph_loss: 0.0000e+00\n",
      "Epoch 42/150\n"
     ]
    },
    {
     "name": "stdout",
     "output_type": "stream",
     "text": [
      "2/2 [==============================] - 0s 63ms/step - loss: 0.8749 - accuracy: 0.6914 - graph_loss: 0.2571 - val_loss: 0.0000e+00 - val_accuracy: 0.0000e+00 - val_graph_loss: 0.0000e+00\n",
      "Epoch 43/150\n",
      "2/2 [==============================] - 0s 61ms/step - loss: 1.2163 - accuracy: 0.6296 - graph_loss: 0.2831 - val_loss: 0.0000e+00 - val_accuracy: 0.0000e+00 - val_graph_loss: 0.0000e+00\n",
      "Epoch 44/150\n",
      "2/2 [==============================] - 0s 57ms/step - loss: 1.1317 - accuracy: 0.6605 - graph_loss: 0.2124 - val_loss: 0.0000e+00 - val_accuracy: 0.0000e+00 - val_graph_loss: 0.0000e+00\n",
      "Epoch 45/150\n",
      "2/2 [==============================] - 0s 60ms/step - loss: 0.7447 - accuracy: 0.6914 - graph_loss: 0.2919 - val_loss: 0.0000e+00 - val_accuracy: 0.0000e+00 - val_graph_loss: 0.0000e+00\n",
      "Epoch 46/150\n",
      "2/2 [==============================] - 0s 64ms/step - loss: 0.7846 - accuracy: 0.6790 - graph_loss: 0.2612 - val_loss: 0.0000e+00 - val_accuracy: 0.0000e+00 - val_graph_loss: 0.0000e+00\n",
      "Epoch 47/150\n",
      "2/2 [==============================] - 0s 62ms/step - loss: 0.8267 - accuracy: 0.6975 - graph_loss: 0.2251 - val_loss: 0.0000e+00 - val_accuracy: 0.0000e+00 - val_graph_loss: 0.0000e+00\n",
      "Epoch 48/150\n",
      "2/2 [==============================] - 0s 58ms/step - loss: 1.0294 - accuracy: 0.7160 - graph_loss: 0.2428 - val_loss: 0.0000e+00 - val_accuracy: 0.0000e+00 - val_graph_loss: 0.0000e+00\n",
      "Epoch 49/150\n",
      "2/2 [==============================] - 0s 56ms/step - loss: 1.1650 - accuracy: 0.6358 - graph_loss: 0.2281 - val_loss: 0.0000e+00 - val_accuracy: 0.0000e+00 - val_graph_loss: 0.0000e+00\n",
      "Epoch 50/150\n",
      "2/2 [==============================] - 0s 60ms/step - loss: 0.8254 - accuracy: 0.7160 - graph_loss: 0.2168 - val_loss: 0.0000e+00 - val_accuracy: 0.0000e+00 - val_graph_loss: 0.0000e+00\n",
      "Epoch 51/150\n",
      "2/2 [==============================] - 0s 62ms/step - loss: 0.8591 - accuracy: 0.7593 - graph_loss: 0.2142 - val_loss: 0.0000e+00 - val_accuracy: 0.0000e+00 - val_graph_loss: 0.0000e+00\n",
      "Epoch 52/150\n",
      "2/2 [==============================] - 0s 56ms/step - loss: 0.6990 - accuracy: 0.7222 - graph_loss: 0.1868 - val_loss: 0.0000e+00 - val_accuracy: 0.0000e+00 - val_graph_loss: 0.0000e+00\n",
      "Epoch 53/150\n",
      "2/2 [==============================] - 0s 59ms/step - loss: 1.0405 - accuracy: 0.7160 - graph_loss: 0.1791 - val_loss: 0.0000e+00 - val_accuracy: 0.0000e+00 - val_graph_loss: 0.0000e+00\n",
      "Epoch 54/150\n",
      "2/2 [==============================] - 0s 61ms/step - loss: 0.9366 - accuracy: 0.7593 - graph_loss: 0.3171 - val_loss: 0.0000e+00 - val_accuracy: 0.0000e+00 - val_graph_loss: 0.0000e+00\n",
      "Epoch 55/150\n",
      "2/2 [==============================] - 0s 64ms/step - loss: 0.7133 - accuracy: 0.7284 - graph_loss: 0.2232 - val_loss: 0.0000e+00 - val_accuracy: 0.0000e+00 - val_graph_loss: 0.0000e+00\n",
      "Epoch 56/150\n",
      "2/2 [==============================] - 0s 64ms/step - loss: 0.8921 - accuracy: 0.7469 - graph_loss: 0.2326 - val_loss: 0.0000e+00 - val_accuracy: 0.0000e+00 - val_graph_loss: 0.0000e+00\n",
      "Epoch 57/150\n",
      "2/2 [==============================] - 0s 60ms/step - loss: 0.9751 - accuracy: 0.6852 - graph_loss: 0.2634 - val_loss: 0.0000e+00 - val_accuracy: 0.0000e+00 - val_graph_loss: 0.0000e+00\n",
      "Epoch 58/150\n",
      "2/2 [==============================] - 0s 58ms/step - loss: 0.7685 - accuracy: 0.7160 - graph_loss: 0.1784 - val_loss: 0.0000e+00 - val_accuracy: 0.0000e+00 - val_graph_loss: 0.0000e+00\n",
      "Epoch 59/150\n",
      "2/2 [==============================] - 0s 60ms/step - loss: 0.7145 - accuracy: 0.7840 - graph_loss: 0.2325 - val_loss: 0.0000e+00 - val_accuracy: 0.0000e+00 - val_graph_loss: 0.0000e+00\n",
      "Epoch 60/150\n",
      "2/2 [==============================] - 0s 59ms/step - loss: 0.7412 - accuracy: 0.7654 - graph_loss: 0.2719 - val_loss: 0.0000e+00 - val_accuracy: 0.0000e+00 - val_graph_loss: 0.0000e+00\n",
      "Epoch 61/150\n",
      "2/2 [==============================] - 0s 60ms/step - loss: 0.6928 - accuracy: 0.7901 - graph_loss: 0.2998 - val_loss: 0.0000e+00 - val_accuracy: 0.0000e+00 - val_graph_loss: 0.0000e+00\n",
      "Epoch 62/150\n",
      "2/2 [==============================] - 0s 61ms/step - loss: 0.6827 - accuracy: 0.7654 - graph_loss: 0.2156 - val_loss: 0.0000e+00 - val_accuracy: 0.0000e+00 - val_graph_loss: 0.0000e+00\n",
      "Epoch 63/150\n",
      "2/2 [==============================] - 0s 63ms/step - loss: 0.8824 - accuracy: 0.6975 - graph_loss: 0.2237 - val_loss: 0.0000e+00 - val_accuracy: 0.0000e+00 - val_graph_loss: 0.0000e+00\n",
      "Epoch 64/150\n",
      "2/2 [==============================] - 0s 54ms/step - loss: 0.8051 - accuracy: 0.7654 - graph_loss: 0.2739 - val_loss: 0.0000e+00 - val_accuracy: 0.0000e+00 - val_graph_loss: 0.0000e+00\n",
      "Epoch 65/150\n",
      "2/2 [==============================] - 0s 56ms/step - loss: 0.7465 - accuracy: 0.7531 - graph_loss: 0.2844 - val_loss: 0.0000e+00 - val_accuracy: 0.0000e+00 - val_graph_loss: 0.0000e+00\n",
      "Epoch 66/150\n",
      "2/2 [==============================] - 0s 59ms/step - loss: 0.5915 - accuracy: 0.7840 - graph_loss: 0.1739 - val_loss: 0.0000e+00 - val_accuracy: 0.0000e+00 - val_graph_loss: 0.0000e+00\n",
      "Epoch 67/150\n",
      "2/2 [==============================] - 0s 60ms/step - loss: 0.8520 - accuracy: 0.7407 - graph_loss: 0.2681 - val_loss: 0.0000e+00 - val_accuracy: 0.0000e+00 - val_graph_loss: 0.0000e+00\n",
      "Epoch 68/150\n",
      "2/2 [==============================] - 0s 58ms/step - loss: 0.8251 - accuracy: 0.7778 - graph_loss: 0.2658 - val_loss: 0.0000e+00 - val_accuracy: 0.0000e+00 - val_graph_loss: 0.0000e+00\n",
      "Epoch 69/150\n",
      "2/2 [==============================] - 0s 56ms/step - loss: 0.6707 - accuracy: 0.7531 - graph_loss: 0.3072 - val_loss: 0.0000e+00 - val_accuracy: 0.0000e+00 - val_graph_loss: 0.0000e+00\n",
      "Epoch 70/150\n",
      "2/2 [==============================] - 0s 57ms/step - loss: 0.6759 - accuracy: 0.7963 - graph_loss: 0.2021 - val_loss: 0.0000e+00 - val_accuracy: 0.0000e+00 - val_graph_loss: 0.0000e+00\n",
      "Epoch 71/150\n",
      "2/2 [==============================] - 0s 55ms/step - loss: 0.7781 - accuracy: 0.7407 - graph_loss: 0.2759 - val_loss: 0.0000e+00 - val_accuracy: 0.0000e+00 - val_graph_loss: 0.0000e+00\n",
      "Epoch 72/150\n",
      "2/2 [==============================] - 0s 54ms/step - loss: 0.7376 - accuracy: 0.7346 - graph_loss: 0.3229 - val_loss: 0.0000e+00 - val_accuracy: 0.0000e+00 - val_graph_loss: 0.0000e+00\n",
      "Epoch 73/150\n",
      "2/2 [==============================] - 0s 54ms/step - loss: 0.7259 - accuracy: 0.7531 - graph_loss: 0.2298 - val_loss: 0.0000e+00 - val_accuracy: 0.0000e+00 - val_graph_loss: 0.0000e+00\n",
      "Epoch 74/150\n",
      "2/2 [==============================] - 0s 61ms/step - loss: 0.5935 - accuracy: 0.8148 - graph_loss: 0.1976 - val_loss: 0.0000e+00 - val_accuracy: 0.0000e+00 - val_graph_loss: 0.0000e+00\n",
      "Epoch 75/150\n",
      "2/2 [==============================] - 0s 53ms/step - loss: 1.0730 - accuracy: 0.7346 - graph_loss: 0.2249 - val_loss: 0.0000e+00 - val_accuracy: 0.0000e+00 - val_graph_loss: 0.0000e+00\n",
      "Epoch 76/150\n",
      "2/2 [==============================] - 0s 54ms/step - loss: 0.7287 - accuracy: 0.7840 - graph_loss: 0.2056 - val_loss: 0.0000e+00 - val_accuracy: 0.0000e+00 - val_graph_loss: 0.0000e+00\n",
      "Epoch 77/150\n",
      "2/2 [==============================] - 0s 54ms/step - loss: 0.7183 - accuracy: 0.7593 - graph_loss: 0.3058 - val_loss: 0.0000e+00 - val_accuracy: 0.0000e+00 - val_graph_loss: 0.0000e+00\n",
      "Epoch 78/150\n",
      "2/2 [==============================] - 0s 59ms/step - loss: 0.7658 - accuracy: 0.7840 - graph_loss: 0.3150 - val_loss: 0.0000e+00 - val_accuracy: 0.0000e+00 - val_graph_loss: 0.0000e+00\n",
      "Epoch 79/150\n",
      "2/2 [==============================] - 0s 61ms/step - loss: 0.7230 - accuracy: 0.7778 - graph_loss: 0.2183 - val_loss: 0.0000e+00 - val_accuracy: 0.0000e+00 - val_graph_loss: 0.0000e+00\n",
      "Epoch 80/150\n",
      "2/2 [==============================] - 0s 62ms/step - loss: 0.6378 - accuracy: 0.8272 - graph_loss: 0.2005 - val_loss: 0.0000e+00 - val_accuracy: 0.0000e+00 - val_graph_loss: 0.0000e+00\n",
      "Epoch 81/150\n",
      "2/2 [==============================] - 0s 58ms/step - loss: 0.6671 - accuracy: 0.8457 - graph_loss: 0.2609 - val_loss: 0.0000e+00 - val_accuracy: 0.0000e+00 - val_graph_loss: 0.0000e+00\n",
      "Epoch 82/150\n",
      "2/2 [==============================] - 0s 53ms/step - loss: 0.7771 - accuracy: 0.8025 - graph_loss: 0.2181 - val_loss: 0.0000e+00 - val_accuracy: 0.0000e+00 - val_graph_loss: 0.0000e+00\n",
      "Epoch 83/150\n"
     ]
    },
    {
     "name": "stdout",
     "output_type": "stream",
     "text": [
      "2/2 [==============================] - 0s 53ms/step - loss: 1.0410 - accuracy: 0.7716 - graph_loss: 0.3461 - val_loss: 0.0000e+00 - val_accuracy: 0.0000e+00 - val_graph_loss: 0.0000e+00\n",
      "Epoch 84/150\n",
      "2/2 [==============================] - 0s 54ms/step - loss: 0.7917 - accuracy: 0.8148 - graph_loss: 0.2034 - val_loss: 0.0000e+00 - val_accuracy: 0.0000e+00 - val_graph_loss: 0.0000e+00\n",
      "Epoch 85/150\n",
      "2/2 [==============================] - 0s 55ms/step - loss: 0.7619 - accuracy: 0.8457 - graph_loss: 0.2297 - val_loss: 0.0000e+00 - val_accuracy: 0.0000e+00 - val_graph_loss: 0.0000e+00\n",
      "Epoch 86/150\n",
      "2/2 [==============================] - 0s 54ms/step - loss: 0.6851 - accuracy: 0.7778 - graph_loss: 0.2186 - val_loss: 0.0000e+00 - val_accuracy: 0.0000e+00 - val_graph_loss: 0.0000e+00\n",
      "Epoch 87/150\n",
      "2/2 [==============================] - 0s 57ms/step - loss: 0.9481 - accuracy: 0.7840 - graph_loss: 0.3212 - val_loss: 0.0000e+00 - val_accuracy: 0.0000e+00 - val_graph_loss: 0.0000e+00\n",
      "Epoch 88/150\n",
      "2/2 [==============================] - 0s 58ms/step - loss: 0.8463 - accuracy: 0.7469 - graph_loss: 0.2534 - val_loss: 0.0000e+00 - val_accuracy: 0.0000e+00 - val_graph_loss: 0.0000e+00\n",
      "Epoch 89/150\n",
      "2/2 [==============================] - 0s 54ms/step - loss: 0.6238 - accuracy: 0.8395 - graph_loss: 0.2345 - val_loss: 0.0000e+00 - val_accuracy: 0.0000e+00 - val_graph_loss: 0.0000e+00\n",
      "Epoch 90/150\n",
      "2/2 [==============================] - 0s 51ms/step - loss: 0.7358 - accuracy: 0.7963 - graph_loss: 0.3002 - val_loss: 0.0000e+00 - val_accuracy: 0.0000e+00 - val_graph_loss: 0.0000e+00\n",
      "Epoch 91/150\n",
      "2/2 [==============================] - 0s 52ms/step - loss: 0.7178 - accuracy: 0.7901 - graph_loss: 0.3823 - val_loss: 0.0000e+00 - val_accuracy: 0.0000e+00 - val_graph_loss: 0.0000e+00\n",
      "Epoch 92/150\n",
      "2/2 [==============================] - 0s 52ms/step - loss: 0.6108 - accuracy: 0.8148 - graph_loss: 0.2813 - val_loss: 0.0000e+00 - val_accuracy: 0.0000e+00 - val_graph_loss: 0.0000e+00\n",
      "Epoch 93/150\n",
      "2/2 [==============================] - 0s 57ms/step - loss: 0.5589 - accuracy: 0.8519 - graph_loss: 0.1945 - val_loss: 0.0000e+00 - val_accuracy: 0.0000e+00 - val_graph_loss: 0.0000e+00\n",
      "Epoch 94/150\n",
      "2/2 [==============================] - 0s 56ms/step - loss: 0.5632 - accuracy: 0.8519 - graph_loss: 0.2091 - val_loss: 0.0000e+00 - val_accuracy: 0.0000e+00 - val_graph_loss: 0.0000e+00\n",
      "Epoch 95/150\n",
      "2/2 [==============================] - 0s 53ms/step - loss: 0.5522 - accuracy: 0.8148 - graph_loss: 0.1963 - val_loss: 0.0000e+00 - val_accuracy: 0.0000e+00 - val_graph_loss: 0.0000e+00\n",
      "Epoch 96/150\n",
      "2/2 [==============================] - 0s 53ms/step - loss: 0.7031 - accuracy: 0.8086 - graph_loss: 0.1601 - val_loss: 0.0000e+00 - val_accuracy: 0.0000e+00 - val_graph_loss: 0.0000e+00\n",
      "Epoch 97/150\n",
      "2/2 [==============================] - 0s 55ms/step - loss: 0.6074 - accuracy: 0.8395 - graph_loss: 0.3096 - val_loss: 0.0000e+00 - val_accuracy: 0.0000e+00 - val_graph_loss: 0.0000e+00\n",
      "Epoch 98/150\n",
      "2/2 [==============================] - 0s 58ms/step - loss: 0.6974 - accuracy: 0.8272 - graph_loss: 0.2512 - val_loss: 0.0000e+00 - val_accuracy: 0.0000e+00 - val_graph_loss: 0.0000e+00\n",
      "Epoch 99/150\n",
      "2/2 [==============================] - 0s 57ms/step - loss: 0.4200 - accuracy: 0.8580 - graph_loss: 0.2425 - val_loss: 0.0000e+00 - val_accuracy: 0.0000e+00 - val_graph_loss: 0.0000e+00\n",
      "Epoch 100/150\n",
      "2/2 [==============================] - 0s 57ms/step - loss: 0.7242 - accuracy: 0.8025 - graph_loss: 0.2625 - val_loss: 0.0000e+00 - val_accuracy: 0.0000e+00 - val_graph_loss: 0.0000e+00\n",
      "Epoch 101/150\n",
      "2/2 [==============================] - 0s 58ms/step - loss: 0.5163 - accuracy: 0.8272 - graph_loss: 0.1561 - val_loss: 0.0000e+00 - val_accuracy: 0.0000e+00 - val_graph_loss: 0.0000e+00\n",
      "Epoch 102/150\n",
      "2/2 [==============================] - 0s 59ms/step - loss: 0.6529 - accuracy: 0.8580 - graph_loss: 0.2652 - val_loss: 0.0000e+00 - val_accuracy: 0.0000e+00 - val_graph_loss: 0.0000e+00\n",
      "Epoch 103/150\n",
      "2/2 [==============================] - 0s 58ms/step - loss: 0.5113 - accuracy: 0.8333 - graph_loss: 0.2136 - val_loss: 0.0000e+00 - val_accuracy: 0.0000e+00 - val_graph_loss: 0.0000e+00\n",
      "Epoch 104/150\n",
      "2/2 [==============================] - 0s 56ms/step - loss: 0.6041 - accuracy: 0.8457 - graph_loss: 0.2652 - val_loss: 0.0000e+00 - val_accuracy: 0.0000e+00 - val_graph_loss: 0.0000e+00\n",
      "Epoch 105/150\n",
      "2/2 [==============================] - 0s 68ms/step - loss: 0.7268 - accuracy: 0.7963 - graph_loss: 0.2989 - val_loss: 0.0000e+00 - val_accuracy: 0.0000e+00 - val_graph_loss: 0.0000e+00\n",
      "Epoch 106/150\n",
      "2/2 [==============================] - 0s 65ms/step - loss: 0.4818 - accuracy: 0.8519 - graph_loss: 0.1389 - val_loss: 0.0000e+00 - val_accuracy: 0.0000e+00 - val_graph_loss: 0.0000e+00\n",
      "Epoch 107/150\n",
      "2/2 [==============================] - 0s 70ms/step - loss: 0.5282 - accuracy: 0.8210 - graph_loss: 0.2542 - val_loss: 0.0000e+00 - val_accuracy: 0.0000e+00 - val_graph_loss: 0.0000e+00\n",
      "Epoch 108/150\n",
      "2/2 [==============================] - 0s 72ms/step - loss: 0.6184 - accuracy: 0.8210 - graph_loss: 0.2097 - val_loss: 0.0000e+00 - val_accuracy: 0.0000e+00 - val_graph_loss: 0.0000e+00\n",
      "Epoch 109/150\n",
      "2/2 [==============================] - 0s 66ms/step - loss: 0.4414 - accuracy: 0.8642 - graph_loss: 0.1756 - val_loss: 0.0000e+00 - val_accuracy: 0.0000e+00 - val_graph_loss: 0.0000e+00\n",
      "Epoch 110/150\n",
      "2/2 [==============================] - 0s 65ms/step - loss: 0.8118 - accuracy: 0.8395 - graph_loss: 0.2775 - val_loss: 0.0000e+00 - val_accuracy: 0.0000e+00 - val_graph_loss: 0.0000e+00\n",
      "Epoch 111/150\n",
      "2/2 [==============================] - 0s 64ms/step - loss: 0.5491 - accuracy: 0.8395 - graph_loss: 0.2217 - val_loss: 0.0000e+00 - val_accuracy: 0.0000e+00 - val_graph_loss: 0.0000e+00\n",
      "Epoch 112/150\n",
      "2/2 [==============================] - 0s 58ms/step - loss: 0.4851 - accuracy: 0.8025 - graph_loss: 0.1955 - val_loss: 0.0000e+00 - val_accuracy: 0.0000e+00 - val_graph_loss: 0.0000e+00\n",
      "Epoch 113/150\n",
      "2/2 [==============================] - 0s 56ms/step - loss: 0.3832 - accuracy: 0.8642 - graph_loss: 0.1752 - val_loss: 0.0000e+00 - val_accuracy: 0.0000e+00 - val_graph_loss: 0.0000e+00\n",
      "Epoch 114/150\n",
      "2/2 [==============================] - 0s 53ms/step - loss: 0.7709 - accuracy: 0.8272 - graph_loss: 0.2399 - val_loss: 0.0000e+00 - val_accuracy: 0.0000e+00 - val_graph_loss: 0.0000e+00\n",
      "Epoch 115/150\n",
      "2/2 [==============================] - 0s 52ms/step - loss: 0.4318 - accuracy: 0.8210 - graph_loss: 0.2486 - val_loss: 0.0000e+00 - val_accuracy: 0.0000e+00 - val_graph_loss: 0.0000e+00\n",
      "Epoch 116/150\n",
      "2/2 [==============================] - 0s 53ms/step - loss: 0.6244 - accuracy: 0.8148 - graph_loss: 0.2876 - val_loss: 0.0000e+00 - val_accuracy: 0.0000e+00 - val_graph_loss: 0.0000e+00\n",
      "Epoch 117/150\n",
      "2/2 [==============================] - 0s 56ms/step - loss: 0.4960 - accuracy: 0.8395 - graph_loss: 0.2768 - val_loss: 0.0000e+00 - val_accuracy: 0.0000e+00 - val_graph_loss: 0.0000e+00\n",
      "Epoch 118/150\n",
      "2/2 [==============================] - 0s 61ms/step - loss: 0.4903 - accuracy: 0.8519 - graph_loss: 0.2032 - val_loss: 0.0000e+00 - val_accuracy: 0.0000e+00 - val_graph_loss: 0.0000e+00\n",
      "Epoch 119/150\n",
      "2/2 [==============================] - 0s 57ms/step - loss: 0.7006 - accuracy: 0.8086 - graph_loss: 0.1693 - val_loss: 0.0000e+00 - val_accuracy: 0.0000e+00 - val_graph_loss: 0.0000e+00\n",
      "Epoch 120/150\n",
      "2/2 [==============================] - 0s 53ms/step - loss: 0.4102 - accuracy: 0.8704 - graph_loss: 0.1553 - val_loss: 0.0000e+00 - val_accuracy: 0.0000e+00 - val_graph_loss: 0.0000e+00\n",
      "Epoch 121/150\n",
      "2/2 [==============================] - 0s 53ms/step - loss: 0.5899 - accuracy: 0.8272 - graph_loss: 0.2198 - val_loss: 0.0000e+00 - val_accuracy: 0.0000e+00 - val_graph_loss: 0.0000e+00\n",
      "Epoch 122/150\n",
      "2/2 [==============================] - 0s 53ms/step - loss: 0.5280 - accuracy: 0.8457 - graph_loss: 0.1663 - val_loss: 0.0000e+00 - val_accuracy: 0.0000e+00 - val_graph_loss: 0.0000e+00\n",
      "Epoch 123/150\n",
      "2/2 [==============================] - 0s 54ms/step - loss: 0.5351 - accuracy: 0.8395 - graph_loss: 0.2427 - val_loss: 0.0000e+00 - val_accuracy: 0.0000e+00 - val_graph_loss: 0.0000e+00\n",
      "Epoch 124/150\n"
     ]
    },
    {
     "name": "stdout",
     "output_type": "stream",
     "text": [
      "2/2 [==============================] - 0s 53ms/step - loss: 0.5570 - accuracy: 0.8395 - graph_loss: 0.2624 - val_loss: 0.0000e+00 - val_accuracy: 0.0000e+00 - val_graph_loss: 0.0000e+00\n",
      "Epoch 125/150\n",
      "2/2 [==============================] - 0s 54ms/step - loss: 0.6512 - accuracy: 0.8395 - graph_loss: 0.1596 - val_loss: 0.0000e+00 - val_accuracy: 0.0000e+00 - val_graph_loss: 0.0000e+00\n",
      "Epoch 126/150\n",
      "2/2 [==============================] - 0s 56ms/step - loss: 0.4693 - accuracy: 0.8148 - graph_loss: 0.2045 - val_loss: 0.0000e+00 - val_accuracy: 0.0000e+00 - val_graph_loss: 0.0000e+00\n",
      "Epoch 127/150\n",
      "2/2 [==============================] - 0s 56ms/step - loss: 0.4903 - accuracy: 0.8519 - graph_loss: 0.1776 - val_loss: 0.0000e+00 - val_accuracy: 0.0000e+00 - val_graph_loss: 0.0000e+00\n",
      "Epoch 128/150\n",
      "2/2 [==============================] - 0s 54ms/step - loss: 0.5714 - accuracy: 0.8580 - graph_loss: 0.2210 - val_loss: 0.0000e+00 - val_accuracy: 0.0000e+00 - val_graph_loss: 0.0000e+00\n",
      "Epoch 129/150\n",
      "2/2 [==============================] - 0s 53ms/step - loss: 0.4442 - accuracy: 0.8457 - graph_loss: 0.1892 - val_loss: 0.0000e+00 - val_accuracy: 0.0000e+00 - val_graph_loss: 0.0000e+00\n",
      "Epoch 130/150\n",
      "2/2 [==============================] - 0s 53ms/step - loss: 0.4820 - accuracy: 0.8827 - graph_loss: 0.2784 - val_loss: 0.0000e+00 - val_accuracy: 0.0000e+00 - val_graph_loss: 0.0000e+00\n",
      "Epoch 131/150\n",
      "2/2 [==============================] - 0s 53ms/step - loss: 0.5109 - accuracy: 0.7840 - graph_loss: 0.2271 - val_loss: 0.0000e+00 - val_accuracy: 0.0000e+00 - val_graph_loss: 0.0000e+00\n",
      "Epoch 132/150\n",
      "2/2 [==============================] - 0s 52ms/step - loss: 0.5583 - accuracy: 0.8210 - graph_loss: 0.2484 - val_loss: 0.0000e+00 - val_accuracy: 0.0000e+00 - val_graph_loss: 0.0000e+00\n",
      "Epoch 133/150\n",
      "2/2 [==============================] - 0s 52ms/step - loss: 0.4330 - accuracy: 0.8580 - graph_loss: 0.1643 - val_loss: 0.0000e+00 - val_accuracy: 0.0000e+00 - val_graph_loss: 0.0000e+00\n",
      "Epoch 134/150\n",
      "2/2 [==============================] - 0s 52ms/step - loss: 0.4397 - accuracy: 0.8395 - graph_loss: 0.1824 - val_loss: 0.0000e+00 - val_accuracy: 0.0000e+00 - val_graph_loss: 0.0000e+00\n",
      "Epoch 135/150\n",
      "2/2 [==============================] - 0s 52ms/step - loss: 0.3476 - accuracy: 0.8457 - graph_loss: 0.2539 - val_loss: 0.0000e+00 - val_accuracy: 0.0000e+00 - val_graph_loss: 0.0000e+00\n",
      "Epoch 136/150\n",
      "2/2 [==============================] - 0s 51ms/step - loss: 0.4430 - accuracy: 0.8704 - graph_loss: 0.1807 - val_loss: 0.0000e+00 - val_accuracy: 0.0000e+00 - val_graph_loss: 0.0000e+00\n",
      "Epoch 137/150\n",
      "2/2 [==============================] - 0s 52ms/step - loss: 0.4634 - accuracy: 0.8395 - graph_loss: 0.1757 - val_loss: 0.0000e+00 - val_accuracy: 0.0000e+00 - val_graph_loss: 0.0000e+00\n",
      "Epoch 138/150\n",
      "2/2 [==============================] - 0s 55ms/step - loss: 0.7171 - accuracy: 0.8395 - graph_loss: 0.2646 - val_loss: 0.0000e+00 - val_accuracy: 0.0000e+00 - val_graph_loss: 0.0000e+00\n",
      "Epoch 139/150\n",
      "2/2 [==============================] - 0s 52ms/step - loss: 0.4518 - accuracy: 0.8827 - graph_loss: 0.2111 - val_loss: 0.0000e+00 - val_accuracy: 0.0000e+00 - val_graph_loss: 0.0000e+00\n",
      "Epoch 140/150\n",
      "2/2 [==============================] - 0s 52ms/step - loss: 0.7098 - accuracy: 0.8519 - graph_loss: 0.2425 - val_loss: 0.0000e+00 - val_accuracy: 0.0000e+00 - val_graph_loss: 0.0000e+00\n",
      "Epoch 141/150\n",
      "2/2 [==============================] - 0s 52ms/step - loss: 0.7537 - accuracy: 0.8519 - graph_loss: 0.2558 - val_loss: 0.0000e+00 - val_accuracy: 0.0000e+00 - val_graph_loss: 0.0000e+00\n",
      "Epoch 142/150\n",
      "2/2 [==============================] - 0s 52ms/step - loss: 0.4302 - accuracy: 0.9136 - graph_loss: 0.1796 - val_loss: 0.0000e+00 - val_accuracy: 0.0000e+00 - val_graph_loss: 0.0000e+00\n",
      "Epoch 143/150\n",
      "2/2 [==============================] - 0s 53ms/step - loss: 0.4804 - accuracy: 0.8395 - graph_loss: 0.2081 - val_loss: 0.0000e+00 - val_accuracy: 0.0000e+00 - val_graph_loss: 0.0000e+00\n",
      "Epoch 144/150\n",
      "2/2 [==============================] - 0s 53ms/step - loss: 0.4927 - accuracy: 0.8765 - graph_loss: 0.2421 - val_loss: 0.0000e+00 - val_accuracy: 0.0000e+00 - val_graph_loss: 0.0000e+00\n",
      "Epoch 145/150\n",
      "2/2 [==============================] - 0s 52ms/step - loss: 0.4271 - accuracy: 0.8889 - graph_loss: 0.1939 - val_loss: 0.0000e+00 - val_accuracy: 0.0000e+00 - val_graph_loss: 0.0000e+00\n",
      "Epoch 146/150\n",
      "2/2 [==============================] - 0s 53ms/step - loss: 0.4366 - accuracy: 0.8519 - graph_loss: 0.1479 - val_loss: 0.0000e+00 - val_accuracy: 0.0000e+00 - val_graph_loss: 0.0000e+00\n",
      "Epoch 147/150\n",
      "2/2 [==============================] - 0s 55ms/step - loss: 0.4007 - accuracy: 0.8889 - graph_loss: 0.2029 - val_loss: 0.0000e+00 - val_accuracy: 0.0000e+00 - val_graph_loss: 0.0000e+00\n",
      "Epoch 148/150\n",
      "2/2 [==============================] - 0s 54ms/step - loss: 0.4981 - accuracy: 0.8642 - graph_loss: 0.2786 - val_loss: 0.0000e+00 - val_accuracy: 0.0000e+00 - val_graph_loss: 0.0000e+00\n",
      "Epoch 149/150\n",
      "2/2 [==============================] - 0s 52ms/step - loss: 0.4768 - accuracy: 0.8827 - graph_loss: 0.2281 - val_loss: 0.0000e+00 - val_accuracy: 0.0000e+00 - val_graph_loss: 0.0000e+00\n",
      "Epoch 150/150\n",
      "2/2 [==============================] - 0s 52ms/step - loss: 0.4893 - accuracy: 0.8765 - graph_loss: 0.2416 - val_loss: 0.0000e+00 - val_accuracy: 0.0000e+00 - val_graph_loss: 0.0000e+00\n"
     ]
    }
   ],
   "source": [
    "# Wrap the base MLP model with graph regularization.\n",
    "graph_reg_config = nsl.configs.make_graph_reg_config(\n",
    "    max_neighbors=HPARAMS.num_neighbors,\n",
    "    multiplier=HPARAMS.graph_regularization_multiplier,\n",
    "    distance_type=HPARAMS.distance_type,\n",
    "    sum_over_axis=-1)\n",
    "\n",
    "graph_reg_model = nsl.keras.GraphRegularization(base_reg_model,\n",
    "                                                graph_reg_config)\n",
    "graph_reg_model.compile(\n",
    "    optimizer='adam',\n",
    "    loss='sparse_categorical_crossentropy',\n",
    "    metrics=['accuracy'])\n",
    "graph_reg_model_history = graph_reg_model.fit(train_dataset, epochs=HPARAMS.train_epochs, verbose=1, validation_data=test_dataset)"
   ]
  },
  {
   "cell_type": "code",
   "execution_count": 46,
   "metadata": {},
   "outputs": [
    {
     "data": {
      "image/png": "[encoded data removed]",
      "text/plain": [
       "<Figure size 432x288 with 1 Axes>"
      ]
     },
     "metadata": {
      "needs_background": "light"
     },
     "output_type": "display_data"
    },
    {
     "data": {
      "image/png": "[encoded data removed]",
      "text/plain": [
       "<Figure size 432x288 with 1 Axes>"
      ]
     },
     "metadata": {
      "needs_background": "light"
     },
     "output_type": "display_data"
    }
   ],
   "source": [
    "# base_model.history.history['accuracy']\n",
    "\n",
    "import matplotlib.pyplot as plt\n",
    "# summarize history for accuracy\n",
    "plt.plot(graph_reg_model_history.history['accuracy'])\n",
    "plt.plot(graph_reg_model_history.history['val_accuracy'])\n",
    "plt.title('model accuracy')\n",
    "plt.ylabel('accuracy')\n",
    "plt.xlabel('epoch')\n",
    "plt.legend(['accuracy', 'loss'], loc='upper left')\n",
    "plt.show()\n",
    "\n",
    "plt.plot(graph_reg_model.history.history['loss'])\n",
    "plt.plot(graph_reg_model.history.history['val_loss'])\n",
    "plt.plot(graph_reg_model.history.history['graph_loss'])\n",
    "plt.title('loss')\n",
    "plt.ylabel('accuracy')\n",
    "plt.xlabel('epoch')\n",
    "plt.legend(['loss'], loc='upper left')\n",
    "plt.show()"
   ]
  },
  {
   "cell_type": "markdown",
   "metadata": {
    "colab_type": "text",
    "id": "6409ylRVQS7q"
   },
   "source": [
    "## Evaluate MLP model with graph regularization"
   ]
  },
  {
   "cell_type": "code",
   "execution_count": 47,
   "metadata": {
    "colab": {},
    "colab_type": "code",
    "id": "1TsOE1bAQTqD"
   },
   "outputs": [
    {
     "name": "stdout",
     "output_type": "stream",
     "text": [
      "5/5 [==============================] - 0s 13ms/step - loss: 0.6924 - accuracy: 0.7547 - graph_loss: 0.0000e+00\n",
      "\n",
      "\n",
      "Eval accuracy for  MLP + graph regularization :  0.754717\n",
      "Eval loss for  MLP + graph regularization :  0.6923710107803345\n",
      "Eval graph loss for  MLP + graph regularization :  0.0\n"
     ]
    }
   ],
   "source": [
    "eval_results = dict(\n",
    "    zip(graph_reg_model.metrics_names,\n",
    "        graph_reg_model.evaluate(test_dataset, steps=HPARAMS.eval_steps)))\n",
    "print_metrics('MLP + graph regularization', eval_results)"
   ]
  },
  {
   "cell_type": "markdown",
   "metadata": {
    "colab_type": "text",
    "id": "Adc-r84EOSQi"
   },
   "source": [
    "The graph-regularized model's accuracy is about 2-3% higher than that of the\n",
    "base model (`base_model`)."
   ]
  },
  {
   "cell_type": "markdown",
   "metadata": {
    "colab_type": "text",
    "id": "OEXQHFNvJQJe"
   },
   "source": [
    "## Conclusion\n",
    "\n",
    "We have demonstrated the use of graph regularization for document classification\n",
    "on a natural citation graph (Cora) using the Neural Structured Learning (NSL)\n",
    "framework. Our [advanced tutorial](graph_keras_lstm_imdb.ipynb) involves\n",
    "synthesizing graphs based on sample embeddings before training a neural network\n",
    "with graph regularization. This approach is useful if the input does not contain\n",
    "an explicit graph.\n",
    "\n",
    "We encourage users to experiment further by varying the amount of supervision as\n",
    "well as trying different neural architectures for graph regularization."
   ]
  },
  {
   "cell_type": "code",
   "execution_count": 48,
   "metadata": {},
   "outputs": [
    {
     "data": {
      "image/png": "[encoded data removed]",
      "text/plain": [
       "<Figure size 432x288 with 1 Axes>"
      ]
     },
     "metadata": {
      "needs_background": "light"
     },
     "output_type": "display_data"
    }
   ],
   "source": [
    "# base_model.history.history['accuracy']\n",
    "# base_model.history.history['accuracy']\n",
    "\n",
    "import matplotlib.pyplot as plt\n",
    "# summarize history for accuracy\n",
    "plt.plot(base_model_history.history['val_accuracy'])\n",
    "plt.plot(graph_reg_model_history.history['val_accuracy'])\n",
    "plt.title('model accuracy')\n",
    "plt.ylabel('accuracy')\n",
    "plt.xlabel('epoch')\n",
    "plt.legend(['base model', 'greph reg model'], loc='upper left')\n",
    "plt.show()"
   ]
  },
  {
   "cell_type": "code",
   "execution_count": null,
   "metadata": {},
   "outputs": [],
   "source": []
  },
  {
   "cell_type": "code",
   "execution_count": null,
   "metadata": {},
   "outputs": [],
   "source": []
  },
  {
   "cell_type": "code",
   "execution_count": null,
   "metadata": {},
   "outputs": [],
   "source": []
  },
  {
   "cell_type": "code",
   "execution_count": null,
   "metadata": {},
   "outputs": [],
   "source": []
  }
 ],
 "metadata": {
  "accelerator": "GPU",
  "colab": {
   "collapsed_sections": [],
   "name": "Graph regularization for terror data and relationships using natural graphs",
   "private_outputs": true,
   "provenance": [],
   "toc_visible": true
  },
  "kernelspec": {
   "display_name": "Python 3",
   "language": "python",
   "name": "python3"
  },
  "language_info": {
   "codemirror_mode": {
    "name": "ipython",
    "version": 3
   },
   "file_extension": ".py",
   "mimetype": "text/x-python",
   "name": "python",
   "nbconvert_exporter": "python",
   "pygments_lexer": "ipython3",
   "version": "3.7.3"
  }
 },
 "nbformat": 4,
 "nbformat_minor": 1
}
