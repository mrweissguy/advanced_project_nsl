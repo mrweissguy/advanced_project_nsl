{
 "cells": [
  {
   "cell_type": "markdown",
   "metadata": {
    "colab_type": "text",
    "id": "-BszoQj0dSZO"
   },
   "source": [
    "# Adversarial regularization for image classification - CIFAR10 datset\n"
   ]
  },
  {
   "cell_type": "markdown",
   "metadata": {
    "colab_type": "text",
    "id": "oHEGl8h_m6tS"
   },
   "source": [
    "## Overview\n",
    "\n",
    "In this tutorial, we will explore the use of adversarial learning\n",
    "([Goodfellow et al., 2014](https://arxiv.org/abs/1412.6572)) for image\n",
    "classification using the Neural Structured Learning (NSL) framework.\n",
    "\n",
    "The core idea of adversarial learning is to train a model with\n",
    "adversarially-perturbed data (called adversarial examples) in addition to the\n",
    "organic training data. The adversarial examples are constructed to intentionally\n",
    "mislead the model into making wrong predictions or classifications. By training\n",
    "with such examples, the model learns to be robust against adversarial\n",
    "perturbation when making predictions.\n",
    "\n",
    "In this tutorial, we illustrate the following procedure of applying adversarial\n",
    "learning to obtain robust models using the Neural Structured Learning framework:\n",
    "\n",
    "1.  Creata a neural network as a base model. In this tutorial, the base model is\n",
    "    created with the `tf.keras` functional API; this procedure is compatible\n",
    "    with models created by `tf.keras` sequential and subclassing APIs as well.\n",
    "2.  Wrap the base model with the **`AdversarialRegularization`** wrapper class,\n",
    "    which is provided by the NSL framework, to create a new `tf.keras.Model`\n",
    "    instance. This new model will include the adversarial loss as a\n",
    "    regularization term in its training objective.\n",
    "3.  Convert examples in the training data to feature dictionaries.\n",
    "4.  Train and evaluate the new model."
   ]
  },
  {
   "cell_type": "markdown",
   "metadata": {
    "colab_type": "text",
    "id": "VgSOF-49Q7kS"
   },
   "source": [
    "## Setup"
   ]
  },
  {
   "cell_type": "markdown",
   "metadata": {
    "colab_type": "text",
    "id": "m58k8nv3YVdf"
   },
   "source": [
    "Select TensorFlow 2.x to create an interactive development environment with\n",
    "eager execution."
   ]
  },
  {
   "cell_type": "code",
   "execution_count": 0,
   "metadata": {
    "colab": {
     "base_uri": "https://localhost:8080/",
     "height": 34
    },
    "colab_type": "code",
    "id": "rYz0BCS_YSD_",
    "outputId": "b0a63b15-905f-493c-9bf1-9bae77fa103d"
   },
   "outputs": [
    {
     "name": "stdout",
     "output_type": "stream",
     "text": [
      "TensorFlow 2.x selected.\n"
     ]
    }
   ],
   "source": [
    "try:\n",
    "  # %tensorflow_version only exists in Colab.\n",
    "  %tensorflow_version 2.x\n",
    "except Exception:\n",
    "  !pip install --quiet tensorflow-gpu>=2.0.0"
   ]
  },
  {
   "cell_type": "markdown",
   "metadata": {
    "colab_type": "text",
    "id": "4RhmgQ7-mlrl"
   },
   "source": [
    "Install the Neural Structured Learning package."
   ]
  },
  {
   "cell_type": "code",
   "execution_count": 0,
   "metadata": {
    "colab": {
     "base_uri": "https://localhost:8080/",
     "height": 34
    },
    "colab_type": "code",
    "id": "ByJ7133BQULR",
    "outputId": "8a348142-7131-46ef-cda0-a626d8a544bb"
   },
   "outputs": [
    {
     "name": "stdout",
     "output_type": "stream",
     "text": [
      "\u001b[?25l\r",
      "\u001b[K     |███▏                            | 10kB 21.8MB/s eta 0:00:01\r",
      "\u001b[K     |██████▎                         | 20kB 4.4MB/s eta 0:00:01\r",
      "\u001b[K     |█████████▍                      | 30kB 6.3MB/s eta 0:00:01\r",
      "\u001b[K     |████████████▌                   | 40kB 8.1MB/s eta 0:00:01\r",
      "\u001b[K     |███████████████▋                | 51kB 5.0MB/s eta 0:00:01\r",
      "\u001b[K     |██████████████████▉             | 61kB 5.9MB/s eta 0:00:01\r",
      "\u001b[K     |██████████████████████          | 71kB 6.7MB/s eta 0:00:01\r",
      "\u001b[K     |█████████████████████████       | 81kB 7.5MB/s eta 0:00:01\r",
      "\u001b[K     |████████████████████████████▏   | 92kB 8.2MB/s eta 0:00:01\r",
      "\u001b[K     |███████████████████████████████▎| 102kB 6.5MB/s eta 0:00:01\r",
      "\u001b[K     |████████████████████████████████| 112kB 6.5MB/s \n",
      "\u001b[?25h"
     ]
    }
   ],
   "source": [
    "!pip install --quiet neural-structured-learning"
   ]
  },
  {
   "cell_type": "markdown",
   "metadata": {
    "colab_type": "text",
    "id": "PZvsEQrhSqKx"
   },
   "source": [
    "Import libraries. We abbreviate `neural_structured_learning` to `nsl`."
   ]
  },
  {
   "cell_type": "code",
   "execution_count": 0,
   "metadata": {
    "colab": {},
    "colab_type": "code",
    "id": "EuqEuAYzTMo0"
   },
   "outputs": [],
   "source": [
    "from __future__ import absolute_import, division, print_function, unicode_literals\n",
    "\n",
    "import matplotlib.pyplot as plt\n",
    "import neural_structured_learning as nsl\n",
    "import numpy as np\n",
    "import tensorflow as tf\n",
    "import tensorflow_datasets as tfds"
   ]
  },
  {
   "cell_type": "markdown",
   "metadata": {
    "colab_type": "text",
    "id": "3LwBtQGaTvbe"
   },
   "source": [
    "## Hyperparameters\n",
    "\n",
    "We collect and explain the hyperparameters (in an `HParams` object) for model\n",
    "training and evaluation.\n",
    "\n",
    "Input/Output:\n",
    "\n",
    "*   **`input_shape`**: The shape of the input tensor. Each image is 32-by-32\n",
    "pixels with 3 channels.\n",
    "*   **`num_classes`**: There are a total of 10 classes, corresponding to 10\n",
    "digits [0-9].\n",
    "\n",
    "Model architecture:\n",
    "\n",
    "*   **`conv_filters`**: A list of numbers, each specifying the number of\n",
    "filters in a convolutional layer.\n",
    "*   **`kernel_size`**: The size of 2D convolution window, shared by all\n",
    "convolutional layers.\n",
    "*   **`pool_size`**: Factors to downscale the image in each max-pooling layer.\n",
    "*   **`num_fc_units`**: The number of units (i.e., width) of each\n",
    "fully-connected layer.\n",
    "\n",
    "Training and evaluation:\n",
    "\n",
    "*  **`batch_size`**: Batch size used for training and evaluation.\n",
    "*  **`epochs`**: The number of training epochs.\n",
    "\n",
    "Adversarial learning:\n",
    "\n",
    "*   **`adv_multiplier`**: The weight of adversarial loss in the training\n",
    "objective, relative to the labeled loss.\n",
    "*   **`adv_step_size`**: The magnitude of adversarial perturbation.\n",
    "*  **`adv_grad_norm`**: The norm to measure the magnitude of adversarial\n",
    "perturbation.\n"
   ]
  },
  {
   "cell_type": "code",
   "execution_count": 0,
   "metadata": {
    "colab": {},
    "colab_type": "code",
    "id": "iOc8YdmIRSHo"
   },
   "outputs": [],
   "source": [
    "class HParams(object):\n",
    "  def __init__(self):\n",
    "    self.input_shape = [32, 32, 3]\n",
    "    self.num_classes = 10\n",
    "    self.conv_filters = [32, 64, 64]\n",
    "    self.kernel_size = (3, 3)\n",
    "    self.pool_size = (2, 2)\n",
    "    self.num_fc_units = [64]\n",
    "    self.batch_size = 32\n",
    "    self.epochs = 20\n",
    "    self.adv_multiplier = 0.2\n",
    "    self.adv_step_size = 0.2\n",
    "    self.adv_grad_norm = 'infinity'\n",
    "\n",
    "HPARAMS = HParams()"
   ]
  },
  {
   "cell_type": "markdown",
   "metadata": {
    "colab_type": "text",
    "id": "72zL1AMcYYGG"
   },
   "source": [
    "## CIFAR10 dataset\n",
    "\n",
    "The [CIFAR10](https://github.com/tensorflow/datasets/blob/master/docs/catalog/cifar10.md) onsists of 60000 32x32 colour images in 10 classes, with 6000 images per class. There are 50000 training images and 10000 test images.\n",
    "\n",
    "Here we load the CIFAR dataset from\n",
    "[TensorFlow Datasets](https://www.tensorflow.org/datasets). It handles\n",
    "downloading the data and constructing a `tf.data.Dataset`. The loaded dataset\n",
    "has two subsets:\n",
    "\n",
    "*   `train` with 50,000 examples, and\n",
    "*   `test` with 10,000 examples.\n"
   ]
  },
  {
   "cell_type": "code",
   "execution_count": 0,
   "metadata": {
    "colab": {
     "base_uri": "https://localhost:8080/",
     "height": 309,
     "referenced_widgets": [
      "202ba7c57b3a497ea130342bb48bb83a",
      "d09426fe9b5b44529906340a7b29f8e0",
      "71ab0630ea5a4910b43a8d4ef7bc2aa1",
      "8a927734e55549f6a4b15a9f25c7bf2f",
      "31628c2b9a27436dac8cc9763204c892",
      "fc120310e73e415d8e1ffc04d9c8b605",
      "a581c2d99a994625be57f2b520148a68",
      "ec9ea6188ff94467bbe5560215f3cdb6",
      "ca8766f9cb494e3ba1d60175b43c928d",
      "6474930decf5474ebb05ef44263d2392",
      "f5105b434c1849ada68549abfa7caa03",
      "2a693b1c17884e56b61e79fdcaec1b76",
      "7218cbd1012246aab9b1349153cd18cd",
      "21866d13a0ee4efcab48431fb72a647a",
      "2696fad1867b4519bf3fa059cf35b893",
      "1d2df0f6078b499eba12e04bde892375",
      "c1b00a72228749f5ae3f0093816418ce",
      "03325b29486f49828b0a2652680c3049",
      "3ac82725c0204616a6ad24572ded317e",
      "9db444575a264440991a0e8548134714",
      "b27bc3ffbbca498bb0b098c738fe78c7",
      "ee05df5a7b8149458432c702ea086f13",
      "8693365f5fa64e3f9c9d471d08adff4c",
      "01dee6d64da24ba8b1daedf86a573572",
      "0729b87a0d8d4ad4a421d81423d8f839",
      "0e4023fe7ffc4b3fa5001c4cba390483",
      "d0da5febd5b241d4bf78914098b2145f",
      "fa2d9520b6244b0490aee0c525123df5",
      "5568016e96e64737b3bc5a51e121409b"
     ]
    },
    "colab_type": "code",
    "id": "R1dK6E4axNHB",
    "outputId": "add4dd9b-9343-4c59-e909-70365ca9edab"
   },
   "outputs": [
    {
     "name": "stdout",
     "output_type": "stream",
     "text": [
      "\u001b[1mDownloading and preparing dataset cifar10 (162.17 MiB) to /root/tensorflow_datasets/cifar10/1.0.2...\u001b[0m\n"
     ]
    },
    {
     "data": {
      "application/vnd.jupyter.widget-view+json": {
       "model_id": "202ba7c57b3a497ea130342bb48bb83a",
       "version_major": 2,
       "version_minor": 0
      },
      "text/plain": [
       "HBox(children=(IntProgress(value=1, bar_style='info', description='Dl Completed...', max=1, style=ProgressStyl…"
      ]
     },
     "metadata": {
      "tags": []
     },
     "output_type": "display_data"
    },
    {
     "data": {
      "application/vnd.jupyter.widget-view+json": {
       "model_id": "d09426fe9b5b44529906340a7b29f8e0",
       "version_major": 2,
       "version_minor": 0
      },
      "text/plain": [
       "HBox(children=(IntProgress(value=1, bar_style='info', description='Dl Size...', max=1, style=ProgressStyle(des…"
      ]
     },
     "metadata": {
      "tags": []
     },
     "output_type": "display_data"
    },
    {
     "data": {
      "application/vnd.jupyter.widget-view+json": {
       "model_id": "71ab0630ea5a4910b43a8d4ef7bc2aa1",
       "version_major": 2,
       "version_minor": 0
      },
      "text/plain": [
       "HBox(children=(IntProgress(value=1, bar_style='info', description='Extraction completed...', max=1, style=Prog…"
      ]
     },
     "metadata": {
      "tags": []
     },
     "output_type": "display_data"
    },
    {
     "name": "stderr",
     "output_type": "stream",
     "text": [
      "/usr/local/lib/python3.6/dist-packages/urllib3/connectionpool.py:847: InsecureRequestWarning: Unverified HTTPS request is being made. Adding certificate verification is strongly advised. See: https://urllib3.readthedocs.io/en/latest/advanced-usage.html#ssl-warnings\n",
      "  InsecureRequestWarning)\n"
     ]
    },
    {
     "name": "stdout",
     "output_type": "stream",
     "text": [
      "\n",
      "\n",
      "\n",
      "\n"
     ]
    },
    {
     "data": {
      "application/vnd.jupyter.widget-view+json": {
       "model_id": "8a927734e55549f6a4b15a9f25c7bf2f",
       "version_major": 2,
       "version_minor": 0
      },
      "text/plain": [
       "HBox(children=(IntProgress(value=1, bar_style='info', max=1), HTML(value='')))"
      ]
     },
     "metadata": {
      "tags": []
     },
     "output_type": "display_data"
    },
    {
     "name": "stdout",
     "output_type": "stream",
     "text": [
      "\r"
     ]
    },
    {
     "data": {
      "application/vnd.jupyter.widget-view+json": {
       "model_id": "31628c2b9a27436dac8cc9763204c892",
       "version_major": 2,
       "version_minor": 0
      },
      "text/plain": [
       "HBox(children=(IntProgress(value=0, description='Shuffling...', max=10, style=ProgressStyle(description_width=…"
      ]
     },
     "metadata": {
      "tags": []
     },
     "output_type": "display_data"
    },
    {
     "name": "stdout",
     "output_type": "stream",
     "text": [
      "WARNING:tensorflow:From /usr/local/lib/python3.6/dist-packages/tensorflow_datasets/core/file_format_adapter.py:209: tf_record_iterator (from tensorflow.python.lib.io.tf_record) is deprecated and will be removed in a future version.\n",
      "Instructions for updating:\n",
      "Use eager execution and: \n",
      "`tf.data.TFRecordDataset(path)`\n"
     ]
    },
    {
     "name": "stderr",
     "output_type": "stream",
     "text": [
      "WARNING:tensorflow:From /usr/local/lib/python3.6/dist-packages/tensorflow_datasets/core/file_format_adapter.py:209: tf_record_iterator (from tensorflow.python.lib.io.tf_record) is deprecated and will be removed in a future version.\n",
      "Instructions for updating:\n",
      "Use eager execution and: \n",
      "`tf.data.TFRecordDataset(path)`\n"
     ]
    },
    {
     "data": {
      "application/vnd.jupyter.widget-view+json": {
       "model_id": "fc120310e73e415d8e1ffc04d9c8b605",
       "version_major": 2,
       "version_minor": 0
      },
      "text/plain": [
       "HBox(children=(IntProgress(value=1, bar_style='info', description='Reading...', max=1, style=ProgressStyle(des…"
      ]
     },
     "metadata": {
      "tags": []
     },
     "output_type": "display_data"
    },
    {
     "data": {
      "application/vnd.jupyter.widget-view+json": {
       "model_id": "a581c2d99a994625be57f2b520148a68",
       "version_major": 2,
       "version_minor": 0
      },
      "text/plain": [
       "HBox(children=(IntProgress(value=0, description='Writing...', max=5000, style=ProgressStyle(description_width=…"
      ]
     },
     "metadata": {
      "tags": []
     },
     "output_type": "display_data"
    },
    {
     "data": {
      "application/vnd.jupyter.widget-view+json": {
       "model_id": "ec9ea6188ff94467bbe5560215f3cdb6",
       "version_major": 2,
       "version_minor": 0
      },
      "text/plain": [
       "HBox(children=(IntProgress(value=1, bar_style='info', description='Reading...', max=1, style=ProgressStyle(des…"
      ]
     },
     "metadata": {
      "tags": []
     },
     "output_type": "display_data"
    },
    {
     "data": {
      "application/vnd.jupyter.widget-view+json": {
       "model_id": "ca8766f9cb494e3ba1d60175b43c928d",
       "version_major": 2,
       "version_minor": 0
      },
      "text/plain": [
       "HBox(children=(IntProgress(value=0, description='Writing...', max=5000, style=ProgressStyle(description_width=…"
      ]
     },
     "metadata": {
      "tags": []
     },
     "output_type": "display_data"
    },
    {
     "data": {
      "application/vnd.jupyter.widget-view+json": {
       "model_id": "6474930decf5474ebb05ef44263d2392",
       "version_major": 2,
       "version_minor": 0
      },
      "text/plain": [
       "HBox(children=(IntProgress(value=1, bar_style='info', description='Reading...', max=1, style=ProgressStyle(des…"
      ]
     },
     "metadata": {
      "tags": []
     },
     "output_type": "display_data"
    },
    {
     "data": {
      "application/vnd.jupyter.widget-view+json": {
       "model_id": "f5105b434c1849ada68549abfa7caa03",
       "version_major": 2,
       "version_minor": 0
      },
      "text/plain": [
       "HBox(children=(IntProgress(value=0, description='Writing...', max=5000, style=ProgressStyle(description_width=…"
      ]
     },
     "metadata": {
      "tags": []
     },
     "output_type": "display_data"
    },
    {
     "data": {
      "application/vnd.jupyter.widget-view+json": {
       "model_id": "2a693b1c17884e56b61e79fdcaec1b76",
       "version_major": 2,
       "version_minor": 0
      },
      "text/plain": [
       "HBox(children=(IntProgress(value=1, bar_style='info', description='Reading...', max=1, style=ProgressStyle(des…"
      ]
     },
     "metadata": {
      "tags": []
     },
     "output_type": "display_data"
    },
    {
     "data": {
      "application/vnd.jupyter.widget-view+json": {
       "model_id": "7218cbd1012246aab9b1349153cd18cd",
       "version_major": 2,
       "version_minor": 0
      },
      "text/plain": [
       "HBox(children=(IntProgress(value=0, description='Writing...', max=5000, style=ProgressStyle(description_width=…"
      ]
     },
     "metadata": {
      "tags": []
     },
     "output_type": "display_data"
    },
    {
     "data": {
      "application/vnd.jupyter.widget-view+json": {
       "model_id": "21866d13a0ee4efcab48431fb72a647a",
       "version_major": 2,
       "version_minor": 0
      },
      "text/plain": [
       "HBox(children=(IntProgress(value=1, bar_style='info', description='Reading...', max=1, style=ProgressStyle(des…"
      ]
     },
     "metadata": {
      "tags": []
     },
     "output_type": "display_data"
    },
    {
     "data": {
      "application/vnd.jupyter.widget-view+json": {
       "model_id": "2696fad1867b4519bf3fa059cf35b893",
       "version_major": 2,
       "version_minor": 0
      },
      "text/plain": [
       "HBox(children=(IntProgress(value=0, description='Writing...', max=5000, style=ProgressStyle(description_width=…"
      ]
     },
     "metadata": {
      "tags": []
     },
     "output_type": "display_data"
    },
    {
     "data": {
      "application/vnd.jupyter.widget-view+json": {
       "model_id": "1d2df0f6078b499eba12e04bde892375",
       "version_major": 2,
       "version_minor": 0
      },
      "text/plain": [
       "HBox(children=(IntProgress(value=1, bar_style='info', description='Reading...', max=1, style=ProgressStyle(des…"
      ]
     },
     "metadata": {
      "tags": []
     },
     "output_type": "display_data"
    },
    {
     "data": {
      "application/vnd.jupyter.widget-view+json": {
       "model_id": "c1b00a72228749f5ae3f0093816418ce",
       "version_major": 2,
       "version_minor": 0
      },
      "text/plain": [
       "HBox(children=(IntProgress(value=0, description='Writing...', max=5000, style=ProgressStyle(description_width=…"
      ]
     },
     "metadata": {
      "tags": []
     },
     "output_type": "display_data"
    },
    {
     "data": {
      "application/vnd.jupyter.widget-view+json": {
       "model_id": "03325b29486f49828b0a2652680c3049",
       "version_major": 2,
       "version_minor": 0
      },
      "text/plain": [
       "HBox(children=(IntProgress(value=1, bar_style='info', description='Reading...', max=1, style=ProgressStyle(des…"
      ]
     },
     "metadata": {
      "tags": []
     },
     "output_type": "display_data"
    },
    {
     "data": {
      "application/vnd.jupyter.widget-view+json": {
       "model_id": "3ac82725c0204616a6ad24572ded317e",
       "version_major": 2,
       "version_minor": 0
      },
      "text/plain": [
       "HBox(children=(IntProgress(value=0, description='Writing...', max=5000, style=ProgressStyle(description_width=…"
      ]
     },
     "metadata": {
      "tags": []
     },
     "output_type": "display_data"
    },
    {
     "data": {
      "application/vnd.jupyter.widget-view+json": {
       "model_id": "9db444575a264440991a0e8548134714",
       "version_major": 2,
       "version_minor": 0
      },
      "text/plain": [
       "HBox(children=(IntProgress(value=1, bar_style='info', description='Reading...', max=1, style=ProgressStyle(des…"
      ]
     },
     "metadata": {
      "tags": []
     },
     "output_type": "display_data"
    },
    {
     "data": {
      "application/vnd.jupyter.widget-view+json": {
       "model_id": "b27bc3ffbbca498bb0b098c738fe78c7",
       "version_major": 2,
       "version_minor": 0
      },
      "text/plain": [
       "HBox(children=(IntProgress(value=0, description='Writing...', max=5000, style=ProgressStyle(description_width=…"
      ]
     },
     "metadata": {
      "tags": []
     },
     "output_type": "display_data"
    },
    {
     "data": {
      "application/vnd.jupyter.widget-view+json": {
       "model_id": "ee05df5a7b8149458432c702ea086f13",
       "version_major": 2,
       "version_minor": 0
      },
      "text/plain": [
       "HBox(children=(IntProgress(value=1, bar_style='info', description='Reading...', max=1, style=ProgressStyle(des…"
      ]
     },
     "metadata": {
      "tags": []
     },
     "output_type": "display_data"
    },
    {
     "data": {
      "application/vnd.jupyter.widget-view+json": {
       "model_id": "8693365f5fa64e3f9c9d471d08adff4c",
       "version_major": 2,
       "version_minor": 0
      },
      "text/plain": [
       "HBox(children=(IntProgress(value=0, description='Writing...', max=5000, style=ProgressStyle(description_width=…"
      ]
     },
     "metadata": {
      "tags": []
     },
     "output_type": "display_data"
    },
    {
     "data": {
      "application/vnd.jupyter.widget-view+json": {
       "model_id": "01dee6d64da24ba8b1daedf86a573572",
       "version_major": 2,
       "version_minor": 0
      },
      "text/plain": [
       "HBox(children=(IntProgress(value=1, bar_style='info', description='Reading...', max=1, style=ProgressStyle(des…"
      ]
     },
     "metadata": {
      "tags": []
     },
     "output_type": "display_data"
    },
    {
     "data": {
      "application/vnd.jupyter.widget-view+json": {
       "model_id": "0729b87a0d8d4ad4a421d81423d8f839",
       "version_major": 2,
       "version_minor": 0
      },
      "text/plain": [
       "HBox(children=(IntProgress(value=0, description='Writing...', max=5000, style=ProgressStyle(description_width=…"
      ]
     },
     "metadata": {
      "tags": []
     },
     "output_type": "display_data"
    },
    {
     "name": "stdout",
     "output_type": "stream",
     "text": [
      "\r"
     ]
    },
    {
     "data": {
      "application/vnd.jupyter.widget-view+json": {
       "model_id": "0e4023fe7ffc4b3fa5001c4cba390483",
       "version_major": 2,
       "version_minor": 0
      },
      "text/plain": [
       "HBox(children=(IntProgress(value=1, bar_style='info', max=1), HTML(value='')))"
      ]
     },
     "metadata": {
      "tags": []
     },
     "output_type": "display_data"
    },
    {
     "name": "stdout",
     "output_type": "stream",
     "text": [
      "\r"
     ]
    },
    {
     "data": {
      "application/vnd.jupyter.widget-view+json": {
       "model_id": "d0da5febd5b241d4bf78914098b2145f",
       "version_major": 2,
       "version_minor": 0
      },
      "text/plain": [
       "HBox(children=(IntProgress(value=0, description='Shuffling...', max=1, style=ProgressStyle(description_width='…"
      ]
     },
     "metadata": {
      "tags": []
     },
     "output_type": "display_data"
    },
    {
     "data": {
      "application/vnd.jupyter.widget-view+json": {
       "model_id": "fa2d9520b6244b0490aee0c525123df5",
       "version_major": 2,
       "version_minor": 0
      },
      "text/plain": [
       "HBox(children=(IntProgress(value=1, bar_style='info', description='Reading...', max=1, style=ProgressStyle(des…"
      ]
     },
     "metadata": {
      "tags": []
     },
     "output_type": "display_data"
    },
    {
     "data": {
      "application/vnd.jupyter.widget-view+json": {
       "model_id": "5568016e96e64737b3bc5a51e121409b",
       "version_major": 2,
       "version_minor": 0
      },
      "text/plain": [
       "HBox(children=(IntProgress(value=0, description='Writing...', max=10000, style=ProgressStyle(description_width…"
      ]
     },
     "metadata": {
      "tags": []
     },
     "output_type": "display_data"
    },
    {
     "name": "stdout",
     "output_type": "stream",
     "text": [
      "\r",
      "\u001b[1mDataset cifar10 downloaded and prepared to /root/tensorflow_datasets/cifar10/1.0.2. Subsequent calls will reuse this data.\u001b[0m\n"
     ]
    }
   ],
   "source": [
    "datasets = tfds.load('cifar10')\n",
    "\n",
    "train_dataset = datasets['train']\n",
    "test_dataset = datasets['test']\n",
    "\n",
    "IMAGE_INPUT_NAME = 'image'\n",
    "LABEL_INPUT_NAME = 'label'"
   ]
  },
  {
   "cell_type": "markdown",
   "metadata": {
    "colab_type": "text",
    "id": "IBkh4mbsxLR_"
   },
   "source": [
    "To make the model numerically stable, we normalize the pixel values to [0, 1]\n",
    "by mapping the dataset over the `normalize` function. After shuffling training\n",
    "set and batching, we convert the examples to feature tuples `(image, label)`\n",
    "for training the base model. We also provide a function to convert from tuples\n",
    "to dictionaries for later use."
   ]
  },
  {
   "cell_type": "code",
   "execution_count": 0,
   "metadata": {
    "colab": {},
    "colab_type": "code",
    "id": "VhMEJqKs0_7z"
   },
   "outputs": [],
   "source": [
    "def normalize(features):\n",
    "  features[IMAGE_INPUT_NAME] = tf.cast(\n",
    "      features[IMAGE_INPUT_NAME], dtype=tf.float32) / 255.0\n",
    "  return features\n",
    "\n",
    "def convert_to_tuples(features):\n",
    "  return features[IMAGE_INPUT_NAME], features[LABEL_INPUT_NAME]\n",
    "\n",
    "def convert_to_dictionaries(image, label):\n",
    "  return {IMAGE_INPUT_NAME: image, LABEL_INPUT_NAME: label}\n",
    "\n",
    "train_dataset = train_dataset.map(normalize).shuffle(10000).batch(HPARAMS.batch_size).map(convert_to_tuples)\n",
    "test_dataset = test_dataset.map(normalize).batch(HPARAMS.batch_size).map(convert_to_tuples)"
   ]
  },
  {
   "cell_type": "markdown",
   "metadata": {
    "colab_type": "text",
    "id": "JrrMpPNmpCKK"
   },
   "source": [
    "## Base model\n",
    "\n",
    "Our base model will be a neural network consisting of 3 convolutional layers\n",
    "follwed by 2 fully-connected layers (as defined in `HPARAMS`). Here we define\n",
    "it using the Keras functional API. Feel free to try other APIs or model\n",
    "architectures."
   ]
  },
  {
   "cell_type": "code",
   "execution_count": 0,
   "metadata": {
    "colab": {},
    "colab_type": "code",
    "id": "4UjrtuIsYWo3"
   },
   "outputs": [],
   "source": [
    "def build_base_model(hparams):\n",
    "  \"\"\"Builds a model according to the architecture defined in `hparams`.\"\"\"\n",
    "  inputs = tf.keras.Input(\n",
    "      shape=hparams.input_shape, dtype=tf.float32, name=IMAGE_INPUT_NAME)\n",
    "\n",
    "  x = inputs\n",
    "  for i, num_filters in enumerate(hparams.conv_filters):\n",
    "    x = tf.keras.layers.Conv2D(\n",
    "        num_filters, hparams.kernel_size, activation='relu')(\n",
    "            x)\n",
    "    if i < len(hparams.conv_filters) - 1:\n",
    "      # max pooling between convolutional layers\n",
    "      x = tf.keras.layers.MaxPooling2D(hparams.pool_size)(x)\n",
    "      \n",
    "  x = tf.keras.layers.Flatten()(x)\n",
    "  for num_units in hparams.num_fc_units:\n",
    "    x = tf.keras.layers.Dense(num_units, activation='relu')(x)\n",
    "  pred = tf.keras.layers.Dense(hparams.num_classes, activation='softmax')(x)\n",
    "  pred = tf.keras.layers.Dense(hparams.num_classes, activation='softmax')(x)\n",
    "\n",
    "  model = tf.keras.Model(inputs=inputs, outputs=pred)\n",
    "  return model"
   ]
  },
  {
   "cell_type": "code",
   "execution_count": 0,
   "metadata": {
    "colab": {
     "base_uri": "https://localhost:8080/",
     "height": 459
    },
    "colab_type": "code",
    "id": "288nsmN5pLoo",
    "outputId": "27325633-ac9d-4f29-ebd2-d358dae0348a"
   },
   "outputs": [
    {
     "name": "stdout",
     "output_type": "stream",
     "text": [
      "Model: \"model_4\"\n",
      "_________________________________________________________________\n",
      "Layer (type)                 Output Shape              Param #   \n",
      "=================================================================\n",
      "image (InputLayer)           [(None, 32, 32, 3)]       0         \n",
      "_________________________________________________________________\n",
      "conv2d_12 (Conv2D)           (None, 30, 30, 32)        896       \n",
      "_________________________________________________________________\n",
      "max_pooling2d_8 (MaxPooling2 (None, 15, 15, 32)        0         \n",
      "_________________________________________________________________\n",
      "conv2d_13 (Conv2D)           (None, 13, 13, 64)        18496     \n",
      "_________________________________________________________________\n",
      "max_pooling2d_9 (MaxPooling2 (None, 6, 6, 64)          0         \n",
      "_________________________________________________________________\n",
      "conv2d_14 (Conv2D)           (None, 4, 4, 64)          36928     \n",
      "_________________________________________________________________\n",
      "flatten_4 (Flatten)          (None, 1024)              0         \n",
      "_________________________________________________________________\n",
      "dense_12 (Dense)             (None, 64)                65600     \n",
      "_________________________________________________________________\n",
      "dense_14 (Dense)             (None, 10)                650       \n",
      "=================================================================\n",
      "Total params: 122,570\n",
      "Trainable params: 122,570\n",
      "Non-trainable params: 0\n",
      "_________________________________________________________________\n"
     ]
    }
   ],
   "source": [
    "base_model = build_base_model(HPARAMS)\n",
    "base_model.summary()"
   ]
  },
  {
   "cell_type": "markdown",
   "metadata": {
    "colab_type": "text",
    "id": "mlTUGn1t_HAr"
   },
   "source": [
    "Next we train and evaluate the base model."
   ]
  },
  {
   "cell_type": "code",
   "execution_count": 0,
   "metadata": {
    "colab": {
     "base_uri": "https://localhost:8080/",
     "height": 714
    },
    "colab_type": "code",
    "id": "K2cFDbmRpRMp",
    "outputId": "2065b543-c5be-4ed2-ee00-febc335612a7"
   },
   "outputs": [
    {
     "name": "stdout",
     "output_type": "stream",
     "text": [
      "Epoch 1/20\n",
      "1563/1563 [==============================] - 28s 18ms/step - loss: 1.5157 - accuracy: 0.4491\n",
      "Epoch 2/20\n",
      "1563/1563 [==============================] - 25s 16ms/step - loss: 1.1416 - accuracy: 0.5956\n",
      "Epoch 3/20\n",
      "1563/1563 [==============================] - 25s 16ms/step - loss: 0.9882 - accuracy: 0.6536\n",
      "Epoch 4/20\n",
      "1563/1563 [==============================] - 25s 16ms/step - loss: 0.8960 - accuracy: 0.6858\n",
      "Epoch 5/20\n",
      "1563/1563 [==============================] - 25s 16ms/step - loss: 0.8243 - accuracy: 0.7112\n",
      "Epoch 6/20\n",
      "1563/1563 [==============================] - 25s 16ms/step - loss: 0.7671 - accuracy: 0.7318\n",
      "Epoch 7/20\n",
      "1563/1563 [==============================] - 26s 17ms/step - loss: 0.7131 - accuracy: 0.7513\n",
      "Epoch 8/20\n",
      "1563/1563 [==============================] - 26s 17ms/step - loss: 0.6735 - accuracy: 0.7629\n",
      "Epoch 9/20\n",
      "1563/1563 [==============================] - 25s 16ms/step - loss: 0.6305 - accuracy: 0.7770\n",
      "Epoch 10/20\n",
      "1563/1563 [==============================] - 25s 16ms/step - loss: 0.5881 - accuracy: 0.7939\n",
      "Epoch 11/20\n",
      "1563/1563 [==============================] - 24s 16ms/step - loss: 0.5602 - accuracy: 0.8011\n",
      "Epoch 12/20\n",
      "1563/1563 [==============================] - 25s 16ms/step - loss: 0.5166 - accuracy: 0.8178\n",
      "Epoch 13/20\n",
      "1563/1563 [==============================] - 25s 16ms/step - loss: 0.4815 - accuracy: 0.8290\n",
      "Epoch 14/20\n",
      "1563/1563 [==============================] - 25s 16ms/step - loss: 0.4488 - accuracy: 0.8408\n",
      "Epoch 15/20\n",
      "1563/1563 [==============================] - 25s 16ms/step - loss: 0.4186 - accuracy: 0.8520\n",
      "Epoch 16/20\n",
      "1563/1563 [==============================] - 25s 16ms/step - loss: 0.3901 - accuracy: 0.8620\n",
      "Epoch 17/20\n",
      "1563/1563 [==============================] - 24s 16ms/step - loss: 0.3647 - accuracy: 0.8688\n",
      "Epoch 18/20\n",
      "1563/1563 [==============================] - 25s 16ms/step - loss: 0.3337 - accuracy: 0.8802\n",
      "Epoch 19/20\n",
      "1563/1563 [==============================] - 25s 16ms/step - loss: 0.3146 - accuracy: 0.8863\n",
      "Epoch 20/20\n",
      "1563/1563 [==============================] - 25s 16ms/step - loss: 0.2932 - accuracy: 0.8950\n"
     ]
    },
    {
     "data": {
      "text/plain": [
       "<tensorflow.python.keras.callbacks.History at 0x7f5cc70aae80>"
      ]
     },
     "execution_count": 27,
     "metadata": {
      "tags": []
     },
     "output_type": "execute_result"
    }
   ],
   "source": [
    "base_model.compile(optimizer='adam', loss='sparse_categorical_crossentropy',\n",
    "                   metrics=['accuracy'])\n",
    "base_model.fit(train_dataset, epochs=HPARAMS.epochs)"
   ]
  },
  {
   "cell_type": "code",
   "execution_count": 0,
   "metadata": {
    "colab": {
     "base_uri": "https://localhost:8080/",
     "height": 51
    },
    "colab_type": "code",
    "id": "J94Y_WTaqAsi",
    "outputId": "bbc14031-102f-40df-fabd-4b0fa2fcf114"
   },
   "outputs": [
    {
     "name": "stdout",
     "output_type": "stream",
     "text": [
      "313/313 [==============================] - 5s 16ms/step - loss: 1.2691 - accuracy: 0.6971\n",
      "accuracy: 0.6971\n"
     ]
    }
   ],
   "source": [
    "results = base_model.evaluate(test_dataset)\n",
    "named_results = dict(zip(base_model.metrics_names, results))\n",
    "print('accuracy:', named_results['accuracy'])"
   ]
  },
  {
   "cell_type": "markdown",
   "metadata": {
    "colab_type": "text",
    "id": "JQts09zx_GRp"
   },
   "source": []
  },
  {
   "cell_type": "markdown",
   "metadata": {
    "colab_type": "text",
    "id": "c8OClWqGALIm"
   },
   "source": [
    "We can see that the base model achieves 69% accuracy on the test set. We will\n",
    "see how robust it is in\n",
    "[Robustness Under Adversarial Perturbations](#scrollTo=HXK9MGG8lBX3) below."
   ]
  },
  {
   "cell_type": "markdown",
   "metadata": {
    "colab_type": "text",
    "id": "CemXA8N9q336"
   },
   "source": [
    "## Adversarial-regularized model\n",
    "\n",
    "Here we show how to incorporate adversarial training into a Keras model with a\n",
    "few lines of code, using the NSL framework. The base model is wrapped to create\n",
    "a new `tf.Keras.Model`, whose training objective includes adversarial\n",
    "regularization."
   ]
  },
  {
   "cell_type": "markdown",
   "metadata": {
    "colab_type": "text",
    "id": "YUOpl-rkzRrY"
   },
   "source": [
    "First, we create a config object with all relevant hyperparameters using the\n",
    "helper function `nsl.configs.make_adv_reg_config`."
   ]
  },
  {
   "cell_type": "code",
   "execution_count": 0,
   "metadata": {
    "colab": {},
    "colab_type": "code",
    "id": "-WWVwJB2qstE"
   },
   "outputs": [],
   "source": [
    "adv_config = nsl.configs.make_adv_reg_config(\n",
    "    multiplier=HPARAMS.adv_multiplier,\n",
    "    adv_step_size=HPARAMS.adv_step_size,\n",
    "    adv_grad_norm=HPARAMS.adv_grad_norm\n",
    ")"
   ]
  },
  {
   "cell_type": "markdown",
   "metadata": {
    "colab_type": "text",
    "id": "OmeIUyxE4s68"
   },
   "source": [
    "Now we can wrap a base model with `AdversarialRegularization`. Here we create a\n",
    "new base model (`base_adv_model`), so that the existing one (`base_model`) can\n",
    "be used in later comparison.\n",
    "\n",
    "The returned `adv_model` is a `tf.keras.Model` object, whose training objective\n",
    "includes a regularization term for the adversarial loss. To compute that loss,\n",
    "the model has to have access to the label information (feature `label`), in\n",
    "addition to regular input (feature `image`). For this reason, we convert the\n",
    "examples in the datasets from tuples back to dictionaries. And we tell the\n",
    "model which feature contains the label information via the `label_keys`\n",
    "parameter."
   ]
  },
  {
   "cell_type": "code",
   "execution_count": 0,
   "metadata": {
    "colab": {},
    "colab_type": "code",
    "id": "TObqJLEX4sQq"
   },
   "outputs": [],
   "source": [
    "base_adv_model = build_base_model(HPARAMS)\n",
    "adv_model = nsl.keras.AdversarialRegularization(\n",
    "    base_adv_model,\n",
    "    label_keys=[LABEL_INPUT_NAME],\n",
    "    adv_config=adv_config\n",
    ")\n",
    "\n",
    "train_set_for_adv_model = train_dataset.map(convert_to_dictionaries)\n",
    "test_set_for_adv_model = test_dataset.map(convert_to_dictionaries)"
   ]
  },
  {
   "cell_type": "markdown",
   "metadata": {
    "colab_type": "text",
    "id": "aKTQWzfj7JvL"
   },
   "source": [
    "Next we compile, train, and evaluate the adversarial-regularized model."
   ]
  },
  {
   "cell_type": "code",
   "execution_count": 0,
   "metadata": {
    "colab": {
     "base_uri": "https://localhost:8080/",
     "height": 768
    },
    "colab_type": "code",
    "id": "aTSK-cHbuWDw",
    "outputId": "a7c6ce27-6b98-42b8-9c5c-77c7e2b42ed2"
   },
   "outputs": [
    {
     "name": "stdout",
     "output_type": "stream",
     "text": [
      "WARNING:tensorflow:Output output_1 missing from loss dictionary. We assume this was done on purpose. The fit and evaluate APIs will not be expecting any data to be passed to output_1.\n"
     ]
    },
    {
     "name": "stderr",
     "output_type": "stream",
     "text": [
      "WARNING:tensorflow:Output output_1 missing from loss dictionary. We assume this was done on purpose. The fit and evaluate APIs will not be expecting any data to be passed to output_1.\n"
     ]
    },
    {
     "name": "stdout",
     "output_type": "stream",
     "text": [
      "Epoch 1/20\n",
      "1563/1563 [==============================] - 37s 24ms/step - loss: 1.8590 - sparse_categorical_crossentropy: 1.5477 - sparse_categorical_accuracy: 0.4324 - adversarial_loss: 1.5565\n",
      "Epoch 2/20\n",
      "1563/1563 [==============================] - 33s 21ms/step - loss: 1.3727 - sparse_categorical_crossentropy: 1.2017 - sparse_categorical_accuracy: 0.5741 - adversarial_loss: 0.8545\n",
      "Epoch 3/20\n",
      "1563/1563 [==============================] - 33s 21ms/step - loss: 1.1999 - sparse_categorical_crossentropy: 1.0652 - sparse_categorical_accuracy: 0.6259 - adversarial_loss: 0.6730\n",
      "Epoch 4/20\n",
      "1563/1563 [==============================] - 33s 21ms/step - loss: 1.0915 - sparse_categorical_crossentropy: 0.9671 - sparse_categorical_accuracy: 0.6602 - adversarial_loss: 0.6215\n",
      "Epoch 5/20\n",
      "1563/1563 [==============================] - 32s 21ms/step - loss: 1.0274 - sparse_categorical_crossentropy: 0.9005 - sparse_categorical_accuracy: 0.6831 - adversarial_loss: 0.6339\n",
      "Epoch 6/20\n",
      "1563/1563 [==============================] - 32s 20ms/step - loss: 0.9672 - sparse_categorical_crossentropy: 0.8444 - sparse_categorical_accuracy: 0.7053 - adversarial_loss: 0.6133\n",
      "Epoch 7/20\n",
      "1563/1563 [==============================] - 32s 21ms/step - loss: 0.9216 - sparse_categorical_crossentropy: 0.7953 - sparse_categorical_accuracy: 0.7204 - adversarial_loss: 0.6304\n",
      "Epoch 8/20\n",
      "1563/1563 [==============================] - 32s 20ms/step - loss: 0.8788 - sparse_categorical_crossentropy: 0.7515 - sparse_categorical_accuracy: 0.7358 - adversarial_loss: 0.6376\n",
      "Epoch 9/20\n",
      "1563/1563 [==============================] - 32s 20ms/step - loss: 0.8470 - sparse_categorical_crossentropy: 0.7149 - sparse_categorical_accuracy: 0.7485 - adversarial_loss: 0.6616\n",
      "Epoch 10/20\n",
      "1563/1563 [==============================] - 32s 21ms/step - loss: 0.8193 - sparse_categorical_crossentropy: 0.6848 - sparse_categorical_accuracy: 0.7602 - adversarial_loss: 0.6719\n",
      "Epoch 11/20\n",
      "1563/1563 [==============================] - 32s 20ms/step - loss: 0.7918 - sparse_categorical_crossentropy: 0.6548 - sparse_categorical_accuracy: 0.7701 - adversarial_loss: 0.6837\n",
      "Epoch 12/20\n",
      "1563/1563 [==============================] - 32s 20ms/step - loss: 0.7616 - sparse_categorical_crossentropy: 0.6247 - sparse_categorical_accuracy: 0.7804 - adversarial_loss: 0.6841\n",
      "Epoch 13/20\n",
      "1563/1563 [==============================] - 32s 21ms/step - loss: 0.7430 - sparse_categorical_crossentropy: 0.6034 - sparse_categorical_accuracy: 0.7879 - adversarial_loss: 0.6973\n",
      "Epoch 14/20\n",
      "1563/1563 [==============================] - 32s 21ms/step - loss: 0.7157 - sparse_categorical_crossentropy: 0.5732 - sparse_categorical_accuracy: 0.7975 - adversarial_loss: 0.7146\n",
      "Epoch 15/20\n",
      "1563/1563 [==============================] - 32s 20ms/step - loss: 0.7004 - sparse_categorical_crossentropy: 0.5551 - sparse_categorical_accuracy: 0.8034 - adversarial_loss: 0.7255\n",
      "Epoch 16/20\n",
      "1563/1563 [==============================] - 32s 21ms/step - loss: 0.6772 - sparse_categorical_crossentropy: 0.5302 - sparse_categorical_accuracy: 0.8139 - adversarial_loss: 0.7346\n",
      "Epoch 17/20\n",
      "1563/1563 [==============================] - 32s 20ms/step - loss: 0.6570 - sparse_categorical_crossentropy: 0.5081 - sparse_categorical_accuracy: 0.8206 - adversarial_loss: 0.7446\n",
      "Epoch 18/20\n",
      "1563/1563 [==============================] - 31s 20ms/step - loss: 0.6429 - sparse_categorical_crossentropy: 0.4894 - sparse_categorical_accuracy: 0.8266 - adversarial_loss: 0.7672\n",
      "Epoch 19/20\n",
      "1563/1563 [==============================] - 32s 21ms/step - loss: 0.6294 - sparse_categorical_crossentropy: 0.4706 - sparse_categorical_accuracy: 0.8317 - adversarial_loss: 0.7930\n",
      "Epoch 20/20\n",
      "1563/1563 [==============================] - 32s 21ms/step - loss: 0.6144 - sparse_categorical_crossentropy: 0.4527 - sparse_categorical_accuracy: 0.8390 - adversarial_loss: 0.8075\n"
     ]
    },
    {
     "data": {
      "text/plain": [
       "<tensorflow.python.keras.callbacks.History at 0x7f5cc5938ac8>"
      ]
     },
     "execution_count": 31,
     "metadata": {
      "tags": []
     },
     "output_type": "execute_result"
    }
   ],
   "source": [
    "adv_model.compile(optimizer='adam', loss='sparse_categorical_crossentropy',\n",
    "                   metrics=['accuracy'])\n",
    "adv_model.fit(train_set_for_adv_model, epochs=HPARAMS.epochs)"
   ]
  },
  {
   "cell_type": "code",
   "execution_count": 0,
   "metadata": {
    "colab": {
     "base_uri": "https://localhost:8080/",
     "height": 71
    },
    "colab_type": "code",
    "id": "3v_Jn7wuviZx",
    "outputId": "77b32c3b-3cbf-4387-a8dc-63e0cd5acfa1"
   },
   "outputs": [
    {
     "name": "stdout",
     "output_type": "stream",
     "text": [
      "313/313 [==============================] - 6s 18ms/step - loss: 1.1584 - sparse_categorical_crossentropy: 0.9895 - sparse_categorical_accuracy: 0.6937 - adversarial_loss: 0.8441\n",
      "accuracy: 0.6937\n"
     ]
    }
   ],
   "source": [
    "results = adv_model.evaluate(test_set_for_adv_model)\n",
    "named_results = dict(zip(adv_model.metrics_names, results))\n",
    "print('accuracy:', named_results['sparse_categorical_accuracy'])"
   ]
  },
  {
   "cell_type": "markdown",
   "metadata": {
    "colab_type": "text",
    "id": "LgnslZYk9Acg"
   },
   "source": [
    "We can see that the adversarial-regularized model also performs very well (69%\n",
    "accuracy) on the test set."
   ]
  },
  {
   "cell_type": "markdown",
   "metadata": {
    "colab_type": "text",
    "id": "HXK9MGG8lBX3"
   },
   "source": [
    "## Robustness under Adversarial perturbations\n",
    "\n",
    "Now we compare the base model and the adversarial-regularized model for\n",
    "robustness under adversarial perturbation.\n",
    "\n",
    "We will use the `AdversarialRegularization.perturb_on_batch` function for\n",
    "generating adversarially perturbed examples. And we would like the generation\n",
    "based on the base model. To do so, we wrap the base model with\n",
    "`AdversarialRegularization`. Note that as long as we don't invoke training (`Model.fit`), the learned variables in the model won't change and the model is\n",
    "still the same one as in section [Base Model](#scrollTo=JrrMpPNmpCKK)."
   ]
  },
  {
   "cell_type": "code",
   "execution_count": 0,
   "metadata": {
    "colab": {},
    "colab_type": "code",
    "id": "FLkYw54pvxJO"
   },
   "outputs": [],
   "source": [
    "reference_model = nsl.keras.AdversarialRegularization(\n",
    "    base_model,\n",
    "    label_keys=[LABEL_INPUT_NAME],\n",
    "    adv_config=adv_config)\n",
    "reference_model.compile(\n",
    "    optimizer='adam',\n",
    "    loss='sparse_categorical_crossentropy',\n",
    "    metrics=['accuracy'])"
   ]
  },
  {
   "cell_type": "markdown",
   "metadata": {
    "colab_type": "text",
    "id": "DR0Rn5rxBeDh"
   },
   "source": [
    "We collect in a dictionary the models to be evaluted, and also create a metric\n",
    "object for each of the models.\n",
    "\n",
    "Note that we take `adv_model.base_model` in order to have the same input format\n",
    "(not requiring label information) as the base model. The learned variables in\n",
    "`adv_model.base_model` are the same as those in `adv_model`."
   ]
  },
  {
   "cell_type": "code",
   "execution_count": 0,
   "metadata": {
    "colab": {},
    "colab_type": "code",
    "id": "igRBxPlPm_JE"
   },
   "outputs": [],
   "source": [
    "models_to_eval = {\n",
    "    'base': base_model,\n",
    "    'adv-regularized': adv_model.base_model\n",
    "}\n",
    "metrics = {\n",
    "    name: tf.keras.metrics.SparseCategoricalAccuracy()\n",
    "    for name in models_to_eval.keys()\n",
    "}"
   ]
  },
  {
   "cell_type": "markdown",
   "metadata": {
    "colab_type": "text",
    "id": "E5Ch8Y9ddOhJ"
   },
   "source": []
  },
  {
   "cell_type": "markdown",
   "metadata": {
    "colab_type": "text",
    "id": "BAPYegAbC8mZ"
   },
   "source": [
    "Here is the loop to generate perturbed examples and to evaluate models with\n",
    "them. We save the perturbed images, labels, and predictions for visualization\n",
    "in the next section."
   ]
  },
  {
   "cell_type": "code",
   "execution_count": 0,
   "metadata": {
    "colab": {
     "base_uri": "https://localhost:8080/",
     "height": 51
    },
    "colab_type": "code",
    "id": "IGnLXhswmUN8",
    "outputId": "01d8d732-2dfd-49e2-d204-f214030eac67"
   },
   "outputs": [
    {
     "name": "stdout",
     "output_type": "stream",
     "text": [
      "base model accuracy: 0.070700\n",
      "adv-regularized model accuracy: 0.369700\n"
     ]
    }
   ],
   "source": [
    "perturbed_images, labels, predictions = [], [], []\n",
    "\n",
    "for batch in test_set_for_adv_model:\n",
    "  perturbed_batch = reference_model.perturb_on_batch(batch)\n",
    "  # Clipping makes perturbed examples have the same range as regular ones.\n",
    "  perturbed_batch[IMAGE_INPUT_NAME] = tf.clip_by_value(                          \n",
    "      perturbed_batch[IMAGE_INPUT_NAME], 0.0, 1.0)\n",
    "  y_true = perturbed_batch.pop(LABEL_INPUT_NAME)\n",
    "  perturbed_images.append(perturbed_batch[IMAGE_INPUT_NAME].numpy())\n",
    "  labels.append(y_true.numpy())\n",
    "  predictions.append({})\n",
    "  for name, model in models_to_eval.items():\n",
    "    y_pred = model(perturbed_batch)\n",
    "    metrics[name](y_true, y_pred)\n",
    "    predictions[-1][name] = tf.argmax(y_pred, axis=-1).numpy()\n",
    "\n",
    "for name, metric in metrics.items():\n",
    "  print('%s model accuracy: %f' % (name, metric.result().numpy()))"
   ]
  },
  {
   "cell_type": "code",
   "execution_count": 0,
   "metadata": {
    "colab": {
     "base_uri": "https://localhost:8080/",
     "height": 34
    },
    "colab_type": "code",
    "id": "WpW6YpuXUFx2",
    "outputId": "dee20785-89ae-47c1-eb74-2d62a8912e7c"
   },
   "outputs": [
    {
     "data": {
      "text/plain": [
       "<tf.Tensor: id=989023, shape=(), dtype=float32, numpy=0.3697>"
      ]
     },
     "execution_count": 36,
     "metadata": {
      "tags": []
     },
     "output_type": "execute_result"
    }
   ],
   "source": [
    "metric.result()"
   ]
  },
  {
   "cell_type": "markdown",
   "metadata": {
    "colab_type": "text",
    "id": "S5cC3XbRGFJQ"
   },
   "source": [
    "We can see that the accuracy of the base model drops dramatically (from 69% to\n",
    "about 7%) when the input is perturbed adversarially. On the other hand, the\n",
    "accuracy of the adversarial-regularized model only degrades a little (from 69%\n",
    "to 36%). This demonstrates the effectiveness of adversarial learning on\n",
    "improving model's robustness."
   ]
  },
  {
   "cell_type": "markdown",
   "metadata": {
    "colab_type": "text",
    "id": "YfB5oBBfWLRK"
   },
   "source": [
    "## Examples of adversarially-perturbed images\n",
    "\n",
    "Here we take a look at the adversarially-perturbed images. We can see that the\n",
    "perturbed images still show digits recognizable by human, but can successfully\n",
    "fool the base model."
   ]
  },
  {
   "cell_type": "code",
   "execution_count": 0,
   "metadata": {
    "colab": {
     "base_uri": "https://localhost:8080/",
     "height": 913
    },
    "colab_type": "code",
    "id": "3iK9vO_xKJfg",
    "outputId": "37557ef8-433f-4a27-f62e-e899d8b829df"
   },
   "outputs": [
    {
     "name": "stdout",
     "output_type": "stream",
     "text": [
      "accuracy in batch 0:\n",
      "base model: 0 / 32\n",
      "adv-regularized model: 14 / 32\n"
     ]
    },
    {
     "data": {
      "image/png": "[encoded data removed]",
      "text/plain": [
       "<Figure size 1080x1080 with 32 Axes>"
      ]
     },
     "metadata": {
      "tags": []
     },
     "output_type": "display_data"
    }
   ],
   "source": [
    "batch_index = 0\n",
    "\n",
    "batch_image = perturbed_images[batch_index]\n",
    "batch_label = labels[batch_index]\n",
    "batch_pred = predictions[batch_index]\n",
    "\n",
    "batch_size = HPARAMS.batch_size\n",
    "n_col = 4\n",
    "n_row = (batch_size + n_col - 1) / n_col\n",
    "\n",
    "print('accuracy in batch %d:' % batch_index)\n",
    "for name, pred in batch_pred.items():\n",
    "  print('%s model: %d / %d' % (name, np.sum(batch_label == pred), batch_size))\n",
    "\n",
    "plt.figure(figsize=(15, 15))\n",
    "for i, (image, y) in enumerate(zip(batch_image, batch_label)):\n",
    "  y_base = batch_pred['base'][i]\n",
    "  y_adv = batch_pred['adv-regularized'][i]\n",
    "  plt.subplot(n_row, n_col, i+1)\n",
    "  plt.title('true: %d, base: %d, adv: %d' % (y, y_base, y_adv))\n",
    "  plt.imshow(tf.keras.preprocessing.image.array_to_img(image), cmap='gray')\n",
    "  plt.axis('off')\n",
    "\n",
    "plt.show()"
   ]
  },
  {
   "cell_type": "markdown",
   "metadata": {
    "colab_type": "text",
    "id": "g_vo1pWYJlHP"
   },
   "source": [
    "## Conclusion\n",
    "\n",
    "We have demonstrated the use of adversarial learning for image classification\n",
    "using the Neural Structured Learning (NSL) framework. We encourage users to\n",
    "experiment with different adversarial settings (in hyper-parameters) and to see\n",
    "how they affect model robustness."
   ]
  },
  {
   "cell_type": "markdown",
   "metadata": {
    "colab_type": "text",
    "id": "lQfFHTnNHQc-"
   },
   "source": [
    "Referrence : https://www.tensorflow.org/neural_structured_learning/framework#step-by-step_tutorials"
   ]
  },
  {
   "cell_type": "code",
   "execution_count": 0,
   "metadata": {
    "colab": {},
    "colab_type": "code",
    "id": "KgLQLmIlHUzh"
   },
   "outputs": [],
   "source": []
  }
 ],
 "metadata": {
  "accelerator": "GPU",
  "colab": {
   "collapsed_sections": [],
   "name": "Copy of Cifar10 Adversarial regularization for image classification 9th Dec",
   "provenance": [],
   "toc_visible": true
  },
  "kernelspec": {
   "display_name": "Python 3",
   "language": "python",
   "name": "python3"
  },
  "language_info": {
   "codemirror_mode": {
    "name": "ipython",
    "version": 3
   },
   "file_extension": ".py",
   "mimetype": "text/x-python",
   "name": "python",
   "nbconvert_exporter": "python",
   "pygments_lexer": "ipython3",
   "version": "3.7.4"
  },
  "widgets": {
   "application/vnd.jupyter.widget-state+json": {
    "01dee6d64da24ba8b1daedf86a573572": {
     "model_module": "@jupyter-widgets/controls",
     "model_name": "HBoxModel",
     "state": {
      "_dom_classes": [],
      "_model_module": "@jupyter-widgets/controls",
      "_model_module_version": "1.5.0",
      "_model_name": "HBoxModel",
      "_view_count": null,
      "_view_module": "@jupyter-widgets/controls",
      "_view_module_version": "1.5.0",
      "_view_name": "HBoxView",
      "box_style": "",
      "children": [
       "IPY_MODEL_bd869fd0c64d4b3e82c7d8b080fdfc25",
       "IPY_MODEL_24392cd38a50414bbd5be238fc147b23"
      ],
      "layout": "IPY_MODEL_5e6d075ac01141b49d17857283664eeb"
     }
    },
    "03325b29486f49828b0a2652680c3049": {
     "model_module": "@jupyter-widgets/controls",
     "model_name": "HBoxModel",
     "state": {
      "_dom_classes": [],
      "_model_module": "@jupyter-widgets/controls",
      "_model_module_version": "1.5.0",
      "_model_name": "HBoxModel",
      "_view_count": null,
      "_view_module": "@jupyter-widgets/controls",
      "_view_module_version": "1.5.0",
      "_view_name": "HBoxView",
      "box_style": "",
      "children": [
       "IPY_MODEL_066e0f2f28054323bfef4a75c5e30529",
       "IPY_MODEL_e5edd5845cb6444e92ff3fb5877da6ea"
      ],
      "layout": "IPY_MODEL_5e6b863333a941ec9e2463b72518f057"
     }
    },
    "0729b87a0d8d4ad4a421d81423d8f839": {
     "model_module": "@jupyter-widgets/controls",
     "model_name": "HBoxModel",
     "state": {
      "_dom_classes": [],
      "_model_module": "@jupyter-widgets/controls",
      "_model_module_version": "1.5.0",
      "_model_name": "HBoxModel",
      "_view_count": null,
      "_view_module": "@jupyter-widgets/controls",
      "_view_module_version": "1.5.0",
      "_view_name": "HBoxView",
      "box_style": "",
      "children": [
       "IPY_MODEL_71b42d0208304a82a023af8fad100820",
       "IPY_MODEL_5ccd571803314682819a35d6fa9b44d5"
      ],
      "layout": "IPY_MODEL_3497760cf959434b84cb88b02f2723d8"
     }
    },
    "0e4023fe7ffc4b3fa5001c4cba390483": {
     "model_module": "@jupyter-widgets/controls",
     "model_name": "HBoxModel",
     "state": {
      "_dom_classes": [],
      "_model_module": "@jupyter-widgets/controls",
      "_model_module_version": "1.5.0",
      "_model_name": "HBoxModel",
      "_view_count": null,
      "_view_module": "@jupyter-widgets/controls",
      "_view_module_version": "1.5.0",
      "_view_name": "HBoxView",
      "box_style": "",
      "children": [
       "IPY_MODEL_ed8f272e70504a35a871a241ee3176d9",
       "IPY_MODEL_e1c28d603c1841dfae40af40c03dc249"
      ],
      "layout": "IPY_MODEL_fed1f16a20764352b0e944ab4448541b"
     }
    },
    "1d2df0f6078b499eba12e04bde892375": {
     "model_module": "@jupyter-widgets/controls",
     "model_name": "HBoxModel",
     "state": {
      "_dom_classes": [],
      "_model_module": "@jupyter-widgets/controls",
      "_model_module_version": "1.5.0",
      "_model_name": "HBoxModel",
      "_view_count": null,
      "_view_module": "@jupyter-widgets/controls",
      "_view_module_version": "1.5.0",
      "_view_name": "HBoxView",
      "box_style": "",
      "children": [
       "IPY_MODEL_63fdcf36fef14337a82fe4d7df48e6f8",
       "IPY_MODEL_3730607238b446a1b9af7e268882b48b"
      ],
      "layout": "IPY_MODEL_c3c1542f5da74bb79a24a38dd8247439"
     }
    },
    "202ba7c57b3a497ea130342bb48bb83a": {
     "model_module": "@jupyter-widgets/controls",
     "model_name": "HBoxModel",
     "state": {
      "_dom_classes": [],
      "_model_module": "@jupyter-widgets/controls",
      "_model_module_version": "1.5.0",
      "_model_name": "HBoxModel",
      "_view_count": null,
      "_view_module": "@jupyter-widgets/controls",
      "_view_module_version": "1.5.0",
      "_view_name": "HBoxView",
      "box_style": "",
      "children": [
       "IPY_MODEL_e9386967e0a6482da4e51da0c85b2450",
       "IPY_MODEL_acaece31c25c472c86f6234b6305dc10"
      ],
      "layout": "IPY_MODEL_3cb26fbc7d1645a4a312f1f83f5cc4d6"
     }
    },
    "21866d13a0ee4efcab48431fb72a647a": {
     "model_module": "@jupyter-widgets/controls",
     "model_name": "HBoxModel",
     "state": {
      "_dom_classes": [],
      "_model_module": "@jupyter-widgets/controls",
      "_model_module_version": "1.5.0",
      "_model_name": "HBoxModel",
      "_view_count": null,
      "_view_module": "@jupyter-widgets/controls",
      "_view_module_version": "1.5.0",
      "_view_name": "HBoxView",
      "box_style": "",
      "children": [
       "IPY_MODEL_38c5b9c59ed04cc69ee5524444649515",
       "IPY_MODEL_33b0ae373b6441f4a091537593791085"
      ],
      "layout": "IPY_MODEL_06168b5fcb6b4fc686724ff2736d3c31"
     }
    },
    "2696fad1867b4519bf3fa059cf35b893": {
     "model_module": "@jupyter-widgets/controls",
     "model_name": "HBoxModel",
     "state": {
      "_dom_classes": [],
      "_model_module": "@jupyter-widgets/controls",
      "_model_module_version": "1.5.0",
      "_model_name": "HBoxModel",
      "_view_count": null,
      "_view_module": "@jupyter-widgets/controls",
      "_view_module_version": "1.5.0",
      "_view_name": "HBoxView",
      "box_style": "",
      "children": [
       "IPY_MODEL_fc18d95b2d0e4aa582dca13dac5f1d6a",
       "IPY_MODEL_e23924a6c63440d38c39f8ebf7f2efe7"
      ],
      "layout": "IPY_MODEL_a01803ca5f2e4d47a978edabc349be83"
     }
    },
    "2a693b1c17884e56b61e79fdcaec1b76": {
     "model_module": "@jupyter-widgets/controls",
     "model_name": "HBoxModel",
     "state": {
      "_dom_classes": [],
      "_model_module": "@jupyter-widgets/controls",
      "_model_module_version": "1.5.0",
      "_model_name": "HBoxModel",
      "_view_count": null,
      "_view_module": "@jupyter-widgets/controls",
      "_view_module_version": "1.5.0",
      "_view_name": "HBoxView",
      "box_style": "",
      "children": [
       "IPY_MODEL_33695f6d56c34024aa2692f52a8e515f",
       "IPY_MODEL_921d12f5e8c04cbd89a78866582312fe"
      ],
      "layout": "IPY_MODEL_8062b5581cc24f47b2bbfa75450f6009"
     }
    },
    "31628c2b9a27436dac8cc9763204c892": {
     "model_module": "@jupyter-widgets/controls",
     "model_name": "HBoxModel",
     "state": {
      "_dom_classes": [],
      "_model_module": "@jupyter-widgets/controls",
      "_model_module_version": "1.5.0",
      "_model_name": "HBoxModel",
      "_view_count": null,
      "_view_module": "@jupyter-widgets/controls",
      "_view_module_version": "1.5.0",
      "_view_name": "HBoxView",
      "box_style": "",
      "children": [
       "IPY_MODEL_515bda4ef4aa40219c7fad7a4ebdaf38",
       "IPY_MODEL_06493d897da34450a88eea95059a1b11"
      ],
      "layout": "IPY_MODEL_c383257ce6b24a558bdac87305079583"
     }
    },
    "3ac82725c0204616a6ad24572ded317e": {
     "model_module": "@jupyter-widgets/controls",
     "model_name": "HBoxModel",
     "state": {
      "_dom_classes": [],
      "_model_module": "@jupyter-widgets/controls",
      "_model_module_version": "1.5.0",
      "_model_name": "HBoxModel",
      "_view_count": null,
      "_view_module": "@jupyter-widgets/controls",
      "_view_module_version": "1.5.0",
      "_view_name": "HBoxView",
      "box_style": "",
      "children": [
       "IPY_MODEL_3d237a5edeea4e99907cbfedf32ad580",
       "IPY_MODEL_52845a9a281f4a478cd8a97c85c27702"
      ],
      "layout": "IPY_MODEL_3243aae99fd8430eafdf519ac456a658"
     }
    },
    "5568016e96e64737b3bc5a51e121409b": {
     "model_module": "@jupyter-widgets/controls",
     "model_name": "HBoxModel",
     "state": {
      "_dom_classes": [],
      "_model_module": "@jupyter-widgets/controls",
      "_model_module_version": "1.5.0",
      "_model_name": "HBoxModel",
      "_view_count": null,
      "_view_module": "@jupyter-widgets/controls",
      "_view_module_version": "1.5.0",
      "_view_name": "HBoxView",
      "box_style": "",
      "children": [
       "IPY_MODEL_efc7fbd93dfe4355aba2c4fbcae1bd15",
       "IPY_MODEL_0a71e7936d68419594e876cf0c5eda88"
      ],
      "layout": "IPY_MODEL_f40f5dcf073b4edbb0512203da0b822f"
     }
    },
    "6474930decf5474ebb05ef44263d2392": {
     "model_module": "@jupyter-widgets/controls",
     "model_name": "HBoxModel",
     "state": {
      "_dom_classes": [],
      "_model_module": "@jupyter-widgets/controls",
      "_model_module_version": "1.5.0",
      "_model_name": "HBoxModel",
      "_view_count": null,
      "_view_module": "@jupyter-widgets/controls",
      "_view_module_version": "1.5.0",
      "_view_name": "HBoxView",
      "box_style": "",
      "children": [
       "IPY_MODEL_2967cc0083b4433082fa706f58b61f62",
       "IPY_MODEL_c6e7ff20eb3d4038bb3dac5ed1bd8062"
      ],
      "layout": "IPY_MODEL_d87688fd4e0e43b3a349f22dfd2b25a0"
     }
    },
    "71ab0630ea5a4910b43a8d4ef7bc2aa1": {
     "model_module": "@jupyter-widgets/controls",
     "model_name": "HBoxModel",
     "state": {
      "_dom_classes": [],
      "_model_module": "@jupyter-widgets/controls",
      "_model_module_version": "1.5.0",
      "_model_name": "HBoxModel",
      "_view_count": null,
      "_view_module": "@jupyter-widgets/controls",
      "_view_module_version": "1.5.0",
      "_view_name": "HBoxView",
      "box_style": "",
      "children": [
       "IPY_MODEL_ea07c38e9ec94c3a82a149165259589c",
       "IPY_MODEL_ceca71595cb748be8bc3091e92d88e4f"
      ],
      "layout": "IPY_MODEL_bfa746c5a36c4b2e89cc2687cd135f47"
     }
    },
    "7218cbd1012246aab9b1349153cd18cd": {
     "model_module": "@jupyter-widgets/controls",
     "model_name": "HBoxModel",
     "state": {
      "_dom_classes": [],
      "_model_module": "@jupyter-widgets/controls",
      "_model_module_version": "1.5.0",
      "_model_name": "HBoxModel",
      "_view_count": null,
      "_view_module": "@jupyter-widgets/controls",
      "_view_module_version": "1.5.0",
      "_view_name": "HBoxView",
      "box_style": "",
      "children": [
       "IPY_MODEL_f0e25ab040834d3bbe67a1695dc737cf",
       "IPY_MODEL_99038118e4954d60b53770a7a527fdc7"
      ],
      "layout": "IPY_MODEL_cf61c90803534a1783fa033f03617da3"
     }
    },
    "8693365f5fa64e3f9c9d471d08adff4c": {
     "model_module": "@jupyter-widgets/controls",
     "model_name": "HBoxModel",
     "state": {
      "_dom_classes": [],
      "_model_module": "@jupyter-widgets/controls",
      "_model_module_version": "1.5.0",
      "_model_name": "HBoxModel",
      "_view_count": null,
      "_view_module": "@jupyter-widgets/controls",
      "_view_module_version": "1.5.0",
      "_view_name": "HBoxView",
      "box_style": "",
      "children": [
       "IPY_MODEL_81e998978b97453e9533d5eb85844965",
       "IPY_MODEL_58bba2de81b844f2a62ee3c158b1ca49"
      ],
      "layout": "IPY_MODEL_0df5154d4f8945238d974fc95ad6200e"
     }
    },
    "8a927734e55549f6a4b15a9f25c7bf2f": {
     "model_module": "@jupyter-widgets/controls",
     "model_name": "HBoxModel",
     "state": {
      "_dom_classes": [],
      "_model_module": "@jupyter-widgets/controls",
      "_model_module_version": "1.5.0",
      "_model_name": "HBoxModel",
      "_view_count": null,
      "_view_module": "@jupyter-widgets/controls",
      "_view_module_version": "1.5.0",
      "_view_name": "HBoxView",
      "box_style": "",
      "children": [
       "IPY_MODEL_2785c03677da4c60aa99cf0cc0d6737c",
       "IPY_MODEL_4387b339304d4b0685e649fec07b04c6"
      ],
      "layout": "IPY_MODEL_a8b7ccb0ebc346db8b819a53e5d25b30"
     }
    },
    "9db444575a264440991a0e8548134714": {
     "model_module": "@jupyter-widgets/controls",
     "model_name": "HBoxModel",
     "state": {
      "_dom_classes": [],
      "_model_module": "@jupyter-widgets/controls",
      "_model_module_version": "1.5.0",
      "_model_name": "HBoxModel",
      "_view_count": null,
      "_view_module": "@jupyter-widgets/controls",
      "_view_module_version": "1.5.0",
      "_view_name": "HBoxView",
      "box_style": "",
      "children": [
       "IPY_MODEL_7af244bb38a4476ca5cc166c199fbaef",
       "IPY_MODEL_dfc98cc3c8484046b78f6bc9f9a54cff"
      ],
      "layout": "IPY_MODEL_11805702efe44565a5823074c9714919"
     }
    },
    "a581c2d99a994625be57f2b520148a68": {
     "model_module": "@jupyter-widgets/controls",
     "model_name": "HBoxModel",
     "state": {
      "_dom_classes": [],
      "_model_module": "@jupyter-widgets/controls",
      "_model_module_version": "1.5.0",
      "_model_name": "HBoxModel",
      "_view_count": null,
      "_view_module": "@jupyter-widgets/controls",
      "_view_module_version": "1.5.0",
      "_view_name": "HBoxView",
      "box_style": "",
      "children": [
       "IPY_MODEL_d16bdfd2733848bdbe01d44f356e9115",
       "IPY_MODEL_7173f25422d6442696cc64830e88a7d0"
      ],
      "layout": "IPY_MODEL_1f89acb83ea8473ba3bbaa95733b5aa2"
     }
    },
    "b27bc3ffbbca498bb0b098c738fe78c7": {
     "model_module": "@jupyter-widgets/controls",
     "model_name": "HBoxModel",
     "state": {
      "_dom_classes": [],
      "_model_module": "@jupyter-widgets/controls",
      "_model_module_version": "1.5.0",
      "_model_name": "HBoxModel",
      "_view_count": null,
      "_view_module": "@jupyter-widgets/controls",
      "_view_module_version": "1.5.0",
      "_view_name": "HBoxView",
      "box_style": "",
      "children": [
       "IPY_MODEL_4406c7e5872640a28ead1314c6307a6d",
       "IPY_MODEL_274252f160fa4b4fa815dff76f17828e"
      ],
      "layout": "IPY_MODEL_c8812080f0294eddb9c86520ecccdfb5"
     }
    },
    "c1b00a72228749f5ae3f0093816418ce": {
     "model_module": "@jupyter-widgets/controls",
     "model_name": "HBoxModel",
     "state": {
      "_dom_classes": [],
      "_model_module": "@jupyter-widgets/controls",
      "_model_module_version": "1.5.0",
      "_model_name": "HBoxModel",
      "_view_count": null,
      "_view_module": "@jupyter-widgets/controls",
      "_view_module_version": "1.5.0",
      "_view_name": "HBoxView",
      "box_style": "",
      "children": [
       "IPY_MODEL_08dd19f7dc79425f93095455ec89e0b6",
       "IPY_MODEL_68dfbd8a40c14d989de898cbf1da5ca3"
      ],
      "layout": "IPY_MODEL_e6b2ab941a91490f99652571b438b953"
     }
    },
    "ca8766f9cb494e3ba1d60175b43c928d": {
     "model_module": "@jupyter-widgets/controls",
     "model_name": "HBoxModel",
     "state": {
      "_dom_classes": [],
      "_model_module": "@jupyter-widgets/controls",
      "_model_module_version": "1.5.0",
      "_model_name": "HBoxModel",
      "_view_count": null,
      "_view_module": "@jupyter-widgets/controls",
      "_view_module_version": "1.5.0",
      "_view_name": "HBoxView",
      "box_style": "",
      "children": [
       "IPY_MODEL_3d47193456d04d79ba21a47c65ab38a1",
       "IPY_MODEL_18cca7f2bb8d4827b97fdf3bd6597d4a"
      ],
      "layout": "IPY_MODEL_163f3bd02e724485bd0101ea43fdeac6"
     }
    },
    "d09426fe9b5b44529906340a7b29f8e0": {
     "model_module": "@jupyter-widgets/controls",
     "model_name": "HBoxModel",
     "state": {
      "_dom_classes": [],
      "_model_module": "@jupyter-widgets/controls",
      "_model_module_version": "1.5.0",
      "_model_name": "HBoxModel",
      "_view_count": null,
      "_view_module": "@jupyter-widgets/controls",
      "_view_module_version": "1.5.0",
      "_view_name": "HBoxView",
      "box_style": "",
      "children": [
       "IPY_MODEL_71bbd06b11c0425ca287dc5e37a9411a",
       "IPY_MODEL_694ba06ffba545dda7bb36961f3ba8ce"
      ],
      "layout": "IPY_MODEL_214e3d635b39455b9bb0fda7ba811fd0"
     }
    },
    "d0da5febd5b241d4bf78914098b2145f": {
     "model_module": "@jupyter-widgets/controls",
     "model_name": "HBoxModel",
     "state": {
      "_dom_classes": [],
      "_model_module": "@jupyter-widgets/controls",
      "_model_module_version": "1.5.0",
      "_model_name": "HBoxModel",
      "_view_count": null,
      "_view_module": "@jupyter-widgets/controls",
      "_view_module_version": "1.5.0",
      "_view_name": "HBoxView",
      "box_style": "",
      "children": [
       "IPY_MODEL_0632963574904bb78e21c714a667f9ba",
       "IPY_MODEL_0f10c6d0790a4d4db5f89597449af2c2"
      ],
      "layout": "IPY_MODEL_98497a669933419c99c864046a97b3aa"
     }
    },
    "ec9ea6188ff94467bbe5560215f3cdb6": {
     "model_module": "@jupyter-widgets/controls",
     "model_name": "HBoxModel",
     "state": {
      "_dom_classes": [],
      "_model_module": "@jupyter-widgets/controls",
      "_model_module_version": "1.5.0",
      "_model_name": "HBoxModel",
      "_view_count": null,
      "_view_module": "@jupyter-widgets/controls",
      "_view_module_version": "1.5.0",
      "_view_name": "HBoxView",
      "box_style": "",
      "children": [
       "IPY_MODEL_51f40e9d2b2d4ec8abbafccb1da6740d",
       "IPY_MODEL_2ebe6fc028b24760a8333e2b1761f31c"
      ],
      "layout": "IPY_MODEL_afe278fa3ddd44f5bfbe3cc2a37b11af"
     }
    },
    "ee05df5a7b8149458432c702ea086f13": {
     "model_module": "@jupyter-widgets/controls",
     "model_name": "HBoxModel",
     "state": {
      "_dom_classes": [],
      "_model_module": "@jupyter-widgets/controls",
      "_model_module_version": "1.5.0",
      "_model_name": "HBoxModel",
      "_view_count": null,
      "_view_module": "@jupyter-widgets/controls",
      "_view_module_version": "1.5.0",
      "_view_name": "HBoxView",
      "box_style": "",
      "children": [
       "IPY_MODEL_5db70ac1ee3548b0a2e11e2db12cc01a",
       "IPY_MODEL_f4b2a6f2026648bfbdb6cde4c9395eaf"
      ],
      "layout": "IPY_MODEL_49e2374cae084bb3bae7dd24a54b9d49"
     }
    },
    "f5105b434c1849ada68549abfa7caa03": {
     "model_module": "@jupyter-widgets/controls",
     "model_name": "HBoxModel",
     "state": {
      "_dom_classes": [],
      "_model_module": "@jupyter-widgets/controls",
      "_model_module_version": "1.5.0",
      "_model_name": "HBoxModel",
      "_view_count": null,
      "_view_module": "@jupyter-widgets/controls",
      "_view_module_version": "1.5.0",
      "_view_name": "HBoxView",
      "box_style": "",
      "children": [
       "IPY_MODEL_132c0a9bfc934110b08aec300f6aa17f",
       "IPY_MODEL_9e05a771687044d59a3ee91ac3afeb49"
      ],
      "layout": "IPY_MODEL_0f886b9c85a74562859720ead97b0281"
     }
    },
    "fa2d9520b6244b0490aee0c525123df5": {
     "model_module": "@jupyter-widgets/controls",
     "model_name": "HBoxModel",
     "state": {
      "_dom_classes": [],
      "_model_module": "@jupyter-widgets/controls",
      "_model_module_version": "1.5.0",
      "_model_name": "HBoxModel",
      "_view_count": null,
      "_view_module": "@jupyter-widgets/controls",
      "_view_module_version": "1.5.0",
      "_view_name": "HBoxView",
      "box_style": "",
      "children": [
       "IPY_MODEL_ae6f86fccc6540e683fa9ba1b70e1f77",
       "IPY_MODEL_4a0dcd50561e40c2934c4d8d993f732d"
      ],
      "layout": "IPY_MODEL_6d61e91a7fac4399bef16a152a2f9d07"
     }
    },
    "fc120310e73e415d8e1ffc04d9c8b605": {
     "model_module": "@jupyter-widgets/controls",
     "model_name": "HBoxModel",
     "state": {
      "_dom_classes": [],
      "_model_module": "@jupyter-widgets/controls",
      "_model_module_version": "1.5.0",
      "_model_name": "HBoxModel",
      "_view_count": null,
      "_view_module": "@jupyter-widgets/controls",
      "_view_module_version": "1.5.0",
      "_view_name": "HBoxView",
      "box_style": "",
      "children": [
       "IPY_MODEL_0605be2aec334d6199613de4a29f73f0",
       "IPY_MODEL_5c4681b3cf714702b11259b5b3d231fb"
      ],
      "layout": "IPY_MODEL_2a0e1aacaadb467e857ebbdd3fb96570"
     }
    }
   }
  }
 },
 "nbformat": 4,
 "nbformat_minor": 1
}
