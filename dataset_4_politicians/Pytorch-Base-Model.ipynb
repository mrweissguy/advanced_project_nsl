{
 "cells": [
  {
   "cell_type": "markdown",
   "metadata": {},
   "source": [
    "# PyTorch implementation of base model on the politician data\n",
    "\n",
    "The purpose of this notebook is to make a base neural network on the prepared politician dataset and do so with another library independent of Tensorflow, Keras or NSL. For this purpose, PyTorch has been used. The intent is to provide a control and reference point for subsequent implementations with the NSL library.\n",
    "\n",
    "As this model is supposed to mirror the 'base model' created with the NSL library, this network will only take in and work with vertex data in `H115_nodes.csv`, which contains the following features:\n",
    "\n",
    "* `WikiPageName`\n",
    "* `Party`\n",
    "* `State`\n",
    "* `Sex`\n",
    "* `Age`\n",
    "\n",
    "The network will do **node classification** as it will predict the party of a given person based on the other attributes.\n",
    "\n",
    "## References\n",
    "\n",
    "- https://pytorch.org\n",
    "- https://medium.com/biaslyai/pytorch-introduction-to-neural-network-feedforward-neural-network-model-e7231cff47cb"
   ]
  },
  {
   "cell_type": "code",
   "execution_count": 1,
   "metadata": {},
   "outputs": [],
   "source": [
    "import csv\n",
    "import random\n",
    "import math\n",
    "import numpy as np\n",
    "from sklearn.metrics import accuracy_score"
   ]
  },
  {
   "cell_type": "markdown",
   "metadata": {},
   "source": [
    "# Preparing data"
   ]
  },
  {
   "cell_type": "code",
   "execution_count": 2,
   "metadata": {},
   "outputs": [],
   "source": [
    "# load data into list of lists\n",
    "data = list()\n",
    "with open('H115_nodes.csv') as csv_current:\n",
    "        csvReader = csv.reader(csv_current)\n",
    "        next(csvReader, None)  # skip the header row\n",
    "        for row in csvReader:\n",
    "            #print(row)\n",
    "            wikipagename = row[0]\n",
    "            party = row[1]\n",
    "            state = row[2]\n",
    "            sex = row[3]\n",
    "            age = row[4]\n",
    "            data.append([wikipagename, party, state, sex, age])\n",
    "            #break"
   ]
  },
  {
   "cell_type": "code",
   "execution_count": 3,
   "metadata": {},
   "outputs": [
    {
     "name": "stdout",
     "output_type": "stream",
     "text": [
      "445\n"
     ]
    }
   ],
   "source": [
    "print(len(data)) # number of politicians"
   ]
  },
  {
   "cell_type": "code",
   "execution_count": 4,
   "metadata": {},
   "outputs": [],
   "source": [
    "# defining splits\n",
    "n_train = 0.8 # 80% of data = training data\n",
    "n_val = 0.1 # 10% of data = validation data\n",
    "# n_test will be the rest\n",
    "\n",
    "n_train = int(len(data)*n_train)\n",
    "n_val = math.ceil(len(data)*n_val)\n",
    "n_test = len(data) - n_train - n_val\n",
    "\n",
    "assert n_train + n_val + n_test == len(data)"
   ]
  },
  {
   "cell_type": "code",
   "execution_count": 5,
   "metadata": {},
   "outputs": [],
   "source": [
    "# shuffle data\n",
    "data_shuffled = data.copy()\n",
    "random.shuffle(data_shuffled)"
   ]
  },
  {
   "cell_type": "code",
   "execution_count": 6,
   "metadata": {},
   "outputs": [],
   "source": [
    "# split into features and labels\n",
    "features = list()\n",
    "targets = list()\n",
    "for s in data_shuffled:\n",
    "    features.append([s[0],s[2],s[3],s[4]])\n",
    "    targets.append(s[1])"
   ]
  },
  {
   "cell_type": "code",
   "execution_count": 7,
   "metadata": {},
   "outputs": [],
   "source": [
    "features_wiki = []\n",
    "features_state = []\n",
    "features_sex = []\n",
    "features_age = []\n",
    "for f in features:\n",
    "    features_wiki.append(f[0])\n",
    "    features_state.append(f[1])\n",
    "    features_sex.append(f[2])\n",
    "    features_age.append(f[3])\n",
    "    \n",
    "assert len(features_wiki) == len(features_state) == len(features_sex) == len(features_age)"
   ]
  },
  {
   "cell_type": "markdown",
   "metadata": {},
   "source": [
    "## One-hot encoding of features and targets"
   ]
  },
  {
   "cell_type": "code",
   "execution_count": 8,
   "metadata": {},
   "outputs": [
    {
     "data": {
      "text/plain": [
       "array([['Democratic'],\n",
       "       ['Republican'],\n",
       "       ['Republican'],\n",
       "       ['Republican'],\n",
       "       ['Democratic']], dtype='<U10')"
      ]
     },
     "execution_count": 8,
     "metadata": {},
     "output_type": "execute_result"
    }
   ],
   "source": [
    "np.array(targets[0:5]).reshape(-1, 1) # testing example"
   ]
  },
  {
   "cell_type": "code",
   "execution_count": 9,
   "metadata": {},
   "outputs": [],
   "source": [
    "from sklearn.preprocessing import OneHotEncoder\n",
    "\n",
    "def onehotencode(l):\n",
    "    l = np.array(l).reshape(-1, 1) # reshape to proper format\n",
    "    cat = OneHotEncoder()\n",
    "    #X = np.array([['a', 'b', 'a', 'c'], [0, 1, 0, 1]], dtype=object).T\n",
    "    onehotvectors = cat.fit_transform(l).toarray()\n",
    "    return onehotvectors"
   ]
  },
  {
   "cell_type": "code",
   "execution_count": 10,
   "metadata": {},
   "outputs": [
    {
     "name": "stdout",
     "output_type": "stream",
     "text": [
      "[1. 0.] = Democratic\n",
      "[1. 0.] = Democratic\n"
     ]
    },
    {
     "name": "stderr",
     "output_type": "stream",
     "text": [
      "/anaconda2/envs/anaconda37/lib/python3.7/site-packages/sklearn/preprocessing/_encoders.py:368: FutureWarning: The handling of integer data will change in version 0.22. Currently, the categories are determined based on the range [0, max(values)], while in the future they will be determined based on the unique values.\n",
      "If you want the future behaviour and silence this warning, you can specify \"categories='auto'\".\n",
      "In case you used a LabelEncoder before this OneHotEncoder to convert the categories to integers, then you can now use the OneHotEncoder directly.\n",
      "  warnings.warn(msg, FutureWarning)\n"
     ]
    }
   ],
   "source": [
    "# one-hot encoding of target lists\n",
    "targets_oh = onehotencode(targets)\n",
    "print(targets_oh[0], \"=\", targets[0])\n",
    "print(targets_oh[5], \"=\", targets[5])\n",
    "\n",
    "# binary target encoding\n",
    "targets_binary = np.array([1 if t == 'Republican' else 0 for t in targets])\n",
    "\n",
    "# one-hot encoding of each attribute in the feature lists\n",
    "features_wiki_oh = onehotencode(features_wiki)\n",
    "features_state_oh = onehotencode(features_state)\n",
    "features_sex_oh = onehotencode(features_sex)\n",
    "features_age_oh = onehotencode(features_age)\n",
    "\n",
    "# assemble one-hot encoded features features - EXCEPT the wikipage - this is not an attribute we will train on\n",
    "features_oh = list()\n",
    "for i,v in enumerate(features_state_oh):\n",
    "    features_oh.append([v, features_sex_oh[i], features_age_oh[i]])"
   ]
  },
  {
   "cell_type": "code",
   "execution_count": 11,
   "metadata": {},
   "outputs": [
    {
     "data": {
      "text/plain": [
       "54"
      ]
     },
     "execution_count": 11,
     "metadata": {},
     "output_type": "execute_result"
    }
   ],
   "source": [
    "len(features_age_oh[0])"
   ]
  },
  {
   "cell_type": "code",
   "execution_count": 12,
   "metadata": {},
   "outputs": [],
   "source": [
    "# dictionaries to translate from one-hot vector to actual and vice versa\n",
    "dict_wiki2vec = dict(zip(features_wiki, features_wiki_oh))\n",
    "#dict_vec2wiki = dict(zip(features_wiki_oh.tolist(), features_wiki))\n",
    "\n",
    "dict_state2vec = dict(zip(features_state, features_state_oh))\n",
    "#dict_vec2state = dict(zip(features_state_oh, features_state))\n",
    "\n",
    "dict_sex2vec = dict(zip(features_sex, features_sex_oh))\n",
    "#dict_vec2sex = dict(zip(features_sex_oh, features_sex))\n",
    "\n",
    "dict_age2vec = dict(zip(features_age, features_age_oh))\n",
    "#dict_vec2age = dict(zip(features_age_oh, features_age))"
   ]
  },
  {
   "cell_type": "code",
   "execution_count": 13,
   "metadata": {},
   "outputs": [
    {
     "name": "stdout",
     "output_type": "stream",
     "text": [
      "Anna_Eshoo\n",
      "California\n",
      "Female\n",
      "76\n"
     ]
    }
   ],
   "source": [
    "# look up one-hot encode vector in supplied dict to get corresponding value\n",
    "def getonehotvalue(oh_v,d): # v = one-hot vector, d = dict\n",
    "    for k, v in d.items():\n",
    "        if v.tolist() == oh_v.tolist():\n",
    "            return k\n",
    "\n",
    "# testing for markwayne mullin\n",
    "print(getonehotvalue(features_wiki_oh[0],dict_wiki2vec)) # use the wiki specific list\n",
    "print(getonehotvalue(features_oh[0][0],dict_state2vec))\n",
    "print(getonehotvalue(features_oh[0][1],dict_sex2vec))\n",
    "print(getonehotvalue(features_oh[0][2],dict_age2vec))"
   ]
  },
  {
   "cell_type": "code",
   "execution_count": 14,
   "metadata": {},
   "outputs": [],
   "source": [
    "# convert to matrices\n",
    "#features = np.matrix(features)\n",
    "#targets = np.matrix(targets)"
   ]
  },
  {
   "cell_type": "code",
   "execution_count": 15,
   "metadata": {},
   "outputs": [],
   "source": [
    "# split data\n",
    "x_train = features_oh[:n_train] # store the training inputs\n",
    "targets_train = targets_oh[:n_train] # store the training labels\n",
    "targets_train_binary = targets_binary[:n_train]\n",
    "\n",
    "x_valid = features_oh[n_train:(n_train+n_val)] # store the validation inputs\n",
    "targets_valid = targets_oh[n_train:(n_train+n_val)] # store the validation labels\n",
    "targets_valid_binary = targets_binary[n_train:(n_train+n_val)]\n",
    "\n",
    "x_test = features_oh[(n_train+n_val):-1] # store the test inputs\n",
    "targets_test = targets_oh[(n_train+n_val):-1] # store the test labels\n",
    "targets_test_binary = targets_binary[(n_train+n_val):-1]"
   ]
  },
  {
   "cell_type": "code",
   "execution_count": 16,
   "metadata": {},
   "outputs": [],
   "source": [
    "# flatten the attribute lists\n",
    "x_train_flat = [np.concatenate(p).ravel() for p in x_train]\n",
    "x_valid_flat = [np.concatenate(p).ravel() for p in x_valid]\n",
    "x_test_flat = [np.concatenate(p).ravel() for p in x_test]"
   ]
  },
  {
   "cell_type": "code",
   "execution_count": 17,
   "metadata": {},
   "outputs": [
    {
     "name": "stdout",
     "output_type": "stream",
     "text": [
      "106\n"
     ]
    },
    {
     "data": {
      "text/plain": [
       "array([0., 0., 0., 0., 1., 0., 0., 0., 0., 0., 0., 0., 0., 0., 0., 0., 0.,\n",
       "       0., 0., 0., 0., 0., 0., 0., 0., 0., 0., 0., 0., 0., 0., 0., 0., 0.,\n",
       "       0., 0., 0., 0., 0., 0., 0., 0., 0., 0., 0., 0., 0., 0., 0., 0., 1.,\n",
       "       0., 0., 0., 0., 0., 0., 0., 0., 0., 0., 0., 0., 0., 0., 0., 0., 0.,\n",
       "       0., 0., 0., 0., 0., 0., 0., 0., 0., 0., 0., 0., 0., 0., 0., 0., 0.,\n",
       "       0., 0., 0., 0., 0., 0., 0., 0., 1., 0., 0., 0., 0., 0., 0., 0., 0.,\n",
       "       0., 0., 0., 0.])"
      ]
     },
     "execution_count": 17,
     "metadata": {},
     "output_type": "execute_result"
    }
   ],
   "source": [
    "print(len(x_train_flat[0])) # we have 105 features in total (age = 53, state = 50, gender = 2)\n",
    "x_train_flat[0]"
   ]
  },
  {
   "cell_type": "code",
   "execution_count": 18,
   "metadata": {},
   "outputs": [
    {
     "data": {
      "text/plain": [
       "array([1., 0.])"
      ]
     },
     "execution_count": 18,
     "metadata": {},
     "output_type": "execute_result"
    }
   ],
   "source": [
    "# target lists are already flat\n",
    "targets_train[0]"
   ]
  },
  {
   "cell_type": "code",
   "execution_count": 19,
   "metadata": {},
   "outputs": [],
   "source": [
    "# convert to np arrays\n",
    "x_train_flat = np.array(x_train_flat)\n",
    "x_valid_flat = np.array(x_valid_flat)\n",
    "x_test_flat = np.array(x_test_flat)"
   ]
  },
  {
   "cell_type": "code",
   "execution_count": 20,
   "metadata": {},
   "outputs": [
    {
     "name": "stdout",
     "output_type": "stream",
     "text": [
      "Information on dataset\n",
      "x_train (356, 106)\n",
      "x_valid (45, 106)\n",
      "x_test (43, 106)\n"
     ]
    }
   ],
   "source": [
    "print(\"Information on dataset\")\n",
    "print(\"x_train\", x_train_flat.shape)\n",
    "#print(\"targets_train\", targets_train.shape)\n",
    "print(\"x_valid\", x_valid_flat.shape)\n",
    "#print(\"targets_valid\", targets_valid.shape)\n",
    "print(\"x_test\", x_test_flat.shape)\n",
    "#print(\"targets_test\", targets_test.shape)"
   ]
  },
  {
   "cell_type": "markdown",
   "metadata": {},
   "source": [
    "# Building the net"
   ]
  },
  {
   "cell_type": "code",
   "execution_count": 21,
   "metadata": {},
   "outputs": [],
   "source": [
    "# Load functions\n",
    "import torch\n",
    "from torch.autograd import Variable\n",
    "import torch.nn as nn\n",
    "import torch.optim as optim\n",
    "from torch.nn import Linear, GRU, Conv2d, Dropout, MaxPool2d, BatchNorm1d, Dropout2d, BatchNorm2d\n",
    "from torch.nn.functional import relu, elu, relu6, sigmoid, tanh, softmax\n",
    "import math\n",
    "\n",
    "%matplotlib inline\n",
    "import matplotlib\n",
    "import matplotlib.pyplot as plt"
   ]
  },
  {
   "cell_type": "code",
   "execution_count": 22,
   "metadata": {},
   "outputs": [
    {
     "name": "stdout",
     "output_type": "stream",
     "text": [
      "Net(\n",
      "  (l_lin1): Linear(in_features=106, out_features=64, bias=False)\n",
      "  (l_out): Linear(in_features=64, out_features=2, bias=False)\n",
      ")\n"
     ]
    }
   ],
   "source": [
    "class Net(nn.Module):\n",
    "    def __init__(self):\n",
    "        super(Net, self).__init__()\n",
    "        \n",
    "        self.l_lin1 = Linear(in_features=106,\n",
    "                            out_features=64,\n",
    "                            bias=False)\n",
    "        \n",
    "        self.l_out = Linear(in_features=64,\n",
    "                            out_features=2,\n",
    "                            bias=False)\n",
    "        \n",
    "    #def forward(self, x_wikipage, x_state, x_sex, x_age):\n",
    "    def forward(self,x):\n",
    "        x = self.l_lin1(x)\n",
    "        x = relu(x)\n",
    "        x = self.l_out(x)\n",
    "        out = softmax(x, dim=1)\n",
    "        return out\n",
    "    \n",
    "net = Net()\n",
    "print(net)"
   ]
  },
  {
   "cell_type": "code",
   "execution_count": 24,
   "metadata": {},
   "outputs": [
    {
     "name": "stdout",
     "output_type": "stream",
     "text": [
      "Feedforward(\n",
      "  (fc1): Linear(in_features=106, out_features=64, bias=True)\n",
      "  (fc2): Linear(in_features=64, out_features=2, bias=True)\n",
      "  (relu): ReLU()\n",
      ")\n"
     ]
    }
   ],
   "source": [
    "class Feedforward(torch.nn.Module):\n",
    "        def __init__(self):\n",
    "            super(Feedforward, self).__init__()\n",
    "            self.fc1 = torch.nn.Linear(in_features=106, out_features=64)\n",
    "            self.fc2 = torch.nn.Linear(in_features=64, out_features=2)\n",
    "            self.relu = torch.nn.ReLU()\n",
    "            #self.sigmoid = torch.nn.Sigmoid()\n",
    "        def forward(self, x):\n",
    "            x = self.fc1(x)\n",
    "            #x = self.sigmoid(x)\n",
    "            x = self.relu(x)\n",
    "            x = self.fc2(x)\n",
    "            #output = self.sigmoid(x)\n",
    "            #output = self.relu(x)\n",
    "            output = softmax(x, dim=1)\n",
    "            return output\n",
    "\n",
    "model = Feedforward()\n",
    "print(model)"
   ]
  },
  {
   "cell_type": "code",
   "execution_count": 25,
   "metadata": {},
   "outputs": [],
   "source": [
    "# convert inputs to tensors\n",
    "x_train_t = torch.Tensor(x_train_flat)\n",
    "x_valid_t = torch.Tensor(x_valid_flat)\n",
    "x_test_t = torch.Tensor(x_test_flat)\n",
    "\n",
    "#convert targets to tensors\n",
    "targets_train_t = torch.Tensor(targets_train)\n",
    "targets_valid_t = torch.Tensor(targets_valid)\n",
    "targets_test_t = torch.Tensor(targets_test)"
   ]
  },
  {
   "cell_type": "code",
   "execution_count": 26,
   "metadata": {},
   "outputs": [],
   "source": [
    "# setting hyperparameters and gettings epoch sizes\n",
    "# this applies to each training loop\n",
    "batch_size = 16\n",
    "num_epochs = 100\n",
    "learningrate = 0.001\n",
    "\n",
    "num_samples_train = x_train_t.shape[0]\n",
    "num_batches_train = num_samples_train // batch_size\n",
    "num_samples_valid = x_valid_t.shape[0]\n",
    "num_batches_valid = num_samples_valid // batch_size"
   ]
  },
  {
   "cell_type": "markdown",
   "metadata": {},
   "source": [
    "## Loop 2"
   ]
  },
  {
   "cell_type": "code",
   "execution_count": 30,
   "metadata": {},
   "outputs": [],
   "source": [
    "criterion = nn.CrossEntropyLoss()\n",
    "#optimizer = torch.optim.SGD(model.parameters(), lr = learningrate)\n",
    "optimizer = torch.optim.Adam(model.parameters(), lr=learningrate)"
   ]
  },
  {
   "cell_type": "code",
   "execution_count": 31,
   "metadata": {},
   "outputs": [
    {
     "name": "stdout",
     "output_type": "stream",
     "text": [
      "Epoch  1 : Train Loss 0.951457 , Train acc 0.710227, Valid acc 0.593750\n",
      "Epoch 11 : Train Loss 0.731960 , Train acc 0.795455, Valid acc 0.593750\n",
      "Epoch 21 : Train Loss 0.637062 , Train acc 0.886364, Valid acc 0.562500\n",
      "Epoch 31 : Train Loss 0.590478 , Train acc 0.914773, Valid acc 0.625000\n",
      "Epoch 41 : Train Loss 0.562398 , Train acc 0.928977, Valid acc 0.656250\n",
      "Epoch 51 : Train Loss 0.542013 , Train acc 0.934659, Valid acc 0.656250\n",
      "Epoch 61 : Train Loss 0.526307 , Train acc 0.946023, Valid acc 0.687500\n",
      "Epoch 71 : Train Loss 0.514446 , Train acc 0.948864, Valid acc 0.687500\n",
      "Epoch 81 : Train Loss 0.506413 , Train acc 0.954545, Valid acc 0.687500\n",
      "Epoch 91 : Train Loss 0.501521 , Train acc 0.954545, Valid acc 0.687500\n"
     ]
    },
    {
     "data": {
      "image/png": "[encoded data removed]",
      "text/plain": [
       "<Figure size 432x288 with 1 Axes>"
      ]
     },
     "metadata": {
      "needs_background": "light"
     },
     "output_type": "display_data"
    }
   ],
   "source": [
    "model.train()\n",
    "\n",
    "# setting up lists for handling loss/accuracy\n",
    "train_acc, train_loss = [], []\n",
    "valid_acc, valid_loss = [], []\n",
    "test_acc, test_loss = [], []\n",
    "cur_loss = 0\n",
    "losses = []\n",
    "\n",
    "for epoch in range(num_epochs):\n",
    "    get_slice = lambda i, size: range(i * size, (i + 1) * size)\n",
    "    optimizer.zero_grad()\n",
    "    \n",
    "    # Forward -> Backprob -> Update params\n",
    "    ## Train\n",
    "    cur_loss = 0\n",
    "    model.train()\n",
    "    for i in range(num_batches_train):\n",
    "        slce = get_slice(i, batch_size)\n",
    "        x_batch = Variable(torch.from_numpy(x_train_t.numpy()[slce]))\n",
    "        output = model(x_batch)\n",
    "        \n",
    "        # compute gradients given loss\n",
    "        target_batch = Variable(torch.from_numpy(targets_train_binary[slce]).long())\n",
    "        batch_loss = criterion(output, target_batch)\n",
    "        optimizer.zero_grad()\n",
    "        batch_loss.backward()\n",
    "        optimizer.step()\n",
    "        \n",
    "        cur_loss += batch_loss\n",
    "    losses.append(cur_loss / batch_size)\n",
    "    \n",
    "    model.eval()\n",
    "    ### Evaluate training - prediction accuracy on training data\n",
    "    train_preds, train_targs = [], []\n",
    "    for i in range(num_batches_train):\n",
    "        slce = get_slice(i, batch_size)\n",
    "        x_batch = Variable(torch.from_numpy(x_train_t.numpy()[slce]))\n",
    "\n",
    "        output = model(x_batch)\n",
    "        preds = torch.max(output, 1)[1] # returns index of max value in output vector\n",
    "\n",
    "        train_targs += list(targets_train_binary[slce])\n",
    "        train_preds += list(preds.data.numpy())\n",
    "        \n",
    "    ### Evaluate validation - prediction accuracy on validation data\n",
    "    val_preds, val_targs = [], []\n",
    "    for i in range(num_batches_valid):\n",
    "        slce = get_slice(i, batch_size)\n",
    "        x_batch = Variable(torch.from_numpy(x_valid_t.numpy()[slce]))\n",
    "\n",
    "        output = model(x_batch)\n",
    "        preds = torch.max(output, 1)[1]\n",
    "        \n",
    "        val_targs += list(targets_valid_binary[slce])\n",
    "        val_preds += list(preds.data.numpy())\n",
    "        \n",
    "    #print(\"train_targs:\", train_targs) # debugging\n",
    "    #print() # debugging\n",
    "    #print(\"train_preds\", train_preds) # debugging\n",
    "    train_acc_cur = accuracy_score(train_targs, train_preds)\n",
    "    valid_acc_cur = accuracy_score(val_targs, val_preds)\n",
    "\n",
    "    train_acc.append(train_acc_cur) # for plot\n",
    "    valid_acc.append(valid_acc_cur) # for plot\n",
    "    \n",
    "    if epoch % 10 == 0:\n",
    "            print(\"Epoch %2i : Train Loss %f , Train acc %f, Valid acc %f\" % (\n",
    "                    epoch+1, losses[-1], train_acc_cur, valid_acc_cur))\n",
    "    #break # debugging\n",
    "            \n",
    "epoch = np.arange(len(train_acc))\n",
    "plt.figure()\n",
    "plt.plot(epoch, train_acc, 'r', epoch, valid_acc, 'b')\n",
    "plt.legend(['Train Accucary','Validation Accuracy'])\n",
    "plt.xlabel('Updates'), plt.ylabel('Acc')\n",
    "plt.show()"
   ]
  },
  {
   "cell_type": "code",
   "execution_count": 32,
   "metadata": {},
   "outputs": [
    {
     "name": "stdout",
     "output_type": "stream",
     "text": [
      "after 100 epochs with batchsize 16 and learning rate 0.001\n",
      "final training accuracy: 0.9545454545454546\n",
      "final validation accuracy: 0.6875\n"
     ]
    }
   ],
   "source": [
    "print(\"after\", num_epochs, \"epochs with batchsize\", batch_size, \"and learning rate\", learningrate)\n",
    "print(\"final training accuracy:\", train_acc[-1])\n",
    "print(\"final validation accuracy:\", valid_acc[-1])"
   ]
  },
  {
   "cell_type": "markdown",
   "metadata": {},
   "source": [
    "We see here that the final validation accuracy is **68.7%**, which is almost exactly the same performance we get with the base model implemented with the NSL library and on the same politician dataset."
   ]
  }
 ],
 "metadata": {
  "kernelspec": {
   "display_name": "Python 3",
   "language": "python",
   "name": "python3"
  },
  "language_info": {
   "codemirror_mode": {
    "name": "ipython",
    "version": 3
   },
   "file_extension": ".py",
   "mimetype": "text/x-python",
   "name": "python",
   "nbconvert_exporter": "python",
   "pygments_lexer": "ipython3",
   "version": "3.7.1"
  }
 },
 "nbformat": 4,
 "nbformat_minor": 2
}
