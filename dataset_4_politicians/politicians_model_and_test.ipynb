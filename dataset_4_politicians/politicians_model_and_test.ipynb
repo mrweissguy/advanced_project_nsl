{
 "cells": [
  {
   "cell_type": "markdown",
   "metadata": {},
   "source": [
    "# Neural Graph Learning on politician relationships"
   ]
  },
  {
   "cell_type": "markdown",
   "metadata": {},
   "source": [
    "## Introduction to the dataset\n",
    "\n",
    "This dataset is about [House representatives of the 115th US congress](https://en.wikipedia.org/wiki/List_of_members_of_the_United_States_House_of_Representatives_in_the_115th_Congress_by_seniority). It contains 445 politicians/observations/vertices and the following attributes on each person:\n",
    "\n",
    "- `WikiPageName` - Wikipedia page identifier\n",
    "- `Party` - Party loyalty of the person\n",
    "- `State` - State that the person represents\n",
    "- `Sex` - Gender of the person\n",
    "- `Age` - Age of the person\n",
    "\n",
    "For the purposes of training neural networks on this data, features `State`, `Sex`, and `Age` have been onehot-encoded in a preprocessing notebook (link below) as these are input features for the network. `WikiPageName` is not included as it is unqiue for each person and thence not considered a trainable feature. Values in the target attribute `Party` are converted to scalars: 0=Democratic, 1=Republican.\n",
    "\n",
    "Additionally, it contains 2773 relations/edges between the politicians. Two politicians are related if one of them has retweeted or tagged the other in a tweet on Twitter. An undirected graph is assumed, so if one tags the other, then the other has a reference to the one as well.\n",
    "\n",
    "The dataset has been put together by collecting data from several sources. The main source is the github repository of files prepared and hosted by Technical University of Denmark Associate Professor Sune Lehmann Jørgensen for the 2018 installment of his DTU Compute course 02805 Social Graphs and Interactions. This repo contains a [list of members](https://github.com/suneman/socialgraphs2018/blob/master/files/data_US_congress/H115.csv) of the 115th House of representatives and a [zip-file](https://github.com/suneman/socialgraphs2018/blob/master/files/data_twitter/tweets.zip) of the 200 most recent tweets of said members (collected around September 2018). This data has been further preprocessed to extend the feature-set of the observations and more for the purposes of this project.\n",
    "\n",
    "To see more about the dataset and preprocessing see the [preprocessing notebook](preprocessing_politician_relationship_data.ipynb) for the politician data.\n",
    " \n",
    "Data summary:\n",
    "\n",
    "- 445 vertices (politicians)\n",
    "    - State (50-element onehot vector)\n",
    "    - Sex (2-element onehot vector)\n",
    "    - Age (54-element onehot vector)\n",
    "- 2 labels:\n",
    "    - Democratic (0)\n",
    "    - Republican (1)\n",
    "- 2773 edges (relations)\n",
    "\n",
    "\n",
    "## Experiment\n",
    "\n",
    "The goal is to correctly classify the party of politicians and examine the performance difference between the Neural Graph Learning model and a base model. Both are implemented with Tensorflow's NSL library and, by extension, Tensorflow's Keras API. \n",
    "To properly examine the performance difference between the models, each model is trainined with traning sizes from 0.1 to 0.85 with 0.05 incrementes. The models are run 5 times at each training size whereafter the results are avaraged and presented in a graph.\n",
    "\n",
    "### PyTorch implementation of base model\n",
    "To provide a control and reference point for the NSL base model that is evaluated in this notebook, a base model has been implemented with an independent neural network library - PyTorch. The achieved validation accuracy is at 68.7%, which is very close to that of the NSL model. It is therefore concluded that the NSL base model is credible.\n",
    "Refer to the [PyTorch notebook](Pytorch-Base-Model.ipynb) for more information. \n",
    "\n",
    "\n",
    "## References\n",
    "\n",
    "Large parts of the code for preprocessing, loading train, test and validation data, evaluation, generation of Keras functional models is modified code from Tensorflow's tutorials and resources introducing neural structed learning. The original code can be found here: [Tensorflows github](https://github.com/tensorflow/neural-structured-learning) and [Guide and Tutorials](https://www.tensorflow.org/neural_structured_learning/framework). Furthermore, additional information about the API is available [here](https://www.tensorflow.org/neural_structured_learning/api_docs/python/nsl)."
   ]
  },
  {
   "cell_type": "markdown",
   "metadata": {},
   "source": [
    "# Experiment"
   ]
  },
  {
   "cell_type": "markdown",
   "metadata": {},
   "source": [
    "## Importing needed libraries"
   ]
  },
  {
   "cell_type": "code",
   "execution_count": 30,
   "metadata": {},
   "outputs": [],
   "source": [
    "from __future__ import absolute_import, division, print_function, unicode_literals\n",
    "import neural_structured_learning as nsl\n",
    "import tensorflow as tf\n",
    "import matplotlib.pyplot as plt\n",
    "import numpy as np\n",
    "\n",
    "# Resets notebook state\n",
    "tf.keras.backend.clear_session()"
   ]
  },
  {
   "cell_type": "markdown",
   "metadata": {},
   "source": [
    "## Defining hyperparameters"
   ]
  },
  {
   "cell_type": "code",
   "execution_count": 31,
   "metadata": {},
   "outputs": [],
   "source": [
    "class HParams(object):\n",
    "  \"\"\"Hyperparameters used for training.\"\"\"\n",
    "  def __init__(self):\n",
    "    ### dataset parameters\n",
    "    self.num_classes = 2 # 2 parties\n",
    "    self.max_seq_length = 106 # onehot state = 50, onehot age = 54, onehot sex = 2, total = 106\n",
    "    ### neural graph learning parameters\n",
    "    self.distance_type = nsl.configs.DistanceType.L2\n",
    "    self.graph_regularization_multiplier = 0.5 # how much do we use the graph for regularization in the training\n",
    "    self.num_neighbors = 1\n",
    "    ### model architecture\n",
    "    self.num_fc_units = [50, 50] # define number of neurons in each layer\n",
    "    ### training parameters\n",
    "    self.train_epochs = 100\n",
    "    self.batch_size = 32\n",
    "    self.dropout_rate = 0.5\n",
    "    ### eval parameters\n",
    "    self.eval_steps = None  # All instances in the test set are evaluated.\n",
    "\n",
    "HPARAMS = HParams()"
   ]
  },
  {
   "cell_type": "markdown",
   "metadata": {},
   "source": [
    "## Load train and test data"
   ]
  },
  {
   "cell_type": "code",
   "execution_count": 32,
   "metadata": {},
   "outputs": [],
   "source": [
    "def parse_example(example_proto):\n",
    "\n",
    "    feature_spec = {\n",
    "        'attributes':\n",
    "            tf.io.FixedLenFeature([HPARAMS.max_seq_length],\n",
    "                                tf.int64,\n",
    "                                default_value=tf.constant(\n",
    "                                    0,\n",
    "                                    dtype=tf.int64,\n",
    "                                    shape=[HPARAMS.max_seq_length])),\n",
    "        'label':\n",
    "          tf.io.FixedLenFeature((), tf.int64, default_value=-1),\n",
    "    }\n",
    "    # We also extract corresponding neighbor features in a similar manner to\n",
    "  # the features above.\n",
    "    for i in range(HPARAMS.num_neighbors):\n",
    "        nbr_feature_key = '{}{}_{}'.format('NL_nbr_', i, 'attributes')\n",
    "        nbr_weight_key = '{}{}{}'.format('NL_nbr_', i, '_weight')\n",
    "        feature_spec[nbr_feature_key] = tf.io.FixedLenFeature(\n",
    "            [HPARAMS.max_seq_length],\n",
    "            tf.int64,\n",
    "            default_value=tf.constant(\n",
    "            0, dtype=tf.int64, shape=[HPARAMS.max_seq_length]))\n",
    "\n",
    "    # We assign a default value of 0.0 for the neighbor weight so that\n",
    "    # graph regularization is done on samples based on their exact number\n",
    "    # of neighbors. In other words, non-existent neighbors are discounted.\n",
    "    feature_spec[nbr_weight_key] = tf.io.FixedLenFeature(\n",
    "        [1], tf.float32, default_value=tf.constant([0.0]))\n",
    "\n",
    "    features = tf.io.parse_single_example(example_proto, feature_spec)\n",
    "\n",
    "    labels = features.pop('label')\n",
    "    return features, labels\n",
    "\n",
    "\n",
    "def make_dataset(file_path, training=False):\n",
    "     #Creates a `tf.data.TFRecordDataset`.\n",
    "\n",
    "    dataset = tf.data.TFRecordDataset([file_path])\n",
    "    if training:\n",
    "        dataset = dataset.shuffle(10000)\n",
    "    dataset = dataset.map(parse_example)\n",
    "    dataset = dataset.batch(HPARAMS.batch_size)\n",
    "    return dataset"
   ]
  },
  {
   "cell_type": "markdown",
   "metadata": {},
   "source": [
    "## Functional base model"
   ]
  },
  {
   "cell_type": "code",
   "execution_count": 33,
   "metadata": {},
   "outputs": [],
   "source": [
    "def functional_model(hparams):\n",
    "    \"\"\"Creates a functional API-based multi-layer perceptron model.\"\"\"\n",
    "    inputs = tf.keras.Input(shape=(hparams.max_seq_length,), dtype='int64', name='attributes')\n",
    "\n",
    "  # casting one hot to floating point format.\n",
    "    cur_layer = tf.keras.layers.Lambda(\n",
    "      lambda x: tf.keras.backend.cast(x, tf.float32))(\n",
    "          inputs)\n",
    "\n",
    "    for num_units in hparams.num_fc_units:\n",
    "        cur_layer = tf.keras.layers.Dense(num_units, activation='relu')(cur_layer)\n",
    "        cur_layer = tf.keras.layers.Dropout(hparams.dropout_rate)(cur_layer)\n",
    "        #cur_layer = tf.keras.layers.BatchNormalization()(cur_layer)\n",
    "\n",
    "    # if we want to have 2 neurons in the output layer, then we must one-hot encode the targets and use softmax\n",
    "    #outputs = tf.keras.layers.Dense(hparams.num_classes, activation='softmax')(cur_layer) # use sparse_categorical_crossentropy and accuracy\n",
    "    outputs = tf.keras.layers.Dense(1, activation='sigmoid')(cur_layer)\n",
    "\n",
    "    model = tf.keras.Model(inputs, outputs=outputs)\n",
    "    return model"
   ]
  },
  {
   "cell_type": "markdown",
   "metadata": {},
   "source": [
    "## Function to evaluate models"
   ]
  },
  {
   "cell_type": "code",
   "execution_count": 34,
   "metadata": {},
   "outputs": [],
   "source": [
    "# Helper function to print evaluation metrics.\n",
    "def print_metrics(model_desc, eval_metrics):\n",
    "    print('\\n')\n",
    "    print('Eval accuracy for ', model_desc, ': ', eval_metrics['binary_accuracy']) # binary accuracy is used because we have two targets only: democratic and republican\n",
    "#     print('Eval loss for ', model_desc, ': ', eval_metrics['loss'])\n",
    "#     if 'graph_loss' in eval_metrics:\n",
    "#         print('Eval graph loss for ', model_desc, ': ', eval_metrics['graph_loss'])"
   ]
  },
  {
   "cell_type": "markdown",
   "metadata": {},
   "source": [
    "## Function for training base model"
   ]
  },
  {
   "cell_type": "code",
   "execution_count": 35,
   "metadata": {},
   "outputs": [],
   "source": [
    "def traning_base_model(train_dataset):\n",
    "    base_model = functional_model(HPARAMS)\n",
    "\n",
    "    base_model.compile(\n",
    "        optimizer='adam',\n",
    "        loss='binary_crossentropy',\n",
    "        metrics=['binary_accuracy'],\n",
    "        lr=0.01, clipnorm=1.)\n",
    "    base_model.fit(train_dataset, epochs=HPARAMS.train_epochs, verbose=0)\n",
    "    \n",
    "    return base_model"
   ]
  },
  {
   "cell_type": "markdown",
   "metadata": {},
   "source": [
    "## Function for training graph model"
   ]
  },
  {
   "cell_type": "code",
   "execution_count": 36,
   "metadata": {},
   "outputs": [],
   "source": [
    "def training_graph_model(train_dataset):\n",
    "    # Build a new base MLP model.\n",
    "    base_reg_model = functional_model(HPARAMS)\n",
    "    \n",
    "    # Wrap the base MLP model with graph regularization.\n",
    "    graph_reg_config = nsl.configs.make_graph_reg_config(\n",
    "        max_neighbors=HPARAMS.num_neighbors,\n",
    "        multiplier=HPARAMS.graph_regularization_multiplier,\n",
    "        distance_type=HPARAMS.distance_type,\n",
    "        sum_over_axis=-1)\n",
    "    graph_reg_model = nsl.keras.GraphRegularization(base_reg_model, graph_reg_config)\n",
    "    \n",
    "    graph_reg_model.compile(\n",
    "        optimizer='adam',\n",
    "        loss='binary_crossentropy',\n",
    "        metrics=['binary_accuracy'])\n",
    "    graph_reg_history = graph_reg_model.fit(train_dataset, epochs=HPARAMS.train_epochs, verbose=0)\n",
    "    \n",
    "    return graph_reg_model"
   ]
  },
  {
   "cell_type": "markdown",
   "metadata": {},
   "source": [
    "## Function for generating data"
   ]
  },
  {
   "cell_type": "code",
   "execution_count": 37,
   "metadata": {},
   "outputs": [],
   "source": [
    "def generateTrainingData(train_percent):\n",
    "    # getting the training percentages\n",
    "    !python3 preprocessing_pol_dataset_test.py \\\n",
    "    --input_content=H115_nodes_oh.tsv \\\n",
    "    --input_graph=H115_connections.tsv \\\n",
    "    --train_percentage=$train_percent\\\n",
    "    --output_train_data=train_merged_examples.tfr \\\n",
    "    --output_test_data=test_examples.tfr \\\n",
    "\n",
    "    # generating train and test data\n",
    "    train_dataset = make_dataset('train_merged_examples.tfr', training=True)\n",
    "    test_dataset = make_dataset('test_examples.tfr')\n",
    "    \n",
    "    return train_dataset, test_dataset"
   ]
  },
  {
   "cell_type": "markdown",
   "metadata": {},
   "source": [
    "## Iterating over different training sizes"
   ]
  },
  {
   "cell_type": "code",
   "execution_count": 38,
   "metadata": {},
   "outputs": [],
   "source": [
    "# defining the training size we need to iterate over\n",
    "train_percentage = []\n",
    "train_percentage.append(0.01) # starting the list at 1% of training data\n",
    "\n",
    "for i in np.arange(0.05, 0.9, 0.05):\n",
    "    train_percentage.append(round(i,2))"
   ]
  },
  {
   "cell_type": "code",
   "execution_count": 39,
   "metadata": {
    "scrolled": true
   },
   "outputs": [
    {
     "name": "stdout",
     "output_type": "stream",
     "text": [
      "Output removed to improve readability of the notebook."
     ]
    }
   ],
   "source": [
    "# lists for holding results\n",
    "graph_accuracy_by_training_size_avg = []\n",
    "base_accuracy_by_training_size_avg = []\n",
    "\n",
    "for j in range(5):\n",
    "    \n",
    "    print(\"----------------------------- iteration: \", j+1, \"------------------------\" )\n",
    "    base_model_results_list = []\n",
    "    graph_model_results_list = []\n",
    "\n",
    "    for i in range(len(train_percentage)):\n",
    "\n",
    "        print(\"---------------------training at percentage \", train_percentage[i], \"-----------------------------\")\n",
    "\n",
    "        # creating test and training data\n",
    "        train_dataset, test_dataset = generateTrainingData(train_percentage[i])\n",
    "\n",
    "        # creating and training the base model\n",
    "        base_model = traning_base_model(train_dataset)\n",
    "\n",
    "        # evaluate base model\n",
    "        eval_results = dict(\n",
    "        zip(base_model.metrics_names,\n",
    "            base_model.evaluate(test_dataset, steps=HPARAMS.eval_steps)))\n",
    "        print_metrics('Base MLP model', eval_results)\n",
    "\n",
    "        # adding results to a list\n",
    "        base_model_results_list.append(eval_results)\n",
    "\n",
    "\n",
    "        # creating and training the graph model\n",
    "        graph_model = training_graph_model(train_dataset)\n",
    "\n",
    "        # evaluating the model\n",
    "        eval_results_graph_regulated_model = dict(\n",
    "        zip(graph_model.metrics_names,\n",
    "            graph_model.evaluate(test_dataset, steps=HPARAMS.eval_steps)))\n",
    "        print_metrics('MLP + graph regularization', eval_results_graph_regulated_model)\n",
    "\n",
    "        # adding the graph results to a list \n",
    "        graph_model_results_list.append(eval_results_graph_regulated_model)\n",
    "\n",
    "    graph_accuracy_by_training_size_avg.append(graph_model_results_list)\n",
    "    base_accuracy_by_training_size_avg.append(base_model_results_list);"
   ]
  },
  {
   "cell_type": "markdown",
   "metadata": {},
   "source": [
    "# Taking a look at the results\n",
    "Since we ran 5 iterations we first have to average the numner training accuracy at the different training sizes."
   ]
  },
  {
   "cell_type": "code",
   "execution_count": 40,
   "metadata": {},
   "outputs": [],
   "source": [
    "graph_avg_list = []\n",
    "base_avg_list = []\n",
    "\n",
    "for i in range(0,len(graph_accuracy_by_training_size_avg[0])):\n",
    "    tmp_avg_value = 0\n",
    "    for j in range(0,len(graph_accuracy_by_training_size_avg)):\n",
    "        tmp_avg_value += graph_accuracy_by_training_size_avg[j][i]['binary_accuracy']\n",
    "    graph_avg_list.append(tmp_avg_value/5)\n",
    "    \n",
    "for i in range(0,len(base_accuracy_by_training_size_avg[0])):\n",
    "    tmp_avg_value = 0\n",
    "    for j in range(0,len(base_accuracy_by_training_size_avg)):\n",
    "        tmp_avg_value += base_accuracy_by_training_size_avg[j][i]['binary_accuracy']\n",
    "    base_avg_list.append(tmp_avg_value/5)"
   ]
  },
  {
   "cell_type": "markdown",
   "metadata": {},
   "source": [
    "To get at better idea of the difference in learning at different training sizes we substract the two model preformances from each other.\n",
    "A postive value indicates a gain for the graph based model over the base model."
   ]
  },
  {
   "cell_type": "code",
   "execution_count": 41,
   "metadata": {},
   "outputs": [],
   "source": [
    "diff_graph_and_basemodel = []\n",
    "\n",
    "for i in range(len(base_avg_list)):\n",
    "    diff_graph_and_basemodel.append(graph_avg_list[i]- base_avg_list[i])\n",
    "\n",
    "collected_list = []\n",
    "collected_list.append(base_avg_list)\n",
    "collected_list.append(graph_avg_list)\n",
    "collected_list.append(diff_graph_and_basemodel)"
   ]
  },
  {
   "cell_type": "code",
   "execution_count": 42,
   "metadata": {},
   "outputs": [
    {
     "data": {
      "image/png": "[encoded data removed]",
      "text/plain": [
       "<Figure size 864x432 with 1 Axes>"
      ]
     },
     "metadata": {
      "needs_background": "light"
     },
     "output_type": "display_data"
    }
   ],
   "source": [
    "import numpy as np\n",
    "import matplotlib.pyplot as plt\n",
    "\n",
    "\n",
    "plt.figure(figsize=(12, 6))\n",
    "\n",
    "columns = train_percentage\n",
    "rows = ['base model', 'graph model', 'perf. diff.']\n",
    "\n",
    "colors = plt.cm.BuPu(np.linspace(0, 0.5, len(rows)))\n",
    "\n",
    "# Get some pastel shades for the colors\n",
    "n_rows = len(collected_list)\n",
    "\n",
    "# Initialize the vertical-offset for the stacked bar chart.\n",
    "y_offset = np.zeros(len(train_percentage))\n",
    "\n",
    "# Plot bars and create text labels for the table\n",
    "cell_text = []\n",
    "for row in range(n_rows):\n",
    "    y_offset = collected_list[row]\n",
    "    cell_text.append(['%1.3f' % x for x in y_offset])\n",
    "\n",
    "# Add a table at the bottom of the axes\n",
    "table = plt.table(cellText=cell_text,\n",
    "                      rowLabels=rows,\n",
    "                      colLabels=columns,\n",
    "                      rowColours=['#5b9ac4', '#fd8e39', '#ffffff'],\n",
    "                      loc='bottom')\n",
    "\n",
    "table.set_fontsize(14)\n",
    "\n",
    "# table.auto_set_font_size(False)\n",
    "table.set_fontsize(14)\n",
    "table.scale(1, 1.7)\n",
    "# Adjust layout to make room for the table:\n",
    "plt.subplots_adjust(left=0.2, bottom=0.2)\n",
    "\n",
    "\n",
    "# plt.plot(graph_collected)\n",
    "plt.plot(base_avg_list)\n",
    "plt.plot(graph_avg_list)\n",
    "\n",
    "# plt.ylabel(\"Loss in ${0}'s\".format(value_increment))\n",
    "# plt.yticks(values * value_increment, ['%d' % val for val in values])\n",
    "plt.xticks([])\n",
    "plt.title('Comparison between base and graph model accuracy')\n",
    "plt.ylabel('binary_accuracy')\n",
    "# plt.xlabel('training size')\n",
    "plt.annotate('training size', xy=(1,0), xytext=(-669, -3), ha='left', va='top',\n",
    "            xycoords='axes fraction', textcoords='offset points')\n",
    "plt.legend(['base model', 'graph reg model'], loc='upper left')\n",
    "plt.savefig('plots/comparison between base and graph model with different training sizes AVG w. table.png', bbox_inches='tight', pad_inches=0.1)\n",
    "\n",
    "plt.show()"
   ]
  }
 ],
 "metadata": {
  "kernelspec": {
   "display_name": "Python 3",
   "language": "python",
   "name": "python3"
  },
  "language_info": {
   "codemirror_mode": {
    "name": "ipython",
    "version": 3
   },
   "file_extension": ".py",
   "mimetype": "text/x-python",
   "name": "python",
   "nbconvert_exporter": "python",
   "pygments_lexer": "ipython3",
   "version": "3.7.1"
  }
 },
 "nbformat": 4,
 "nbformat_minor": 2
}
