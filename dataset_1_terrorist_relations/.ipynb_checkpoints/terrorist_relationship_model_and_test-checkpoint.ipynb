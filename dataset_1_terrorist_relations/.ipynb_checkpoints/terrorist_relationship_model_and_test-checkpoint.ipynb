{
 "cells": [
  {
   "cell_type": "markdown",
   "metadata": {},
   "source": [
    "# Neural graph learning on terrorist relationships"
   ]
  },
  {
   "cell_type": "markdown",
   "metadata": {
    "heading_collapsed": true
   },
   "source": [
    "## Introduction to the dataset\n",
    "\n",
    "The [Terror Relationship dataset](https://linqs.soe.ucsc.edu/data) consists of 851 relationships between terrorists. Each relationship is described by 1224 distinct features, represented as a vector of 0/1 describing the absence/presence of a feature and a label describing the nature of the relationship. \n",
    "The data also contains a graph structure where each node is a relationship between two  terrorists. A link is formed between nodes if the node shares a common terrorist.\n",
    "Unfortunately, the original features in the dataset is not disclosed. For the sake of this experiment (comparing Neural Graph Learning with traditional deep learning), the nature of the features is not important and is not considered a limitation.\n",
    "\n",
    "To read more about the original dataset, see the [article](http://www.cs.cmu.edu/~eairoldi/nets/icml_sna/paper7_final.pdf?fbclid=IwAR2U7Uu9MFguz9qzftLrw8gBJYEx6lCQ2NG3IGBHsVq3lqhuEycrSco7UQ4) from Bin Zhao, Prithviraj Sen, Lise Getoor.\n",
    "\n",
    "Since the dataset is a preprocessed subset of the original dataset, the preprocessing done to the dataset was minimal, but included concatenating different columns into a single file called *collected.nodes*. To see more about the dataset and preprocessing see the notebook [Preprocessing of terrorist data](Preprocessing_terrorist_relationship_data.ipynb).\n",
    "\n",
    "Dataset summary:\n",
    "* 851 relationships\n",
    "* 1224 distinct features with 0/1 indicating the absence/presence of the feature.\n",
    "* labels for classifying the relationship is :\n",
    "    * Family\n",
    "    * Colleague\n",
    "    * Contact\n",
    "    * Congregate\n",
    "* Each relationship can have one or more labels. For the sake of this experiment, we will assign only one label to each relationship.\n",
    "\n",
    "## Experiment\n",
    "\n",
    "The goal is to correctly classify the relationships and examine the performance difference between the Neural Graph Learning model and a base model.\n",
    "\n",
    "To proberly examine the performance difference between the models, each model is trainined with traning sizes from 0.1 to 0.85 with 0.5 incrementes. The models is run 5 times at each traning sizes whereafter the average results are presented in a graph.\n",
    "\n",
    "## References\n",
    "\n",
    "Large parts of the code for preprocessing, loading train, test and validation data, evaluation, generation of Keras functional models is modefied from Tensorflows tutorials and resources introducing neural structed learning. The original code can be found here: [Tensorflows github](https://github.com/tensorflow/neural-structured-learning) and [Guide and Tutorials](https://www.tensorflow.org/neural_structured_learning/framework).\n",
    "Furthermore, additional information about the API can be found [here](https://www.tensorflow.org/neural_structured_learning/api_docs/python/nsl)."
   ]
  },
  {
   "cell_type": "markdown",
   "metadata": {},
   "source": [
    "# Experiment"
   ]
  },
  {
   "cell_type": "markdown",
   "metadata": {},
   "source": [
    "### Importing needed libraries"
   ]
  },
  {
   "cell_type": "code",
   "execution_count": 1,
   "metadata": {},
   "outputs": [],
   "source": [
    "from __future__ import absolute_import, division, print_function, unicode_literals\n",
    "import neural_structured_learning as nsl\n",
    "import tensorflow as tf\n",
    "import csv\n",
    "import pandas as pd\n",
    "import numpy as np\n",
    "import matplotlib.pyplot as plt\n",
    "pd.set_option('display.expand_frame_repr', False)\n",
    "import warnings\n",
    "warnings.filterwarnings('ignore')"
   ]
  },
  {
   "cell_type": "markdown",
   "metadata": {},
   "source": [
    "### Getting the data"
   ]
  },
  {
   "cell_type": "code",
   "execution_count": 2,
   "metadata": {},
   "outputs": [
    {
     "name": "stdout",
     "output_type": "stream",
     "text": [
      "x CustomTerroristRel/\n",
      "x CustomTerroristRel/TerroristRel_Family.nodes\n",
      "x CustomTerroristRel/TerroristRel_Colleague.nodes\n",
      "x CustomTerroristRel/TerroristRel_Contact.nodes\n",
      "x CustomTerroristRel/.DS_Store\n",
      "x CustomTerroristRel/collected.nodes\n",
      "x CustomTerroristRel/README\n",
      "x CustomTerroristRel/TerroristRel.labels\n",
      "x CustomTerroristRel/TerroristRel_Congregate.nodes\n",
      "x CustomTerroristRel/TerroristRel.edges\n"
     ]
    }
   ],
   "source": [
    "!tar -C /tmp -xvzf /Users/johanweisshansen/Documents/DTU/3.semester/advanced_project/oticon_project/terror_data/nsl/dataset_test_1/data/CustomTerroristRel.tgz"
   ]
  },
  {
   "cell_type": "markdown",
   "metadata": {},
   "source": [
    "### Defining hyperparameters"
   ]
  },
  {
   "cell_type": "code",
   "execution_count": 3,
   "metadata": {},
   "outputs": [],
   "source": [
    "class HParams(object):\n",
    "  \"\"\"Hyperparameters used for training.\"\"\"\n",
    "  def __init__(self):\n",
    "    ### dataset parameters\n",
    "    self.num_classes = 4\n",
    "    self.max_seq_length = 1224 # distinct features\n",
    "    ### neural graph learning parameters\n",
    "    self.distance_type = nsl.configs.DistanceType.L2\n",
    "    self.graph_regularization_multiplier = 0.1\n",
    "    self.num_neighbors = 1\n",
    "    ### model architecture\n",
    "    self.num_fc_units = [50,50]\n",
    "    ### training parameters\n",
    "    self.train_epochs = 150\n",
    "    self.batch_size = 150\n",
    "    self.dropout_rate = 0.5\n",
    "    ### eval parameters\n",
    "    self.eval_steps = None  # All instances in the test set are evaluated.\n",
    "\n",
    "HPARAMS = HParams()"
   ]
  },
  {
   "cell_type": "markdown",
   "metadata": {},
   "source": [
    "### Load train and test data"
   ]
  },
  {
   "cell_type": "code",
   "execution_count": 4,
   "metadata": {},
   "outputs": [],
   "source": [
    "def parse_example(example_proto):\n",
    "\n",
    "    feature_spec = {\n",
    "        'attributes':\n",
    "            tf.io.FixedLenFeature([HPARAMS.max_seq_length],\n",
    "                                tf.int64,\n",
    "                                default_value=tf.constant(\n",
    "                                    0,\n",
    "                                    dtype=tf.int64,\n",
    "                                    shape=[HPARAMS.max_seq_length])),\n",
    "        'label':\n",
    "          tf.io.FixedLenFeature((), tf.int64, default_value=-1),\n",
    "    }\n",
    "    # We also extract corresponding neighbor features in a similar manner to\n",
    "  # the features above.\n",
    "    for i in range(HPARAMS.num_neighbors):\n",
    "        nbr_feature_key = '{}{}_{}'.format('NL_nbr_', i, 'attributes')\n",
    "        nbr_weight_key = '{}{}{}'.format('NL_nbr_', i, '_weight')\n",
    "        feature_spec[nbr_feature_key] = tf.io.FixedLenFeature(\n",
    "            [HPARAMS.max_seq_length],\n",
    "            tf.int64,\n",
    "            default_value=tf.constant(\n",
    "            0, dtype=tf.int64, shape=[HPARAMS.max_seq_length]))\n",
    "\n",
    "    # We assign a default value of 0.0 for the neighbor weight so that\n",
    "    # graph regularization is done on samples based on their exact number\n",
    "    # of neighbors. In other words, non-existent neighbors are discounted.\n",
    "    feature_spec[nbr_weight_key] = tf.io.FixedLenFeature(\n",
    "        [1], tf.float32, default_value=tf.constant([0.0]))\n",
    "\n",
    "    features = tf.io.parse_single_example(example_proto, feature_spec)\n",
    "\n",
    "    labels = features.pop('label')\n",
    "    return features, labels\n",
    "\n",
    "\n",
    "def make_dataset(file_path, training=False):\n",
    "     #Creates a `tf.data.TFRecordDataset`.\n",
    "\n",
    "    dataset = tf.data.TFRecordDataset([file_path])\n",
    "    if training:\n",
    "        dataset = dataset.shuffle(10000)\n",
    "    dataset = dataset.map(parse_example)\n",
    "    dataset = dataset.batch(HPARAMS.batch_size)\n",
    "    return dataset"
   ]
  },
  {
   "cell_type": "markdown",
   "metadata": {},
   "source": [
    "### Functional base model"
   ]
  },
  {
   "cell_type": "code",
   "execution_count": 5,
   "metadata": {},
   "outputs": [],
   "source": [
    "def functional_model(hparams):\n",
    "    \"\"\"Creates a functional API-based multi-layer perceptron model.\"\"\"\n",
    "    inputs = tf.keras.Input(shape=(hparams.max_seq_length,), dtype='int64', name='attributes')\n",
    "\n",
    "  # casting one hot to floating point format.\n",
    "    cur_layer = tf.keras.layers.Lambda(\n",
    "      lambda x: tf.keras.backend.cast(x, tf.float32))(\n",
    "          inputs)\n",
    "\n",
    "    for num_units in hparams.num_fc_units:\n",
    "        cur_layer = tf.keras.layers.Dense(num_units, activation='relu')(cur_layer)\n",
    "        cur_layer = tf.keras.layers.Dropout(hparams.dropout_rate)(cur_layer)\n",
    "        cur_layer = tf.keras.layers.BatchNormalization()(cur_layer)\n",
    "\n",
    "    outputs = tf.keras.layers.Dense(\n",
    "      hparams.num_classes, activation='softmax')(\n",
    "          cur_layer)\n",
    "\n",
    "    model = tf.keras.Model(inputs, outputs=outputs)\n",
    "    return model"
   ]
  },
  {
   "cell_type": "markdown",
   "metadata": {},
   "source": [
    "### Function to evaluate models"
   ]
  },
  {
   "cell_type": "code",
   "execution_count": 6,
   "metadata": {},
   "outputs": [],
   "source": [
    "def print_metrics(model_desc, eval_metrics):\n",
    "    print('\\n')\n",
    "    print('Eval accuracy for ', model_desc, ': ', eval_metrics['accuracy'])\n",
    "#     print('Eval loss for ', model_desc, ': ', eval_metrics['loss'])\n",
    "#     if 'graph_loss' in eval_metrics:\n",
    "#         print('Eval graph loss for ', model_desc, ': ', eval_metrics['graph_loss'])"
   ]
  },
  {
   "cell_type": "markdown",
   "metadata": {},
   "source": [
    "### Function for training base model"
   ]
  },
  {
   "cell_type": "code",
   "execution_count": 7,
   "metadata": {},
   "outputs": [],
   "source": [
    "def traning_base_model(train_dataset):\n",
    "    base_model = functional_model(HPARAMS)\n",
    "\n",
    "    base_model.compile(\n",
    "        optimizer='adam',\n",
    "        #sparse_categorical_crossentropy\n",
    "        #categorical_crossentropy\n",
    "        loss='sparse_categorical_crossentropy',\n",
    "        metrics=['accuracy'],\n",
    "        lr=0.01, clipnorm=1.)\n",
    "    base_model.fit(train_dataset, epochs=HPARAMS.train_epochs, verbose=0)\n",
    "    \n",
    "    return base_model"
   ]
  },
  {
   "cell_type": "markdown",
   "metadata": {},
   "source": [
    "### Function for training graph model"
   ]
  },
  {
   "cell_type": "code",
   "execution_count": 8,
   "metadata": {},
   "outputs": [],
   "source": [
    "def training_graph_model(train_dataset):\n",
    "    # Build a new base MLP model.\n",
    "    base_reg_model = functional_model(HPARAMS)\n",
    "    \n",
    "    # Wrap the base MLP model with graph regularization.\n",
    "    graph_reg_config = nsl.configs.make_graph_reg_config(\n",
    "        max_neighbors=HPARAMS.num_neighbors,\n",
    "        multiplier=HPARAMS.graph_regularization_multiplier,\n",
    "        distance_type=HPARAMS.distance_type,\n",
    "        sum_over_axis=-1)\n",
    "    graph_reg_model = nsl.keras.GraphRegularization(base_reg_model, graph_reg_config)\n",
    "    \n",
    "    graph_reg_model.compile(\n",
    "        optimizer='adam',\n",
    "        loss='sparse_categorical_crossentropy',\n",
    "        metrics=['accuracy'])\n",
    "    graph_reg_history = graph_reg_model.fit(train_dataset, epochs=HPARAMS.train_epochs, verbose=0)\n",
    "    \n",
    "    return graph_reg_model"
   ]
  },
  {
   "cell_type": "markdown",
   "metadata": {},
   "source": [
    "### Function for generating data"
   ]
  },
  {
   "cell_type": "code",
   "execution_count": 9,
   "metadata": {},
   "outputs": [],
   "source": [
    "def generateTrainingData(train_percent):\n",
    "    # getting the training percentages\n",
    "    !python preprocessing_terror_dataset_test.py \\\n",
    "    --input_content=/tmp/CustomTerroristRel/collected.nodes \\\n",
    "    --input_graph=/tmp/CustomTerroristRel/TerroristRel.edges \\\n",
    "    --max_nbrs=3 \\\n",
    "    --train_percentage=$train_percent\\\n",
    "    --output_train_data=/tmp/CustomTerroristRel/train_merged_examples.tfr \\\n",
    "    --output_test_data=/tmp/CustomTerroristRel/test_examples.tfr \\\n",
    "\n",
    "    # generating train and test data\n",
    "    train_dataset = make_dataset('/tmp/CustomTerroristRel/train_merged_examples.tfr', training=True)\n",
    "    test_dataset = make_dataset('/tmp/CustomTerroristRel/test_examples.tfr')\n",
    "    \n",
    "    return train_dataset, test_dataset"
   ]
  },
  {
   "cell_type": "markdown",
   "metadata": {},
   "source": [
    "### Iterating over different training sizes"
   ]
  },
  {
   "cell_type": "code",
   "execution_count": 10,
   "metadata": {},
   "outputs": [],
   "source": [
    "# defining the training size we need to iterate over\n",
    "train_percentage = []\n",
    "train_percentage.append(0.01) # starting the list at 1% of training data\n",
    "\n",
    "for i in np.arange(0.05, 0.9, 0.05):\n",
    "    train_percentage.append(round(i,2))"
   ]
  },
  {
   "cell_type": "code",
   "execution_count": 11,
   "metadata": {
    "scrolled": true
   },
   "outputs": [
    {
     "name": "stdout",
     "output_type": "stream",
     "text": [
      "Output removed to improve readability of the notebook."
     ]
    }
   ],
   "source": [
    "# lists for holding results\n",
    "graph_accuracy_by_training_size_avg = []\n",
    "base_accuracy_by_training_size_avg = []\n",
    "\n",
    "for j in range(5):\n",
    "    \n",
    "    print(\"----------------------------- iteration: \", j+1, \"------------------------\" )\n",
    "    base_model_results_list = []\n",
    "    graph_model_results_list = []\n",
    "\n",
    "    for i in range(len(train_percentage)):\n",
    "\n",
    "        print(\"---------------------training at percentage \", train_percentage[i], \"-----------------------------\")\n",
    "\n",
    "        # creating test and training data\n",
    "        train_dataset, test_dataset = generateTrainingData(train_percentage[i])\n",
    "\n",
    "        # creating and training the base model\n",
    "        base_model = traning_base_model(train_dataset)\n",
    "\n",
    "        # evaluate base model\n",
    "        eval_results = dict(\n",
    "        zip(base_model.metrics_names,\n",
    "            base_model.evaluate(test_dataset, steps=HPARAMS.eval_steps)))\n",
    "        print_metrics('Base MLP model', eval_results)\n",
    "\n",
    "        # adding results to a list\n",
    "        base_model_results_list.append(eval_results)\n",
    "\n",
    "\n",
    "        # creating and training the graph model\n",
    "        graph_model = training_graph_model(train_dataset)\n",
    "\n",
    "        # evaluating the model\n",
    "        eval_results_graph_regulated_model = dict(\n",
    "        zip(graph_model.metrics_names,\n",
    "            graph_model.evaluate(test_dataset, steps=HPARAMS.eval_steps)))\n",
    "        print_metrics('MLP + graph regularization', eval_results_graph_regulated_model)\n",
    "\n",
    "        # adding the graph results to a list \n",
    "        graph_model_results_list.append(eval_results_graph_regulated_model)\n",
    "\n",
    "    graph_accuracy_by_training_size_avg.append(graph_model_results_list)\n",
    "    base_accuracy_by_training_size_avg.append(base_model_results_list);\n"
   ]
  },
  {
   "cell_type": "markdown",
   "metadata": {},
   "source": [
    "# Taking a look at the reults\n",
    "\n",
    "Since we ran 5 iterations we first have to average the training accuracy at the different training sizes."
   ]
  },
  {
   "cell_type": "code",
   "execution_count": 12,
   "metadata": {},
   "outputs": [],
   "source": [
    "graph_avg_list = []\n",
    "base_avg_list = []\n",
    "\n",
    "for i in range(0,len(graph_accuracy_by_training_size_avg[0])):\n",
    "    tmp_avg_value = 0\n",
    "    for j in range(0,len(graph_accuracy_by_training_size_avg)):\n",
    "        tmp_avg_value += graph_accuracy_by_training_size_avg[j][i]['accuracy']\n",
    "    graph_avg_list.append(tmp_avg_value/5)\n",
    "    \n",
    "for i in range(0,len(base_accuracy_by_training_size_avg[0])):\n",
    "    tmp_avg_value = 0\n",
    "    for j in range(0,len(base_accuracy_by_training_size_avg)):\n",
    "        tmp_avg_value += base_accuracy_by_training_size_avg[j][i]['accuracy']\n",
    "    base_avg_list.append(tmp_avg_value/5)"
   ]
  },
  {
   "cell_type": "markdown",
   "metadata": {},
   "source": [
    "To get at better idea of the difference in learning at different training sizes we substract the two model preformances from each other.\n",
    "\n",
    "A postive value indicates a gain for the graph based model over the base model."
   ]
  },
  {
   "cell_type": "code",
   "execution_count": 13,
   "metadata": {},
   "outputs": [],
   "source": [
    "diff_graph_and_basemodel = []\n",
    "\n",
    "for i in range(len(base_avg_list)):\n",
    "    diff_graph_and_basemodel.append(graph_avg_list[i]- base_avg_list[i])\n",
    "\n",
    "collected_list = []\n",
    "collected_list.append(base_avg_list)\n",
    "collected_list.append(graph_avg_list)\n",
    "collected_list.append(diff_graph_and_basemodel)"
   ]
  },
  {
   "cell_type": "code",
   "execution_count": 14,
   "metadata": {},
   "outputs": [
    {
     "data": {
      "image/png": "[encoded data removed]",
      "text/plain": [
       "<Figure size 864x432 with 1 Axes>"
      ]
     },
     "metadata": {
      "needs_background": "light"
     },
     "output_type": "display_data"
    }
   ],
   "source": [
    "import numpy as np\n",
    "import matplotlib.pyplot as plt\n",
    "\n",
    "\n",
    "plt.figure(figsize=(12, 6))\n",
    "\n",
    "columns = train_percentage\n",
    "rows = ['base model', 'graph model', 'pref. diff.']\n",
    "\n",
    "colors = plt.cm.BuPu(np.linspace(0, 0.5, len(rows)))\n",
    "\n",
    "# Get some pastel shades for the colors\n",
    "n_rows = len(collected_list)\n",
    "\n",
    "# Initialize the vertical-offset for the stacked bar chart.\n",
    "y_offset = np.zeros(len(train_percentage))\n",
    "\n",
    "# Plot bars and create text labels for the table\n",
    "cell_text = []\n",
    "for row in range(n_rows):\n",
    "    y_offset = collected_list[row]\n",
    "    cell_text.append(['%1.3f' % x for x in y_offset])\n",
    "\n",
    "# Add a table at the bottom of the axes\n",
    "table = plt.table(cellText=cell_text,\n",
    "                      rowLabels=rows,\n",
    "                      colLabels=columns,\n",
    "                      rowColours=['#5b9ac4', '#fd8e39', '#ffffff'],\n",
    "                      loc='bottom')\n",
    "\n",
    "table.set_fontsize(14)\n",
    "\n",
    "# table.auto_set_font_size(False)\n",
    "table.set_fontsize(14)\n",
    "table.scale(1, 1.7)\n",
    "# Adjust layout to make room for the table:\n",
    "plt.subplots_adjust(left=0.2, bottom=0.2)\n",
    "\n",
    "\n",
    "# plt.plot(graph_collected)\n",
    "plt.plot(base_avg_list)\n",
    "plt.plot(graph_avg_list)\n",
    "\n",
    "# plt.ylabel(\"Loss in ${0}'s\".format(value_increment))\n",
    "# plt.yticks(values * value_increment, ['%d' % val for val in values])\n",
    "plt.xticks([])\n",
    "plt.title('Comparison between base and graph model accuracy')\n",
    "plt.ylabel('accuracy')\n",
    "# plt.xlabel('training size')\n",
    "plt.annotate('training size', xy=(1,0), xytext=(-669, -3), ha='left', va='top',\n",
    "            xycoords='axes fraction', textcoords='offset points')\n",
    "plt.legend(['base model', 'graph reg model'], loc='upper left')\n",
    "plt.savefig('plots/comparison between base and graph model with different training sizes AVG w. table.png', bbox_inches='tight', pad_inches=0)\n",
    "\n",
    "plt.show()"
   ]
  }
 ],
 "metadata": {
  "kernelspec": {
   "display_name": "Python 3",
   "language": "python",
   "name": "python3"
  },
  "language_info": {
   "codemirror_mode": {
    "name": "ipython",
    "version": 3
   },
   "file_extension": ".py",
   "mimetype": "text/x-python",
   "name": "python",
   "nbconvert_exporter": "python",
   "pygments_lexer": "ipython3",
   "version": "3.7.3"
  }
 },
 "nbformat": 4,
 "nbformat_minor": 2
}
