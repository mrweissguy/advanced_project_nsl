{
 "cells": [
  {
   "cell_type": "markdown",
   "metadata": {},
   "source": [
    "# Preprocessing of data\n",
    "\n",
    "In this notebook the terrorist attack data describing terrorist attacks is preprocessed before running it through deep learning models to conduct experiments.\n",
    "\n",
    "Following steps is preformed:\n",
    "* fdsa\n",
    "* dfsa\n",
    "* fdsa\n"
   ]
  },
  {
   "cell_type": "code",
   "execution_count": 16,
   "metadata": {},
   "outputs": [],
   "source": [
    "import csv\n",
    "import pandas as pd\n",
    "import matplotlib.pyplot as plt\n",
    "import seaborn as sns\n",
    "pd.set_option('display.expand_frame_repr', False)"
   ]
  },
  {
   "cell_type": "markdown",
   "metadata": {},
   "source": [
    "Opening the files"
   ]
  },
  {
   "cell_type": "code",
   "execution_count": 17,
   "metadata": {},
   "outputs": [],
   "source": [
    "terrorist_attack_loc = pd.read_csv(\"TerrorAttack/terrorist_attack_loc.edges\", sep=\" \", header=None)\n",
    "terrorist_attack_loc_org = pd.read_csv(\"TerrorAttack/terrorist_attack_loc_org.edges\", sep=\" \", header=None)\n",
    "terrorist_attack_nodes = pd.read_csv(\"TerrorAttack/terrorist_attack.nodes\", sep=\"\t\", header=None)"
   ]
  },
  {
   "cell_type": "markdown",
   "metadata": {},
   "source": [
    "Dividing the strings by the #"
   ]
  },
  {
   "cell_type": "code",
   "execution_count": 18,
   "metadata": {},
   "outputs": [],
   "source": [
    "terrorist_attack_loc[0] = terrorist_attack_loc[0].str.split(\"#\", n = 1, expand = True)[1]\n",
    "terrorist_attack_loc[1] = terrorist_attack_loc[1].str.split(\"#\", n = 1, expand = True)[1]"
   ]
  },
  {
   "cell_type": "code",
   "execution_count": 19,
   "metadata": {},
   "outputs": [],
   "source": [
    "terrorist_attack_loc_org[0] = terrorist_attack_loc_org[0].str.split(\"#\", n = 1, expand = True)[1]\n",
    "terrorist_attack_loc_org[1] = terrorist_attack_loc_org[1].str.split(\"#\", n = 1, expand = True)[1]"
   ]
  },
  {
   "cell_type": "code",
   "execution_count": 21,
   "metadata": {},
   "outputs": [],
   "source": [
    "terrorist_attack_nodes[0] = terrorist_attack_nodes[0].str.split(\"#\", n = 1, expand = True)[1]\n",
    "terrorist_attack_nodes[107] = terrorist_attack_nodes[107].str.split(\"#\", n = 1, expand = True)[1]"
   ]
  },
  {
   "cell_type": "markdown",
   "metadata": {},
   "source": [
    "Saving the new files"
   ]
  },
  {
   "cell_type": "code",
   "execution_count": 23,
   "metadata": {},
   "outputs": [],
   "source": [
    "terrorist_attack_nodes.to_csv('TerrorAttackNew/terrorist_attack.nodes', sep=\"\\t\", header = False, index=False)\n",
    "terrorist_attack_loc.to_csv('TerrorAttackNew/terrorist_attack_loc.edges', sep=\"\\t\", header = False, index=False)\n",
    "terrorist_attack_loc_org = pd.read_csv(\"TerrorAttackNew/terrorist_attack.nodes\", sep=\"\\t\")"
   ]
  },
  {
   "cell_type": "code",
   "execution_count": null,
   "metadata": {},
   "outputs": [],
   "source": []
  }
 ],
 "metadata": {
  "kernelspec": {
   "display_name": "Python 3",
   "language": "python",
   "name": "python3"
  },
  "language_info": {
   "codemirror_mode": {
    "name": "ipython",
    "version": 3
   },
   "file_extension": ".py",
   "mimetype": "text/x-python",
   "name": "python",
   "nbconvert_exporter": "python",
   "pygments_lexer": "ipython3",
   "version": "3.7.3"
  }
 },
 "nbformat": 4,
 "nbformat_minor": 2
}
