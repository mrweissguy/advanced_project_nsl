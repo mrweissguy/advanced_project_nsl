{
 "cells": [
  {
   "cell_type": "markdown",
   "metadata": {},
   "source": [
    "# Grakn Terrorist Network\n",
    "\n",
    "Grakn is an open-source knowledge base for creating and storing ontologies. It is considered AI on its own as it can be used to infer information from relationships and thus discover new insights. However, traditional machine learning algorithms or deep neural networks cannot be created for the data while it is situated in Grakn. The data must be exported before this can be done. \n",
    "\n",
    "The reason for involving Grakn in this project is to exemplify what a full pipeline might look like in a real-life scenario. Firms might host their data in a database, e.g. Grakn, and want to built a state-of-the-art machine learning algorithm around their data for a number of reasons. One could be to execute on a strategic transformation goal of becoming more data-driven.\n",
    "\n",
    "A [simple version](https://github.com/sinyil/ntds_2018_Final_Project/tree/master/CSV%20Files) of Dataset 1 (Terrorist relations) is used is this only example of Grakn usage.\n",
    "\n",
    "\n",
    "## References\n",
    "\n",
    "- https://grakn.ai"
   ]
  },
  {
   "cell_type": "markdown",
   "metadata": {},
   "source": [
    "## Creating the Grakn keyspace"
   ]
  },
  {
   "cell_type": "code",
   "execution_count": 21,
   "metadata": {},
   "outputs": [
    {
     "name": "stdout",
     "output_type": "stream",
     "text": [
      "Storage: NOT RUNNING\r\n",
      "Grakn Core Server: NOT RUNNING\r\n"
     ]
    }
   ],
   "source": [
    "!grakn server status"
   ]
  },
  {
   "cell_type": "code",
   "execution_count": 26,
   "metadata": {},
   "outputs": [
    {
     "name": "stdout",
     "output_type": "stream",
     "text": [
      "Starting Storage......SUCCESS\n",
      "Starting Grakn Core Server.....SUCCESS\n"
     ]
    }
   ],
   "source": [
    "!grakn server start"
   ]
  },
  {
   "cell_type": "code",
   "execution_count": 27,
   "metadata": {},
   "outputs": [
    {
     "name": "stdout",
     "output_type": "stream",
     "text": [
      "Storage: RUNNING\r\n",
      "Grakn Core Server: RUNNING\r\n"
     ]
    }
   ],
   "source": [
    "!grakn server status"
   ]
  },
  {
   "cell_type": "code",
   "execution_count": 28,
   "metadata": {},
   "outputs": [
    {
     "name": "stdout",
     "output_type": "stream",
     "text": [
      "Loading: grakn-terrorist-schema.gql\n",
      "...\n",
      "{}\n",
      "Successful commit: grakn-terrorist-schema.gql\n"
     ]
    }
   ],
   "source": [
    "# create keyspace\n",
    "!grakn console -k terrorist_network -f grakn-terrorist-schema.gql"
   ]
  },
  {
   "cell_type": "markdown",
   "metadata": {},
   "source": [
    "## Migrating data to the keyspace"
   ]
  },
  {
   "cell_type": "code",
   "execution_count": 29,
   "metadata": {
    "scrolled": false
   },
   "outputs": [
    {
     "name": "stdout",
     "output_type": "stream",
     "text": [
      "Loading from [/Users/aleksanderfrese/Google Drive/DTU/3rd semester/02830 Advanced Project in Digital Media Engineering/[Group Folder] 02830 Advanced Project in Digital Media Engineering/Grakn/Github/CsvFiles/nodes_geo_graph] into Grakn ...\n",
      "Executing Graql Query: insert $person isa person, has tID \"0\", has name \"Abdel_Qader_Mahmoud_Es_Sayed\", has nationality \"Egyptian\", has affiliation \"Al-Qaeda\";\n",
      "Executing Graql Query: insert $person isa person, has tID \"1\", has name \"Abderraouf_Hannachi\", has nationality \"Algerian\", has affiliation \"Al-Qaeda\";\n",
      "Executing Graql Query: insert $person isa person, has tID \"3\", has name \"Ahmed_Said_Khadr\", has nationality \"Egyptian\", has affiliation \"Al-Qaeda\";\n",
      "Executing Graql Query: insert $person isa person, has tID \"9\", has name \"Habib_Zacarias_Moussaoui\", has nationality \"French\", has affiliation \"Al-Qaeda\";\n",
      "Executing Graql Query: insert $person isa person, has tID \"11\", has name \"Imad_Edin_Barakat_Yarkas\", has nationality \"Syrian\", has affiliation \"Al-Qaeda\";\n",
      "Executing Graql Query: insert $person isa person, has tID \"16\", has name \"Mamdouh_Mahmud_Salim\", has nationality \"Iraqi\", has affiliation \"Al-Qaeda\";\n",
      "Executing Graql Query: insert $person isa person, has tID \"17\", has name \"Mohammed_el-Amir_Awad_el-Sayed_Atta\", has nationality \"Egyptian\", has affiliation \"Al-Qaeda\";\n",
      "Executing Graql Query: insert $person isa person, has tID \"19\", has name \"Mustafa_Ahmed_al-Hawsawi\", has nationality \"Saudi\", has affiliation \"Al-Qaeda\";\n",
      "Executing Graql Query: insert $person isa person, has tID \"23\", has name \"Omar_Mahmoud_Othman\", has nationality \"Jordanian\", has affiliation \"Al-Qaeda\";\n",
      "Executing Graql Query: insert $person isa person, has tID \"26\", has name \"Raeed_Hijazi\", has nationality \"American\", has affiliation \"Al-Qaeda\";\n",
      "Executing Graql Query: insert $person isa person, has tID \"27\", has name \"Ramzi_Mohd_Abdullah_bin_al-Shibh\", has nationality \"Yemeni\", has affiliation \"Al-Qaeda\";\n",
      "Executing Graql Query: insert $person isa person, has tID \"28\", has name \"Richard_Colvin_Reid\", has nationality \"British\", has affiliation \"Al-Qaeda\";\n",
      "Executing Graql Query: insert $person isa person, has tID \"33\", has name \"Wadih_el-Hage\", has nationality \"American\", has affiliation \"Al-Qaeda\";\n",
      "Executing Graql Query: insert $person isa person, has tID \"34\", has name \"Waleed_Mohd_Tawfiq_bin_Attash\", has nationality \"Yemeni\", has affiliation \"Al-Qaeda\";\n",
      "Executing Graql Query: insert $person isa person, has tID \"35\", has name \"Wali_Khan_Amin_Shah\", has nationality \"Turkmen\", has affiliation \"Al-Qaeda\";\n",
      "Executing Graql Query: insert $person isa person, has tID \"38\", has name \"AhmedRessam\", has nationality \"Algerian\", has affiliation \"Al-Qaeda\";\n",
      "Executing Graql Query: insert $person isa person, has tID \"39\", has name \"OBL\", has nationality \"Saudi\", has affiliation \"Al-Qaeda\";\n",
      "Executing Graql Query: insert $person isa person, has tID \"45\", has name \"KSM\", has nationality \"Pakistani\", has affiliation \"Al-Qaeda\";\n",
      "Executing Graql Query: insert $person isa person, has tID \"47\", has name \"abu_Faraj_al-Libbi\", has nationality \"Libyan\", has affiliation \"Al-Qaeda\";\n",
      "Executing Graql Query: insert $person isa person, has tID \"63\", has name \"Saif_Aldin_Mustafa_Nuaimi\", has nationality \"Iraqi\", has affiliation \"Al-Qaeda\";\n",
      "Executing Graql Query: insert $person isa person, has tID \"65\", has name \"Hasib_Mir_Hussain\", has nationality \"British\", has affiliation \"Al-Qaeda\";\n",
      "Executing Graql Query: insert $person isa person, has tID \"66\", has name \"Shehzad_Tanweer\", has nationality \"British\", has affiliation \"Al-Qaeda\";\n",
      "Executing Graql Query: insert $person isa person, has tID \"67\", has name \"Mohammad_Sidique_Khan\", has nationality \"British\", has affiliation \"Al-Qaeda\";\n",
      "Executing Graql Query: insert $person isa person, has tID \"68\", has name \"Germaine_Lindsay\", has nationality \"British\", has affiliation \"Al-Qaeda\";\n",
      "Executing Graql Query: insert $person isa person, has tID \"70\", has name \"Abu_Khaled\", has nationality \"Syrian\", has affiliation \"Al-Qaeda\";\n",
      "Executing Graql Query: insert $person isa person, has tID \"212\", has name \"Rahman\", has nationality \"Libyan\", has affiliation \"Al-Qaeda\";\n",
      "Executing Graql Query: insert $person isa person, has tID \"213\", has name \"Zawahiri\", has nationality \"Egyptian\", has affiliation \"Al-Qaeda\";\n",
      "Executing Graql Query: insert $person isa person, has tID \"214\", has name \"IHBerro\", has nationality \"Lebanese\", has affiliation \"Hezbollah\";\n",
      "Executing Graql Query: insert $person isa person, has tID \"225\", has name \"KhaledMashal\", has nationality \"Jordanian\", has affiliation \"Hamas \";\n",
      "Executing Graql Query: insert $person isa person, has tID \"227\", has name \"HassanNasrallah\", has nationality \"Lebanese\", has affiliation \"Hezbollah\";\n",
      "Executing Graql Query: insert $person isa person, has tID \"231\", has name \"UmarBaziyani\", has nationality \"Iraqi\", has affiliation \"Al-Qaeda\";\n",
      "Executing Graql Query: insert $person isa person, has tID \"232\", has name \"Zarqawi\", has nationality \"Jordanian\", has affiliation \"Al-Qaeda\";\n",
      "\n",
      "Inserted 32 items from [ /Users/aleksanderfrese/Google Drive/DTU/3rd semester/02830 Advanced Project in Digital Media Engineering/[Group Folder] 02830 Advanced Project in Digital Media Engineering/Grakn/Github/CsvFiles/nodes_geo_graph] into Grakn.\n",
      "\n",
      "Loading from [/Users/aleksanderfrese/Google Drive/DTU/3rd semester/02830 Advanced Project in Digital Media Engineering/[Group Folder] 02830 Advanced Project in Digital Media Engineering/Grakn/Github/CsvFiles/edges_geograph_dual_graph] into Grakn ...\n",
      "Executing Graql Query: match $source isa person, has tID \"231\"; $target isa person, has tID \"63\"; insert $relation(colleague: $source, colleague: $target) isa Organisation; $relation has rel_url \"http://profilesinterror.mindswap.org/document/5#UmarBaziyani_http://profilesinterror.mindswap.org/document/2005/06/20/18:06:15#Saif_Aldin_Mustafa_Nuaimi\";\n",
      "Executing Graql Query: match $source isa person, has tID \"213\"; $target isa person, has tID \"39\"; insert $relation(colleague: $source, colleague: $target) isa Organisation; $relation has rel_url \"http://profilesinterror.mindswap.org/document/22#Zawahiri_http://profilesinterror.mindswap.org/document/11#OBL\";\n",
      "Executing Graql Query: match $source isa person, has tID \"47\"; $target isa person, has tID \"213\"; insert $relation(colleague: $source, colleague: $target) isa Organisation; $relation has rel_url \"http://profilesinterror.mindswap.org/document/2005/05/12/18:58:57#abu_Faraj_al-Libbi_http://profilesinterror.mindswap.org/document/22#Zawahiri\";\n",
      "Executing Graql Query: match $source isa person, has tID \"47\"; $target isa person, has tID \"45\"; insert $relation(colleague: $source, colleague: $target) isa Organisation; $relation has rel_url \"http://profilesinterror.mindswap.org/document/2005/05/12/18:58:57#abu_Faraj_al-Libbi_http://profilesinterror.mindswap.org/document/2005/04/29/17:18:47#KSM\";\n",
      "Executing Graql Query: match $source isa person, has tID \"3\"; $target isa person, has tID \"33\"; insert $relation(colleague: $source, colleague: $target) isa Organisation; $relation has rel_url \"http://counterterror.mindswap.org/2005/terrorists.owl#Ahmed_Said_Khadr_http://counterterror.mindswap.org/2005/terrorists.owl#Wadih_el-Hage\";\n",
      "Executing Graql Query: match $source isa person, has tID \"19\"; $target isa person, has tID \"33\"; insert $relation(colleague: $source, colleague: $target) isa Organisation; $relation has rel_url \"http://counterterror.mindswap.org/2005/terrorists.owl#Mustafa_Ahmed_al-Hawsawi_http://counterterror.mindswap.org/2005/terrorists.owl#Wadih_el-Hage\";\n",
      "Executing Graql Query: match $source isa person, has tID \"16\"; $target isa person, has tID \"19\"; insert $relation(colleague: $source, colleague: $target) isa Organisation; $relation has rel_url \"http://counterterror.mindswap.org/2005/terrorists.owl#Mamdouh_Mahmud_Salim_http://counterterror.mindswap.org/2005/terrorists.owl#Mustafa_Ahmed_al-Hawsawi\";\n",
      "Executing Graql Query: match $source isa person, has tID \"213\"; $target isa person, has tID \"212\"; insert $relation(contactor: $source, contactee: $target) isa Contact; $relation has rel_url \"http://profilesinterror.mindswap.org/document/22#Zawahiri_http://profilesinterror.mindswap.org/document/22#Rahman\";\n"
     ]
    },
    {
     "name": "stdout",
     "output_type": "stream",
     "text": [
      "Executing Graql Query: match $source isa person, has tID \"0\"; $target isa person, has tID \"213\"; insert $relation(contactor: $source, contactee: $target) isa Contact; $relation has rel_url \"http://counterterror.mindswap.org/2005/terrorists.owl#Abdel_Qader_Mahmoud_Es_Sayed_http://profilesinterror.mindswap.org/document/22#Zawahiri\";\n",
      "Executing Graql Query: match $source isa person, has tID \"17\"; $target isa person, has tID \"11\"; insert $relation(contactor: $source, contactee: $target) isa Contact; $relation has rel_url \"http://counterterror.mindswap.org/2005/terrorists.owl#Mohammed_el-Amir_Awad_el-Sayed_Atta_http://counterterror.mindswap.org/2005/terrorists.owl#Imad_Edin_Barakat_Yarkas\";\n",
      "Executing Graql Query: match $source isa person, has tID \"65\"; $target isa person, has tID \"67\"; insert $relation(contactor: $source, contactee: $target) isa Contact; $relation has rel_url \"http://profilesinterror.mindswap.org/document/2005/07/26/23:58:29#Hasib_Mir_Hussain_http://profilesinterror.mindswap.org/document/2005/07/28/15:59:18#Mohammad_Sidique_Khan\";\n",
      "Executing Graql Query: match $source isa person, has tID \"65\"; $target isa person, has tID \"68\"; insert $relation(contactor: $source, contactee: $target) isa Contact; $relation has rel_url \"http://profilesinterror.mindswap.org/document/2005/07/26/23:58:29#Hasib_Mir_Hussain_http://profilesinterror.mindswap.org/document/2005/07/28/16:02:44#Germaine_Lindsay\";\n",
      "Executing Graql Query: match $source isa person, has tID \"11\"; $target isa person, has tID \"23\"; insert $relation(contactor: $source, contactee: $target) isa Contact; $relation has rel_url \"http://counterterror.mindswap.org/2005/terrorists.owl#Imad_Edin_Barakat_Yarkas_http://counterterror.mindswap.org/2005/terrorists.owl#Omar_Mahmoud_Othman\";\n",
      "Executing Graql Query: match $source isa person, has tID \"9\"; $target isa person, has tID \"67\"; insert $relation(participant: $source, participant: $target) isa Congregation; $relation has rel_url \"http://counterterror.mindswap.org/2005/terrorists.owl#Habib_Zacarias_Moussaoui_http://profilesinterror.mindswap.org/document/2005/07/28/15:59:18#Mohammad_Sidique_Khan\";\n",
      "Executing Graql Query: match $source isa person, has tID \"28\"; $target isa person, has tID \"67\"; insert $relation(participant: $source, participant: $target) isa Congregation; $relation has rel_url \"http://counterterror.mindswap.org/2005/terrorists.owl#Richard_Colvin_Reid_http://profilesinterror.mindswap.org/document/2005/07/28/15:59:18#Mohammad_Sidique_Khan\";\n",
      "Executing Graql Query: match $source isa person, has tID \"68\"; $target isa person, has tID \"9\"; insert $relation(participant: $source, participant: $target) isa Congregation; $relation has rel_url \"http://profilesinterror.mindswap.org/document/2005/07/28/16:02:44#Germaine_Lindsay_http://counterterror.mindswap.org/2005/terrorists.owl#Habib_Zacarias_Moussaoui\";\n",
      "Executing Graql Query: match $source isa person, has tID \"28\"; $target isa person, has tID \"9\"; insert $relation(participant: $source, participant: $target) isa Congregation; $relation has rel_url \"http://counterterror.mindswap.org/2005/terrorists.owl#Richard_Colvin_Reid_http://counterterror.mindswap.org/2005/terrorists.owl#Habib_Zacarias_Moussaoui\";\n",
      "Executing Graql Query: match $source isa person, has tID \"232\"; $target isa person, has tID \"63\"; insert $relation(colleague: $source, colleague: $target) isa Organisation; $relation has rel_url \"http://profilesinterror.mindswap.org/document/5#Zarqawi_http://profilesinterror.mindswap.org/document/2005/06/20/18:06:15#Saif_Aldin_Mustafa_Nuaimi\";\n",
      "Executing Graql Query: match $source isa person, has tID \"231\"; $target isa person, has tID \"232\"; insert $relation(colleague: $source, colleague: $target) isa Organisation; $relation has rel_url \"http://profilesinterror.mindswap.org/document/5#UmarBaziyani_http://profilesinterror.mindswap.org/document/5#Zarqawi\";\n",
      "Executing Graql Query: match $source isa person, has tID \"45\"; $target isa person, has tID \"39\"; insert $relation(colleague: $source, colleague: $target) isa Organisation; $relation has rel_url \"http://profilesinterror.mindswap.org/document/2005/04/29/17:18:47#KSM_http://profilesinterror.mindswap.org/document/11#OBL\";\n",
      "Executing Graql Query: match $source isa person, has tID \"47\"; $target isa person, has tID \"39\"; insert $relation(colleague: $source, colleague: $target) isa Organisation; $relation has rel_url \"http://profilesinterror.mindswap.org/document/2005/05/12/18:58:57#abu_Faraj_al-Libbi_http://profilesinterror.mindswap.org/document/11#OBL\";\n",
      "Executing Graql Query: match $source isa person, has tID \"45\"; $target isa person, has tID \"213\"; insert $relation(colleague: $source, colleague: $target) isa Organisation; $relation has rel_url \"http://profilesinterror.mindswap.org/document/2005/04/29/17:18:47#KSM_http://profilesinterror.mindswap.org/document/22#Zawahiri\";\n",
      "Executing Graql Query: match $source isa person, has tID \"16\"; $target isa person, has tID \"33\"; insert $relation(colleague: $source, colleague: $target) isa Organisation; $relation has rel_url \"http://counterterror.mindswap.org/2005/terrorists.owl#Mamdouh_Mahmud_Salim_http://counterterror.mindswap.org/2005/terrorists.owl#Wadih_el-Hage\";\n",
      "Executing Graql Query: match $source isa person, has tID \"35\"; $target isa person, has tID \"34\"; insert $relation(colleague: $source, colleague: $target) isa Organisation; $relation has rel_url \"http://counterterror.mindswap.org/2005/terrorists.owl#Wali_Khan_Amin_Shah_http://counterterror.mindswap.org/2005/terrorists.owl#Waleed_Mohd_Tawfiq_bin_Attash\";\n",
      "Executing Graql Query: match $source isa person, has tID \"16\"; $target isa person, has tID \"3\"; insert $relation(colleague: $source, colleague: $target) isa Organisation; $relation has rel_url \"http://counterterror.mindswap.org/2005/terrorists.owl#Mamdouh_Mahmud_Salim_http://counterterror.mindswap.org/2005/terrorists.owl#Ahmed_Said_Khadr\";\n",
      "Executing Graql Query: match $source isa person, has tID \"19\"; $target isa person, has tID \"3\"; insert $relation(colleague: $source, colleague: $target) isa Organisation; $relation has rel_url \"http://counterterror.mindswap.org/2005/terrorists.owl#Mustafa_Ahmed_al-Hawsawi_http://counterterror.mindswap.org/2005/terrorists.owl#Ahmed_Said_Khadr\";\n",
      "Executing Graql Query: match $source isa person, has tID \"23\"; $target isa person, has tID \"232\"; insert $relation(contactor: $source, contactee: $target) isa Contact; $relation has rel_url \"http://counterterror.mindswap.org/2005/terrorists.owl#Omar_Mahmoud_Othman_http://profilesinterror.mindswap.org/document/5#Zarqawi\";\n",
      "Executing Graql Query: match $source isa person, has tID \"225\"; $target isa person, has tID \"227\"; insert $relation(contactor: $source, contactee: $target) isa Contact; $relation has rel_url \"http://profilesinterror.mindswap.org/document/30#KhaledMashal_http://profilesinterror.mindswap.org/document/34#HassanNasrallah\";\n",
      "Executing Graql Query: match $source isa person, has tID \"39\"; $target isa person, has tID \"213\"; insert $relation(contactor: $source, contactee: $target) isa Contact; $relation has rel_url \"http://profilesinterror.mindswap.org/document/11#OBL_http://profilesinterror.mindswap.org/document/22#Zawahiri\";\n",
      "Executing Graql Query: match $source isa person, has tID \"66\"; $target isa person, has tID \"67\"; insert $relation(contactor: $source, contactee: $target) isa Contact; $relation has rel_url \"http://profilesinterror.mindswap.org/document/2005/07/28/15:52:19#Shehzad_Tanweer_http://profilesinterror.mindswap.org/document/2005/07/28/15:59:18#Mohammad_Sidique_Khan\";\n",
      "Executing Graql Query: match $source isa person, has tID \"66\"; $target isa person, has tID \"68\"; insert $relation(contactor: $source, contactee: $target) isa Contact; $relation has rel_url \"http://profilesinterror.mindswap.org/document/2005/07/28/15:52:19#Shehzad_Tanweer_http://profilesinterror.mindswap.org/document/2005/07/28/16:02:44#Germaine_Lindsay\";\n",
      "Executing Graql Query: match $source isa person, has tID \"65\"; $target isa person, has tID \"66\"; insert $relation(contactor: $source, contactee: $target) isa Contact; $relation has rel_url \"http://profilesinterror.mindswap.org/document/2005/07/26/23:58:29#Hasib_Mir_Hussain_http://profilesinterror.mindswap.org/document/2005/07/28/15:52:19#Shehzad_Tanweer\";\n"
     ]
    },
    {
     "name": "stdout",
     "output_type": "stream",
     "text": [
      "Executing Graql Query: match $source isa person, has tID \"27\"; $target isa person, has tID \"26\"; insert $relation(contactor: $source, contactee: $target) isa Contact; $relation has rel_url \"http://counterterror.mindswap.org/2005/terrorists.owl#Ramzi_Mohd_Abdullah_bin_al-Shibh_http://counterterror.mindswap.org/2005/terrorists.owl#Raeed_Hijazi\";\n",
      "Executing Graql Query: match $source isa person, has tID \"68\"; $target isa person, has tID \"28\"; insert $relation(participant: $source, participant: $target) isa Congregation; $relation has rel_url \"http://profilesinterror.mindswap.org/document/2005/07/28/16:02:44#Germaine_Lindsay_http://counterterror.mindswap.org/2005/terrorists.owl#Richard_Colvin_Reid\";\n",
      "\n",
      "Inserted 34 items from [ /Users/aleksanderfrese/Google Drive/DTU/3rd semester/02830 Advanced Project in Digital Media Engineering/[Group Folder] 02830 Advanced Project in Digital Media Engineering/Grakn/Github/CsvFiles/edges_geograph_dual_graph] into Grakn.\n",
      "\n"
     ]
    }
   ],
   "source": [
    "!python3 grakn-migrate-full.py"
   ]
  },
  {
   "cell_type": "markdown",
   "metadata": {},
   "source": [
    "At this point one can explore the data in Grakn either with the [Grakn Workbase UI](https://grakn.ai/grakn-kgms) or with the Grakn query language Graql. Below are two screenshots of exploring the terrorist data with the Workbase UI."
   ]
  },
  {
   "cell_type": "markdown",
   "metadata": {},
   "source": [
    "<img src=\"./resources/grakn1.png\">\n",
    "\n",
    "This screenshot shows how people can be grouped by attribute. In this case the terrorists are grouped by affiliation, which provides an easy and quick overview of the relationship between the individuals and organisations. Notice the short Graql code at the top."
   ]
  },
  {
   "cell_type": "markdown",
   "metadata": {},
   "source": [
    "<img src=\"./resources/grakn2.png\">\n",
    "\n",
    "This screenshot shows a different grouping by attribute. Here, individuals are grouped together based on their nationality."
   ]
  },
  {
   "cell_type": "markdown",
   "metadata": {},
   "source": [
    "## Exporting data from Grakn to CSV files\n",
    "The idea is that the exported data will then feed into a machine learning algorithm outside of the Grakn environment. Further preprocessing of the exported data may be required before applying it."
   ]
  },
  {
   "cell_type": "code",
   "execution_count": 30,
   "metadata": {},
   "outputs": [
    {
     "name": "stdout",
     "output_type": "stream",
     "text": [
      "Successfully exported 32 entities\n",
      "Successfully exported 34 relations\n"
     ]
    }
   ],
   "source": [
    "!python3 grakn-export-full.py"
   ]
  },
  {
   "cell_type": "markdown",
   "metadata": {},
   "source": [
    "## Deleting data from Grakn\n",
    "**NB! Only execute this if you actually want to delete data from the keyspace!**"
   ]
  },
  {
   "cell_type": "code",
   "execution_count": 31,
   "metadata": {},
   "outputs": [
    {
     "name": "stdout",
     "output_type": "stream",
     "text": [
      "Deleted entities\n",
      "Deleted relations\n"
     ]
    }
   ],
   "source": [
    "!python3 grakn-delete-full.py"
   ]
  },
  {
   "cell_type": "markdown",
   "metadata": {},
   "source": [
    "## Deleting the keyspace from Grakn\n",
    "**NB! Only execute this if you actually want to delete the terrorist keyspace from Grakn!**"
   ]
  },
  {
   "cell_type": "code",
   "execution_count": null,
   "metadata": {},
   "outputs": [],
   "source": [
    "!pip3 install grakn-client"
   ]
  },
  {
   "cell_type": "code",
   "execution_count": 32,
   "metadata": {},
   "outputs": [
    {
     "name": "stdout",
     "output_type": "stream",
     "text": [
      "keyspaces before deletion: ['phone_calls', 'tube_network', 'terrorist_network2', 'social_network', 'grakn', 'terrorist_network']\n",
      "keyspaces after deletion: ['phone_calls', 'tube_network', 'terrorist_network2', 'social_network', 'grakn']\n"
     ]
    }
   ],
   "source": [
    "from grakn.client import GraknClient\n",
    "\n",
    "with GraknClient(uri=\"localhost:48555\") as client:\n",
    "    keyspaces = client.keyspaces().retrieve()\n",
    "    print('keyspaces before deletion:', keyspaces)\n",
    "    client.keyspaces().delete('terrorist_network')\n",
    "    keyspaces = client.keyspaces().retrieve()\n",
    "    print('keyspaces after deletion:', keyspaces)"
   ]
  }
 ],
 "metadata": {
  "kernelspec": {
   "display_name": "Python 3",
   "language": "python",
   "name": "python3"
  },
  "language_info": {
   "codemirror_mode": {
    "name": "ipython",
    "version": 3
   },
   "file_extension": ".py",
   "mimetype": "text/x-python",
   "name": "python",
   "nbconvert_exporter": "python",
   "pygments_lexer": "ipython3",
   "version": "3.7.1"
  }
 },
 "nbformat": 4,
 "nbformat_minor": 2
}
